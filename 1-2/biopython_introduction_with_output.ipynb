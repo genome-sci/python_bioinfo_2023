{
 "cells": [
  {
   "cell_type": "markdown",
   "metadata": {},
   "source": [
    "##  はじめに"
   ]
  },
  {
   "cell_type": "markdown",
   "metadata": {},
   "source": [
    "### 講義内容\n",
    "- クラスを利用したプログラミング  \n",
    "- 塩基/アミノ酸配列データの扱い方 (Biopythonの利用)  \n",
    "\n",
    "### 対象\n",
    "- 塩基/アミノ酸配列データやアノテーションデータを取り扱う人\n",
    "- 初級レベル (Pythonの基本プログラミングは理解できている人)\n",
    "\n",
    "サンプルデータとして、https://www.ncbi.nlm.nih.gov/assembly/GCF_000146045.2 から取得した出芽酵母 Saccharomyces cerevisiae S288C のゲノム塩基配列（FASTA形式）と遺伝子アノテーションを含んだファイル（GenBank形式およびGFF形式）を用いる。"
   ]
  },
  {
   "cell_type": "markdown",
   "metadata": {},
   "source": [
    "Biopythonを使用するので、\n",
    "```\n",
    "pip install biopython\n",
    "```\n",
    "または、condaを使用している場合には\n",
    "```\n",
    "conda install biopython\n",
    "```\n",
    "でインストールしておく必要がある。"
   ]
  },
  {
   "cell_type": "markdown",
   "metadata": {},
   "source": [
    "# クラスの利用"
   ]
  },
  {
   "cell_type": "markdown",
   "metadata": {},
   "source": [
    "## クラスとオブジェクト"
   ]
  },
  {
   "cell_type": "markdown",
   "metadata": {},
   "source": [
    "- __オブジェクト__  \n",
    "  Pythonプログラムの中で扱われる文字列や数値、あるいはリストや辞書といったデータ  \n",
    "  関数もオブジェクトの一つとして扱われる\n",
    "\n",
    "Pythonプログラムの中で扱われるさまざまな「モノ」に対しての総称が「オブジェクト」といえる。"
   ]
  },
  {
   "cell_type": "markdown",
   "metadata": {},
   "source": [
    "オブジェクトにはデータの種類に応じて「型」があり、type関数を使用することでオブジェクトがどのような「型」に属するか確認できる。"
   ]
  },
  {
   "cell_type": "code",
   "execution_count": 1,
   "metadata": {},
   "outputs": [
    {
     "data": {
      "text/plain": [
       "int"
      ]
     },
     "execution_count": 1,
     "metadata": {},
     "output_type": "execute_result"
    }
   ],
   "source": [
    "type(10)"
   ]
  },
  {
   "cell_type": "code",
   "execution_count": 2,
   "metadata": {
    "scrolled": true
   },
   "outputs": [
    {
     "data": {
      "text/plain": [
       "str"
      ]
     },
     "execution_count": 2,
     "metadata": {},
     "output_type": "execute_result"
    }
   ],
   "source": [
    "my_str = \"Hello world\"\n",
    "type(my_str)"
   ]
  },
  {
   "cell_type": "code",
   "execution_count": 3,
   "metadata": {},
   "outputs": [
    {
     "data": {
      "text/plain": [
       "builtin_function_or_method"
      ]
     },
     "execution_count": 3,
     "metadata": {},
     "output_type": "execute_result"
    }
   ],
   "source": [
    "type(print)"
   ]
  },
  {
   "cell_type": "markdown",
   "metadata": {},
   "source": [
    "- __クラス__  \n",
    "  オブジェクトの「型」(= オブジェクトの設計図)\n",
    "\n",
    "\n",
    "オブジェクトの「型」のことを __クラス__ という。  \n",
    "例えば、整数データはintクラスに属するオブジェクト、文字列データはstrクラスに属するオブジェクト、print関数は builtin_function_or_method クラスに属するオブジェクトといえる。"
   ]
  },
  {
   "cell_type": "markdown",
   "metadata": {},
   "source": [
    "オブジェクトはデータだけではなく、そのデータに対する様々な処理機能（ __メソッド__ ）を合わせ持っている。\n",
    "各オブジェクトがどのようなメソッドを持っているかはdir関数を使用で確認できる。"
   ]
  },
  {
   "cell_type": "code",
   "execution_count": 4,
   "metadata": {},
   "outputs": [
    {
     "name": "stdout",
     "output_type": "stream",
     "text": [
      "['__add__', '__class__', '__contains__', '__delattr__', '__dir__', '__doc__', '__eq__', '__format__', '__ge__', '__getattribute__', '__getitem__', '__getnewargs__', '__getstate__', '__gt__', '__hash__', '__init__', '__init_subclass__', '__iter__', '__le__', '__len__', '__lt__', '__mod__', '__mul__', '__ne__', '__new__', '__reduce__', '__reduce_ex__', '__repr__', '__rmod__', '__rmul__', '__setattr__', '__sizeof__', '__str__', '__subclasshook__', 'capitalize', 'casefold', 'center', 'count', 'encode', 'endswith', 'expandtabs', 'find', 'format', 'format_map', 'index', 'isalnum', 'isalpha', 'isascii', 'isdecimal', 'isdigit', 'isidentifier', 'islower', 'isnumeric', 'isprintable', 'isspace', 'istitle', 'isupper', 'join', 'ljust', 'lower', 'lstrip', 'maketrans', 'partition', 'removeprefix', 'removesuffix', 'replace', 'rfind', 'rindex', 'rjust', 'rpartition', 'rsplit', 'rstrip', 'split', 'splitlines', 'startswith', 'strip', 'swapcase', 'title', 'translate', 'upper', 'zfill']\n"
     ]
    }
   ],
   "source": [
    "print(dir(my_str))"
   ]
  },
  {
   "cell_type": "markdown",
   "metadata": {},
   "source": [
    "strオブジェクトには大文字に変換するためのupperや分割を行うためのsplitといった文字列に対する操作を行うためのメソッドが含まれる。これらを使用するには、変数名の後にピリオドに続けてメソッド名を指定する"
   ]
  },
  {
   "cell_type": "code",
   "execution_count": 5,
   "metadata": {},
   "outputs": [
    {
     "data": {
      "text/plain": [
       "'HELLO WORLD'"
      ]
     },
     "execution_count": 5,
     "metadata": {},
     "output_type": "execute_result"
    }
   ],
   "source": [
    "my_str.upper()"
   ]
  },
  {
   "cell_type": "code",
   "execution_count": 6,
   "metadata": {},
   "outputs": [
    {
     "data": {
      "text/plain": [
       "['Hell', ' world']"
      ]
     },
     "execution_count": 6,
     "metadata": {},
     "output_type": "execute_result"
    }
   ],
   "source": [
    "my_str.split(\"o\", 1)"
   ]
  },
  {
   "cell_type": "markdown",
   "metadata": {},
   "source": [
    "メソッドを呼び出すにはメソッド名の後の括弧に引数を指定する。  \n",
    "上記の例で、upperは特に引数を必要としないため括弧内は空欄になっているのに対し、splitの場合には分割に用いる文字を引数に指定している。  \n",
    "(何も引数を指定せずにsplitを使用することもでき、その場合にはスペースやタブなど空白とみなせる文字が分割の対象となる。)"
   ]
  },
  {
   "cell_type": "markdown",
   "metadata": {},
   "source": [
    "__[参考]__ dir関数で表示されたメソッドのうち `__` で囲まれたメソッドは内部的に使われる特殊メソッドで、通常は直接使うことはない。"
   ]
  },
  {
   "cell_type": "code",
   "execution_count": 7,
   "metadata": {},
   "outputs": [
    {
     "data": {
      "text/plain": [
       "11"
      ]
     },
     "execution_count": 7,
     "metadata": {},
     "output_type": "execute_result"
    }
   ],
   "source": [
    "my_str.__len__()  # 文字列の長さを返すメソッド"
   ]
  },
  {
   "cell_type": "code",
   "execution_count": 8,
   "metadata": {},
   "outputs": [
    {
     "data": {
      "text/plain": [
       "11"
      ]
     },
     "execution_count": 8,
     "metadata": {},
     "output_type": "execute_result"
    }
   ],
   "source": [
    "len(my_str)  # len関数を使って文字列の長さを取得する際に、内部的には __len__ が呼び出されている。"
   ]
  },
  {
   "cell_type": "markdown",
   "metadata": {},
   "source": [
    "## 独自のクラスを設計する"
   ]
  },
  {
   "cell_type": "markdown",
   "metadata": {},
   "source": [
    "より複雑な機能やデータをもったオブジェクトを扱うために、拡張モジュールをインポートして定義済みの型（たとえばdatetimeオブジェクトなど）を利用したり、あるいは自分でオブジェクトの設計図（＝型）である「クラス」を定義したりすることができる。"
   ]
  },
  {
   "cell_type": "markdown",
   "metadata": {},
   "source": [
    "Biopythonをインポートすれば塩基配列やアミノ酸配列データを扱うためのSeqオブジェクトが利用可能できるが、ここでは自分でクラスを定義する例としてFASTA形式で記述された配列データを格納するためのクラスを設計してみる。"
   ]
  },
  {
   "cell_type": "markdown",
   "metadata": {},
   "source": [
    "下記は１件のFASTA形式の配列データの例を示す。\n",
    "```\n",
    ">gene01 nucleotide sequence of tRNA-Ser\n",
    "TGGAGTGTTGTCCGAGCGGCTGAAGGAGCATGATTGGAAATCATGTATACGGGTAAATACCTGTATCGAGGGTTCAAATCCCTCACACTCCGT\n",
    "```\n",
    "\">\"で始まる行はタイトル行で、一般に最初の空白までが配列IDやアクセッション番号を示し、それ以降の文字列は遺伝子の機能名や任意の説明書きが含まれる。  \n",
    "2行目が配列データを示す。この例では改行が含まれていないが、60〜100文字単位で改行が含まれることもある。"
   ]
  },
  {
   "cell_type": "markdown",
   "metadata": {},
   "source": [
    "FASTAファイルの例 (multi FASTAファイル)"
   ]
  },
  {
   "cell_type": "code",
   "execution_count": 9,
   "metadata": {
    "scrolled": true
   },
   "outputs": [
    {
     "name": "stdout",
     "output_type": "stream",
     "text": [
      ">YAL068C seripauperin PAU8\n",
      "MVKLTSIAAGVAAIAATASATTTLAQSDERVNLVELGVYVSDIRAHLAQYYMFQAAHPTETYPVEVAEAVFNYGDFTTMLTGIAPDQVTRMITGVPWYSSRLKPAISSALSKDGIYTIAN\n",
      ">YAL067W-A hypothetical protein\n",
      "MPIIGVPRCLIKPFSVPVTFPFSVKKNIRILDLDPRTEAYCLSLNSVCFKRLPRRKYFHLLNSYNIKRVLGVVYC\n",
      ">YAL067C putative permease SEO1\n",
      "MYSIVKEIIVDPYKRLKWGFIPVKRQVEDLPDDLNSTEIVTISNSIQSHETAENFITTTSEKDQLHFETSSYSEHKDNVNVTRSYEYRDEADRPWWRFFDEQEYRINEKERSHNKWYSWFKQGTSFKEKKLLIKLDVLLAFYSCIAYWVKYLDTVNINNAYVSGMKEDLGFQGNDLVHTQVMYTVGNIIFQLPFLIYLNKLPLNYVLPSLDLCWSLLTVGAAYVNSVPHLKAIRFFIGAFEAPSYLAYQYLFGSFYKHDEMVRRSAFYYLGQYIGILSAGGIQSAVYSSLNGVNGLEGWRWNFIIDAIVSVVVGLIGFYSLPGDPYNCYSIFLTDDEIRLARKRLKENQTGKSDFETKVFDIKLWKTIFSDWKIYILTLWNIFCWNDSNVSSGAYLLWLKSLKRYSIPKLNQLSMITPGLGMVYLMLTGIIADKLHSRWFAIIFTQVFNIIGNSILAAWDVAEGAKWFAFMLQCFGWAMAPVLYSWQNDICRRDAQTRAITLVTMNIMAQSSTAWISVLVWKTEEAPRYLKGFTFTACSAFCLSIWTFVVLYFYKRDERNNAKKNGIVLYNSKHGVEKPTSKDVETLSVSDEK\n",
      ">YAL065C hypothetical protein\n",
      "MNSATSETTTNTGAAETTTSTGAAETKTVVTSSISRFNHAETQTASATDVIGHSSSVVSVSETGNTKSLITSGLSTMSQQPRSTPASSIIGSSTASLEISTYVGIANGLLTNNGISVFISTVLLAIVW\n",
      ">YAL064W-B hypothetical protein\n",
      "MAGEAVSEHTPDSQEVTVTSVVCCLDSVVEIGHHVVYSVVTPLIVAVLIDTMAGEAVLEHTSDSQEEIVTTVVCSVVPLVCFVVSVVCFVISVVEIGHHVVYSVVAPLTVTVAVETIAEEMDSVHT\n"
     ]
    }
   ],
   "source": [
    "! head data/s288c.protein.faa"
   ]
  },
  {
   "cell_type": "markdown",
   "metadata": {},
   "source": [
    "これらの情報を格納するために、  \n",
    "- 配列ID (id)  \n",
    "- 配列に対しての説明 (description)  \n",
    "- 配列自体のデータ (seq）  \n",
    "\n",
    "といった情報を含んだクラスを設計する。また、この配列データに対しての操作としてGC含量（塩基配列中のGおよびCの割合）を得るためのメソッドを例として定義する。"
   ]
  },
  {
   "cell_type": "code",
   "execution_count": 10,
   "metadata": {},
   "outputs": [],
   "source": [
    "class Fasta:\n",
    "    def __init__(self, id, description, seq):\n",
    "        self.id = id\n",
    "        self.description = description\n",
    "        self.seq = seq\n",
    "            \n",
    "    def get_gc_content(self):\n",
    "        g_count = self.seq.count(\"G\")\n",
    "        c_count = self.seq.count(\"C\")\n",
    "        gc_content = ( g_count + c_count ) / len(self.seq)\n",
    "        return gc_content"
   ]
  },
  {
   "cell_type": "markdown",
   "metadata": {},
   "source": [
    "最初に定義したメソッド`__init__`は、オブジェクトの設計図であるクラスに実際のデータを格納してオブジェクトを生成する際に実行されるコンストラクタと呼ばれる特殊メソッド。    \n",
    "メソッドの第一引数は自身のオブジェクトを指すもので、Pythonでは慣例的に \"self\" が使われる。残りの３つはオブジェクト生成時に与える引数で、与えられた情報はオブジェクトの内部的な変数である`self.id`、`self.description`、`self.seq`にそれぞれ格納されるように定義している。\n"
   ]
  },
  {
   "cell_type": "markdown",
   "metadata": {},
   "source": [
    "実際にデータを与えて配列データを格納したオブジェクトを作成してみる。引数\"self\"は内部的に使用されるだけなので、オブジェクト生成時には残りの3つの引数を与える。"
   ]
  },
  {
   "cell_type": "code",
   "execution_count": 11,
   "metadata": {},
   "outputs": [],
   "source": [
    "fasta = Fasta(\"gene01\", \"nucleotide sequence of tRNA-Ser\", \n",
    "              \"TGGAGTGTTGTCCGAGCGGCTGAAGGAGCATGATTGGAAATCATGTATACGGGTAAATACCTGTATCGAGGGTTCAAATCCCTCACACTCCGT\")"
   ]
  },
  {
   "cell_type": "markdown",
   "metadata": {},
   "source": [
    "これで先ほどの１件のFASTA形式のデータを持ったオブジェクトを生成し、fastaという変数に格納できたことになる。  \n",
    "設計図であるクラスに対し、このように実際のデータが格納されてできたオブジェクトの実体を __インスタンス__ と呼ぶ。  \n",
    "Pythonでは慣例的にクラスの名称には大文字で始まる名前を用い、インスタンスに対しては小文字を使用することが推奨されている。"
   ]
  },
  {
   "cell_type": "markdown",
   "metadata": {},
   "source": [
    "![fig2](img/fig1_class.png)"
   ]
  },
  {
   "cell_type": "markdown",
   "metadata": {},
   "source": [
    "内部的な変数（インスタンス変数）にアクセスするには次のようにする。"
   ]
  },
  {
   "cell_type": "code",
   "execution_count": 12,
   "metadata": {},
   "outputs": [],
   "source": [
    "fasta.id = \"gene001\""
   ]
  },
  {
   "cell_type": "markdown",
   "metadata": {},
   "source": [
    "クラスの定義時には\"self\"という変数を使用したが、これは定義時に用いた仮のものなので実際のデータにアクセスするにはインスタンスを示す変数の後ろにピリオドをつけて指定する。通常の変数と同じように新たな値を代入することも可能。"
   ]
  },
  {
   "cell_type": "markdown",
   "metadata": {},
   "source": [
    "配列データ自体は通常の文字列と同じ扱いなので、次のように部分配列を取り出すこともできる。"
   ]
  },
  {
   "cell_type": "code",
   "execution_count": 13,
   "metadata": {},
   "outputs": [
    {
     "data": {
      "text/plain": [
       "'TGGAGTGTTG'"
      ]
     },
     "execution_count": 13,
     "metadata": {},
     "output_type": "execute_result"
    }
   ],
   "source": [
    "fasta.seq[:10]"
   ]
  },
  {
   "cell_type": "markdown",
   "metadata": {},
   "source": [
    "生成されたfastaがどのようなクラスに属するか確認をしてみる。"
   ]
  },
  {
   "cell_type": "code",
   "execution_count": 14,
   "metadata": {},
   "outputs": [
    {
     "data": {
      "text/plain": [
       "__main__.Fasta"
      ]
     },
     "execution_count": 14,
     "metadata": {},
     "output_type": "execute_result"
    }
   ],
   "source": [
    "type(fasta)"
   ]
  },
  {
   "cell_type": "markdown",
   "metadata": {},
   "source": [
    "このように独自に定義されたクラスFastaに属するオブジェクトであることがわかる。"
   ]
  },
  {
   "cell_type": "markdown",
   "metadata": {},
   "source": [
    "最後にこの配列のGC含量を求めてみる。インスタンス変数にアクセスしたときと同様にピリオドに続けてメソッド名を指定する。"
   ]
  },
  {
   "cell_type": "code",
   "execution_count": 15,
   "metadata": {},
   "outputs": [
    {
     "data": {
      "text/plain": [
       "0.4838709677419355"
      ]
     },
     "execution_count": 15,
     "metadata": {},
     "output_type": "execute_result"
    }
   ],
   "source": [
    "fasta.get_gc_content()"
   ]
  },
  {
   "cell_type": "markdown",
   "metadata": {},
   "source": [
    "get_gc_contentメソッドに定義されている引数は\"self\"だけで、これは外部から指定しなくても自動的に自分自身を指す変数として扱われるため特に引数を与える必要はない。そのため、この例では括弧内は空欄となっている。\n",
    "```\n",
    "    def get_gc_content(self):\n",
    "        g_count = self.seq.count(\"G\")\n",
    "        c_count = self.seq.count(\"C\")\n",
    "        gc_content = ( g_count + c_count ) / len(self.seq)\n",
    "        return gc_content\n",
    "```"
   ]
  },
  {
   "cell_type": "markdown",
   "metadata": {},
   "source": [
    "## Dataclassの利用"
   ]
  },
  {
   "cell_type": "markdown",
   "metadata": {},
   "source": [
    "Python3.7以降では、データを格納するためのクラス Dataclass が利用可能になっている。これを用いるとクラス定義をよりシンプルに書ける。\n",
    "Dataclass を利用するには、モジュールをインポートする必要がある。"
   ]
  },
  {
   "cell_type": "code",
   "execution_count": 16,
   "metadata": {},
   "outputs": [],
   "source": [
    "from dataclasses import dataclass"
   ]
  },
  {
   "cell_type": "markdown",
   "metadata": {},
   "source": [
    "Dataclass を使うと先のFASTAデータを扱うためのクラスは以下のように書ける。"
   ]
  },
  {
   "cell_type": "code",
   "execution_count": 17,
   "metadata": {},
   "outputs": [],
   "source": [
    "@dataclass\n",
    "class Fasta:\n",
    "    \"\"\"\n",
    "    FASTA形式の配列データを扱うクラス\n",
    "    \"\"\"\n",
    "    \n",
    "    id: str\n",
    "    description: str\n",
    "    seq: str\n",
    "    \n",
    "    def get_gc_content(self):\n",
    "        g_count = self.seq.count(\"G\")\n",
    "        c_count = self.seq.count(\"C\")\n",
    "        gc_content = ( g_count + c_count ) / len(self.seq)\n",
    "        return gc_content"
   ]
  },
  {
   "cell_type": "markdown",
   "metadata": {},
   "source": [
    "Dataclassを使うとコンストラクタ (\\_\\_init\\_\\_メソッド) の記載は不要で、変数名とその型名を列挙するだけでクラスを定義できる。"
   ]
  },
  {
   "cell_type": "markdown",
   "metadata": {},
   "source": [
    "使い方は通常のクラスと変わらない。"
   ]
  },
  {
   "cell_type": "code",
   "execution_count": 18,
   "metadata": {},
   "outputs": [],
   "source": [
    "fasta2 = Fasta(\"gene01\", \"nucleotide sequence of tRNA-Ser\", \n",
    "              \"TGGAGTGTTGTCCGAGCGGCTGAAGGAGCATGATTGGAAATCATGTATACGGGTAAATACCTGTATCGAGGGTTCAAATCCCTCACACTCCGT\")"
   ]
  },
  {
   "cell_type": "markdown",
   "metadata": {},
   "source": [
    "print関数を使うとオブジェクトの内容が分かるように表示される。"
   ]
  },
  {
   "cell_type": "code",
   "execution_count": 19,
   "metadata": {
    "scrolled": true
   },
   "outputs": [
    {
     "name": "stdout",
     "output_type": "stream",
     "text": [
      "Fasta(id='gene01', description='nucleotide sequence of tRNA-Ser', seq='TGGAGTGTTGTCCGAGCGGCTGAAGGAGCATGATTGGAAATCATGTATACGGGTAAATACCTGTATCGAGGGTTCAAATCCCTCACACTCCGT')\n"
     ]
    }
   ],
   "source": [
    "print(fasta2)"
   ]
  },
  {
   "cell_type": "markdown",
   "metadata": {},
   "source": [
    "通常のクラスから生成されたオブジェクトの場合は以下のようになる。"
   ]
  },
  {
   "cell_type": "code",
   "execution_count": 20,
   "metadata": {
    "scrolled": true
   },
   "outputs": [
    {
     "name": "stdout",
     "output_type": "stream",
     "text": [
      "<__main__.Fasta object at 0x7f420c766310>\n"
     ]
    }
   ],
   "source": [
    "print(fasta)"
   ]
  },
  {
   "cell_type": "markdown",
   "metadata": {},
   "source": [
    "## 実践的なクラスの利用"
   ]
  },
  {
   "cell_type": "markdown",
   "metadata": {},
   "source": [
    "先に定義した独自クラスFastaを利用した実践的なプログラム例として、複数のFASTA形式のデータを含んだファイル（multi FASTA）からデータを１件ずつ取り出しそれぞれの配列の配列IDや長さ、GC含量等を出力するプログラムを作成する。"
   ]
  },
  {
   "cell_type": "markdown",
   "metadata": {},
   "source": [
    "はじめにmulti FASTAファイルから１件ずつFastaオブジェクトとしてデータを取り出す関数を作成する。"
   ]
  },
  {
   "cell_type": "markdown",
   "metadata": {},
   "source": [
    "１行ずつファイルを読み込んでいき、`>` で始まるタイトル行が現れたらIDとdescription情報を取得、それ以外の行では配列情報を取得して編すに格納していく。  \n",
    "１件のデータを読み終わった時点でそれまで格納されていた情報をFastaオブジェクトにして返す。"
   ]
  },
  {
   "cell_type": "markdown",
   "metadata": {},
   "source": [
    "![fig1](img/fig2_fasta.png)"
   ]
  },
  {
   "cell_type": "markdown",
   "metadata": {},
   "source": [
    "注意点:  \n",
    "ファイルの先頭を読み込んだ時点では配列データが得られていないので処理を分ける必要がある。  \n",
    "ファイルを最後の行まで読み込んだ後で、一番最後の配列データを取り出す処理を行う。\n",
    "\n"
   ]
  },
  {
   "cell_type": "code",
   "execution_count": 21,
   "metadata": {},
   "outputs": [],
   "source": [
    "def read_fasta(file_name):\n",
    "    with open(file_name) as fh:\n",
    "        line = next(fh)  # next関数を使い1行目（タイトル行）だけ読み込む。\n",
    "        seq_id, description = line.strip(\">\\n\").split(\" \", 1)  # タイトル行を分割し始めの空白までを配列ID、空白以降をdescriptionとする。空白が含まれていない場合エラーになるので注意。\n",
    "        seq = \"\"  # 配列情報を格納する変数を初期化\n",
    "        for line in fh:  # 2行目以降の読み込み\n",
    "            if line.startswith(\">\"):  # \">\"で始まる行が現れたらその時点までの配列データを返す\n",
    "                yield Fasta(seq_id, description, seq)\n",
    "                seq_id, description = line.strip().strip(\">\").split(\" \", 1)  # 新たなタイトル情報を格納する\n",
    "                seq = \"\"\n",
    "            else:\n",
    "                seq += line.strip(\"\\n\").upper()  # \">\"で始まらない場合には、配列データを読み込んで追加していく。upperを加えたのは大文字に変換するため。\n",
    "        yield Fasta(seq_id, description, seq)  # ループ終了時に最後の配列データを返す\n",
    "                "
   ]
  },
  {
   "cell_type": "markdown",
   "metadata": {},
   "source": [
    "__\\[参考\\]__  \n",
    "ここで定義した関数 read_fasta は通常の関数とは異なり __ジェネレーター関数__ と呼ばれる。  \n",
    "通常の関数では return 文が現れた時点で処理を終了して値を返すのに対し、ジェネレーター関数では yield 文を用いて値を返すという違いがある。値を返した時点でジェネレーターは一旦処理を停止してその時点での情報を内部に保ち、再度呼び出しがあると再び yield 文が現れる時点まで処理を行って新たな値を返す。  \n",
    "ジェネレータはリストと同じように for ループと組み合わせることで１件ずつデータを取り出すことができるが、リストがすべてのデータをメモリ上に保持しているのに対して、ジェネレーターは１件ずつのデータしか保持していない点で違いがある。次世代シークエンサーデータのような巨大なデータを扱う際に、１件ずつデータを取り出して処理を行うのに役立つ。"
   ]
  },
  {
   "cell_type": "markdown",
   "metadata": {},
   "source": [
    "\n",
    "以下が実際の使用例で、配列１件ずつを取り出して配列ID、配列の説明、長さ、GC含量をタブ区切りの文字列として出力している。\n"
   ]
  },
  {
   "cell_type": "code",
   "execution_count": 22,
   "metadata": {},
   "outputs": [
    {
     "name": "stdout",
     "output_type": "stream",
     "text": [
      "NC_001133.9\tSaccharomyces cerevisiae S288C chromosome I, complete sequence\tLength=230,218\tG+C%=39.3%\n",
      "NC_001134.8\tSaccharomyces cerevisiae S288C chromosome II, complete sequence\tLength=813,184\tG+C%=38.3%\n",
      "NC_001135.5\tSaccharomyces cerevisiae S288C chromosome III, complete sequence\tLength=316,620\tG+C%=38.5%\n",
      "NC_001136.10\tSaccharomyces cerevisiae S288C chromosome IV, complete sequence\tLength=1,531,933\tG+C%=37.9%\n",
      "NC_001137.3\tSaccharomyces cerevisiae S288C chromosome V, complete sequence\tLength=576,874\tG+C%=38.5%\n",
      "NC_001138.5\tSaccharomyces cerevisiae S288C chromosome VI, complete sequence\tLength=270,161\tG+C%=38.7%\n",
      "NC_001139.9\tSaccharomyces cerevisiae S288C chromosome VII, complete sequence\tLength=1,090,940\tG+C%=38.1%\n",
      "NC_001140.6\tSaccharomyces cerevisiae S288C chromosome VIII, complete sequence\tLength=562,643\tG+C%=38.5%\n",
      "NC_001141.2\tSaccharomyces cerevisiae S288C chromosome IX, complete sequence\tLength=439,888\tG+C%=38.9%\n",
      "NC_001142.9\tSaccharomyces cerevisiae S288C chromosome X, complete sequence\tLength=745,751\tG+C%=38.4%\n",
      "NC_001143.9\tSaccharomyces cerevisiae S288C chromosome XI, complete sequence\tLength=666,816\tG+C%=38.1%\n",
      "NC_001144.5\tSaccharomyces cerevisiae S288C chromosome XII, complete sequence\tLength=1,078,177\tG+C%=38.5%\n",
      "NC_001145.3\tSaccharomyces cerevisiae S288C chromosome XIII, complete sequence\tLength=924,431\tG+C%=38.2%\n",
      "NC_001146.8\tSaccharomyces cerevisiae S288C chromosome XIV, complete sequence\tLength=784,333\tG+C%=38.6%\n",
      "NC_001147.6\tSaccharomyces cerevisiae S288C chromosome XV, complete sequence\tLength=1,091,291\tG+C%=38.2%\n",
      "NC_001148.4\tSaccharomyces cerevisiae S288C chromosome XVI, complete sequence\tLength=948,066\tG+C%=38.1%\n",
      "NC_001224.1\tSaccharomyces cerevisiae S288c mitochondrion, complete genome\tLength=85,779\tG+C%=17.1%\n"
     ]
    }
   ],
   "source": [
    "for fasta in read_fasta(\"data/s288c.fna\"):\n",
    "    print(f\"{fasta.id}\\t{fasta.description}\\tLength={len(fasta.seq):,d}\\tG+C%={fasta.get_gc_content():.1%}\")"
   ]
  },
  {
   "cell_type": "markdown",
   "metadata": {},
   "source": [
    "__\\[参考]__  \n",
    "`f`を先頭につけた文字列は \"f文字列\" と呼ばれるPython3.6から導入された文字列を整形するのに便利な形式で、`{ }` で括った中に変数名を記載することで変数の中身を文字列中に埋め込むことができる。  \n",
    "また、変数名の後に`:`で区切って各種書式を指定することも可能で、上記の例では`:,d`を付けて3桁ごとにカンマで数値の桁数を区切ったり、`:.1%`と付けることで小数値を百分率表記にして小数点以下の桁数を指定したりすることができる。\n",
    "\n"
   ]
  },
  {
   "cell_type": "markdown",
   "metadata": {},
   "source": [
    "## ここまでのまとめ"
   ]
  },
  {
   "cell_type": "markdown",
   "metadata": {},
   "source": [
    "- 独自のクラスを定義しオブジェクトにデータを格納することで、データやそれに付随した操作をひとまとめの変数として扱うことができる。  \n",
    "- クラスに様々なメソッドを加えることでより多様な処理を行えるように拡張できる (塩基配列のデータであれば相補鎖配列に変換するメソッドや、アミノ酸配列への翻訳を行うメソッドなど)。\n",
    "- 適切なコメントをつけてクラスを定義しておくと人にも機械にも理解しやすくなり、大規模な開発においてコードの見通しが良くなる (プログラミング支援機能の恩恵を受けやすくなる)\n",
    "- クラスの利用例として、FASTA形式のデータを格納するためのクラス定義とmulti FASTA形式のファイルから１件ずつデータを取り出す例を紹介した。  \n",
    "    データを格納するための独自クラスを定義してファイルを読み込むための関数と組み合わせて処理を行う方法は、様々な場面に応用できる。  \n"
   ]
  },
  {
   "cell_type": "markdown",
   "metadata": {},
   "source": [
    "ここまではクラスの使い方について学ぶためにFasta形式のデータを扱うクラスを定義したが、以下に紹介するBiopythonを用いれば自分でクラス定義を行うことなく配列データを簡単に扱うことができる。"
   ]
  },
  {
   "cell_type": "markdown",
   "metadata": {},
   "source": [
    "## より高度なクラスの利用 (補足)"
   ]
  },
  {
   "cell_type": "markdown",
   "metadata": {},
   "source": [
    "### 特殊メソッドやスタティックメソッド"
   ]
  },
  {
   "cell_type": "markdown",
   "metadata": {},
   "source": [
    "- 特殊メソッド  \n",
    "  `__`で囲まれたメソッドは特殊メソッドで、通常は直接呼び出されて使うことはなく、他の関数にオブジェクトが引数として渡された場合の挙動を定義する場合などに使われる。  \n",
    "  例\n",
    "  - `__len__`  \n",
    "    len関数に引数として渡された場合の処理を定義できる。下の例では配列の長さを返すようにしている。\n",
    "  - `__repr__`  \n",
    "    オブジェクトに格納された情報の概要をprint関数やrepr関数で表示させるときの形式を定義するためのもので、おもにデバッグ用途に用いる。\n",
    "    Dataclassを使った場合には自動で定義されているが、自分で定義を上書きすることもできる。デフォルトだと配列情報が全て表示されてしまい画面から溢れてしまうので、ここではID、description、長さのみを表示させるように定義し直している。\n",
    "\n",
    "  \n",
    "- スタティックメソッド (staticmethod)  \n",
    "  そのクラスには関係しているが、インスタンスを作ることなく使用できるメソッドで (クラスに属さない) 通常の関数と同じように使える。下記で定義した `read_fasta` はFASTAファイルを読み込んでFastaオブジェクトを返すジェネレータ関数である。スタティックメソッドはインスタンス変数やメソッドにアクセスすることはできず、そのため引数にも \"self\" は不要である。"
   ]
  },
  {
   "cell_type": "code",
   "execution_count": 23,
   "metadata": {},
   "outputs": [],
   "source": [
    "@dataclass\n",
    "class Fasta:\n",
    "    id: str\n",
    "    description: str\n",
    "    seq: str\n",
    "    \n",
    "    def get_gc_content(self):\n",
    "        g_count = self.seq.count(\"G\")\n",
    "        c_count = self.seq.count(\"C\")\n",
    "        gc_content = ( g_count + c_count ) / len(self.seq)\n",
    "        return gc_content\n",
    "    \n",
    "    def __len__(self):\n",
    "        \"\"\"len関数に引数として与えた場合に配列の長さを返すように定義\"\"\"\n",
    "        return len(self.seq)\n",
    "    \n",
    "    def __repr__(self):\n",
    "        \"\"\"print関数に引数として与えた場合に表示される文字列を定義\"\"\"\n",
    "        return f\"<Fasta: {self.id}, {self.description}, Length={len(self)}>\"\n",
    "    \n",
    "    @staticmethod\n",
    "    def read_fasta(file_name):\n",
    "        def _parse_title(title):\n",
    "            title = title.strip(\">\\n \")\n",
    "            if \" \" in title:\n",
    "                seq_id, description = title.split(\" \", 1)\n",
    "            else:\n",
    "                seq_id, description = title, \"\"\n",
    "            return seq_id, description\n",
    "        \n",
    "        with open(file_name) as fh:\n",
    "            line = next(fh)\n",
    "            seq_id, description = _parse_title(line)\n",
    "            seq = \"\"\n",
    "            for line in fh:\n",
    "                if line.startswith(\">\"):\n",
    "                    yield Fasta(seq_id, description, seq)\n",
    "                    seq_id, description = _parse_title(line)\n",
    "                    seq = \"\"\n",
    "                else:\n",
    "                    seq += line.strip(\"\\n\").upper()\n",
    "            yield Fasta(seq_id, description, seq)"
   ]
  },
  {
   "cell_type": "code",
   "execution_count": 24,
   "metadata": {},
   "outputs": [],
   "source": [
    "# FASTAファイルを読み込み、各配列をFastaオブジェクトを要素とするリストに格納する)\n",
    "fasta_list = list(Fasta.read_fasta(\"data/s288c.fna\"))"
   ]
  },
  {
   "cell_type": "code",
   "execution_count": 25,
   "metadata": {},
   "outputs": [],
   "source": [
    "# 配列を長いものから順に並び替える\n",
    "# 並び替えのキーとしてlen関数を与えているので、__len__メソッドで返される値によってソートされる\n",
    "fasta_list = sorted(fasta_list, key=len, reverse=True)"
   ]
  },
  {
   "cell_type": "code",
   "execution_count": 26,
   "metadata": {
    "scrolled": true
   },
   "outputs": [
    {
     "name": "stdout",
     "output_type": "stream",
     "text": [
      "<Fasta: NC_001136.10, Saccharomyces cerevisiae S288C chromosome IV, complete sequence, Length=1531933>\n",
      "<Fasta: NC_001147.6, Saccharomyces cerevisiae S288C chromosome XV, complete sequence, Length=1091291>\n",
      "<Fasta: NC_001139.9, Saccharomyces cerevisiae S288C chromosome VII, complete sequence, Length=1090940>\n",
      "<Fasta: NC_001144.5, Saccharomyces cerevisiae S288C chromosome XII, complete sequence, Length=1078177>\n",
      "<Fasta: NC_001148.4, Saccharomyces cerevisiae S288C chromosome XVI, complete sequence, Length=948066>\n",
      "<Fasta: NC_001145.3, Saccharomyces cerevisiae S288C chromosome XIII, complete sequence, Length=924431>\n",
      "<Fasta: NC_001134.8, Saccharomyces cerevisiae S288C chromosome II, complete sequence, Length=813184>\n",
      "<Fasta: NC_001146.8, Saccharomyces cerevisiae S288C chromosome XIV, complete sequence, Length=784333>\n",
      "<Fasta: NC_001142.9, Saccharomyces cerevisiae S288C chromosome X, complete sequence, Length=745751>\n",
      "<Fasta: NC_001143.9, Saccharomyces cerevisiae S288C chromosome XI, complete sequence, Length=666816>\n",
      "<Fasta: NC_001137.3, Saccharomyces cerevisiae S288C chromosome V, complete sequence, Length=576874>\n",
      "<Fasta: NC_001140.6, Saccharomyces cerevisiae S288C chromosome VIII, complete sequence, Length=562643>\n",
      "<Fasta: NC_001141.2, Saccharomyces cerevisiae S288C chromosome IX, complete sequence, Length=439888>\n",
      "<Fasta: NC_001135.5, Saccharomyces cerevisiae S288C chromosome III, complete sequence, Length=316620>\n",
      "<Fasta: NC_001138.5, Saccharomyces cerevisiae S288C chromosome VI, complete sequence, Length=270161>\n",
      "<Fasta: NC_001133.9, Saccharomyces cerevisiae S288C chromosome I, complete sequence, Length=230218>\n",
      "<Fasta: NC_001224.1, Saccharomyces cerevisiae S288c mitochondrion, complete genome, Length=85779>\n"
     ]
    }
   ],
   "source": [
    "# 配列情報の表示\n",
    "# pabsrint時には __repr__で定義した情報が表示される。\n",
    "for fasta in fasta_list:\n",
    "    print(fasta)"
   ]
  },
  {
   "cell_type": "markdown",
   "metadata": {},
   "source": [
    "---"
   ]
  },
  {
   "cell_type": "markdown",
   "metadata": {},
   "source": [
    "# Biopythonの使い方"
   ]
  },
  {
   "cell_type": "markdown",
   "metadata": {},
   "source": [
    "Biopythonは生命科学に関するデータを扱うための拡張ライブラリ。ここではBiopythonを使った配列ファイルの処理方法を扱う。\n"
   ]
  },
  {
   "cell_type": "code",
   "execution_count": 27,
   "metadata": {},
   "outputs": [],
   "source": [
    "# Biopythonのインポート\n",
    "# SeqIOはFASTA, GenBankなどの配列データの読み書きを行うためのモジュール\n",
    "from Bio import SeqIO"
   ]
  },
  {
   "cell_type": "markdown",
   "metadata": {},
   "source": [
    "## FASTAファイルの読み込み"
   ]
  },
  {
   "cell_type": "code",
   "execution_count": 28,
   "metadata": {},
   "outputs": [],
   "source": [
    "fasta_file_name = \"data/s288c.fna\""
   ]
  },
  {
   "cell_type": "code",
   "execution_count": 29,
   "metadata": {},
   "outputs": [
    {
     "name": "stdout",
     "output_type": "stream",
     "text": [
      ">NC_001133.9 Saccharomyces cerevisiae S288C chromosome I, complete sequence\n",
      "ccacaccacacccacacacccacacaccacaccacacaccacaccacacccacacacacacatCCTAACACTACCCTAAC\n",
      "ACAGCCCTAATCTAACCCTGGCCAACCTGTCTCTCAACTTACCCTCCATTACCCTGCCTCCACTCGTTACCCTGTCCCAT\n",
      "TCAACCATACCACTCCGAACCACCATCCATCCCTCTACTTACTACCACTCACCCACCGTTACCCTCCAATTACCCATATC\n",
      "CAACCCACTGCCACTTACCCTACCATTACCCTACCATCCACCATGACCTACTCACCATACTGTTCTTCTACCCACCATAT\n",
      "TGAAACGCTAACAAATGATCGTAAATAACACACACGTGCTTACCCTACCACTTTATACCACCACCACATGCCATACTCAC\n",
      "CCTCACTTGTATACTGATTTTACGTACGCACACGGATGCTACAGTATATACCATCTCAAACTTACCCTACTCTCAGATTC\n",
      "CACTTCACTCCATGGCCCATCTCTCACTGAATCAGTACCAAATGCACTCACATCATTATGCACGGCACTTGCCTCAGCGG\n",
      "TCTATACCCTGTGCCATTTACCCATAACGCCCATCATTATCCACATTTTGATATCTATATCTCATTCGGCGGTcccaaat\n",
      "attgtataaCTGCCCTTAATACATACGTTATACCACTTTTGCACCATATACTTACCACTCCATTTATATACACTTATGTC\n"
     ]
    }
   ],
   "source": [
    "!head {fasta_file_name}"
   ]
  },
  {
   "cell_type": "code",
   "execution_count": 30,
   "metadata": {},
   "outputs": [
    {
     "data": {
      "text/plain": [
       "\u001b[0;31mSignature:\u001b[0m \u001b[0mSeqIO\u001b[0m\u001b[0;34m.\u001b[0m\u001b[0mparse\u001b[0m\u001b[0;34m(\u001b[0m\u001b[0mhandle\u001b[0m\u001b[0;34m,\u001b[0m \u001b[0mformat\u001b[0m\u001b[0;34m,\u001b[0m \u001b[0malphabet\u001b[0m\u001b[0;34m=\u001b[0m\u001b[0;32mNone\u001b[0m\u001b[0;34m)\u001b[0m\u001b[0;34m\u001b[0m\u001b[0;34m\u001b[0m\u001b[0m\n",
       "\u001b[0;31mDocstring:\u001b[0m\n",
       "Turn a sequence file into an iterator returning SeqRecords.\n",
       "\n",
       "Arguments:\n",
       " - handle   - handle to the file, or the filename as a string\n",
       "   (note older versions of Biopython only took a handle).\n",
       " - format   - lower case string describing the file format.\n",
       " - alphabet - no longer used, should be None.\n",
       "\n",
       "Typical usage, opening a file to read in, and looping over the record(s):\n",
       "\n",
       ">>> from Bio import SeqIO\n",
       ">>> filename = \"Fasta/sweetpea.nu\"\n",
       ">>> for record in SeqIO.parse(filename, \"fasta\"):\n",
       "...    print(\"ID %s\" % record.id)\n",
       "...    print(\"Sequence length %i\" % len(record))\n",
       "ID gi|3176602|gb|U78617.1|LOU78617\n",
       "Sequence length 309\n",
       "\n",
       "If you have a string 'data' containing the file contents, you must\n",
       "first turn this into a handle in order to parse it:\n",
       "\n",
       ">>> data = \">Alpha\\nACCGGATGTA\\n>Beta\\nAGGCTCGGTTA\\n\"\n",
       ">>> from Bio import SeqIO\n",
       ">>> from io import StringIO\n",
       ">>> for record in SeqIO.parse(StringIO(data), \"fasta\"):\n",
       "...     print(\"%s %s\" % (record.id, record.seq))\n",
       "Alpha ACCGGATGTA\n",
       "Beta AGGCTCGGTTA\n",
       "\n",
       "Use the Bio.SeqIO.read(...) function when you expect a single record\n",
       "only.\n",
       "\u001b[0;31mFile:\u001b[0m      /opt/conda/envs/pags2023/lib/python3.11/site-packages/Bio/SeqIO/__init__.py\n",
       "\u001b[0;31mType:\u001b[0m      function"
      ]
     },
     "metadata": {},
     "output_type": "display_data"
    }
   ],
   "source": [
    "SeqIO.parse?"
   ]
  },
  {
   "cell_type": "code",
   "execution_count": 31,
   "metadata": {},
   "outputs": [],
   "source": [
    "records = SeqIO.parse(fasta_file_name, \"fasta\")"
   ]
  },
  {
   "cell_type": "code",
   "execution_count": 32,
   "metadata": {},
   "outputs": [
    {
     "data": {
      "text/plain": [
       "Bio.SeqIO.FastaIO.FastaIterator"
      ]
     },
     "execution_count": 32,
     "metadata": {},
     "output_type": "execute_result"
    }
   ],
   "source": [
    "# records は イテレータオブジェクト\n",
    "type(records)"
   ]
  },
  {
   "cell_type": "markdown",
   "metadata": {},
   "source": [
    "イテレータはfor文を使って１件ずつデータを取り出すことができる。リストは全データをメモリに保持しているのに対し、イテレータは一度に１件ずつしかデータを保持していないという違いがある。`list(records)`とすればリストに変換することもできる。  \n",
    "ジェネレータはイテレータの一種。\n"
   ]
  },
  {
   "cell_type": "markdown",
   "metadata": {},
   "source": [
    "for文を使って順次データを取り出す方法以外に、次のようにnext関数を使用する方法がある。"
   ]
  },
  {
   "cell_type": "code",
   "execution_count": 33,
   "metadata": {},
   "outputs": [],
   "source": [
    "# 一件目 (0番目) の配列データを取り出す\n",
    "r0 = next(records)"
   ]
  },
  {
   "cell_type": "code",
   "execution_count": 34,
   "metadata": {},
   "outputs": [
    {
     "data": {
      "text/plain": [
       "SeqRecord(seq=Seq('ccacaccacacccacacacccacacaccacaccacacaccacaccacacccaca...ggg'), id='NC_001133.9', name='NC_001133.9', description='NC_001133.9 Saccharomyces cerevisiae S288C chromosome I, complete sequence', dbxrefs=[])"
      ]
     },
     "execution_count": 34,
     "metadata": {},
     "output_type": "execute_result"
    }
   ],
   "source": [
    "# 配列データは SeqRecord オブジェクトになっている。\n",
    "# SeqRecord は配列自体の情報の他に、ID, description, アノテーションなども含む。\n",
    "r0"
   ]
  },
  {
   "cell_type": "markdown",
   "metadata": {},
   "source": [
    "nextを繰り返し用いると以降の配列を順次取り出すことができる。前のデータに戻ることはできないので、最初に戻るには`SeqIO.parse`を再び行う必要がある。"
   ]
  },
  {
   "cell_type": "code",
   "execution_count": 35,
   "metadata": {},
   "outputs": [
    {
     "data": {
      "text/plain": [
       "SeqRecord(seq=Seq('AAATAGCCCTCATGTACGTCTCCTCCAAGCCCTGTTGTCTCTTACCCGGATGTT...tgt'), id='NC_001134.8', name='NC_001134.8', description='NC_001134.8 Saccharomyces cerevisiae S288C chromosome II, complete sequence', dbxrefs=[])"
      ]
     },
     "execution_count": 35,
     "metadata": {},
     "output_type": "execute_result"
    }
   ],
   "source": [
    "next(records)"
   ]
  },
  {
   "cell_type": "code",
   "execution_count": 36,
   "metadata": {},
   "outputs": [
    {
     "name": "stdout",
     "output_type": "stream",
     "text": [
      "ID: NC_001133.9\n",
      "Name: NC_001133.9\n",
      "Description: NC_001133.9 Saccharomyces cerevisiae S288C chromosome I, complete sequence\n",
      "Number of features: 0\n",
      "Seq('ccacaccacacccacacacccacacaccacaccacacaccacaccacacccaca...ggg')\n"
     ]
    }
   ],
   "source": [
    "print(r0)"
   ]
  },
  {
   "cell_type": "code",
   "execution_count": 37,
   "metadata": {},
   "outputs": [
    {
     "name": "stdout",
     "output_type": "stream",
     "text": [
      "NC_001133.9\n",
      "NC_001133.9 Saccharomyces cerevisiae S288C chromosome I, complete sequence\n",
      "230218\n",
      "[]\n"
     ]
    }
   ],
   "source": [
    "# 配列ID, descriptionなどの確認、長さは len 関数で取得できる。\n",
    "print(r0.id)\n",
    "print(r0.description)\n",
    "print(len(r0))\n",
    "print(r0.features)  # FASTAファイルなのでアノテーションは含まれていない --> featuresは空"
   ]
  },
  {
   "cell_type": "code",
   "execution_count": 38,
   "metadata": {},
   "outputs": [],
   "source": [
    "# 配列を取り出す。\n",
    "r0_seq = r0.seq"
   ]
  },
  {
   "cell_type": "code",
   "execution_count": 39,
   "metadata": {},
   "outputs": [
    {
     "data": {
      "text/plain": [
       "Seq('ccacaccacacccacacacccacacaccacaccacacaccacaccacacccaca...ggg')"
      ]
     },
     "execution_count": 39,
     "metadata": {},
     "output_type": "execute_result"
    }
   ],
   "source": [
    "# 配列はSeq型のオブジェクトになっている。\n",
    "r0_seq"
   ]
  },
  {
   "cell_type": "markdown",
   "metadata": {},
   "source": [
    "Seq型オブジェクトは部分配列の切り出し、相補鎖変換 reverse_compliment, 翻訳 translate などの機能を持つ。"
   ]
  },
  {
   "cell_type": "code",
   "execution_count": 40,
   "metadata": {},
   "outputs": [
    {
     "data": {
      "text/plain": [
       "Seq('CTAGTTTGCGATAGTGTAGATACCGTCCTTGGATAGAGCACTGGAGATGGCTGG...Cat')"
      ]
     },
     "execution_count": 40,
     "metadata": {},
     "output_type": "execute_result"
    }
   ],
   "source": [
    "r0_seq[1806:2169]  # 遺伝子コード領域の切り出し。(1807-2169番目の塩基)"
   ]
  },
  {
   "cell_type": "markdown",
   "metadata": {},
   "source": [
    "配列の切り出しはFeatureLocationオブジェクトのextractメソッドを使用する方法もある。  \n",
    "遺伝子がコードされているストランドの切り出しや、複数エクソンから構成される遺伝子配列の切り出しにも対応しているので便利。(後で紹介）"
   ]
  },
  {
   "cell_type": "code",
   "execution_count": 41,
   "metadata": {},
   "outputs": [
    {
     "data": {
      "text/plain": [
       "Seq('atGGTCAAATTAACTTCAATCGCCGCTGGTGTCGCTGCCATCGCTGCTACTGCT...TAG')"
      ]
     },
     "execution_count": 41,
     "metadata": {},
     "output_type": "execute_result"
    }
   ],
   "source": [
    "# 相補鎖変換\n",
    "r0_seq[1806:2169].reverse_complement()"
   ]
  },
  {
   "cell_type": "code",
   "execution_count": 42,
   "metadata": {},
   "outputs": [
    {
     "data": {
      "text/plain": [
       "Seq('MVKLTSIAAGVAAIAATASATTTLAQSDERVNLVELGVYVSDIRAHLAQYYMFQ...AN*')"
      ]
     },
     "execution_count": 42,
     "metadata": {},
     "output_type": "execute_result"
    }
   ],
   "source": [
    "# 相補鎖変換　→　翻訳\n",
    "r0_seq[1806:2169].reverse_complement().translate()  "
   ]
  },
  {
   "cell_type": "code",
   "execution_count": 43,
   "metadata": {},
   "outputs": [
    {
     "data": {
      "text/plain": [
       "Seq('LVCDSVDTVLG*STGDGWL*SAGVPWNTGDHSGHLVWSNTGQHGGEVTVVENGF...FDH')"
      ]
     },
     "execution_count": 43,
     "metadata": {},
     "output_type": "execute_result"
    }
   ],
   "source": [
    "r0_seq[1806:2169].translate()  "
   ]
  },
  {
   "cell_type": "code",
   "execution_count": 44,
   "metadata": {
    "scrolled": true
   },
   "outputs": [
    {
     "ename": "ValueError",
     "evalue": "missing molecule_type in annotations",
     "output_type": "error",
     "traceback": [
      "\u001b[0;31m---------------------------------------------------------------------------\u001b[0m",
      "\u001b[0;31mValueError\u001b[0m                                Traceback (most recent call last)",
      "Cell \u001b[0;32mIn[44], line 2\u001b[0m\n\u001b[1;32m      1\u001b[0m \u001b[38;5;66;03m# GenBank形式への変換  --> ValueError: missing molecule_type in annotations というエラーが出る\u001b[39;00m\n\u001b[0;32m----> 2\u001b[0m \u001b[38;5;28mprint\u001b[39m(\u001b[43mr0\u001b[49m\u001b[38;5;241;43m.\u001b[39;49m\u001b[43mformat\u001b[49m\u001b[43m(\u001b[49m\u001b[38;5;124;43m\"\u001b[39;49m\u001b[38;5;124;43mgenbank\u001b[39;49m\u001b[38;5;124;43m\"\u001b[39;49m\u001b[43m)\u001b[49m)\n",
      "File \u001b[0;32m/opt/conda/envs/pags2023/lib/python3.11/site-packages/Bio/SeqRecord.py:719\u001b[0m, in \u001b[0;36mSeqRecord.format\u001b[0;34m(self, format)\u001b[0m\n\u001b[1;32m    689\u001b[0m \u001b[38;5;250m\u001b[39m\u001b[38;5;124mr\u001b[39m\u001b[38;5;124;03m\"\"\"Return the record as a string in the specified file format.\u001b[39;00m\n\u001b[1;32m    690\u001b[0m \n\u001b[1;32m    691\u001b[0m \u001b[38;5;124;03mThe format should be a lower case string supported as an output\u001b[39;00m\n\u001b[0;32m   (...)\u001b[0m\n\u001b[1;32m    715\u001b[0m \u001b[38;5;124;03mand binary formats are not supported).\u001b[39;00m\n\u001b[1;32m    716\u001b[0m \u001b[38;5;124;03m\"\"\"\u001b[39;00m\n\u001b[1;32m    717\u001b[0m \u001b[38;5;66;03m# See also the __format__ method\u001b[39;00m\n\u001b[1;32m    718\u001b[0m \u001b[38;5;66;03m# See also the Bio.Align.Generic.Alignment class and its format()\u001b[39;00m\n\u001b[0;32m--> 719\u001b[0m \u001b[38;5;28;01mreturn\u001b[39;00m \u001b[38;5;28;43mself\u001b[39;49m\u001b[38;5;241;43m.\u001b[39;49m\u001b[38;5;21;43m__format__\u001b[39;49m\u001b[43m(\u001b[49m\u001b[38;5;28;43mformat\u001b[39;49m\u001b[43m)\u001b[49m\n",
      "File \u001b[0;32m/opt/conda/envs/pags2023/lib/python3.11/site-packages/Bio/SeqRecord.py:757\u001b[0m, in \u001b[0;36mSeqRecord.__format__\u001b[0;34m(self, format_spec)\u001b[0m\n\u001b[1;32m    755\u001b[0m handle \u001b[38;5;241m=\u001b[39m StringIO()\n\u001b[1;32m    756\u001b[0m \u001b[38;5;28;01mtry\u001b[39;00m:\n\u001b[0;32m--> 757\u001b[0m     \u001b[43mSeqIO\u001b[49m\u001b[38;5;241;43m.\u001b[39;49m\u001b[43mwrite\u001b[49m\u001b[43m(\u001b[49m\u001b[38;5;28;43mself\u001b[39;49m\u001b[43m,\u001b[49m\u001b[43m \u001b[49m\u001b[43mhandle\u001b[49m\u001b[43m,\u001b[49m\u001b[43m \u001b[49m\u001b[43mformat_spec\u001b[49m\u001b[43m)\u001b[49m\n\u001b[1;32m    758\u001b[0m \u001b[38;5;28;01mexcept\u001b[39;00m StreamModeError:\n\u001b[1;32m    759\u001b[0m     \u001b[38;5;28;01mraise\u001b[39;00m \u001b[38;5;167;01mValueError\u001b[39;00m(\n\u001b[1;32m    760\u001b[0m         \u001b[38;5;124m\"\u001b[39m\u001b[38;5;124mBinary format \u001b[39m\u001b[38;5;132;01m%s\u001b[39;00m\u001b[38;5;124m cannot be used with SeqRecord format method\u001b[39m\u001b[38;5;124m\"\u001b[39m\n\u001b[1;32m    761\u001b[0m         \u001b[38;5;241m%\u001b[39m format_spec\n\u001b[1;32m    762\u001b[0m     ) \u001b[38;5;28;01mfrom\u001b[39;00m \u001b[38;5;28;01mNone\u001b[39;00m\n",
      "File \u001b[0;32m/opt/conda/envs/pags2023/lib/python3.11/site-packages/Bio/SeqIO/__init__.py:530\u001b[0m, in \u001b[0;36mwrite\u001b[0;34m(sequences, handle, format)\u001b[0m\n\u001b[1;32m    528\u001b[0m writer_class \u001b[38;5;241m=\u001b[39m _FormatToWriter\u001b[38;5;241m.\u001b[39mget(\u001b[38;5;28mformat\u001b[39m)\n\u001b[1;32m    529\u001b[0m \u001b[38;5;28;01mif\u001b[39;00m writer_class \u001b[38;5;129;01mis\u001b[39;00m \u001b[38;5;129;01mnot\u001b[39;00m \u001b[38;5;28;01mNone\u001b[39;00m:\n\u001b[0;32m--> 530\u001b[0m     count \u001b[38;5;241m=\u001b[39m \u001b[43mwriter_class\u001b[49m\u001b[43m(\u001b[49m\u001b[43mhandle\u001b[49m\u001b[43m)\u001b[49m\u001b[38;5;241;43m.\u001b[39;49m\u001b[43mwrite_file\u001b[49m\u001b[43m(\u001b[49m\u001b[43msequences\u001b[49m\u001b[43m)\u001b[49m\n\u001b[1;32m    531\u001b[0m     \u001b[38;5;28;01mif\u001b[39;00m \u001b[38;5;129;01mnot\u001b[39;00m \u001b[38;5;28misinstance\u001b[39m(count, \u001b[38;5;28mint\u001b[39m):\n\u001b[1;32m    532\u001b[0m         \u001b[38;5;28;01mraise\u001b[39;00m \u001b[38;5;167;01mRuntimeError\u001b[39;00m(\n\u001b[1;32m    533\u001b[0m             \u001b[38;5;124m\"\u001b[39m\u001b[38;5;124mInternal error - the underlying \u001b[39m\u001b[38;5;132;01m%s\u001b[39;00m\u001b[38;5;124m writer \u001b[39m\u001b[38;5;124m\"\u001b[39m\n\u001b[1;32m    534\u001b[0m             \u001b[38;5;124m\"\u001b[39m\u001b[38;5;124mshould have returned the record count, not \u001b[39m\u001b[38;5;132;01m%r\u001b[39;00m\u001b[38;5;124m\"\u001b[39m \u001b[38;5;241m%\u001b[39m (\u001b[38;5;28mformat\u001b[39m, count)\n\u001b[1;32m    535\u001b[0m         )\n",
      "File \u001b[0;32m/opt/conda/envs/pags2023/lib/python3.11/site-packages/Bio/SeqIO/Interfaces.py:244\u001b[0m, in \u001b[0;36mSequenceWriter.write_file\u001b[0;34m(self, records, mincount, maxcount)\u001b[0m\n\u001b[1;32m    242\u001b[0m \u001b[38;5;28;01mtry\u001b[39;00m:\n\u001b[1;32m    243\u001b[0m     \u001b[38;5;28mself\u001b[39m\u001b[38;5;241m.\u001b[39mwrite_header()\n\u001b[0;32m--> 244\u001b[0m     count \u001b[38;5;241m=\u001b[39m \u001b[38;5;28;43mself\u001b[39;49m\u001b[38;5;241;43m.\u001b[39;49m\u001b[43mwrite_records\u001b[49m\u001b[43m(\u001b[49m\u001b[43mrecords\u001b[49m\u001b[43m,\u001b[49m\u001b[43m \u001b[49m\u001b[43mmaxcount\u001b[49m\u001b[43m)\u001b[49m\n\u001b[1;32m    245\u001b[0m     \u001b[38;5;28mself\u001b[39m\u001b[38;5;241m.\u001b[39mwrite_footer()\n\u001b[1;32m    246\u001b[0m \u001b[38;5;28;01mfinally\u001b[39;00m:\n",
      "File \u001b[0;32m/opt/conda/envs/pags2023/lib/python3.11/site-packages/Bio/SeqIO/Interfaces.py:218\u001b[0m, in \u001b[0;36mSequenceWriter.write_records\u001b[0;34m(self, records, maxcount)\u001b[0m\n\u001b[1;32m    216\u001b[0m \u001b[38;5;28;01mif\u001b[39;00m maxcount \u001b[38;5;129;01mis\u001b[39;00m \u001b[38;5;28;01mNone\u001b[39;00m:\n\u001b[1;32m    217\u001b[0m     \u001b[38;5;28;01mfor\u001b[39;00m record \u001b[38;5;129;01min\u001b[39;00m records:\n\u001b[0;32m--> 218\u001b[0m         \u001b[38;5;28;43mself\u001b[39;49m\u001b[38;5;241;43m.\u001b[39;49m\u001b[43mwrite_record\u001b[49m\u001b[43m(\u001b[49m\u001b[43mrecord\u001b[49m\u001b[43m)\u001b[49m\n\u001b[1;32m    219\u001b[0m         count \u001b[38;5;241m+\u001b[39m\u001b[38;5;241m=\u001b[39m \u001b[38;5;241m1\u001b[39m\n\u001b[1;32m    220\u001b[0m \u001b[38;5;28;01melse\u001b[39;00m:\n",
      "File \u001b[0;32m/opt/conda/envs/pags2023/lib/python3.11/site-packages/Bio/SeqIO/InsdcIO.py:981\u001b[0m, in \u001b[0;36mGenBankWriter.write_record\u001b[0;34m(self, record)\u001b[0m\n\u001b[1;32m    979\u001b[0m \u001b[38;5;250m\u001b[39m\u001b[38;5;124;03m\"\"\"Write a single record to the output file.\"\"\"\u001b[39;00m\n\u001b[1;32m    980\u001b[0m handle \u001b[38;5;241m=\u001b[39m \u001b[38;5;28mself\u001b[39m\u001b[38;5;241m.\u001b[39mhandle\n\u001b[0;32m--> 981\u001b[0m \u001b[38;5;28;43mself\u001b[39;49m\u001b[38;5;241;43m.\u001b[39;49m\u001b[43m_write_the_first_line\u001b[49m\u001b[43m(\u001b[49m\u001b[43mrecord\u001b[49m\u001b[43m)\u001b[49m\n\u001b[1;32m    983\u001b[0m default \u001b[38;5;241m=\u001b[39m record\u001b[38;5;241m.\u001b[39mid\n\u001b[1;32m    984\u001b[0m \u001b[38;5;28;01mif\u001b[39;00m default\u001b[38;5;241m.\u001b[39mcount(\u001b[38;5;124m\"\u001b[39m\u001b[38;5;124m.\u001b[39m\u001b[38;5;124m\"\u001b[39m) \u001b[38;5;241m==\u001b[39m \u001b[38;5;241m1\u001b[39m \u001b[38;5;129;01mand\u001b[39;00m default[default\u001b[38;5;241m.\u001b[39mindex(\u001b[38;5;124m\"\u001b[39m\u001b[38;5;124m.\u001b[39m\u001b[38;5;124m\"\u001b[39m) \u001b[38;5;241m+\u001b[39m \u001b[38;5;241m1\u001b[39m :]\u001b[38;5;241m.\u001b[39misdigit():\n\u001b[1;32m    985\u001b[0m     \u001b[38;5;66;03m# Good, looks like accession.version and not something\u001b[39;00m\n\u001b[1;32m    986\u001b[0m     \u001b[38;5;66;03m# else like identifier.start-end\u001b[39;00m\n",
      "File \u001b[0;32m/opt/conda/envs/pags2023/lib/python3.11/site-packages/Bio/SeqIO/InsdcIO.py:744\u001b[0m, in \u001b[0;36mGenBankWriter._write_the_first_line\u001b[0;34m(self, record)\u001b[0m\n\u001b[1;32m    742\u001b[0m mol_type \u001b[38;5;241m=\u001b[39m \u001b[38;5;28mself\u001b[39m\u001b[38;5;241m.\u001b[39m_get_annotation_str(record, \u001b[38;5;124m\"\u001b[39m\u001b[38;5;124mmolecule_type\u001b[39m\u001b[38;5;124m\"\u001b[39m, \u001b[38;5;28;01mNone\u001b[39;00m)\n\u001b[1;32m    743\u001b[0m \u001b[38;5;28;01mif\u001b[39;00m mol_type \u001b[38;5;129;01mis\u001b[39;00m \u001b[38;5;28;01mNone\u001b[39;00m:\n\u001b[0;32m--> 744\u001b[0m     \u001b[38;5;28;01mraise\u001b[39;00m \u001b[38;5;167;01mValueError\u001b[39;00m(\u001b[38;5;124m\"\u001b[39m\u001b[38;5;124mmissing molecule_type in annotations\u001b[39m\u001b[38;5;124m\"\u001b[39m)\n\u001b[1;32m    745\u001b[0m \u001b[38;5;28;01mif\u001b[39;00m mol_type \u001b[38;5;129;01mand\u001b[39;00m \u001b[38;5;28mlen\u001b[39m(mol_type) \u001b[38;5;241m>\u001b[39m \u001b[38;5;241m7\u001b[39m:\n\u001b[1;32m    746\u001b[0m     \u001b[38;5;66;03m# Deal with common cases from EMBL to GenBank\u001b[39;00m\n\u001b[1;32m    747\u001b[0m     mol_type \u001b[38;5;241m=\u001b[39m mol_type\u001b[38;5;241m.\u001b[39mreplace(\u001b[38;5;124m\"\u001b[39m\u001b[38;5;124munassigned \u001b[39m\u001b[38;5;124m\"\u001b[39m, \u001b[38;5;124m\"\u001b[39m\u001b[38;5;124m\"\u001b[39m)\u001b[38;5;241m.\u001b[39mreplace(\u001b[38;5;124m\"\u001b[39m\u001b[38;5;124mgenomic \u001b[39m\u001b[38;5;124m\"\u001b[39m, \u001b[38;5;124m\"\u001b[39m\u001b[38;5;124m\"\u001b[39m)\n",
      "\u001b[0;31mValueError\u001b[0m: missing molecule_type in annotations"
     ]
    }
   ],
   "source": [
    "# GenBank形式への変換  --> ValueError: missing molecule_type in annotations というエラーが出る\n",
    "print(r0.format(\"genbank\"))"
   ]
  },
  {
   "cell_type": "code",
   "execution_count": 45,
   "metadata": {},
   "outputs": [
    {
     "name": "stdout",
     "output_type": "stream",
     "text": [
      "LOCUS       NC_001133.9           230218 bp    DNA              UNK 01-JAN-1980\n",
      "DEFINITION  NC_001133.9 Saccharomyces cerevisiae S288C chromosome I, complete\n",
      "            sequence.\n",
      "ACCESSION   NC_001133\n",
      "VERSION     NC_001133.9\n",
      "KEYWORDS    .\n",
      "SOURCE      .\n",
      "  ORGANISM  .\n",
      "            .\n",
      "FEATURES             Location/Qualifiers\n",
      "ORIGIN\n",
      "        1 ccacaccaca cccacacacc cacacaccac accacacacc acaccacacc cacacacaca\n",
      "       61 catcctaaca ctaccctaac acagccctaa tctaaccctg gccaacctgt ctctcaactt\n",
      "      121 accctccatt accctgcctc cactcgttac cctgtcccat tcaaccatac cactccgaac\n",
      "      181 caccatccat ccctctactt actaccactc acccaccgtt accctccaat tacccatatc\n",
      "      241 caacccactg ccacttaccc taccattacc ctaccatcca ccatgaccta ctcaccatac\n",
      "      301 tgttcttcta cccaccatat tgaaacgcta acaaatgatc gtaaataaca cacacgtgct\n",
      "      361 taccctacca ctttatacca ccaccacatg ccatactcac cctcacttgt atactgattt\n",
      "      421 tacgtacgca cacggatgct acagtatata ccatctcaaa cttaccctac tctcagattc\n",
      "      481 cacttcactc catggcccat ctctcactga atcagtacca aatgcact\n"
     ]
    }
   ],
   "source": [
    "# エラーを回避するには、molecule_type を指定する必要がある。\n",
    "r0.annotations[\"molecule_type\"] = \"DNA\"\n",
    "print(r0.format(\"genbank\")[:1000])  # 長いので先頭の1000文字だけ表示"
   ]
  },
  {
   "cell_type": "markdown",
   "metadata": {},
   "source": [
    "## すべての配列をループで回す"
   ]
  },
  {
   "cell_type": "code",
   "execution_count": 46,
   "metadata": {},
   "outputs": [
    {
     "name": "stdout",
     "output_type": "stream",
     "text": [
      "Seq ID= NC_001133.9\n",
      "Length= 230218\n",
      "ccacaccacacccacacacccacacaccacaccacacaccacaccacacc...\n",
      "----\n",
      "Seq ID= NC_001134.8\n",
      "Length= 813184\n",
      "AAATAGCCCTCATGTACGTCTCCTCCAAGCCCTGTTGTCTCTTACCCGGA...\n",
      "----\n",
      "Seq ID= NC_001135.5\n",
      "Length= 316620\n",
      "cccacacaccacacccacaccacacccacacaccacacacaccacaccca...\n",
      "----\n",
      "Seq ID= NC_001136.10\n",
      "Length= 1531933\n",
      "acaccacacccacaccacacccacacacaccacacccacacaccacaccc...\n",
      "----\n",
      "Seq ID= NC_001137.3\n",
      "Length= 576874\n",
      "CGTCTCCTCCAAGCCCTGTTGTCTCTTACCCGGATGTTCAACCAAAAGCT...\n",
      "----\n",
      "Seq ID= NC_001138.5\n",
      "Length= 270161\n",
      "GATCTCGCAAGTGCATTCCTAGACTTAATTCATATCTGCTCCTCAACTGT...\n",
      "----\n",
      "Seq ID= NC_001139.9\n",
      "Length= 1090940\n",
      "ccacacccacacacaccacacccacacccacacactACCCTAACACTACC...\n",
      "----\n",
      "Seq ID= NC_001140.6\n",
      "Length= 562643\n",
      "cccacacacaccacacccacacaccacacccacactTTTCACATCTACCT...\n",
      "----\n",
      "Seq ID= NC_001141.2\n",
      "Length= 439888\n",
      "cacacacaccacacccacaccacaccacaccacacccacacccacacaca...\n",
      "----\n",
      "Seq ID= NC_001142.9\n",
      "Length= 745751\n",
      "CCcacacacacaccacacccacacccacacacaccacacccacacaccac...\n",
      "----\n",
      "Seq ID= NC_001143.9\n",
      "Length= 666816\n",
      "caccacacccacacaccacacccacacacacaccacacccacacaccaca...\n",
      "----\n",
      "Seq ID= NC_001144.5\n",
      "Length= 1078177\n",
      "cacacacacacaccacccacacaccacaccacacaccacaccacacacca...\n",
      "----\n",
      "Seq ID= NC_001145.3\n",
      "Length= 924431\n",
      "Ccacacacacaccacacccacaccacacccacacccacacccacacccac...\n",
      "----\n",
      "Seq ID= NC_001146.8\n",
      "Length= 784333\n",
      "CCGGCTTTCTGAccgaaattaaaaaaaaaaaatgaaaatgaaaccCTGTT...\n",
      "----\n",
      "Seq ID= NC_001147.6\n",
      "Length= 1091291\n",
      "acaccacacccacaccacacccacacccacacaccacacccacacacaca...\n",
      "----\n",
      "Seq ID= NC_001148.4\n",
      "Length= 948066\n",
      "AAATAGCCCTCATGTACGTCTCCTCCAAGCCCTGTTGTCTCTTACCCGGA...\n",
      "----\n",
      "Seq ID= NC_001224.1\n",
      "Length= 85779\n",
      "TTCATAATTAATTTTTTATATATATATTATATTATAATATTAATTTATAT...\n",
      "----\n"
     ]
    }
   ],
   "source": [
    "# recordsはイテレータなので、リストと同じようにforループで回すことができます。\n",
    "records = SeqIO.parse(fasta_file_name, \"fasta\")\n",
    "for r in records:\n",
    "    print(\"Seq ID=\", r.id)\n",
    "    print(\"Length=\", len(r))\n",
    "    print(r.seq[:50] + \"...\")\n",
    "    print(\"----\")"
   ]
  },
  {
   "cell_type": "code",
   "execution_count": 47,
   "metadata": {},
   "outputs": [],
   "source": [
    "# list関数を使うことでも同様のことが可能。(ファイル全体をメモリに読み込むので大きいファイルの扱いには注意)\n",
    "records = list(SeqIO.parse(fasta_file_name, \"fasta\"))"
   ]
  },
  {
   "cell_type": "code",
   "execution_count": 48,
   "metadata": {},
   "outputs": [
    {
     "data": {
      "text/plain": [
       "[SeqRecord(seq=Seq('ccacaccacacccacacacccacacaccacaccacacaccacaccacacccaca...ggg'), id='NC_001133.9', name='NC_001133.9', description='NC_001133.9 Saccharomyces cerevisiae S288C chromosome I, complete sequence', dbxrefs=[]),\n",
       " SeqRecord(seq=Seq('AAATAGCCCTCATGTACGTCTCCTCCAAGCCCTGTTGTCTCTTACCCGGATGTT...tgt'), id='NC_001134.8', name='NC_001134.8', description='NC_001134.8 Saccharomyces cerevisiae S288C chromosome II, complete sequence', dbxrefs=[]),\n",
       " SeqRecord(seq=Seq('cccacacaccacacccacaccacacccacacaccacacacaccacacccacaca...gtg'), id='NC_001135.5', name='NC_001135.5', description='NC_001135.5 Saccharomyces cerevisiae S288C chromosome III, complete sequence', dbxrefs=[]),\n",
       " SeqRecord(seq=Seq('acaccacacccacaccacacccacacacaccacacccacacaccacacccacac...TGG'), id='NC_001136.10', name='NC_001136.10', description='NC_001136.10 Saccharomyces cerevisiae S288C chromosome IV, complete sequence', dbxrefs=[]),\n",
       " SeqRecord(seq=Seq('CGTCTCCTCCAAGCCCTGTTGTCTCTTACCCGGATGTTCAACCAAAAGCTACTT...ttt'), id='NC_001137.3', name='NC_001137.3', description='NC_001137.3 Saccharomyces cerevisiae S288C chromosome V, complete sequence', dbxrefs=[]),\n",
       " SeqRecord(seq=Seq('GATCTCGCAAGTGCATTCCTAGACTTAATTCATATCTGCTCCTCAACTGTCGAT...tgg'), id='NC_001138.5', name='NC_001138.5', description='NC_001138.5 Saccharomyces cerevisiae S288C chromosome VI, complete sequence', dbxrefs=[]),\n",
       " SeqRecord(seq=Seq('ccacacccacacacaccacacccacacccacacactACCCTAACACTACCCTAA...ttt'), id='NC_001139.9', name='NC_001139.9', description='NC_001139.9 Saccharomyces cerevisiae S288C chromosome VII, complete sequence', dbxrefs=[]),\n",
       " SeqRecord(seq=Seq('cccacacacaccacacccacacaccacacccacactTTTCACATCTACCTCTAC...tgG'), id='NC_001140.6', name='NC_001140.6', description='NC_001140.6 Saccharomyces cerevisiae S288C chromosome VIII, complete sequence', dbxrefs=[]),\n",
       " SeqRecord(seq=Seq('cacacacaccacacccacaccacaccacaccacacccacacccacacacaccac...tgt'), id='NC_001141.2', name='NC_001141.2', description='NC_001141.2 Saccharomyces cerevisiae S288C chromosome IX, complete sequence', dbxrefs=[]),\n",
       " SeqRecord(seq=Seq('CCcacacacacaccacacccacacccacacacaccacacccacacaccacaccc...tgt'), id='NC_001142.9', name='NC_001142.9', description='NC_001142.9 Saccharomyces cerevisiae S288C chromosome X, complete sequence', dbxrefs=[]),\n",
       " SeqRecord(seq=Seq('caccacacccacacaccacacccacacacacaccacacccacacaccacaccca...tgt'), id='NC_001143.9', name='NC_001143.9', description='NC_001143.9 Saccharomyces cerevisiae S288C chromosome XI, complete sequence', dbxrefs=[]),\n",
       " SeqRecord(seq=Seq('cacacacacacaccacccacacaccacaccacacaccacaccacacaccacacc...TTT'), id='NC_001144.5', name='NC_001144.5', description='NC_001144.5 Saccharomyces cerevisiae S288C chromosome XII, complete sequence', dbxrefs=[]),\n",
       " SeqRecord(seq=Seq('CcacacacacaccacacccacaccacacccacacccacacccacacccacactT...GGG'), id='NC_001145.3', name='NC_001145.3', description='NC_001145.3 Saccharomyces cerevisiae S288C chromosome XIII, complete sequence', dbxrefs=[]),\n",
       " SeqRecord(seq=Seq('CCGGCTTTCTGAccgaaattaaaaaaaaaaaatgaaaatgaaaccCTGTTCTTT...ggt'), id='NC_001146.8', name='NC_001146.8', description='NC_001146.8 Saccharomyces cerevisiae S288C chromosome XIV, complete sequence', dbxrefs=[]),\n",
       " SeqRecord(seq=Seq('acaccacacccacaccacacccacacccacacaccacacccacacacacacaca...tgt'), id='NC_001147.6', name='NC_001147.6', description='NC_001147.6 Saccharomyces cerevisiae S288C chromosome XV, complete sequence', dbxrefs=[]),\n",
       " SeqRecord(seq=Seq('AAATAGCCCTCATGTACGTCTCCTCCAAGCCCTGTTGTCTCTTACCCGGATGTT...AAA'), id='NC_001148.4', name='NC_001148.4', description='NC_001148.4 Saccharomyces cerevisiae S288C chromosome XVI, complete sequence', dbxrefs=[]),\n",
       " SeqRecord(seq=Seq('TTCATAATTAATTTTTTATATATATATTATATTATAATATTAATTTATATTATA...ATA'), id='NC_001224.1', name='NC_001224.1', description='NC_001224.1 Saccharomyces cerevisiae S288c mitochondrion, complete genome', dbxrefs=[])]"
      ]
     },
     "execution_count": 48,
     "metadata": {},
     "output_type": "execute_result"
    }
   ],
   "source": [
    "records"
   ]
  },
  {
   "cell_type": "code",
   "execution_count": 49,
   "metadata": {},
   "outputs": [
    {
     "data": {
      "text/plain": [
       "SeqRecord(seq=Seq('TTCATAATTAATTTTTTATATATATATTATATTATAATATTAATTTATATTATA...ATA'), id='NC_001224.1', name='NC_001224.1', description='NC_001224.1 Saccharomyces cerevisiae S288c mitochondrion, complete genome', dbxrefs=[])"
      ]
     },
     "execution_count": 49,
     "metadata": {},
     "output_type": "execute_result"
    }
   ],
   "source": [
    "# リストにした場合には、indexを指定してデータを抽出することが可能。例えば、最後の配列を取り出すには-1を指定する。\n",
    "records[-1]"
   ]
  },
  {
   "cell_type": "markdown",
   "metadata": {},
   "source": [
    "__練習__  \n",
    "s288c株の遺伝子タンパク質配列FASTAファイル（data/s288c.protein.faa）を読み込み、閾値未満の長さの配列を取り除き、降順（長いもの順）に\n",
    "出力するスクリプトを作成せよ。  \n",
    "下記のテンプレートを使うこと。下にヒントあり。"
   ]
  },
  {
   "cell_type": "code",
   "execution_count": 50,
   "metadata": {},
   "outputs": [
    {
     "name": "stdout",
     "output_type": "stream",
     "text": [
      "ID: YAL068C\n",
      "Name: YAL068C\n",
      "Description: YAL068C seripauperin PAU8\n",
      "Number of features: 0\n",
      "Seq('MVKLTSIAAGVAAIAATASATTTLAQSDERVNLVELGVYVSDIRAHLAQYYMFQ...IAN')\n",
      "Length= 120\n",
      "-----\n",
      "ID: YAL067W-A\n",
      "Name: YAL067W-A\n",
      "Description: YAL067W-A hypothetical protein\n",
      "Number of features: 0\n",
      "Seq('MPIIGVPRCLIKPFSVPVTFPFSVKKNIRILDLDPRTEAYCLSLNSVCFKRLPR...VYC')\n",
      "Length= 75\n",
      "-----\n",
      "ID: YAL067C\n",
      "Name: YAL067C\n",
      "Description: YAL067C putative permease SEO1\n",
      "Number of features: 0\n",
      "Seq('MYSIVKEIIVDPYKRLKWGFIPVKRQVEDLPDDLNSTEIVTISNSIQSHETAEN...DEK')\n",
      "Length= 593\n",
      "-----\n",
      "ID: YAL065C\n",
      "Name: YAL065C\n",
      "Description: YAL065C hypothetical protein\n",
      "Number of features: 0\n",
      "Seq('MNSATSETTTNTGAAETTTSTGAAETKTVVTSSISRFNHAETQTASATDVIGHS...IVW')\n",
      "Length= 128\n",
      "-----\n",
      "ID: YAL064W-B\n",
      "Name: YAL064W-B\n",
      "Description: YAL064W-B hypothetical protein\n",
      "Number of features: 0\n",
      "Seq('MAGEAVSEHTPDSQEVTVTSVVCCLDSVVEIGHHVVYSVVTPLIVAVLIDTMAG...VHT')\n",
      "Length= 126\n",
      "-----\n"
     ]
    }
   ],
   "source": [
    "protein_fasta_file = \"data/s288c.protein.faa\"\n",
    "records = list(SeqIO.parse(protein_fasta_file, \"fasta\")) \n",
    "threshold = 1000\n",
    "\n",
    "# 閾値未満のものを除く処理を追加\n",
    "\n",
    "# recordsを降順にソートする処理を追加\n",
    "\n",
    "i = 0\n",
    "for r in records:\n",
    "    print(r)\n",
    "    print(\"Length=\", len(r))\n",
    "    print(\"-----\")\n",
    "    i += 1\n",
    "    if i == 5:\n",
    "        break  # 5件出力した時点で処理を停止する。(画面が溢れるのを防ぐため)"
   ]
  },
  {
   "cell_type": "markdown",
   "metadata": {},
   "source": [
    "__ヒント1__  \n",
    "リスト内包表記を使ったフィルタリング"
   ]
  },
  {
   "cell_type": "code",
   "execution_count": 51,
   "metadata": {},
   "outputs": [
    {
     "data": {
      "text/plain": [
       "[1, 4, 9, 16, 25]"
      ]
     },
     "execution_count": 51,
     "metadata": {},
     "output_type": "execute_result"
    }
   ],
   "source": [
    "# リスト内包表記を使うとリストから新しいリストを生成できる。\n",
    "L = [1, 2, 3, 4, 5]\n",
    "[num*num for num in L]"
   ]
  },
  {
   "cell_type": "code",
   "execution_count": 52,
   "metadata": {
    "scrolled": true
   },
   "outputs": [
    {
     "data": {
      "text/plain": [
       "[400, 500]"
      ]
     },
     "execution_count": 52,
     "metadata": {},
     "output_type": "execute_result"
    }
   ],
   "source": [
    "# 値が3より大きい要素を抽出したリストを生成する\n",
    "L = [1, 2, 3, 4, 5]\n",
    "[x * 100 for x in L if x>3]"
   ]
  },
  {
   "cell_type": "markdown",
   "metadata": {},
   "source": [
    "__ヒント２__  \n",
    "`key` を指定して様々な方法でソートを行う"
   ]
  },
  {
   "cell_type": "code",
   "execution_count": 53,
   "metadata": {},
   "outputs": [
    {
     "data": {
      "text/plain": [
       "['hippopotamus', 'buffalo', 'horse', 'tiger', 'cat', 'dog', 'ox']"
      ]
     },
     "execution_count": 53,
     "metadata": {},
     "output_type": "execute_result"
    }
   ],
   "source": [
    "# 文字列の長さでソート\n",
    "L = [\"cat\",  \"horse\", \"buffalo\", \"dog\", \"ox\", \"hippopotamus\", \"tiger\"]\n",
    "# sorted(L)\n",
    "sorted(L, key=len, reverse=True)"
   ]
  },
  {
   "cell_type": "markdown",
   "metadata": {},
   "source": [
    "`key` には\"大小\"や\"順番\"が判定できる値を返す任意の関数を指定することができる。自分で定義した関数を指定することもできる。  \n",
    "下記は `lambda` 式（無名関数）を使った例"
   ]
  },
  {
   "cell_type": "code",
   "execution_count": 54,
   "metadata": {},
   "outputs": [
    {
     "name": "stdout",
     "output_type": "stream",
     "text": [
      "普通にソート ['gene_1', 'gene_10', 'gene_101', 'gene_2', 'gene_21']\n",
      "数字部分でソート ['gene_1', 'gene_2', 'gene_10', 'gene_21', 'gene_101']\n"
     ]
    }
   ],
   "source": [
    "# lambda式を使う例。geneの後の数字部分でソート\n",
    "L = [\"gene_1\", \"gene_10\", \"gene_2\", \"gene_21\", \"gene_101\", ]\n",
    "print(\"普通にソート\", sorted(L))\n",
    "print(\"数字部分でソート\", sorted(L, key=lambda x: int(x.split(\"_\")[1])))"
   ]
  },
  {
   "cell_type": "markdown",
   "metadata": {
    "collapsed": true,
    "jupyter": {
     "outputs_hidden": true
    }
   },
   "source": [
    "## ファイルを読み込み、辞書として格納"
   ]
  },
  {
   "cell_type": "markdown",
   "metadata": {},
   "source": [
    "__本講義では詳細は割愛__"
   ]
  },
  {
   "cell_type": "markdown",
   "metadata": {},
   "source": [
    "SeqIO.parseはFASTAファイルに含まれる配列データを前から順にしか扱うことができない。配列データを辞書に格納すると任意の配列を参照することができる (ランダムアクセス)"
   ]
  },
  {
   "cell_type": "code",
   "execution_count": 55,
   "metadata": {},
   "outputs": [],
   "source": [
    "# SeqIO.to_dict関数を使うと、配列IDをkeyとした辞書にデータを格納することができる。\n",
    "records = SeqIO.parse(fasta_file_name, \"fasta\")\n",
    "dict_records = SeqIO.to_dict(records)"
   ]
  },
  {
   "cell_type": "code",
   "execution_count": 56,
   "metadata": {},
   "outputs": [
    {
     "data": {
      "text/plain": [
       "17"
      ]
     },
     "execution_count": 56,
     "metadata": {},
     "output_type": "execute_result"
    }
   ],
   "source": [
    "# 全17件の辞書ができる\n",
    "len(dict_records)"
   ]
  },
  {
   "cell_type": "code",
   "execution_count": 57,
   "metadata": {},
   "outputs": [
    {
     "data": {
      "text/plain": [
       "dict_keys(['NC_001133.9', 'NC_001134.8', 'NC_001135.5', 'NC_001136.10', 'NC_001137.3', 'NC_001138.5', 'NC_001139.9', 'NC_001140.6', 'NC_001141.2', 'NC_001142.9', 'NC_001143.9', 'NC_001144.5', 'NC_001145.3', 'NC_001146.8', 'NC_001147.6', 'NC_001148.4', 'NC_001224.1'])"
      ]
     },
     "execution_count": 57,
     "metadata": {},
     "output_type": "execute_result"
    }
   ],
   "source": [
    "dict_records.keys()"
   ]
  },
  {
   "cell_type": "code",
   "execution_count": 58,
   "metadata": {},
   "outputs": [
    {
     "data": {
      "text/plain": [
       "SeqRecord(seq=Seq('TTCATAATTAATTTTTTATATATATATTATATTATAATATTAATTTATATTATA...ATA'), id='NC_001224.1', name='NC_001224.1', description='NC_001224.1 Saccharomyces cerevisiae S288c mitochondrion, complete genome', dbxrefs=[])"
      ]
     },
     "execution_count": 58,
     "metadata": {},
     "output_type": "execute_result"
    }
   ],
   "source": [
    "dict_records[\"NC_001224.1\"]"
   ]
  },
  {
   "cell_type": "markdown",
   "metadata": {},
   "source": [
    "上記の方法はファイルに含まれるすべての配列情報をメモリに格納するので、大きなファイルの取り扱いには向いていない。  \n",
    "別の方法としてSeqIO.index関数を使う方法もある。"
   ]
  },
  {
   "cell_type": "code",
   "execution_count": 59,
   "metadata": {},
   "outputs": [],
   "source": [
    "idx_records = SeqIO.index(fasta_file_name, \"fasta\")"
   ]
  },
  {
   "cell_type": "code",
   "execution_count": 60,
   "metadata": {},
   "outputs": [
    {
     "data": {
      "text/plain": [
       "Bio.File._IndexedSeqFileDict"
      ]
     },
     "execution_count": 60,
     "metadata": {},
     "output_type": "execute_result"
    }
   ],
   "source": [
    "# idx_recordsはSeq\n",
    "type(idx_records)"
   ]
  },
  {
   "cell_type": "code",
   "execution_count": 61,
   "metadata": {},
   "outputs": [
    {
     "data": {
      "text/plain": [
       "SeqRecord(seq=Seq('TTCATAATTAATTTTTTATATATATATTATATTATAATATTAATTTATATTATA...ATA'), id='NC_001224.1', name='NC_001224.1', description='NC_001224.1 Saccharomyces cerevisiae S288c mitochondrion, complete genome', dbxrefs=[])"
      ]
     },
     "execution_count": 61,
     "metadata": {},
     "output_type": "execute_result"
    }
   ],
   "source": [
    "# idx_recordsは辞書と同じように使用できる。\n",
    "# to_dictと異なりメモリ上にデータを保持していないため、処理速度は若干遅くなる。\n",
    "idx_records.get(\"NC_001224.1\")"
   ]
  },
  {
   "cell_type": "code",
   "execution_count": 62,
   "metadata": {},
   "outputs": [
    {
     "name": "stdout",
     "output_type": "stream",
     "text": [
      ">NC_001224.1 Saccharomyces cerevisiae S288c mitochondrion, complete genome\n",
      "TTCATAATTAATTTTTTATATATATATTATATTATAATATTAATTTATATTATAAAAATAATATTTATTATTAAAATATT\n",
      "TATTCTCCTTTCGGGGTTCCGGCTCCCGTGGCCGGGCCCCGGAATTATTAATTAATAATAAATTATTATTAATAATTATT\n",
      "TATTATTTTATCATTAAAATATATAAATAAAAAATATTAAAAAGATAAAAAAAATAATGTTTA\n"
     ]
    }
   ],
   "source": [
    "print(idx_records.get_raw(\"NC_001224.1\").decode()[:300])  # get_rawで元の形式のまま取り出せる(長いので先頭300文字のみ表示しています)"
   ]
  },
  {
   "cell_type": "markdown",
   "metadata": {},
   "source": [
    "# GenBankファイルの読み込み\n",
    "FASTAファイルと同様に SeqIO.parse を利用して読み込み可能。`format=\"genbank\"`を指定する。"
   ]
  },
  {
   "cell_type": "markdown",
   "metadata": {},
   "source": [
    "### GenBank形式ファイル"
   ]
  },
  {
   "cell_type": "markdown",
   "metadata": {},
   "source": [
    "- __NCBI GenBank の公開形式ファイル (flatfile)__\n",
    "    - A. ヘッダー部分  \n",
    "      生物種情報、登録者情報、文献情報、登録日などの情報が含まれる  \n",
    "    - B. アノテーション部分  \n",
    "      配列に対する生物学的記述 (biological feature)  \n",
    "      それぞれの biological feature は位置情報 (location) と、さまざまな属性値 (qualifier) から構成される  \n",
    "      例) 遺伝子領域やリピート領域などの記載  \n",
    "    - C. 配列部分  \n"
   ]
  },
  {
   "cell_type": "markdown",
   "metadata": {},
   "source": [
    "![fig2](img/fig_genbank_format.png)"
   ]
  },
  {
   "cell_type": "markdown",
   "metadata": {},
   "source": [
    "図) 羊土社・実験医学別冊「独習 Pythonバイオ情報解析」より引用"
   ]
  },
  {
   "cell_type": "markdown",
   "metadata": {},
   "source": [
    "## アノテーション情報の確認"
   ]
  },
  {
   "cell_type": "markdown",
   "metadata": {},
   "source": [
    "FASTAファイルの場合と異なり、GenBank形式には配列に対する様々な注釈情報 (アノテーション) が含まれる。  \n",
    "Biopythonを利用すればこれらを簡単に取得することができる。"
   ]
  },
  {
   "cell_type": "code",
   "execution_count": 63,
   "metadata": {},
   "outputs": [],
   "source": [
    "gbk_file_name = \"data/s288c.gbk\""
   ]
  },
  {
   "cell_type": "code",
   "execution_count": 64,
   "metadata": {},
   "outputs": [],
   "source": [
    "# ここではlist関数を利用して、全データをリストとして読み込んでいる。\n",
    "records = list(SeqIO.parse(gbk_file_name, \"genbank\"))"
   ]
  },
  {
   "cell_type": "code",
   "execution_count": 65,
   "metadata": {},
   "outputs": [],
   "source": [
    "# １件目 (0番目)\n",
    "r0 = records[0]"
   ]
  },
  {
   "cell_type": "code",
   "execution_count": 66,
   "metadata": {},
   "outputs": [
    {
     "data": {
      "text/plain": [
       "SeqRecord(seq=Seq('CCACACCACACCCACACACCCACACACCACACCACACACCACACCACACCCACA...GGG'), id='NC_001133.9', name='NC_001133', description='Saccharomyces cerevisiae S288C chromosome I, complete sequence', dbxrefs=['BioProject:PRJNA128', 'Assembly:GCF_000146045.2'])"
      ]
     },
     "execution_count": 66,
     "metadata": {},
     "output_type": "execute_result"
    }
   ],
   "source": [
    "r0"
   ]
  },
  {
   "cell_type": "code",
   "execution_count": 67,
   "metadata": {},
   "outputs": [
    {
     "name": "stdout",
     "output_type": "stream",
     "text": [
      "['__add__', '__bool__', '__class__', '__contains__', '__delattr__', '__dict__', '__dir__', '__doc__', '__eq__', '__format__', '__ge__', '__getattribute__', '__getitem__', '__getstate__', '__gt__', '__hash__', '__init__', '__init_subclass__', '__iter__', '__le__', '__le___', '__len__', '__lt__', '__module__', '__ne__', '__new__', '__radd__', '__reduce__', '__reduce_ex__', '__repr__', '__setattr__', '__sizeof__', '__str__', '__subclasshook__', '__weakref__', '_per_letter_annotations', '_seq', '_set_per_letter_annotations', '_set_seq', 'annotations', 'dbxrefs', 'description', 'features', 'format', 'id', 'letter_annotations', 'lower', 'name', 'reverse_complement', 'seq', 'translate', 'upper']\n"
     ]
    }
   ],
   "source": [
    "print(dir(r0))"
   ]
  },
  {
   "cell_type": "code",
   "execution_count": 68,
   "metadata": {},
   "outputs": [
    {
     "data": {
      "text/plain": [
       "{'molecule_type': 'DNA',\n",
       " 'topology': 'linear',\n",
       " 'data_file_division': 'CON',\n",
       " 'date': '06-APR-2018',\n",
       " 'accessions': ['NC_001133'],\n",
       " 'sequence_version': 9,\n",
       " 'keywords': ['RefSeq'],\n",
       " 'source': 'Saccharomyces cerevisiae S288C',\n",
       " 'organism': 'Saccharomyces cerevisiae S288C',\n",
       " 'taxonomy': ['Eukaryota',\n",
       "  'Fungi',\n",
       "  'Dikarya',\n",
       "  'Ascomycota',\n",
       "  'Saccharomycotina',\n",
       "  'Saccharomycetes',\n",
       "  'Saccharomycetales',\n",
       "  'Saccharomycetaceae',\n",
       "  'Saccharomyces'],\n",
       " 'references': [Reference(title='Life with 6000 genes', ...),\n",
       "  Reference(title='The nucleotide sequence of chromosome I from Saccharomyces cerevisiae', ...),\n",
       "  Reference(title='Direct Submission', ...),\n",
       "  Reference(title='Direct Submission', ...),\n",
       "  Reference(title='Direct Submission', ...)],\n",
       " 'comment': 'REVIEWED REFSEQ: This record has been curated by SGD. The reference\\nsequence is identical to BK006935.\\nOn Apr 26, 2011 this sequence version replaced NC_001133.8.\\nCOMPLETENESS: full length.',\n",
       " 'structured_comment': OrderedDict([('Genome-Annotation-Data',\n",
       "               OrderedDict([('Annotation Provider', 'SGD'),\n",
       "                            ('Annotation Status', 'Full Annotation'),\n",
       "                            ('Annotation Version', 'R64-2-1'),\n",
       "                            ('URL', 'http://www.yeastgenome.org/')]))]),\n",
       " 'contig': 'join(BK006935.2:1..230218)'}"
      ]
     },
     "execution_count": 68,
     "metadata": {},
     "output_type": "execute_result"
    }
   ],
   "source": [
    "# FASTAファイルを読み込んだときには空だったannotationsに配列のメタデータが辞書として格納されている。\n",
    "# ここでの \"annotation\" は配列全体に対する生物種情報や登録者情報といったメタデータのことを示す。\n",
    "# 遺伝子領域などの生物学的注釈情報は後述のfeaturesに含まれている。\n",
    "r0.annotations"
   ]
  },
  {
   "cell_type": "code",
   "execution_count": 69,
   "metadata": {},
   "outputs": [
    {
     "data": {
      "text/plain": [
       "[SeqFeature(FeatureLocation(ExactPosition(0), ExactPosition(230218), strand=1), type='source'),\n",
       " SeqFeature(FeatureLocation(ExactPosition(0), ExactPosition(801), strand=-1), type='telomere'),\n",
       " SeqFeature(FeatureLocation(ExactPosition(706), ExactPosition(776), strand=1), type='rep_origin'),\n",
       " SeqFeature(FeatureLocation(BeforePosition(1806), AfterPosition(2169), strand=-1), type='gene'),\n",
       " SeqFeature(FeatureLocation(BeforePosition(1806), AfterPosition(2169), strand=-1), type='mRNA'),\n",
       " SeqFeature(FeatureLocation(ExactPosition(1806), ExactPosition(2169), strand=-1), type='CDS'),\n",
       " SeqFeature(FeatureLocation(BeforePosition(2479), AfterPosition(2707), strand=1), type='gene'),\n",
       " SeqFeature(FeatureLocation(BeforePosition(2479), AfterPosition(2707), strand=1), type='mRNA'),\n",
       " SeqFeature(FeatureLocation(ExactPosition(2479), ExactPosition(2707), strand=1), type='CDS'),\n",
       " SeqFeature(FeatureLocation(BeforePosition(7234), AfterPosition(9016), strand=-1), type='gene')]"
      ]
     },
     "execution_count": 69,
     "metadata": {},
     "output_type": "execute_result"
    }
   ],
   "source": [
    "# アノテーションされた遺伝子領域の情報はfeaturesにリストとして格納されている。(先頭10件のみ表示)\n",
    "r0.features[:10]"
   ]
  },
  {
   "cell_type": "code",
   "execution_count": 70,
   "metadata": {},
   "outputs": [],
   "source": [
    "# 先頭(0番目)のfeatureを取り出す\n",
    "f0 = r0.features[0]"
   ]
  },
  {
   "cell_type": "code",
   "execution_count": 71,
   "metadata": {},
   "outputs": [
    {
     "name": "stdout",
     "output_type": "stream",
     "text": [
      "type: source\n",
      "location: [0:230218](+)\n",
      "qualifiers:\n",
      "    Key: chromosome, Value: ['I']\n",
      "    Key: db_xref, Value: ['taxon:559292']\n",
      "    Key: mol_type, Value: ['genomic DNA']\n",
      "    Key: organism, Value: ['Saccharomyces cerevisiae S288C']\n",
      "    Key: strain, Value: ['S288C']\n",
      "\n"
     ]
    }
   ],
   "source": [
    "# 先頭のfeatureはsource feature\n",
    "# source featureはその配列の由来について記述したもので、通常は配列1本について先頭に1件のみ記載される。\n",
    "print(f0)"
   ]
  },
  {
   "cell_type": "code",
   "execution_count": 72,
   "metadata": {},
   "outputs": [],
   "source": [
    "# 3-5番目のfeature (gene) を取り出す\n",
    "f3, f4, f5 = r0.features[3:6]"
   ]
  },
  {
   "cell_type": "code",
   "execution_count": 73,
   "metadata": {},
   "outputs": [
    {
     "name": "stdout",
     "output_type": "stream",
     "text": [
      "type: gene\n",
      "location: [<1806:>2169](-)\n",
      "qualifiers:\n",
      "    Key: db_xref, Value: ['GeneID:851229']\n",
      "    Key: gene, Value: ['PAU8']\n",
      "    Key: locus_tag, Value: ['YAL068C']\n",
      "\n",
      "type: mRNA\n",
      "location: [<1806:>2169](-)\n",
      "qualifiers:\n",
      "    Key: db_xref, Value: ['GeneID:851229']\n",
      "    Key: gene, Value: ['PAU8']\n",
      "    Key: locus_tag, Value: ['YAL068C']\n",
      "    Key: product, Value: ['seripauperin PAU8']\n",
      "    Key: transcript_id, Value: ['NM_001180043.1']\n",
      "\n",
      "type: CDS\n",
      "location: [1806:2169](-)\n",
      "qualifiers:\n",
      "    Key: codon_start, Value: ['1']\n",
      "    Key: db_xref, Value: ['GeneID:851229', 'SGD:S000002142']\n",
      "    Key: gene, Value: ['PAU8']\n",
      "    Key: locus_tag, Value: ['YAL068C']\n",
      "    Key: note, Value: ['hypothetical protein; member of the seripauperin multigene family encoded mainly in subtelomeric regions']\n",
      "    Key: product, Value: ['seripauperin PAU8']\n",
      "    Key: protein_id, Value: ['NP_009332.1']\n",
      "    Key: translation, Value: ['MVKLTSIAAGVAAIAATASATTTLAQSDERVNLVELGVYVSDIRAHLAQYYMFQAAHPTETYPVEVAEAVFNYGDFTTMLTGIAPDQVTRMITGVPWYSSRLKPAISSALSKDGIYTIAN']\n",
      "\n"
     ]
    }
   ],
   "source": [
    "# featureのおもな構成要素は、type, location, qualifiers \n",
    "# ここでは、gene, mRNA, CDS に同じ、locus_tag　が割り当てられていることから、これらが対応関係にあることがわかる。\n",
    "print(f3)\n",
    "print(f4)\n",
    "print(f5)"
   ]
  },
  {
   "cell_type": "markdown",
   "metadata": {},
   "source": [
    "下記がGenBankファイル中での５番目のfeatureについての記載\n",
    "```\n",
    "     CDS             complement(1807..2169)\n",
    "                     /gene=\"PAU8\"\n",
    "                     /locus_tag=\"YAL068C\"\n",
    "                     /note=\"hypothetical protein; member of the seripauperin\n",
    "                     multigene family encoded mainly in subtelomeric regions\"\n",
    "                     /codon_start=1\n",
    "                     /product=\"seripauperin PAU8\"\n",
    "                     /protein_id=\"NP_009332.1\"\n",
    "                     /db_xref=\"GeneID:851229\"\n",
    "                     /db_xref=\"SGD:S000002142\"\n",
    "                     /translation=\"MVKLTSIAAGVAAIAATASATTTLAQSDERVNLVELGVYVSDIR\n",
    "                     AHLAQYYMFQAAHPTETYPVEVAEAVFNYGDFTTMLTGIAPDQVTRMITGVPWYSSRL\n",
    "                     KPAISSALSKDGIYTIAN\"\n",
    "```\n"
   ]
  },
  {
   "cell_type": "markdown",
   "metadata": {},
   "source": [
    "以下に、上記の記載情報を取り出す方法を説明する。"
   ]
  },
  {
   "cell_type": "code",
   "execution_count": 74,
   "metadata": {},
   "outputs": [
    {
     "data": {
      "text/plain": [
       "OrderedDict([('gene', ['PAU8']),\n",
       "             ('locus_tag', ['YAL068C']),\n",
       "             ('note',\n",
       "              ['hypothetical protein; member of the seripauperin multigene family encoded mainly in subtelomeric regions']),\n",
       "             ('codon_start', ['1']),\n",
       "             ('product', ['seripauperin PAU8']),\n",
       "             ('protein_id', ['NP_009332.1']),\n",
       "             ('db_xref', ['GeneID:851229', 'SGD:S000002142']),\n",
       "             ('translation',\n",
       "              ['MVKLTSIAAGVAAIAATASATTTLAQSDERVNLVELGVYVSDIRAHLAQYYMFQAAHPTETYPVEVAEAVFNYGDFTTMLTGIAPDQVTRMITGVPWYSSRLKPAISSALSKDGIYTIAN'])])"
      ]
     },
     "execution_count": 74,
     "metadata": {},
     "output_type": "execute_result"
    }
   ],
   "source": [
    "# qualifiersは辞書（順番情報を保持したOrderedDict）になっている。\n",
    "f5.qualifiers"
   ]
  },
  {
   "cell_type": "code",
   "execution_count": 75,
   "metadata": {},
   "outputs": [
    {
     "data": {
      "text/plain": [
       "['GeneID:851229', 'SGD:S000002142']"
      ]
     },
     "execution_count": 75,
     "metadata": {},
     "output_type": "execute_result"
    }
   ],
   "source": [
    "# db_xref情報を取り出す。（関連するDBへの参照情報）\n",
    "# 2件の情報がリストとして格納されていることがわかる。\n",
    "f5.qualifiers[\"db_xref\"]"
   ]
  },
  {
   "cell_type": "code",
   "execution_count": 76,
   "metadata": {},
   "outputs": [
    {
     "data": {
      "text/plain": [
       "['seripauperin PAU8']"
      ]
     },
     "execution_count": 76,
     "metadata": {},
     "output_type": "execute_result"
    }
   ],
   "source": [
    "# 遺伝子産物名 (product) を確認してみる。\n",
    "f5.qualifiers[\"product\"]"
   ]
  },
  {
   "cell_type": "code",
   "execution_count": 77,
   "metadata": {},
   "outputs": [
    {
     "data": {
      "text/plain": [
       "'seripauperin PAU8'"
      ]
     },
     "execution_count": 77,
     "metadata": {},
     "output_type": "execute_result"
    }
   ],
   "source": [
    "# 上記結果はリストになっているので文字列として取り出すには f5.qualifiers[\"product\"][0] などとする必要がある。\n",
    "f5.qualifiers[\"product\"][0]"
   ]
  },
  {
   "cell_type": "code",
   "execution_count": 78,
   "metadata": {},
   "outputs": [
    {
     "data": {
      "text/plain": [
       "'seripauperin PAU8'"
      ]
     },
     "execution_count": 78,
     "metadata": {},
     "output_type": "execute_result"
    }
   ],
   "source": [
    "# 上記の方法だと \"product\" がqaualifierに存在しない場合エラーになる。getを使うと存在しなかった場合には第二引数に指定した値が返されるのでエラーが発生しない。\n",
    "f5.qualifiers.get(\"product\", [\"n.a.\"])[0]"
   ]
  },
  {
   "cell_type": "code",
   "execution_count": 79,
   "metadata": {},
   "outputs": [
    {
     "name": "stdout",
     "output_type": "stream",
     "text": [
      "type: CDS\n",
      "location: [1806:2169](-)\n",
      "qualifiers:\n",
      "    Key: codon_start, Value: ['1']\n",
      "    Key: db_xref, Value: ['GeneID:851229', 'SGD:S000002142']\n",
      "    Key: gene, Value: ['PAU8']\n",
      "    Key: locus_tag, Value: ['YAL068C']\n",
      "    Key: note, Value: ['hypothetical protein; member of the seripauperin multigene family encoded mainly in subtelomeric regions', 'test']\n",
      "    Key: product, Value: ['seripauperin PAU8']\n",
      "    Key: protein_id, Value: ['NP_009332.1']\n",
      "    Key: translation, Value: ['MVKLTSIAAGVAAIAATASATTTLAQSDERVNLVELGVYVSDIRAHLAQYYMFQAAHPTETYPVEVAEAVFNYGDFTTMLTGIAPDQVTRMITGVPWYSSRLKPAISSALSKDGIYTIAN']\n",
      "\n"
     ]
    }
   ],
   "source": [
    "# note に情報を追加する。(リストなのでappendで値を追加する)\n",
    "f5.qualifiers[\"note\"].append(\"test\")\n",
    "print(f5)"
   ]
  },
  {
   "cell_type": "code",
   "execution_count": 80,
   "metadata": {},
   "outputs": [
    {
     "data": {
      "text/plain": [
       "FeatureLocation(ExactPosition(1806), ExactPosition(2169), strand=-1)"
      ]
     },
     "execution_count": 80,
     "metadata": {},
     "output_type": "execute_result"
    }
   ],
   "source": [
    "# locationを確認してみる。\n",
    "# 0を起点としているので、開始位置1806は実際には1807番目の塩基を指す。\n",
    "f5.location"
   ]
  },
  {
   "cell_type": "code",
   "execution_count": 81,
   "metadata": {},
   "outputs": [
    {
     "data": {
      "text/plain": [
       "Seq('ATGGTCAAATTAACTTCAATCGCCGCTGGTGTCGCTGCCATCGCTGCTACTGCT...TAG')"
      ]
     },
     "execution_count": 81,
     "metadata": {},
     "output_type": "execute_result"
    }
   ],
   "source": [
    "# locationオブジェクトを利用して配列の切り出しができる。\n",
    "# locationのstrandが -1 の場合には、自動的に相補鎖側が切り出される。\n",
    "# extractメソッドの引数には SeqRecord または Seq オブジェクトどちらを与えてもOK。\n",
    "f5.location.extract(r0.seq)"
   ]
  },
  {
   "cell_type": "code",
   "execution_count": 82,
   "metadata": {},
   "outputs": [
    {
     "name": "stdout",
     "output_type": "stream",
     "text": [
      "MVKLTSIAAGVAAIAATASATTTLAQSDERVNLVELGVYVSDIRAHLAQYYMFQAAHPTETYPVEVAEAVFNYGDFTTMLTGIAPDQVTRMITGVPWYSSRLKPAISSALSKDGIYTIAN*\n"
     ]
    }
   ],
   "source": [
    "# 配列を切り出して翻訳したものを \n",
    "print(str(f5.location.extract(r0.seq).translate()))"
   ]
  },
  {
   "cell_type": "code",
   "execution_count": 83,
   "metadata": {},
   "outputs": [
    {
     "name": "stdout",
     "output_type": "stream",
     "text": [
      "MVKLTSIAAGVAAIAATASATTTLAQSDERVNLVELGVYVSDIRAHLAQYYMFQAAHPTETYPVEVAEAVFNYGDFTTMLTGIAPDQVTRMITGVPWYSSRLKPAISSALSKDGIYTIAN\n"
     ]
    }
   ],
   "source": [
    "# qualifier の \"translation\" に記載された値と比較\n",
    "print(f5.qualifiers[\"translation\"][0])"
   ]
  },
  {
   "cell_type": "markdown",
   "metadata": {},
   "source": [
    "#### [TIPS\\] 複数のエクソンから構成される遺伝子の切り出しにも対応している。"
   ]
  },
  {
   "cell_type": "markdown",
   "metadata": {},
   "source": [
    "130番目のfeatureは2つのエクソンから構成されるCDSとなっている。\n",
    "```\n",
    "     CDS             join(87286..87387,87501..87752)\n",
    "                     /gene=\"SNC1\"\n",
    "                     /locus_tag=\"YAL030W\"\n",
    "                     /note=\"Vesicle membrane receptor protein (v-SNARE);\n",
    "                     involved in the fusion between Golgi-derived secretory\n",
    "                     vesicles with the plasma membrane; proposed to be involved\n",
    "                     in endocytosis; member of the synaptobrevin/VAMP family of\n",
    "                     R-type v-SNARE proteins; SNC1 has a paralog, SNC2, that\n",
    "                     arose from the whole genome duplication\"\n",
    "                     /codon_start=1\n",
    "                     /product=\"SNAP receptor SNC1\"\n",
    "                     /protein_id=\"NP_009372.1\"\n",
    "                     /db_xref=\"GeneID:851203\"\n",
    "                     /db_xref=\"SGD:S000000028\"\n",
    "                     /translation=\"MSSSTPFDPYALSEHDEERPQNVQSKSRTAELQAEIDDTVGIMR\n",
    "                     DNINKVAERGERLTSIEDKADNLAVSAQGFKRGANRVRKAMWYKDLKMKMCLALVIII\n",
    "                     LLVVIIVPIAVHFSR\"\n",
    "```"
   ]
  },
  {
   "cell_type": "code",
   "execution_count": 84,
   "metadata": {},
   "outputs": [],
   "source": [
    "f130 = r0.features[130]"
   ]
  },
  {
   "cell_type": "markdown",
   "metadata": {},
   "source": [
    "下記のようにエクソン領域を結合して切り出せる。(下記例では翻訳まで行っている)"
   ]
  },
  {
   "cell_type": "code",
   "execution_count": 85,
   "metadata": {},
   "outputs": [
    {
     "data": {
      "text/plain": [
       "Seq('MSSSTPFDPYALSEHDEERPQNVQSKSRTAELQAEIDDTVGIMRDNINKVAERG...SR*')"
      ]
     },
     "execution_count": 85,
     "metadata": {},
     "output_type": "execute_result"
    }
   ],
   "source": [
    "f130.location.extract(r0.seq).translate()"
   ]
  },
  {
   "cell_type": "markdown",
   "metadata": {},
   "source": [
    "#### [TIPS] SeqRecord オブジェクトを切り出すと、その領域中のアノテーションも含めて切り出せる。"
   ]
  },
  {
   "cell_type": "code",
   "execution_count": 86,
   "metadata": {
    "scrolled": true
   },
   "outputs": [
    {
     "data": {
      "text/plain": [
       "SeqRecord(seq=Seq('ATGGTCAAATTAACTTCAATCGCCGCTGGTGTCGCTGCCATCGCTGCTACTGCT...TAG'), id='<unknown id>', name='<unknown name>', description='<unknown description>', dbxrefs=[])"
      ]
     },
     "execution_count": 86,
     "metadata": {},
     "output_type": "execute_result"
    }
   ],
   "source": [
    "region_f3 = f3.location.extract(r0)\n",
    "region_f3"
   ]
  },
  {
   "cell_type": "markdown",
   "metadata": {},
   "source": [
    "抽出した領域に含まれる feature 情報も引き継がれ、このとき各 feature の位置情報は抽出した領域に合わせて調整される。"
   ]
  },
  {
   "cell_type": "code",
   "execution_count": 87,
   "metadata": {},
   "outputs": [
    {
     "data": {
      "text/plain": [
       "[SeqFeature(FeatureLocation(BeforePosition(0), AfterPosition(363), strand=1), type='gene'),\n",
       " SeqFeature(FeatureLocation(BeforePosition(0), AfterPosition(363), strand=1), type='mRNA'),\n",
       " SeqFeature(FeatureLocation(ExactPosition(0), ExactPosition(363), strand=1), type='CDS')]"
      ]
     },
     "execution_count": 87,
     "metadata": {},
     "output_type": "execute_result"
    }
   ],
   "source": [
    "region_f3.features"
   ]
  },
  {
   "cell_type": "markdown",
   "metadata": {},
   "source": [
    "SeqRecordをスライスした場合もアノテーションも含めて切り出される。"
   ]
  },
  {
   "cell_type": "code",
   "execution_count": 88,
   "metadata": {},
   "outputs": [],
   "source": [
    "# ↑に示した1a30番目のfeatureを含んだ領域\n",
    "region_r130 = r0[87285:87752]"
   ]
  },
  {
   "cell_type": "code",
   "execution_count": 89,
   "metadata": {},
   "outputs": [
    {
     "data": {
      "text/plain": [
       "[SeqFeature(FeatureLocation(BeforePosition(0), AfterPosition(467), strand=1), type='gene'),\n",
       " SeqFeature(CompoundLocation([FeatureLocation(BeforePosition(0), ExactPosition(102), strand=1), FeatureLocation(ExactPosition(215), AfterPosition(467), strand=1)], 'join'), type='mRNA', location_operator='join'),\n",
       " SeqFeature(CompoundLocation([FeatureLocation(ExactPosition(0), ExactPosition(102), strand=1), FeatureLocation(ExactPosition(215), ExactPosition(467), strand=1)], 'join'), type='CDS', location_operator='join')]"
      ]
     },
     "execution_count": 89,
     "metadata": {},
     "output_type": "execute_result"
    }
   ],
   "source": [
    "region_r130.features"
   ]
  },
  {
   "cell_type": "markdown",
   "metadata": {},
   "source": [
    "## ファイル全体の feature をループで回す"
   ]
  },
  {
   "cell_type": "markdown",
   "metadata": {},
   "source": [
    "record (entry) --> feature --> qualifier の階層構造になっていることを意識すると良い。"
   ]
  },
  {
   "cell_type": "markdown",
   "metadata": {},
   "source": [
    "例としてCDSフィーチャーの中から全てのアミノ酸配列を辞書として取得する処理を実装する。"
   ]
  },
  {
   "cell_type": "code",
   "execution_count": 90,
   "metadata": {},
   "outputs": [
    {
     "ename": "KeyError",
     "evalue": "'translation'",
     "output_type": "error",
     "traceback": [
      "\u001b[0;31m---------------------------------------------------------------------------\u001b[0m",
      "\u001b[0;31mKeyError\u001b[0m                                  Traceback (most recent call last)",
      "Cell \u001b[0;32mIn[90], line 7\u001b[0m\n\u001b[1;32m      5\u001b[0m \u001b[38;5;28;01mif\u001b[39;00m feature\u001b[38;5;241m.\u001b[39mtype \u001b[38;5;241m==\u001b[39m \u001b[38;5;124m\"\u001b[39m\u001b[38;5;124mCDS\u001b[39m\u001b[38;5;124m\"\u001b[39m:\n\u001b[1;32m      6\u001b[0m     locus_tag \u001b[38;5;241m=\u001b[39m feature\u001b[38;5;241m.\u001b[39mqualifiers[\u001b[38;5;124m\"\u001b[39m\u001b[38;5;124mlocus_tag\u001b[39m\u001b[38;5;124m\"\u001b[39m][\u001b[38;5;241m0\u001b[39m]\n\u001b[0;32m----> 7\u001b[0m     translation \u001b[38;5;241m=\u001b[39m \u001b[43mfeature\u001b[49m\u001b[38;5;241;43m.\u001b[39;49m\u001b[43mqualifiers\u001b[49m\u001b[43m[\u001b[49m\u001b[38;5;124;43m\"\u001b[39;49m\u001b[38;5;124;43mtranslation\u001b[39;49m\u001b[38;5;124;43m\"\u001b[39;49m\u001b[43m]\u001b[49m[\u001b[38;5;241m0\u001b[39m]\n\u001b[1;32m      8\u001b[0m     D[locus_tag] \u001b[38;5;241m=\u001b[39m translation\n",
      "\u001b[0;31mKeyError\u001b[0m: 'translation'"
     ]
    }
   ],
   "source": [
    "# すべてのアミノ酸配列を辞書として取得 (translationを含まないCDSがあったため失敗した)\n",
    "D = {}\n",
    "for record in SeqIO.parse(gbk_file_name, \"genbank\"):\n",
    "    for feature in record.features:\n",
    "        if feature.type == \"CDS\":\n",
    "            locus_tag = feature.qualifiers[\"locus_tag\"][0]\n",
    "            translation = feature.qualifiers[\"translation\"][0]\n",
    "            D[locus_tag] = translation"
   ]
  },
  {
   "cell_type": "code",
   "execution_count": 91,
   "metadata": {},
   "outputs": [
    {
     "name": "stdout",
     "output_type": "stream",
     "text": [
      "type: CDS\n",
      "location: [721070:721481](-)\n",
      "qualifiers:\n",
      "    Key: codon_start, Value: ['1']\n",
      "    Key: db_xref, Value: ['GeneID:851712', 'SGD:S000002541']\n",
      "    Key: locus_tag, Value: ['YDR134C']\n",
      "    Key: note, Value: ['Cell wall protein; YDR134C has a paralog, CCW12, that arose from the whole genome duplication; S. cerevisiae genome reference strain S288C contains an internal in-frame stop at codon 67, which in other strains encodes glutamine']\n",
      "    Key: pseudo, Value: ['']\n",
      "\n"
     ]
    },
    {
     "ename": "KeyError",
     "evalue": "'translation'",
     "output_type": "error",
     "traceback": [
      "\u001b[0;31m---------------------------------------------------------------------------\u001b[0m",
      "\u001b[0;31mKeyError\u001b[0m                                  Traceback (most recent call last)",
      "Cell \u001b[0;32mIn[91], line 13\u001b[0m\n\u001b[1;32m     10\u001b[0m \u001b[38;5;28;01mexcept\u001b[39;00m \u001b[38;5;167;01mKeyError\u001b[39;00m \u001b[38;5;28;01mas\u001b[39;00m e:\n\u001b[1;32m     11\u001b[0m     \u001b[38;5;66;03m# エラーが起こった場合の処理\u001b[39;00m\n\u001b[1;32m     12\u001b[0m     \u001b[38;5;28mprint\u001b[39m(feature) \u001b[38;5;66;03m# 問題のあったfeatureを表示\u001b[39;00m\n\u001b[0;32m---> 13\u001b[0m     \u001b[38;5;28;01mraise\u001b[39;00m e  \u001b[38;5;66;03m# 再度、エラーを生じさせて処理を停止させる。\u001b[39;00m\n",
      "Cell \u001b[0;32mIn[91], line 8\u001b[0m\n\u001b[1;32m      6\u001b[0m \u001b[38;5;28;01mtry\u001b[39;00m:\n\u001b[1;32m      7\u001b[0m     locus_tag \u001b[38;5;241m=\u001b[39m feature\u001b[38;5;241m.\u001b[39mqualifiers[\u001b[38;5;124m\"\u001b[39m\u001b[38;5;124mlocus_tag\u001b[39m\u001b[38;5;124m\"\u001b[39m][\u001b[38;5;241m0\u001b[39m]\n\u001b[0;32m----> 8\u001b[0m     translation \u001b[38;5;241m=\u001b[39m \u001b[43mfeature\u001b[49m\u001b[38;5;241;43m.\u001b[39;49m\u001b[43mqualifiers\u001b[49m\u001b[43m[\u001b[49m\u001b[38;5;124;43m\"\u001b[39;49m\u001b[38;5;124;43mtranslation\u001b[39;49m\u001b[38;5;124;43m\"\u001b[39;49m\u001b[43m]\u001b[49m[\u001b[38;5;241m0\u001b[39m]\n\u001b[1;32m      9\u001b[0m     D[locus_tag] \u001b[38;5;241m=\u001b[39m translation\n\u001b[1;32m     10\u001b[0m \u001b[38;5;28;01mexcept\u001b[39;00m \u001b[38;5;167;01mKeyError\u001b[39;00m \u001b[38;5;28;01mas\u001b[39;00m e:\n\u001b[1;32m     11\u001b[0m     \u001b[38;5;66;03m# エラーが起こった場合の処理\u001b[39;00m\n",
      "\u001b[0;31mKeyError\u001b[0m: 'translation'"
     ]
    }
   ],
   "source": [
    "# すべてのアミノ酸配列を辞書として取得 ver2 (try-exceptでエラーを補足し、原因を確認)\n",
    "D = {}\n",
    "for record in SeqIO.parse(gbk_file_name, \"genbank\"):\n",
    "    for feature in record.features:\n",
    "        if feature.type == \"CDS\":\n",
    "            try:\n",
    "                locus_tag = feature.qualifiers[\"locus_tag\"][0]\n",
    "                translation = feature.qualifiers[\"translation\"][0]\n",
    "                D[locus_tag] = translation\n",
    "            except KeyError as e:\n",
    "                # エラーが起こった場合の処理\n",
    "                print(feature) # 問題のあったfeatureを表示\n",
    "                raise e  # 再度、エラーを生じさせて処理を停止させる。\n"
   ]
  },
  {
   "cell_type": "markdown",
   "metadata": {},
   "source": [
    "↑ qualifierに \"pseudo\" という記載がある場合には、translation が存在しないことがエラーの原因であった。  \n",
    "そこで、\"pseudo\" の場合には処理を行わないように変更する。"
   ]
  },
  {
   "cell_type": "code",
   "execution_count": 92,
   "metadata": {},
   "outputs": [],
   "source": [
    "# すべてのアミノ酸配列を辞書として取得 ver3 (完成版)\n",
    "D = {}\n",
    "for record in SeqIO.parse(gbk_file_name, \"genbank\"):\n",
    "    for feature in record.features:\n",
    "        if feature.type == \"CDS\":\n",
    "            if \"pseudo\" in feature.qualifiers:\n",
    "                continue\n",
    "            try:\n",
    "                locus_tag = feature.qualifiers[\"locus_tag\"][0]\n",
    "                translation = feature.qualifiers[\"translation\"][0]\n",
    "                D[locus_tag] = translation\n",
    "            except KeyError as e:\n",
    "                print(feature.qualifiers)\n",
    "                raise e\n"
   ]
  },
  {
   "cell_type": "code",
   "execution_count": 93,
   "metadata": {},
   "outputs": [
    {
     "data": {
      "text/plain": [
       "{'YAL068C': 'MVKLTSIAAGVAAIAATASATTTLAQSDERVNLVELGVYVSDIRAHLAQYYMFQAAHPTETYPVEVAEAVFNYGDFTTMLTGIAPDQVTRMITGVPWYSSRLKPAISSALSKDGIYTIAN',\n",
       " 'YAL067W-A': 'MPIIGVPRCLIKPFSVPVTFPFSVKKNIRILDLDPRTEAYCLSLNSVCFKRLPRRKYFHLLNSYNIKRVLGVVYC',\n",
       " 'YAL067C': 'MYSIVKEIIVDPYKRLKWGFIPVKRQVEDLPDDLNSTEIVTISNSIQSHETAENFITTTSEKDQLHFETSSYSEHKDNVNVTRSYEYRDEADRPWWRFFDEQEYRINEKERSHNKWYSWFKQGTSFKEKKLLIKLDVLLAFYSCIAYWVKYLDTVNINNAYVSGMKEDLGFQGNDLVHTQVMYTVGNIIFQLPFLIYLNKLPLNYVLPSLDLCWSLLTVGAAYVNSVPHLKAIRFFIGAFEAPSYLAYQYLFGSFYKHDEMVRRSAFYYLGQYIGILSAGGIQSAVYSSLNGVNGLEGWRWNFIIDAIVSVVVGLIGFYSLPGDPYNCYSIFLTDDEIRLARKRLKENQTGKSDFETKVFDIKLWKTIFSDWKIYILTLWNIFCWNDSNVSSGAYLLWLKSLKRYSIPKLNQLSMITPGLGMVYLMLTGIIADKLHSRWFAIIFTQVFNIIGNSILAAWDVAEGAKWFAFMLQCFGWAMAPVLYSWQNDICRRDAQTRAITLVTMNIMAQSSTAWISVLVWKTEEAPRYLKGFTFTACSAFCLSIWTFVVLYFYKRDERNNAKKNGIVLYNSKHGVEKPTSKDVETLSVSDEK',\n",
       " 'YAL065C': 'MNSATSETTTNTGAAETTTSTGAAETKTVVTSSISRFNHAETQTASATDVIGHSSSVVSVSETGNTKSLITSGLSTMSQQPRSTPASSIIGSSTASLEISTYVGIANGLLTNNGISVFISTVLLAIVW',\n",
       " 'YAL064W-B': 'MAGEAVSEHTPDSQEVTVTSVVCCLDSVVEIGHHVVYSVVTPLIVAVLIDTMAGEAVLEHTSDSQEEIVTTVVCSVVPLVCFVVSVVCFVISVVEIGHHVVYSVVAPLTVTVAVETIAEEMDSVHT',\n",
       " 'YAL064C-A': 'MTGYFLPPQTSSYTFRFAKVDDSAILSVGGDVAFGCCAQEQPPITSTNFTINGIKPWQGRLPDNIAGTVYMYAGFYCPMKIVYSNAVSWHTLPVSVELPDVTTVSDDFAGHVYSFDDDLTAQLYYP',\n",
       " 'YAL064W': 'MNPFASLEGQDNISSVFFLHMQQFESQVKDRFRFPIFRLERKTFGNSCYQVETLKVKCRPRHAKSCNLLTLLFKSRTQSVLVPNFGFLILNSEP',\n",
       " 'YAL063C-A': 'MCPRTVLLIININHWFYDKNIVRIILTFRLDSGHISDICFINKNLANALITADISLLKRHDIRCTKYIITYYQRYRNKEKGKFISLCKNTIISSSV',\n",
       " 'YAL063C': 'MSLAHYCLLLAIVTLLGLTNVVSATTAACLPANSRKNGMNVNFYQYSLRDSSTYSNAAYMAYGYASKTKLGSVGGQTDISIDYNIPCVSSSGTFPCPQEDLYGNWGCKGIGACSNNPIIAYWSTDLFGFYTTPTNVTLEMTGYFLPPQTGSYTFKFATVDDSAILSVGGSIAFECCAQEQPPITSTNFTINGIKPWNGSPPDNITGTVYMYAGFYYPMKIVYSNAVAWGTLPISVTLPDGTTVSDDFEGYVYTFDNNLSQPNCTIPDPSNYTVSTTITTTEPWTGTFTSTSTEMTTVTGTNGVPTDETVIVIRTPTTASTIITTTEPWNSTFTSTSTELTTVTGTNGVRTDETIIVIRTPTTATTAITTTEPWNSTFTSTSTELTTVTGTNGLPTDETIIVIRTPTTATTAMTTTQPWNDTFTSTSTELTTVTGTNGLPTDETIIVIRTPTTATTAMTTTQPWNDTFTSTSTELTTVTGTNGLPTDETIIVIRTPTTATTAMTTTQPWNDTFTSTSTEITTVTGTNGLPTDETIIVIRTPTTATTAMTTTQPWNDTFTSTSTEMTTVTGTNGLPTDETIIVIRTPTTATTAITTTEPWNSTFTSTSTEMTTVTGTNGLPTDETIIVIRTPTTATTAITTTQPWNDTFTSTSTEMTTVTGTNGLPTDETIIVIRTPTTATTAMTTTQPWNDTFTSTSTEITTVTGTNGLPTDETIIVIRTPTTATTAMTTTQPWNDTFTSTSTEMTTVTGTNGVPTDETVIVIRTPTSEGLISTTTEPWTGTFTSTSTEMTTVTGTNGQPTDETVIVIRTPTSEGLVTTTTEPWTGTFTSTSTEMTTITGTNGQPTDETVIIVKTPTTAISSSLSSSSGQITSFITSARPIITPFYPSNGTSVISSSVISSSDTSSLVISSSVTSSLVTSSPVISSSFISSPVISSTTTSASILSESSKSSVIPTSSSTSGSSESETGSASSASSSSSISSESPKSTYSSSSLPPVTSATTSQEITSSLPPVTTTKTSEQTTLVTVTSCESHVCTESISSAIVSTATVTVSGATTEYTTWCPISTTEITKQTTETTKQTKGTTEQTTETTKQTTVVTISSCESDVCSKTASPAIVSTSTATINGVTTEYTTWCPISTTESKQQTTLVTVTSCGSGVCSETTSPAIVSTATATVNDVVTVYSTWRPQTTNEQSVSSKMNSATSETTTNTGAAETTTSTGAAETKTVVTSSISRFNHAETQTASATDVIGHSSSVVSVSETGNTKSLTSSGLSTMSQQPRSTPASSMVGSSTASLEISTYAGSANSLLAGSGLSVFIASLLLAII',\n",
       " 'YAL062W': 'MTSEPEFQQAYDEIVSSVEDSKIFEKFPQYKKVLPIVSVPERIIQFRVTWENDNGEQEVAQGYRVQFNSAKGPYKGGLRFHPSVNLSILKFLGFEQIFKNALTGLDMGGGKGGLCVDLKGKSDNEIRRICYAFMRELSRHIGKDTDVPAGDIGVGGREIGYLFGAYRSYKNSWEGVLTGKGLNWGGSLIRPEATGFGLVYYTQAMIDYATNGKESFEGKRVTISGSGNVAQYAALKVIELGGIVVSLSDSKGCIISETGITSEQIHDIASAKIRFKSLEEIVDEYSTFSESKMKYVAGARPWTHVSNVDIALPCATQNEVSGDEAKALVASGVKFVAEGANMGSTPEAISVFETARSTATNAKDAVWFGPPKAANLGGVAVSGLEMAQNSQKVTWTAERVDQELKKIMINCFNDCIQAAQEYSTEKNTNTLPSLVKGANIASFVMVADAMLDQGDVF',\n",
       " 'YAL061W': 'MRALAYFGKGNIRFTNHLKEPHIVAPDELVIDIEWCGICGTDLHEYTDGPIFFPEDGHTHEISHNPLPQAMGHEMAGTVLEVGPGVKNLKVGDKVVVEPTGTCRDRYRWPLSPNVDKEWCAACKKGYYNICSYLGLCGAGVQSGGFAERVVMNESHCYKVPDFVPLDVAALIQPLAVCWHAIRVCEFKAGSTALIIGAGPIGLGTILALNAAGCKDIVVSEPAKVRRELAEKMGARVYDPTAHAAKESIDYLRSIADGGDGFDYTFDCSGLEVTLNAAIQCLTFRGTAVNLAMWGHHKIQFSPMDITLHERKYTGSMCYTHHDFEAVIEALEEGRIDIDRARHMITGRVNIEDGLDGAIMKLINEKESTIKIILTPNNHGELNREADNEKKEISELSSRKDQERLRESINEAKLRHT',\n",
       " 'YAL060W': 'MRALAYFKKGDIHFTNDIPRPEIQTDDEVIIDVSWCGICGSDLHEYLDGPIFMPKDGECHKLSNAALPLAMGHEMSGIVSKVGPKVTKVKVGDHVVVDAASSCADLHCWPHSKFYNSKPCDACQRGSENLCTHAGFVGLGVISGGFAEQVVVSQHHIIPVPKEIPLDVAALVEPLSVTWHAVKISGFKKGSSALVLGAGPIGLCTILVLKGMGASKIVVSEIAERRIEMAKKLGVEVFNPSKHGHKSIEILRGLTKSHDGFDYSYDCSGIQVTFETSLKALTFKGTATNIAVWGPKPVPFQPMDVTLQEKVMTGSIGYVVEDFEEVVRAIHNGDIAMEDCKQLITGKQRIEDGWEKGFQELMDHKESNVKILLTPNNHGEMK',\n",
       " 'YAL059W': 'MWEQRRQKVVFSLTILVRYRLKQSMAKKISKNSRAARQSDALEPEVKDLSELPRAEKTDLTNILIRTAAKNEALLEAKISKKANKSKRGKKLNKKALEDKLANSISSMDRDRLVKALNFTNRLDGKIAKSISRAKYIQNTRKAGWDSTNETIKKELAFLNGGLSVQAKSASEGNAEKEDEEIPEVFDSLAEDNTVQKTPTNRFGVLPDDVEE',\n",
       " 'YAL058W': 'MKFSAYLWWLFLNLALVKGTSLLSNVTLAEDSFWEHFQAYTNTKHLNQEWITSEAVNNEGSKIYGAQWRLSQGRLQGSAWDKGIAVRTGNAAAMIGHLLETPINVSETDTLVVQYEIKLDNSLTCGGAFIKLMSGFMNVEALKHYAPDTEGVELVFGPDYCAPEINGVQFAINKVDKITHESKLRYLQEMPLSKLTDTSQSHLYTLIIDESAQSFQILIDGKTVMVREHIEDKKKVNFEPPITPPLMIPDVSVAKPHDWDDRIRIPDPEAVKLSDRDERDPLMIPHPDGTEPPEWNSSIPEYILDPNAQKPSWWKELEHGEWIPPMIKNPLCTAERGCGQQIPGLINNAKYKGPGELNEIINPNYMGEWHPPEIENPLYYEEQHPLRIENVISGVILEFWSGSPNMLISNIYVGKNVTEAQIIGNKTWLMRDRAFRGSDGPTERKFMNSRLGNLQTTFHNERESPNPFDRIIDRILEQPLKFVLTAAVVLLTTSVLCCVVFT',\n",
       " 'YAL056W': 'MEISSSPWNDGGYSPYERNRVAVSPFSSALEGEERIETSRSLGDHCFEPLPYVTNYLSIFALFGKEIFGDKGNVSSRNEYLLKKYYSLKKPFVLRHNGHALKNPDMPLQRNDILQTNFMVDKFLNRTVRSVNFNNFKIISDMQSKSGRGTKSGTNQNQSADAIQNICLPSIPSALPYFQYYRKLLTVNTKEWDILKLHSLWVPKLRKDFKDFSLYGDKNSLKPIDSHYDEDNTMKKNLFFERSPSRQTLDGKGCASKGYDISSGNMIIPSLFSEDKLPALTYHCSVELNGNIYIFGGLMPCYSYEEDAPMLNDFFVDGIKNLPPPLLPQVINNPSMVNNPHLYVASIPSCRFSKPKMGGYIPPPLLCVQGSKLTDRHIFFYGGFEIRTETRGDENGKYHLKKRLYVNNTGYILDIMSFKFTKIDIIVQPSKYNAYPTMSSRFGHLQISIDNPNRRASVHSSSMNEIHKMGSASMKQGSSITSGRLEKAAVLSSLPHNTVHTVIIFGGYRQTGDDRYEAMNDLWKIEIPVIRRGKKGYCKFSETANAILLTPSEKDKSDWPEERAFSAFSVHGTSLMDRSSLDMRLLNNLKNHFVLKPSYISQDRVVSPKPVFPMMVHGTHQDLFNSGSAAQESPKAGASASSASAASFDPDMDDNLENYIVNPGRKSSSIPMTAIGRQRLILSQEKPVGKTVVLHGGSNGLNVLDDMWLMDLECETWTPIETFAKADSSEDGDEKLDSVNVGLVGHRMESIGRICVCIGGMVQEDVDQFYSENDDEPPRKRKVDTLPLGGNFLNTIDLSTQCWEEHKITLSKKEDDEDRQDSENEDTNSNIVVGVGGTSLQCDKSIILIGGLISRRSNVKEIYLHGTITKSIFPSVNPSA',\n",
       " 'YAL055W': 'MPPPSRSRINKTRTLGIVGTAIAVLVTSYYIYQKVTSAKEDNGARPPEGDSVKENKKARKSKCIIMSKSIQGLPIKWEEYAADEVVLLVPTSHTDGSMKQAIGDAFRKTKNEHKIIYCDSMDGLWSCVRRLGKFQCILNSRDFTSSGGSDAAVVPEDIGRFVKFVVDSDVEDVLIDTLCN',\n",
       " 'YAL054C': 'MSPSAVQSSKLEEQSSEIDKLKAKMSQSAATAQQKKEHEYEHLTSVKIVPQRPISDRLQPAIATHYSPHLDGLQDYQRLHKESIEDPAKFFGSKATQFLNWSKPFDKVFIPDPKTGRPSFQNNAWFLNGQLNACYNCVDRHALKTPNKKAIIFEGDEPGQGYSITYKELLEEVCQVAQVLTYSMGVRKGDTVAVYMPMVPEAIITLLAISRIGAIHSVVFAGFSSNSLRDRINDGDSKVVITTDESNRGGKVIETKRIVDDALRETPGVRHVLVYRKTNNPSVAFHAPRDLDWATEKKKYKTYYPCTPVDSEDPLFLLYTSGSTGAPKGVQHSTAGYLLGALLTMRYTFDTHQEDVFFTAGDIGWITGHTYVVYGPLLYGCATLVFEGTPAYPNYSRYWDIIDEHKVTQFYVAPTALRLLKRAGDSYIENHSLKSLRCLGSVGEPIAAEVWEWYSEKIGKNEIPIVDTYWQTESGSHLVTPLAGGVTPMKPGSASFPFFGIDAVVLDPNTGEELNTSHAEGVLAVKAAWPSFARTIWKNHDRYLDTYLNPYPGYYFTGDGAAKDKDGYIWILGRVDDVVNVSGHRLSTAEIEAAIIEDPIVAECAVVGFNDDLTGQAVAAFVVLKNKSSWSTATDDELQDIKKHLVFTVRKDIGPFAAPKLIILVDDLPKTRSGKIMRRILRKILAGESDQLGDVSTLSNPGIVRHLIDSVKL',\n",
       " 'YAL053W': 'MIFLNTFARCLLTCFVLCSGTARSSDTNDTTPASAKHLQTTSLLTCMDNSQLTASFFDVKFYPDNNTVIFDIDATTTLNGNVTVKAELLTYGLKVLDKTFDLCSLGQVSLCPLSAGRIDVMSTQVIESSITKQFPGIAYTIPDLDAQVRVVAYAQNDTEFETPLACVQAILSNGKTVQTKYAAWPIAAISGVGVLTSGFVSVIGYSATAAHIASNSISLFIYFQNLAITAMMGVSRVPPIAAAWTQNFQWSMGIINTNFMQKIFDWYVQATNGVSNVVVANKDVLSISVQKRAISMASSSDYNFDTILDDSNLYTTSEKDPSNYSAKILVLRGIERVAYLANIELSNFFLTGIVFFLFFLFVVVVSLIFFKALLEVLTRARILKETSNFFQYRKNWGSIIKGTLFRLSIIAFPQVSLLAIWEFTQVNSPAIVVDAVVILLIITGLLVYGTIRVFIKGRESLRLYKNPAYLLYSDTYFLNKFGFLYVQFKADKFWWLLPLLSYAFLRSLFVAVLQNQGKAQAMIIFVIELAYFVCLCWIRPYLDKRTNVFNIAIHLVNLINAFFFLFFSNLFKQPAVVSSVMAVILFVLNAVFALFLLLFTIVTCTLALLHRNPDVRYQPMKDDRVSFIPKIQNDFDGKNKNDSELFELRKAVMDTNENEEEKMFRDDTFGKNLNANTNTARLFDDETSSSSFKQNSSPFDASEVTEQPVQPTSAVMGTGGSFLSPQYQRASSASRTNLAPNNTSTSSLMKPESSLYLGNSNKSYSHFNNNGSNENARNNNPYL',\n",
       " 'YAL051W': 'MVENSTQKAPHAGNDDNSSTKPYSEAFFLGFNNPTPGLEAEHSSTSPAPENSETHNRKRNRILFVCQACRKSKTKCDREKPECGRCVKHGLKCVYDVSKQPAPRIPSKDAIISRLEKDMFYWKDKAMKLLTEREVNESGKRSASPINTNNASGDSPDTKKQHKMEPIYEQSGNGDINNGTRNDIEINLYRSHPTMIMSKVMKREVKPLSENYIIIQDCFLKILVTSVFLDTSKNTMIPALTANANITRAQPSVANNLLKLKEMLIRQCQTEDEKNRVNEFTDRILQNTNSNRNLKIGMLLSMLYNSVGYQYLEDHCPQGGEYSDLLRNLINECEAILPSYEIIERYKNHFYEYVYPSLPFIELEIFEESLSQTIFPDPNNPSKVQIRMGSTHLRAKVENLSLLLVILKLSYMSIRFLDHSTADSSFYLSKEIIDKYPIPNDFILLSQRCLASENWCACANENIISCLLYIWSFFAFSPEEGDFFLEHPTDVISSLIMMLSTSIGLHRDPSDFPQLISPSTSDKRTLNHRRILWLSIVTVCSFEASLKGRHSVSPISLMALFLNIKDPDSLTVYMNRVRGDLSDINNHKLLRIHKFTFKRAQLALLLSDLDNLTMTYYGSFHLHSIEFIREKIEIFVEENFPIVPLKSVAQDKSDLDDMNVISEMNILSSENSSSFHNRIMNKLLMLRTSMAVFLHFETLITKDKSIFPFYKKYFMVSCMDALSLINYFNKFFNGEYRHAISSLTSFNVTKFIQLALSSTIFSLLGIILRIGLAIHMLSSEVQKLSGTTDPRIKELNTKVEKFSTLQRDLESALEGIYCSASEHLRFTYFPVFKMLALFDVIVQRMRKGELWHGIFTMIQMEQMHSRIIKTLSITLGVKLDKKDRLLEELMACNHVANFSVEDIDELNRNIKKEIQISSGLKPPVNTIDLTNGEPFGNAVPTFTKTWSSSLDNLEKLSSAAAVGQSLDYNSGLRQGPLAGGGSKEQTPIAGMNNLNNSINATPIVDNSSGSQLPNGFDRGQANNTPFPGYFGGLDLFDYDFLFGNDFA',\n",
       " 'YAL049C': 'MASNQPGKCCFEGVCHDGTPKGRREEIFGLDTYAAGSTSPKEKVIVILTDVYGNKFNNVLLTADKFASAGYMVFVPDILFGDAISSDKPIDRDAWFQRHSPEVTKKIVDGFMKLLKLEYDPKFIGVVGYCFGAKFAVQHISGDGGLANAAAIAHPSFVSIEEIEAIDSKKPILISAAEEDHIFPANLRHLTEEKLKDNHATYQLDLFSGVAHGFAARGDISIPAVKYAKEKVLLDQIYWFNHFSNV',\n",
       " 'YAL048C': 'MTKETIRVVICGDEGVGKSSLIVSLTKAEFIPTIQDVLPPISIPRDFSSSPTYSPKNTVLIDTSDSDLIALDHELKSADVIWLVYCDHESYDHVSLFWLPHFRSLGLNIPVILCKNKCDSISNVNANAMVVSENSDDDIDTKVEDEEFIPILMEFKEIDTCIKTSAKTQFDLNQAFYLCQRAITHPISPLFDAMVGELKPLAVMALKRIFLLSDLNQDSYLDDNEILGLQKKCFNKSIDVNELNFIKDLLLDISKHDQEYINRKLYVPGKGITKDGFLVLNKIYAERGRHETTWAILRTFHYTDSLCINDKILHPRLVVPDTSSVELSPKGYRFLVDIFLKFDIDNDGGLNNQELHRLFKCTPGLPKLWTSTNFPFSTVVNNKGCITLQGWLAQWSMTTFLNYSTTTAYLVYFGFQEDARLALQVTKPRKMRRRSGKLYRSNINDRKVFNCFVIGKPCCGKSSLLEAFLGRSFSEEYSPTIKPRIAVNSLELKGGKQYYLILQELGEQEYAILENKDKLKECDVICLTYDSSDPESFSYLVSLLDKFTHLQDLPLVFVASKADLDKQQQRCQIQPDELADELFVNHPLHISSRWLSSLNELFIKITEAALDPGKNTPGLPEETAAKDVDYRQTALIFGSTVGFVALCSFTLMKLFKSSKFSK',\n",
       " 'YAL047C': 'MVRRWIPSGRHLRNNDNTGDDDDSEFTNSMDSGMSIPSLRDSMTTRSSHNDPIKPALMNDSNKVKNLEKELTNAKIKIQVLYEYIRRIPNKDGNAPSLGNDTDFRNSIIEGLNLEINKLKQDLKAKEVEYQDTLQFVQENLENSESIVNTINHLLSFILTHFNEQDENAHLLDKEERETLEETLELSSDYVLEKMDTLSKFIIQFLQDFLHSKSRAESKQDKEEFLSLAQSSPAGSQLESRDSPSSKEENTDGGYQNDEIHDSNNHIDTENVMANSTSLPISAVESRFEKTLDTQLEIVIENLHKEYDQFINSIRLKFEKSQKLEKIIASKLNEQSHLLDSLELEENSSSVIEKQDHLISQLKEKIESQSVLINNLEKLKEDIIKMKQNEKVLTKELETQTKINKLKENNWDSYINDLEKQINDLQIDKSEEFHVIQNQLDKLDLENYQLKNQLNTLDNQKLILSQYESNFIKFNQNLLLHLDSIFNILQKILQESSIAQFDRKMKSIKSVPNALKNLNLIQPKLESLYTFIETALESIINSYISSLISMETPEQPHQQGNELTATPNKELTLRIEELQRRWISERERRKLDANASEARIKALEQENESLRSKLFNLSINNP',\n",
       " 'YAL046C': 'MKLPQTMLRSISVKHVRWPRILTGSKLWYSTQMAMTPEEKMITDKLQQELEPEVCKVQDVSGGCGSMFAINITSKKFNGLSLIKQHQLVNRILRDDISRWHGLQLTTKKSTGKGPASS',\n",
       " 'YAL044W-A': 'MFKRAMSTDGPVARTILKRLECGFPDYKNFAFGLYNDSHKHKGHAGVQGNVSAETHFRIEMVSKKFEGLKLPQRHRMVYSLLQDEMAQANGIHALQLSLKTPQEYESKAK',\n",
       " 'YAL044C': 'MLRTTRLWTTRMPTVSKLFLRNSSGNALNKNKLPFLYSSQGPQAVRYTSQHEWIAVHQDKTAFVGITKYATDALGDATYVELPEVGTEIAQGESLGSIESVKSASEIYQPADGTVEEINTNLEENPGVVNEDPMGDGWLVKMKLGEGVNVEQVEGLMSLEQYEKTLVHDD',\n",
       " 'YAL043C': 'MSSAEMEQLLQAKTLAMHNNPTEMLPKVLETTASMYHNGNLSKLKLPLAKFFTQLVLDVVSMDSPIANTERPFIAAQYLPLLLAMAQSTADVLVYKNIVLIMCASYPLVLDLVAKTSNQEMFDQLCMLKKFVLSHWRTAYPLRATVDDETDVEQWLAQIDQNIGVKLATIKFISEVVLSQTKSPSGNEINSSTIPDNHPVLNKPALESEAKRLLDMLLNYLIEEQYMVSSVFIGIINSLSFVIKRRPQTTIRILSGLLRFNVDAKFPLEGKSDLNYKLSKRFVERAYKNFVQFGLKNQIITKSLSSGSGSSIYSKLTKISQTLHVIGEETKSKGILNFDPSKGNSKKTLSRQDKLKYISLWKRQLSALLSTLGVSTKTPTPVSAPATGSSTENMLDQLKILQKYTLNKASHQGNTFFNNSPKPISNTYSSVYSLMNSSNSNQDVTQLPNDILIKLSTEAILQMDSTKLITGLSIVASRYTDLMNTYINSVPSSSSSKRKSDDDDDGNDNEEVGNDGPTANSKKIKMETEPLAEEPEEPEDDDRMQKMLQEEESAQEISGDANKSTSAIKEIAPPFEPDSLTQDEKLKYLSKLTKKLFELSGRQDTTRAKSSSSSSILLDDDDSSSWLHVLIRLVTRGIEAQEASDLIREELLGFFIQDFEQRVSLIIEWLNEEWFFQTSLHQDPSNYKKWSLRVLESLGPFLENKHRRFFIRLMSELPSLQSDHLEALKPICLDPARSSLGFQTLKFLIMFRPPVQDTVRDLLHQLKQEDEGLHKQCDSLLDRLK',\n",
       " 'YAL042W': 'MKRSTLLSLDAFAKTEEDVRVRTRAGGLITLSCILTTLFLLVNEWGQFNSVVTRPQLVVDRDRHAKLELNMDVTFPSMPCDLVNLDIMDDSGEMQLDILDAGFTMSRLNSEGRPVGDATELHVGGNGDGTAPVNNDPNYCGPCYGAKDQSQNENLAQEEKVCCQDCDAVRSAYLEAGWAFFDGKNIEQCEREGYVSKINEHLNEGCRIKGSAQINRIQGNLHFAPGKPYQNAYGHFHDTSLYDKTSNLNFNHIINHLSFGKPIQSHSKLLGNDKRHGGAVVATSPLDGRQVFPDRNTHFHQFSYFAKIVPTRYEYLDNVVIETAQFSATFHSRPLAGGRDKDHPNTLHVRGGIPGMFVFFEMSPLKVINKEQHGQTWSGFILNCITSIGGVLAVGTVMDKLFYKAQRSIWGKKSQ',\n",
       " 'YAL041W': 'MAIQTRFASGTSLSDLKPKPSATSISIPMQNVMNKPVTEQDSLFHICANIRKRLEVLPQLKPFLQLAYQSSEVLSERQSLLLSQKQHQELLKSNGANRDSSDLAPTLRSSSISTATSLMSMEGISYTNSNPSATPNMEDTLLTFSMGILPITMDCDPVTQLSQLFQQGAPLCILFNSVKPQFKLPVIASDDLKVCKKSIYDFILGCKKHFAFNDEELFTISDVFANSTSQLVKVLEVVETLMNSSPTIFPSKSKTQQIMNAENQHRHQPQQSSKKHNEYVKIIKEFVATERKYVHDLEILDKYRQQLLDSNLITSEELYMLFPNLGDAIDFQRRFLISLEINALVEPSKQRIGALFMHSKHFFKLYEPWSIGQNAAIEFLSSTLHKMRVDESQRFIINNKLELQSFLYKPVQRLCRYPLLVKELLAESSDDNNTKELEAALDISKNIARSINENQRRTENHQVVKKLYGRVVNWKGYRISKFGELLYFDKVFISTTNSSSEPEREFEVYLFEKIIILFSEVVTKKSASSLILKKKSSTSASISASNITDNNGSPHHSYHKRHSNSSSSNNIHLSSSSAAAIIHSSTNSSDNNSNNSSSSSLFKLSANEPKLDLRGRIMIMNLNQIIPQNNRSLNITWESIKEQGNFLLKFKNEETRDNWSSCLQQLIHDLKNEQFKARHHSSTSTTSSTAKSSSMMSPTTTMNTPNHHNSRQTHDSMASFSSSHMKRVSDVLPKRRTTSSSFESEIKSISENFKNSIPESSILFRISYNNNSNNTSSSEIFTLLVEKVWNFDDLIMAINSKISNTHNNNISPITKIKYQDEDGDFVVLGSDEDWNVAKEMLAENNEKFLNIRLY',\n",
       " 'YAL040C': 'MAILKDTIIRYANARYATASGTSTATAASVSAASCPNLPLLLQKRRAIASAKSKNPNLVKRELQAHHSAISEYNNDQLDHYFRLSHTERPLYNLTNFNSQPQVNPKMRFLIFDFIMYCHTRLNLSTSTLFLTFTILDKYSSRFIIKSYNYQLLSLTALWISSKFWDSKNRMATLKVLQNLCCNQYSIKQFTTMEMHLFKSLDWSICQSATFDSYIDIFLFQSTSPLSPGVVLSAPLEAFIQQKLALLNNAAGTAINKSSSSQGPSLNINEIKLGAIMLCELASFNLELSFKYDRSLIALGAINLIKLSLNYYNSNLWENINLALEENCQDLDIKLSEISNTLLDIAMDQNSFPSSFKSKYLNSNKTSLAKSLLDALQNYCIQLKLEEFYRSQELETMYNTIFAQSFDSDSLTCVYSNATTPKSATVSSAATDYFSDHTHLRRLTKDSISPPFAFTPTSSSSSPSPFNSPYKTSSSMTTPDSASHHSHSGSFSSTQNSFKRSLSIPQNSSIFWPSPLTPTTPSLMSNRKLLQNLSVRSKRLFPVRPMATAHPCSAPTQLKKRSTSSVDCDFNDSSNLKKTR',\n",
       " 'YAL039C': 'MGWFWADQKTTGKDIGGAAVSSMSGCPVMHESSSSSPPSSECPVMQGDNDRINPLNNMPELAASKQPGQKMDLPVDRTISSIPKSPDSNEFWEYPSPQQMYNAMVRKGKIGGSGEVAEDAVESMVQVHNFLNEGCWQEVLEWEKPHTDESHVQPKLLKFMGKPGVLSPRARWMHLCGLLFPSHFSQELPFDRHDWIVLRGERKAEQQPPTFKEVRYVLDFYGGPDDENGMPTFHVDVRPALDSLDNAKDRMTRFLDRMISGPSSSSSAP',\n",
       " 'YAL038W': 'MSRLERLTSLNVVAGSDLRRTSIIGTIGPKTNNPETLVALRKAGLNIVRMNFSHGSYEYHKSVIDNARKSEELYPGRPLAIALDTKGPEIRTGTTTNDVDYPIPPNHEMIFTTDDKYAKACDDKIMYVDYKNITKVISAGRIIYVDDGVLSFQVLEVVDDKTLKVKALNAGKICSHKGVNLPGTDVDLPALSEKDKEDLRFGVKNGVHMVFASFIRTANDVLTIREVLGEQGKDVKIIVKIENQQGVNNFDEILKVTDGVMVARGDLGIEIPAPEVLAVQKKLIAKSNLAGKPVICATQMLESMTYNPRPTRAEVSDVGNAILDGADCVMLSGETAKGNYPINAVTTMAETAVIAEQAIAYLPNYDDMRNCTPKPTSTTETVAASAVAAVFEQKAKAIIVLSTSGTTPRLVSKYRPNCPIILVTRCPRAARFSHLYRGVFPFVFEKEPVSDWTDDVEARINFGIEKAKEFGILKKGDTYVSIQGFKAGAGHSNTLQVSTV',\n",
       " 'YAL037C-A': 'MSISFPKMQHLIVMTTIGDKKVNNNIILFL',\n",
       " 'YAL037W': 'MDMEIEDSSPIDDLKLQKLDTNVYFGPCEILTQPILLQYENIKFIIGVNLSTEKIASFYTQYFRNSNSVVVNLCSPTTAAVATKKAAIDLYIRNNTILLQKFVGQYLQMGKKIKTSLTQAQTDTIQSLPQFCNSNVLSGEPLVQYQAFNDLLALFKSFSHFGNILVISSHSYDCALLKFLISRVMTYYPLVTIQDSLQYMKATLNISISTSDEFDILNDKELWEFGQTQEILKRRQTSSVKRRCVNLPENSTIDNRMLMGTTKRGRF',\n",
       " 'YAL036C': 'MSTTVEKIKAIEDEMARTQKNKATSFHLGQLKAKLAKLRRELLTSASSGSGGGAGIGFDVARTGVASVGFVGFPSVGKSTLLSKLTGTESEAAEYEFTTLVTVPGVIRYKGAKIQMLDLPGIIDGAKDGRGRGKQVIAVARTCNLLFIILDVNKPLHHKQIIEKELEGVGIRLNKTPPDILIKKKEKGGISITNTVPLTHLGNDEIRAVMSEYRINSAEIAFRCDATVDDLIDVLEASSRRYMPAIYVLNKIDSLSIEELELLYRIPNAVPISSGQDWNLDELLQVMWDRLNLVRIYTKPKGQIPDFTDPVVLRSDRCSVKDFCNQIHKSLVDDFRNALVYGSSVKHQPQYVGLSHILEDEDVVTILKK',\n",
       " 'YAL035W': 'MAKKSKKNQQNYWDEEFEEDAAQNEEISATPTPNPESSAGADDTSREASASAEGAEAIEGDFMSTLKQSKKKQEKKVIEEKKDGKPILKSKKEKEKEKKEKEKQKKKEQAARKKAQQQAQKEKNKELNKQNVEKAAAEKAAAEKSQKSKGESDKPSASAKKPAKKVPAGLAALRRQLELKKQLEEQEKLEREEEERLEKEEEERLANEEKMKEEAKAAKKEKEKAKREKRKAEGKLLTRKQKEEKKLLERRRAALLSSGNVKVAGLAKKDGEENKPKKVVYSKKKKRTTQENASEAIKSDSKKDSEVVPDDELKESEDVLIDDWENLALGDDDEEGTNEETQESTASHENEDQNQGEEEEEGEEEEEEEEERAHVHEVAKSTPAATPAATPTPSSASPNKKDLRSPICCILGHVDTGKTKLLDKIRQTNVQGGEAGGITQQIGATYFPIDAIKAKTKVMAEYEKQTFDVPGLLVIDTPGHESFSNLRSRGSSLCNIAILVIDIMHGLEQQTIESIKLLRDRKAPFVVALNKIDRLYDWKAIPNNSFRDSFAKQSRAVQEEFQSRYSKIQLELAEQGLNSELYFQNKNMSKYVSIVPTSAVTGEGVPDLLWLLLELTQKRMSKQLMYLSHVEATILEVKVVEGFGTTIDVILSNGYLREGDRIVLCGMNGPIVTNIRALLTPQPLRELRLKSEYVHHKEVKAALGVKIAANDLEKAVSGSRLLVVGPEDDEDELMDDVMDDLTGLLDSVDTTGKGVVVQASTLGSLEALLDFLKDMKIPVMSIGLGPVYKRDVMKASTMLEKAPEYAVMLCFDVKVDKEAEQYAEQEGIKIFNADVIYHLFDSFTAYQEKLLEERRKDFLDYAIFPCVLQTLQIINKRGPMIIGVDVLEGTLRVGTPICAVKTDPTTKERQTLILGKVISLEINHQPVQEVKKGQTAAGVAVRLEDPSGQQPIWGRHVDENDTLYSLVSRRSIDTLKDKAFRDQVARSDWLLLKKLKVVFGIE',\n",
       " 'YAL034W-A': 'MSAPTMRSTSILTEHLGYPPISLVDDIINAVNEIMYKCTAAMEKYLLSKSKIGEEDYGEEIKSGVAKLESLLENSVDKNFDKLELYVLRNVLRIPEEYLDANVFRLENQKDLVIVDENELKKSEEKLREKVNDVELAFKKNEMLLKRVTKVKRLLFTIRGFKQKLNELLKCKDDVQLQKILESLKPIDDTMTLLTDSLRKLYVDSESTSSTEEVEALLQRLKTNGKQNNKDFRTRYIDIRTNNVLRKLGLLGDKEDEKQSAKPDARTQAGDIVSIDIEEPQLDLLDDVL',\n",
       " 'YAL034C': 'MGLYSPESEKSQLNMNYIGKDDSQSIFRRLNQNLKASNNNNDSNKNGLNMSDYSNNSPYGRSYDVRINQNSQNNGNGCFSGSIDSLVDEHIIPSPPLSPKLESKISHNGSPRMASSVLVGSTPKGAVENVLFVKPVWPNGLSRKRYRYATYGFLSQYKIFSNLAQPYSKNIINRYNNLAYNARHKYSKYNDDMTPPPLPSSSSRLPSPLASPNLNRQARYNMRKQALYNNNLGKFESDTEWIPRKRKVYSPQRRTMTTSPHRAKKFSPSASTPHTNIASIEAIHDAPQYIPNVSWKKLPDYSPPLSTLPTDSNKSLKIEWKGSPMDLSTDPLRNELHPAELVLAQTLRLPCDLYLDSKRRLFLEKVYRLKKGLPFRRTDAQKACRIDVNKASRLFQAFEKVGWLQDSNFTKYL',\n",
       " 'YAL033W': 'MVRLKSRYILFEIIFPPTDTNVEESVSKADILLSHHRASPADVSIKSILQEIRRSLSLNLGDYGSAKCNSLLQLKYFSNKTSTGIIRCHREDCDLVIMALMLMSKIGDVDGLIVNPVKVSGTIKKIEQFAMRRNSKILNIIKCSQSSHLSDNDFIINDFKKIGRENENENEDD',\n",
       " 'YAL032C': 'MFSNRLPPPKHSQGRVSTALSSDRVEPAILTDQIAKNVKLDDFIPKRQSNFELSVPLPTKAEIQECTARTKSYIQRLVNAKLANSNNRASSRYVTETHQAPANLLLNNSHHIEVVSKQMDPLLPRFVGKKARKVVAPTENDEVVPVLHMDGSNDRGEADPNEWKIPAAVSNWKNPNGYTVALERRVGKALDNENNTINDGFMKLSEALENADKKARQEIRSKMELKRLAMEQEMLAKESKLKELSQRARYHNGTPQTGAIVKPKKQTSTVARLKELAYSQGRDVSEKIILGAAKRSEQPDLQYDSRFFTRGANASAKRHEDQVYDNPLFVQQDIESIYKTNYEKLDEAVNVKSEGASGSHGPIQFTKAESDDKSDNYGA',\n",
       " 'YAL031C': 'MVDVQKRKKLLAKAAASASIPAIKGSVPLDSYDIKIIQYKNALYKLNELNRLLNVLVPHLKKKRDNDESYKIIPLVNFILSLCEGPIFNVSPVLAKRYHLLCRFQLIKLSEVQQRLSTNFIDVEGWMFPEEVPLDHYKSCIYNNSLQWKILNSLSCIAQNAIKIYNAKLRQILLERDAYKARSLPFDTSIIEDLLNPVEMTLILDLAVLINDPVRDKSTHSFYKLQWQVMEKLNSCVHSKIFPILRTYYNQLQKFSETRPTSLSNLQKDLPHWEWTLHRIYTFHLRVFSVLCVIISFSRQIFLPNKQHFLDIKTRLSSENVYHYDLIICELMALLSPECDDVTALFELQENLKFWTQTARTDNNSSRTPIFHLQPGLVVELFNNHICKIIPKLRSIMGLLSNWMDCWKYIEKNYKTFDETNDLRENLKEKLERDKALYLEVKNAKSKLKKKPSITKLPASSSPSPSPTSSASPSRQASLESIRTRARAHLASNSSRSPSVSPVRTTFNNKNAETKKSVVSPEKRKLINGRRPRSSSLQSYTNKQQTSYLNSTRHPSIAPPSKLNNQRSNSLQSSTMTLNQKIVQDTVRHLMNKSASTPNPSASSSLAPSPKVSSINNTSSGKSSSTLIANSSDTLAIETLTLDPESNSSELSIKRVRFAGVPPMTEAENPKPTKVGWYKKPAVLHYPPIPASAMIKPLQHKSKYNTLRQEEGFTFRKSLRDGLEWENGESGSETTMMPFGIEIKESTGHRIASKIRSKLR',\n",
       " 'YAL030W': 'MSSSTPFDPYALSEHDEERPQNVQSKSRTAELQAEIDDTVGIMRDNINKVAERGERLTSIEDKADNLAVSAQGFKRGANRVRKAMWYKDLKMKMCLALVIIILLVVIIVPIAVHFSR',\n",
       " 'YAL029C': 'MSFEVGTKCWYPHKEQGWIGGEVTKNDFFEGTFHLELKLEDGETVSIETNSFENDDDHPTLPVLRNPPILESTDDLTTLSYLNEPAVLHAIKKRYMNGQIYTYSGIVLIAANPFDKVDHLYSREMIQNYSSKRKDELEPHLFAIAEEAYRFMVHEKANQTVVVSGESGAGKTVSAKYIMRYFASVQESNNREGEVEMSQIESQILATNPIMEAFGNAKTTRNDNSSRFGKYLQILFDENTTIRGSKIRTYLLEKSRLVYQPETERNYHIFYQILEGLPEPVKQELHLSSPKDYHYTNQGGQPNIAGIDEAREYKITTDALSLVGINHETQLGIFKILAGLLHIGNIEMKMTRNDASLSSEEQNLQIACELLGIDPFNFAKWIVKKQIVTRSEKIVTNLNYNQALIARDSVAKFIYSTLFDWLVDNINKTLYDPELDQQDHVFSFIGILDIYGFEHFEKNSFEQFCINYANEKLQQEFNQHVFKLEQEEYVKEEIEWSFIEFSDNQPCIDLIENKLGILSLLDEESRLPSGSDESWASKLYSAFNKPPSNEVFSKPRFGQTKFIVSHYAVDVEYEVEGFIEKNRDSVSLGHLDVFKATTNPIFKQILDNRELRSDDAPEEQNTEKKIMIPARLSQKKPTLGSMFKKSLGELMAIINSTNVHYIRCIKPNSEKKPWEFDNLMVLSQLRACGVLETIRISCAGFPSRWTFDEFVQRYFLLTDYSLWSGILYNPDLPKEAIVNFCQSILDATISDSAKYQIGNTKIFFKAGMLAFLEKLRTNKMNEICIIIQKKIRARYYRLQYLQTMESIKKCQSQIRSLLVRTRVDHELKTRAAILLQTNIRALWKREYYRAAIGQIIKLQCTCKRKLILDSVNRKFMLMAAVIIQSYIRSYGHKTDYRTLKRSSILVQSAMRMQLARRRYIVLQKEVEERNIRASYGIGLLEEAIEFKNSFILNLEMLNDSYTRLTQLLQGDLSNIPSKQRQEYETIVNGYNDKISKLKTLQVEIMNTLNKKNALKERKKKQSSLIQSHMQSLAAIKGNKPSRLSDEVKSMKQELAFIENVIAQDFTTTYSANKNDKVKGLGIAGQQVKPKLVNVIRRESGNPDLLELLMDLNCYTLEVTEGYLKKVNVTEVNGDNVLGPIHVITTVVSSLVRNGLLIQSSKFISKVLLTVESIVMSLPKDETMLGGIFWLSNLSRLPAFAANQKTLYEANGGDEKDKLTLIYLNDLENETLKVFDKIYSTWLVKFMKHASAHIEIFDMVLNEKLFKNSGDEKFAKLFTFLNEFDAVLCKFQVVDSMHTKIFNDTLKYLNVMLFNDLITKCPALNWKYGYEVDRNIERLVSWFEPRIEDVRPNLIQIIQAVKILQLKISNLNEFKLLFDFWYALNPAQIQAILLKYKPANKGEAGVPNEILNYLANVIKRENLSLPGKMEIMLSAQFDSAKNHLRYDTSAITQNSNTEGLATVSKIIKLDRK',\n",
       " 'YAL028W': 'MQNAQIKSSSKGSGIDGTDRNSKDGVEKRPLEDVKQMIDAGTPDVGHKSTVETKPNVGWQASHSNLAALHEKEQKYEMEHHHARHKLHRQVIPDYTSASTAMFSDCMFNAAPDKVRSLSTMKSSGLSPKHPFNVVATFKGPFPQHSVESKPLDGGYSAKDHFPSFKMLQAQQHPAHRHYKDNDKYGLKSPSRSFVKDKKRLVHRFLKSMEPSSSGQSKDSSALAPAFDPILPNVISKPSKRPTHHSHSSDGSSSTQTDISLQSLLYHDLESSPKKHVSPSRPPSVASESSPAVANPIGLSPKDACNASFSQSSSSSLSSSSSSSSSTSFSQSVAVDPLEPPGNITYSSSNLSLNSDELDYYQRHIGLQLQQTEALLKHSLKDEVLKDENDLVKNIANFDKIVKELRDLRSRTIGWKELVEEDYLMNLKQDFDKENPESFEARLSDTINTNVAKLQDLEKRMASCKDRLASRKEVMRKMESLLSLENSLMISKKNVTFASKYRNEALDIVFLIIIIVICYTFKHLVSHK',\n",
       " 'YAL027W': 'MAPSIATVKIARDMVLPLRIFVNRKQILQTNDKTSNKSNATIFEAPLLSNNSIICLKSPNTRIYLSQQDKKNLCDEIKEDLLLIVYELASPEIISSVLSKIRVGHSTDFQINVLPKLFAGADTDNAVTSHIQSVTRLAKFKYKLHYKHKWELDIFINSIKKIANLRHYLMFQTLTLNGFSLNAGPKTLLARKIEKQPQVPNLLIENGDADALDTPVEEDIKPVIEFMYKPVINLGEIIDVHVLHRPRRHKVRTQSKQPQEE',\n",
       " 'YAL026C': 'MNDDRETPPKRKPGEDDTLFDIDFLDDTTSHSGSRSKVTNSHANANYIPPSHVLPEETIDLDADDDNIENDVHENLFMSNNHDDQTSWNANRFDSDAYQPQSLRAVKPPGLFARFGNGLKNAFTFKRKKGPESFEMNHYNAVTNNELDDNYLDSRNKFNIKILFNRYILRKNVGDAEGNGEPRVIHINDSLANSSFGYSDNHISTTKYNFATFLPKFLFQEFSKYANLFFLCTSAIQQVPHVSPTNRYTTIGTLLVVLIVSAMKECIEDIKRANSDKELNNSTAEIFSEAHDDFVEKRWIDIRVGDIIRVKSEEPIPADTIILSSSEPEGLCYIETANLDGETNLKIKQSRVETAKFIDVKTLKNMNGKVVSEQPNSSLYTYEGTMTLNDRQIPLSPDQMILRGATLRNTAWIFGLVIFTGHETKLLRNATATPIKRTAVEKIINRQIIALFTVLIVLILISSIGNVIMSTADAKHLSYLYLEGTNKAGLFFKDFLTFWILFSNLVPISLFVTVELIKYYQAFMIGSDLDLYYEKTDTPTVVRTSSLVEELGQIEYIFSDKTGTLTRNIMEFKSCSIAGHCYIDKIPEDKTATVEDGIEVGYRKFDDLKKKLNDPSDEDSPIINDFLTLLATCHTVIPEFQSDGSIKYQAASPDEGALVQGGADLGYKFIIRKPNSVTVLLEETGEEKEYQLLNICEFNSTRKRMSAIFRFPDGSIKLFCKGADTVILERLDDEANQYVEATMRHLEDYASEGLRTLCLAMRDISEGEYEEWNSIYNEAATTLDNRAEKLDEAANLIEKNLILIGATAIEDKLQDGVPETIHTLQEAGIKIWVLTGDRQETAINIGMSCRLLSEDMNLLIINEETRDDTERNLLEKINALNEHQLSTHDMNTLALVIDGKSLGFALEPELEDYLLTVAKLCKAVICCRVSPLQKALVVKMVKRKSSSLLLAIGDGANDVSMIQAAHVGVGISGMEGMQAARSADIAVGQFKFLKKLLLVHGSWSYQRISVAILYSFYKNTALYMTQFWYVFANAFSGQSIMESWTMSFYNLFFTVWPPFVIGVFDQFVSSRLLERYPQLYKLGQKGQFFSVYIFWGWIINGFFHSAIVFIGTILIYRYGFALNMHGELADHWSWGVTVYTTSVIIVLGKAALVTNQWTKFTLIAIPGSLLFWLIFFPIYASIFPHANISREYYGVVKHTYGSGVFWLTLIVLPIFALVRDFLWKYYKRMYEPETYHVIQEMQKYNISDSRPHVQQFQNAIRKVRQVQRMKKQRGFAFSQAEEGGQEKIVRMYDTTQKRGKYGELQDASANPFNDNNGLGSNDFESAEPFIENPFADGNQNSNRFSSSRDDISFDI',\n",
       " 'YAL025C': 'MSDEIVWQVINQSFCSHRIKAPNGQNFCRNEYNVTGLCTRQSCPLANSKYATVKCDNGKLYLYMKTPERAHTPAKLWERIKLSKNYTKALQQIDEHLLHWSKFFRHKCKQRFTKLTQVMITERRLALREEERHYVGVAPKVKRREQNRERKALVAAKIEKAIEKELMDRLKSGAYGDKPLNVDEKVWKKIMGQMEEENSQDEEEDWDEEEESDDGEVEYVADDGEGEYVDVDDLEKWLADSDREASSASESESDSESESDSDSDEENKNSAKRRKKGTSAKTKRPKVEIEYEEEHEVQNAEQEVAQ',\n",
       " 'YAL024C': 'MEIFSQKDYYPTPSSNVISYESDCVSKPVNSADLPALIVHLSSPLEGVDYNASADFFLIYRNFITPQDLHDLLIYRFRWCIREITTNAAKAKRRRIGEVALVRTFVLLRHSILNYFVQDFLPNITLRLRLIEFLNDKHIEQYPKIISSCIINLKKNWVHCSKLVWENIELNEPDKLDFDAWLHYSLKDFTQLESLHKRGSRLSIYARQSFASPDFRNQSVLSLYKTSDVFRLPEKLQSSNSSKNQRSPSMLLFPDNTSNVYSKHRIAKEPSVDNESEDMSDSKQKISHLSKVTLVSTLMKGVDYPSSYAVDKIMPPTPAKKVEFILNSLYIPEDLNEQSGTLQGTSTTSSLDNNSNSNSRSNTSSMSVLHRSAIGLLAKWMKNHNRHDSSNDKKFMSAIKPANQKPEMDAFVKYVVSISSLNRKSSKEEEEEFLNSDSSKFDILSARTIDEVESLLHLQNQLIEKVQTHSNNNRGPTVNVDCERREHIHDIKILQQNSFKPSNDNFSAMDNLDLYQTVSSIAQSVISLTNTLNKQLQNNESNMQPSPSYDALQRRKVKSLTTAYYNKMHGSYSAESMRLFDKDNSSSRTDENGPQRLLFHETDKTNSEAITNMTPRRKNHSQSQKSMTSSPLKNVLPDLKESSPLNDSREDTESITYSYDSELSSSSPPRDTVTKKSRKVRNIVNNTDSPTLKTKTGFLNLREFTFEDTKSLDEKKSTIDGLEKNYDNKENQESEYESTKKLDNSLDASSEANNYDITTRKKHSSCNHKIKQAVVRPASGRISISRVQSIAITPTKELSIVDPEQNKSNSVIEEISEIEPLNLEYNKKSALYSDTSSTVISISTSKLFESAQNSPLKQTQNPQREFPNGTSVSETNRIRLSIAPTIESVVSDLNSITTGSTVETFETSRDLPVPHQRIINLREEYQRGNQDIISNTSSLHELKTIDLSDSNNDLESPSTHAKNNKYFFSPDDGSIDVASPMKNVEELKSKFLKNESETNSNISGSVLTMDDIDINDTSSARNTRRANSESAFTGSLNKKNLNEIANMLDDSINDDPITVALMKLEGTYEKIPEKPENTKSSDAIGIKTSKLADEVEMLNLNNLPSFQNSPAEKRKSLLIERRRQTIMNIPFTPDQSEKEGFTSSSPEKIDVSANVDVAVQAAQIQELIGQYRIHDSRLMISNNESHVPFILMYDSLSVAQQMTLIEKEILGEIDWKDLLDLKMKHEGPQVISWLQLLVRNETLSGIDLAISRFNLTVDWIISEILLTKSSKMKRNVIQRFIHVADHCRTFQNFNTLMEIILALSSSVVQKFTDAWRLIEPGDLLTWEELKKIPSLDRNYSTIRNLLNSVNPLVGCVPFIVVYLSDLSANAEKKDWILEDKVVNYNKFDTNVQIVKNFIQRVQWSKFYTFKVNHELLSKCVYISTLTQEEINELST',\n",
       " 'YAL023C': 'MSSSSSTGYSKNNAAHIKQENTLRQRESSSISVSEELSSADERDAEDFSKEKPAAQSSLLRLESVVMPVIFTALALFTRMYKIGINNHVVWDEAHFGKFGSYYLRHEFYHDVHPPLGKMLVGLSGYLAGYNGSWDFPSGEIYPDYLDYVKMRLFNASFSALCVPLAYFTAKAIGFSLPTVWLMTVLVLFENSYSTLGRFILLDSMLLFFTVASFFSFVMFHNQRSKPFSRKWWKWLLITGISLGCTISVKMVGLFIITMVGIYTVIDLWTFLADKSMSWKTYINHWLARIFGLIIVPFCIFLLCFKIHFDLLSHSGTGDANMPSLFQARLVGSDVGQGPRDIALGSSVVSIKNQALGGSLLHSHIQTYPDGSNQQQVTCYGYKDANNEWFFNRERGLPSWSENETDIEYLKPGTSYRLVHKSTGRNLHTHPVAAPVSKTQWEVSGYGDNVVGDNKDNWVIEIMDQRGDEDPEKLHTLTTSFRIKNLEMGCYLAQTGNSLPEWGFRQQEVVCMKNPFKRDKRTWWNIETHENERLPPRPEDFQYPKTNFLKDFIHLNLAMMATNNALVPDPDKFDYLASSAWQWPTLNVGLRLCGWGDDNPKYFLLGTPASTWASSVAVLAFMATVVILLIRWQRQYVDLRNPSNWNVFLMGGFYPLLAWGLHYMPFVIMSRVTYVHHYLPALYFALIILAYCFDAGLQKWSRSKCGRIMRFVLYAGFMALVIGCFWYFSPISFGMEGPSSNFRYLNWFSTWDIADKQEA',\n",
       " 'YAL022C': 'MSTSADTDTIKKPILAVPEPALADTHSEEISRSGEEHESENNEHSDEEGDNYSEREQSVSTEPLDTLPLRKKLKNLSYITFFAIGIGLLWPWNCILSASQYFKHDIFKDTSIWAKIFTSSMMSFSTISSMLFNIYLAKRQYKYSRRVINGLVWEIIVFTVMCFFTILHFLLPKWFNFMFIMMLVVISSMGTAMTQNGIMAIANVFGSEYSQGVMVGQAVAGVLPSLVLFALAFIENSSVSTTGGILLYFFTTTLVVTICVVMFSVSKISRKVNENWNVEDGHITDVLLGSLRSNEEEIRIVGRIDQMEDEDHRRTNGTRDDNDEGEELQLKVPFEVLFAKLKYLVLSIFTTFVVTLVFPVFASATYVTGLPLSNAQYIPLIFTLWNLGDLYGRVIADWPMFRDQKFTPRKTFIYSLLRVAAIPLFLMFTAITSSSSGDEEHNGSVIVDLCYMLLQFLFGVTNGHVISMSFMKVPEQLDNDDEKEAAGGFTNIFVSTGLALGSIISYVFVFIIDFIIR',\n",
       " 'YAL021C': 'MNDPSLLGYPNVGPQQQQQQQQQQHAGLLGKGTPNALQQQLHMNQLTGIPPPGLMNNSDVHTSSNNNSRQLLDQLANGNANMLNMNMDNNNNNNNNNNNNNNNGGGSGVMMNASTAAVNSIGMVPTVGTPVNINVNASNPLLHPHLDDPSLLNNPIWKLQLHLAAVSAQSLGQPNIYARQNAMKKYLATQQAQQAQQQAQQQAQQQVPGPFGPGPQAAPPALQPTDFQQSHIAEASKSLVDCTKQALMEMADTLTDSKTAKKQQPTGDSTPSGTATNSAVSTPLTPKIELFANGKDEANQALLQHKKLSQYSIDEDDDIENRMVMPKDSKYDDQLWHALDLSNLQIFNISANIFKYDFLTRLYLNGNSLTELPAEIKNLSNLRVLDLSHNRLTSLPAELGSCFQLKYFYFFDNMVTTLPWEFGNLCNLQFLGVEGNPLEKQFLKILTEKSVTGLIFYLRDNRPEIPLPHERRFIEINTDGEPQREYDSLQQSTEHLATDLAKRTFTVLSYNTLCQHYATPKMYRYTPSWALSWDYRRNKLKEQILSYDSDLLCLQEVESKTFEEYWVPLLDKHGYTGIFHAKARAKTMHSKDSKKVDGCCIFFKRDQFKLITKDAMDFSGAWMKHKKFQRTEDYLNRAMNKDNVALFLKLQHIPSGDTIWAVTTHLHWDPKFNDVKTFQVGVLLDHLETLLKEETSHNFRQDIKKFPVLICGDFNSYINSAVYELINTGRVQIHQEGNGRDFGYMSEKNFSHNLALKSSYNCIGELPFTNFTPSFTDVIDYIWFSTHALRVRGLLGEVDPEYVSKFIGFPNDKFPSDHIPLLARFEFMKTNTGSKKV',\n",
       " 'YAL020C': 'MSCVYAFGSNGQRQLGLGHDEDMDTPQRSVPGDDGAIVRKIACGGNHSVMLTNDGNLVGCGDNRRGELDSAQALRQVHDWRPVEVPAPVVDVACGWDTTVIVDADGRVWQRGGGCYEFTQQHVPLNSNDERIAVYGCFQNFVVVQGTRVYGWGSNTKCQLQEPKSRSLKEPVLVYDTGSVAVDYVAMGKDFMVIVDEGGRIVHASGRLPTGFELKQQQKRHNLVVLCMWTSIHLWNARLNTVESFGRGTHSQLFPQERLDFPIVGVATGSEHGILTTANQEGKSHCYNVYCWGWGEHGNCGPQKGSQPGLQLVGQYSGKPRVFGGCATTWIVL',\n",
       " 'YAL019W': 'MSGSHSNDEDDVVQVPETSSPTKVASSSPLKPTSPTVPDASVASLRSRFTFKPSDPSEGAHTSKPLPSGSPEVALVNLAREFPDFSQTLVQAVFKSNSFNLQSARERLTRLRQQRQNWTWNKNASPKKSETPPPVKKSLPLANTGRLSSIHGNINNKSSKITVAKQKTSIFDRYSNVINQKQYTFELPTNLNIDSEALSKLPVNYNKKRRLVRADQHPIGKSYESSATQLGSAREKLLANRKYGRHANDNDEEEEESMMTDDDDASGDDYTESTPQINLDEQVLQFINDSDIVDLSDLSDTTMHKAQLIASHRPYSSLNAFVNTNFNDKDTEENASNKRKRRAAASANESERLLDKITQSIRGYNAIESVIKKCSSYGDLVTSQMKKWGVQVEGDNSELDLMNLGEDDDDDNDDGNNDNNNSNNNNTAGADATSKEKEDTKAVVEGFDETSAEPTPAPAPAPVERETKRIRNTTKPKVVEDEDDDVDLEAIDDELPQSEHEDDDYEEEDEDYNDEEEDVEYDDGDDDDDDDDEFVATRKNTHVISTTSRNGRKPIVKFFKGKPRLLSPEISLKDYQQTGINWLNLLYQNKMSCILADDMGLGKTCQVISFFAYLKQINEPGPHLVVVPSSTLENWLREFQKFAPALKIEPYYGSLQEREELRDILERNAGKYDVIVTTYNLAAGNKYDVSFLKNRNFNVVVYDEGHMLKNSTSERFAKLMKIRANFRLLLTGTPLQNNLKELMSLLEFIMPNLFISKKESFDAIFKQRAKTTDDNKNHNPLLAQEAITRAKTMMKPFILRRRKDQVLKHLPPKHTHIQYCELNAIQKKIYDKEIQIVLEHKRMIKDGELPKDAKEKSKLQSSSSKNLIMALRKASLHPLLFRNIYNDKIITKMSDAILDEPAYAENGNKEYIKEDMSYMTDFELHKLCCNFPNTLSKYQLHNDEWMQSGKIDALKKLLKTIIVDKQEKVLIFSLFTQVLDILEMVLSTLDYKFLRLDGSTQVNDRQLLIDKFYEDKDIPIFILSTKAGGFGINLVCANNVIIFDQSFNPHDDRQAADRAHRVGQTKEVNITTLITKDSIEEKIHQLAKNKLALDSYISEDKKSQDVLESKVSDMLEDIIYDENSKPKGTKE',\n",
       " 'YAL018C': 'MSFTGSLALAGIGGLVYKFGGGQSYEKLPYVNIPFNQYLDKVYKKHFSKVMSRTRYVLMNFFKDAFTGGAFMYPFKGFLEFNTNKSSYSTTMLGILSSYLIMFALVSFVYWATITPMYTAFLIVLGPIGLFIAIFHSFLQANVFTLLFMRLSHFNNHLVEVCLEKNGLEENLSEVKPIKYYAPINSIYFWAYYFPFKLVKYMLGLSVLFVLLVISFFPLIGPILFHILISPFITQIYFTKVLRLQNFDNIQRRENIYLHAGQYASFGFLAGLIESVPILAGFAISTNTIGSVLFNLDHPMVPENLVETQAEIEAAPQDINQQPNQ',\n",
       " 'YAL017W': 'MPYIGASNLSEHSFVNLKEKHAITHKGTSSSVASLQTPPSPDQENHIDNELENYDTSLSDVSTPNKKEGDEFEQSLRDTFASFRKTKPPPPLDFEQPRLPSTASSSVDSTVSSPLTDEDIKELEFLPNESTHSYSYNPLSPNSLAVRLRILKRSLEIIIQNPSMLLEPTPDDLPPLKEFAGRRSSLPRTSASANHLMNRNKSQIWNTTSATLNAFVNNTSSSSAASSALSNKKPGTPVFPNLDPTHSQTFHRANSLAYLPSILPEQDPLLKHNNSLFRGDYGNNISPERPSFRQPFKDQTSNLRNSSLLNERAYQEDETFLPHHGPSMDLLNEQRANLKSLLNLLNETLEKNTSERASDLHMISLFNLNKLMLGDPKKNNSERDKRTEKLKKILLDSLAEPFFEHYNFIGDNPIADTDELKEEIDEFTGSGDTTAITDIRPQQDYGRILRTFTSTKNSAPQAIFTCSQEDPWQFRAANDLACLVFGISQNAIRALTLMDLIHTDSRNFVLHKLLSTEGQEMVFTGEIIGIVQPETLSSSKVVWASFWAKRKNGLLVCVFEKVPCDYVDVLLNLDDFGAENIVDKCELLSDGPTLSSSSTLSLPKMASSPTGSKLEYSLERKILEKSYTKPTSTENRNGDENQLDGDSHSEPSLSSSPVRSKKSVKFANDIKDVKSISQSLAKLMDDVRNGVVFDPDDDLLPMPIKVCNHINETRYFTLNHLSYNIPCAVSSTVLEDELKLKIHSLPYQAGLFIVDSHTLDIVSSNKSILKNMFGYHFAELVGKSITEIIPSFPKFLQFINDKYPALDITLHKNKGLVLTEHFFRKIQAEIMGDRKSFYTSVGIDGLHRDGCEIKIDFQLRVMNSKVILLWVTHSRDVVFEEYNTNPSQLKMLKESELSLMSSASSSASSSKKSSSRISTGTLKDMSNLSTYEDLAHRTNKLKYEIGDDSRAHSQSTLSEQEQVPLENDKDSGEMMLADPEMKHKLELARIYSRDKSQFVKEGNFKVDENLIISKISLSPSTESLADSKSSGKGLSPLEEEKLIDENATENGLAGSPKDEDGIIMTNKRGNQPVSTFLRTPEKNIGAQKHVKKFSDFVSLQKMGEGAYGKVNLCIHKKNRYIVVIKMIFKERILVDTWVRDRKLGTIPSEIQIMATLNKKPHENILRLLDFFEDDDYYYIETPVHGETGCIDLFDLIEFKTNMTEFEAKLIFKQVVAGIKHLHDQGIVHRDIKDENVIVDSKGFVKIIDFGSAAYVKSGPFDVFVGTIDYAAPEVLGGNPYEGQPQDIWAIGILLYTVVFKENPFYNIDEILEGDLKFNNAEEVSEDCIELIKSILNRCVPKRPTIDDINNDKWLVI',\n",
       " 'YAL016W': 'MSGARSTTAGAVPSAATTSTTSTTSNSKDSDSNESLYPLALLMDELKHDDIANRVEAMKKLDTIALALGPERTRNELIPFLTEVAQDDEDEVFAVLAEQLGKFVPYIGGPQYATILLPVLEILASAEETLVREKAVDSLNNVAQELSQEQLFSDFVPLIEHLATADWFSSKVSACGLFKSVIVRIKDDSLRKNILALYLQLAQDDTPMVKRAVGKNLPILIDLLTQNLGLSTDEDWDYISNIFQKIINDNQDSVKFLAVDCLISILKFFNAKGDESHTQDLLNSAVKLIGDEAWRVRYMAADRFSDLASQFSSNQAYIDELVQPFLNLCEDNEGDVREAVAKQVSGFAKFLNDPSIILNKILPAVQNLSMDESETVRSALASKITNIVLLLNKDQVINNFLPILLNMLRDEFPDVRLNIIASLKVVNDVIGIELLSDSLLPAITELAKDVNWRVRMAIIEYIPILAEQLGMQFFDQQLSDLCLSWLWDTVYSIREAAVNNLKRLTEIFGSDWCRDEIISRLLKFDLQLLENFVSRFTILSALTTLVPVVSLDVVTEQLLPFISHLADDGVPNIRFNVAKSYAVIVKVLIKDEAKYDALIKNTILPSLQTLCQDEDVDVKYFAKKSLAECQELLKN',\n",
       " 'YAL015C': 'MQKISKYSSMAILRKRPLVKTETGPESELLPEKRTKIKQEEVVPQPVDIDWVKSLPNKQYFEWIVVRNGNVPNRWATPLDPSILVTPASTKVPYKFQETYARMRVLRSKILAPVDIIGGSSIPVTVASKCGISKEQISPRDYRLQVLLGVMLSSQTKDEVTAMAMLNIMRYCIDELHSEEGMTLEAVLQINETKLDELIHSVGFHTRKAKYILSTCKILQDQFSSDVPATINELLGLPGVGPKMAYLTLQKAWGKIEGICVDVHVDRLTKLWKWVDAQKCKTPDQTRTQLQNWLPKGLWTEINGLLVGFGQIITKSRNLGDMLQFLPPDDPRSSLDWDLQSQLYKEIQQNIMSYPKWVKYLEGKRELNVEAEINVKHEEKTVEETMVKLENDISVKVED',\n",
       " 'YAL014C': 'MDVLKLGYELDQLSDLVEERTRLVSVLKLAPTSNDNVTLKRQLGSILELLQKCAPNDELISRYNTILDKIPDTAVDKELYRFQQQVARNTDEVSKESLKKVRFKNDDELTVMYKDDDEQDEESPLPSTHTPYKDEPLQSQLQSQSQPQPPQPMVSNQELFINQQQQLLEQDSHLGALSQSIGRTHDISLDLNNEIVSQNDSLLVDLENLIDNNGRNLNRASRSMHGFNNSRFKDNGNCVIILVLIVVLLLLLLVL',\n",
       " 'YAL013W': 'MSQQTPQESEQTTAKEQDLDQESVLSNIDFNTDLNHNLNLSEYCISSDAGTEKMDSDEEKSLANLPELKYAPKLSSLVKQETLTESLKRPHEDEKEAIDEAKKMKVPGENEDESKEEEKSQELEEAIDSKEKSTDARDEQGDEGDNEEENNEEDNENENEHTAPPALVMPSPIEMEEQRMTALKEITDIEYKFAQLRQKLYDNQLVRLQTELQMCLEGSHPELQVYYSKIAAIRDYKLHRAYQRQKYELSCINTETIATRTFIHQDFHKKVTDLRARLLNRTTQTWYDINKERRDMDIVIPDVNYHVPIKLDNKTLSCITGYASAAQLCYPGEPVAEDLACESIEYRYRANPVDKLEVIVDRMRLNNEISDLEGLRKYFHSFPGAPELNPLRDSEINDDFHQWAQ',\n",
       " 'YAL012W': 'MTLQESDKFATKAIHAGEHVDVHGSVIEPISLSTTFKQSSPANPIGTYEYSRSQNPNRENLERAVAALENAQYGLAFSSGSATTATILQSLPQGSHAVSIGDVYGGTHRYFTKVANAHGVETSFTNDLLNDLPQLIKENTKLVWIETPTNPTLKVTDIQKVADLIKKHAAGQDVILVVDNTFLSPYISNPLNFGADIVVHSATKYINGHSDVVLGVLATNNKPLYERLQFLQNAIGAIPSPFDAWLTHRGLKTLHLRVRQAALSANKIAEFLAADKENVVAVNYPGLKTHPNYDVVLKQHRDALGGGMISFRIKGGAEAASKFASSTRLFTLAESLGGIESLLEVPAVMTHGGIPKEAREASGVFDDLVRISVGIEDTDDLLEDIKQALKQATN',\n",
       " 'YAL011W': 'MPAVLRTRSKESSIEQKPASRTRTRSRRGKRGRDDDDDDDDEESDDAYDEVGNDYDEYASRAKLATNRPFEIVAGLPASVELPNYNSSLTHPQSIKNSGVLYDSLVSSRRTWVQGEMFELYWRRPKKIVSESTPAATESPTSGTIPLIRDKMQKMCDCVMSGGPHTFKVRLFILKNDKIEQKWQDEQELKKKEKELKRKNDAEAKRLRMEERKRQQMQKKIAKEQKLQLQKENKAKQKLEQEALKLKRKEEMKKLKEQNKNKQGSPSSSMHDPRMIMNLNLMAQEDPKLNTLMETVAKGLANNSQLEEFKKFIEIAKKRSLEENPVNKRPSVTTTRPAPPSKAKDVAEDHRLNSITLVKSSKTAATEPEPKKADDENAEKQQSKEAKTTAESTQVDVKKEEEDVKEKGVKSEDTQKKEDNQVVPKRKRRKNAIKEDKDMQLTAFQQKYVQGAEIILEYLEFTHSRYYLPKKSVVEFLEDTDEIIISWIVIHNSKEIEKFKTKKIKAKLKADQKLNKEDAKPGSDVEKEVSFNPLFEADCPTPLYTPMTMKLSGIHKRFNQIIRNSVSPMEEVVKEMEKILQIGTRLSGYNLWYQLDGYDDEALSESLRFELNEWEHAMRSRRHKR',\n",
       " 'YAL010C': 'MLPYMDQVLRAFYQSTHWSTQNSYEDITATSRTLLDFRIPSAIHLQISNKSTPNTFNSLDFSTRSRINGSLSYLYSDAQQLEKFMRNSTDIPLQDATETYRQLQPNLNFSVSSANTLSSDNTTVDNDKKLLHDSKFVKKSLYYGRMYYPSSDLEAMIIKRLSPQTQFMLKGVSSFKESLNVLTCYFQRDSHRNLQEWIFSTSDLLCGYRVLHNFLTTPSKFNTSLYNNSSLSLGAEFWLGLVSLSPGCSTTLRYYTHSTNTGRPLTLTLSWNPLFGHISSTYSAKTGTNSTFCAKYDFNLYSIESNLSFGCEFWQKKHHLLETNKNNNDKLEPISDELVDINPNSRATKLLHENVPDLNSAVNDIPSTLDIPVHKQKLLNDLTYAFSSSLRKIDEERSTIEKFDNKINSSIFTSVWKLSTSLRDKTLKLLWEGKWRGFLISAGTELVFTRGFQESLSDDEKNDNAISISATDTENGNIPVFPAKFGIQFQYST',\n",
       " 'YAL009W': 'MEPESIGDVGNHAQDDSASIVSGPRRRSTSKTSSAKNIRNSSNISPASMIFRNLLILEDDLRRQAHEQKILKWQFTLFLASMAGVGAFTFYELYFTSDYVKGLHRVILQFTLSFISITVVLFHISGQYRRTIVIPRRFFTSTNKGIRQFNVKLVKVQSTWDEKYTDSVRFVSRTIAYCNIYCLKKFLWLKDDNAIVKFWKSVTIQSQPRIGAVDVKLVLNPRAFSAEIREGWEIYRDEFWAREGARRRKQAHELRPKSE',\n",
       " 'YAL008W': 'MTLAFNMQRLVFRNLNVGKRMFKNVPLWRFNVANKLGKPLTRSVGLGGAGIVAGGFYLMNRQPSKLIFNDSLGAAVKQQGPLEPTVGNSTAITEERRNKISSHKQMFLGSLFGVVLGVTVAKISILFMYVGITSMLLCEWLRYKGWIRINLKNIKSVIVLKDVDLKKLLIDGLLGTEYMGFKVFFTLSFVLASLNANK',\n",
       " 'YAL007C': 'MIKSTIALPSFFIVLILALVNSVAASSSYAPVAISLPAFSKECLYYDMVTEDDSLAVGYQVLTGGNFEIDFDITAPDGSVITSEKQKKYSDFLLKSFGVGKYTFCFSNNYGTALKKVEITLEKEKTLTDEHEADVNNDDIIANNAVEEIDRNLNKITKTLNYLRAREWRNMSTVNSTESRLTWLSILIIIIIAVISIAQVLLIQFLFTGRQKNYV',\n",
       " 'YAL005C': 'MSKAVGIDLGTTYSCVAHFANDRVDIIANDQGNRTTPSFVAFTDTERLIGDAAKNQAAMNPSNTVFDAKRLIGRNFNDPEVQADMKHFPFKLIDVDGKPQIQVEFKGETKNFTPEQISSMVLGKMKETAESYLGAKVNDAVVTVPAYFNDSQRQATKDAGTIAGLNVLRIINEPTAAAIAYGLDKKGKEEHVLIFDLGGGTFDVSLLSIEDGIFEVKATAGDTHLGGEDFDNRLVNHFIQEFKRKNKKDLSTNQRALRRLRTACERAKRTLSSSAQTSVEIDSLFEGIDFYTSITRARFEELCADLFRSTLDPVEKVLRDAKLDKSQVDEIVLVGGSTRIPKVQKLVTDYFNGKEPNRSINPDEAVAYGAAVQAAILTGDESSKTQDLLLLDVAPLSLGIETAGGVMTKLIPRNSTIPTKKSEIFSTYADNQPGVLIQVFEGERAKTKDNNLLGKFELSGIPPAPRGVPQIEVTFDVDSNGILNVSAVEKGTGKSNKITITNDKGRLSKEDIEKMVAEAEKFKEEDEKESQRIASKNQLESIAYSLKNTISEAGDKLEQADKDTVTKKAEETISWLDSNTTASKEEFDDKLKELQDIANPIMSKLYQAGGAPGGAAGGAPGGFPGGAPPAPEAEGPTVEEVD',\n",
       " 'YAL003W': 'MASTDFSKIETLKQLNASLADKSYIEGTAVSQADVTVFKAFQSAYPEFSRWFNHIASKADEFDSFPAASAAAAEEEEDDDVDLFGSDDEEADAEAEKLKAERIAAYNAKKAAKPAKPAAKSIVTLDVKPWDDETNLEEMVANVKAIEMEGLTWGAHQFIPIGFGIKKLQINCVVEDDKVSLDDLQQSIEEDEDHVQSTDIAAMQKL',\n",
       " 'YAL002W': 'MEQNGLDHDSRSSIDTTINDTQKTFLEFRSYTQLSEKLASSSSYTAPPLNEDGPKGVASAVSQGSESVVSWTTLTHVYSILGAYGGPTCLYPTATYFLMGTSKGCVLIFNYNEHLQTILVPTLSEDPSIHSIRSPVKSIVICSDGTHVAASYETGNICIWNLNVGYRVKPTSEPTNGMTPTPALPAVLHIDDHVNKEITGLDFFGARHTALIVSDRTGKVSLYNGYRRGFWQLVYNSKKILDVNSSKEKLIRSKLSPLISREKISTNLLSVLTTTHFALILLSPHVSLMFQETVEPSVQNSLVVNSSISWTQNCSRVAYSVNNKISVISISSSDFNVQSASHSPEFAESILSIQWIDQLLLGVLTISHQFLVLHPQHDFKILLRLDFLIHDLMIPPNKYFVISRRSFYLLTNYSFKIGKFVSWSDITLRHILKGDYLGALEFIESLLQPYCPLANLLKLDNNTEERTKQLMEPFYNLSLAALRFLIKKDNADYNRVYQLLMVVVRVLQQSSKKLDSIPSLDVFLEQGLEFFELKDNAVYFEVVANIVAQGSVTSISPVLFRSIIDYYAKEENLKVIEDLIIMLNPTTLDVDLAVKLCQKYNLFDLLIYIWNKIFDDYQTPVVDLIYRISNQSEKCVIFNGPQVPPETTIFDYVTYILTGRQYPQNLSISPSDKCSKIQRELSAFIFSGFSIKWPSNSNHKLYICENPEEEPAFPYFHLLLKSNPSRFLAMLNEVFEASLFNDDNDMVASVGEAELVSRQYVIDLLLDAMKDTGNSDNIRVLVAIFIATSISKYPQFIKVSNQALDCVVNTICSSRVQGIYEISQIALESLLPYYHSRTTENFILELKEKNFNKVLFHIYKSENKYASALSLILETKDIEKEYNTDIVSITDYILKKCPPGSLECGKVTEVIETNFDLLLSRIGIEKCVTIFSDFDYNLHQEILEVKNEETQQKYLDKLFSTPNINNKVDKRLRNLHIELNCKYKSKREMILWLNGTVLSNAESLQILDLLNQDSNFEAAAIIHERLESFNLAVRDLLSFIEQCLNEGKTNISTLLESLRRAFDDCNSAGTEKKSCWILLITFLITLYGKYPSHDERKDLCNKLLQEAFLGLVRSKSSSQKDSGGEFWEIMSSVLEHQDVILMKVQDLKQLLLNVFNTYKLERSLSELIQKIIEDSSQDLVQQYRKFLSEGWSIHTDDCEICGKKIWGAGLDPLLFLAWENVQRHQDMISVDLKTPLVIFKCHHGFHQTCLENLAQKPDEYSCLICQTESNPKIV',\n",
       " 'YAL001C': 'MVLTIYPDELVQIVSDKIASNKGKITLNQLWDISGKYFDLSDKKVKQFVLSCVILKKDIEVYCDGAITTKNVTDIIGDANHSYSVGITEDSLWTLLTGYTKKESTIGNSAFELLLEVAKSGEKGINTMDLAQVTGQDPRSVTGRIKKINHLLTSSQLIYKGHVVKQLKLKKFSHDGVDSNPYINIRDHLATIVEVVKRSKNGIRQIIDLKRELKFDKEKRLSKAFIAAIAWLDEKEYLKKVLVVSPKNPAIKIRCVKYVKDIPDSKGSPSFEYDSNSADEDSVSDSKAAFEDEDLVEGLDNFNATDLLQNQGLVMEEKEDAVKNEVLLNRFYPLQNQTYDIADKSGLKGISTMDVVNRITGKEFQRAFTKSSEYYLESVDKQKENTGGYRLFRIYDFEGKKKFFRLFTAQNFQKLTNAEDEISVPKGFDELGKSRTDLKTLNEDNFVALNNTVRFTTDSDGQDIFFWHGELKIPPNSKKTPNKNKRKRQVKNSTNASVAGNISNPKRIKLEQHVSTAQEPKSAEDSPSSNGGTVVKGKVVNFGGFSARSLRSLQRQRAILKVMNTIGGVAYLREQFYESVSKYMGSTTTLDKKTVRGDVDLMVESEKLGARTEPVSGRKIIFLPTVGEDAIQRYILKEKDSKKATFTDVIHDTEIYFFDQTEKNRFHRGKKSVERIRKFQNRQKNAKIKASDDAISKKSTSVNVSDGKIKRRDKKVSAGRTTVVVENTKEDKTVYHAGTKDGVQALIRAVVVTKSIKNEIMWDKITKLFPNNSLDNLKKKWTARRVRMGHSGWRAYVDKWKKMLVLAIKSEKISLRDVEELDLIKLLDIWTSFDEKEIKRPLFLYKNYEENRKKFTLVRDDTLTHSGNDLAMSSMIQREISSLKKTYTRKISASTKDLSKSQSDDYIRTVIRSILIESPSTTRNEIEALKNVGNESIDNVIMDMAKEKQIYLHGSKLECTDTLPDILENRGNYKDFGVAFQYRCKVNELLEAGNAIVINQEPSDISSWVLIDLISGELLNMDVIPMVRNVRPLTYTSRRFEIRTLTPPLIIYANSQTKLNTARKSAVKVPLGKPFSRLWVNGSGSIRPNIWKQVVTMVVNEIIFHPGITLSRLQSRCREVLSLHEISEICKWLLERQVLITTDFDGYWVNHNWYSIYEST',\n",
       " 'YAR002W': 'MHRKSLRRASATVPSAPYRKQIISNAHNKPSLFSKIKTFFTQKDSARVSPRNNVANKQPRNESFNRRISSMPGGYFHSEISPDSTVNRSVVVSAVGEARNDIENKEEEYDETHETNISNAKLANFFSKKGNEPLSEIEIEGVMSLLQKSSKSMITSEGEQKSAEGNNIDQSLILKESGSTPISISNAPTFNPKYDTSNASMNTTLGSIGSRKYSFNYSSLPSPYKTTVYRYSAAKKIPDTYTANTSAQSIASAKSVRSGVSKSAPSKKISNTAAALVSLLDENDSKKNNAASELANPYSSYVSQIRKHKRVSPNAAPRQEISEEETTVKPLFQNVPEQGEEPMKQLNATKISPSAPSKDSFTKYKPARSSSLRSNVVVAETSPEKKDGGDKPPSSAFNFSFNTSRNVEPTENAYKSENAPSASSKEFNFTNLQAKPLVGKPKTELTKGDSTPVQPDLSVTPQKSSSKGFVFNSVQKKSRSNLSQENDNEGKHISASIDNDFSEEKAEEFDFNVPVVSKQLGNGLVDENKVEAFKSLYTF',\n",
       " 'YAR002C-A': 'MLLTSLLQVFACCLVLPAQVTAFYYYTSGAERKCFHKELSKGTLFQATYKAQIYDDQLQNYRDAGAQDFGVLIDIEETFDDNHLVVHQKGSASGDLTFLASDSGEHKICIQPEAGGWLIKAKTKIDVEFQVGSDEKLDSKGKATIDILHAKVNVLNSKIGEIRREQKLMRDREATFRDASEAVNSRAMWWIVIQLIVLAVTCGWQMKHLGKFFVKQKIL',\n",
       " 'YAR003W': 'MNILLQDPFAVLKEHPEKLTHTIENPLRTECLQFSPCGDYLALGCANGALVIYDMDTFRPICVPGNMLGAHVRPITSIAWSPDGRLLLTSSRDWSIKLWDLSKPSKPLKEIRFDSPIWGCQWLDAKRRLCVATIFEESDAYVIDFSNDPVASLLSKSDEKQLSSTPDHGYVLVCTVHTKHPNIIIVGTSKGWLDFYKFHSLYQTECIHSLKITSSNIKHLIVSQNGERLAINCSDRTIRQYEISIDDENSAVELTLEHKYQDVINKLQWNCILFSNNTAEYLVASTHGSSAHELYIWETTSGTLVRVLEGAEEELIDINWDFYSMSIVSNGFESGNVYVWSVVIPPKWSALAPDFEEVEENVDYLEKEDEFDEVDEAEQQQGLEQEEEIAIDLRTREQYDVRGNNLLVERFTIPTDYTRIIKMQSS',\n",
       " 'YAR007C': 'MSSVQLSRGDFHSIFTNKQRYDNPTGGVYQVYNTRKSDGANSNRKNLIMISDGIYHMKALLRNQAASKFQSMELQRGDIIRVIIAEPAIVRERKKYVLLVDDFELVQSRADMVNQTSTFLDNYFSEHPNETLKDEDITDSGNVANQTNASNAGVPDMLHSNSNLNANERKFANENPNSQKTRPIFAIEQLSPYQNVWTIKARVSYKGEIKTWHNQRGDGKLFNVNFLDTSGEIRATAFNDFATKFNEILQEGKVYYVSKAKLQPAKPQFTNLTHPYELNLDRDTVIEECFDESNVPKTHFNFIKLDAIQNQEVNSNVDVLGIIQTINPHFELTSRAGKKFDRRDITIVDDSGFSISVGLWNQQALDFNLPEGSVAAIKGVRVTDFGGKSLSMGFSSTLIPNPEIPEAYALKGWYDSKGRNANFITLKQEPGMGGQSAASLTKFIAQRITIARAQAENLGRSEKGDFFSVKAAISFLKVDNFAYPACSNENCNKKVLEQPDGTWRCEKCDTNNARPNWRYILTISIIDETNQLWLTLFDDQAKQLLGVDANTLMSLKEEDPNEFTKITQSIQMNEYDFRIRAREDTYNDQSRIRYTVANLHSLNYRAEADYLADELSKALLA',\n",
       " 'YAR008W': 'MPPLVFDIDHIKLLRKWGICGVLSGTLPTAAQQNVFLSVPLRLMLEDVLWLHLNNLADVKLIRQEGDEIMEGITLERGAKLSKIVNDRLNKSFEYQRKFKKDEHIAKLKKIGRINDKTTAEELQRLDKSSNNDQLIESSLFIDIANTSMILRDIRSDSDSLSRDDISDLLFKQYRQAGKMQTYFLYKALRDQGYVLSPGGRFGGKFIAYPGDPLRFHSHLTIQDAIDYHNEPIDLISMISGARLGTTVKKLWVIGGVAEETKETHFFSIEWAGFG',\n",
       " 'YAR009C': 'METFTGYLKSTCFHQISPYPPSIMSIQVKVHANILILSFIECLRMPMHRQIRYSLKNNTITYFNESDVDWSSAIDYQCPDCLIGKSTKHRHIKGSRLKYQNSYEPFQYLHTDIFGPVHNLPKSAPSYFISFTDETTKLRWVYPLHDRREDSILDVFTTILAFIKNQFQASVLVIQMDRGSEYTNRTLHKFLEKNGITPCYTTTADSRAHGVAERLNRTLLDDCRTQLQCSGLPNHLWFSAIEFSTIVRNSLASPKSKKSARQHAGLAGLDISTLLPFGQPVIVNDHNPNSKIHPRGIPGYALHPSRNSYGYIIYLPSLKKTVDTTNYVILQGKESRLDQFNYDALTFDEDLNRLTASYHSFIASNEIQESNDLNIESDHDFQSDIELHPEQPRNVLSKAVSPTDSTPPSTHTEDSKRVSKTNIRAPREVDPNISESNILPSKKRSSTPQISNIESTGSGGMHKLNVPLLAPMSQSNTHESSHASKSKDFRHSDSYSENETNHTNVPISSTGGTNNKTVPQISDQETEKRIIHRSPSIDASPPENNSSHNIVPIKTPTTVSEQNTEESIIADLPLPDLPPESPTEFPDPFKELPPINSHQTNSSLGGIGDSNAYTTINSKKRSLEDNETEIKVSRDTWNTKNMRSLEPPRSKKRIHLIAAVKAVKSIKPIRTTLRYDEAITYNKDIKEKEKYIEAYHKEVNQLLKMNTWDTDKYYDRKEIDPKRVINSMFIFNKKRDGTHKARFVARGDIQHPDTYDTGMQSNTVHHYALMTSLSLALDNNYYITQLDISSAYLYADIKEELYIRPPPHLGMNDKLIRLKKSLYGLKQSGANWYETIKSYLIKQCGMEEVRGWSCVFKNSQVTICLFVDDMILFSKDLNANKKIITTLKKQYDTKIINLGESDNEIQYDILGLEIKYQRGKYMKLGMEKSLTEKLPKLNVPLNPKGKKLRAPGQPGLYIDQDELEIDEDEYKEKVHEMQKLIGLASYVGYKFRFDLLYYINTLAQHILFPSRQVLDMTYELIQFMWDTRDKQLIWHKNKPTEPDNKLVAISDASYGNQPYYKSQIGNIYLLNGKVIGGKSTKASLTCTSTTEAEIHAISESVPLLNNLSYLIQELNKKPIIKGLLTDSRSTISIIKSTNEEKFRNRFFGTKAMRLRDEVSGNNLYVYYIETKKNIADVMTKPLPIKTFKLLTNKWIH',\n",
       " 'YAR010C': 'MESQQLSQHSPISHGSACASVTSKEVHTNQDPLDVSASKTEECEKASTKANSQQTTTPASSAVPENPHHASPQTAQSHSPQNGPYPQQCMMTQNQANPSGWSFYGHPSMIPYTPYQMSPMYFPPGPQSQFPQYPSSVGTPLSTPSPESGNTFTDSSSADSDMTSTKKYVRPPPMLTSPNDFPNWVKTYIKFLQNSNLGGIIPTVNGKPVRQITDDELTFLYNTFQIFAPSQFLPTWVKDILSVDYTDIMKILSKSIEKMQSDTQEANDIVTLANLQYNGSTPADAFETKVTNIIDRLNNNGIHINNKVACQLIMRGLSGEYKFLRYTRHRHLNMTVAELFLDIHAIYEEQQGSRNSKPNYRRNPSDEKNDSRSYTNTTKPKVIARNPQKTNNSKSKTARAHNVSTSNNSPSTDNDSISKSTTEPIQLNNKHDLHLRPETY',\n",
       " 'YAR014C': 'MSNKEEHVDETSASGVKEVSSIAARHDNGYAPSLITSTSGMDSFQSHALLNDPTLIEDYSDIINNRPTSGSKLTLGNEDSESMGGSVVVTPTSNKSSPFNSKLNILSNAAEKGHDVLRNRDDDKELEEENVEKHMHSNSKRDQRHYKENSSELPDSYDYSDSEFEDNLERRLQEIETDSVDSADKDEVHFSVNNTMNPDVDDFSDGLKYAISEDEDEEENYSDDDDFDRKFQDSGFQGEKDDLEEENDDYQPLSPPRELDPDKLYALYAFNGHDSSHCQLGQDEPCILLNDQDAYWWLVKRITDGKIGFAPAEILETFPERLARLNCWKNENMSSQSVASSDSKDDSISSGNKNQSDAESIIPTPALNGYGKGNKSVSFNDVVGYADRFIDDAIEDTSLDSNDDGGEGNGQSYDDDVDNDKETKVTHRDEYTEAKLNFGKFQDDDTSDVVSDVSFSTSLNTPLNVKKVRRQDNKNESEPKTSSSKDREDDYNANRYVGQEKSEPVDSDYDTDLKKVFEAPRMPFANGMAKSDSQNSLSTIGEFSPSSSEWTNESPSTPIVEESSSIPSSRAIKDISQYIHAKSKIEETTNVENTEGQIQASLGSSGGMANQTDAEQPKEELEKHHSTPEEEKQSTLSLHSSSEEDFYMDEQRAVSSASINSSLSGSRALSNTNMSDPASKPNSLVQHLYAPVFDRMDVLMKQLDEIIRK',\n",
       " 'YAR015W': 'MSITKTELDGILPLVARGKVRDIYEVDAGTLLFVATDRISAYDVIMENSIPEKGILLTKLSEFWFKFLSNDVRNHLVDIAPGKTIFDYLPAKLSEPKYKTQLEDRSLLVHKHKLIPLEVIVRGYITGSAWKEYVKTGTVHGLKQPQGLKESQEFPEPIFTPSTKAEQGEHDENISPAQAAELVGEDLSRRVAELAVKLYSKCKDYAKEKGIIIADTKFEFGIDEKTNEIILVDEVLTPDSSRFWNGASYKVGESQDSYDKQFLRDWLTANKLNGVNGVKMPQDIVDRTRAKYIEAYETLTGSKWSH',\n",
       " 'YAR018C': 'MHRRQFFQEYRSPQQQQGHPPRSEYQVLEEIGRGSFGSVRKVIHIPTKKLLVRKDIKYGHMNSKERQQLIAECSILSQLKHENIVEFYNWDFDEQKEVLYLYMEYCSRGDLSQMIKHYKQEHKYIPEKIVWGILAQLLTALYKCHYGVELPTLTTIYDRMKPPVKGKNIVIHRDLKPGNIFLSYDDSDYNINEQVDGHEEVNSNYYRDHRVNSGKRGSPMDYSQVVVKLGDFGLAKSLETSIQFATTYVGTPYYMSPEVLMDQPYSPLSDIWSLGCVIFEMCSLHPPFQAKNYLELQTKIKNGKCDTVPEYYSRGLNAIIHSMIDVNLRTRPSTFELLQDIQIRTARKSLQLERFERKLLDYENELTNIEKILEKQAIEYERELSQLKEQFTQAVEERAREVISGKKVGKVPESINGYYGKKFAKPAYHWQTRYR',\n",
       " 'YAR019C': 'MNSMADTDRVNLTPIQRASEKSVQYHLKQVIGRGSYGVVYKAINKHTDQVVAIKEVVYENDEELNDIMAEISLLKNLNHNNIVKYHGFIRKSYELYILLEYCANGSLRRLISRSSTGLSENESKTYVTQTLLGLKYLHGEGVIHRDIKAANILLSADNTVKLADFGVSTIVNSSALTLAGTLNWMAPEILGNRGASTLSDIWSLGATVVEMLTKNPPYHNLTDANIYYAVENDTYYPPSSFSEPLKDFLSKCFVKNMYKRPTADQLLKHVWINSTENVKVDKLNKFKEDFTDADYHWDADFQEEKLNISPSKFSLAAAPAAWAENNQELDLMPPTESQLLSQLKSSSKPLTDLHVLFSVCSLENIADTIIECLSRTTVDKRLITAFGSIFVYDTQHNHSRLRLKFIAMGGIPLIIKFEHLAKEFVIDYPQTLIECGIMYPPNFASLKTPKYILELVYRFYDLTSTAFWCRWCFKHLDISLLLNNIHERRAQSILLKLSSYAPWSFEKILPSLIDSKLKKKILISPQITYVVFKSINYMITTNDDKIHKSAIPSSSSLPLSSSPTRNSPVNSVQSPSRSPVHSLMATRPSSPMRHKSISNFPHLTISSKSRLLIELPEGFFTWLTSFFVDMAQIKDLSVLKYFTKLCYLTVHINSTFLNDLLDNDAFFAFIRNIDTIIPFIDDAKTAAFIWKQITAICVEMSLDMDQMSASLFSTAMNFIRKKNNTSISGLEIILNCLHFTLRNVNDDVAPTVGSSESHSVFLIKVNNDAAIELPIDQLVDLFYALNDDDVNLSKLISIFTKICSLPGFENLTINIIFHPNFYEKIVSFFDTYFNSLLIQIDLLKFIKLIFSKSLLKLYDYTGQPDPIKQTEPNRRNKATVFKLRAILVQITEFLNNNWNKDVPKRNSNQVGGDSVLICQLCEDIRSLSKKGSLQKVSSVTAAIGSSPTKDERSNLRSSKDKSDGFSVPITTFQT',\n",
       " 'YAR020C': 'MVKLTSIAAGVAAIAAGASAAATTTLSQSDERVNLVELGVYVSDIRAHLAEYYSF',\n",
       " 'YAR023C': 'MINFLLFVLTILATLTNIWFSGVLSPAMVIRICLGGSMVVLQIWSFSRPISNETFRTKLLLEVITHRPSIAGKEWKTITYNMNQYLFKAGLWKTPYHFFCEHQCYEFFKDLIKGKYPDVQWDTANTQPFISVPENQAATQNSDVEPTVKWCLFKAAEIQAHAVREYWQSQYPDVGIPAI',\n",
       " 'YAR027W': 'MQTPSENTDVKLDTLDEPSAHLIEENVALPEDTFNSYWSYILNEIARCKPLMIMFLIPVCLVLLITFFHDIKGILVFLVISLILSIIILLIGITAFVSETLNKGFIIKLLVEVITRKPAVGGKEWRIIAYNMNQYLFDHGIWHTPYYFFCEHRCHKFFKSLIKQTRSNAHLSSPTNGAENTQSNTPAKEVSNEMVKPYIFSSDPVLEAYLIKAAEIHKEAEFEYWRKQYPEVDLP',\n",
       " 'YAR028W': 'MQTPSENTDVKMDTLDEPSAHLIEENVALPEDTFSSHLSYVLYEIAHCKPIMFMIIIIVSLISLIVLFHDNDGCTVILVMSLIVASMALMVVAAFTFGKAITEQEFMIKLLVEVIARKPAGKEWGTVAYNMNQYLFMKRLWYTPYYFYSGKKCHEFFTTLIKEVNSGSHSDSSSNSAEDTQSPVSAGKTSNGLNNFYSIRSDPILMAYVLKATQIEKEAQSEYWRKQYPDADLP',\n",
       " 'YAR029W': 'MNKYLFDHKIWSTPYYFYCEEDCHRLFLSFIEGRTFEKPTSNAEENVQETEAGESFTLNPGEDFQNCFPRQRIL',\n",
       " 'YAR031W': 'MSPQYHFYFVSFRNLVLNEKCLRSKKQVMKSFNWYKTDRYFDPHNILQHHSRAIEKTRYKLGMQTSSESTDAKSDFLDEPSAYLIEKNVALPKDIFGSYLSYWIYEVTRHKAAVILLVLIVTSILLLVFFYNTEFCVAFEILLFSFCFPGTCMVVIAFSEPIGDREFKVKLLMEIITRKPAVKGKEWRTITYKMNQYLFDHGLWDTPYYFYRDEDCHRYFLSLIKGRTFKKQKESSASNVKDAQSNDETAGTPNEAAESSSFSAGPNFIKLLTKAAEIEQQFQKEYWRQEYPGVDEFF',\n",
       " 'YAR033W': 'MQTPPESTDVKLDTLNEPSAHLIEKNVALPKDIFRSYLSYWIYEIARYTPVMILSLVIGVLVLLIIFFNDNEACVFNSAIFAFTSLVGLLIILSDGNPKLVSRRNFRTELLVDVITRKPAVEGKEWRIITYNMNQYLFNHGQWHTPYYFYSDEDCYRYFLRLVEGVTPKKQTATSIGNSPVTAKPEDAIESASPSSRLNYQNFLLKAAEIERQAQENYWRRRHPNIDALLKKTE',\n",
       " 'YAR035W': 'MPNLKRLPIPPLQDTLNRYLARVEPLQDERQNRRTRRTVLSAENLDALNTLHERLLEYDARLAESNPESSYIEQFWYDAYLLYDATVVLNVNPYFQLQDDPTIKDTPETAAQGPYGAHTVQVRRAARLTTSILKFIRQIRHGTLRTDTVRGKTPLSMDQYERLFGSSRIPPGPGEPSCHLQTDATSHHVVAMYRGQFYWFDVLDTRNEPIFATPEQLEWNLYSIIMDAESAGSGSAPFGVFTTESRRVWSNIRDYLFHADDCTNWRNLKLIDSALFVVCLDDVAFAADQQDELTRSMLCGTSTINLDPHQHQPPLNVQTGTCLNRWYDKLQLIVTKNGKAGINFEHTGVDGHTVLRLATDIYTDSILSFARGVTKNVVDIFSDDDGKPSSSSLASAAHSANLITIPRKLEWRTDNFLQSSLHFAETRISDLISQYEFVNLDFSNYGASHIKTVFKCSPDAFVQQVFQVAYFALYGRFETVYEPAMTKAFQNGRTEAIRSVTGQSKLFVKSLLDQDASDATKIQLLHDACTAHSQITRECSQGLGQDRHLYALYCLWNQWYKDKLELPPIFRDKSWTTMQNNVLSTSNCGNPCLKSFGFGPVTANGFGIGYIIRDHSVSVVVSSRHRQTARFASLMEKSLLEIDRIFKRQQARAAKPAARTTASANTKSEDMKYLLSGYDYFDVSVSG',\n",
       " 'YAR035C-A': 'MRLNYSRCYYSSQRRRQSLPKRFPLI',\n",
       " 'YAR042W': 'MEQPDLSSVAISKPLLKLKLLDALRQGSFPNLQDLLKKQFQPLDDPNVQQVLHLMLHYAVQVAPMAVIKEIVHHWVSTTNTTFLNIHLDLNERDSNGNTPLHIAAYQSRGDIVAFLLDQPTINDCVLNNSHLQAIEMCKNLNIAQMMQVKRSTYVAETAQEFRTAFNNRDFGHLESILSSPRNAELLDINGMDPETGDTVLHEFVKKRDVIMCRWLLEHGADPFKRDRKGKLPIELVRKVNENDTATNTKIAIDIELKKLLERATREQSVIDVTNNNLHEAPTYKGYLKKWTNFAQGYKLRWFILSSDGKLSYYIDQADTKNACRGSLNMSSCSLHLDSSEKLKFEIIGGNNGVIRWHLKGNHPIETNRWVWAIQGAIRYAKDREILLHNGPYSPSLALSHGLSSKVSNKENLHATSKRLTKSPHLSKSTLTQNDHDNDDDSTNNNNNKSNNDYDDNNNNNNNDDDDYDDDDESRPLIEPLPLISSRSQSLSEITPGPHSRKSTVSSTRAADIPSDDEGYSEDDSDDDGNSSYTMENGGENDGDEDLNAIYGPYIQKLHMLQRSISIELASLNELLQDKQQHDEYWNTVNTSIETVSEFFDKLNRLTSQREKRMIAQMTKQRDVNNVWIQSVKDLEMELVDKDEKLVALDKERKNLKKMLQKKLNNQPQVETEANEESDDANSMIKGSQESTNTLEEIVKFIEATKESDEDSDADEFFDAEEAASDKKANDSEDLTTNKETPANAKPQEEAPEDESLIVISSPQVEKKNQLLKEGSFVGYEDPVRTKLALDEDNRPKIGLWSVLKSMVGQDLTKLTLPVSFNEPTSLLQRVSEDIEYSHILDQAATFEDSSLRMLYVAAFTASMYASTTNRVSKPFNPLLGETFEYARTDGQYRFFTEQVSHHPPISATWTESPKWDFYGECNVDSSFNGRTFAVQHLGLWYITIRPDHNISVPEETYSWKKPNNTVIGILMGKPQVDNSGDVKVTNHTTGDYCMLHYKAHGWTSAGAYEVRGEVFNKDDKKLWVLGGHWNDSIYGKKVTARGGELTLDRIKTANSATGGPKLDGSKFLIWKANERPSVPFNLTSFALTLNALPPHLIPYLAPTDSRLRPDQRAMENGEYDKAAAEKHRVEVKQRAAKKEREQKGEEYRPKWFVQEEHPVTKSLYWKFNGEYWNKRKNHDFKDCADIF',\n",
       " 'YAR050W': 'MTMPHRYMFLAVFTLLALTSVASGATEACLPAGQRKSGMNINFYQYSLKDSSTYSNAAYMAYGYASKTKLGSVGGQTDISIDYNIPCVSSSGTFPCPQEDSYGNWGCKGMGACSNSQGIAYWSTDLFGFYTTPTNVTLEMTGYFLPPQTGSYTFKFATVDDSAILSVGGATAFNCCAQQQPPITSTNFTIDGIKPWGGSLPPNIEGTVYMYAGYYYPMKVVYSNAVSWGTLPISVTLPDGTTVSDDFEGYVYSFDDDLSQSNCTVPDPSNYAVSTTTTTTEPWTGTFTSTSTEMTTVTGTNGVPTDETVIVIRTPTTASTIITTTEPWNSTFTSTSTELTTVTGTNGVRTDETIIVIRTPTTATTAITTTEPWNSTFTSTSTELTTVTGTNGLPTDETIIVIRTPTTATTAMTTTQPWNDTFTSTSTELTTVTGTNGLPTDETIIVIRTPTTATTAMTTTQPWNDTFTSTSTELTTVTGTNGLPTDETIIVIRTPTTATTAMTTTQPWNDTFTSTSTEITTVTGTNGLPTDETIIVIRTPTTATTAMTTPQPWNDTFTSTSTEMTTVTGTNGLPTDETIIVIRTPTTATTAITTTEPWNSTFTSTSTEMTTVTGTNGLPTDETIIVIRTPTTATTAITTTQPWNDTFTSTSTEMTTVTGTNGLPTDETIIVIRTPTTATTAMTTTQPWNDTFTSTSTEITTVTGTTGLPTDETIIVIRTPTTATTAMTTTQPWNDTFTSTSTEMTTVTGTNGVPTDETVIVIRTPTSEGLISTTTEPWTGTFTSTSTEMTTVTGTNGQPTDETVIVIRTPTSEGLVTTTTEPWTGTFTSTSTEMTTITGTNGVPTDETVIVIRTPTSEGLISTTTEPWTGTFTSTSTEMTTITGTNGQPTDETVIVIRTPTSEGLISTTTEPWTGTFTSTSTEMTHVTGTNGVPTDETVIVIRTPTSEGLISTTTEPWTGTFTSTSTEVTTITGTNGQPTDETVIVIRTPTSEGLISTTTEPWTGTFTSTSTEMTTVTGTNGQPTDETVIVIRTPTSEGLVTTTTEPWTGTFTSTSTEMSTVTGTNGLPTDETVIVVKTPTTAISSSLSSSSSGQITSSITSSRPIITPFYPSNGTSVISSSVISSSVTSSLFTSSPVISSSVISSSTTTSTSIFSESSKSSVIPTSSSTSGSSESETSSAGSVSSSSFISSESSKSPTYSSSSLPLVTSATTSQETASSLPPATTTKTSEQTTLVTVTSCESHVCTESISPAIVSTATVTVSGVTTEYTTWCPISTTETTKQTKGTTEQTTETTKQTTVVTISSCESDVCSKTASPAIVSTSTATINGVTTEYTTWCPISTTESRQQTTLVTVTSCESGVCSETASPAIVSTATATVNDVVTVYPTWRPQTANEESVSSKMNSATGETTTNTLAAETTTNTVAAETITNTGAAETKTVVTSSLSRSNHAETQTASATDVIGHSSSVVSVSETGNTKSLTSSGLSTMSQQPRSTPASSMVGYSTASLEISTYAGSANSLLAGSGLSVFIASLLLAII',\n",
       " 'YAR064W': 'MLIDFCCSYIAGTHGRERAPSFTGTFVSHVSGENNCRPRRSEITQPCASGTEKKHFAATEKPCTNSLEGSRKDFLSLPLGHSYLFLFCFWRMICSEPKL',\n",
       " 'YAR066W': 'MFNRFNKFQAAVALALLSRGALGDSYTNSTSSADLSSITSVSSASASATASDSLSSSDGTVYLPSTTISGDLTVTGKVIATEAVEVAAGGKLTLLDGEKYVFSSDLKVHGDLVVEKSEASYEGTAFDVSGETFEVSGNFSAEETGAVSASIYSFTPSSFKSSGDISLSLSKAKKGEVTFSPYSNAGTFSLSNAILNGGSVSGL',\n",
       " 'YAR068W': 'MPQVQSWFPVQKQPTLAVTFTPLPQLSHAHLPLPPSHLVTKTDAMFQHQLLPTQLQPFPPSHTPLLLLLTVTTMAVTPRLSLLNVLKKLQQPPFLQNHTLLLPLLTVTTTAVTPRLSLPRLPNKHHWPLAQSPSLLLQLLILLLPAPSLVLSFNPKVWLLV',\n",
       " 'YAR071W': 'MLKSAVYSILAASLVNAGTIPLGKLSDIDKIGTQTEIFPFLGGSGPYYSFPGDYGISRDLPESCEMKQVQMVGRHGERYPTVSKAKSIMTTWYKLSNYTGQFSGALSFLNDDYEFFIRDTKNLEMETTLANSVNVLNPYTGEMNAKRHARDFLAQYGYMVENQTSFAVFTSNSNRCHDTAQYFIDGLGDKFNISLQTISEAESAGANTLSAHHSCPAWDDDVNDDILKKYDTKYLSGIAKRLNKENKGLNLTSSDANTFFAWCAYEINARGYSDICNIFTKDELVRFSYGQDLETYYQTGPGYDVVRSVGANLFNASVKLLKESEVQDQKVWLSFTHDTDILNYLTTIGIIDDKNNLTAEHVPFMENTFHRSWYVPQGARVYTEKFQCSNDTYVRYVINDAVVPIETCSTGPGFSCEINDFYDYAEKRVAGTDFLKVCNVSSVSNSTELTFFWDWNTKHYNDTLLKQ',\n",
       " 'YBL113C': 'MDLNQRKEKKGQHVGCCGSRTDLSADTVELIERMDRLAENQATASMSIVALPSSFQESNSSDRCRKYCSSDEDSDTCIHGSANASTNATTNSSTNATTTASINVRTSATTTASINVRTSATTTESTNSNTNATTTESTNSSTNATTTASINVRTSATTTESTNSSTNATTTASINVRTSATTTESTNSSTNATTTASINVRTSATTTESTNSNTNASTNATTNSSTNATTTASTNVRTSATTNATTNSSTNATTTASTNVRTSATTTASTNVRTSATTTASINVRTSATTTESINSSTNATTTESTNSNTSATTTESTDSNTNATTTASINVRTSATTTESTNSNTSATTTESTDSNTSATTTASTNSSTNATTTASTNSSTNATTTESTNASAKEDANKDGNAEDNRFHPVTDINKESYKRKGSQMVFLERKKLKAQFPNTSENMNVLQFLGFRSDEIKHLFLYGIDIYFCPEGVFTQYGLCKGCQKMFGLCVCWAGQKVSYRRIAWEALAVERMLRNDEEYKEYLEDIEPYHGDPVGYLKYFSVKRREIYSQIQRNYAWYLAITRRRETISVLDSTRGKQGSQVFRMSGRQIKELYYKVWSNLRESKTEVLQYFLNWDEKKCREEWEAKDDTVFVEALEKVGVFQRLRSMTSAGLQGPQYVKLQFSRHHRQLRSRYELSLGMHLRDQLALGVTPSKVPHWTAFLSMLIGLFYNKTFRQKLEYLLEQISEMWLLPHWLDLANVEVLAADNTRVPLYMLMVAVHKELDSDDVPDGRFDIILLCRDSSREVGE',\n",
       " 'YBL112C': 'MQVLIGTKLVTEGIDIKQLMMVIMLDNRLNIIELIQGVGRLRDGGLCYLLSRKNSWAARNRKGELPPIKEGCITEQVREFYGLESKKGKKGPACWMLWLQDRPVC',\n",
       " 'YBL111C': 'MKVSDRRKFEKANFDEFESALNNKNDLVHCPSITLFESIPTEVRSFYEDEKSGLIKVVKFRTGAMDRKRSFEKIVVSVMVGKNVQKFLTFVEDEPDFQGGPIPSKYLIPKKINLMVYTLFQVHTLKFNRKDYDTLSLFYLNRGYYNELSFRVLERCYEIASARPNDSSTMRTFTDFVSGTPIVRSLQKSTIRKYGYNLAPYMFLLLHVDELSIFSAYQASLPGEKKVDTERLKRDLCPRKPTEIKYFSQICNDMMNKKDRLGDVLATAQRIRRRYNKNGSSEPRLKTLDGLTSERWIQWLGLESDYHCSFSSTRNAEDVVAGEAASSDHDQKISRVTRKRPREPKSTNDILVAGRKLFGSSFEFRDLHQLRLCHEIYMADTPSVAVQAPPGYGKTELFHLPLIALASKGDVKYVSFLFVPYTVLLANCMIRLGRRGCLNVAPVRNFIEEGCDGVTDLYVGIYDDLASTNFTDRIAAWENIVECTFRTNNVKLGYLIVDEFHNFETEVYRQSQFGGITNLDFDAFEKAIFLSGTAPEAVADAALQRIGLTGLAKKSMDINELKRSEDLSRGLSSYPTRMFNLIKEKSEVPLGHVHKIWKKVESQPEEALKLLLALFEIEPESKAIVVASTTNEVEELACSWRKYFRVVWIHGKLGCCRKGVSHKGVCH',\n",
       " 'YBL108C-A': 'MLTGIAPDQVTRMITGVPWYSSRLKPAISSALSKDGIYTIAN',\n",
       " 'YBL107C': 'MVDNRRTFTAPQSLLETNLTFPNDEPSLTTITVTRERCVDPSLIDSFLRFLRHGSDDIIRQKLNNYRKGSINGKNKCKEFLKQELYPNWQIRNNIISFCEKEAAEMKNETDQQCGNNKKTTAEPLIDARIDPYAARERAEKQEAQYKDWTKVTEWVANNRKIEQILTSTTEGILRQNCEQNNDYLKEFTQFCKDNS',\n",
       " 'YBL106C': 'MFKKSRHLKNVSNAIKSARVHDVSNGINSKFFDTKKICTYGINGRITVTTFDYTQSLLAVATTAGEIHVYGQKQIEVVFTLKNRPQIKHMRFIKGIYLIAVDEKSNIIVLSVHSKQILTTVFCPNSITCIETDPSLDWMLIGLESGSILIYDVDRNQMSKLKIENFQKSVFLPKERLSPVISIQWNPRDIGTILISYEHITVIYSFIDYKVKQHFFYQLEPYAPGGDLSTNIEKKRTPKVIQSLYHPNSLHILTVHEDNSLVFWDVNSGKLIHARSIFETHVNFPNPALKDCSFTETPAIFKVSWLCQRNPEYTSLLIATKATENPCLPQEITMIDLGGTPMYSVTSFDAMSKYYAKPVQQKLFSLIGKAPLINFLPLPKASPYFGGCHDTNLILLLLEDGELETLIYPAGSFSSKASIFPRSLAWVRPTVTTCIAQSVQKNLWLGMMTIAQSESFLKGGIPATRNIRRHETRSALLTGHSNGSVRIWDASHSEVTDNAVFEVNTAKVLNRATNLAIKNISFASETLELAVSSEVGDVILFKFETNKFYGQLPKSDALQLKFSRFSLDDSKTILVDVSDRGPTNVKQGFIPSTVIHAKKGAVSAIMNSNIGFVAVGFIEGTLIILDRRGPAIIFNENIRVISKAGSSYVSTVHFCVMEYGDDGFSSILMLCGTDIGELMTFKILPATNGRFEVKFTDATKTNNQGKILGINSFAKDTGYSCSATISKMQGLSKGIAIPGFVTISGANDIRLVSPGKSKDTHALFKYPIATSGLSFIPIIDGKGERKLSTIMIVLLINGDIKVLTVPELKEVKNLRCPVPLSAQYVENSSILENGDIVIRTGKFQASLISVLNESATGTNHTADISQHTPIDTLYNPDLKIGYRPQVNSLQWARGTIYCTPYQLDELLGGIERPESKYEESAIARGCISSSSSNAARKLPPGTEDHRYARPVRSSGRSNGYGVLKSVSRAIETRLDTVETTINDYATTMGQTMNDAMEETGRDMMKSAVGF',\n",
       " 'YBL105C': 'MSFSQLEQNIKKKIAVEENIIRGASALKKKTSNVMVIQKCNTNIREARQNLEYLEDSLKKLRLKTAQQSQGENGSEDNERCNSKEYGFLSTKSPNEHIFSRLDLVKYDCPSLAQRIQYMLQQLEFKLQVEKQYQEANTKLTKLYQIDGDQRSSSAAEGGAMESKYRIQMLNKALKKYQAINVDFDQFKHQPNDIMDNQQPKFRRKQLTGVLTIGITAARDVDHIQSPMFARKPESYVTIKIDDTIKARTKPSRNDRWSEDFQIPVEKGNEIEITVYDKVNDSLIPVAIMWLLLSDIAEEIRKKKAGQTNEQQGWVNASNINGGSSLASEEGSTLTSTYSNSAIQSTSAKNVQGENTSTSQISTNSWFVLEPSGQILLTLGFHKSSQIERKQLMGGLHRHGAIINRKEEIFEQHGHHFVQKSFYNIMCCAYCGDFLRYTGFQCQDCKFLCHKKCYTNVVTKCIAKTSTDTDPDEAKLNHRIPHRFLPTSNRGTKWCCHCGYILPWGRHKVRKCSECGIMCHAQCAHLVPDFCGMSMEMANKILKTIQDTKRNQEKKKRTVPSAQLGSSIGTANGSDLSPSKLAERANAPLPPQPRKHDKTPSPQKVGRDSPTKQHDPIIDKRISLQTHGREKLNKFIDENEAYLNFTEGAQQTAEFSSPEKTLDPTSNRRSLGLTDLSIEHSQTWESKDDLMRDELELWKAQREEMELEIKQDSGEIQEDLEVDHIDLETKQKLDWENKNDFREADLTIDSTHTNPFRDMNSETFQIEQDHASKEVLQETVSLAPTSTHASRTTDQQSPQKSQTSTSAKHKKRAAKRRKVSLDNFVLLKVLGKGNFGKVILSKSKNTDRLCAIKVLKKDNIIQNHDIESARAEKKVFLLATKTKHPFLTNLYCSFQTENRIYFAMEFIGGGDLMWHVQNQRLSVRRAKFYAAEVLLALKYFHDNGVIYRDLKLENILLTPEGHIKIADYGLCKDEMWYGNRTSTFCGTPEFMAPEILKEQEYTKAVDWWAFGVLLYQMLLCQSPFSGDDEDEVFNAILTDEPLYPIDMAGEIVQIFQGLLTKDPEKRLGAGPRDADEVMEEPFFRNINFDDILNLRVKPPYIPEIKSPEDTSYFEQEFTSAPPTLTPLPSVLTTSQQEEFRGFSFMPDDLDL',\n",
       " 'YBL104C': 'MGLIKKVTHWSYDNLIDYLSVNPTRDEVTHYKVDPENESDESIIKLHTVKDFGSITCLDYSESEIGMIGVGEKNGYLRIFNISGQNSSSPASHAPVGLNANNETSMTNASGGKAAQAENIVGSVSNLKDTQGYPVSETNYDIRVRAKKQRCINSLGINTNGLIAMGLDRNKHDSSLQIWDMNYHDDSHETINPMFSYCTNESIVSLKFLNDTSVLAASTKFLKEIDVRSPNPIYQHPTRLTYDIKLNPFNDWQFSTYGDDGTLAIWDRRKLSDQASLGDLNVASPLLTFEKLVGSGAASRKYMNSCFRWSCVRNNEFATLHRGDTIKRWRLGYYCDSNRDIAADDDNEMNIENLFVSSVHDTNTMYDRVATFDYIPRSNNGTSLICMRQSGTIYRMPISEVCSKAILNNRNSLLLSNFENTEIDEIRVNNEHEKSNLENVKTILKNLSFEDLDVSEDYFPSGHDEPNNEIEYSELSEEENEGSNDVLDSKRGFELFWKPEKLLEKDISVIMRTRASLGYGLDPMNTVEMIDSSKNLQNNAYIRNTWRWIAIAKASVDDGTMVSGDLDLGYEGVIGIWNGINGISNQDRYRQETILSDKQLNKEMEKIIKLRRKNRDRNSPIANAAGSPKYVQRRLCLIISGWDLSRSDYEDKYNIIMKNGHYEKAAAWAVFFGDIPKAVEILGSAKKERLRLIATAIAGYLAYKDLPGNNAWRQQCRKMSSELDDPYLRVIFAFIADNDWWDILYEPAISLRERLGVALRFLNDTDLTTFLDRTSSTVIENGELEGLILTGITPNGIDLLQSYVNKTSDVQSAALISIFGSPRYFRDQRVDEWIQTYRDMLKSWELFSMRARFDVLRSKLSRTKTGVLTADIKPRQIYIQCQNCKQNINTPRTSSPSSAVSTSAGNYKNGEAYRRNNADYKKFNTGSSEAQAADEKPRHKYCCPHCGSSFPRCAICLMPLGTSNLPFVINGTQSRDPMQTEDSQDGANRELVSRKLKLNEWFSFCLSCNHGMHAGHAEEWFDRHNVCPTPGCTCQCNK',\n",
       " 'YBL103C': 'MMNNNESEAENQRLLDELMNQTKVLQETLDFSLVTPTPHHNDDYKIHGSAYPGGETPAQQHEKLSYINTHNSNDNNNLMGSQARSNSQTPTASTIYEEAESQSSYLDDMFRTSQGGRPVTQNSISSIGQGPLRSSYSMAYDSPVDRAMNTPLQQQEGLKAELPHDFLFQHGTDDTMYNLTDDLSSSLSSSINSDMMTPNTYSSSFSYNPQSLGPASVSSTYSPKVRSPSSSFRAGSFLSSSFRHGSINTPRTRHTSISSNMTENIGPGSVPKILGGLTSDEKLRRKREFHNAVERRRRELIKQKIKELGQLVPPSLLNYDDLGKQIKPNKGIILDRTVEYLQYLAEILEIQARKKKALLAKIKELEEKKSSVAALSPFTNNHHASSGQNNSENSEERIIDIRSVPNALMNEQNSKAELHNWEPPLYDSVGNHNHAGTMESHPHTNIHEELKEFLSGDLIEAEDNAKLMFGDDNSNPADYLLEFGSG',\n",
       " 'YBL102W': 'MSEEPPSDQVNSLRDSLNRWNQTRQQNSQGFNESAKTLFSSWADSLNTRAQDIYQTLPVSRQDLVQDQEPSWFQLSRTERMVLFVCFLLGATACFTLCTFLFPVLAAKPRKFGLLWTMGSLLFVLAFGVLMGPLAYLKHLTARERLPFSMFFFATCFMTIYFAAFSKNTVLTITCALLELVAVIYYAISYFPFGATGLRMLSSAGVNSARGVLRI',\n",
       " 'YBL101C': 'MPFITSRPVAKNSSHSLSETDLNQSKGQPFQPSPTKKLGSMQQRRRSSTIRHALSSLLGGANVHSPAVLNNTTKGGNNNGNIRSSNTDAQLLGKKQNKQPPPNARRHSTTAIQGSISDSATTTPRSSTSDTNRRTSGRLSVDQEPRISGGRYSQIEEDSTVLDFDDDHNSSAVVSSDLSSTSLTRLANSKKFNEQFLIEYLTARGLLGPKTVLSNEYLKISISTSGESVFLPTISSNDDEYLSRLNGLNDGTDDAEADFFMDGIDQQEGNTPSLATTAAATESGGSINENRDTLLRENNSGDHPGSGSELNTRSVEIDSSMVSYSIAVIVSVKKPTRFTDMQLELCSRVKVFWNTGVPPTKTFNEEFYNAASMKWNLNDENFDLFVPLSISPDDQMIENNSNDRQMRLFKNIPTEERLYLDKTKTKASLLNAIDVNKTHLYQPGDYVFLVPVVFSNHIPETIYLPSARVSYRLRLATKAINRKGFYRQDSNSPQPIVSPDSSSSLSSTTSSLKLTETESAQAHRRISNTLFSKVKNHLHMSSHQLKNEESGEEDIFAEYPIKVIRTPPPVAVSTANKPIYINRVWTDSLSYEISFAQKYVSLNSEVPIKIKLAPICKNVCVKRIHVSITERVTFVSKGYEYEYDQTDPVAKDPYNPYYLDFASKRRKERSVSLFEIRTKEKGTRALREEIVENSFNDNLLSYSPFDDDSDSKGNPKERLGITEPIIIETKLKFPKYEDLDKRTAKIIPPYGIDAYTSIPNPEHAVANGPSHRRPSVIGFLSGHKGSKSHEENEKPVYDPKFHQTIIKSNSGLPVKTHTRLNTPKRGLYLDSLHFSNVYCRHKLEIMLRISKPDPECPSKLRHYEVLIDTPIFLVSEQCNSGNMELPTYDMATMEGKGNQVPLSMNSDFFGNTCPPPPTFEEAISVPASPIVSPMGSPNIMASYDPDLLSIQQLNLSRTTSVSGPSGYSDDAGVPNVNRNSISNANAMNGSISNSAFVSGNSGQGVARARATSVNDRSRFNNLDKLLSTPSPVNRSHNSSPTNGLSQANGTVRIPNATTENSKDKQNEFFKKGYTLANVKDDEEQEGIVSSSSADSLLSHGNEPPRYDEIVPLMSDEE',\n",
       " 'YBL100W-C': 'MSRSIFFFSSLFLSPLNKIRNIGGKVENPWKSQIRDWKN',\n",
       " 'YBL100W-B': 'MESQQLHQNPHSLHGSAYASVTSKEVSSNQDPLAVSASNLPEFDRDSTKVNSQQETTPGTSAVPENHHHVSPQPASVPPPQNGQYQQHGMMTPNKAMASNWAHYQQPSMMTCSHYQTSPAYYQPDPHYPLPQYIPPLSTSSPDPIDSQDQHSEVPQAKTKVRNNVLPPHTLTSEENFYTWVKFYIRFLKNSNLGDIIPNDQGEIKRQMTYEEHAYIYNTFQAFAPFHLLPTWVKQILEINYADILTVLCKSVSKMQTNNQELKDWIALANLEYDGSTSADTFEITVSTIIQRLKENNINVSDRLACQLILKGLSGDFKYLRNQYRTKTNMKLSQLFAEIQLIYDENKIMNLNKPSQYKQHSEYKNVSRTSPNTTNTKVTTRNYHRTNSSKPRAAKAHNIATSSKFSRVNNDHINESTVSSQYLSDDNELSLGQQQKESKPTHTIDSNDELPDHLLIDSGASQTLVRSAHYLHHATPNSEINIVDAQKQDIPINAIGNLHFNFQNGTKTSIKALHTPNIAYDLLSLSELANQNITACFTRNTLERSDGTVLAPIVKHGDFYWLSKKYLIPSHISKLTINNVNKSKSVNKYPYPLIHRMLGHANFRSIQKSLKKNAVTYLKESDIEWSNASTYQCPDCLIGKSTKHRHVKGSRLKYQESYEPFQYLHTDIFGPVHHLPKSAPSYFISFTDEKTRFQWVYPLHDRREESILNVFTSILAFIKNQFNARVLVIQMDRGSEYTNKTLHKFFTNRGITACYTTTADSRAHGVAERLNRTLLNDCRTLLHCSGLPNHLWFSAVEFSTIIRNSLVSPKNDKSARQHAGLAGLDITTILPFGQPVIVNNHNPDSKIHPRGIPGYALHPSRNSYGYIIYLPSLKKTVDTTNYVILQDNQSKLDQFNYDTLTFDDDLNRLTAHNQSFIEQNETEQSYDQNTESDHDYQSEIEINSDPLVNDFSSQSMNPLQLDHEPVQKVRALKEVDADISEYNILPSPVRSRTPHIINKESTEMGGTIESDTTSPRHSSTFTARNQKRPGSPNDMIDLTSQDRVNYELENIKTTRLGGTEEPYIQRNSDTNIKYRTTNSTPSIDDRSPDSDSTTPIISIETKAACDNTPSIDTDPPEYRSSDHATPNIMPDKSSKNVTADSILDDLPLPDLTNKSPTDTSDVSKDIPHIHSRQTNSSLGGMDDSNVLTTTKSKKRSLEDNETEIEVSRDTWNNKNMRSLEPPRSKKRINLIAAIKGVKSIKPVRTTLRYDEAITYNEDNKEKDRYIEAYHKEINQLLRMNTWDTNKYYDRNDIDPKKVINSMFIFNKKRDGTHKARFVARGDIQHPDTYDSDMQSNTVHHYALMTSLSIALDNDYYITQLDISSAYLYADIKEELYIRPPPHLGLNDKLLRLRKSLYGLKQSGANWYETIKSYLINCCDMQEVRGWSCVFKNSQVTICLFVDDMILFSKDLNANEKIITTLKKQYDTKIINLGESDNEIQYDILGLEIKYQRSKYMKLGMEKSLTEKLPKLNVPLNPKGKKLSAPGQPGHYIDQDELEIDEDEYKEKVHEMQKLIGLASYVGYKFRFDLLYYINTLAQHILFPSRQVLDMTYELIQFMWDTRDKQLIWHKNKPTKPDNKLVAISDASYGNQPYYKSQIGNIFLLNGKVIGGKSTKASLTCTSTTEAEIHAVSEAIPLLNNLSHLVQELNKKPIIKGLLTDSRSTISIIKSTNEEKFRNRFFGTKAMRLRDEVSGNNLYVYYIETKKNIADVMTKPLPIKTFKLLTNKWIH',\n",
       " 'YBL100W-A': 'MESQQLHQNPHSLHGSAYASVTSKEVSSNQDPLAVSASNLPEFDRDSTKVNSQQETTPGTSAVPENHHHVSPQPASVPPPQNGQYQQHGMMTPNKAMASNWAHYQQPSMMTCSHYQTSPAYYQPDPHYPLPQYIPPLSTSSPDPIDSQDQHSEVPQAKTKVRNNVLPPHTLTSEENFYTWVKFYIRFLKNSNLGDIIPNDQGEIKRQMTYEEHAYIYNTFQAFAPFHLLPTWVKQILEINYADILTVLCKSVSKMQTNNQELKDWIALANLEYDGSTSADTFEITVSTIIQRLKENNINVSDRLACQLILKGLSGDFKYLRNQYRTKTNMKLSQLFAEIQLIYDENKIMNLNKPSQYKQHSEYKNVSRTSPNTTNTKVTTRNYHRTNSSKPRAAKAHNIATSSKFSRVNNDHINESTVSSQYLSDDNELSLRPATERI',\n",
       " 'YBL099W': 'MLARTAAIRSLSRTLINSTKAARPAAAALASTRRLASTKAQPTEVSSILEERIKGVSDEANLNETGRVLAVGDGIARVFGLNNIQAEELVEFSSGVKGMALNLEPGQVGIVLFGSDRLVKEGELVKRTGNIVDVPVGPGLLGRVVDALGNPIDGKGPIDAAGRSRAQVKAPGILPRRSVHEPVQTGLKAVDALVPIGRGQRELIIGDRQTGKTAVALDTILNQKRWNNGSDESKKLYCVYVAVGQKRSTVAQLVQTLEQHDAMKYSIIVAATASEAAPLQYLAPFTAASIGEWFRDNGKHALIVYDDLSKQAVAYRQLSLLLRRPPGREAYPGDVFYLHSRLLERAAKLSEKEGSGSLTALPVIETQGGDVSAYIPTNVISITDGQIFLEAELFYKGIRPAINVGLSVSRVGSAAQVKALKQVAGSLKLFLAQYREVAAFAQFGSDLDASTKQTLVRGERLTQLLKQNQYSPLATEEQVPLIYAGVNGHLDGIELSRIGEFESSFLSYLKSNHNELLTEIREKGELSKELLASLKSATESFVATF',\n",
       " 'YBL098W': 'MSESVAIIGAGLVGCLAALAFSKEGYNVTLYDFRQDPRLDTTKNKNLKSINLAISARGIDALKSIDPDACEHILQDMIPMKGRMIHDLKGRQESQLYGLHGEAINSINRSVLNNSLLDELEKSTTELKFGHKLVKIEWTDDKQICHFAIGEDLKTPHTEKYDFVIGCDGAYSATRSQMQRKVEMDFSQEYMNLRYIELYIPPTEEFKPNYGGNFAIAPDHLHIWPRHKFMLIALANSDGSFTSTFFGSKDQISDLITSKSRVREFLIENFPDIINIMDLDDAVKRFITYPKESLVCVNCKPYDVPGGKAILLGDAAHAMVPFYGQGMNCGFEDVRILMALLKKHSGDRSRAFTEYTQTRHKDLVSITELAKRNYKEMSHDVTSKRFLLRKKLDALFSIIMKDKWIPLYTMISFRSDISYSRALERAGKQTRILKFLESLTLGMLSIGGYKLFKFLTRERS',\n",
       " 'YBL097W': 'MTTQLRYENNDDDERVEYNLFTNRSTMMANFEEWIKMATDNKINSRNSWNFALIDYFYDLDVLKDGENNINFQKASATLDGCIKIYSSRVDSVTTETGKLLSGLAQRKTNGASNGDDSNGGNGEGLGGDSDEANIEIDPLTGMPISNDPDVNNTRRRVYNRVLETTLVEFETIKMKELDQELIIDPLFKKALVDFDEGGAKSLLLNTLNIDNTARVIFDASIKDTQNVGQGKLQRKEEELIERDSLVDDENEPSQSLISTRNDSTVNDSVISAPSMEDEILSLGMDFIKFDQIAVCEISGSIEQLRNVVEDINQAKDFIENVNNRFDNFLTEEELQAAVPDNAEDDSDGFDMGMQQELCYPDENHDNTSHDEQDDDNVNSTTGSIFEKDLMAYFDENLNRNWRGREHWKVRNFKKANLVNKESDLLEETRTTIGDTTDKNTTDDKSMDTKKKHKQKKVLEIDFFKTDDSFEDKVFASKGRTKIDMPIKNRKNDTHYLLPDDFHFSTDRITRLFIKPGQKMSLFSHRKHTRGDVSSGLFEKSTVSANHSNNDIPTIADEHFWADNYERKEQEEKEKEQSKEVGDVVGGALDNPFEDDMDGVDFNQAFEGTDDNEEASVKLDLQDDEDHKFPIRENKVTYSRVSKKVDVRRLKKNVWRSINNLIQEHDSRKNREQSSNDSETHTEDESTKELKFSDIIQGISKMYSDDTLKDISTSFCFICLLHLANEHGLQITHTENYNDLIVNYEDLATTQAAS',\n",
       " 'YBL095W': 'MSRTIPFLFKLVNRAVILPTAGFTLGVGAFVKAWPDDAGVLSLNDPQTPAELISATKSRQPMELQRVDILAQIEKSEVYNKLAQDEKMHHVLFSEKIPSGHREYHVGQGLLFGKGKLEIDPLVFHDVNHGELTVIYHLGAELGNRDGNVHKGLLSLLLDEALCYCGFPLLPSKRGVTARLSLEFFEDIPVDTTIILKANVKEIKGRKCIIEGHLEQFPLEVSSRNGTRSWNLPHIWGFNHKQEMAKKFAKANCILVEPTWFKYFKWLDMF',\n",
       " 'YBL093C': 'MASRVDETTVPSYYYYVDPETTYTYQQPNPLQDLISVYGLDDISRQVARTNLDGTKAVKLRKSYKNQIADLSGKFSTIPTRENGKGGQIAHILFQNNPDMMIQPPQQGQNMSEQQWREQLRNRDIALFQPPNFDWDLCSSVLSQFERSYPSEFANQNQGGAQAPFDIDDLAFDLDGTGKSQSGSNSGNNSKKRKNKSSGSSMATPTHSDSHEDMKRRRLE',\n",
       " 'YBL092W': 'MASLPHPKIVKKHTKKFKRHHSDRYHRVAENWRKQKGIDSVVRRRFRGNISQPKIGYGSNKKTKFLSPSGHKTFLVANVKDLETLTMHTKTYAAEIAHNISAKNRVVILARAKALGIKVTNPKGRLALEA',\n",
       " 'YBL091C-A': 'MRIVPEKLVFKAPLNKQSTEYIKLENDGEKRVIFKVRTSAPTKYCVRPNVAIIGAHESVNVQIVFLGLPKSTADDEMDQKRDKFLIVTLPIPAAYQNVEDGELLSDWPNLEEQYKDDIVFKKIKIFHSVLPKRKPSGNHDAESARAPSAGNGQSLSSRALLIITVIALLVGWIYY',\n",
       " 'YBL091C': 'MTDAEIENSPASDLKELNLENEGVEQQDQAKADESDPVESKKKKNKKKKKKKSNVKKIELLFPDGKYPEGAWMDYHQDFNLQRTTDEESRYLKRDLERAEHWNDVRKGAEIHRRVRRAIKDRIVPGMKLMDIADMIENTTRKYTGAENLLAMEDPKSQGIGFPTGLSLNHCAAHFTPNAGDKTVLKYEDVMKVDYGVQVNGNIIDSAFTVSFDPQYDNLLAAVKDATYTGIKEAGIDVRLTDIGEAIQEVMESYEVEINGETYQVKPCRNLCGHSIAPYRIHGGKSVPIVKNGDTTKMEEGEHFAIETFGSTGRGYVTAGGEVSHYARSAEDHQVMPTLDSAKNLLKTIDRNFGTLPFCRRYLDRLGQEKYLFALNNLVRHGLVQDYPPLNDIPGSYTAQFEHTILLHAHKKEVVSKGDDY',\n",
       " 'YBL090W': 'MLKSTLRLSRISLRRGFTTIDCLRQQNSDIDKIILNPIKLAQGSNSDRGQTSKSKTDNADILSMEIPVDMMQSAGRINKRELLSEAEIARSSVENAQMRFNSGKSIIVNKNNPAESFKRLNRIMFENNIPGDKRSQRFYMKPGKVAELKRSQRHRKEFMMGFKRLIEIVKDAKRKGY',\n",
       " 'YBL089W': 'MPSNVRSGVLTLLHTACGAGVLAMPFAFKPFGLMPGLITLTFCGICSLCGLLLQTRIAKYVPKSENASFAKLTQLINPSISVVFDFAIAVKCFGVGVSYLIIVGDLVPQIVQSIFYRNDDNMSGSQEHHMFLDRRLYITLIIVFVISPLCFKRSLNSLRYASMIAIVSVAYLSGLIIYHFVNRHQLERGQVYFMVPHGDSQSHSPLTTLPIFVFAYTCHHNMFSVINEQVDKSFKVIRRIPIFAIVLAYFLYIIIGGTGYMTFGENIVGNILTLYPNSISTTIGRLAMLLLVMLAFPLQCHPCRSSVKNIIIFIENFRKGKLYDNRASFIPLDNFNSEDPQEAPTQQNNEEPNLRSESLRHINIITLCILLFSYLLAISITSLAKVLAIVGATGSTSISFILPGLFGYKLIGSEFTGTNERVPTSIKIFKYLSLSLFIWGIAVMVASLSAIVFLGTSSH',\n",
       " 'YBL088C': 'MEDHGIVETLNFLSSTKIKERNNALDELTTILKEDPERIPTKALSTTAEALVELLASEHTKYCDLLRNLTVSTTNKLSLSENRLSTISYVLRLFVEKSCERFKVKTLKLLLAVVPELMVKDGSKSLLDAVSVHLSFALDALIKSDPFKLKFMIHQWISLVDKICEYFQSQMKLSMVDKTLTNFISILLNLLALDTVGIFQVTRTITWTVIDFLRLSKKENGNTRLIMSLINQLILKCHCFSVIDTLMLIKEAWSYNLTIGCTSNELVQDQLSLFDVMSSELMNHKLPYMIGQENYVEELRSESLVSLYREYILLRLSNYKPQLFTVNHVEFSYIRGSRDKNSWFALPDFRLRDRGGRSVWLKILGITKSLLTYFALNRKNENYSLLFKRRKCDSDIPSILRISDDMDTFLIHLLEENSSHEFEVLGLQLCSFYGTLQDFTKSFAEQLKELLFSKFEKIQCFNWVCFSFIPLLSQKECELSNGDMARLFKVCLPLVKSNESCQLSCLLLANSIKFSKQLLSDEKTINQIYDLYELSDILGPILVTNESFMLWGYLQYVGKDFQSMNGISSADRIFEWLKSKWNQLRGTDAKQDQFCNFISWLGNKYDPENPFNDKKGEGANPVSLCWDESHKIWQHFQEQREFLLGVKPEEKSECFNTPFFNLPKVSLDLTRYNEILYRLLENIESDAFSSPLQKFTWVAKLIQIVDNLCGDSTFSEFIAAYKRTTLITIPQLSFDSQNSYQSFFEEVLSIRTINVDHLVLDKINMKEIVNDFIRMQKNKSQTGTSAINYFEASSEDTTQNNSPYTIGGRFQKPLHSTIDKAVRAYLWSSRNKSISERLVAILEFSDCVSTDVFISYLGTVCQWLKQAIGEKSSYNKILEEFTEVLGEKLLCNHYSSSNQAMLLLTSYIEAIRPQWLSYPEQPLNSDCNDILDWIISRFEDNSFTGVAPTVNLSMLLLSLLQNHDLSHGSIRGGKQRVFATFIKCLQKLDSSNIINIMNSISSYMAQVSYKNQSIIFYEIKSLFGPPQQSIEKSAFYSLAMSMLSLVSYPSLVFSLEDMMTYSGFNHTRAFIQQALNKITVAFRYQNLTELFEYCKFDLIMYWFNRTKVPTSKLEKEWDISLFGFADIHEFLGRYFVEISAIYFSQGFNQKWILDMLHAITGNGDAYLVDNSYYLCIPLAFISGGVNELIFDILPQISGKTTVKYHKKYRLLMLKWIIRFTDLGSLTELRSTVEKLFPTSYLSPYLFENSSVSMRYQYPLHIPLALGATLVQTQFAHEKNNTHEFKLLFLSVITDLEKTSTYIGKLRCARELKYLFVLYENVLVKSSTLNFIIIRLSKFLIDTQIHDEVITIFSSLLNLADKNTFEIEPSLPNLFCKIFIYLRENKQLSPSFQQAIKLLEHRDLIKIKTWKYCLDAIFGNIVQDDIYENTELLDASDCGVDDVVLVSLLFSYARRPVASKIGCSLSKAAAINILKHHVPKEYLSKNFKLWFAALSRRILQQEVQRERSTNFNNEVHLKNFEMVFRHPEQPHMIYQRISTFNKEAELYDSTEVFFISECILTYLVGYSIGNSESEFCFRDNIMNENKDKVAPLDKDVLNAIYPLANNFGMESFICDTYLSVNEPYNCWLSKFARSLIHQISFNIPPIVCLYPLCKGSTAFCELVLTDLFFLSTTYDPKSCLNWSNRIFTQIAMLLHVKDSEIKLKMLFNVIKMIRMGSRCKERNCLRIYSSLDLQEICQISLKIKEFKFGYLLFEEMNMPNIREMNINTLQKIYECINDGDFLAGLPVPHSIEGVLNSINRIDSDTWKRFLFNNADFDANYTTSLEEEKESLIKATEDSGFYGLTSLLESRLSGSSDVYKWNLELGDWKLLTPKVVDSKAKGLYYAIKNLPQDVGFAEKSLEKSLLTIFDSRQHFISQTEWMDTLNAIIEFIKIAAIPQDVTSFPQTLMSIMKADKERLNTIDFYDHKTTLKSRHTLMNVLSRNSLDENVKCSKYLRLGSIIQLANYVQLAIANGAPQDALRNATLMSKTVKNIAKLYDDPSVVSQIEKLASFTSANALWESREYKAPVMIMRDLLAQNEKNISESILYDDFKLLINVPMDQIKARLVKWSSESRLEPAAAIYEKIIVNWDINVEDHESCSDVFYTLGSFLDEQAQKLRSNGEIEDREHRSYTGKSTLKALELIYKNTKLPENERKDAKRHYNRVLLQYNRDSEVLKALLLQKEKFLWHALHFYLNTLVFSNRYDNDIIDKFCGLWFENDDNSKINQLLYKEIGTIPSWKFLPWVNQIASKISMEENEFQKPLQLTMKRLLYKLPYDSLYSVMSILLYEKQSNKDTNISQKIQAVKKILLELQGYDRGAFAKKYLLPVQEFCEMSVELANLKFVQNTKTLRLANLKIGQYWLKQLNMEKLPLPTSNFTVKSSADGRKARPYIVSVNETVGITTTGLSLPKIVTFNISDGTTQKALMKGSNDDLRQDAIMEQVFQQVNKVLQNDKVLRNLDLGIRTYKVVPLGPKAGIIEFVANSTSLHQILSKLHTNDKITFDQARKGMKAVQTKSNEERLKAYLKITNEIKPQLRNFFFDSFPDPLDWFEAKKTYTKGVAASSIVGYILGLGDRHLNNILLDCSTGEPIHIDLGIAFDQGKLLPIPELVPFRLTRDIVDGFGVTGVDGLFRRSCERVYAVLRKDYVKVMCVLNILKWDPLYSWVMSPVKKYEHLFEEEHEITNFDNVSKFISNNDRNENQESYRALKGVEEKLMGNGLSVESSVQDLIQQATDPSNLSVIYMGWSPFY',\n",
       " 'YBL087C': 'MSGNGAQGTKFRISLGLPVGAIMNCADNSGARNLYIIAVKGSGSRLNRLPAASLGDMVMATVKKGKPELRKKVMPAIVVRQAKSWRRRDGVFLYFEDNAGVIANPKGEMKGSAITGPVGKECADLWPRVASNSGVVV',\n",
       " 'YBL086C': 'MPFNHNSKAKRPKFLLDLQIKELVNIPQSSGYCYTKWRLKDGTGTSGHKVALDGEHQTTSTQSRGTTKHVHVQHHRAQWNYSLDKPILVKLHLDKNGRFLKKILVLDVFFEFADANSSLTSSSSPNGKVKKTTYANATALTATGNNSYSQKITGKLLLGTVDIDITEYVKEDETPTTNRFLLKHSKVNSIINVSLQLKLVRGSYEDFNISKSFTNGQLANYRPGINTILDNTSELSSPTSTTNQMSPKNTFSNFNGIGTTVAKPGTNATGNSTSIKSPTSTNHKSSEMTTKPGLSTTISSSMSPLIESLYQKTFKLPWDPRPGEFTPRECVEDILQGGNGWAKNEKGINLIDLQALRLNEMEEEYYNPNYGNNLGNKASSWPPNPSDDGYSTMGKREYLEKKQNWSHMSRAQRAKLRTHNDEDNENTANDKGSDKDNNSVEDNNPTDFLTDRIRENKNWSIITPSG',\n",
       " 'YBL085W': 'MSLEGNTLGKGAKSFPLYIAVNQYSKRMEDELNMKPGDKIKVITDDGEYNDGWYYGRNLRTKEEGLYPAVFTKRIAIEKPENLHKSPTQESGNSGVKYGNLNDSASNIGKVSSHQQENRYTSLKSTMSDIDKALEELRSGSVEQEVSKSPTRVPEVSTPQLQDEQTLIQEKTRNEENTTHDSLFSSTADLNLSSESLKNISKSNISTKSLEPSSESVRQLDLKMAKSWSPEEVTDYFSLVGFDQSTCNKFKEHQVSGKILLELELEHLKELEINSFGIRFQIFKEIRNIKSAIDSSSNKLDADYSTFAFENQAAQLMPAATVNRDEIQQQISSKCNKLSSESSDRKSSSVTTELQRPSSVVVNPNFKLHDPAEQILDMTEVPNLFADKDIFESPGRAPKPPSYPSPVQPPQSPSFNNRYTNNNARFPPQTTYPPKNKNPTVYSNGLIPNSSTSSDNSTGKFKFPAMNGHDSNSRKTTLTSATIPSINTVNTDESLPAISNISSNATSHHPNRNSVVYNNHKRTESGSSFVDLFNRISMLSPVKSSFDEEETKQPSKASRAVFDSARRKSSYGHSRDASLSEMKKHRRNSSILSFFSSKSQSNPTSPTKQTFTIDPAKMTSHSRSQSNSYSHARSQSYSHSRKHSLVTSPLKTSLSPINSKSNIALAHSETPTSSNNKEAVSQPSEGKHKHKHKHKSKHKHKNSSSKDGSSEEKSKKKLFSSTKESFVGSKEFKRSPSELTQKSTKSILPRSNAKKQQTSAFTEGIRSITAKESMQTADCSGWMSKKGTGAMGTWKQRFFTLHGTRLSYFTNTNDEKERGLIDITAHRVLPASDDDRLISLYAASLGKGKYCFKLVPPQPGSKKGLTFTEPRVHYFAVENKSEMKAWLSAIIKATIDIDTSVPVISSYATPTIPLSKAQTLLEEARLQTQLRDAEEEEGRDQFGWDDTQNKRNSNYPIEQDQFETSDYLESSAFEYPGGRL',\n",
       " 'YBL084C': 'MAVNPELAPFTLSRGIPSFDDQALSTIIQLQDCIQQAIQQLNYSTAEFLAELLYAECSILDKSSVYWSDAVYLYALSLFLNKSYHTAFQISKEFKEYHLGIAYIFGRCALQLSQGVNEAILTLLSIINVFSSNSSNTRINMVLNSNLVHIPDLATLNCLLGNLYMKLDHSKEGAFYHSEALAINPYLWESYEAICKMRATVDLKRVFFDIAGKKSNSHNNNAASSFPSTSLSHFEPRSQPSLYSKTNKNGNNNINNNVNTLFQSSNSPPSTSASSFSSIQHFSRSQQQQANTSIRTCQNKNTQTPKNPAINSKTSSALPNNISMNLVSPSSKQPTISSLAKVYNRNKLLTTPPSKLLNNDRNHQNNNNNNNNNNNNNNNNNNNNNNNNIINKTTFKTPRNLYSSTGRLTTSKKNPRSLIISNSILTSDYSITLPEIMYNFALILRSSSQYNSFKAIRLFESQIPSHIKDTMPWCLVQLGKLHFEIINYDMSLKYFNRLKDLQPARVKDMEIFSTLLWHLHDKVKSSNLANGLMDTMPNKPETWCCIGNLLSLQKDHDAAIKAFEKATQLDPNFAYAYTLQGHEHSSNDSSDSAKTCYRKALACDPQHYNAYYGLGTSAMKLGQYEEALLYFEKARSINPVNVVLICCCGGSLEKLGYKEKALQYYELACHLQPTSSLSKYKMGQLLYSMTRYNVALQTFEELVKLVPDDATAHYLLGQTYRIVGRKKDAIKELTVAMNLDPKGNQVIIDELQKCHMQE',\n",
       " 'YBL082C': 'MEGEQSPQGEKSLQRKQFVRPPLDLWQDLKDGVRYVIFDCRANLIVMPLLILFESMLCKIIIKKVAYTEIDYKAYMEQIEMIQLDGMLDYSQVSGGTGPLVYPAGHVLIYKMMYWLTEGMDHVERGQVFFRYLYLLTLALQMACYYLLHLPPWCVVLACLSKRLHSIYVLRLFNDCFTTLFMVVTVLGAIVASRCHQRPKLKKSLALVISATYSMAVSIKMNALLYFPAMMISLFILNDANVILTLLDLVAMIAWQVAVAVPFLRSFPQQYLHCAFNFGRKFMYQWSINWQMMDEEAFNDKRFHLALLISHLIALTTLFVTRYPRILPDLWSSLCHPLRKNAVLNANPAKTIPFVLIASNFIGVLFSRSLHYQFLSWYHWTLPILIFWSGMPFFVGPIWYVLHEWCWNSYPPNSQASTLLLALNTVLLLLLALTQLSGSVALAKSHLRTTSSMEKKLN',\n",
       " 'YBL081W': 'MPGQIISIPFLSQNEDMDKYLLEYRSLKLLHQSSNSFQSHNAPSHQSNYHPHYNHMKYNNTGSYYYYNNNNNSSVNPHNQAGLQSINRSIPSAPYGAYNQNRANDVPYMNTQKKHHRFSANNNLNQQKYKQYPQYTSNPMVTAHLKQTYPQLYYNSNVNAHNNNNNSNNNNNNNNNSNNNNNLYNQTQFSTRYFNSNSSPSLTSSTSNSSSPYNQSTFEYILPSTSAASTNLSSSSSNNSMHTNPTTATSTSADLINDLPVGPTSSSLISDLHSPPTVSFLPASQTLLMSSTTSSSIGTNINPPQHSPSPSQREDFSTAPVNMSSSASLLMNDSSLGWGSNHMNVSSSSQPASSRPFGIWNTDMSVWS',\n",
       " 'YBL080C': 'MLRLARFYSLARTKAIHSHGAPFRPEYALKCGLEIHTQLNTKNKLFSQSTNSATSLVDAPNHHTSYYDIALPGTQPVLNLEAILFAMKLSLALGSQVNSISQFDRKHYFYGDQPQGYQLTQHYRPFARGGKINLSKELDDIDESAKEIGILQLQIEQDTGKSHYTETDKDVITLVDLNRSNVPLIELVTKPDFSDIKQVRAFIKKYQNLVRHLHISSGDLETGAMRVDVNLSINEYARVELKNLPNTSSIINAIKYEYQRQVELISVGDTSSLMEPETRGWTGSSTVKLRSKETTIDYRYMPDPELPYINLAPDVISGVRGLMPQLPDDIMRILMKKPYQLSLKDAKILTYNSNQNDMYNHEALRSYYLDTFREFSKLAGERSNAKLPTNWIIHEFLGDLNKLQIPLAKAKEILPPPVFAQFLKLLHEEVISATSGKMLLFHILENFEQSNCQDLSIPDFSKLIEKFELHAINQVDPQELMDLCNDVIAQHTDDTFIRNLVTGKKKSSLKFLIGQGMRRSQGRIKANEFEKKFKEILNIQW',\n",
       " 'YBL079W': 'MFQSFFHNNGPAAAGETFSDSRSYPLTNHQEVPRNGLNELASSATKAQQQPTHILNSYPITGSNPLMRASAMGATSGSINPNMSNMNEHIRVSGMGTSKPLDLAGKYIDHLQHKDSNTPVLDERSYYNSGVDYNFSREKNGLGAFTPFEKQDVFNIPDEILHEFSTSQTKTDMGIFPELNRCWITIDNKLILWNINNDNEYQVVDDMKHTIQKVALVRPKPNTFVPAVKHLLLISTTMELFMFAISLDKATNELSVFNTHLSVPVQGIDVIDIVSHERSGRIFFAGQASGLNIWELHYSGSDDWFNSKCSKVCLTKSALLSLLPTNMLSQIPGVDFIQALFEDNSNGNGGFSQETITQLTIDQQRGIIYSLSSKSTIRAYVITEKSLEGPMSIEPAYISRIIGTTTARAAPILGPKYLKIVKISSVAPEENNNLFLVALTVGGVRLYFNGSMGRFNIEALRLESIKFPPSSVTPEVIQQELLHQQQEQAKRSFPFFSNLMSSEPVLLKFQKKSSVLLETTKASTIISPGIFFSAVIKSSQQTHQQEKKENSSVTGTTATAGSKTVKQQPVTLQHKLFVSVPDYGILKTHGKYVENATFLETAGPVQQIIPLSGLFNATTKPQGFANEFATQYTSETLRVAVLTSTSIEIYKYRTPDEIFEDLIDNPLPFVLNYGAAEACSTALFVTCKSNKSEKLRSNALTFLTMGIPGVVDIKPVYNRYSVSTVSSLLSKPTLSTATTNLQQSITGFSKPSPANKEDFDLDDVILSPRFYGIALLITRLLRDIWGRHVFMTFTDNRVTSHAFISSSDPITPSINNLKSDEISQNRNIISKVSISKDCIEYYLSSINILNEFFITYGDSISQISAPYVLANNSNGRVIDKTEEVANQAESIAINAMIKMVQSIKEGLSFLNVLYEESEVEGFDNQYLGFKDIISFVSLDVQKDLVKLDFKDLFAPNDKTKSLIREILLSIINRNITKGASIEYTATALQERCGSFCSASDILGFRAIEHLRRAKEIGLRNYDSLNYHLKNATALLEQIVDDLSIEKLKEAVSMMLSVNYYPKSIEFLLNIANSMDKGKLACQYVANGFLENDDRKQYYDKRILVYDLVFDTLIKVDELAEKKQSSKTQNQISISNDDEVKLRQKSYEAALKYNDRLFHYHMYDWLVSQNREEKLLDIETPFILPYLMEKAGSSLKISNILWVYYSRRSKFFESAEILYRLATSNFDITLFERIEFLSRANGFCNSVSPLSQKQRIVQLASRIQDACEVAGIQGDILSLVYTDARIDSAIKDELIKTLDGKILSTSELFNDFAVPLSYHEIALFIFKIADFRDHEVIMAKWDELFQSLRMEFNNTGKKEDSMNFINLLSNVLIKIGKNVQDSEFIFPIFELFPIVCNFFYETLPKEHIVSGSIVSIFITAGVSFNKMYYILKELIETSDSDNSVFNKEMTWLIHEWYKSDRKFRDIISYNDIIHLKEYKIDNDPIEKYVKNSGNNLGICFYKE',\n",
       " 'YBL078C': 'MKSTFKSEYPFEKRKAESERIADRFKNRIPVICEKAEKSDIPEIDKRKYLVPADLTVGQFVYVIRKRIMLPPEKAIFIFVNDTLPPTAALMSAIYQEHKDKDGFLYVTYSGENTFGR',\n",
       " 'YBL076C': 'MSESNAHFSFPKEEEKVLSLWDEIDAFHTSLELTKDKPEFSFFDGPPFATGTPHYGHILASTIKDIVPRYATMTGHHVERRFGWDTHGVPIEHIIDKKLGITGKDDVFKYGLENYNNECRSIVMTYASDWRKTIGRLGRWIDFDNDYKTMYPSFMESTWWAFKQLHEKGQVYRGFKVMPYSTGLTTPLSNFEAQQNYKDVNDPAVTIGFNVIGQEKTQLVAWTTTPWTLPSNLSLCVNADFEYVKIYDETRDRYFILLESLIKTLYKKPKNEKYKIVEKIKGSDLVGLKYEPLFPYFAEQFHETAFRVISDDYVTSDSGTGIVHNAPAFGEEDNAACLKNGVISEDSVLPNAIDDLGRFTKDVPDFEGVYVKDADKLIIKYLTNTGNLLLASQIRHSYPFCWRSDTPLLYRSVPAWFVRVKNIVPQMLDSVMKSHWVPNTIKEKRFANWIANARDWNVSRNRYWGTPIPLWVSDDFEEVVCVGSIKELEELTGVRNITDLHRDVIDKLTIPSKQGKGDLKRIEEVFDCWFESGSMPYASQHYPFENTEKFDERVPANFISEGLDQTRGWFYTLAVLGTHLFGSVPYKNVIVSGIVLAADGRKMSKSLKNYPDPSIVLNKYGADALRLYLINSPVLKAESLKFKEEGVKEVVSKVLLPWWNSFKFLDGQIALLKKMSNIDFQYDDSVKSDNVMDRWILASMQSLVQFIHEEMGQYKLYTVVPKLLNFIDELTNWYIRFNRRRLKGENGVEDCLKALNSLFDALFTFVRAMAPFTPFLSESIYLRLKEYIPEAVLAKYGKDGRSVHFLSYPVVKKEYFDEAIETAVSRMQSVIDLGRNIREKKTISLKTPLKTLVILHSDESYLKDVEALKNYIIEELNVRDVVITSDEAKYGVEYKAVADWPVLGKKLKKDAKKVKDALPSVTSEQVREYLESGKLEVAGIELVKGDLNAIRGLPESAVQAGQETRTDQDVLIIMDTNIYSELKSEGLARELVNRIQKLRKKCGLEATDDVLVEYELVKDTIDFEAIVKEHFDMLSKTCRSDIAKYDGSKTDPIGDEEQSINDTIFKLKVFKL',\n",
       " 'YBL075C': 'MSRAVGIDLGTTYSCVAHFSNDRVEIIANDQGNRTTPSYVAFTDTERLIGDAAKNQAAINPHNTVFDAKRLIGRKFDDPEVTTDAKHFPFKVISRDGKPVVQVEYKGETKTFTPEEISSMVLSKMKETAENYLGTTVNDAVVTVPAYFNDSQRQATKDAGTIAGMNVLRIINEPTAAAIAYGLDKKGRAEHNVLIFDLGGGTFDVSLLSIDEGVFEVKATAGDTHLGGEDFDNRLVNHLATEFKRKTKKDISNNQRSLRRLRTAAERAKRALSSSSQTSIEIDSLFEGMDFYTSLTRARFEELCADLFRSTLEPVEKVLKDSKLDKSQIDEIVLVGGSTRIPKIQKLVSDFFNGKEPNRSINPDEAVAYGAAVQAAILTGDQSTKTQDLLLLDVAPLSLGIETAGGIMTKLIPRNSTIPTKKSETFSTYADNQPGVLIQVFEGERTRTKDNNLLGKFELSGIPPAPRGVPQIDVTFDIDANGILNVSALEKGTGKSNKITITNDKGRLSKDDIDRMVSEAEKYRADDEREAERVQAKNQLESYAFTLKNTINEASFKEKVGEDDAKRLETASQETIDWLDASQAASTDEYKDRQKELEGIANPIMTKFYGAGAGAGPGAGESGGFPGSMPNSGATGGGEDTGPTVEEVD',\n",
       " 'YBL074C': 'MNTVPFTSAPIEVTIGIDQYSFNVKENQPFHGIKDIPIGHVHVIHFQHADNSSMRYGYWFDCRMGNFYIQYDPKDGLYKMMEERDGAKFENIVHNFKERQMMVSYPKIDEDDTWYNLTEFVQMDKIRKIVRKDENQFSYVDSSMTTVQENELLKSSLQKAGSKMEAKNEDDPAHSLNYTVINFKSREAIRPGHEMEDFLDKSYYLNTVMLQGIFKNSSNYFGELQFAFLNAMFFGNYGSSLQWHAMIELICSSATVPKHMLDKLDEILYYQIKTLPEQYSDILLNERVWNICLYSSFQKNSLHNTEKIMENKYPELLGKDNEDDALIYGISDEERDDEDDEHNPTIVGGLYYQRP',\n",
       " 'YBL072C': 'MGISRDSRHKRSATGAKRAQFRKKRKFELGRQPANTKIGAKRIHSVRTRGGNKKYRALRIETGNFSWASEGISKKTRIAGVVYHPSNNELVRTNTLTKAAIVQIDATPFRQWFEAHYGQTLGKKKNVKEEETVAKSKNAERKWAARAASAKIESSVESQFSAGRLYACISSRPGQSGRCDGYILEGEELAFYLRRLTAKK',\n",
       " 'YBL071C-B': 'MELFHIRYLQAYLKVIGNYTCHLLFGTHKKTL',\n",
       " 'YBL071W-A': 'MSTYDEIEIEDMTFEPENQMFTYPCPCGDRFQIYLDDMFEGEKVAVCPSCSLMIDVVFDKEDLAEYYEEAGIHPPEPIAAAA',\n",
       " 'YBL071C': 'MILLKSEHGGKRKEMRQDDLMGPNHFSLRIMYKIIIYTYPVSLYAVKELNLSKTFSISALGILNSNSNRSPAKKQTFFSACVAKSYSSFFISICILDLASHL',\n",
       " 'YBL069W': 'MAKDILKNQDPKLQAMIVEHSAPAPKEIPMDAPVLKRVARPLRHVKFIPIKSLIFHTKTGPMDFSYEKKIKTPIPKNKIVVRVSNVGLNPVDMKIRNGYTSSIYGEIGLGREYSGVITEVGENLNYAWHVGDEVYGIYYHPHLAVGCLQSSILVDPKVDPILLRPESVSAEEAAGSLFCLATGYNILNKLSKNKYLKQDSNVLINGGTSSVGMFVIQLLKRHYKLQKKLVIVTSANGPQVLQEKFPDLADEMIFIDYLTCRGKSSKPLRKMLEEKKISQYDPVEDKETILNYNEGKFDVVLDFVGGYDILSHSSSLIHGGGAYVTTVGDYVANYKEDIFDSWDNPSANARKMFGSIIWSYNYTHYYFDPNAKTASANNDWIEQCGDFLKNGTVKCVVDKVYDWKDHKEAFSYMATQRAQGKLIMNVEKF',\n",
       " 'YBL068W': 'MNSESREDMAINSIKLLAGNSHPDLAEQISKKLGIPLSKVGVYQYSNKETSVTIGESLRDEDVYIIQTGIGEQEINDFLMELLILIHACKIASARKITTVIPNFPYARQDKKDKSRAPITAKLVANLLQTAGADHVITMDLHASQIQGFFHIPVDNLYAEPSVLNYIRTKTDFDNAILVSPDAGGAKRVAALADKLDLNFALIHKERQKANEVSKMVLVGDVTNKSCLLVDDMADTCGTLVKACDTLMEHGAKEVIAIVTHGIFSGSAREKLRNSRLSRIVCTNTVPVDLDLPIADQIDISPTFAEAIRRLHNGESVSYLFTHAPV',\n",
       " 'YBL067C': 'MIRRWLTISKSGKKKKAVNDTITEEVEKVDFKPVNHDINDELCYSESSDNPSSSLFVSNLDTKETFLNEDNNLQISSGLDYSSETCNQGSNYSQDGIFYISNAKAINAYGGIITQGPEAPILAMKVSDSMPYGDGSNKVFGYENFGNTCYCNSVLQCLYNLSSLRENILQFPKKSRESDQPRKKEMRGKKPRIFTEASFEKSIAGTNGHLPNPKPQSVDDGKPTPVNSVNSNTAGPSEKKSKFFKSFSAKHVQDNNKKEGSPAILTTGKPSSRPQDAPPLIVETPNEPGAPSRLSFENVTDRPPDVPRKIIVGRVLNYENPSRGSSNSNNLDLKGESNSSLSTPLDKKDTRRSSSSSQISPEHRKKSALIRGPVLNIDHSLNGSDKATLYSSLRDIFECITENTYLTGVVSPSSFVDVLKRENVLFNTTMHQDAHEFFNFLLNELSEYIERENKKIAASDINSDSEPSKSKNFISDLFQGTLTNQIKCLTCDNITSRDEPFLDFPIEVQGDEETDIQEILKSYHQREMLNGSNKFYCDECCGLQEAERLVGLKQLPDTLTLHLKRFKYSEKQNCNIKLFNNIHYPLTLNVCSSINSKVCQKYELAGIVVHMGGGPQHGHYVSLCKHEKFGWLLFDDETVEAVKEETVLEFTGESPNMATAYVLFYKAMYSNAVEKNDRENMAKEQDDNIDNLIKYDDWLRTCNSGQKKKEELPIADDLDTAIDDSFVSNTPIKSSKKKSRMFSFRKS',\n",
       " 'YBL066C': 'MVKDNRDSDQDQDFSSAHMKRQPEQQQLQQHQFPSKKQRISHHDDSHQINHRPVTSCTHCRQHKIKCDASQNFPHPCSRCEKIGLHCEINPQFRPKKGSQLQLLRQDVDEIKSKLDTLLANDSVFVHLLQQIPMGNSLLNKLNLHPTPTPGTIIPNPDSSPSSGSPTSSAAQRDSKVSVQTYLSREPQLLQANQGSNTNKFKANNEASSHMTLRASSLAQDSKGLVATEPNKLPPLLNDSALPNNSKESLPPALQMAFYKNNSAGNTPNGPFSPIQKTYSPHTTSTTVTTTTNQPPFAATSHVATNNNADRTKTPVVATTTTMPLLPSPHANVDEFVLGDISISIEKANRLHHIFVTRYLPYFPIMYSNNATELYSQSQLLFWTVMLTACLSDPEPTMYCKLSSLIKQLAIETCWIRTPRSTHISQALLILCIWPLPNQKVLDDCSYRFVGLAKSLSYQLGLHRGEFISEFTRTQTSMPNAEKWRTRTWLGIFFAELCWASILGLPPTSQTDYLLEKALSCGDEESEEDNNDSIDNNNNDKRNKKDEPHVESKYKLPGSFRRLLSLANFQAKLSHIIGSSTSSPDGLLEPKYRAETLSILGKELDLLAKTLNFQSDDTVNIYFLYVKLTVCCFAFLPETPPTDQIPYVTEAYLTATKIVTLLNNLLETHQLIELPIYIRQAATFSALILFKLQLTPLLPDKYFDSARQSVVTIHRLYRNQLTAWATSVENDISRTASMLEKLNFVLIMHPEVFVEEDGIISRMRSHLTGSLFYDLVWCVHEARRREMDPEYNKQALEKAAKKRKFSSNGIYNGTSSTGGITDRKLYPLPLYNHISRDDFETVTKTTPSGTTVTTLVPTKNALKQAEKLAKTNNGDSDGSIMEINGIPLSMLGETGSVKFQSLFANTSNSNDYNNNRTLLDASNDISIPSNSIYPVASVPASNNNPQSTKVDYYSNGPSVIPDLSMKRSVSTPVNHFPASVPGLRNHPVGNLSNNVTLGIDHPIPREHSNLQNVTMNYNNQFSNANAIGRSQSSMSHSRTPIASKSNNMTDLHSVVSDPGSSKSTAYPPLSLFSKSNDINSNKTNQRFSTGTNTVTSSNFQTIDNENNVKTPGNKLTDFFQQQSAGWIEGNSSNDDFFGWFDMNMEQGF',\n",
       " 'YBL064C': 'MFSRICSAQLKRTAWTLPKQAHLQSQTIKTFATAPILCKQFKQSDQPRLRINSDAPNFDADTTVGKINFYDYLGDSWGVLFSHPADFTPVCTTEVSAFAKLKPEFDKRNVKLIGLSVEDVESHEKWIQDIKEIAKVKNVGFPIIGDTFRNVAFLYDMVDAEGFKNINDGSLKTVRSVFVIDPKKKIRLIFTYPSTVGRNTSEVLRVIDALQLTDKEGVVTPINWQPADDVIIPPSVSNDEAKAKFGQFNEIKPYLRFTKSK',\n",
       " 'YBL063W': 'MARSSLPNRRTAQFEANKRRTIAHAPSPSLSNGMHTLTPPTCNNGAATSDSNIHVYVRCRSRNKREIEEKSSVVISTLGPQGKEIILSNGSHQSYSSSKKTYQFDQVFGAESDQETVFNATAKNYIKEMLHGYNCTIFAYGQTGTGKTYTMSGDINILGDVQSTDNLLLGEHAGIIPRVLVDLFKELSSLNKEYSVKISFLELYNENLKDLLSDSEDDDPAVNDPKRQIRIFDNNNNNSSIMVKGMQEIFINSAHEGLNLLMQGSLKRKVAATKCNDLSSRSHTVFTITTNIVEQDSKDHGQNKNFVKIGKLNLVDLAGSENINRSGAENKRAQEAGLINKSLLTLGRVINALVDHSNHIPYRESKLTRLLQDSLGGMTKTCIIATISPAKISMEETASTLEYATRAKSIKNTPQVNQSLSKDTCLKDYIQEIEKLRNDLKNSRNKQGIFITQDQLDLYESNSILIDEQNLKIHNLREQIKKFKENYLNQLDINNLLQSEKEKLIAIIQNFNVDFSNFYSEIQKIHHTNLELMNEVIQQRDFSLENSQKQYNTNQNMQLKISQQVLQTLNTLQGSLNNYNSKCSEVIKGVTEELTRNVNTHKAKHDSTLKSLLNITTNLLMNQMNELVRSISTSLEIFQSDSTSHYRKDLNEIYQSHQQFLKNLQNDIKSCLDSIGSSILTSINEISQNCTTNLNSMNVLIENQQSGSSKLIKEQDLEIKKLKNDLINERRISNQFNQQLAEMKRYFQDHVSRTRSEFHDELNKCIDNLKDKQSKLDQDIWQKTASIFNETDIVVNKIHSDSIASLAHNAENTLKTVSQNNESFTNDLISLSRGMNMDISSKLRSLPINEFLNKISQTICETCGDDNTIASNPVLTSIKKFQNIICSDIALTNEKIMSLIDEIQSQIETISNENNINLIAINENFNSLCNFILTDYDENIMQISKTQDEVLSEHCEKLQSLKILGMDIFTAHSIEKPLHEHTRPEASVIKALPLLDYPKQFQIYRDAENKSKDDTSNSRTCIPNLSTNENFPLSQFSPKTPVPVPDQPLPKVLIPKSINSAKSNRSKTLPNTEGTGRESQNNLKRRFTTEPILKGEETENNDILQNKKLHQ',\n",
       " 'YBL061C': 'MASSPQVHPYKKHLMQSQHINFDNRGLQFQNSSLKVGQDFSDNKENRENRDNEDFSTADLPKRSANQPLINEHLRAASVPLLSNDIGNSQEEDFVPVPPPQLHLNNSNNTSLSSLGSTPTNSPSPGALRQTNSSTSLTKEQIKKRTRSVDLSHMYLLNGSSDTQLTATNESVADLSHQMISRYLGGKNNTSLVPRLKTIEMYRQNVKKSKDPEVLFQYAQYMLQTALTIESSNALVQDSDKEGNVSQSDLKLQFLKEAQSYLKKLSIKGYSDAQYLLADGYSSGAFGKIENKEAFVLFQAAAKHGHIESAYRASHCLEEGLGTTRDSRKSVNFLKFAASRNHPSAMYKLGLYSFYGRMGLPTDVNTKLNGVKWLSRAAARANELTAAAPYELAKIYHEGFLDVVIPDEKYAMELYIQAASLGHVPSATLLAQIYETGNDTVGQDTSLSVHYYTQAALKGDSVAMLGLCAWYLLGAEPAFEKDENEAFQWALRAANAGLPKAQFTLGYFYEHGKGCDRNMEYAWKWYEKAAGNEDKRAINKLRSRDGGLASIGKKQHKKNKSISTLNLFSTVDSQTSNVGSNSRVSSKSETFFTGNPKRDREPQGLQINMNSNTNRNGIKTGSDTSIRKSSSSAKGMSREVAEQSMAAKQEVSLSNMGSSNMIRKDFPAVKTESKKPTSLKNKKDKQGKKKKDCVIM',\n",
       " 'YBL060W': 'MCASLNEVKKNDTYGVSQKGYNDNFSESEGVLHGSKSMPTSMKNMLQSPTMVNMCDILQNKEAANDEKPVIPTTDTATAGTGTEDISSTQSEETDQNSHLIASEILEGTFKDVSYKEYANFLGNDNNNQVLTEFVKLLSPLPSSLLETLFNLSKSIYFIAEAQNIDRILECLSIEWIACHPNTHWKSGYKSCHIVLFSLLILNSDLHNNFQVDHKKIKFSMVAFINNTLRALREENEYEELKIYSREHLIIEELSEYYKTLNETPLPLCTESRTSINISDNQSSLKRFSTLGSREFSTSNLRSVNSNSTTLYSRDGQVSVREMSAKSNKNFHNNHPMDALYLKESFDDGLITENGSSWFMDDLILISKKSLPRKYSKRDKDQVAAPKMTSKRNKSFFGWLKPSKTTTLIEHTSRRTSLSYLNKDSEWERVKIQVKEGRIFIFKIKPDVKDIIQSSETDSATIDYFKDISSSYFAYSLLEAEAHVVQDNIIIGSGAMKSNVCNKNTKRKSGNFTVSFPENINGPKLVLEFQTRSVEEAHKFMDCINFWAGRISPVPLTQFEAVSNAEYGWSDKILTEHASLNLKNIVVSEWKPLLGLELLYEDAKDVEMVELKERLKELMNFTRQLGIWIDKHNEIKDKLVEIWSFDDNYFEAVMNNWNSRYLYMNNQYKKRLSYLKALQKAMGSVQF',\n",
       " 'YBL059C-A': 'MHPQLEAERFHSCLDFINALDKCHQKEYYKRIFGLCNNEKDALNKCLKEASLNNKKRAVIESRIKRADVEKRWKKIEEEEYGEDAILKTILDRQYAKKKQESDNDANSK',\n",
       " 'YBL059W': 'MLLDAQRFFNRSFSINVICELKHNVNTRRKFEIKDWPTIMLVSRNDKPKISSEEVTHFIDDYKKRRKTQMTRFFGITIFTLITCRIAMKKMITAKVPLNTFQANYASRTQTITHTQKSLAGSLLAATGMTLGIFGMGITGTCWSWDVSSFQELKQRLERRANNEFVVTNMPLDKRSQQVVDSLVKTHNSSLCK',\n",
       " 'YBL058W': 'MAEIPDETIQQFMALTNVSHNIAVQYLSEFGDLNEALNSYYASQTDDQKDRREEAHWNRQQEKALKQEAFSTNSSNKAINTEHVGGLCPKPGSSQGSNEYLKRKGSTSPEPTKGSSRSGSGNNSRFMSFSDMVRGQADDDDEDQPRNTFAGGETSGLEVTDPSDPNSLLKDLLEKARRGGQMGAENGFRDDEDHEMGANRFTGRGFRLGSTIDAADEVVEDNTSQSQRRPEKVTREITFWKEGFQVADGPLYRYDDPANSFYLSELNQGRAPLKLLDVQFGQEVEVNVYKKLDESYKAPTRKLGGFSGQGQRLGSPIPGESSPAEVPKNETPAAQEQPMPDNEPKQGDTSIQIRYANGKREVLHCNSTDTVKFLYEHVTSNANTDPSRNFTLNYAFPIKPISNDETTLKDADLLNSVVVQRWA',\n",
       " 'YBL057C': 'MEKMTVSSNYTIALWATFTAISFAVGYQLGTSNASSTKKSSATLLRSKEMKEGKLHNDTDEEESESEDESDEDEDIESTSLNDIPGEVRMALVIRQDLGMTKGKIAAQCCHAALSCFRHIATNPARASYNPIMTQRWLNAGQAKITLKCPDKFTMDELYAKAISLGVNAAVIHDAGRTQIAAGSATVLGLGPAPKAVLDQITGDLKLY',\n",
       " 'YBL056W': 'MGQILSNPIIDKEHHSGTDCLTAFGLCAMQGWRMSMEDAHIVEPNLLAESDEEHLAFYGIFDGHGGSSVAEFCGSKMISILKKQESFKSGMLEQCLIDTFLATDVELLKDEKLKDDHSGCTATVILVSQLKKLLICANSGDSRTVLSTGGNSKAMSFDHKPTLLSEKSRIVAADGFVEMDRVNGNLALSRAIGDFEFKSNTKLGPHEQVVTCVPDIICHNLNYDEDEFVILACDGIWDCLTSQECVDLVHYGISQGNMTLSDISSRIVDVCCSPTTEGSGIGCDNMSISIVALLKENESESQWFERMRSKNYNIQTSFVQRRKSIFDFHDFSDDDNEVFAITTKKLQDRLNRSKDNDDMEIDDLDTELGSSATPSKLSGEDRTGPIDLFSLEALLEAGIQIRQRPSSDSDGNTSYFHGASLSDMLASLSNAAAGETEPNDADDNDDNDGEENGKNENAKKGSKIEEIE',\n",
       " 'YBL055C': 'MWGILLKSSNKSCSRLWKPILTQYYSMTSTATDSPLKYYDIGLNLTDPMFHGIYNGKQYHPADYVKLLERAAQRHVKNALVTGSSIAESQSAIELVSSVKDLSPLKLYHTIGVHPCCVNEFADASQGDKASASIDNPSMDEAYNESLYAKVISNPSFAQGKLKELYDLMNQQAKPHDTSFRSIGEIGLDYDRFHYSSKEMQKVFFEEQLKISCLNDKLSSYPLFLHMRSACDDFVQILERFIAGFTDERDTFQLQKLGASSSSGFYKFHPDRKLVVHSFTGSAIDLQKLLNLSPNIFIGVNGCSLRTEENLAVVKQIPTERLLLETDAPWCEIKRTHASFQYLAKYQEVRDFEYPAFKSVKKNKLADKLNAEELYMVKGRNEPCNMEQVAIVVSEVKDVDLATLIDTTWKTTCKIFGE',\n",
       " 'YBL054W': 'MTLPKLSSVSVSSGHVSANSHGFSILSKHPHPNNLVHSHSLSHTNAKSHLPISSTSTKENSTNKEEAESLKKNNPSSWDPSDDIKLRHLKEIKNLGWKEIAHHFPNRTPNACQFRWRRLKSGNLKSNKTAVIDINKLFGVYATGDATPSAGTPSAEEAVKEEAVEDEDITAGSSAIEDSPPDFKPLVKPKYMDRKLITQRSTSTFSDHEPQHTKPRKLFVKPRSFSHSITTNTPNVKTAQQTNLSLYNTTSAKTNKAVNSNDYENIGLVPKIIIRSRRNSFIPSTQIPHSTTKTRKNSHSVISSRRSSFNMMHSRRSSFNSHAPTEPISRRASLVVSPYMSPRRLSTSQSVHYHPQHQYYLNPIASPNCKTDHANDKITHTRTFLDMQKFANKHPWSREDDEVLLNNTKDKQNHLSPLEISIVLPNNRSELEIQQRMDYLKRKGRVSGFHTNEGCKDEEEEDDIDPLHKENGINTPSQQSQNYGMLEAKHDNPKSSELSSMTSANDIRNEQDELPGINSIFKNIF',\n",
       " 'YBL052C': 'MSLTANDESPKPKKNALLKNLEIDDLIHSQFVRSDTNGHRTTRRLFNSDASISHRIRGSVRSDKGLNKIKKGLISQQSKLASENSSQNIVNRDNKMGAVSFPIIEPNIEVSEELKVRIKYDSIKFFNFERLISKSSVIAPLVNKNITSSGPLIGFQRRVNRLKQTWDLATENMEYPYSSDNTPFRDNDSWQWYVPYGGTIKKMKDFSTKRTLPTWEDKIKFLTFLENSKSATYINGNVSLCNHNETDQENEDRKKRKGKVPRIKNKVWFSQIEYIVLRNYEIKPWYTSPFPEHINQNKMVFICEFCLKYMTSRYTFYRHQLKCLTFKPPGNEIYRDGKLSVWEIDGRENVLYCQNLCLLAKCFINSKTLYYDVEPFIFYILTEREDTENHPYQNAAKFHFVGYFSKEKFNSNDYNLSCILTLPIYQRKGYGQFLMEFSYLLSRKESKFGTPEKPLSDLGLLTYRTFWKIKCAEVLLKLRDSARRRSNNKNEDTFQQVSLNDIAKLTGMIPTDVVFGLEQLQVLYRHKTRSLSSLDDFNYIIKIDSWNRIENIYKTWSSKNYPRVKYDKLLWEPIILGPSFGINGMMNLEPTALADEALTNETMAPVISNNTHIENYNNSRAHNKRRRRRRRSSEHKTSKLHVNNIIEPEVPATDFFEDTVSSLTEYMCDYKNTNNDRLIYQAEKRVLESIHDRKGIPRSKFSTETHWELCFTIKNSETPLGNHAARRNDTGISSLEQDEVENDVDTELYVGENAKEDEDEDEDFTLDDDIEDEQISEENDEEEDTYEEDSDDDEDGKRKGQEQDENDIESHIRKERVRKRRKITLIEDDEE',\n",
       " 'YBL051C': 'METSSFENAPPAAINDAQDNNINTETNDQETNQQSIETRDAIDKENGVQTETGENSAKNAEQNVSSTNLNNAPTNGALDDDVIPNAIVIKNIPFAIKKEQLLDIIEEMDLPLPYAFNYHFDNGIFRGLAFANFTTPEETTQVITSLNGKEISGRKLKVEYKKMLPQAERERIEREKREKRGQLEEQHRSSSNLSLDSLSKMSGSGNNNTSNNQLFSTLMNGINANSMMNSPMNNTINNNSSNNNNSGNIILNQPSLSAQHTSSSLYQTNVNNQAQMSTERFYAPLPSTSTLPLPPQQLDFNDPDTLEIYSQLLLFKDREKYYYELAYPMGISASHKRIINVLCSYLGLVEVYDPRFIIIRRKILDHANLQSHLQQQGQMTSAHPLQPNSTGGSMNRSQSYTSLLQAHAAAAANSISNQAVNNSSNSNTINSNNGNGNNVIINNNSASSTPKISSQGQFSMQPTLTSPKMNIHHSSQYNSADQPQQPQPQTQQNVQSAAQQQQSFLRQQATLTPSSRIPSGYSANHYQINSVNPLLRNSQISPPNSQIPINSQTLSQAQPPAQSQTQQRVPVAYQNASLSSQQLYNLNGPSSANSQSQLLPQHTNGSVHSNFSYQSYHDESMLSAHNLNSADLIYKSLSHSGLDDGLEQGLNRSLSGLDLQNQNKKNLW',\n",
       " 'YBL050W': 'MSDPVELLKRAEKKGVPSSGFMKLFSGSDSYKFEEAADLCVQAATIYRLRKELNLAGDSFLKAADYQKKAGNEDEAGNTYVEAYKCFKSGGNSVNAVDSLENAIQIFTHRGQFRRGANFKFELGEILENDLHDYAKAIDCYELAGEWYAQDQSVALSNKCFIKCADLKALDGQYIEASDIYSKLIKSSMGNRLSQWSLKDYFLKKGLCQLAATDAVAAARTLQEGQSEDPNFADSRESNFLKSLIDAVNEGDSEQLSEHCKEFDNFMRLDKWKITILNKIKESIQQQEDDLL',\n",
       " 'YBL049W': 'MGLRYSIYIENPLSSPSSSYKSINDPLFHSQHRSQKNVSFITYGCRHCKTHLSSSFQIISRDYRGRTGTAYLMNKVVNVVEGKVEQRRMLTGDYLVCDILCHWCKRNVGWKYLQSSNDDQQYKEGKFILELKNICKCT',\n",
       " 'YBL048W': 'MILFKNLVFLPSILIGYISIRVSLLVWVNWVLVWSSCFQVAFIFSLWYFILSIYTFFYSKKIKQIISYEPSYFVFSYRAIDLCPERVLLYFFCIFNNVVFPML',\n",
       " 'YBL047C': 'MASITFRTPLSSQEQAFYNQKFHQLDTEDLGVVTGEAVRPLFASSGLPGQLLSQVWATVDIDNKGFLNLNEFSAALRMIAQLQNAPNQPISAALYESTPTQLASFSINQNPAPMQSGSATGNTNNTDIPALSSNDIAKFSQLFDRTAKGAQTVAGDKAKDIFLKARLPNQTLGEIWALCDRDASGVLDKSEFIMAMYLIQLCMSHHPSMNTPPAVLPTQLWDSIRLEPVVVNQPNRTTPLSANSTGVSSLTRHSTISRLSTGAFSNAASDWSLSFEKKQQFDAIFDSLDKQHAGSLSSAVLVPFFLSSRLNQETLATIWDLADIHNNAEFTKLEFAIAMFLIQKKNAGVELPDVIPNELLQSPALGLYPPNPLPQQQSAPQIAIPSRASKPSLQDMPHQVSAPAVNTQPTVPQVLPQNSNNGSLNDLLALNPSFSSPSPTKAQTVVQNNTNNSFSYDNNNGQATLQQQQPQQPPPLTHSSSGLKKFTPTSNFGQSIIKEEPEEQEQLRESSDTFSAQPPPVPKHASSPVKRTASTTLPQVPNFSVFSMPAGAATSAATGAAVGAAVGAAALGASAFSRSSNNAFKNQDLFADGEASAQLSNATTEMANLSNQVNSLSKQASITNDKKSRATQELKRVTEMKNSIQIKLNNLRSTHDQNVKQTEQLEAQVLQVNKENETLAQQLAVSEANYHAAESKLNELTTDLQESQTKNAELKEQITNLNSMTASLQSQLNEKQQQVKQERSMVDVNSKQLELNQVTVANLQKEIDGLGEKISVYLTKQKELNDYQKTVEEQHAQLQAKYQDLSNKDTDLTDREKQLEERNRQIEEQENLYHQHVSKLQEMFDDLSQRKASFEKADQELKERNIEYANNVRELSERQMNLAMGQLPEDAKDIIAKSASNTDTTTKEATSRGNVHEDTVSKFVETTVENSNLNVNRVKDDEEKTERTESDVFDRDVPTLGSQSDSENANTNNGTQSGNETANPNLTETLSDRFDGDLNEYGIPRSQSLTSSVANNAPQSVRDDVELPETLEERDTINNTANRDNTGNLSHIPGEWEATPATASTDVLSNETTEVIEDGSTTKRANSNEDGESVSSIQESPKISAQPKAKTINEEFPPIQELHIDESDSSSSDDDEFEDTREIPSATVKTLQTPYNAQPTSSLEIHTEQVIKYPAPGTSPSHNEGNSKKASTNSILPVKDEFDDEFAGLEQAAVEEDNGADSESEFENVANAGSMEQFETIDHKDLDDELQMNAFTGTLTSSSNPTIPKPQVQQQSTSDPAQVSNDEWDEIFAGFGNSKAEPTKVATPSIPQQPIPLKNDPIVDASLSKGPIVNRGVATTPKSLAVEELSGMGFTEEEAHNALEKCNWDLEAATNFLLDSA',\n",
       " 'YBL046W': 'MSSTMLDDVDNNMMGIKSISLYELLSDVVKQGDKTRLVTAGPEQVLPDLIRHITETIPFDLFINLKNEMNDARNLVTRLNWLGKFLNDNFLQNHTFPFTILRICELCYDPFKYYKINELEKFVNALEKCCMVTSSWQVFDKTHGEKQEDDKEKDINFIKNQEDVSLMKIPWMTENNTRELAPFIREIDSIMSVNLGYDDEDEEEGFFDGDEDREMGNKSKRNVLLKDENFMVEEYYEDDCGINDDNSDNKGQNCQSDVTKNNSDDEDDDDNDDDYREDGADEDDEDDDHMGSTDDDEDDDEDRQAGESTKVQNFDKKNETPRKRKPTDLDNFEYDESPSFTNMDLTTPKKYKHTATGRFSIIESPSSSLLNAMDGSNEISSSQEEEKEDAHENHEGRSEGLLPGDELVSPSMSSSQEDKMVAIAGITYRENISSPLGKKSR',\n",
       " 'YBL045C': 'MLRTVTSKTVSNQFKRSLATAVATPKAEVTQLSNGIVVATEHNPSAHTASVGVVFGSGAANENPYNNGVSNLWKNIFLSKENSAVAAKEGLALSSNISRDFQSYIVSSLPGSTDKSLDFLNQSFIQQKANLLSSSNFEATKKSVLKQVQDFEENDHPNRVLEHLHSTAFQNTPLSLPTRGTLESLENLVVADLESFANNHFLNSNAVVVGTGNIKHEDLVNSIESKNLSLQTGTKPVLKKKAAFLGSEVRLRDDTLPKAWISLAVEGEPVNSPNYFVAKLAAQIFGSYNAFEPASRLQGIKLLDNIQEYQLCDNFNHFSLSYKDSGLWGFSTATRNVTMIDDLIHFTLKQWNRLTISVTDTEVERAKSLLKLQLGQLYESGNPVNDANLLGAEVLIKGSKLSLGEAFKKIDAITVKDVKAWAGKRLWDQDIAIAGTGQIEGLLDYMRIRSDMSMMRW',\n",
       " 'YBL044W': 'MGEMLERQKKRLPSKAKYLKYTASITETGNHEADSSVIFRPHHSDVTCSNARRAESRTLPQICSCILLDHGRRTRPEVRTGMVSLHGSFKGFPCFGIRRGISHVLPGQKLRGSCDNWKKRQN',\n",
       " 'YBL043W': 'MNSTTPSIQDQYILASKVRSKLAKCVSVTTKNKDYNLRVLVGHANLLDKITENVETHNAATNALAGDPFSKGPENLSIEHIELSNANASKNDVGKEENAEKTIESEDYCDFYSSDEDPDADTLSSTDSEDDDDYEDYDFEYDYSGGDYNKKIDMYFSFHTAPNYQYLTHTNSHSEQTDELAESTPRYNALPATASTTEEEQDTETLDAVSLHSSAPIFRVLSRRVNGQEDDSENESSSDVDDGSVPLTRFHSCPITA',\n",
       " 'YBL042C': 'MPVSDSGFDNSSKTMKDDTIPTEDYEEITKESEMGDATKITSKIDANVIEKKDTDSENNITIAQDDEKVSWLQRVVEFFEVKNDSTDLADHKPENPIRTFKDLQESLRSTYLYNTDLRPVEAKRRTWTWKQYIFFWISGSFNVNTWQISATGLQLGLNWWQTWICIWVGYTFVAFFLILGSKVGNNYHISFPISSRVSFGIYFSIWIVINRVVMACVWNSTLAYIGSQCVQLMLKAIFGTNLNTRIKDTIKNPNLTNFEFMCFMVFWVACLPFLWFPPDKLRHIFALKSAITPFAAFGFLIWTLCKAKGHLALGSLNDNGGAISKTVLAWSVIRAIMSALDNFSTLILNAPDFTRFGKTYKSSVYSQLIALPVCYAIISLIGILSVSAAYTLYGVNYWSPLDILNRYLDNYTSGNRAGVFLISFIFAFDQLGANLSGNSIPAGTDLTALLPKFINIRRGSYICALISLAICPWDLLSSSSKFTTALAAYAVFLSAIAGVISADYFIVRKGYVNIFHCYTDKPGSYYMYNKYGTNWRAVVAYIFGIAPNFAGFLGSVGVSVPIGAMKVYYLNYFVGYLLAALSYCILVYFYPIKGIPGDAKITDRKWLEEWVEVEEFGTEREAFEEYGGVSTGYEKIRYI',\n",
       " 'YBL041W': 'MATIASEYSSEASNTPIEHQFNPYGDNGGTILGIAGEDFAVLAGDTRNITDYSINSRYEPKVFDCGDNIVMSANGFAADGDALVKRFKNSVKWYHFDHNDKKLSINSAARNIQHLLYGKRFFPYYVHTIIAGLDEDGKGAVYSFDPVGSYEREQCRAGGAAASLIMPFLDNQVNFKNQYEPGTNGKVKKPLKYLSVEEVIKLVRDSFTSATERHIQVGDGLEILIVTKDGVRKEFYELKRD',\n",
       " 'YBL040C': 'MNPFRILGDLSHLTSILILIHNIKTTRYIEGISFKTQTLYALVFITRYLDLLTFHWVSLYNALMKIFFIVSTAYIVVLLQGSKRTNTIAYNEMLMHDTFKIQHLLIGSALMSVFFHHKFTFLELAWSFSVWLESVAILPQLYMLSKGGKTRSLTVHYIFAMGLYRALYIPNWIWRYSTEDKKLDKIAFFAGLLQTLLYSDFFYIYYTKVIRGKGFKLPK',\n",
       " 'YBL039W-B': 'MGFFNNNPVIEFFHRITRKPSTIAMWVFAGLICSSTFYLMFMSSPTIDFNSKSKKKNDK',\n",
       " 'YBL039C': 'MKYVVVSGGVISGIGKGVLASSTGMLMKTLGLKVTSIKIDPYMNIDAGTMSPLEHGECFVLDDGGETDLDLGNYERYLGVTLTKDHNITTGKIYSHVIAKERKGDYLGKTVQIVPHLTNAIQDWIERVAKIPVDDTGMEPDVCIIELGGTVGDIESAPFVEALRQFQFKVGKENFALIHVSLVPVIHGEQKTKPTQAAIKGLRSLGLVPDMIACRCSETLDKPTIDKIAMFCHVGPEQVVNVHDVNSTYHVPLLLLEQKMIDYLHARLKLDEISLTEEEKQRGLELLSKWKATTGNFDESMETVKIALVGKYTNLKDSYLSVIKALEHSSMKCRRKLDIKWVEATDLEPEAQESNKTKFHEAWNMVSTADGILIPGGFGVRGTEGMVLAARWARENHIPFLGVCLGLQIATIEFTRSVLGRKDSHSAEFYPDIDEKNHVVVFMPEIDKETMGGSMRLGLRPTFFQNETEWSQIKKLYGDVSEVHERHRHRYEINPKMVDELENNGLIFVGKDDTGKRCEILELKNHPYYIATQYHPEYTSKVLDPSKPFLGLVAASAGILQDVIEGKYDLEAGENKFNF',\n",
       " 'YBL038W': 'MFPYLTRMNLSIKMGGLTLKESSPNAFLNNTTIARRFKHEYAPRFKIVQKKQKGRVPVRTGGSIKGSTLQFGKYGLRLKSEGIRISAQQLKEADNAIMRYVRPLNNGHLWRRLCTNVAVCIKGNETRMGKGKGGFDHWMVRVPTGKILFEINGDDLHEKVAREAFRKAGTKLPGVYEFVSLDSLVRVGLHSFKNPKDDPVKNFYDENAKKPSKKYLNILKSQEPQYKLFRGR',\n",
       " 'YBL037W': 'MDRKKTLINSSVSNNNSTIKGLQLFIADLRSAQQAQEQEKRIQSEIVKIKQHFDAAKKKQGNHDRLGGYQRKKYVAKLAYIYITSNTTKLNEILFGLEQTVELLKSSIFSEKFIGYMTLELLYERSEVVAKVNDEVNYQLMKDLSSSDDNFVMLALNFVGVVGELTNRLAYNDDITTGVFKILRSPTSSIYLKKKSALSFLALLKSNHSILTEDLQRKQLWIQRILSLLDDTENYRLTLATIPLIEFIAKYIDPSYCTRLLPQLTEILYNCVVVGTSRSSDNQFPLEYTFANMPNPWLITKVVSLLSILIASPTERDSGSLLQTNNIDNELLNKLRKCVSVAIELGTRQAQDPMERIVQNTVLFSLINFASKLDPSDEAISNSVTALCSLLTSKEINIRYLTLDSLVKLCSSSGKPAIDAVRYKNLDMIFHLLNTERDSSIVRKVVDLLYTFTDVENVKIIVDGLLQYILSPKNLAEPQIKSDIAVKIAILTEKYATDINWFVIISLQLLSLTSNTTINDDEIWQRLCQIVVNNPSLHRITCERLVDYLCKKQASEAIIKAAAFLLGEYSSLITDRISSANLFTLFAEKYFSAPNVAKAMILTTMIKLYKTSPEIGSNVIKFFQLELNSLDIELQTRSFEYLNIIQLAKVNGNTDILQILFEPMPPFNSKSNPLLKRLGSLPASAGSTTLINTPSEASSSTPDLLSKRANSSRSIMVPMPPPSRRNTIDDVNSKISSSEDFSGKDSYYSRQILAPNWREGFTRMISHKQGVLFTSSLMKVFYRITTPDAQQPYVFHISLAFINLTEWEITGLSTQIIPSKTQGNPEYLIMNINTPSTATIGPHKRAEQSYEVSIRKPFDVEDSPILAIHFKCGGSTNTINLKTAIGMTTTLISSDVNPSMHLNLAQFISRWKTLSDALGKEGEYQKSGIKLNKDFRKVETISLEDGLLLLTQTVKRLGFDIVDQTSVRSTLFVSGIIHTKSEGNFGCLMKIQYQVNGTVNVTCKTTTAGPLAKYIVECIKNVLTK',\n",
       " 'YBL036C': 'MSTGITYDEDRKTQLIAQYESVREVVNAEAKNVHVNENASKILLLVVSKLKPASDIQILYDHGVREFGENYVQELIEKAKLLPDDIKWHFIGGLQTNKCKDLAKVPNLYSVETIDSLKKAKKLNESRAKFQPDCNPILCNVQINTSHEDQKSGLNNEAEIFEVIDFFLSEECKYIKLNGLMTIGSWNVSHEDSKENRDFATLVEWKKKIDAKFGTSLKLSMGMSADFREAIRQGTAEVRIGTDIFGARPPKNEARII',\n",
       " 'YBL035C': 'MSGSIDVITHFGPDADKPEIITALENLTKLHALSVEDLYIKWEQFSNQRRQTHTDLTSKNIDEFKQFLQLQMEKRANQISSSSKVNTSTKKPVIKKSLNSSPLFGLSIPKTPTLKKRKLHGPFSLSDSKQTYNVGSEAETNEKGNSSLKLEFTPGMAEDAVGDSAPLSHAKSSDAKTPGSSTFQTPTTNTPTTSRQNVPAGEILDSLNPENIEISSGNPNVGLLSTEEPSYNQVKVEPFYDAKKYKFRTMRQNLQEASDVLDDQIESFTKIIQNHYKLSPNDFADPTIQSQSEIYAVGRIVPDSPTYDKFLNPESLSLETSRMGGVGRRVRLDLSQVNELSFFLGQIVAFKGKNANGDYFTVNSILPLPYPNSPVSTSQELQEFQANLEGSSLKVIVTCGPYFANDNFSLELLQEFIDSINNEVKPHVLIMFGPFIDITHPLIASGKLPNFPQFKTQPKTLDELFLKLFTPILKTISPHIQTVLIPSTKDAISNHAAYPQASLIRKALQLPKRNFKCMANPSSFQINEIYFGCSNVDTFKDLKEVIKGGTTSSRYRLDRVSEHILQQRRYYPIFPGSIRTRIKPKDVSTKKETNDMESKEEKVYEHISGADLDVSYLGLTEFVGGFSPDIMIIPSELQHFARVVQNVVVINPGRFIRATGNRGSYAQITVQCPDLEDGKLTLVEGEEPVYLHNVWKRARVDLIAS',\n",
       " 'YBL034C': 'MSSFNNETNNNSNTNTHPDDSFPLYTVFKDESVPIEEKMALLTRFKGHVKKELVNESSIQAYFAALLFISGHYAYRSYPRLIFLSHSSLCYLIKRVAMQSPVQFNDTLVEQLLNHLIFELPNEKKFWLASIKAIEAIYLVNPSKIQAILANFLRRPSENQNGDYLNRIKSTLLTIDELIQINEKNNSNHLQLLRFFMLSFTNLLNNNLNEHANDDNNNVIIELIFDIMYKYLKMDDENSQDLIDGFINDLEVEKFKQKFISLAKSQDQHGSQEDKSTLFDEEYEFQLLLAEAKLPQLSNNLSSKDPAMKKNYESLNQLQQDLENLLAPFQSVKETEQNWKLRQSNIIELDNIISGNIPKDNPEEFVTVIKEVQLIELISRATSSLRTTLSLTALLFLKRLIHILNDQLPLSILDQIFVIFKNLLSSTKKISSQTAFHCLITLIIDINHFHNKLFQLSFLLINEKTVTPRFCSAILLRSFLIKFNDSNLSLNNSNTTSPTSKLENNIIYIEEWLKKGISDSQTTVREAMRLTFWYFYKCYPTNAKRLLSSSFSPQLKKATELAIPAHLNINYQVSRVSSTASASSATSRLYSHSSNNSSRKTSLLEQKRNYPSYAQPTQSSSTSLLNAPAVTAGGSVIASKLSNKLKTNLRSTSEYSSKENEKRARHHDSMNSVSNSNTKDNNNVTKRKVSAPPSSTAATKVSENYTNFDDFPSNQIDLTDELSNSYSNPLIKKYMDKNDVSMSSSPISLKGSNKLGEYETLYKKFNDASFPAQIKDALQYLQKELLLTSQQSSSAPKFEFPMIMKKLRQIMIKSPNDFKPFLSIEKFTNGVPLNYLIELYSINSFDYAEILKNRMNPEKPYELTNLIITIADLFNFLNANNCPNDFKLYYMKYKTTFFNYNFKLLLEIFRNLNIKHDNTLRSGTNDLMPKISMILFQIYGKEFDYTCYFNLIFEIYKFDNNRFNKLLADFDIVSTKMKICHELEKKDANFKVEDIISRESSVSFTPIDNKKSEGDEESDDAVDENDVKKCMEMTMINPFKNLETDKTLELKNNVGKRTSSTDSVVIHDDNDKDKKLSEMTKIVSVYQLDQPNPAKEEDDIDMENSQKSDLNLSEIFQNSGENTERKLKDDNEPTVKFSTDPPKIINEPEKLIGNGNENEKPDLETMSPIKINGDENMGQKQRITVKRERDVALTEQDINSKKMKLVNNKKSEKMHLLIMDNFPRDSLTVYEISHLLMVDSNGNTLMDFDVYFNHMSKAINRIKSGSFTMKHINYLIEPLITCFQNQKMTDWLTNENGFDELLDVAIMLLKSTDDTPSIPSKISSKSIILVHCLLVWKKFLNTLSENADDDGVSVRMCFEEVWEQILLMLNKFSDYGNEIYKLAQEFRDSLMLSHFFKKHSATRILSMLVTEIQPDTAGVKETFLIETLWKMLQSPTICQQFKKSNISEIIQTMSYFIMGTDNTSWNFTSAVVLARCLRVLQTTPDYTEQETERLFDCLPKNVFKMIMFIASNE',\n",
       " 'YBL033C': 'MTIDNYDNSKQDSSKYEVSGTGDGRNGDGGLPLVQCVARARIPTTQGPDIFLHLYSNNRDNKEHLAIVFGEDIRSRSLFRRRQCETQQDRMIRGAYIGKLYPGRTVADEDDRLGLALEFDDSTGELLASKATTWDAHNDTLVRIHSECYTGENAWSARCDCGEQFDRAGRLIACDHEPTSNIKGGNGHGVIVYLRQEGRGIGLGEKLKAYNLQDLGADTVQANLMLKHPVDARDFSLGKAILLDLGIGNVRLLTNNPEKIKQVDHAPYLKCVERVPMVPIHWTNSSEGIDSKEIEGYLRTKIERMGHLLTEPLKLHTNPQPTETSEAQNQNRMNSALSSTSTLAI',\n",
       " 'YBL032W': 'MSQFFEAATPVAIPTNNTNGGSSDAGSAATGGAPVVGTTAQPTINHRLLLSLKEAAKIIGTKGSTISRIRAANAVKIGISEKVPGCSDRILSCAGNVINVANAIGDIVDVLNKRNPENEDAAEGEAEEHYYFHFLNHILPAPSKDEIRDLQQLEDIGYVRLIVANSHISSIIGKAGATIKSLINKHGVKIVASKDFLPASDERIIEIQGFPGSITNVLIEISEIILSDVDVRFSTERSYFPHLKKSSGEPTSPSTSSNTRIELKIPELYVGAIIGRGMNRIKNLKTFTKTNIVVERKDDDDKDENFRKFIITSKFPKNVKLAESMLLKNLNTEIEKRENYKRKLEAAEGDATVVTERSDSASFLEEKEEPQENHDNKEEQS',\n",
       " 'YBL031W': 'MNDKLQEEHNEKDTTSQINGFTPPHMSIDFHSNNNSNIIETIGVSKRLGNSVLSELDSRASSKFEFLKDQSEQQYNGDKNNEPKSGSYNINEFFQAKHDSQFGQMESLDTHYTLLHTPKRKSQHAIPQDRSDSMKRSRPSRSIPYTTPVVNDITRRIRRLKLRNSLVNGNDIVARARSMQANSNINSIKNTPLSKPKPFMHKPNFLMPTTNSLNKINSAHRNTSSSSTASSIPRSKVHRSISIRDLHAKTKPVERTPVAQGTNSQLKNSVSVFDRLYKQTTFSRSTSMNNLSSGTSAKSKEHTNVKTRLVKSKTSGSLSSNLKQSTATGTKSDRPIWR',\n",
       " 'YBL030C': 'MSSNAQVKTPLPPAPAPKKESNFLIDFLMGGVSAAVAKTAASPIERVKLLIQNQDEMLKQGTLDRKYAGILDCFKRTATQEGVISFWRGNTANVIRYFPTQALNFAFKDKIKAMFGFKKEEGYAKWFAGNLASGGAAGALSLLFVYSLDYARTRLAADSKSSKKGGARQFNGLIDVYKKTLKSDGVAGLYRGFLPSVVGIVVYRGLYFGMYDSLKPLLLTGSLEGSFLASFLLGWVVTTGASTCSYPLDTVRRRMMMTSGQAVKYDGAFDCLRKIVAAEGVGSLFKGCGANILRGVAGAGVISMYDQLQMILFGKKFK',\n",
       " 'YBL029C-A': 'MSFIPIVCGMKSFDSSYDTVPGHQNLYCPNCHNYSVGPIKRKEFFTIWFIPLVPVFWGKQLHCPICNWRQDFKNDEQLNKVIQEQQNLRQKQPN',\n",
       " 'YBL029W': 'MCANIPEFDSFYENENINYNLESFAPLNCDVNSPFLPINNNDINVNAYGDENLTYSNFLLSYNDKLATTTAKNNSINNSNSNNNSNNNKNNNNNHNNNNLLGNDISQMAFLLDYPSTLNEPQFAVNCKDIYRKDISTPSSLVSSLPPAKFSLSLSNSPSPPPPSSSSLKHGEAIISNTSESSDIFADPNSFEKDTMPLTQELTLENLNNQLNYPDFTINAIEQDPAPSSFSSSSSSSESTVSSSRKRKPCHDSYTHSSPSSSESKKISDSRLSAEGLAKVLNLESPEEALKRERFILGIFQNELNYPLGYKTWIRDTTKEYRTKLINQLHERVKVKYPEYNQSILETIIRRGTYYMMQSRLRRERRMKLKERKRTT',\n",
       " 'YBL028C': 'MAKSLRASSHLNAKSVKRRGVFQKAVDAREQRISDKLKEDLLKQKLEDLKKKEEQGIDMDVDEKKSNEEAPRKKISTSGWRDGRHHTYKKAKLMKQSKKKTSFTRF',\n",
       " 'YBL027W': 'MANLRTQKRLAASVVGVGKRKVWLDPNETSEIAQANSRNAIRKLVKNGTIVKKAVTVHSKSRTRAHAQSKREGRHSGYGKRKGTREARLPSQVVWIRRLRVLRRLLAKYRDAGKIDKHLYHVLYKESKGNAFKHKRALVEHIIQAKADAQREKALNEEAEARRLKNRAARDRRAQRVAEKRDALLKEDA',\n",
       " 'YBL026W': 'MLFFSFFKTLVDQEVVVELKNDIEIKGTLQSVDQFLNLKLDNISCTDEKKYPHLGSVRNIFIRGSTVRYVYLNKNMVDTNLLQDATRREVMTERK',\n",
       " 'YBL025W': 'MDRNVYEACSNIIKEFGTHVVSADEVLAEKIDNAVPIPFKTREEIDADVEKDRNEGVFEGNIIPDIDLRVVHYYATQLCLNKYPHLINAFDETSLITLGLLIEKWVKDYLTSIQTEQGRQSKVIGKGPCEFISKHIDYRHAPGNI',\n",
       " 'YBL024W': 'MARRKNFKKGNKKTFGARDDSRAQKNWSELVKENEKWEKYYKTLALFPEDQWEEFKKTCQAPLPLTFRITGSRKHAGEVLNLFKERHLPNLTNVEFEGEKIKAPVELPWYPDHLAWQLDVPKTVIRKNEQFAKTQRFLVVENAVGNISRQEAVSMIPPIVLEVKPHHTVLDMCAAPGSKTAQLIEALHKDTDEPSGFVVANDADARRSHMLVHQLKRLNSANLMVVNHDAQFFPRIRLHGNSNNKNDVLKFDRILCDVPCSGDGTMRKNVNVWKDWNTQAGLGLHAVQLNILNRGLHLLKNNGRLVYSTCSLNPIENEAVVAEALRKWGDKIRLVNCDDKLPGLIRSKGVSKWPVYDRNLTEKTKGDEGTLDSFFSPSEEEASKFNLQNCMRVYPHQQNTGGFFITVFEKVEDSTEAATEKLSSETPALESEGPQTKKIKVEEVQKKERLPRDANEEPFVFVDPQHEALKVCWDFYGIDNIFDRNTCLVRNATGEPTRVVYTVCPALKDVIQANDDRLKIIYSGVKLFVSQRSDIECSWRIQSESLPIMKHHMKSNRIVEANLEMLKHLLIESFPNFDDIRSKNIDNDFVEKMTKLSSGCAFIDVSRNDPAKENLFLPVWKGNKCINLMVCKEDTHELLYRIFGIDANAKATPSAEEKEKEKETTESPAETTTGTSTEAPSAAN',\n",
       " 'YBL023C': 'MSDNRRRRREEDDSDSENELPPSSPQQHFRGGMNPVSSPIGSPDMINPEGDDNEVDDVPDIDEVEEQMNEVDLMDDNMYEDYAADHNRDRYDPDQVDDREQQELSLSERRRIDAQLNERDRLLRNVAYIDDEDEEQEGAAQLDEMGLPVQRRRRRRQYEDLENSDDDLLSDMDIDPLREELTLESLSNVKANSYSEWITQPNVSRTIARELKSFLLEYTDETGRSVYGARIRTLGEMNSESLEVNYRHLAESKAILALFLAKCPEEMLKIFDLVAMEATELHYPDYARIHSEIHVRISDFPTIYSLRELRESNLSSLVRVTGVVTRRTGVFPQLKYVKFNCLKCGSILGPFFQDSNEEIRISFCTNCKSKGPFRVNGEKTVYRNYQRVTLQEAPGTVPPGRLPRHREVILLADLVDVSKPGEEVEVTGIYKNNYDGNLNAKNGFPVFATIIEANSIKRREGNTANEGEEGLDVFSWTEEEEREFRKISRDRGIIDKIISSMAPSIYGHRDIKTAVACSLFGGVPKNVNGKHSIRGDINVLLLGDPGTAKSQILKYVEKTAHRAVFATGQGASAVGLTASVRKDPITKEWTLEGGALVLADKGVCLIDEFDKMNDQDRTSIHEAMEQQSISISKAGIVTTLQARCSIIAAANPNGGRYNSTLPLAQNVSLTEPILSRFDILCVVRDLVDEEADERLATFVVDSHVRSHPENDEDREGEELKNNGESAIEQGEDEINEQLNARQRRLQRQRKKEEEISPIPQELLMKYIHYARTKIYPKLHQMDMDKVSRVYADLRRESISTGSFPITVRHLESILRIAESFAKMRLSEFVSSYDLDRAIKVVVDSFVDAQKVSVRRQLRRSFAIYTLGH',\n",
       " 'YBL022C': 'MLRTRTTKTLSTVARTTRAIQYYRSIAKTAAVSQRRFASTLTVRDVENIKPSHIIKSPTWQEFQHQLKDPRYMEHFAQLDAQFARHFMATNSGKSILAKDDSTSQKKDEDVKIVPDEKDTDNDVEPTRDDEIVNKDQEGEASKNSRSSASGGGQSSSSRSDSGDGSSKQKPPKDVPEVYPQMLALPIARRPLFPGFYKAVVISDERVMKAIKEMLDRQQPYIGAFMLKNSEEDTDVITDKNDVYDVGVLAQITSAFPSKDEKTGTETMTALLYPHRRIKIDELFPPNEEKEKSKEQAKDTDTETTVVEDANNPEDQESTSPATPKLEDIVVERIPDSELQHHKRVEATEEESEELDDIQEGEDINPTEFLKNYNVSLVNVLNLEDEPFDRKSPVINALTSEILKVFKEISQLNTMFREQIATFSASIQSATTNIFEEPARLADFAAAVSAGEEDELQDILSSLNIEHRLEKSLLVLKKELMNAELQNKISKDVETKIQKRQREYYLMEQLKGIKRELGIDDGRDKLIDTYKERIKSLKLPDSVQKIFDDEITKLSTLETSMSEFGVIRNYLDWLTSIPWGKHSKEQYSIPRAKKILDEDHYGMVDVKDRILEFIAVGKLLGKVDGKIICFVGPPGVGKTSIGKSIARALNRKFFRFSVGGMTDVAEIKGHRRTYIGALPGRVVQALKKCQTQNPLILIDEIDKIGHGGIHGDPSAALLEVLDPEQNNSFLDNYLDIPIDLSKVLFVCTANSLETIPRPLLDRMEVIELTGYVAEDKVKIAEQYLVPSAKKSAGLENSHVDMTEDAITALMKYYCRESGVRNLKKHIEKIYRKAALQVVKKLSIEDSPTSSADSKPKESVSSEEKAENNAKSSSEKTKDNNSEKTSDDIEALKTSEKINVSISQKNLKDYVGPPVYTTDRLYETTPPGVVMGLAWTNMGGCSLYVESVLEQPLHNCKHPTFERTGQLGDVMKESSRLAYSFAKMYLAQKFPENRFFEKASIHLHCPEGATPKDGPSAGVTMATSFLSLALNKSIDPTVAMTGELTLTGKVLRIGGLREKAVAAKRSGAKTIIFPKDNLNDWEELPDNVKEGLEPLAADWYNDIFQKLFKDVNTKEGNSVWKAEFEILDAKKEKD',\n",
       " 'YBL021C': 'MNTNESEHVSTSPEDTQENGGNASSSGSLQQISTLREQDRWLPINNVARLMKNTLPPSAKVSKDAKECMQECVSELISFVTSEASDRCAADKRKTINGEDILISLHALGFENYAEVLKIYLAKYRQQQALKNQLMYEQDDEEVP',\n",
       " 'YBL020W': 'MAKKNSQLPSTSEQILERSTTGATFLMMGQLFTKLVTFILNNLLIRFLSPRIFGITAFLEFIQGTVLFFSRDAIRLSTLRISDSGNGIIDDDDEEEYQETHYKSKVLQTAVNFAYIPFWIGFPLSIGLIAWQYRNINAYFITLPFFRWSIFLIWLSIIVELLSEPFFIVNQFMLNYAARSRFESIAVTTGCIVNFIVVYAVQQSRYPMGVVTSDIDKEGIAILAFALGKLAHSITLLACYYWDYLKNFKPKKLFSTRLTKIKTRENNELKKGYPKSTSYFFQNDILQHFKKVYFQLCFKHLLTEGDKLIINSLCTVEEQGIYALLSNYGSLLTRLLFAPIEESLRLFLARLLSSHNPKNLKLSIEVLVNLTRFYIYLSLMIIVFGPANSSFLLQFLIGSKWSTTSVLDTIRVYCFYIPFLSLNGIFEAFFQSVATGDQILKHSYFMMAFSGIFLLNSWLLIEKLKLSIEGLILSNIINMVLRILYCGVFLNKFHRELFTDSSFFFNFKDFKTVIIAGSTICLLDWWFIGYVKNLQQFVVNVLFAMGLLALILVKERQTIQSFINKRAVSNSKDV',\n",
       " 'YBL019W': 'MSSSENTLLDGKSENTIRFLTFNVNGIRTFFHYQPFSQMNQSLRSVFDFFRADIITFQELKTEKLSISKWGRVDGFYSFISIPQTRKGYSGVGCWIRIPEKNHPLYHALQVVKAEEGITGYLTIKNGKHSAISYRNDVNQGIGGYDSLDPDLDEKSALELDSEGRCVMVELACGIVIISVYCPANSNSSEEGEMFRLRFLKVLLRRVRNLDKIGKKIVLMGDVNVCRDLIDSADTLEQFSIPITDPMGGTKLEAQYRDKAIQFIINPDTPHRRIFNQILADSLLPDASKRGILIDTTRLIQTRNRLKMYTVWNMLKNLRPSNYGSRIDFILVSLKLERCIKAADILPDILGSDHCPVYSDLDILDDRIEPGTTQVPIPKFEARYKYNLRNHNVLEMFAKKDTNKESNKQKYCVSKVMNTKKNSNIKNKSLDSFFQKVNGEKDDRIKESSEIPQQAKKRISTPKLNFKDVFGKPPLCRHGEESMLKTSKTSANPGRKFWICKRSRGDSNNTESSCGFFQWV',\n",
       " 'YBL018C': 'MGKKTFREWQYFKLSITSFDQDVDDAHAIDQMTWRQWLNNALKRSYGIFGEGVEYSFLHVDDKLAYIRVNHADKDTFSSSISTYISTDELVGSPLTVSILQESSSLRLLEVTDDDRLWLKKVMEEEEQDCKCI',\n",
       " 'YBL017C': 'MILLHFVYSLWALLLIPLTNAEEFTPKVTKTIAQDSFDILSFDDSNTLIRKQDTSVTISFDDGETWEKVEGIEGEITWIYIDPFNRHDRAVATAMNGSYLYITNDQGKSWERITLPDSGESISPRECYIETHPLNKNYFLAKCNYCEKTEVNNDNEENSGDEEGQFEIFNITRCTDKVFASNDGGKSFSEIKSSLERNENSPISISDCGFAKTSKDSDLESSDTSIICLFQNMQLIMDEFSSPYTESKLVLTTDWGKSLKEFDQFKDKVVNGYRILKSHMVVLTQGDRYNDMSSMDVWVSNDLSNFKMAYMPTQLRHSMQGEIYEDAMGRIILPMSRERSDQEEDKGIVSEILISDSQGLKFSPIPWTANEVFGYINFYQPTYLKGTMIASLYPLSRRRNRKGKAKGVKSKGVTKISVDNGLTWTMLKVVDPDNADSFDCDITDFENCSLQNMFYTREGSTPTAGILMTTGIVGDGSVFDWGDQRTFISRDGGLTWKLAFDFPCLYAVGDYGNVIVAIPYNADEDDDPQSEFYYSLDQGKTWTEYQLETTIYPNEVMNTTPDGSGAKFILNGFTLAHMDGTTNFIYAIDFSTAFNDKTCEENDFEDWNLAEGKCVNGVKYKIRRRKQDAQCLVKKVFEDLQLFETACDKCTEADYECAFEFVRDATGKCVPDYNLIVLSDVCDKTKKKTVPVKPLQLVKGDKCKKPMTVKSVDISCEGVPKKGTNDKEIVVTENKFDFKIQFYQYFDTVTDESLLMINSRGEAYISHDGGQTIKRFDSNGETIIEVVFNPYYNSSAYLFGSKGSIFSTHDRGYSFMTAKLPEARQLGMPLDFNAKAQDTFIYYGGKNCESILSPECHAVAYLTNDGGETFTEMLDNAIHCEFAGSLFKYPSNEDMVMCQVKEKSSQTRSLVSSTDFFQDDKNTVFENIIGYLSTGGYIIVAVPHENNELRAYVTIDGTEFAEAKFPYDEDVGKQEAFTILESEKGSIFLHLATNLVPGRDFGNLLKSNSNGTSFVTLEHAVNRNTFGYVDFEKIQGLEGIILTNIVSNSDKVAENKEDKQLKTKITFNEGSDWNFLKPPKRDSEGKKFSCSSKSLDECSLHLHGYTERKDIRDTYSSGSALGMMFGVGNVGPNLLPYKECSTFFTTDGGETWAEVKKTPHQWEYGDHGGILVLVPENSETDSISYSTDFGKTWKDYKFCADKVLVKDITTVPRDSALRFLLFGEAADIGGSSFRTYTIDFRNIFERQCDFDITGKESADYKYSPLGSKSNCLFGHQTEFLRKTDENCFIGNIPLSEFSRNIKNCSCTRQDFECDYNFYKANDGTCKLVKGLSPANAADVCKKEPDLIEYFESSGYRKIPLSTCEGGLKLDAPSSPHACPGKEKEFKEKYSVSAGPFAFIFISILLIIFFAAWFVYDRGIRRNGGFARFGEIRLGDDGLIENNNTDRVVNNIVKSGFYVFSNIGSLLQHTKTNIAHAISKIRGRFGNRTGPSYSSLIHDQFLDEADDLLAGHDEDANDLSSFMDQGSNFEIEEDDVPTLEEEHTSYTDQPTTTDVPDTLPEGNEENIDRPDSTAPSNENQ',\n",
       " 'YBL016W': 'MPKRIVYNISSDFQLKSLLGEGAYGVVCSATHKPTGEIVAIKKIEPFDKPLFALRTLREIKILKHFKHENIITIFNIQRPDSFENFNEVYIIQELMQTDLHRVISTQMLSDDHIQYFIYQTLRAVKVLHGSNVIHRDLKPSNLLINSNCDLKVCDFGLARIIDESAADNSEPTGQQSGMTEYVATRWYRAPEVMLTSAKYSRAMDVWSCGCILAELFLRRPIFPGRDYRHQLLLIFGIIGTPHSDNDLRCIESPRAREYIKSLPMYPAAPLEKMFPRVNPKGIDLLQRMLVFDPAKRITAKEALEHPYLQTYHDPNDEPEGEPIPPSFFEFDHYKEALTTKDLKKLIWNEIFS',\n",
       " 'YBL015W': 'MTISNLLKQRVRYAPYLKKVKEAHELIPLFKNGQYLGWSGFTGVGTPKAVPEALIDHVEKNNLQGKLRFNLFVGASAGPEENRWAEHDMIIKRAPHQVGKPIAKAINQGRIEFFDKHLSMFPQDLTYGFYTRERKDNKILDYTIIEATAIKEDGSIVPGPSVGGSPEFITVSDKVIIEVNTATPSFEGIHDIDMPVNPPFRKPYPYLKVDDKCGVDSIPVDPEKVVAIVESTMRDQVPPNTPSDDMSRAIAGHLVEFFRNEVKHGRLPENLLPLQSGIGNIANAVIEGLAGAQFKHLTVWTEVLQDSFLDLFENGSLDYATATSVRLTEKGFDRAFANWENFKHRLCLRSQVVSNNPEMIRRLGVIAMNTPVEVDIYAHANSTNVNGSRMLNGLGGSADFLRNAKLSIMHAPSARPTKVDPTGISTIVPMASHVDQTEHDLDILVTDQGLADLRGLSPKERAREIINKCAHPDYQALLTDYLDRAEHYAKKHNCLHEPHMLKNAFKFHTNLAEKGTMKVDSWEPVD',\n",
       " 'YBL014C': 'MSEGQIPSSDVLGSQLGVGVQGASLYCPQENYTTKKQEKPQWLRPVDDTLAEDALDLHIVVKSLLCDTAIRYISDDKVLQESDADDDLITSDIDEDTDNQGDTSIVVNPVIPVVPKDVHFFKKVDVGNDSMFGVNCDTPVSFQDYIPSDLLRNLDDTLQESTNSSRPMQDAFFWDPTVANRLDSQYIQTASDLRNYRDGTEIIAYASGKTGSVLNIAVLTRQNTLHLNRHNNVTSIELHSPIKSIKIPGASESIGRRSNLVGIITENSFQIFRIESVHSRSCDVMVSSSEPLYFVEIDDLQVVDFAFNPWDLQQFAIIDIKGNWSIGRIPKNFNNNNKRKLQLIDNLHGTIFDPEELSSWKRIEWFSHFQKILVFDRSKMIEIDFMNNWQTEVVQAKAWSNIRDYKRIDDKNGILLTSREIIIVGASESNDPVRRISWKHDLDPDDTTLRITVQKVKKPDHILLVAFVYSMRHKRIYMHVFSHRKANLFQSLGCSTVLEIPGGTPTGIETILTLDHIDDESRREEDADENFELVVDFLVKLRNSSEVYYYALSNTQNSEPNKQETPIIVDHPEWASLFNNADEREKESIGALVSQIKLKERERISRVQNLIEHENSHDEDKYLQDLGYRLSIATNELLESWQKTKDESILSGSLSHSKLKNLLENSDSFASIPEFSSLLDQFFQYYQDQDVTFIGFEKLLHLFLHEDVPGLDIFYNKLLQCWVLVSPQAELLTKEIVKDIIWSLARLEKPSLFEPIQNEISRSLSGPYQDIISSWDMDDINEEDESNEFNFDSQFSAPFNGRPPFNLNSQSQIPTIKSSQSSGLARRKRILKTQSQKATPLSQSTQNLSVLPDSMTPAFTLMQPPSSQISFVNDSQPRNSQKAKKKKKRIRGFG',\n",
       " 'YBL013W': 'MVKMRRITPTRLLFTCRYISNNASPPVQPLNVLFFGSDTFSNFSLQALNELRQNNGSCGIVDNIQVVTRSPKWCGRQKSILKYPPIFDMAEKLQLPRPITCDTKQEMLALSKLTPSRQGNPENDGSGAPFNAIIAVSFGKLIPGDLIRAVPLALNVHPSLLPRHKGSAPIQRALLEGDTYTGVTIQTLHPDRFDHGAIVAQTEPLAIATMLSKGRVNDSTADFNSEGLPRRTAILMDQLGALGAQLLGQTLRERLYLPQNRVQAPTAYKPSYAHRITTEDKRIHWARDSAAELLNKLETLGPLHAFKEATAARKDAQNSVLKRILFHECKVMRDARLDNGSKPGMFKYDDIKDCILVTCRGNLLLCVSRLQFEGFAVERAGQFMARLRKRCGALSEKLVFL',\n",
       " 'YBL011W': 'MPAPKLTEKFASSKSTQKTTNYSSIEAKSVKTSADQAYIYQEPSATKKILYSIATWLLYNIFHCFFREIRGRGSFKVPQQGPVIFVAAPHANQFVDPVILMGEVKKSVNRRVSFLIAESSLKQPPIGFLASFFMAIGVVRPQDNLKPAEGTIRVDPTDYKRVIGHDTHFLTDCMPKGLIGLPKSMGFGEIQSIESDTSLTLRKEFKMAKPEIKTALLTGTTYKYAAKVDQSCVYHRVFEHLAHNNCIGIFPEGGSHDRTNLLPLKAGVAIMALGCMDKHPDVNVKIVPCGMNYFHPHKFRSRAVVEFGDPIEIPKELVAKYHNPETNRDAVKELLDTISKGLQSVTVTCSDYETLMVVQTIRRLYMTQFSTKLPLPLIVEMNRRMVKGYEFYRNDPKIADLTKDIMAYNAALRHYNLPDHLVEEAKVNFAKNLGLVFFRSIGLCILFSLAMPGIIMFSPVFILAKRISQEKARTALSKSTVKIKANDVIATWKILIGMGFAPLLYIFWSVLITYYLRHKPWNKIYVFSGSYISCVIVTYSALIVGDIGMDGFKSLRPLVLSLTSPKGLQKLQKDRRNLAERIIEVVNNFGSELFPDFDSAALREEFDVIDEEEEDRKTSELNRRKMLRKQKIKRQEKDSSSPIISQRDNHDAYEHHNQDSDGVSLVNSDNSLSNIPLFSSTFHRKSESSLASTSVAPSSSSEFEVENEILEEKNGLASKIAQAVLNKRIGENTAREEEEEEEEEEEEEEEEEEGKEGDA',\n",
       " 'YBL010C': 'MSDRDQIEPVTNALDAESDSSDDFGNFSDASVENDLYNQNSTLTTSSESVVDNCLNKILPKGEFDLEEETIKNDCFKLSKLIEDERPHVIYEQLVQLDPVLQPFIWNKSHIRRNLLHILRLSDNNGSEGVGTKREEEPLNDELFKRICDAVEKNEQTATGLFLRDNFKIDYTPPMTLKSLQKEEEREQEQHIPQLLMADFTSMDEESLRQYHDTLCQSIDFLVSKSRSLKKQQRDLLKDKTTFENVVTNLTGHTQRLQRDEIALYNKKRNKKKRFSWVGY',\n",
       " 'YBL009W': 'MNFDAVADQQMTDRRYFALEVAESDDADSSLNSSSMGSPAVDVGRKVYKITSHKGSAEDESQSFFTSSDSPTSKTRPVGKTIENDDYYGKRSSTGSSLKQLFNKININDTAHSSNKENVSQSVLSENKLLSPSKRLSKQGLTKVTNSKFRTPLRPISNQSTLSRDEPVKDFRSLKFRSGSDFKCWGDEKTSSHVHSSSVNSVNSFTSTTSSSKWKFWKNDNLLSRSLSSRSVNDQDPNFVQPKPTNSLQKKSSISSFHNSIFGGGKHTEKKRNSGFIMPDHQSTKELNHKHSSSNLSFRSLKHKTSHSSLNKLKVRRKGNTQELNHPIKKTCQISLPVPDQVSKDKIQLKLKNSTSLASLSSEVTPINTLDYNDSILQQILQLCDVKYILHDLREAQSLGLFTLNTRSVQLSHNFWQTYHSDMQTSLICKKVCLGALSDLTTSNLISLHELKSLRLIQGTSGVANLLQAYVVPSNQCENDQNLILYLFFKYQGTPLSRCSNIDYSQALSIFWQCSSILYVAESKFQLEHRNLTLDHILIDSKGNVTLIDMKCCRFLNIDNNKASYTRLDHHYFFQGRGTLQFEIYELMRSMLPQPISWATFEPRTNLLWLYHLSSSLLKMAKKAVVSGALNREENILIELTHLLDPARKHSKTIFKKELVIRTCGDLLSLKGEIMQ',\n",
       " 'YBL008W-A': 'MKMNPCTVILCKSLFFFCLFQVDCYCNRKNIQNQSSRIATKIKRSYWFRWQKHIILANIHKIIKAYQRSIIKLPVTKGL',\n",
       " 'YBL008W': 'MKVVKFPWLAHREESRKYEIYTVDVSHDGKRLATGGLDGKIRIWSIDSILRCMELESLTPEIPLPQDLQMPLCSMSRHTGSITCVKFSPDGKYLASGSDDRILLIWALDEEQSSQPAFGSEHEREHWTVRKRLVAHDNDIQDICWAPDSSILVTVGLDRSVIVWNGSTFEKLKRFDVHQSLVKGVVFDPANKYFATTSDDRTMKIFRYHKTGDISFTIEHIITEPFKESPLTTYFRRPSWSPDGQHIAVPNATNGPVSSVAIVNRGTWDTNVSLIGHDAPTEVARFNPRLFERNAGVKQKKDDDPENALVGQNDDKVHHFDKNIDSVVATAGQDKSLAVWSTSRPRPILVAFDIANKSITDMSWNPDGSLLFVASLDSSITLFKFENNELGKPIPLEKNMEQLYRYGVDKDSLDFPESINQLLLEDQTKSFKHTKISTSKLGENHPTLATNSASNQKDNNDASVSRSEHINILIPKRKKDAILNKAVTLKSGKKRVAPTLISTSSSSPFSNGIKKPTLDSKRIENNVKSSTKTINSKNTLLNVPEGVEKKISISSFPLPRLGIHSLIMGTKERSAWKISNSELENDDADNAGGKGSDGTSNSIDDIAVLSEEENDFHRMTLNAKLTQEKIWSEEPTTRCLLQSDVIPDTDVVVLEGGSLDDIAVLEIRNGVERSIQFDSEALLDNPTRILGYQGGKRTIETFIPEVIICAIGSKDCKCWCLASANGSIYILSYNGQQRIPKICLGHKVIKMVTSSKYLLVLTERGLFFAWDLLDLKLVLRNVPILPILNGQPIHGNKVRINKVIKCFRLDGSSCDLLLEVGDPKNVYKWTKDLGCWSLYK',\n",
       " 'YBL007C': 'MTVFLGIYRAVYAYEPQTPEELAIQEDDLLYLLQKSDIDDWWTVKKRVIGSDSEEPVGLVPSTYIEEAPVLKKVRAIYDYEQVQNADEELTFHENDVFDVFDDKDADWLLVKSTVSNEFGFIPGNYVEPENGSTSKQEQAPAAAEAPAATPAAAPASAAVLPTNFLPPPQHNDRARMMQSKEDQAPDEDEEGPPPAMPARPTATTETTDATAAAVRSRTRLSYSDNDNDDEEDDYYYNSNSNNVGNHEYNTEYHSWNVTEIEGRKKKKAKLSIGNNKINFIPQKGTPHEWSIDKLVSYDNEKKHMFLEFVDPYRSLELHTGNTTTCEEIMNIIGEYKGASRDPGLREVEMASKSKKRGIVQYDFMAESQDELTIKSGDKVYILDDKKSKDWWMCQLVDSGKSGLVPAQFIEPVRDKKHTESTASGIIKSIKKNFTKSPSRSRSRSRSKSNANASWKDDELQNDVVGSAAGKRSRKSSLSSHKKNSSATKDFPNPKKSRLWVDRSGTFKVDAEFIGCAKGKIHLHKANGVKIAVAADKLSNEDLAYVEKITGFSLEKFKANDGSSSRGTDSRDSERERRRRLKEQEEKERDRRLKERELYELKKARELLDEERSRLQEKELPPIKPPRPTSTTSVPNTTSVPPAESSNNNNSSNKYDWFEFFLNCGVDVSNCQRYTINFDREQLTEDMMPDINNSMLRTLGLREGDIVRVMKHLDKKFGRENIASIPTNATGNMFSQPDGSLNVATSPETSLPQQLLPQTTSPAQTAPSTSAETDDAWTVKPASKSESNLLSKKSEFTGSMQDLLDLQPLEPKKAAASTPEPNLKDLEPVKTGGTTVPAAPVSSAPVSSAPAPLDPFKTGGNNILPLSTGFVMMPMITGGDMLPMQRTGGFVVPQTTFGMQSQVTGGILPVQKTGNGLIPISNTGGAMMPQTTFGAAATVLPLQKTGGGLIPIATTGGAQFPQTSFNVQGQQQLPTGSILPVQKTANGLISANTGVSMPTVQRTGGTMIPQTSFGVSQQLTGGAMMTQPQNTGSAMMPQTSFNAVPQITGGAMMPQTSFNALPQVTGGAMMPLQRTGGALNTFNTGGAMIPQTSFSSQAQNTGGFRPQSQFGLTLQKTGGIAPLNQNQFTGGAMNTLSTGGVLQQQQPQTMNTFNTGGVMQELQMMTTFNTGGAMQQPQMMNTFNTDGIMQQPQMMNTFNTGGAMQQPQQQALQNQPTGFGFGNGPQQSRQANIFNATASNPFGF',\n",
       " 'YBL006C': 'MSGSNMGYYDVLAGLSALEKSSQVVFSATELQQLTQQSHATDKGIEGSENSKAKVSKPKRVAVHGYLGGKVSLADAAQVEYEVGHSLLGSYVPRQQLEALSSVDFSHHFHRTLECKAALETHDVFLAGAGQLSLPFQSHIESPRNSEAKRKRKVIICKRCQSRFIGSHRRSQLREHACVD',\n",
       " 'YBL005W': 'MKVKKSTRSKVSTACVNCRKRKIKCTGKYPCTNCISYDCTCVFLKKHLPQKEDSSQSLPTTAVAPPSSHANVEASADVQHLDTAIKLDNQYYFKLMNDLIQTPVSPSATHAPDTSNNPTNDNNILFKDDSKYQNQLVTYQNILTNLYALPPCDDTQLLIDKTKSQLNNLINSWNPEINYPKLSSFSPRPQRSIETYLLTNKYRNKIHMTRFSFWTDQMVKSQSPDSFLATTPLVDEVFGLFSPIQAFSLRGIGYLIKKNIENTGSSMLIDTKETIYLILRLFDLCYEHLIQGCISISNPLENYLQKIKQTPTTTASASLPTSPAPLSNDLVISVIHQLPQPFIQSITGFTTTQLIENLHDSFSMFRIVTQMYAQHRKRFAEFLNQAFSLPHQEKSVLFSSFCSSEYLLSTLCYAYYNVTLYHMLDINTLDYLEILVSLLEIQNEIDERFGFEKMLEVAVTCSTKMGLSRWEYYVGIDENTAERRRKIWWKIYSLEKRFLTDLGDLSLINEHQMNCLLPKDFRDMGFINHKEFLTKIGTSSLSPSSPKLKNLSLSRLIEYGELAIAQIVGDFFSETLYNEKFTSLEVSVKPTIIRQKLLEKVFEDIESFRLKLAKIKLHTSRVFQVAHCKYPEYPKNDLIEAAKFVSYHKNTWFSILGAVNNLIARLSEDPEVITEQSMKYANEMFQEWREINQFLIQVDTDFIVWACLDFYELIFFVMASKFYVEDPHITLEDVINTLKVFKRITNIISFFNNNLDEKDYDCQTFREFSRSSSLVAISIRIIFLKYCYAEQIDRAEFIERLKEVEPGLSDLLREFFDTRSFIYRYMLKSVEKSGFHLIIRKMLESDYKFLYRDKLATGNIPDQGNSSQISQLYDSTAPSYNNASASAANSPLKLSSLLNSGEESYTQDASENVPCNLRHQDRSLQQTKRQHSAPSQISANENNIYNLGTLEEFVSSGDLTDLYHTLWNDNTSYPFL',\n",
       " 'YBL005W-B': 'MESQQLSQHSPIFHGSACASVTSKEVQTTQDPLDISASKTEECEKVSTQANSQQPTTPPSSAVPENHHHASPQAAQVPLPQNGPYPQQRMMNTQQANISGWPVYGHPSLMPYPPYQMSPMYAPPGAQSQFTQYPQYVGTHLNTPSPESGNSFPDSSSAKSNMTSTNQHVRPPPILTSPNDFLNWVKIYIKFLQNSNLGDIIPTATRKAVRQMTDDELTFLCHTFQLFAPSQFLPPWVKDILSVDYTDIMKILSKSINKMQSDTQEVNDITTLATLHYNGSTPADAFEAEVTNILDRLNNNGIPINNKVACQFIMRGLSGEYKFLPYARHRCIHMTVADLFSDIHSMYEEQQESKRNKSTYRRSPSDEKKDSRTYTNTTKPKSITRNSQKPNNSQSRTARAHNVSTFNNSPGPDNDLIRGSTTEPIQLKNTHDLHLGQELTESTVNHTNHSDDELPGHLLLDSGASRTLIRSAHHIHSASSNPDINVVDAQKRNIPINAIGDLQFHFQDNTKTSIKVLHTPNIAYDLLSLNELAAVDITACFTKNVLERSDGTVLAPIVKYGDFYWVSKKYLLPSNISVPTINNVHTSESTRKYPYPFIHRMLAHANAQTIRYSLKNNTITYFNESDVDWSSAIDYQCPDCLIGKSTKHRHIKGSRLKYQNSYEPFQYLHTDIFGPVHNLPKSAPSYFISFTDETTKFRWVYPLHDRREDSILDVFTTILAFIKNQFQASVLVIQMDRGSEYTNRTLHKFLEKNGITPCYTTTADSRAHGVAERLNRTLLDDCRTQLQCSGLPNHLWFSAIEFSTIVRNSLASPKSKKSARQHAGLAGLDISTLLPFGQPVIVNDHNPNSKIHPRGIPGYALHPSRNSYGYIIYLPSLKKTVDTTNYVILQGKESRLDQFNYDALTFDEDLNRLTASYQSFIASNEIQQSNDLNIESDHDFQSDIELYPEQPRNVLSKAVSPTDSTPPSTHTEDSKRVSKTNIRAPREVDPNISESNILPSKKRSSTPQISDIESTDSGGMHRLDVPLLAPMSQSNTHESSYASKSKDFRHSDSYSDNETNHTNVPISSTGGTNNKTVPQTSEQETEKRIIHRSPSIDTSSSESNSLHHVVPIKTSDTCPKENTEESIIADLPLPDLPPEPPTELSDSFKELPPINSRQTNSSLGGIGDSNAYTTINSKKRSLEDNETEIKVSRDTWNTKNMRSLEPPRSKKRIHLIAAVKAVKSIKPIRTTLRYDEAITYNKDIKEKEKYIEAYHKEVNQLLKMKTWDTDKYYDRKEIDPKRVINSMFIFNRKRDGTHKARFVARGDIQHPDTYDSGMQSNTVHHYALMTSLSLALDNNYHITQLDISSAYLYADIKEELYIRPPPHLGMNDKLIRLKKSLYGLKQSGANWYETIKSYLIKQCGMEEVRGWSCVFKNSQVTICLFVDDMVLFSKNLNSNKRIIDKLKMQYDTKIINLGESDEEIQYDILGLEIKYQRGKYMKLGMENSLTEKIPKLNVPLNPKGRKLSAPGQPGLYIDQQELELEEDDYKMKVHEMQKLIGLASYVGYKFRFDLLYYINTLAQHILFPSKQVLDMTYELIQFIWNTRDKQLIWHKSKPVKPTNKLVVISDASYGNQPYYKSQIGNIYLLNGKVIGGKSTKASLTCTSTTEAEIHAISESVPLLNNLSYLIQELDKKPITKGLLTDSKSTISIIISNNEEKFRNRFFGTKAMRLRDEVSGNHLHVCYIETKKNIADVMTKPLPIKTFKLLTNKWIH',\n",
       " 'YBL005W-A': 'MESQQLSQHSPIFHGSACASVTSKEVQTTQDPLDISASKTEECEKVSTQANSQQPTTPPSSAVPENHHHASPQAAQVPLPQNGPYPQQRMMNTQQANISGWPVYGHPSLMPYPPYQMSPMYAPPGAQSQFTQYPQYVGTHLNTPSPESGNSFPDSSSAKSNMTSTNQHVRPPPILTSPNDFLNWVKIYIKFLQNSNLGDIIPTATRKAVRQMTDDELTFLCHTFQLFAPSQFLPPWVKDILSVDYTDIMKILSKSINKMQSDTQEVNDITTLATLHYNGSTPADAFEAEVTNILDRLNNNGIPINNKVACQFIMRGLSGEYKFLPYARHRCIHMTVADLFSDIHSMYEEQQESKRNKSTYRRSPSDEKKDSRTYTNTTKPKSITRNSQKPNNSQSRTARAHNVSTFNNSPGPDNDLIRGSTTEPIQLKNTHDLHLRPGTY',\n",
       " 'YBL004W': 'MAKQRQTTKSSKRYRYSSFKARIDDLKIEPARNLEKRVHDYVESSHFLASFDQWKEINLSAKFTEFAAEIEHDVQTLPQILYHDKKIFNSLVSFINFHDEFSLQPLLDLLAQFCHDLGPDFLKFYEEAIKTLINLLDAAIEFESSNVFEWGFNCLAYIFKYLSKFLVKKLVLTCDLLIPLLSHSKEYLSRFSAEALSFLVRKCPVSNLREFVRSVFEKLEGDDEQTNLYEGLLILFTESMTSTQETLHSKAKAIMSVLLHEALTKSSPERSVSLLSDIWMNISKYASIESLLPVYEVMYQDFNDSLDATNIDRILKVLTTIVFSESGRKIPDWNKITILIERIMSQSENCASLSQDKVAFLFALFIRNSDVKTLTLFHQKLFNYALTNISDCFLEFFQFALRLSYERVFSFNGLKFLQLFLKKNWQSQGKKIALFFLEVDDKPELQKVREVNFPEEFILSIRDFFVTAEINDSNDLFEIYWRAIIFKYSKLQNTEIIIPLLERIFSTFASPDNFTKDMVGTLLKIYRKEDDASGNNLLKTILDNYENYKESLNFLRGWNKLVSNLHPSESLKGLMSHYPSLLLSLTDNFMLPDGKIRYETLELMKTLMILQGMQVPDLLSSCMVIEEIPLTLQNARDLTIRIKNVGAEFGKTKTDKLVSSFFLKYLFGLLTVRFSPVWTGVFDTLPNVYTKDEALVWKLVLSFIKLPDENQNLDYYQPLLEDGANKVLWDSSVVRLRDTIDTFSHIWSKYSTQNTSIISTTIERRGNTTYPILIRNQALKVMLSIPQVAENHFVDIAPFVYNDFKTYKDEEDMENERVITGSWTEVDRNVFLKTLSKFKNIKNVYSATELHDHLMVLLGSRNTDVQKLALDALLAYKNPTLNKYRDNLKNLLDDTLFKDEITTFLTENGSQSIKAEDEKVVMPYVLRIFFGRAQVPPTSGQKRSRKIAVISVLPNFKKPYINDFLSLASERLDYNYFFGNSHQINSSKATLKTIRRMTGFVNIVNSTLSVLRTNFPLHTNSVLQPLIYSIAMAYYVLDTESTEEVHLRKMASNLRQQGLKCLSSVFEFVGNTFDWSTSMEDIYAVVVKPRISHFSDENLQQPSSLLRLFLYWAHNPSLYQFLYYDEFATATALMDTISNQHVKEAVIGPIIEAADSIIRNPVNDDHYVDLVTLICTSCLKILPSLYVKLSDSNSISTFLNLLVSITEMGFIQDDHVRSRLISSLISILKGKLKKLQENDTQKILKILKLIVFNYNCSWSDIEELYTTISSLFKTFDERNLRVSLTELFIELGRKVPELESISKLVADLNSYSSSRMHEYDFPRILSTFKGLIEDGYKSYSELEWLPLLFTFLHFINNKEELALRTNASHAIMKFIDFINEKPNLNEASKSISMLKDILLPNIRIGLRDSLEEVQSEYVSVLSYMVKNTKYFTDFEDMAILLYNGDEEADFFTNVNHIQLHRRQRAIKRLGEHAHQLKDNSISHYLIPMIEHYVFSDDERYRNIGNETQIAIGGLAQHMSWNQYKALLRRYISMLKTKPNQMKQAVQLIVQLSVPLRETLRIVRDGAESKLTLSKFPSNLDEPSNFIKQELYPTLSKILGTRDDETIIERMPIAEALVNIVLGLTNDDITNFLPSILTNICQVLRSKSEELRDAVRVTLGKISIILGAEYLVFVIKELMATLKRGSQIHVLSYTVHYILKSMHGVLKHSDLDTSSSMIVKIIMENIFGFAGEEKDSENYHTKVKEIKSNKSYDAGEILASNISLTEFGTLLSPVKALLMVRINLRNQNKLSELLRRYLLGLNHNSDSESESILKFCHQLFQESEMSNSPQIPKKKVKDQVDEKEDFFLVNLESKSYTINSNSLLLNSTLQKFALDLLRNVITRHRSFLTVSHLEGFIPFLRDSLLSENEGVVISTLRILITLIRLDFSDESSEIFKNCARKVLNIIKVSPSTSSELCQMGLKFLSAFIRHTDSTLKDTALSYVLGRVLPDLNEPSRQGLAFNFLKALVSKHIMLPELYDIADTTREIMVTNHSKEIRDVSRSVYYQFLMEYDQSKGRLEKQFKFMVDNLQYPTESGRQSVMELINLIITKANPALLSKLSSSFFLALVNVSFNDDAPRCREMASVLISTMLPKLENKDLEIVEKYIAAWLKQVDNASFLNLGLRTYKVYLKSIGFEHTIELDELAIKRIRYILSDTSVGSEHQWDLVYSALNTFSSYMEATESVYKHGFKDIWDGIITCLLYPHSWVRQSAANLVHQLIANKDKLEISLTNLEIQTIATRILHQLGAPSIPENLANVSIKTLVNISILWKEQRTPFIMDVSKQTGEDLKYTTAIDYMVTRIGGIIRSDEHRMDSFMSKKACIQLLALLVQVLDEDEVIAEGEKILLPLYGYLETYYSRAVDEEQEELRTLSNECLKILEDKLQVSDFTKIYTAVKQTVLERRKERRSKRAILAVNAPQISADKKLRKHARSREKRKHEKDENGYYQRRNKRKRA',\n",
       " 'YBL003C': 'MSGGKGGKAGSAAKASQSRSAKAGLTFPVGRVHRLLRRGNYAQRIGSGAPVYLTAVLEYLAAEILELAGNAARDNKKTRIIPRHLQLAIRNDDELNKLLGNVTIAQGGVLPNIHQNLLPKKSAKTAKASQEL',\n",
       " 'YBL002W': 'MSSAAEKKPASKAPAEKKPAAKKTSTSVDGKKRSKVRKETYSSYIYKVLKQTHPDTGISQKSMSILNSFVNDIFERIATEASKLAAYNKKSTISAREIQTAVRLILPGELAKHAVSEGTRAVTKYSSSTQA',\n",
       " 'YBL001C': 'MPKIFCLADVCMVPIGTDSASISDFVALIEKKIRESPLKSTLHSAGTTIEGPWDDVMGLIGEIHEYGHEKGYVRVHTDIRVGTRTDKHQTAQDKIDVVLKKISQ',\n",
       " 'YBR001C': 'MVDFLPKVTEINPPSEGNDGEDNIKPLSSGSEQRPLKEEGQQGGRRHHRRLSSMHEYFDPFSNAEVYYGPITDPRKQSKIHRLNRTRTMSVFNKVSDFKNGMKDYTLKRRGSEDDSFLSSQGNRRFYIDNVDLALDELLASEDTDKNHQITIEDTGPKVIKVGTANSNGFKHVNVRGTYMLSNLLQELTIAKSFGRHQIFLDEARINENPVDRLSRLITTQFWTSLTRRVDLYNIAEIARDSKIDTPGAKNPRIYVPYNCPEQYEFYIQASQMNPSLKLEVEYLPKDITAEYVKSLNDTPGLLALAMEEHVNPSTGERSLVGYPYAVPGGRFNELYGWDSYLMALGLIESNKVDVARGMVEHFIFEIDHYSKILNANRSYYLCRSQPPFLTDMALLVFEKIGGKNNPNAIQLLKRAFRAAIKEYKEVWMSSPRLDSLTGLSCYHSDGIGIPPETEPDHFDTILLPYAEKYNVTLEKLRYLYNEGMIKEPKLDAFFLHDRAVRESGHDTTYRFEGVCAYLATIDLNSLLYKYEKDIAFVIKEYFGNEYKDENDGTVTDSEHWEELAELRKTRINKYMWDEDSGFFFYYNTKLKCRTSYESATTFWSLWAGLATEEQAKITVEKALPQLEMLGGLVACTEKSRGPISIDRPIRQWDYPFGWAPHQILAWKGLSAYGYQQVATRLAYRWLYMITKSFVDYNGMVVEKYDVTRGTDPHRVDAEYGNQGADFKGVATEGFGWVNTSYLLGLKYMNNHARRALAACSPPLPFFNSLKPSEKKLYYL',\n",
       " 'YBR002C': 'METDSGIPGHSFVLKWTKNIFSRTLRASNCVPRHVGFIMDGNRRFARKKEMDVKEGHEAGFVSMSRILELCYEAGVDTATVFAFSIENFKRSSREVESLMTLARERIRQITERGELACKYGVRIKIIGDLSLLDKSLLEDVRVAVETTKNNKRATLNICFPYTGREEILHAMKETIVQHKKGAAIDESTLESHLYTAGVPPLDLLIRTSGVSRLSDFLIWQASSKGVRIELLDCLWPEFGPIRMAWILLKFSFHKSFLNKEYRLEEGDYDEETNGDPIDLKEKKLN',\n",
       " 'YBR003W': 'MFQRSGAAHHIKLISSRRCRFKSSFAVALNAASKLVTPKILWNNPISLVSKEMNTLAKNIVALIGSGHPVLNKVTSYYFETEGKKVRPLLVLLLSRALSEIPMTERNHLKIDKSDVPEDPIYSKPSQNQLFQRPASSISPLHILHGIKPLNPLTKGPEPLPEETFDKQRGILPKQRRLAEIVEMIHTASLLHDDVIDHSDTRRGRPSGNAAFTNKMAVLAGDFLLGRATVSISRLHNPEVVELMSNSIANLVEGEFMQLKNTSIDADIDTIENGHKLLPVPSKKLEVKEHDFRVPSRQQGLQLSHDQIIETAFEYYIHKTYLKTAALISKSCRCAAILSGASPAVIDECYDFGRNLGICFQLVDDMLDFTVSGKDLGKPSGADLKLGIATAPVLFAWKEDPSLGPLISRNFSERGDVEKTIDSVRLHNGIAKTKILAEEYRDKALQNLRDSLPESDARSALEFLTNSILTRRK',\n",
       " 'YBR004C': 'MIVGLTLYFVLFRSIQYLLVFLTPIRQFDTSTSLLLNELCSSPSEINSYWNKYFWNKLLSWDSVFFIKNITSKNGKPQFEHEYAFSQLWTFFVRLFIKSNNDSIYHALRVGVAIENVLFYLSGIVLYFLTKKIFSQNIRQSQFARTIAKKTSLLFFLTSAAGFLTSIYSEPLSFFFAFVGIWSRECSISVPVLGQFDISWRYWFPYSFISMACFTLASLNRSNCVLLGIYFIFDLIELTKNRKFVKAICFPLLSGSLMFSALLYQQYYLPYKTFCPQRGEWCKSQLFSSIFITKTSLYSYIQSHYWGVGLLKYWTPNNIPNFLFAVPNIIILIYSSIYFSKIYPSYNLKALVWITRALVVIVCFFAHVQILNRIASFLPLHLWYLADRLVKTSDPKKMENPKGDDKIVKFYIYWLAFWIPLQTILFAAFLPPA',\n",
       " 'YBR005W': 'MGLISYENEAINEVKKADNHHVSKFVTSYYGPSSSSWQSGIWILFVLFVAAVILIILFTFVANRRRRRMGRAPIRGTAWLTPPSYRQSQQQYTGTVQQRTDDYVPEYTETANEHDLGYYDQRGEFHPNDKAAYVAPPPLVQECSSESVNSLERPPAAVVHQANSLDTDYGLTRPSNGRVPAVSDTVEQLERLPGGTTTQEINPPERAKVNARS',\n",
       " 'YBR006W': 'MTLSKYSKPTLNDPNLFRESGYIDGKWVKGTDEVFEVVDPASGEIIARVPEQPVSVVEEAIDVAYETFKTYKNTTPRERAKWLRNMYNLMLENLDDLATIITLENGKALGEAKGEIKYAASYFEWYAEEAPRLYGATIQPLNPHNRVFTIRQPVGVCGIICPWNFPSAMITRKAAAALAVGCTVVIKPDSQTPLSALAMAYLAEKAGFPKGSFNVILSHANTPKLGKTLCESPKVKKVTFTGSTNVGKILMKQSSSTLKKLSFELGGNAPFIVFEDADLDQALEQAMACKFRGLGQTCVCANRLYVHSSIIDKFAKLLAERVKKFVIGHGLDPKTTHGCVINSSAIEKVERHKQDAIDKGAKVVLEGGRLTELGPNFYAPVILSHVPSTAIVSKEETFGPLCPIFSFDTMEEVVGYANDTEFGLAAYVFSKNVNTLYTVSEALETGMVSCNTGVFSDCSIPFGGVKESGFGREGSLYGIEDYTVLKTITIGNLPNSI',\n",
       " 'YBR007C': 'MNQNLKNTSWADRIGSDDQERKANSSEVSQSPPPNNSFESSMDSQFSYAHSNKSSISFESIQTTERLLDKLDLSLEDELILQEALLEEENASRNSQLSQTSGPTLCMPASEFPSLRYRTNPSPTYIQARDRSLIIDNLKEKDSTLRGKYSSGKVERHLPVKSRYSYIVEEDYDSETFSGMKPQMNRNEKDYKYPNLENGNRSTNSPNPFNFEKYRIENTRLHHLYPTLISDNNTSVDNNANSKNNRTTSNNINTSTKTDRISEKQSCPNEFTTTQKSNCLYRNGSSTSTNTSFSEVGQLSKPKTQSSFESESSSFSKLKLTKSDTTPIKPSPKRSNSSTSTITKTNTMTNDISLPPTPPYKAHKKKTSLNSLKKLFKSPRTRAKNKKDLESEGSSPIRSATNSLDFSGENIQLPSTSSTINNSSPHLARYIFPPNPVFHFKTASTPQSSTDKKKNSKARPNRTHLRTFSDFHTTEKDSKIGELSALTEQSNKPYHPKVRRRTLSLDGMLPNNSTQCMDSFSHKKEGSNATSKCGKLKFHPEPYDNDESSHIGQAITMRHQGKLEESAQRLKKACACGNKTAFLLYGLALRHGCGVDKNLKLSLGYLMAATDIKSFAAEVLDLDINPLNFASMDDIPDIAPEPTAPALYECGMAYLKGLGMDHPDERKGLKFLEKAALLGHVDSMCLSGTIWSKTSNVKKRDLARAAAWFRIADKKGANLLGSDWIYKEKYMKQGPK',\n",
       " 'YBR008C': 'MVYTSTYRHTIVVDLLEYLGIVSNLETLQSAREDETRKPENTDKKECKPDYDIECGPNRSCSESSTDSDSSGSQIEKNDPFRVDWNGPSDPENPQNWPLLKKSLVVFQIMLLTCVTYMGSSIYTPGQEYIQEEFHVGHVVATLNLSLYVLGYGLGPIIFSPLSETARYGRLNLYMVTLFFFMIFQVGCATVHNIGGLIVMRFISGILCSPSLATGGGTVADIISPEMVPLVLGMWSAGAVAAPVLAPLLGAAMVDAKNWRFIFWLLMWLSAATFILLAFFFPETQHHNILYRRALKLRKETGDDRYYTEQDKLDREVDARTFLINTLYRPLKMIIKEPAILAFDLYIAVAYGCFYLFFEAFPIVFVGIYHFSLVEVGLAYMGFCVGCVLAYGLFGILNMRIIVPRFRNGTFTPEAFLIVAMCVCWCLPLSLFLFGWTARVHWILPVISEVFFVLAVFNIFQATFAYLATCYPKYVASVFAGNGFCRASFACAFPLFGRAMYDNLATKNYPVAWGSSLVGFLTLGLAIIPFILYKYGPSLRTRSSYTEE',\n",
       " 'YBR009C': 'MSGRGKGGKGLGKGGAKRHRKILRDNIQGITKPAIRRLARRGGVKRISGLIYEEVRAVLKSFLESVIRDSVTYTEHAKRKTVTSLDVVYALKRQGRTLYGFGG',\n",
       " 'YBR010W': 'MARTKQTARKSTGGKAPRKQLASKAARKSAPSTGGVKKPHRYKPGTVALREIRRFQKSTELLIRKLPFQRLVREIAQDFKTDLRFQSSAIGALQESVEAYLVSLFEDTNLAAIHAKRVTIQKKDIKLARRLRGERS',\n",
       " 'YBR011C': 'MTYTTRQIGAKNTLEYKVYIEKDGKPVSAFHDIPLYADKENNIFNMVVEIPRWTNAKLEITKEETLNPIIQDTKKGKLRFVRNCFPHHGYIHNYGAFPQTWEDPNVSHPETKAVGDNDPIDVLEIGETIAYTGQVKQVKALGIMALLDEGETDWKVIAIDINDPLAPKLNDIEDVEKYFPGLLRATNEWFRIYKIPDGKPENQFAFSGEAKNKKYALDIIKETHDSWKQLIAGKSSDSKGIDLTNVTLPDTPTYSKAASDAIPPASPKADAPIDKSIDKWFFISGSV',\n",
       " 'YBR012W-B': 'MESQQLSNYPHISHGSACASVTSKEVHTNQDPLDVSASKIQEYDKASTKANSQQTTTPASSAVPENPHHASPQPASVPPPQNGPYPQQCMMTQNQANPSGWSFYGHPSMIPYTPYQMSPMYFPPGPQSQFPQYPSSVGTPLSTPSPESGNTFTDSSSADSDMTSTKKYVRPPPMLTSPNDFPNWVKTYIKFLQNSNLGGIIPTVNGKPVRPITDDELTFLYNAFQIFAPSQFLPTWVKDILSVDYTDIMKILSKSIEKMQSDTQEANDIVTLANLQYNGSTPADAFETKVTNIIDRLNNNGIHINNKVACQLIMRGLSGEYKFLRYTRHRHLNMTVAELFLDIHAIYEEQQGSRNSKPNYRRNPSDEKNDSRSYTNTTKPKVIARNPQKTNNSKSKTARAHNVSTSNNSPSTDNDSISKSTTEPIQLNNKHDLHLGQKLTESTVNHTNHSDDELPGHLLLDSGASRTLIRSAHHIHSASSNPDINVVDAQKRNIPINAIGDLQFHFQDNTKTSLKVLHTPNIAYDLLSLNELAAVDITACFTKNVLERSDGTVLAPIVKYGDFYWVSKKYLLPSNISVPTINNVHTSESTRKYPYPFIHRMLAHANAQTIRYSLKNNTITYFNESDVDWSSAIDYQCPDCLIGKSTKHRHIKGSRLKYQNSYEPFQYLHTDIFGPVHNLPKSAPSYFISFTDETTKFRWVYPLHDRREDSILDVFTTILAFIKNQFQASVLVIQMDRGSEYTNRTLHKFLEKNGITPCYTTTADSRAHGVAERLNRTLLDDCRTQLQCSGLPNHLWFSAIEFSTIVRNSLASPKSKKSARQHAGLAGLDISTLLPFGQPVIVNDHNPNSKIHPRGIPGYALHPSRNSYGYIIYLPSLKKTVDTTNYVILQGKDSRLDQFNYDALTFDEDLNRLTASYQSFIASNEIQQSNDLNIESDHDFQSDIELYPEQPRNVLSKAVSPTDSTPPSTHTEDSKRVSKTNIRAPREVDPNISESNILPSKKRSSTPQISDIESTDSGGMHRLDVPLLAPMSQSNTHESSYASKSKDFRHSDSYSDNETNHTNVPISSTGGTNNKTVPQTSEQETEKRIIHRFTSDRILPSSESNSLHHVVPIKTSDTCFKENTEESIIADLPLPDLPPEPPTELSDSFKELPPINSRQTNSSLGGIGDSNAYTTINSKKRSLEDNETEIKVSRDTWNTKNMRSLEPPRSKKRIHLIAAVKAVKSIKPIRTTLRYDEAITYNKDIKEKEKYIEAYHKEVNQLLKMKTWDTDKYYDRKEIDPKRVINSMFIFNRKRDGTHKARFVARGDIQHPDTYDSGMQSNTVHHYALMTSLSLALDNNYYITQLDISSAYLYADIKEELYIRPPPHLGMNDKLIRLKKSLYGLKQSGANWYETIKSYLIKQCGMEEVRGWSCVFKNSQVTICLFVDDMILFSKDLNSNKRIIAKLKMQYDTKIINLGESDDEIQHDILGLEIKYQRGKYMKLGMENSLTEKIPKLNVPLNPNGRKLGAPGQPGLYINQQELELEEDDYKMKVHEMQKLIGLASYVGYKFRFDLLYYINTLAQHILFPSKQVLDMTYELIQFIWNTRDKQLIWHKSKPVKPTNKLVVISDASYGNQPYYKSQIGNIYLLNGKVIGGKSTKASLTCTSTTEAEIHAISESVPLLNNLSYLIQELDKKPITKGLLTDSKSTISIIISNNEEKFRNRFFGTKAMRLRDEVSGNHLHVCYIETKKNIADVMTKPLPIKTFKLLTNKWIH',\n",
       " 'YBR012W-A': 'MESQQLSNYPHISHGSACASVTSKEVHTNQDPLDVSASKIQEYDKASTKANSQQTTTPASSAVPENPHHASPQPASVPPPQNGPYPQQCMMTQNQANPSGWSFYGHPSMIPYTPYQMSPMYFPPGPQSQFPQYPSSVGTPLSTPSPESGNTFTDSSSADSDMTSTKKYVRPPPMLTSPNDFPNWVKTYIKFLQNSNLGGIIPTVNGKPVRPITDDELTFLYNAFQIFAPSQFLPTWVKDILSVDYTDIMKILSKSIEKMQSDTQEANDIVTLANLQYNGSTPADAFETKVTNIIDRLNNNGIHINNKVACQLIMRGLSGEYKFLRYTRHRHLNMTVAELFLDIHAIYEEQQGSRNSKPNYRRNPSDEKNDSRSYTNTTKPKVIARNPQKTNNSKSKTARAHNVSTSNNSPSTDNDSISKSTTEPIQLNNKHDLHLRPETY',\n",
       " 'YBR013C': 'MIYPLFRICILGAFLLGSYACLENSTQKGIEGVTLSHNSVQINNTLAKSAPFCESDALSMNYSTENMLSNNACDYTKNSSYPYIITIITKAFDNALENSLNLQANRKLYHRVGTCIQNIFYQLLLTVNY',\n",
       " 'YBR014C': 'MAIVINKRNVRVLVITNLLLIVVFFVLRNSNASVNESITTHHPDSLVTFDNSGNAPGTHQSVHDTVNTQDKEAEEVDKNSGDAEFDAAAEYNKIMEQSPMIVFSKTGCPYSKKLKALLTNSYTFSPSYYVVELDRHEHTKELQDQIEKVTGRRTVPNVIIGGTSRGGYTEIAELHKNDELLDSFKKWSDGAFTVKANSQSESA',\n",
       " 'YBR015C': 'MLLTKRFSKLFKLTFIVLILCGLFVITNKYMDENTSVKEYKEYLDRYVQSYSNKYSSSSDAASADDSTPLRDNDEAGNEKLKSFYNNVFNFLMVDSPKGSTAKQYNEACLLKGDIGDRPDHYKDLYKLSAKELSKCLELSPDEVASLTKSHKDYVEHIATLVSPKGTYKGSGIATVGGGKFSLMAFLIIKTLRNMGTTLPVEVLIPPGDEGETEFCNKILPKYNSKCIYVSDILPRETIEKFVFKGYQFKSLALIASSFENLLLLDADNFPIKPLDNIFNEEPYVSTGLVMWPDFWRRTTHPLYYDIAGIAVDKKKRVRNSRDDITPPAVYTKDLKDLSDVPLSDLDGTIPDVSTESGQLMINKTKHLATALLSLFYNVNGPTWYYPIFSQKAAGEGDKETFIAAANFYGLSFYQVRTRTGVEGYHDEDGFHGVAMLQHDFVQDYGRYLNAMESIGNKYGGTKSADAIKFDKNYSLEKYTEEFFDNEDLNAKNHVDVMFIHSNFPKFDPYDLSKSNFLTTNGKPARSYTALKKVKNYDIELENFKVLNEYVCVNKNPFKYLDDLLGQDKTEWKRVCGYITDRLAFLESTHDKAIAGK',\n",
       " 'YBR016W': 'MSANDYYGGTAGEKSQYSRPSNPPPSSAHQNKTQERGYPPQQQQQYYQQQQQHPGYYNQQGYNQQGYNQQGYNQQGYNQQGYNQQGYNQQGHQQPVYVQQQPPQRGNEGCLAACLAALCICCTMDMLF',\n",
       " 'YBR017C': 'MASTWKPAEDYVLQLATLLQNCMSPNPEIRNNAMEAMENFQLQPEFLNYLCYILIEGESDDVLKQHYSLQDLQNNRATAGMLLKNSMLGGNNLIKSNSHDLGYVKSNIIHGLYNSNNNLVSNVTGIVITTLFSTYYRQHRDDPTGLQMLYQLLELTSNGNEPSIKALSKIMEDSAQFFQLEWSGNTKPMEALLDSFFRFISNPNFSPVIRSESVKCINTVIPLQTQSFIVRLDKFLEIIFQLAQNDENDLVRAQICISFSFLLEFRPDKLVSHLDGIVQFMLHLITTVNEEKVAIEACEFLHAFATSPNIPEHILQPYVKDIVPILLSKMVYNEESIVLLEASNDDDAFLEDKDEDIKPIAPRIVKKKEAGNGEDADDNEDDDDDDDDEDGDVDTQWNLRKCSAATLDVMTNILPHQVMDIAFPFLREHLGSDRWFIREATILALGAMAEGGMKYFNDGLPALIPFLVEQLNDKWAPVRKMTCWTLSRFSPWILQDHTEFLIPVLEPIINTLMDKKKDVQEAAISSVAVFIENADSELVETLFYSQLLTSFDKCLKYYKKKNLIILYDAIGRFAEKCALDETAMQIILPPLIEKWALLSDSDKELWPLLECLSCVASSLGERFMPMAPEVYNRAFRILCHCVELEAKSHQDPTIVVPEKDFIITSLDLIDGLVQGLGAHSQDLLFPQGTKDLTILKIMLECLQDPVHEVRQSCFALLGDIVYFFNSELVIGNLEDFLKLIGTEIMHNDDSDGTPAVINAIWALGLISERIDLNTYIIDMSRIILDLFTTNTQIVDSSVMENLSVTIGKMGLTHPEVFSSGAFANDSNWNKWCLSVNALDDVEEKSSAYMGFLKIINLTSTEVTMSNDTIHKIVTGLSSNVEANVFAQEIYTFLMNHSAQISAINFTPDEISFLQQFTS',\n",
       " 'YBR018C': 'MTAEEFDFSSHSHRRYNPLTDSWILVSPHRAKRPWLGQQEAAYKPTAPLYDPKCYLCPGNKRATGNLNPRYESTYIFPNDYAAVRLDQPILPQNDSNEDNLKNRLLKVQSVRGNCFVICFSPNHNLTIPQMKQSDLVHIVNSWQALTDDLSREARENHKPFKYVQIFENKGTAMGCSNLHPHGQAWCLESIPSEVSQELKSFDKYKREHNTDLFADYVKLESREKSRVVVENESFIVVVPYWAIWPFETLVISKKKLASISQFNQMVKEDLASILKQLTIKYDNLFETSFPYSMGIHQAPLNATGDELSNSWFHMHFYPPLLRSATVRKFLVGFELLGEPQRDLTSEQAAEKLRNLDGQIHYLQRL',\n",
       " 'YBR019C': 'MTAQLQSESTSKIVLVTGGAGYIGSHTVVELIENGYDCVVADNLSNSTYDSVARLEVLTKHHIPFYEVDLCDRKGLEKVFKEYKIDSVIHFAGLKAVGESTQIPLRYYHNNILGTVVLLELMQQYNVSKFVFSSSATVYGDATRFPNMIPIPEECPLGPTNPYGHTKYAIENILNDLYNSDKKSWKFAILRYFNPIGAHPSGLIGEDPLGIPNNLLPYMAQVAVGRREKLYIFGDDYDSRDGTPIRDYIHVVDLAKGHIAALQYLEAYNENEGLCREWNLGSGKGSTVFEVYHAFCKASGIDLPYKVTGRRAGDVLNLTAKPDRAKRELKWQTELQVEDSCKDLWKWTTENPFGYQLRGVEARFSAEDMRYDARFVTIGAGTRFQATFANLGASIVDLKVNGQSVVLGYENEEGYLNPDSAYIGATIGRYANRISKGKFSLCNKDYQLTVNNGVNANHSSIGSFHRKRFLGPIIQNPSKDVFTAEYMLIDNEKDTEFPGDLLVTIQYTVNVAQKSLEMVYKGKLTAGEATPINLTNHSYFNLNKPYGDTIEGTEIMVRSKKSVDVDKNMIPTGNIVDREIATFNSTKPTVLGPKNPQFDCCFVVDENAKPSQINTLNNELTLIVKAFHPDSNITLEVLSTEPTYQFYTGDFLSAGYEARQGFAIEPGRYIDAINQENWKDCVTLKNGETYGSKIVYRFS',\n",
       " 'YBR020W': 'MTKSHSEEVIVPEFNSSAKELPRPLAEKCPSIIKKFISAYDAKPDFVARSPGRVNLIGEHIDYCDFSVLPLAIDFDMLCAVKVLNEKNPSITLINADPKFAQRKFDLPLDGSYVTIDPSVSDWSNYFKCGLHVAHSFLKKLAPERFASAPLAGLQVFCEGDVPTGSGLSSSAAFICAVALAVVKANMGPGYHMSKQNLMRITVVAEHYVGVNNGGMDQAASVCGEEDHALYVEFKPQLKATPFKFPQLKNHEISFVIANTLVVSNKFETAPTNYNLRVVEVTTAANVLAATYGVVLLSGKEGSSTNKGNLRDFMNVYYARYHNISTPWNGDIESGIERLTKMLVLVEESLANKKQGFSVDDVAQSLNCSREEFTRDYLTTSPVRFQVLKLYQRAKHVYSESLRVLKAVKLMTTASFTADEDFFKQFGALMNESQASCDKLYECSCPEIDKICSIALSNGSYGSRLTGAGWGGCTVHLVPGGPNGNIEKVKEALANEFYKVKYPKITDAELENAIIVSKPALGSCLYEL',\n",
       " 'YBR021W': 'MPDNLSLHLSGSSKRLNSRQLMESSNETFAPNNVDLEKEYKSSQSNITTEVYEASSFEEKVSSEKPQYSSFWKKIYYEYVVVDKSILGVSILDSFMYNQDLKPVEKERRVWSWYNYCYFWLAECFNINTWQIAATGLQLGLNWWQCWITIWIGYGFVGAFVVLASRVGSAYHLSFPISSRASFGIFFSLWPVINRVVMAIVWYSVQAYIAATPVSLMLKSIFGKDLQDKIPDHFGSPNATTYEFMCFFIFWAASLPFLLVPPHKIRHLFTVKAVLVPFASFGFLIWAIRRAHGRIALGSLTDVQPHGSAFSWAFLRSLMGCMANFSTMVINAPDFSRFSKNPNSALWSQLVCIPFLFSITCLIGILVTAAGYEIYGINYWSPLDVLEKFLQTTYNKGTRAGVFLISFVFAVAQLGTNISANSLSCGTDMSAIFPKFINIKRGSLFCAAMALCICPWNLMATSSKFTMALSAYAIFLSSIAGVVCSDYFVVRRGYIKLTHIYSHQKGSFYMYGNRFGINWRALAAYLCGVAPCLPGFIAEVGAPAIKVSDGAMKLYYLSYWVGYGLSFSSYTALCYFFPVPGCPVNNIIKDKGWFQRWANVDDFEEEWKDTIERDDLVDDNISVYEHEHEKTFI',\n",
       " 'YBR022W': 'MSNITYVKGNILKPKSYARILIHSCNCNGSWGGGIAYQLALRYPKAEKDYVEVCEKYGSNLLGKCILLPSYENSDLLICCLFTSSFGGSSHGEKQSILNYTKLALDKLKTFREAKDKTRTSEDSIGDYLNGHIKYPIGEYKLEMPQINSGIFGVPWKETERVLEEFSGDMSFTVYQL',\n",
       " 'YBR023C': 'MTGLNGDDPDDYYLNLNQDEESLLRSRHSVGSGAPHRQGSLVRPERSRLNNPDNPHFYYAQKTQEQMNHLDVLPSSTGVNPNATRRSGSLRSKGSVRSKFSGRETDSYLLQDMNTTDKKASVKISDEGVAEDEFDKDGDVDNFEESSTQPINKSIKPLRKETNDTLSFWQMYCYFITFWAPAPILAFCGMPKKERQMAWREKVALISVILYIGAIVAFLTFGFTKTVCSSSKLRLKNNEVSTEFVVINGKAYELDTSSRSGIQDVEVDSDTLYGPWSDAGKDASFLFQNVNGNCHNLITPKSNSSIPHDDDNNLAWYFPCKLKNQDGSSKPNFTVENYAGWNCHTSKEDRDAFYGLKSKADVYFTWDGIKNSSRNLIVYNGDVLDLDLLDWLEKDDVDYPVVFDDLKTSNLQGYDLSLVLSNGHERKIARCLSEIIKVGEVDSKTVGCIASDVVLYVSLVFILSVVIIKFIIACYFRWTVARKQGAYIVDNKTMDKHTNDIEDWSNNIQTKAPLKEVDPHLRPKKYSKKSLGHKRASTFDLLKKHSSKMFQFNESVIDLDTSMSSSLQSSGSYRGMTTMTTQNAWKLSNENKAVHSRNPSTLLPTSSMFWNKATSSPVPGSSLIQSLDSTIIHPDIVQQPPLDFMPYGFPLIHTICFVTCYSEDEEGLRTTLDSLSTTDYPNSHKLLMVVCDGLIKGSGNDKTTPEIALGMMDDFVTPPDEVKPYSYVAVASGSKRHNMAKIYAGFYKYDDSTIPPENQQRVPIITIVKCGTPAEQGAAKPGNRGKRDSQIILMSFLEKITFDERMTQLEFQLLKNIWQITGLMADFYETVLMVDADTKVFPDALTHMVAEMVKDPLIMGLCGETKIANKAQSWVTAIQVFEYYISHHQAKAFESVFGSVTCLPGCFSMYRIKSPKGSDGYWVPVLANPDIVERYSDNVTNTLHKKNLLLLGEDRFLSSLMLKTFPKRKQVFVPKAACKTIAPDKFKVLLSQRRRWINSTVHNLFELVLIRDLCGTFCFSMQFVIGIELIGTMVLPLAICFTIYVIIFAIVSKPTPVITLVLLAIILGLPGLIVVITATRWSYLWWMCVYICALPIWNFVLPSYAYWKFDDFSWGDTRTIAGGNKKAQDENEGEFDHSKIKMRTWREFEREDILNRKEESDSFVA',\n",
       " 'YBR024W': 'MLNSSRKYACRSLFRQANVSIKGLFYNGGAYRRGFSTGCCLRSDNKESPSARQPLDRLQLGDEINEPEPIRTRFFQFSRWKATIALLLLSGGTYAYLSRKRRLLETEKEADANRAYGSVALGGPFNLTDFNGKPFTEENLKGKFSILYFGFSHCPDICPEELDRLTYWISELDDKDHIKIQPLFISCDPARDTPDVLKEYLSDFHPAIIGLTGTYDQVKSVCKKYKVYFSTPRDVKPNQDYLVDHSIFFYLIDPEGQFIDALGRNYDEQSGLEKIREQIQAYVPKEERERRSKKWYSFIFN',\n",
       " 'YBR025C': 'MPPKKQVEEKKVLLGRPGNNLKAGIVGLANVGKSTFFQAITRCPLGNPANYPFATIDPEEARVIVPSPRFDKLCEIYKKTASEVPAHLTVYDIAGLTKGASAGEGLGNAFLSHIRSVDSIYQVVRCFDDAEIIHVEGDVDPVRDLEIINQELRLKDIEFAQKALEGAEKIAKRGGQSLEVKQKKEEMDLITKIIKLLESGQRVANHSWTSKEVEIINSMFLLTAKPCIYLINLSERDYIRKKNKHLLRIKEWVDKYSPGDLIIPFSVSLEERLSHMSPEDAEEELKKLQTISALPKIITTMRQKLDLISFFTCGPDEVREWTIRRGTKAPQAAGVIHNDLMNTFILAQVMKCEDVFEYKDDSAIKAAGKLMQKGKDYVVEDGDIIYFRAGAGKN',\n",
       " 'YBR026C': 'MLPTFKRYMSSSAHQIPKHFKSLIYSTHEVEDCTKVLSVKNYTPKQDLSQSIVLKTLAFPINPSDINQLQGVYPSRPEKTYDYSTDEPAAIAGNEGVFEVVSLPSGSSKGDLKLGDRVIPLQANQGTWSNYRVFSSSSDLIKVNDLDLFSAATVSVNGCTGFQLVSDYIDWNSNGNEWIIQNAGTSSVSKIVTQVAKAKGIKTLSVIRDRDNFDEVAKVLEDKYGATKVISESQNNDKTFAKEVLSKILGENARVRLALNSVGGKSSASIARKLENNALMLTYGGMSKQPVTLPTSLHIFKGLTSKGYWVTEKNKKNPQSKIDTISDFIKMYNYGHIISPRDEIETLTWNTNTTTDEQLLELVKKGITGKGKKKMVVLEW',\n",
       " 'YBR027C': 'MFKGSVSLYILCFALGLRNTFLIYNVCNNIKNNCMDNTSGPIGDTIFLIYGIIIIIGPRRCFFFYLKRVVLLQGTHEWCTQGLFPWLKKLEITNVHCHLRRFIICQLHLI',\n",
       " 'YBR028C': 'MIFSLDEELHRVSLDDKKNDIKVDYSSAIYNDINHEQGSSITYEESINHLSVHSNAIPLNGMSPAHRMRRRSSAYSKFPILTPPNTRRFSITGSDAMRTNTNRLSITPQDIISSNIGENELSRNLHDFKPVRVLGQGAYGKVLLVKDVNTSKLYAMKQLRKAEILISQTATDSKREDEDKNDGNNNDNDDGLSKRLERTFAERSILSEIEHPNIVKLFYSFHDNSKLYLLLQYIPGGELFYHLKEHGTLDETTVSFYAAEISCALRFLHTKGVVYRDLKPENCLLNQRGHLVLTDFGLSKKSANDSAVDEEDPENVNALYSIIGTPEYCAPEILLGKAYSQNCDWYSLGCLLYDMLVGKPPYTGSNHKVIINKIQQNKQGPKIPFYLSEGMKDILNALLKKETAKRWNVDKYWAKTGANNKPTKSKKKKSGAARTSLFTEHFIFRKIDWKLLESGQLQKTTLGPIVPVITDLELAENFDTEFTSMSYEETYTDSKPININSVSKSPDMFKGFSYKASGSYLEKYF',\n",
       " 'YBR029C': 'MSDNPEMKPHGTSKEIVESVTDATSKAIDKLQEELHKDASESVTPVTKESTAATKESRKYNFFIRTVWTFVMISGFFITLASGHAWCIVLILGCQIATFKECIAVTSASGREKNLPLTKTLNWYLLFTTIYYLDGKSLFKFFQATFYEYPVLNFIVTNHKFICYCLYLMGFVLFVCSLRKGFLKFQFGSLCVTHMVLLLVVFQAHLIIKNVLNGLFWFLLPCGLVIVNDIFAYLCGITFGKTKLIEISPKKTLEGFLGAWFFTALASIILTRILSPYTYLTCPVEDLHTNFFSNLTCELNPVFLPQVYRLPPIFFDKVQINSITVKPIYFHALNLATFASLFAPFGGFFASGLKRTFKVKDFGHSIPGHGGITDRVDCQFIMGSFANLYYETFISEHRITVDTVLSTILMNLNDKQIIELIDILIRFLSKKGIISAKNFEKLADIFNVTKKSLTNHS',\n",
       " 'YBR030W': 'MSVTFKDDVHRILKFVANCNGRFEDSKCDIRESPLGGLGVFAKTDIAEGESILTLNKSSIFSASNSSIANLLCDSSIDGMLALNIAFIYETTVFRNSSHWYPFLRTIRIRDDEGHLNLPPSFWHADAKRLLKGTSFDTLFDSLAPEEEIMEGFEIAVDLAHKWNDEFGLEIPKGFLDVSEENHEEDYNLKLEKFISVAYTLSSRGFEIDAYHETALVPIADLFNHHVSDPDLKFVSLYDVCDKCGEPDMCKHLIAEEYLEAENLDKNMPKVASMETRVIDEDLIKSLENDLEKEYSNVTANIEDDDGGIENPDECVDLVLKNDVAQGQEIFNSYGELSNVFLLARYGFTVPENQYDIVHLGPDFMKILKKEEKYQEKVKWWSQVGHGLFSAWYAQMRQEDEEDEDGQAKSDNLSDDIESEEEEEEEEGDDSLESWLSQLYIDSSGEPSPSTWALANLLTLTAVQWESLFSKKATPHISDSIVNEEKLPFLAKKDNPHSKKLLSNLLKEKQLPCIKGDNSSKITSATKSMLQNARTLVQSEHNILDRCLKRLS',\n",
       " 'YBR031W': 'MSRPQVTVHSLTGEATANALPLPAVFSAPIRPDIVHTVFTSVNKNKRQAYAVSEKAGHQTSAESWGTGRAVARIPRVGGGGTGRSGQGAFGNMCRGGRMFAPTKTWRKWNVKVNHNEKRYATASAIAATAVASLVLARGHRVEKIPEIPLVVSTDLESIQKTKEAVAALKAVGAHSDLLKVLKSKKLRAGKGKYRNRRWTQRRGPLVVYAEDNGIVKALRNVPGVETANVASLNLLQLAPGAHLGRFVIWTEAAFTKLDQVWGSETVASSKVGYTLPSHIISTSDVTRIINSSEIQSAIRPAGQATQKRTHVLKKNPLKNKQVLLRLNPYAKVFAAEKLGSKKAEKTGTKPAAVFTETLKHD',\n",
       " 'YBR032W': 'MVIIRITLSNLLREKGDLCLELLRVDKGIYPFDTSQPIGSMQVLLPHASNYPGSAQFYLFDAATKLGFEQSVNLNYSENHWLNNTPCQYLYVFLQQARLE',\n",
       " 'YBR033W': 'MSHHVPNLYGTPIRDPHERKRNSASMGEVNQSVSSRNCERGSEKGTKQRKKASHACDQCRRKRIKCRFDKHTGVCQGCLEVGEKCQFIRVPLKRGPAKKRGSVVSIEKFSSDNDPLQYRPRTHSYPMNSGNNYLPSLARNSSFPSISSLFVPSITAQSQQFVKVPYDDIKRRSSLAILGSDSSISTEFGGNYRLDENLNVRQEGKDIVAKGMITPVEEMGACSSNVRRQGSQSLPIQEQRASPYINPFISGRSRLSSLSYTSEATTSEGNTQGKNQCMLTPNSVRSIEKERLNSLTAGFPNKKLGTDGRSDKWDKNSTWKPVYRSSNPSHPSTEKNVSLNQEASAKPLMLGTYRQFDATSFYKVLGIYYNFFHINFPVIPINKSKFTDMLDPEKPNVIDEIRQINNEIIQCFKTALEVLVFCKIKQRRSSKSTKSWSRDSLCDFQKGLYYIQNFNKCIADCFQSLITIKPVLKQNSSVIPSRIKFIYFSTIIVLNFILILAGEESSLLLGPSVGVFNEFQAHKLFLPFQNTSPMLLLNSNEESGDEILDYAVLFKRLYILLNILDTLQSFRLGQPKLINLNFGSAIETYFSDKTGHNQVVEKAPVALDNILRNLKLGEFITYFVLNRKSLQVNVPHHLLFTNQTDYGEFAVEKGEHDNIAGKFETLLKKKEILIRKLLNIEQKNDHILENCCNSDAEMKNIGELVCSMITLVSGILDSITNMNAENSVDLDSKPLPNAYFAQDSEEELMSPTQSITSNLASEENTRCTTKDLMGTVSIFMLPMVEECYNIISLIGPIPTTLISLYIRNGNMAKGINDRIMTLSTALNELVQITALFNTLEPFRKNAHDRAKRYYVSATSSTGCYESVMKSMYSGKCAASNASNVAPSEEENKKILKKFADIGWKLMDDSELGCCCCFFN',\n",
       " 'YBR034C': 'MSKTAVKDSATEKTKLSESEQHYFNSYDHYGIHEEMLQDTVRTLSYRNAIIQNKDLFKDKIVLDVGCGTGILSMFAAKHGAKHVIGVDMSSIIEMAKELVELNGFSDKITLLRGKLEDVHLPFPKVDIIISEWMGYFLLYESMMDTVLYARDHYLVEGGLIFPDKCSIHLAGLEDSQYKDEKLNYWQDVYGFDYSPFVPLVLHEPIVDTVERNNVNTTSDKLIEFDLNTVKISDLAFKSNFKLTAKRQDMINGIVTWFDIVFPAPKGKRPVEFSTGPHAPYTHWKQTIFYFPDDLDAETGDTIEGELVCSPNEKNNRDLNIKISYKFESNGIDGNSRSRKNEGSYLMH',\n",
       " 'YBR035C': 'MTKQAEETQKPIIFAPETYQYDKFTLNEKQLTDDPIDLFTKWFNEAKEDPRETLPEAITFSSAELPSGRVSSRILLFKELDHRGFTIYSNWGTSRKAHDIATNPNAAIVFFWKDLQRQVRVEGITEHVNRETSERYFKTRPRGSKIGAWASRQSDVIKNREELDELTQKNTERFKDAEDIPCPDYWGGLRIVPLEIEFWQGRPSRLHDRFVYRRKTENDPWKVVRLAP',\n",
       " 'YBR036C': 'MSTTLLWFSSVIGYVIQTKCLSNIQSKKEISVGPNGTIATPETNGDNGNSSSLTFYLTFMYFASWLLLVPASRLWEKMRPMFVSDSDSNRNSQFDNNNSGSVTNEDVDTFSHVLDDPQPRIPAQQQKQKIISVATFKYVAKLTVLALIMIVADLTYNMALSLSPAFDVALMQNTAIFEIVTLLYGVCGISRKNYVFRNFLIMMNAVIGILIISYTKATCDMLAGKLSVNPNTGELSDPFLFDRLKGALICGLGALIMGPFAVLWNRWFCSNISKNENSAVVLVKQSTHMALIGIIGMVILLPFIPKFPSRESVESISLFYNDKSFWFSLLGSIIFGSLPSLISILELNRKAPAEYLTTCNLGAIIFMGLAEWVCEPTQTTIVRWEVIGYIMLTVSLLVLSVTLGEGKYHH',\n",
       " 'YBR037C': 'MLKLSRSANLRLVQLPAARLSGNGAKLLTQRGFFTVTRLWQSNGKKPLSRVPVGGTPIKDNGKVREGSIEFSTGKAIALFLAVGGALSYFFNREKRRLETQKEAEANRGYGKPSLGGPFHLEDMYGNEFTEKNLLGKFSIIYFGFSNCPDICPDELDKLGLWLNTLSSKYGITLQPLFITCDPARDSPAVLKEYLSDFHPSILGLTGTFDEVKNACKKYRVYFSTPPNVKPGQDYLVDHSIFFYLMDPEGQFVDALGRNYDEKTGVDKIVEHVKSYVPAEQRAKQKEAWYSFLFK',\n",
       " 'YBR038W': 'MTRNPFMVEPSNGSPNRRGASNLSKFYANANSNSRWANPSEESLEDSYDQSNVFQGLPASPSRAALRYSPDRRHRTQFYRDSAHNSPVAPNRYAANLQESPKRAGEAVIHLSEGSNLYPRDNADLPVDPYHLSPQQQPSNNLFGSGRLYSQSSKYTMSTTSTTAPSLAEADDEKEKYLTSTTSYDDQSTIFSADTFNETKFELNHPTRQQYVRRANSESKRRMVSDLPPPSKKKALLKLDNPIPKGLLDTLPRRNSPEFTEMRYTACTVEPDDFLREGYTLRFAEMNRECQIAICITMYNEDKYSLARTIHSIMKNVAHLCKREKSHVWGPNGWKKVSVILISDGRAKVNQGSLDYLAALGVYQEDMAKASVNGDPVKAHIFELTTQVSINADLDYVSKDIVPVQLVFCLKEENKKKINSHRWLFNAFCPVLQPTVVTLVDVGTRLNNTAIYRLWKVFDMDSNVAGAAGQIKTMKGKWGLKLFNPLVASQNFEYKISNILDKPLESVFGYISVLPGALSAYRYRALKNHEDGTGPLRSYFLGETQEGRDHDVFTANMYLAEDRILCWELVAKRDAKWVLKYVKEATGETDVPEDVSEFISQRRRWLNGAMFAAIYAQLHFYQIWKTKHSVVRKFFLHVEFLYQFIQMLFSWFSIANFVLTFYYLAGSMNLVIKHGEALFIFFKYLIFCDLASLFIISMGNRPQGAKHLFITSMVILSICATYSLICGFVFAFKSLASGTESHKIFVDIVISLLSTYGLYFFSSLMYLDPWHMFTSSIQYFLTLPAFTCTLQIFAFCNTHDVSWGTKGSTQESKQLSKAIVVQGPDGKQIVETDWPQEVDKKFLEIKSRLKEPEFEESSGNEKQSKNDYYRDIRTRIVMIWMLSNLILIMSIIQVFTPQDTDNGYLIFILWSVAALAAFRVVGSMAFLFMKYLRIIVSYRNKVEGSGSWEVSKLDLPNVFHKKG',\n",
       " 'YBR039W': 'MLSRIVSNNATRSVMCHQAQVGILYKTNPVRTYATLKEVEMRLKSIKNIEKITKTMKIVASTRLSKAEKAKISAKKMDEAEQLFYKNAETKNLDVEATETGAPKELIVAITSDKGLCGSIHSQLAKAVRRHLNDQPNADIVTIGDKIKMQLLRTHPNNIKLSINGIGKDAPTFQESALIADKLLSVMKAGTYPKISIFYNDPVSSLSFEPSEKPIFNAKTIEQSPSFGKFEIDTDANVPRDLFEYTLANQMLTAMAQGYAAEISARRNAMDNASKNAGDMINRYSILYNRTRQAVITNELVDIITGASSLG',\n",
       " 'YBR040W': 'MVAISMIWFFTKRMPRIFALAFNLISIFLLIFLLIGCYNPSNQSTFLVKYKFDDNSPFYTIIEKSYEKSNTTLGLEEVIIRSGYMGVCIDNIPSQYSSYNNMTTFSNSICYARKNLSSVPLYRDLEIQLSNIASSSSKTQSSVVLNILKLAQLTSVNVIHPYVLMATVILTILMFLFILYVTVPKLPFKLAVNKFLLLLSSTIVLTWGIGAMWTHVGINASYRLVPSSSMNIITVKKGKKAAVMAWFSFAFLLLDSVVLWLIFLRDRKSLKDEIDNVPCAQNRYNNYSSDSSTLHSKV',\n",
       " 'YBR041W': 'MSPIQVVVFALSRIFLLLFRLIKLIITPIQKSLGYLFGNYFDELDRKYRYKEDWYIIPYFLKSVFCYIIDVRRHRFQNWYLFIKQVQQNGDHLAISYTRPMAEKGEFQLETFTYIETYNIVLRLSHILHFDYNVQAGDYVAIDCTNKPLFVFLWLSLWNIGAIPAFLNYNTKGTPLVHSLKISNITQVFIDPDASNPIRESEEEIKNALPDVKLNYLEEQDLMHELLNSQSPEFLQQDNVRTPLGLTDFKPSMLIYTSGTTGLPKSAIMSWRKSSVGCQVFGHVLHMTNESTVFTAMPLFHSTAALLGACAILSHGGCLALSHKFSASTFWKQVYLTGATHIQYVGEVCRYLLHTPISKYEKMHKVKVAYGNGLRPDIWQDFRKRFNIEVIGEFYAATEAPFATTTFQKGDFGIGACRNYGTIIQWFLSFQQTLVRMDPNDDSVIYRNSKGFCEVAPVGEPGEMLMRIFFPKKPETSFQGYLGNAKETKSKVVRDVFRRGDAWYRCGDLLKADEYGLWYFLDRMGDTFRWKSENVSTTEVEDQLTASNKEQYAQVLVVGIKVPKYEGRAGFAVIKLTDNSLDITAKTKLLNDSLSRLNLPSYAMPLFVKFVDEIKMTDNHKILKKVYREQKLPKGLDGNDTIFWLKNYKRYEVLTAADWEAIDAQTIKL',\n",
       " 'YBR042C': 'MLHQKIAHKVRKVVVPGISLLIFFQGCLILLFLQLTYKTLYCRNDIRKQIGLNKTKRLFIVLVSSILHVVAPSAVRITTENSSVPKGTFFLDLKKKRILSHLKSNSVAICNHQIYTDWIFLWWLAYTSNLGANVFIILKKSLASIPILGFGMRNYNFIFMSRKWAQDKITLSNSLAGLDSNARGAGSLAGKSPERITEEGESIWNPEVIDPKQIHWPYNLILFPEGTNLSADTRQKSAKYAAKIGKKPFKNVLLPHSTGLRYSLQKLKPSIESLYDITIGYSGVKQEEYGELIYGLKSIFLEGKYPKLVDIHIRAFDVKDIPLEDENEFSEWLYKIWSEKDALMERYYSTGSFVSDPETNHSVTDSFKINRIELTEVLILPTLTIIWLVYKLYCFIF',\n",
       " 'YBR043C': 'MQAQGSQSNVGSLRSNCSDNSLPNNHVMMHCDESSGSPHSEHNDYSYEKTNLESTASNSREHRDNQLSRLKSEEYVVPKNQRRGLLPQLAIIPEFKDARDYPPMMKKMIVFLIAFSSMMGPMGTSIIFPAINSITTEFKTSVIMVNVSIGVYLLSLGVFPLWWSSLSELEGRRTTYITSFALLFAFNIGSALAPDINSFIALRMLCGAASASVQSVGAGTVADLYISEDRGKNLSYYYLGPLLAPLLSPIFGSLLVNRWPWRSTQWFMVILSGCNVILLTVLLPETLRKQDSKGAIAQILAERRIQVDNNERGEIQEDYQRGEDETDRIENQVATLSTEKHNYVGEVRDQDSLDLESHSSPNTYDGRAGETQLQRIYTEASRSLYEYQLDDSGIDATTAQVTRIRSTDPKLARSIRENSLRKLQTNLEEQVKKVLSSNGGEIAPKQVSAVRKVWDTFFVYFIKPLKSLHFLEYPPVALAITFSAISFSTVYFVNMTVEYKYSRPPYNFKPLYIGLLYIPNSVTYFFASIYGGRWVDMLLKRYKEKYGILAPEARISWNVVTSVISFPIALLIFGWCLDKKCHWVTPLIGTALFGYAAMMTIGATLSYLVDSLPGKGATGVALNNLIRQILAATAVFVTTPMLNGMGTGWAFTMLAFIVLGASSVLIILKKHGDYWRENYDLQKLYDKID',\n",
       " 'YBR044C': 'MLRNCLRKLGNHQTKCSVKTLHTPIYRTKNLQVLRDTLSGIKLLEKIITSSSYNKTLIYEPKYKSKPQVVSSHDTMRLHNVMRELLDSLQVDEATNTRLQSNRPRKLGRVGLQLFMDCIQDNLTATSTSLTCSLLEHYFKYPEKEVTNGIKAGLRYIRDFLAKNKIIVKSQNDVDALVEQLTMSSSDSQSIKRVLKAINYELFSDDIVRVINGNKTYDEVDVSKGWKYPAGILDSNEAYLRSLELPTKKLVSIDKDMLVLMYDGTLRDANKILPTITYARKLRKSVLLIVNGDCTGDALTSVTINNNRNKRENNESRIVVLKYSKKANNDLAPQENLDFIKFLRLPCGYDSIYSPEYSPLVPSKMCADKYYGSIESIKATTGEAFLYNSIDAEAIPNKVPKSFLQNTVTLSIGGHNEIEIDRRRNAIDNCLNNVLCHGLAKGFIPGYGISLLKAIPGLNELKANEPNFMTKVGINAVLSAVILPSEVAFKNAYGYNYYEINSLIAGAINEKSFPMAKFSPNSEPVNTVKDGNLEPWSKMDSCLAGVETFIELLTSCNTIITCVYKKPERHKA',\n",
       " 'YBR045C': 'METILQPKARPFESLKRKRFREWLRPSTAHGSLLHSDTLDLRDFAKPNPADTFSNLDSGHCPLVTTPIKYECPDGKSSFFRGDTKFETLFSNRKFYEFKDNLKRGLKKIRHGRNGHQSEKRCPVVEETKKSVSDNLDKPDNNTPCFDRFHTNSKEFETQFDHSNRSQNSEKAYLDNESCWNLSEKFIPFNNLKYEDLKHFEENLQSLAPATFTPIESNESLDRSDSTRGTKRSIRNDSSDTTSEKRLCLKQYSDEPESDHSMESTPSIYITKEVQERIEALSSTDSFLIEKVDFPSNKIGSSASDYESDNEYRNMDEDSINDVTTEKEGNVVIPDSNTSTVDAMEKPIEVSSALKDDTLDKDIDDASSSYSDDVETTFEPVESEELSDLSDTSSSGSSKIYTIPTFRGLTNRTNISQILSKVGKADLSQDNLTHLIKSHQKKKRCVNFRNKRFYDAFNPYVDNEEDAELSDSENISEMDTDLCIKDRSTSSVRFDENSRLLIYKKSKKLNKDETQSGYSTTEMRSILKTKMNSQHDEESQRASKCDTVGVAQFLHYFQYTEYKRQRNEAENYRLRGEQLSKYYSEEYPLDFAAVECEDSVNDKSDIILSMRATERNIGRQLKGISSQGAQIISLDEDVF',\n",
       " 'YBR046C': 'MKCTIPEQQKVILIDEIGGYDVIKYEDYPVPSISEEELLIKNKYTGVNYIESYFRKGIYPCEKPYVLGREASGTVVAKGKGVTNFEVGDQVAYISNSTFAQYSKISSQGPVMKLPKGTSDEELKLYAAGLLQVLTALSFTNEAYHVKKGDYVLLFAAAGGVGLILNQLLKMKGAHTIAVASTDEKLKIAKEYGAEYLINASKEDILRQVLKFTNGKGVDASFDSVGKDTFEISLAALKRKGVFVSFGNASGLIPPFSITRLSPKNITLVRPQLYGYIADPEEWKYYSDEFFGLVNSKKLNIKIYKTYPLRDYRTAAADIESRKTVGKLVLEIPQ',\n",
       " 'YBR047W': 'MLINHLSKIRTVRHFSNIKPVLSKEVSRRVIVAPASHFKTSSPNVKSNIPIHEYKQLPEDSNYIEKHYKELQVFLNEFLIKKLNKTYADFEGDPDELVFQLEKFIELEVTPRYTNHSAPDGCEERFKSIGDRIVVDRYLDFVKDVRLTLLLNGGHSFIFDVMLQAKEVFDKMQKE',\n",
       " 'YBR048W': 'MSTELTVQSERAFQKQPHIFNNPKVKTSKRTKRWYKNAGLGFKTPKTAIEGSYIDKKCPFTGLVSIRGKILTGTVVSTKMHRTIVIRRAYLHYIPKYNRYEKRHKNVPVHVSPAFRVQVGDIVTVGQCRPISKTVRFNVVKVSAAAGKANKQFAKF',\n",
       " 'YBR049C': 'MPSGHNDKNANQESVEEAVLKYVGVGLDHQNHDPQLHTKDLENKHSKKQNIVESSSDVDVNNNDDSNRNEDNNDDSENISALNANESSSNVDHANSNEQHNAVMDWYLRQTAHNQQDDEDDENNNNTDNGNDSNNHFSQSDIVVDDDDDKNKKDAGVGVDDDHQSMAMAAVAAAYTLSKNNNNNNSIANDSNSRKRQHDNGNNHENSQKKRKNNNDDDDRQIGNVDPELTTLGDADDNDTNNDVIDRDQLVHKAIIDADSITQHPDFQQYLNTAADTDDNEKLKHIKDHLMRTHGLNHQNKNHNDDTDDLSNSTKQYSELQKDSMLDSSLNKSRNYMEVLPKVISQDTQPHQQKSPSHDNEAGSVDNSEISQLLQSAATKASSLVSLSSSSATPSTSRSNNSKAFDKAEDAALERFINEYEAIERLTRQQVCERIWSSDRPKDNFWNNIYKVLPYRSSSSIYKHMRRKYHIFEQRGKWTAEEEQELAKLCAEKEGQWAEIGKTLGRMPEDCRDRWRNYVKCGTNRASNRWSVEEEELLKKVISDMLEEAQQQQSQLHPNLLEEEQHLLQDDQNDHRNNDEDDDDTASAAAAAAAAIQEQQQLLQQKQQDDDDAIAAAAAAASSSLGDNKDEDKPHDSLGIQLDDNSQNSMVPAPSATSTHSKSLSNTIRRHNNKLRKSLMGNGKLDFKDIINWTIVSERMGGTRSRIQCRYKWNKLVKREAIAKIQTVKDDDMLWIFEKLRDLGITEDSQVDWDELAALKPGMKLNGLELKLCYERMKKKVKGYKQKSINEISKELVDYFSSNISMKTEN',\n",
       " 'YBR050C': 'MTLSNCDSLDNLFQDPPEEEESSKFVEAVRTLMNRNDMGYPPAAANGTYCLKKIKSLNAKQWKINKKRMCMLPAVKKKNFDFHEQRSLILNLNLWKFIKFINCSSKNNYNKNNKHVRSSNNTVKNENVLPLQKHKKVDNDQRLENLFWRSWFKARKRRDIMGKPRERHIKFNDNVEQCIITDEHFIQRLPSTRLNSTDEQRPCSKSELDPCIGNAASKRSFYDYNSVYVASDAIITTAAATAIISSNSGDYQRGHDVRDVPRNVLLQAGETDFSSVLRVDSDLKLSNISHHSPVKPSSTSSHSTFIFESETDTDTDTDAETENDIDAYIDTSIPNLLL',\n",
       " 'YBR052C': 'MPKVAILIYSVDDIIATLAENEKKGIEIAGGEAEIFQVPDVSYKTEYATEEGKEAAKVAKTNADFSYKILTRETLVEYDYYLFGIPTKFGNFPAEWKSFWDSNTGGLWAKGSLHGKIAGLFVSGAISGKGDTEMCIMNAMSTLVHHGVIYVPLGYKNAYKELTDVEDVNGSCAWGAGCVSGIDGGRPPSLSELRVHQLQGKAFYDRIKDL',\n",
       " 'YBR053C': 'MSSVGDFEEIILHDLKPYYHVPGAIHSEGITFVKETGTLLWVDIFKGEVHKVEDIEQPESSHSFFSISRANYGKNASIEYPPNPDELKESVGCIFPILDGASQNEIKQVLFGSKFGIGKLDFSKSEWEYVILYSECPELSTDRAYKLRSNDGNVSPDGKYIYVGLMSDFPFDLEPIGCLLRVDLLAHKIELVWNCLLIPNAIHWDESDQKTMYVTDSLNFTIWKCPGGDLLKRDELIDVKNSNNQSFESPEPDGSAIWFSKDGKHSGFLFITVWSTSKVQMFDLTNGKLLKEFILPEQTPRVSCCCFVGKDLFVTTANAEINDAVRTNTDKNGGCIYKIPNVLDGNVPLESTKRQPLH',\n",
       " 'YBR054W': 'MSDYVELLKRGGNEAIKINPPTGADFHITSRGSDWLFTVFCVNLLFGVILVPLMFRKPVKDRFVYYTAIAPNLFMSIAYFTMASNLGWIPVRAKYNHVQTSTQKEHPGYRQIFYARYVGWFLAFPWPIIQMSLLGGTPLWQIAFNVGMTEIFTVCWLIAACVHSTYKWGYYTIGIGAAIVVCISLMTTTFNLVKARGKDVSNVFITFMSVIMFLWLIAYPTCFGITDGGNVLQPDSATIFYGIIDLLILSILPVLFMPLANYLGIERLGLIFDEEPAEHVGPVAEKKMPSPASFKSSDSDSSIKEKLKLKKKHKKDKKKAKKAKKAKKAKKAQEEEEDVATDSE',\n",
       " 'YBR055C': 'MERPSFLDQEPPAGYVPGIGRGATGFSTKEKQVVSNDDKGRRIPKRYRENLNNHLQSQPKDDEDDEAANVFKTLELKLAQKKKKRANEKDDDNSVDSSNVKRQFADLKESLAAVTESEWMDIPDATDFTRRNKRNRIQEQLNRKTYAAPDSLIPGNVDLNKLTEEREKLLQSQIDENLAQLTKNASNPIQVNKPNAATDALSYLKDLENDRVNSLSDATLEDLQKMRTILKSYRKADPTNPQGWIASARLEEKARKFSVAKKIIENGCQECPRSSDIWLENIRLHESDVHYCKTLVATAINFNPTSPLLWFKAIDLESTTVNKYRVVRKALQEIPRDEGLWKLAVSFEADKAQVIKMLEKATQFIPQSMDLLTAYTNLQSYHNAKMTLNSFRKILPQEPEIWIISTLLEERNNPDIPVDKLVSLLKEGLLELSKNGYKATLSAWLKRAEALNDAPNSNLTCQAIVYAILEWLRESGEYESELNNVDQILEKMPHSKVQIAVLKKLIQWDPCDTVLWSRLKMATESYHKIEELLAFFQELLFQTKNSDDIRANMREKSPGLLMMYVSEYWKAQKGDTRQTLVLIDQIIDFAPHNLDLRFFKIKLLGRSLQLDELRDFFQQTFSSLEDFKISGTERLYYKYVNFLRYQDLNEEAIKFLNERCLKSFPICHKFFLQLGQIYHSMGNIEMSRETYLSGTRLVPNCPLLWVSLSKIDEIDLKNPVRARSILDRGLLKNPDDVLFYIAKIQMEIRLGNLDQAELLVTQALQKFPSNALLWVEQIKLFKHGNKSSLKKTIFQDALRRTQNDHRVLLEIGVSFYAEAQYETSLKWLERALKKCSRYGDTWVWLFRTYARLGKDTVDLYNMFDQCEPTYGPEWIAASKNVKMQYCTPREILLRLMNDK',\n",
       " 'YBR056W': 'MIGSLRNKFEHFKVSEKGGQNLSTTLPKLPPAKDLDRSTIYKYRYNYGVNLGALFVLEPWIFSKETICTIDGKEYDSEFDAISQQLKKHSSEDVAKMLSDHYKKYIDRIDWEWLSKDAHITALRIPIGYWHVEDGKHLDSLPFAPLRKVYELAKPWEKLGELINNAKKMSIGVLIDLHGLPGGANCDSHSGSKSGEAAFFHKEKYMTKVYKDILPAIINTMTLGNENIIGIQVVNEACFDNNPKGQKFYYSEAINTVEKLQPGLPVIISDGWWPQQWADWVKEKHFSEIVVIDSHVYRCFSDSDKSKDANSIIKDLPNTVNFPHEDADYTVGEFSGVLDGQTWNKTSGDRDAIVQKYVQTQADVFSHVASWGWFFWTLQFEYGDGGEWGLAPMMQKGNLPKRPHGDDLQVDKKKIDSIIHEHEAYWNGKGKNFEHWRFEDGIKTAVDDIIAFRKFDNSLIGRWHSWKSQRRAEYVSAKKDSEFMWEWDQGYQRGLDEFNKY',\n",
       " 'YBR056W-A': 'MRHQYYQPQPMYYQPQPQPIYIQQGPPPPRNDCCCCCNCGDCCSAIANVLCCLCLIDLCCSCAGGM',\n",
       " 'YBR057C': 'MNYMAYDYDPQHSLETSFNNLAFHPHQQSQQQALYESGERNDARPGLMNTLGQASKMNNSMLPQGSSASPLTGQHSLNSTTNFNMPPSMNTYNYQNVPQASMRNTLNHNNIMNGATANDYWLDPMNNMTNNKDTNGNPNDSMSSMSNMTAKTSINSTAFKNSFVPFNHVTALSMNNVNSNEMNSNKDDRMEALEVELQIKESQIESLENEIQRLKKIFNEGLNYKQNEHKYEKENCHIPQTFELPASLEVIFRKLSSSLHAKEKELAETKENLESILTALALNPTNSVTKYGRYDAESIAHKMVVRLENLTNENKEMAKMLAYGRSKETQIELQLAKKENLELREKIASLEAHLASKESSKEDVAN',\n",
       " 'YBR058C': 'MAEAVLENVNVPAVVSKDECIYCFESPYNEPLALNASPKHSLNICLNCFQATCNRHVPLHIRVTEYACDTIHSNYLTIAKVEKPKQENVEENNNNKKIKLQVIETSEDDTHNTIWSLQRFNGENVPRTVLSKSTDSDISSTALEKIEKILKAKSQDFEDKKNSWVLEISTCPHTENFQIPSKPENTVNLNQCSSCDLTQNLWLCLHCGNIGCGREQIGIDGHSHALDHYRSNNNHPLAIKLGSLSSSTYDLYCYACDDETRFPDNVNLGSALQIYGINIQEKIADEKTLVQLQVEQNENWQFRMVDSSGKEFEKLSASKNYGCGLINLGNSCYLNSVIQSLVNGGVPNWSLDFLGSKFPLDVVYPDNNLKCQWIKLLNAMKCEPELYPNGIKPTTFKKCIGQNHQEFSSNRQQDAMEFLTFLLDLLDKKFFSSSSSGIPNPNDLVRFMMEDRLQCNICGKVKYSYEPTEAIQIPLEENDEPQDMLERIKAYFEGQTIEFKCANCKEKVTANKKPGFKSLPQTLILNPIRIRLQNWIPVKTSNELSLPGLIDRDDMLDVSSYLSQGFDPQTENLLPDEDENRSSFTPNQCSISQLIEMGFTQNASVRALFNTGNQDAESAMNWLFQHMDDPDLNDPFVPPPNVPKKDKREVDEVSLTSMLSMGLNPNLCRKALILNNGDVNRSVEWVFNNMDDDGTFPEPEVPNEEQQQKKDLGYSTAKPYALTAVICHKGNSVHSGHYVVFIRKLVADKWKWVLYNDEKLVAADSIEDMKKNGYIYFYTRC',\n",
       " 'YBR058C-A': 'MTQHKSSMVYIPTTKEAKRRNGKSEGILNTIEEVVEKLYWTYYIHLPFYLMASFDSFFLHVFFLTIFSLSFFGILKYCFL',\n",
       " 'YBR059C': 'MSITNGTSRSVSAMGHPAVERYTPGHIVCVGTHKVEVVNYLAEGGFAQIYVVKFLEYLNEFDNTASVPLKIGDVACLKRVLVQDENGLNEMRNEVEVMKKLKGAPNIVQYFDSNASRRRDGVQGFEVLLLMELCPNKSLLDYMNQRLSTKLTEAEIVKIMYDVALSISQMHYLPVSLIHRDIKIENVLVDAKNNFKLADFGSTSTCFPIVTTHQDIALLTQNIYVHTTPQYRSPEMIDLYRCLPINEKSDIWALGVFLYKLLFFTTPFEMTGQFAILHSKYEFPVNKYSSKLINLIIIMLAENPNLRPNIYQVLYHLCEILNVEVPIEDKYAEGAYNFSKYTQFQNKLQNVQLQMYQLQQKKIMQNNKLSDSEENLLNDMFLSSFEISSKLPMNASDGHAAVSRIPSQNVGQELEEEKESQSDQRKSTLSEDKSSRTTSNANSSGTANNPQEINTIQSPGIEDKSIFENKTPGELYYPSVSELDTYLDKELVKQSSDPTISEQSPRLNTQSLPQRQKSTSSYSSGGRSMKSTSYGAATIGSDEALANEKTAGINKMKQHKSNNPFPKMNVAYHSTNELSNDASNFFLEEQQQGQRYQQAQNQTGTQGNTFPDESQYQSRVEQQQQQQDQPKGPANYSQRNFYTGRDRSNKPMQLGGTIAGDSGNRRVNFQNISQNYATNSQSGYLPSQNSPAIPMVRPVISMNQQQAQQIQAQQLQAQQMQAKQQMQAKQQMQVQQQLQVQQQMQIQNANNNGTYVSDRTNHTTEDMRNAQGGEPPILAGNSANEPMHSSSKNEALLIELSPLKEDAGKQSFQDTNEPQTGGIEDAGGSGTIKGSNNNRNGVLNLSLNEMDLSRDDTGAAVSSFSSSSSSASIQQAKLSGRKGSSKRNNYSTDELGDSMVSSESIDIDLDDARRGKTAERRPLHNERGHKDQARSSDASKSNQFKSKDFSSVSTRQPRQSLDLNFQEVNLSSPTLTQEHRNKNDSPAPNSHHSYRVSPHASTAITENKRHSTGHELSTRSNGKHETHRTGSKQRHDLERYRHSKDKDSNSSITISTSTPSEMRKSFARARQSLDLERVRREAMASSASSSGGSNGKRRSFFSVFRSEK',\n",
       " 'YBR060C': 'MLNGEDFVEHNDILSSPAKSRNVTPKRVDPHGERQLRRIHSSKKNLLERISLVGNERKNTSPDPALKPKTPSKAPRKRGRPRKIQEELTDRIKKDEKDTISSKKKRKLDKDTSGNVNEESKTSNNKQVMEKTGIKEKREREKIQVATTTYEDNVTPQTDDNFVSNSPEPPEPATPSKKSLTTNHDFTSPLKQIIMNNLKEYKDSTSPGKLTLSRNFTPTPVPKNKKLYQTSETKSASSFLDTFEGYFDQRKIVRTNAKSRHTMSMAPDVTREEFSLVSNFFNENFQKRPRQKLFEIQKKMFPQYWFELTQGFSLLFYGVGSKRNFLEEFAIDYLSPKIAYSQLAYENELQQNKPVNSIPCLILNGYNPSCNYRDVFKEITDLLVPAELTRSETKYWGNHVILQIQKMIDFYKNQPLDIKLILVVHNLDGPSIRKNTFQTMLSFLSVIRQIAIVASTDHIYAPLLWDNMKAQNYNFVFHDISNFEPSTVESTFQDVMKMGKSDTSSGAEGAKYVLQSLTVNSKKMYKLLIETQMQNMGNLSANTGPKRGTQRTGVELKLFNHLCAADFIASNEIALRSMLREFIEHKMANITKNNSGMEIIWVPYTYAELEKLLKTVLNTL',\n",
       " 'YBR061C': 'MGKSSKDKRDLYYRKAKEQGYRARSAFKLLQLNDQFHFLDDPNLKRVVDLCAAPGSWSQVLSRKLFDESPSSDKEDRKIVSVDLQPMSPIPHVTTLQADITHPKTLARILKLFGNEKADFVCSDGAPDVTGLHDLDEYVQQQLIMSALQLTACILKKGGTFVAKIFRGRDIDMLYSQLGYLFDKIVCAKPRSSRGTSLEAFIVCLGYNPPSNWTPKLDVNTSVDEFFQGCFLNKLCISDKLSHWNEEERNIAEFMACGSLQSFDSDATYHDLPSSVAGTSSSLDPVQSPTNPPYKKALELKRSGKLTRSV',\n",
       " 'YBR062C': 'MSTYEEEHGIQQNSRDYQEVGGTSQEEQRRQVRSQLQGLFQNFGNTSGEGDAHSDSTLLLRLLSQMLPESLQEEWLQEMDKGKSAGCPDTFAASLPRINKKKLKATDNCSICYTNYLEDEYPLVVELPHCHHKFDLECLSVWLSRSTTCPLCRDNVMGHRIINEIDTTEAELEEDWGMYG',\n",
       " 'YBR063C': 'MEELGLKSTFPYEYGSDFTMIRTEMLNTTKSETTILFSNIKSILAIIWKYSFTFLRSFSDSIKLIIDDVVTIGSRNFAERLQIEAKKNNDQEDIWASTIILGVIIGYLISSIKRKNTFPIMPTSSPKIDDCRFKTGDTISIVINFNEDCLNNRSDVTEERNYEESTVLHSKESVLSIGRQNMVTLNQSDENFTYGNFDEYDLLTKDYTTEVLTRSPGSNPEFKAVVNNTLLDSANETPFKGIEKSINETMVKVPMGCDVSLSHYGRQYAPGNISIMRSFTARDNTKSVSREIRDICKSFLIIKSQFGDELFLTMFMEKPVFFDNNIPIEITGAYREKRERLDEVIHKDLIRYDEVQNLTRIRNLLRVKSQKICSRRHNSSVPTKKLLVNDKGATSILLWYSNYS',\n",
       " 'YBR065C': 'MNDEINEPPPNICEQCLGDEANIRMTKIPQGSECKICTLPFTLYHFKTSKRSNNIIKTLICVRCATQRNICQCCMLDSRWHIPIQLRDHLISLVNEENVMTEEAKNDMMKRFLSLKNVKLGGAQITSDPSEADNIVDKLKNILLRATSDGPSTPLIKNTTALYKNEKGANEVKNLEKYASVDISHILKKLPLNESFLKNPSTKSFFLYNIDASIPEWKITDTVSQLLGIKKWKDGNSLSLIVNHKAKCGGLRFQSSELGERFVSKISETLVTPKGLKRGVLLIDRFRIFIIPWSSGFSAASFGTNTAENIKLSLSLNKLIQLELGLSFPTKSTDNAKNDKKKTSKKVHKDRSKKSKPRANKLTI',\n",
       " 'YBR066C': 'MSIGYKDNLMSTILAKDRKCEFPINFECSPSQITLMPEMFSFNNERKYQTLIPLMKTSHLIDDDLKDKLNKCAFDFFSGKQANRTSDGTISRLTASGKTSPILPLQNINIVKAENTGNGKSDPYSSIKISKPTKTVIKLKSTKTNTAGQRTRHFCKICSTGFTTSGHLSRHNRIHTGEKNHICPHEGCGQRFSRHDNCNQHYRTHANKKKRNWKRREASS',\n",
       " 'YBR067C': 'MSVSKIAFVLSAIASLAVADTSAAETAELQAIIGDINSHLSDYLGLETGNSGFQIPSDVLSVYQQVMTYTDDAYTTLFSELDFDAITKTIVKLPWYTTRLSSEIAAALASVSPASSEAASSSEAASSSKAASSSEATSSAAPSSSAAPSSSAAPSSSAESSSKAVSSSVAPTTSSVSTSTVETASNAGQRVNAGAASFGAVVAGAAALLL',\n",
       " 'YBR068C': 'MLSSEDFGSSGKKETSPDSISIRSFSAGNNFQSSSSEKTYSKQKSGSDKLIHRFADSFKRAEGSTTRTKQINENTSDLEDGVESITSDSKLKKSMKSRHVVMMSLGTGIGTGLLVANAKGLHYGGPAALIIGYILVSFVTYFMIQAAGEMAVTYPTLPANFNAYSSIFISKSFGFATVWLYCFQWLTVLPLELITASMTIQFWNDKINPDIYILIFYVFLVFIHFFGVKAYGETEFIFNCCKILMIAGFIILSIVINCGGAGNDGYIGATYWHNPGAFAGDTSIGRFKNVCYILVTAYFSFGGMELFALSVQEQSNPRKSTPVAAKRSIYRIVVIYLLTMILIGFNVPYNDDQLMGAGGSATHASPYVLAASIHGVKIVPHIINAVILISVVSVANSSLYAGPRLICSLAQQGYAPKFLDYVDREGRPLRALIVCCVFGVIAFVAASSKEEIVFTWLAAIAGLSELFTWTSIMLSHLRFRQAMKVQGRSLDELGYKATTGIWGSIYGVFFNILVFVAQFWVALAPLGNGGKCDAESFFQNYLAFPIWLAFYFGYMVYNRDFTLLNPLDKIDLDFHRRIYDPELMRQEDEENKEKLRNMSLMRKAYHFWC',\n",
       " 'YBR069C': 'MDDSVSFIAKEASPAQYSHSLHERTHSEKQKRDFTITEKQDEVSGQTAEPRRTDSKSILQRKCKEFFDSFKRQLPPDRNSELESQEKNNLTKSIKSRHLVMISLGTGIGTGLLVGNGQVLGTAGPAGLVLGYGIASIMLYCIIQAAGELGLCYAGLTGNYTRYPSILVDPSLGFAVSVVYTIQWLTVLPLQLVTAAMTVKYWTSVNADIFVAVVFVFVIIINLFGSRGYAEAEFIFNSCKILMVIGFVILAIIINCGGAGDRRYIGAEYWHNPGPFAHGFKGVCTVFCYAAFSYGGIEVLLLSAAEQENPTKSIPNACKKVVYRILLIYMLTTILVCFLVPYNSDELLGSSDSSGSHASPFVIAVASHGVKVVPHFINAVILISVISVANSSLYSGPRLLLSLAEQGVLPKCLAYVDRNGRPLLCFFVSLVFGCIGFVATSDAEEQVFTWLLAISSLSQLFIWMSMSLSHIRFRDAMAKQGRSMNEVGYKAQTGYWGSWLAVLIAIFFLVCQFWVAIAPVNEHGKLNVKVFFQNYLAMPIVLFAYFGHKIYFKSWSFWIPAEKIDLDSHRNIFVSPSLTEIDKVDDNDDLKEYENSESSENPNSSRSRKFFKRMTNFWC',\n",
       " 'YBR070C': 'MKTAYLASLVLIVSTAYVIRLIAILPFFHTQAGTEKDTKDGVNLLKIRKSSKKPLKIFVFLGSGGHTGEMIRLLENYQDLLLGKSIVYLGYSDEASRQRFAHFIKKFGHCKVKYYEFMKAREVKATLLQSVKTIIGTLVQSFVHVVRIRFAMCGSPHLFLLNGPGTCCIISFWLKIMELLLPLLGSSHIVYVESLARINTPSLTGKILYWVVDEFIVQWQELRDNYLPRSKWFGILV',\n",
       " 'YBR071W': 'MLRRSKNSSTNTNADTKKRQSMHLGSKSSLISLTSEFGHGHSKTKQKKEEGTAPSQFLSPTNKRSTSSQSKLKRSSLLLDETLLKDYHSAMRHMQTNAAKEEKLRMAPSPTQSTRSESDASLSSTKSSISSIFSQDNDYSIHDLLYEDIEEMDKTDAFKINNTIAIDDSKALFVFCSNDSSSRTASIETLHESNLDNLDMGSSRRTSLDFF',\n",
       " 'YBR072W': 'MSFNSPFFDFFDNINNEVDAFNRLLGEGGLRGYAPRRQLANTPAKDSTGKEVARPNNYAGALYDPRDETLDDWFDNDLSLFPSGFGFPRSVAVPVDILDHDNNYELKVVVPGVKSKKDIDIEYHQNKNQILVSGEIPSTLNEESKDKVKVKESSSGKFKRVITLPDYPGVDADNIKADYANGVLTLTVPKLKPQKDGKNHVKKIEVSSQESWGN',\n",
       " 'YBR072C-A': 'MHILTRSSKNAFPRSRSRQDIHISSHIHRDTSNSALLKILVITRTRLDSFVKT',\n",
       " 'YBR073W': 'MAVISVKPRRREKILQEVKNSSVYQTVFDSGTTQMQIPKYENKPFKPPRRVGSNKYTQLKPTATAVTTAPISKAKVTVNLKRSISAGPTLNLAKKPNNLSSNENTRYFTIMYRKPTTKKHKTWSGDGYATLKASSDKLCFYNEAGKFLGSSMLPSDSDSLFETLFKAGSNEVQLDYELKENAEIRSAKEALSQNMGNPSPPTTSTTETVPSTKNDGGKYQMPLSQLFSLNTVKRFKSVTKQTNEHMTTVPKTSQNSKAKKYYPVFDVNKIDNPIVMNKNAAAEVDVIVDPLLGKFLRPHQREGVKFMYDCLMGLARPTIENPDIDCTTKSLVLENDSDISGCLLADDMGLGKTLMSITLIWTLIRQTPFASKVSCSQSGIPLTGLCKKILVVCPVTLIGNWKREFGKWLNLSRIGVLTLSSRNSPDMDKMAVRNFLKVQRTYQVLIIGYEKLLSVSEELEKNKHLIDMLVCDEGHRLKNGASKILNTLKSLDIRRKLLLTGTPIQNDLNEFFTIIDFINPGILGSFASFKRRFIIPITRARDTANRYNEELLEKGEERSKEMIEITKRFILRRTNAILEKYLPPKTDIILFCKPYSQQILAFKDILQGARLDFGQLTFSSSLGLITLLKKVCNSPGLVGSDPYYKSHIKDTQSQDSYSRSLNSGKLKVLMTLLEGIRKGTKEKVVVVSNYTQTLDIIENLMNMAGMSHCRLDGSIPAKQRDSIVTSFNRNPAIFGFLLSAKSGGVGLNLVGASRLILFDNDWNPSVDLQAMSRIHRDGQKKPCFIYRLVTTGCIDEKILQRQLMKNSLSQKFLGDSEMRNKESSNDDLFNKEDLKDLFSVHTDTKSNTHDLICSCDGLGEEIEYPETNQQQNTVELRKRSTTTWTSALDLQKKMNEAATNDDAKKSQYIRQCLVHYKHIDPARQDELFDEVITDSFTELKDSITFAFVKPGEICLREQ',\n",
       " 'YBR074W': 'MKLKSVFRSVLKYRKTNLSLLLLITYSIITLLYIFDHERYKLNLPKEDEHPEFNDLLETAWGDLQIITASFHPYTSKENDKVHDYLLKRVLEITGNSSFASVSDDKESERSILFQQQDPFNESSRFSRVTYFESSNILVKLEGKNPEEEGLLLSAHFDSVPTGYGATDDGMGVVSLLANLKYHIKHRPNRTLIFNFNNNEEFGLLGASTYFDHSWSNLTKYVINLEGTGAGGKAVLFRTSDTSTARIYQQSVKENPFGNSIYQQGFYSRYVRSETDYKIYEENGMRGWDVAFYKPRNLYHTIKDSIQYTSKASLWHMLHTSLQLSAYVASNSLDTADQTPACYFDFIGLKFFVISAKTLFYWNCIFLLVSPVVAIGLYLISRDRMTWKSYSWLSWTRFPLSLAAGIIVQKLFSNDIIRSNPLTFSRNYFWPISAFFTQVIFTSYVLINCSNFFFPCADMKSLSIIELFIILWTILLFTSKLLYSSDYRYTGLYPLSIFFLLSTIAAILRLLALALGMRTRKRLGRECRDHHSNYSSHSQIDMERDGQENLEQPQDQLTSSQDDQASIQDDNVSTTSAGPSHNVDEDHGMDSSSQQHDERVPLLKGSNSMEEGLSTRENSLKLEYTDYAWIIQFLLIVPIPSFILFNSVDVIMDALNHTVQEGSKATFDVLRFGMVGSILIALPILPFFYKVNYITISLTALLFLISASKTLLVHPFTNSNPLKVRFSQNIDLSQGNAASVHVLGREGNFLKPMLQDLPSIKYSSTHINCTSVTNGMELCMYDGMQPNLLSTNGNTNISSMVKVHVLHNNRNSTERSPYEPIVAELLLEVKENRACTLTFESRHQAKSPVREITVYQKKNSAPQKANITKTIKSASGINELQLHKLDFDQETYHIGVQWFPKLLTDGNVEDDKLGTKDELSVSISCYWGEYDSESVVNGTAVRKIPAFDELINYAPLSFSFTNEQKGLVIVKDAIIL',\n",
       " 'YBR076W': 'MDYGYFFPAQRIEETNGVDFWIDSNAEFTQSKRPDSSTSTLSRVLTDTTNVSNNSGSLKRKTIKNKIFPQRKIFNDSENFDFGKANTDCKHVFKSISKQLIFLPRCFQHHSIRGWMKDRYSEFGYKIKRNQNCPPSACVQALYNTSRSNTEESNPNSLDSLIMYKYMRYSEKKKELMCRFCQGNNWILAENYLKHLFFAHGILSEFKPHTLYHFESKLLKIQGKLNFKIQVLKEPEFSKKILNSLTVSIIPSPLAYYTQTLNGGFRRIHVKCPHCENWIRLGWCEYDEIIRDSFQDFESLRNLNADYNGMSYIQTRNREDIEGIYENYFTHYIQCDLATFRTKCLYVQVITKSN',\n",
       " 'YBR077C': 'MVMLHSKNVKGFLENTLKPYDLHSVDFKTSSLQSSMIITATNGGILSYATSNNDVPKNSINEINSVNNLKMMSLLIKDKWSEDENDTEEQHSNSCYPVEIDSFKTKIYTYEMEDLHTCVAQIPNSDLLLLFIAEGSFPYGLLVIKIERAMRELTDLFGYKLG',\n",
       " 'YBR078W': 'MQFKNALTATAILSASALAANSTTSIPSSCSIGTSATATAQADLDKISGCSTIVGNLTITGDLGSAALASIQEIDGSLTIFNSSSLSSFSADSIKKITGDLNMQELIILTSASFGSLQEVDSINMVTLPAISTFSTDLQNANNIIVSDTTLESVEGFSTLKKVNVFNINNNRYLNSFQSSLESVSDSLQFSSNGDNTTLAFDNLVWANNITLRDVNSISFGSLQTVNASLGFINNTLPSLNLTQLSKVGQSLSIVSNDELSKAAFSNLTTVGGGFIIANNTQLKVIDGFNKVQTVGGAIEVTGNFSTLDLSSLKSVRGGANFDSSSSNFSCNALKKLQSNGAIQGDSFVCKNGATSTSVKLSSTSTESSKSSATSSASSSGDASNAQANVSASASSSSSSSKKSKGAAPELVPATSFMGVVAAVGVALL',\n",
       " 'YBR079C': 'MAPPPFRPENAIKRADELISVGEKQAALQSLHDFITARRIRWATPSTVEPVVFKFLEIGVELKKGKLLKDGLHQYKKLIQGSTEGLVSVGAVARKFIDLVESKIASEQTRADELQKQEIDDDLEGGVTPENLLISVYESDQSVAGFNDEAITSWLRFTWESYRAVLDLLRNNALLEITYSGVVKKTMHFCLKYQRKNEFKRLAEMLRQHLDAANYQQSKSGNNLVDLSDADTLQRYLDQRFQQVDVSVKLELWHEAYRSIEDVFHLMKISKRAPKPSTLANYYENLVKVFFVSGDPLLHTTAWKKFYKLYSTNPRATEEEFKTYSSTIFLSAISTQLDEIPSIGYDPHLRMYRLLNLDAKPTRKEMLQSIIEDESIYGKVDEELKELYDIIEVNFDVDTVKQQLENLLVKLSSKTYFSQYIAPLRDVIMRRVFVAASQKFTTVSQSELYKLATLPAPLDLSAWDIEKSLLQAAVEDYVSITIDHESAKVTFAKDPFDIFASTASKEVSEEENTEPEVQEEKEETDEALGPQETEDGEEKEEESDPVIIRNSYIHNKLLELSNVLHDVDSFNNASYMEKVRIARETLIKKNKDDLEKISKIVDERVKRSQEQKQKHMEHAALHAEQDAEVRQQRILEEKAAIEAKLEEEAHRRLIEKKKREFEAIKEREITKMITEVNAKGHVYIDPNEAKSLDLDTIKQVIIAEVSKNKSELESRMEYAMKKLDHTERALRKVELPLLQKEVDKLQETDTANYEAMKKKIVDAAKAEYEARMADRKNLVMVYDDYLKFKEHVSGTKESELAAIRNQKKAELEAAKKARIEEVRKRRYEEAIARRKEEIANAERQKRAQELAEATRKQREIEEAAAKKSTPYSFRAGNREPPSTPSTLPKATVSPDKAKLDMIAQKQREMEEAIEQRLAGRTAGGSSPATPATPATPATPTPSSGPKKMTMAEKLRAKRLAKGGR',\n",
       " 'YBR080C': 'MFKIPGFGKAAANHTPPDMTNMDTRTRHLKVSNCPNNSYALANVAAVSPNDFPNNIYIIIDNLFVFTTRHSNDIPPGTIGFNGNQRTWGGWSLNQDVQAKAFDLFKYSGKQSYLGSIDIDISFRARGKAVSTVFDQDELAKQFVRCYESQIFSPTQYLIMEFQGHFFDLKIRNVQAIDLGDIEPTSAVATGIETKGILTKQTQINFFKGRDGLVNLKSSNSLRPRSNAVIRPDFKFEDLGVGGLDKEFTKIFRRAFASRIFPPSVIEKLGISHVKGLLLYGPPGTGKTLIARKIGTMLNAKEPKIVNGPEILSKYVGSSEENIRNLFKDAEAEYRAKGEESSLHIIIFDELDSVFKQRGSRGDGTGVGDNVVNQLLAKMDGVDQLNNILVIGMTNRKDLIDSALLRPGRFEVQVEIHLPDEKGRLQIFDIQTKKMRENNMMSDDVNLAELAALTKNFSGAEIEGLVKSASSFAINKTVNIGKGATKLNTKDIAKLKVTREDFLNALNDVTPAFGISEEDLKTCVEGGMMLYSERVNSILKNGARYVRQVRESDKSRLVSLLIHGPAGSGKTALAAEIALKSGFPFIRLISPNELSGMSESAKIAYIDNTFRDAYKSPLNILVIDSLETLVDWVPIGPRFSNNILQMLKVALKRKPPQDRRLLIMTTTSAYSVLQQMDILSCFDNEIAVPNMTNLDELNNVMIESNFLDDAGRVKVINELSRSCPNFNVGIKKTLTNIETARHDEDPVNELVELMTQSA',\n",
       " 'YBR081C': 'MTERIPIKNYQRTNAKALLKLTEKLFNKNFFDLYLTSQQLVVLEYLLSISSEEDKLKAWDYFLKGNIALNVEKSFPLTQEEEHHGAVSPAVDTRSDDVSSQTIKDNNNTNTNTSISNENHVENEIEDKGDNAIANEDNFVNNDESDNVEEDLFKLDLEDLKQQISGTRFIGNLSLKIRYVLWQCAIDYIYCDRNEFGDENDTEYTLLDVEEKEEEEIGKNEKPQNKEGISKFAEDEDYDDEDENYDEDSTDVKNVDDPPKNLDSISSSNIEIDDERRLVLNISISKETLSKLKTNNVEEIMGNWNKIYHSFEYDKETMIKRLKLEESDKMIEKGKKKRSRSDLEAATDEQDRENTNDEPDTNQKLPTPEGSTFSDTGNKRPKQSNLDLTVNLGIENLSLKHLLSSIQQKKSQLGISDYELKHLIMDVRKNRSKWTSDERIGQEELYEACEKVVLELRNYTEHSTPFLNKVSKREAPNYHQIIKKSMDLNTVLKKLKSFQYDSKQEFVDDIMLIWKNCLTYNSDPSHFLRGHAIAMQKKSLQLIRMIPNITIRNRADLEKEIEDMEKDKDYELDEEEEVAGSGRKGLNMGAHMLAKENGKVSEKDSSKTVKDEAPTNDDKLTSVIPEGEKEKDKTASSTVTVHENVNKNEIKENGKNEEQDMVEESSKTEDSSKDADAAKKDTEDGLQDKTAENKEAGENNEEEEDDDDEDEDEDMVDSQSYLLEKDDDRDDLEISVWKTVTAKVRAEICLKRTEYFKNGKLNSDSEAFLKNPQRMKRFDQLFLEYKEQKALESYRQKIEQNSIMKNGFGTVLKQEDDDQLQFHNDHSLNGNEAFEKQPNDIELDDTRFLQEYDISNAIPDIVYEGVNTKTLDKMEDASVDRMLQNGINKQSRFLANKDLGLTPKMNQNITLIQQIRHICHKISLIRMLQSPLSAQNSRSNPNAFLNNHIYNYTIIDDSLDIDPVSQLPTHDYKNNRELIWKFMHKNISKVAMANGFETAHPSAINMLTEIAGDYLSNLIKTLKLHHETNSLNRGTNVEMLQTTLLENGINRPDDLFSYVESEFGKKTKKLQDIKQKLESFLRALLRPTLQELSERNFEDESQSFFTGDFASELTGEDFFGFRELGLEKEFGVLSSSVPLQLLTTQFQTVDGETKVQAKKIQPEESDSIVYKKITKGMLDAGSFWNTLLPLLQKDYERSKAYIAKQSKSSANDKTSMTSTEDNSFALLEEDQFVSKKTATKARLPPTGKISTTYKKKPIASAFILPEEDLENDVKADPTTTVNAKVGAENDGDSSLFLRTPQPLDPLDMDDAFDDTNMGSNSSFSLSLPRLNQ',\n",
       " 'YBR082C': 'MSSSKRIAKELSDLERDPPTSCSAGPVGDDLYHWQASIMGPADSPYAGGVFFLSIHFPTDYPFKPPKISFTTKIYHPNINANGNICLDILKDQWSPALTLSKVLLSICSLLTDANPDDPLVPEIAHIYKTDRPKYEATAREWTKKYAV',\n",
       " 'YBR083W': 'MSLKEDDFGKDNSRNIESYTGRIFDVYIQKDSYSQSALDDMFPEAVVSTAACVKNEAEDNINLIDTHPQFELVNTGLGAKSDDLKSPSAKATFTDKQRKNEVPNISVSNYFPGQSSETSSTTESWTIGCDKWSEKVEEAFLEALRLIMKNGTTKIKIRNANFGRNELISLYIKHKTNEFRTKKQISSHIQVWKKTIQNKIKDSLTLSSKEKELLHLIEHGAEQTTENSNLFYDIFEEIIDSLPSVSDSGSLTPKNLYVSNNSSGLSVHSKLLTPITASNEKKIENFIKTNAASQAKTPLIYAKHIYENIDGYKCVPSKRPLEQLSPTELHQGDRPNKASFSNKKAILESAKKIEIEQRKIINKYQRISRIQEHESNPEFSSNSNSGSEYESEEEVVPRSATVTQLQSRPVPYYKNNGMPYSLSKVRGRPMYPRPAEDAYNANYIQGLPQYQTSYFSQLLLSSPQHYEHSPHQRNFTPSNQSHGNFY',\n",
       " 'YBR084W': 'MLSRLSLLSNSRAFQQARWRIYRLKVSPTVHASQYHILSGRKLAQSIREKANDEIQAIKLKHPNFKPTLKIIQVGARPDSSTYVRMKLKASKDSNVDCIIEKLPAEITEVELLKKISDINDDDSIHGLLIQLPLPRHLDETTITNAVDFKKDVDGFHRYNAGELAKKGGKPYFIPCTPYGCMKLLEEAHVKLDGKNAVVLGRSSIVGNPIASLLKNANATVTVCHSHTRNIAEVVSQADIVIAACGIPQYVKSDWIKEGAVVIDVGINYVPDISKKSGQKLVGDVDFDSVKEKTSYITPVPGGVGPMTVAMLVSNVLLAAKRQFVESEKLPVIKPLPLHLESPVPSDIDISRAQSPKHIKQVAEELGIHSHELELYGHYKAKISPNIFKRLESRENGKYVLVAGITPTPLGEGKSTTTMGLVQALSAHLGKPSIANVRQPSLGPTLGVKGGAAGGGYAQVIPMDEFNLHLTGDIHAISAANNLLAAAIDTRMFHEATQKNDSTFYKRLVPRKKGIRKFTPSMQRRLKRLDIEKEDPDALTPEEVKRFARLNINPDTITIRRVVDINDRMLRQITIGEAATEKGFTRTTGFDITVASELMAILALSKSLHEMKERIGRMVIGADYDNKPVTVEDIGCTGALTALLRDAIKPNLMQTLEGTPVMVHAGPFANISIGASSVIADLMALKLVGSEKNPLNDKNIHEPGYVVTEAGFDFAMGGERFFDIKCRSSGLVPDAVVLVATVRALKSHGGAPNVKPGQSLPKEYTEENIDFVAKGVSNLVKQIENIKTFGIPVVVAINRFETDSQAEIEVIKKAALNAGASHAVTSNHWMEGGKGAVELAHAVVDATKEPKNFNFLYDVNSSIEDKLTSIVQKMYGGAKIEVSPEAQKKIDTYKKQGFGNLPICIAKTQYSLSHDPSLKGVPRGFTFPIRDVRASIGAGYLYALAAEIQTIPGLSTYAGYMAVEVDDDGEIEGLF',\n",
       " 'YBR084C-A': 'MANLRTQKRLAASVVGVGKRKVWLDPNETSEIAQANSRNAIRKLVKNGTIVKKAVTVHSKSRTRAHAQSKREGRHSGYGKRKGTREARLPSQVVWIRRLRVLRRLLAKYRDAGKIDKHLYHVLYKESKGNAFKHKRALVEHIIQAKADAQREKALNEEAEARRLKNRAARDRRAQRVAEKRDALLKEDA',\n",
       " 'YBR085W': 'MSSDAKQQETNFAINFLMGGVSAAIAKTAASPIERVKILIQNQDEMIKQGTLDKKYSGIVDCFKRTAKQEGLISFWRGNTANVIRYFPTQALNFAFKDKIKLMFGFKKEEGYGKWFAGNLASGGAAGALSLLFVYSLDFARTRLAADAKSSKKGGARQFNGLTDVYKKTLKSDGIAGLYRGFMPSVVGIVVYRGLYFGMFDSLKPLVLTGSLDGSFLASFLLGWVVTTGASTCSYPLDTVRRRMMMTSGQAVKYNGAIDCLKKIVASEGVGSLFKGCGANILRSVAGAGVISMYDQLQMILFGKKFK',\n",
       " 'YBR085C-A': 'MSSALYKQSTNFTHSTGSFLQSAPVELTTVSGYQEFLKKQEKKNYEIQTVLSEDKSHGYVLKDGEVIANIIGEAKDYLLDLAGQA',\n",
       " 'YBR086C': 'MSQTITSLDPNCVIVFNKTSSANEKSLNVEFKRLNIHSIIEPGHDLQTSYAFIRIHQDNAKPLFSFLQNLDFIESIIPYHDTELSDDLHKLISISKSKILEAPKQYELYNLSNLTNNPKQSLYFAFLQNYIKWLIPFSFFGLSIRFLSNFTYEFNSTYSLFAILWTLSFTAFWLYKYEPFWSDRLSKYSSFSTIEFLQDKQKAQKKASSVIMLKKCCFIPVALLFGAILLSFQLYCFALEIFIKQIYNGPMISILSFLPTILICTFTPVLTVIYNKYFVEPMTKWENHSSVVNAKKSKEAKNFVIIFLSSYVPLLITLFLYLPMGHLLTAEIRTKVFNAFSILARLPTHDSDFIIDTKRYEDQFFYFIVINQLIQFSMENFVPSLVSIAQQKINGPNPNFVKAESEIGKAQLSSSDMKIWSKVKSYQTDPWGATFDLDANFKKLLLQFGYLVMFSTIWPLAPFICLIVNLIVYQVDLRKAVLYSKPEYFPFPIYDKPSSVSNTQKLTVGLWNSVLVMFSILGCVITATLTYMYQSCNIPGVGAHTSIHTNKAWYLANPINHSWINIVLYAVFIEHVSVAIFFLFSSILKSSHDDVANGIVPKHVVNVQNPPKQEVFEKIPSPEFNSNNEKELVQRKGSANEKLHQELGEKQPASSANGYEAHAATHANNDPSSLSSASSPSLSSSSSSSKTGVVKAVDNDTAGSAGKKPLATESTEKRNSLVKVPTVGSYGVAGATLPETIPTSKNYYLRFDEDGKSIRDAKSSAESSNATNNNTLGTESKLLPDGDAVDALSRKIDQIPKIAVTGGENNENTQAKDDAATKTPLIKDANIKPVVNAAVNDNQSKVSVATEQTKKTEVSTKNGPSRSISTKETKDSARPSNNNTTTTTTTDATQPHHHHHHHRHRDAGVKNVTNNSKTTESSSSSSAAKEKPKHKKGLLHKLKKKL',\n",
       " 'YBR087W': 'MSLWVDKYRPKSLNALSHNEELTNFLKSLSDQPRDLPHLLLYGPNGTGKKTRCMALLESIFGPGVYRLKIDVRQFVTASNRKLELNVVSSPYHLEITPSDMGNNDRIVIQELLKEVAQMEQVDFQDSKDGLAHRYKCVIINEANSLTKDAQAALRRTMEKYSKNIRLIMVCDSMSPIIAPIKSRCLLIRCPAPSDSEISTILSDVVTNERIQLETKDILKRIAQASNGNLRVSLLMLESMALNNELALKSSSPIIKPDWIIVIHKLTRKIVKERSVNSLIECRAVLYDLLAHCIPANIILKELTFSLLDVETLNTTNKSSIIEYSSVFDERLSLGNKAIFHLEGFIAKVMCCLD',\n",
       " 'YBR088C': 'MLEAKFEEASLFKRIIDGFKDCVQLVNFQCKEDGIIAQAVDDSRVLLVSLEIGVEAFQEYRCDHPVTLGMDLTSLSKILRCGNNTDTLTLIADNTPDSIILLFEDTKKDRIAEYSLKLMDIDADFLKIEELQYDSTLSLPSSEFSKIVRDLSQLSDSINIMITKETIKFVADGDIGSGSVIIKPFVDMEHPETSIKLEMDQPVDLTFGAKYLLDIIKGSSLSDRVGIRLSSEAPALFQFDLKSGFLQFFLAPKFNDEE',\n",
       " 'YBR089C-A': 'MAATKEAKQPKEPKKRTTRRKKDPNAPKRGLSAYMFFANENRDIVRSENPDVTFGQVGRILGERWKALTAEEKQPYESKAQADKKRYESEKELYNATRA',\n",
       " 'YBR090C': 'MVPAPGSRAFPSPVFLGGVFFVFFFRWRGNYKVQQVRLRQYWEFTLWETAPNTKQKNDFFAKTLTYIKLALWPQLKKQSNQRNQRRGPPGERRILTPLRGACQLICSLLMKTETLSVPRILT',\n",
       " 'YBR091C': 'MSFFLNSLRGNQEVSQEKLDVAGVQFDAMCSTFNNILSTCLEKCIPHEGFGEPDLTKGEQCCIDRCVAKMHYSNRLIGGFVQTRGFGPENQLRHYSRFVAKEIADDSKK',\n",
       " 'YBR092C': 'MFKSVVYSVLAAALVNAGTIPLGELADVAKIGTQEDIFPFLGGAGPYFSFPGDYGISRDLPEGCEMKQLQMLARHGERYPTYSKGATIMKTWYKLSNYTRQFNGSLSFLNDDYEFFIRDDDDLEMETTFANSDNVLNPYTGEMDAKRHAREFLAQYGYMFENQTSFPIFAASSERVHDTAQYFIDGLGDQFNISLQTVSEAMSAGANTLSAGNACPGWDEDANDDILDKYDTTYLDDIAKRLNKENKGLNLTSKDANTLFAWCAYELNARGYSDVCDIFTEDELVRYSYGQDLVSFYQDGPGYDMIRSVGANLFNATLKLLKQSETQDLKVWLSFTHDTDILNYLTTAGIIDDKNNLTAEYVPFMGNTFHKSWYVPQGARVYTEKFQCSNDTYVRYVINDAVVPIETCSTGPGFSCEINDFYDYAEKRVAGTDFLKVCNVSSVSNVTELTFYWDWNTTHYNDTLLKQ',\n",
       " 'YBR093C': 'MFKSVVYSILAASLANAGTIPLGKLADVDKIGTQKDIFPFLGGAGPYYSFPGDYGISRDLPEGCEMKQLQMVGRHGERYPTVSLAKTIKSTWYKLSNYTRQFNGSLSFLNDDYEFFIRDDDDLEMETTFANSDDVLNPYTGEMNAKRHARDFLAQYGYMVENQTSFAVFTSNSKRCHDTAQYFIDGLGDQFNITLQTVSEAESAGANTLSACNSCPAWDYDANDDIVNEYDTTYLDDIAKRLNKENKGLNLTSTDASTLFSWCAFEVNAKGYSDVCDIFTKDELVHYSYYQDLHTYYHEGPGYDIIKSVGSNLFNASVKLLKQSEIQDQKVWLSFTHDTDILNFLTTAGIIDDKNNLTAEYVPFMGNTFHRSWYVPQGARVYTEKFQCSNDTYVRYVINDAVVPIETCSTGPGFSCEINDFYDYAEKRVAGTDFLKVCNVSSVSNSTELTFYWDWNTTHYNASLLRQ',\n",
       " 'YBR094W': 'MRVLITNDDGPLSDQFSPYIRPFIQHIKRNYPEWKITVCVPHVQKSWVGKAHLAGKNLTAQFIYSKVDAEDNTFWGPFIQPQIRSENSKLPYVLNAEIPKDTIEWILIDGTPASCANIGLHLLSNEPFDLVLSGPNVGRNTSAAYITSSGTVGGAMESVITGNTKAIAISWAYFNGLKNVSPLLMEKASKRSLDVIKHLVKNWDPKTDLYSINIPLVESLSDDTKVYYAPIWENRWIPIFNGPHINLENSFAEIEDGNESSSISFNWAPKFGAHKDSIHYMDEYKDRTVLTDAEVIESEMISVTPMKATFKGVNHLLGELKLTEEENNLSKTNNLIVVSIDPMEYIYKPLTHALKKYLPQVEIVSNLPEFDNGGCEKEMKVFHYGDYEQLDMDKLMELPNNYFTNSYIYRKALIRKHFLSHTIQTYTAKNPESILKKAYLESFTIDLDYAEFLDDALDENWELRQELENESQDKWWIVKPSMSDKGQGIRVFKTIEDLQAIFDSFDDEDSEAEESGNDDDADDVNGEFMDNNKVNISQLRHFIIQEYLTNPLLLASMDNRKFHIRCYVVCRGDLQVFVYDRMLALFAAKPFVPLDPYAYSVTDLKDLECHLTNTCLQSKKKDKDSSVLEFDSIEEIPNERKSNIKEQIHSITNDVFLAAVNVNRLNFQPLPNAFETYGVDFLIDSNYEVKLLEINAFPDFKQTGKDLKNLIDELFDDTVKYCVTPIFNENRNKTDDETDPNFVKVIDYTSNGW',\n",
       " 'YBR095C': 'MTIRSSMKNNAELESKSVLANESNIISTFTRRIIKEKSGNYQVLKRSLDGKLIYPEATGISSNRGNKLLQRSEVVTRRDLNNSKPMIEQTVFYNGSEHRLLQTNIVTDSRRKRIKFTPDINVEPVLVGDENDIDGSEKEDENITDEYYGEEDDDDLSKLVNVKEILTPILSLGDIINHKTISRTFSSPILKNLALQIILMIEKEQMSVVRYSQFLEVFLGDHPEPIYESNLNLPSYNHNLTLPEDRGASDEDDINNKNNINEVNSNSLSTEAGHINNGMEEFGEEDPFFALPRLEQSNALLSLLPSSSGSASISTLTAAEQQQLNEEIESARQLSQIALQRNKEFIRNLQKIRKSVIKANRIRGRILNWSREYLGISDDDITIPVALRVVKRGLISATTNKTTNFEEEIENTMEDGVVDDNEPDEEANRA',\n",
       " 'YBR096W': 'MGVCTIFRWLFAAYLLSSYKSLPGAYFVRFYYYVIQNLFLPMFTGFETENIKKLEKNEYGCFSYTSLDTYASPFECDFYFHKSNSTYFAELDISRGNLMCKIFQKLMLNSKHYPYIPVANVFTNFLKEIKPFQKYSVSSRIICWDEKWIYVMSRFTIKKGTVLCSLSLTKYVLKDGRKTIKPKDALEYCGLYNEKVAKISEDNLKLLTERCGFHETVPLENLSQEYCSEI',\n",
       " 'YBR097W': 'MGAQLSLVVQASPSIAIFSYIDVLEEVHYVSQLNSSRFLKTCKALDPNGEIVIKVFIKPKDQYSLRPFLQRIRAQSFKLGQLPHVLNYSKLIETNRAGYMIRQHLKNNLYDRLSLRPYLQDIELKFIAFQLLNALKDIHNLNIVHGDIKTENILVTSWNWCILTDFAAFIKPVYLPEDNPGEFLFYFDTSKRRTCYLAPERFNSKLYQDGKSNNGRLTKEMDIFSLGCVIAEIFAEGRPIFNLSQLFKYKSNSYDVNREFLMEEMNSTDLRNLVLDMIQLDPSKRLSCDELLNKYRGIFFPDYFYTFIYDYFRNLVTMTTSTPISDNTCTNSTLEDNVKLLDETTEKIYRDFSQICHCLDFPLIKDGGEIGSDPPILESYKIEIEISRFLNTNLYFPQNYHLVLQQFTKVSEKIKSVKEECALLFISYLSHSIRSIVSTATKLKNLELLAVFAQFVSDENKIDRVVPYFVCCFEDSDQDVQALSLLTLIQVLTSVRKLNQLNENIFVDYLLPRLKRLLISNRQNTNYLRIVFANCLSDLAIIINRFQEFTFAQHCNDNSMDNNTEIMESSTKYSAKLIQSVEDLTVSFLTDNDTYVKMALLQNILPLCKFFGRERTNDIILSHLITYLNDKDPALRVSLIQTISGISILLGTVTLEQYILPLLIQTITDSEELVVISVLQSLKSLFKTGLIRKKYYIDISKTTSPLLLHPNNWIRQFTLMIIIEIINKLSKAEVYCILYPIIRPFFEFDVEFNFKSMISCCKQPVSRSVYNLLCSWSVRASKSLFWKKIITNHVDSFGNNRIEFITKNYSSKNYGFNKRDTKSSSSLKGIKTSSTVYSHDNKEIPLTAEDRNWIDKFHIIGLTEKDIWKIVALRGYVIRTARVMAANPDFPYNNSNYRPLVQNSPPNLNLTNIMPRNIFFDVEFAEESTSEGQDSNLENQQIYKYDESEKDSNKLNINGSKQLSTVMDINGSLIFKNKSIATTTSNLKNVFVQLEPTSYHMHSPNHGLKDNANVKPERKVVVSNSYEGDVESIEKFLSTFKILPPLRDYKEFGPIQEIVRSPNMGNLRGKLIATLMENEPNSITSSAVSPGETPYLITGSDQGVIKIWNLKEIIVGEVYSSSLTYDCSSTVTQITMIPNFDAFAVSSKDGQIIVLKVNHYQQESEVKFLNCECIRKINLKNFGKNEYAVRMRAFVNEEKSLLVALTNLSRVIIFDIRTLERLQIIENSPRHGAVSSICIDEECCVLILGTTRGIIDIWDIRFNVLIRSWSFGDHAPITHVEVCQFYGKNSVIVVGGSSKTFLTIWNFVKGHCQYAFINSDEQPSMEHFLPIEKGLEELNFCGIRSLNALSTISVSNDKILLTDEATSSIVMFSLNELSSSKAVISPSRFSDVFIPTQVTANLTMLLRKMKRTSTHSVDDSLYHHDIINSISTCEVDETPLLVACDNSGLIGIFQ',\n",
       " 'YBR098W': 'MSQIVDFVEDKDSRNDASIQIIDGPSNVEIIALSESMDQDECKRAHVSSAEMIPSSPQRKSVSNDVENVDLNKSIELSAPFFQDISISKLDDFSTTVNSIIDSSLRNENNAKGNAKKLLDDLISDEWSADLESSGKKHNKSQYNLRDIAEKWGVQSLKNPEPIAVDCEYKTQGIGKTNSDISDSPKSQIGAADILFDFPLSPVKHENPTEEKHNSIANENSSPDNSLKPAGKQNHGEDGTSMAKRVYNKGEDEQEHLPKGKKRTIALSRTLINSTKLPDTVELNLSKFLDSSDSITTDVLSTPAKGSNIVRTGSQPIFSNANCFQEAKRSKTLTAEDPKCTKNTAREVSQLENYIAYGQYYTREDSKNKIRHLLKENKNAFKRVNQIYRDNIKARSQMIIEFSPSLLQLFKKGDSDLQQQLAPAVVQSSYNDSMPLLRFLRKCDSIYDFSNDFYYPCDPKIVEENVLILYYDAQEFFEQYTSQKKELYRKIRFFSKNGKHVILILSDINKLKRAIFQLENEKYKARVEQRLSGTEEALRPRSKKSSQVGKLGIKKFDLEQRLRFIDREWHVKIHTVNSHMEFINSLPNLVSLIGKQRMDPAIRYMKYAHLNVKSAQDSTETLKKTFHQIGRMPEMKANNVVSLYPSFQSLLEDIEKGRLQSDNEGKYLMTEAVEKRLYKLFTCTDPNDTIE',\n",
       " 'YBR101C': 'MEKLLQWSIANSQGDKEAMARAGQPDPKLLQQLFGGGGPDDPTLMKESMAVIMNPEVDLETKLVAFDNFEMLIENLDNANNIENLKLWEPLLDVLVQTKDEELRAAALSIIGTAVQNNLDSQNNFMKYDNGLRSLIEIASDKTKPLDVRTKAFYALSNLIRNHKDISEKFFKLNGLDCIAPVLSDNTAKPKLKMRAIALLTAYLSSVKIDENIISVLRKDGVIESTIECLSDESNLNIIDRVLSFLSHLISSGIKFNEQELHKLNEGYKHIEPLKDRLNEDDYLAVKYVL',\n",
       " 'YBR102C': 'MVEFSLKKARNNWKHVKKSASSPAKQKTPPSPAKPKQKTKKNPYSDLKDPATSYTLPTINARERSRVATSMQRRLSIHNTNYAPPTLDYSMPLPDMPNMIVPNDNVDSSHNNSSFTTENESVSSKGPSNSLNLSTADLSLNDSSYNKVPARSAMRNTVNPSGSNDPFNNSTSLRKMLANPHFNAKDFVHDKLGNASAITIDKFTSNLTDLSIQVQEEVKLNINKSYNEIMTVNNDLNVAMLELKRVRANINDLNEVLDQCTKIAEKRLQLQDQIDQERQGNFNNVESHSNSPALLPPLKAGQNGNLMRRDRSSVLILEKFWDTELDQLFKNVEGAQKFINSTKGRHILMNSANWMELNTTTGKPLQMVQIFILNDLVLIADKSRDKQNDFIVSQCYPLKDVTVTQEEFSTKRLLFKFSNSNSSLYECRDADECSRLLDVIRKAKDDLCDIFHVEEENSKRIRESFRYLQSTQQTPGRENNRSPNKNKRRSMGGSITPGRNVTGAMDQYLLQNLTLSMHSRPRSRDMSSTAQRLKFLDEGVEEIDIELARLRFESAVETLLDIESQLEDLSERISDEELMLLNLISLKIEQRREAISSKLSQSILSSNEIVHLKSGTENMIKLGLPEQALDLFLQNRSNFIQDLILQIGSVDNPTNYLTQLAVIRFQTIKKTVEDFQDIFKELGAKISSILVDWCSDEVDNHFKLIDKQLLNDEMLSPGSIKSSRKQIDGLKAVGLDFVYKLDEFIKKNSDKIR',\n",
       " 'YBR103W': 'MSITSEELNYLIWRYCQEMGHEVSALALQDETRVLEFDEKYKEHIPLGTLVNLVQRGILYTESELMVDSKGDISALNEHHLSEDFNLVQALQIDKEKFPEISSEGRFTLETNSESNKAGEDGASTVERETQEDDTNSIDSSDDLDGFVKILKEIVKLDNIVSSTWNPLDESILAYGEKNSVARLARIVETDQEGKKYWKLTIIAELRHPFALSASSGKTTNQVTCLAWSHDGNSIVTGVENGELRLWNKTGALLNVLNFHRAPIVSVKWNKDGTHIISMDVENVTILWNVISGTVMQHFELKETGGSSINAENHSGDGSLGVDVEWVDDDKFVIPGPKGAIFVYQITEKTPTGKLIGHHGPISVLEFNDTNKLLLSASDDGTLRIWHGGNGNSQNCFYGHSQSIVSASWVGDDKVISCSMDGSVRLWSLKQNTLLALSIVDGVPIFAGRISQDGQKYAVAFMDGQVNVYDLKKLNSKSRSLYGNRDGILNPLPIPLYASYQSSQDNDYIFDLSWNCAGNKISVAYSLQEGSVVAI',\n",
       " 'YBR104W': 'MSEEFPTPQLLDELEDQQKVTTPNEKRELSSNRVLKDIFAGTIGGIAQVLVGQPFDTTKVRLQTATTRTTTLEVLRNLVKNEGVFAFYKGALTPLLGVGICVSVQFGVNEAMKRFFQNYNASKNPNMSSQDVDLSRSNTLPLSQYYVCGLTGGVVNSFLASPIEQIRIRLQTQTSNGGDREFKGPWDCIKKLKAQGGLMRGLFPTMIRAGHGLGTYFLVYEALVAREIGTGLTRNEIPPWKLCLFGAFSGTMLWLTVYPLDVVKSIIQNDDLRKPKYKNSISYVAKTIYAKEGIRAFFKGFGPTMVRSAPVNGATFLTFELVMRFLGEE',\n",
       " 'YBR105C': 'MINNPKVDSVAEKPKAVTSKQSEQAASPEPTPAPPVSRNQYPITFNLTSTAPFHLHDRHRYLQEQDLYKCASRDSLSSLQQLAHTPNGSTRKKYIVEDQSPYSSENPVIVTSSYNHTVCTNYLRPRMQFTGYQISGYKRYQVTVNLKTVDLPKKDCTSLSPHLSGFLSIRGLTNQHPEISTYFEAYAVNHKELGFLSSSWKDEPVLNEFKATDQTDLEHWINFPSFRQLFLMSQKNGLNSTDDNGTTNAAKKLPPQQLPTTPSADAGNISRIFSQEKQFDNYLNERFIFMKWKEKFLVPDALLMEGVDGASYDGFYYIVHDQVTGNIQGFYYHQDAEKFQQLELVPSLKNKVESSDCSFEFA',\n",
       " 'YBR106W': 'MNPQVSNIIIMLVMMQLSRRIDMEDPTIIMYIRILYCSSIGISWIIYQMARKRIVAKNDMTTMKYVEPGNAMSGEGEKLQVTTVRDYDLKEIDSAIKSIYTGMAMMGFMHLYLKYTNPLFMQSISPVKSALEHNEVKIHLFGKPATGDLKRPFKAPSLFGGMGQTGPKTDKKSIEEAERAGNAGVKAE',\n",
       " 'YBR107C': 'MPYTWKFLGISKQLSLENGIAKLNQLLNLEVDLDIQTIRVPSDPDGGTAADEYIRYEMRLDISNLDEGTYSKFIFLGNSKMEVPMFLCYCGTDNRNEVVLQWLKAEYGVIMWPIKFEQKTMIKLADASIVHVTKENIEQITWFSSKLYFEPETQDKNLRQFSIEIPRESCEGLALGYGNTMHPYNDAIVPYIYNETGMAVERLPLTSVILAGHTKIMRESIVTSTRSLRNRVLAVVLQSIQFTSE',\n",
       " 'YBR108W': 'MGFWENNKDSITSGLKSAGKYGYQGTKYVAKTGYKASKKHYNNSKARRERKSGKKNSSDEEYDSEDEMEYERKPTDIRSLKDPKSFPPPPLKPGQKTYTGQQQQQMPNGQASYAFQGAYQGQPGAGSTEQSQYAQPQYNQYPQQQLQQGVMPQQQQLQQGVVPQQPPIYGEQVPPYGSNSNATSYQSLPQQNQPQNAIPSQVSLNSASQQSTGFVSQNLQYGTQSSNPAPSPSFQNGLQCHQQPQYVSHGSTNLGQSQFPSGQQQQPTTQFGQQVLPSPAQPQQQQQGQPLPPPRGQVILPAPGEPLSNGFGQQQQQQQQQQQPLNQNNALLPQMNVEGVSGMAAVQPVYGQAMSSTTNMQDSNPSYGASPMQGQPPVGGQPPVPVRMQPQPPQPMQQGNIYPIEPSLDSTGSTPHFEVTPFDPDAPAPKPKIDIPTVDVSSLPPPPTHRDRGAVVHQEPAPSGKIQPNTTSSAASLPAKHSRTTTADNERNSGNKENDESTSKSSILGHYDVDVNIMPPPKPFRHGLDSVPSEHTTKNAPERAVPILPPRNNVEPPPPPSRGNFERTESVLSTNAANVQEDPISNFLPPPKPFRHTETKQNQNSKASPVEMKGEVLPGHPSEEDRNVEPSLVPQSKPQSQSQFRRAHMETQPIQNFQPPPKPFRRSQSSNSSDSSYTIDGPEANHGRGRGRIAKHHDGDEYNPKSENSTENGRLGDAPNSFIRKRAPTPPAPSRSEKLHEGTITSEVDSSKDANKYEKSIPPVTSSIQAQQSTKKAPPPVVKPKPRNFSLKANEYPKELTREATGQDEVLNSITNELSHIKLRKTNVNLEKLGGSKKVKDSSPVPSDLDEKYVSASGSITPPRPPPSRSSPKKVPPVVPKKNDNLKKKPPVVPKKKPLLKSLEPRPIEMERAYSGDISAADDNLNPFERYKRNVVPQEDDRLHKLK',\n",
       " 'YBR109C': 'MSSNLTEEQIAEFKEAFALFDKDNNGSISSSELATVMRSLGLSPSEAEVNDLMNEIDVDGNHQIEFSEFLALMSRQLKSNDSEQELLEAFKVFDKNGDGLISAAELKHVLTSIGEKLTDAEVDDMLREVSDGSGEINIQQFAALLSK',\n",
       " 'YBR110W': 'MFLEIPRWLLALIILYLSIPLVVYYVIPYLFYGNKSTKKRIIIFVLGDVGHSPRICYHAISFSKLGWQVELCGYVEDTLPKIISSDPNITVHHMSNLKRKGGGTSVIFMVKKVLFQVLSIFKLLWELRGSDYILVQNPPSIPILPIAVLYKLTGCKLIIDWHNLAYSILQLKFKGNFYHPLVLISYMVEMIFSKFADYNLTVTEAMRKYLIQSFHLNPKRCAVLYDRPASQFQPLAGDISRQKALTTKAFIKNYIRDDFDTEKGDKIIVTSTSFTPDEDIGILLGALKIYENSYVKFDSSLPKILCFITGKGPLKEKYMKQVEEYDWKRCQIEFVWLSAEDYPKLLQLCDYGVSLHTSSSGLDLPMKILDMFGSGLPVIAMNYPVLDELVQHNVNGLKFVDRRELHESLIFAMKDADLYQKLKKNVTQEAENRWQSNWERTMRDLKLIH',\n",
       " 'YBR111C': 'MFLRNVRVISLNSRRLFRTMSTVKGKPEDAKIIEARHVKETSDCKWIGLQKIIYKDPNGKEREWDSAVRTTRSSGGVDGIGILTILKYKDGKPDEILLQKQFRPPVEGVCIEMPAGLIDAGEDIDTAALRELKEETGYSGKIISKSPTVFNDPGFTNTNLCLVTVEVDMSLPENQKPVTQLEDNEFIECFSVELHKFPDEMVKLDQQGYKLDARVQNVAQGILMAKQYHIK',\n",
       " 'YBR111W-A': 'MTMDTAQLKSQIQQYLVESGNYELISNELKARLLQEGWVDKVKDLTKSEMNINESTNFTQILSTVEPKALEMVSDSTRETVLKQIREFLEEIVDTQ',\n",
       " 'YBR112C': 'MNPGGEQTIMEQPAQQQQQQQQQQQQQQQQAAVPQQPLDPLTQSTAETWLSIASLAETLGDGDRAAMAYDATLQFNPSSAKALTSLAHLYRSRDMFQRAAELYERALLVNPELSDVWATLGHCYLMLDDLQRAYNAYQQALYHLSNPNVPKLWHGIGILYDRYGSLDYAEEAFAKVLELDPHFEKANEIYFRLGIIYKHQGKWSQALECFRYILPQPPAPLQEWDIWFQLGSVLESMGEWQGAKEAYEHVLAQNQHHAKVLQQLGCLYGMSNVQFYDPQKALDYLLKSLEADPSDATTWYHLGRVHMIRTDYTAAYDAFQQAVNRDSRNPIFWCSIGVLYYQISQYRDALDAYTRAIRLNPYISEVWYDLGTLYETCNNQLSDALDAYKQAARLDVNNVHIRERLEALTKQLENPGNINKSNGAPTNASPAPPPVILQPTLQPNDQGNPLNTRISAQSANATASMVQQQHPAQQTPINSSATMYSNGASPQLQAQAQAQAQAQAQAQAQAQAQAQAQAQAQAQAQAQAQAQAQAQAHAQAQAQAQAQAQAQAQAQAQQQQQQQQQQQQQQQQQQQQQQQQQQQQQQQLQPLPRQQLQQKGVSVQMLNPQQGQPYITQPTVIQAHQLQPFSTQAMEHPQSSQLPPQQQQLQSVQHPQQLQGQPQAQAPQPLIQHNVEQNVLPQKRYMEGAIHTLVDAAVSSSTHTENNTKSPRQPTHAIPTQAPATGITNAEPQVKKQKLNSPNSNINKLVNTATSIEENAKSEVSNQSPAVVESNTNNTSQEEKPVKANSIPSVIGAQEPPQEASPAEEATKAASVSPSTKPLNTEPESSSVQPTVSSESSTTKANDQSTAETIELSTATVPAEASPVEDEVRQHSKEENGTTEASAPSTEEAEPAASRDAEKQQDETAATTITVIKPTLETMETVKEEAKMREEEQTSQEKSPQENTLPRENVVRQVEEDENYDD',\n",
       " 'YBR114W': 'MQEGGFIRRRRTRSTKKSVNYNELSDDDTAVKNSKTLQLKGNSENVNDSQDEEYRDDATLVKSPDDDDKDFIIDLTGSDKERTATDENTHAIKNDNDEIIEIKEERDVSDDDEPLTKKRKTTARKKKKKTSTKKKSPKVTPYERNTLRLYEHHPELRNVFTDLKNAPPYVPQRSKQPDGMTIKLLPFQLEGLHWLISQEESIYAGGVLADEMGMGKTIQTIALLMNDLTKSPSLVVAPTVALMQWKNEIEQHTKGQLKIYIYHGASRTTDIKDLQGYDVVLTTYAVLESVFRKQNYGFRRKNGLFKQPSVLHNIDFYRVILDEAHNIKDRQSNTARAVNNLKTQKRWCLSGTPLQNRIGEMYSLIRFLNINPFTKYFCTKCDCASKDWKFTDRMHCDHCSHVIMQHTNFFNHFMLKNIQKFGVEGPGLESFNNIQTLLKNIMLRRTKVERADDLGLPPRIVTVRRDFFNEEEKDLYRSLYTDSKRKYNSFVEEGVVLNNYANIFTLITRMRQLADHPDLVLKRLNNFPGDDIGVVICQLCNDEAEEPIESKCHHKFCRLCIKEYVESFMENNNKLTCPVCHIGLSIDLSQPALEVDLDSFKKQSIVSRLNMSGKWQSSTKIEALVEELYKLRSNKRTIKSIVFSQFTSMLDLVEWRLKRAGFQTVKLQGSMSPTQRDETIKYFMNNIQCEVFLVSLKAGGVALNLCEASQVFILDPWWNPSVEWQSGDRVHRIGQYRPVKITRFCIEDSIEARIIELQEKKANMIHATINQDEAAISRLTPADLQFLFNN',\n",
       " 'YBR115C': 'MTNEKVWIEKLDNPTLSVLPHDFLRPQQEPYTKQATYSLQLPQLDVPHDSFSNKYAVALSVWAALIYRVTGDDDIVLYIANNKILRFNIQPTWSFNELYSTINNELNKLNSIEANFSFDELAEKIQSCQDLERTPQLFRLAFLENQDFKLDEFKHHLVDFALNLDTSNNAHVLNLIYNSLLYSNERVTIVADQFTQYLTAALSDPSNCITKISLITASSKDSLPDPTKNLGWCDFVGCIHDIFQDNAEAFPERTCVVETPTLNSDKSRSFTYRDINRTSNIVAHYLIKTGIKRGDVVMIYSSRGVDLMVCVMGVLKAGATFSVIDPAYPPARQTIYLGVAKPRGLIVIRAAGQLDQLVEDYINDELEIVSRINSIAIQENGTIEGGKLDNGEDVLAPYDHYKDTRTGVVVGPDSNPTLSFTSGSEGIPKGVLGRHFSLAYYFNWMSKRFNLTENDKFTMLSGIAHDPIQRDMFTPLFLGAQLYVPTQDDIGTPGRLAEWMSKYGCTVTHLTPAMGQLLTAQATTPFPKLHHAFFVGDILTKRDCLRLQTLAENCRIVNMYGTTETQRAVSYFEVKSKNDDPNFLKKLKDVMPAGKGMLNVQLLVVNRNDRTQICGIGEIGEIYVRAGGLAEGYRGLPELNKEKFVNNWFVEKDHWNYLDKDNGEPWRQFWLGPRDRLYRTGDLGRYLPNGDCECCGRADDQVKIRGFRIELGEIDTHISQHPLVRENITLVRKNADNEPTLITFMVPRFDKPDDLSKFQSDVPKEVETDPIVKGLIGYHLLSKDIRTFLKKRLASYAMPSLIVVMDKLPLNPNGKVDKPKLQFPTPKQLNLVAENTVSETDDSQFTNVEREVRDLWLSILPTKPASVSPDDSFFDLGGHSILATKMIFTLKKKLQVDLPLGTIFKYPTIKAFAAEIDRIKSSGGSSQGEVVENVTANYAEDAKKLVETLPSSYPSREYFVEPNSAEGKTTINVFVTGVTGFLGSYILADLLGRSPKNYSFKVFAHVRAKDEEAAFARLQKAGITYGTWNEKFASNIKVVLGDLSKSQFGLSDEKWMDLANTVDIIIHNGALVHWVYPYAKLRDPNVISTINVMSLAAVGKPKFFDFVSSTSTLDTEYYFNLSDKLVSEGKPGILESDDLMNSASGLTGGYGQSKWAAEYIIRRAGERGLRGCIVRPGYVTGASANGSSNTDDFLLRFLKGSVQLGKIPDIENSVNMVPVDHVARVVVATSLNPPKENELAVAQVTGHPRILFKDYLYTLHDYGYDVEIESYSKWKKSLEASVIDRNEENALYPLLHMVLDNLPESTKAPELDDRNAVASLKKDTAWTGVDWSNGIGVTPEEVGIYIAFLNKVGFLPPPTHNDKLPLPSIELTQAQISLVASGAGARGSSAAA',\n",
       " 'YBR117C': 'MAQFSDIDKLAVSTLRLLSVDQVESAQSGHPGAPLGLAPVAHVIFKQLRCNPNNEHWINRDRFVLSNGHSCALLYSMLHLLGYDYSIEDLRQFRQVNSRTPGHPEFHSAGVEITSGPLGQGISNAVGMAIAQANFAATYNEDGFPISDSYTFAIVGDGCLQEGVSSETSSLAGHLQLGNLITFYDSNSISIDGKTSYSFDEDVLKRYEAYGWEVMEVDKGDDDMESISSALEKAKLSKDKPTIIKVTTTIGFGSLQQGTAGVHGSALKADDVKQLKKRWGFDPNKSFVVPQEVYDYYKKTVVEPGQKLNEEWDRMFEEYKTKFPEKGKELQRRLNGELPEGWEKHLPKFTPDDDALATRKTSQQVLTNMVQVLPELIGGSADLTPSNLTRWEGAVDFQPPITQLGNYAGRYIRYGVREHGMGAIMNGISAFGANYKPYGGTFLNFVSYAAGAVRLAALSGNPVIWVATHDSIGLGEDGPTHQPIETLAHLRAIPNMHVWRPADGNETSAAYYSAIKSGRTPSVVALSRQNLPQLEHSSFEKALKGGYVIHDVENPDIILVSTGSEVSISIDAAKKLYDTKKIKARVVSLPDFYTFDRQSEEYRFSVLPDGVPIMSFEVLATSSWGKYAHQSFGLDEFGRSGKGPEIYKLFDFTADGVASRAEKTINYYKGKQLLSPMGRAF',\n",
       " 'YBR118W': 'MGKEKSHINVVVIGHVDSGKSTTTGHLIYKCGGIDKRTIEKFEKEAAELGKGSFKYAWVLDKLKAERERGITIDIALWKFETPKYQVTVIDAPGHRDFIKNMITGTSQADCAILIIAGGVGEFEAGISKDGQTREHALLAFTLGVRQLIVAVNKMDSVKWDESRFQEIVKETSNFIKKVGYNPKTVPFVPISGWNGDNMIEATTNAPWYKGWEKETKAGVVKGKTLLEAIDAIEQPSRPTDKPLRLPLQDVYKIGGIGTVPVGRVETGVIKPGMVVTFAPAGVTTEVKSVEMHHEQLEQGVPGDNVGFNVKNVSVKEIRRGNVCGDAKNDPPKGCASFNATVIVLNHPGQISAGYSPVLDCHTAHIACRFDELLEKNDRRSGKKLEDHPKFLKSGDAALVKFVPSKPMCVEAFSEYPPLGRFAVRDMRQTVAVGVIKSVDKTEKAAKVTKAAQKAAKK',\n",
       " 'YBR119W': 'MSALYFQNLPSRPANKENYTRLLLKHINPNNKYAINPSLPLPHNKLQISSQPLMLLDDQMGLLEVSISRSSKMTNQAFLTFVTQEEADRFLEKYTTTALKVQGRKVRMGKARTNSLLGLSIEMQKKKGNDETYNLDIKKVLKARKLKRKLRSDDICAKKFRLKRQIRRLKHKLRSRKVEEAEIDRIVKEFETRRLENMKSQQENLKQSQKPLKRAKVSNTMENPPNKVLLIQNLPSGTTEQLLSQILGNEALVEIRLVSVRNLAFVEYETVADATKIKNQLGSTYKLQNNDVTIGFAK',\n",
       " 'YBR120C': 'MSSSQVVRDSAKKLVNLLEKYPKDRIHHLVSFRDVQIARFRRVAGLPNVDDKGKSIKEKKPSLDEIKSIINRTSGPLGLNKEMLTKIQNKMVDEKFTEESINEQIRALSTIMNNKFRNYYDIGDKLYKPAGNPQYYQRLINAVDGKKKESLFTAMRTVLFGK',\n",
       " 'YBR121C': 'MSVEDIKKARAAVPFNREQLESVLRGRFFYAPAFDLYGGVSGLYDYGPPGCAFQNNIIDAWRKHFILEEDMLEVDCTMLTPYEVLKTSGHVDKFSDWMCRDLKTGEIFRADHLVEEVLEARLKGDQEARGLVEDANAAAKDDAEKKKRKKKVKQIKAVKLDDDVVKEYEEILAKIDGYSGPELGELMEKYDIGNPVTGETLESPRAFNLMFETAIGPSGQLKGYLRPETAQGQFLNFNKLLEFNNSKTPFASASIGKSFRNEISPRAGLLRVREFLMAEIEHFVDPLDKSHPKFNEIKDIKLSFLPRDVQEAGSTEPIVKTVGEAVASRMVDNETLGYFIARIYQFLMKIGVDESKLRFRQHMANEMAHYAADCWDGELKTSYGWIECVGCADRSAYDLTVHSKKTKEKLVVRQKLDNPIEVTKWEIDLTKKLFGPKFRKDAPKVESHLLNMSQDDLASKAELLKANGKFTIKVDGVDGEVELDDKLVKIEQRTKVEHVREYVPSVIEPSFGIGRIIYSVFEHSFWNRPEDNARSVLSFPPLVAPTKVLLVPLSNHKDLVPVTTEVAKILRKSQIPFKIDDSGVSIGKRYARNDELGTPFGVTIDFESAKDHSVTLRERDSTKQVRGSVENVIKAIRDITYNGASWEEGTKDLTPFIAQAEAEAETD',\n",
       " 'YBR122C': 'MLKSIFAKRFASTGSYPGSTRITLPRRPAKKIQLGKSRPAIYHQFNVKMELSDGSVVIRRSQYPKGEIRLIQDQRNNPLWNPSRDDLVVVDANSGGSLDRFNKRYSSLFSVDSTTPNSSSETVELSEENKKKTQIKKEEKEDVSEKAFGMDDYLSLLDDSEQQIKSGKLASKKRDKK',\n",
       " 'YBR123C': 'MPVEEPLATLSSIPDSSADQAPPLIADEFTLDLPRIPSLELPLNVSTKHSSIQKAIKMCGGIEKVKEAFKEHGPIESQHGLQLYLNDDTDSDGSKSYFNEHPVIGKRVPFRDESVILKVTMPKGTLSKNNNSVKDSIKSLKDSNKLRVTPVSIVDNTIKFREMSDFQIKLDNVPSAREFKSSFGSLEWNNFKSFVNSVPDNDSQPQENIGNLILDRSVKIPSTDFQLPPPPKLSMVGFPLLYKYKANPFAKKKKNGVTEVKGTYIKNYQLFVHDLSDKTVIPSQAHEQVLYDFEVAKKTKVYPGTKSDSKFYESLEECLKILRELFARRPIWVKRHLDGIVPKKIHHTMKIALALISYRFTMGPWRNTYIKFGIDPRSSVEYAQYQTEYFKIERKLLSSPIVKKNVPKPPPLVFESDTPGGIDSRFKFDGKRIPWYLMLQIDLLIGEPNIAEVFHNVEYLDKANELTGWFKELDLVKIRRIVKYELGCMVQGNYEYNKYKLKYFKTMLFVKESMVPENKNSEEGMGVNTNKDADGDINMDAGSQMSSNAIEEDKGIAAGDDFDDNGAITEEPDDAALENEEMDTDQNLKVPASIDDDVDDVDADEEEQESFDVKTASFQDIINKIAKLDPKTAETMKSELKGFVDEVDL',\n",
       " 'YBR125C': 'MGQLLSHPLTEKTIEYNEYKNNQASTGIVPRFYNCVGSMQGYRLTQEDAHLIRNENSVVYVRFFNPFIDKYETLSLNVFAVFDGHGGDDCSKFLSGGRHHRDGNGSSNGNGEPNAGLIKWIAYSFENHHYTSTTNNDSSKFKRSFNTLEGLVSQIFKDAFILQDEELYRHFANSSCGSTAVVACIINEESLYVANCGDSRCILSSKSNGIKTMSFDHKPQHIGELIRINDNGGTVSLGRVGGVLALSRAFSDFQFKRGVTYPHRRTKLTNITQNLTYGTPPQEAQVTVEPDVLMHKIDYSKDEFLVLACDGIWDIYNNKQLIHFIKYHLVSGTKLDTIITKLLDHGIAQANSNTGVGFDNMTAIIVVLNRKGETLQDWFNKMKTRLERERGLV',\n",
       " 'YBR126C': 'MTTDNAKAQLTSSSGGNIIVVSNRLPVTITKNSSTGQYEYAMSSGGLVTALEGLKKTYTFKWFGWPGLEIPDDEKDQVRKDLLEKFNAVPIFLSDEIADLHYNGFSNSILWPLFHYHPGEINFDENAWLAYNEANQTFTNEIAKTMNHNDLIWVHDYHLMLVPEMLRVKIHEKQLQNVKVGWFLHTPFPSSEIYRILPVRQEILKGVLSCDLVGFHTYDYARHFLSSVQRVLNVNTLPNGVEYQGRFVNVGAFPIGIDVDKFTDGLKKESVQKRIQQLKETFKGCKIIVGVDRLDYIKGVPQKLHAMEVFLNEHPEWRGKVVLVQVAVPSRGDVEEYQYLRSVVNELVGRINGQFGTVEFVPIHFMHKSIPFEELISLYAVSDVCLVSSTRDGMNLVSYEYIACQEEKKGSLILSEFTGAAQSLNGAIIVNPWNTDDLSDAINEALTLPDVKKEVNWEKLYKYISKYTSAFWGENFVHELYSTSSSSTSSSATKN',\n",
       " 'YBR126W-A': 'MAITPDKQKKEQQHQPQNGPLDYAHICKCIAMFFVVAGVVLMFFETGLDPEQKEQIKRLHQLDGIPHA',\n",
       " 'YBR127C': 'MVLSDKELFAINKKAVEQGFNVKPRLNYNTVSGVNGPLVILEKVKFPRYNEIVNLTLPDGTVRQGQVLEIRGDRAIVQVFEGTSGIDVKKTTVEFTGESLRIPVSEDMLGRIFDGSGRPIDNGPKVFAEDYLDINGSPINPYARIYPEEMISTGVSAIDTMNSIARGQKIPIFSASGLPHNEIAAQICRQAGLVRPTKDVHDGHEENFSIVFAAMGVNLETARFFKQDFEENGSLERTSLFLNLANDPTIERIITPRLALTTAEYLAYQTERHVLTILTDMSSYADALREVSAAREEVPGRRGYPGYMYTDLSTIYERAGRVEGRNGSITQIPILTMPNDDITHPIPDLTGYITEGQIFVDRQLHNKGIYPPINVLPSLSRLMKSAIGEGMTRKDHGDVSNQLYAKYAIGKDAAAMKAVVGEEALSIEDKLSLEFLEKFEKTFITQGAYEDRTVFESLDQAWSLLRIYPKEMLNRISPKILDEFYDRARDDADEDEEDPDTRSSGKKKDASQEESLI',\n",
       " 'YBR128C': 'MHCPICHHRAHVVYCAHCINTSPSLLLKLKLDLILLKDENKELNGKVEQILNEAMNYDQLDIKRMEKKKDPLMNSLMKLDVLRMKKNNNLIRHRIEQLNERIYSKRNHISELKVEIDNYKCYKVGTGTDKLREQVEISDAKNKLAQVSKICESARDYKLNLLNNWFVIQKLQDNFQIPFAIAFQPLISLKNFRILPLAITNDSINIMWKYISFFSDILMIKLPYTNKICEQPMFEFSDSIQTVVQRLIKLIINILQICRHLKLVPSTPMDIPWLLDQYDVDGLFYNMVKRNKMKCRSVSLYWTFGMLYSMVLDNMNNPQRGHPARRTAPPPTVTGPHDRWYVVG',\n",
       " 'YBR129C': 'MIAGATAPSSQHEILIASNLIKKPSTSQNKTPTAQSSSGNNGAADGAPQGYHHHHHHHRHLWWPRTTDHQYWCVLRKNQFAYYKTRDEREAISVIPRFDILNFKISELDGILTVYTPSKDLIFKFPRGQNEKVGMELMHNWKIALEKFLSSPSGNESVTTGSDYDEEEDDDDLIVVDEKAGPSSSKHSCSLTMDEQLSREDKEFYRMFDPRNAEHQVCSGILYTKVKKKKLFNRAKWQKFNVELTNTSFNLYSFKTGKLKKSIKLDKIIDCIELDNNSKMKNDDTNFALITFDERLSFKAANDQDMVDWIINFKSGILIRKKLKAENI',\n",
       " 'YBR130C': 'MSDQDNTQTSSSKLAPHHNIFMANLESSPTKDRNTSSQNASSSRVIESLHDQIDMLTKTNLQLTTQSQNLLSKLELAQSKESKLLENLNLLKNENENLNSIFERKNKKLKELEKDYSELSNRYNEQKEKMDQLSKLAKNSSAIEQSCSEKLQNMEVNYNSLLESQNLYRDHYSDEISKLNEKIGLLELELSNQNLNYGSDTSSNSDIELNLNKFNDSVKDLKSLETEKDSKLSKIITHSLDELNLQSWLNLYQTNENLISTFAEKMDLKDVLKRNDEKISNKGAVVQTLKKNVQTQVESNNADALSSNNAQDMLPIKMVKLRKTPNTNDSSSNGNSSNNKRRSFYTASPLLSSGSIPKSASPVLPGVKRTASVRKPSSSSSKTNVTHNNDPSTSPTISVPPGVTRTVSSTHKKKGNSMVVHGAQS',\n",
       " 'YBR131W': 'MRLHYITVFDPSRSTNENDTFKQLLLFHYFGTTDSIPSLNEKLSIIGVIQGIWSLTSSCVNKDGEDLEKIIELNNDIIFCIKVESRFFISLAISNISDDQSAIPLQYLSAYLWLSYRFFKLLNGSFSGFNKDFRKLTDLLNEFVIPFWNDIYLNLETVTNRSFTVMWPGFYKRANFQHSSYNPGEKNNVEESWDAIILQNILLDKKSYLGLKDILVYHLPKRTKAANRESMGTKTYGLVRNFTSDLNTLPDISNWLYHLHCTYGEISSHILTGNVHFKEELQVEEEQERSRDTNGRDEEESQEQQRREHQETTQNNTSELSLSERVIHNVTLPISFAYDAIHEVSTTTGVSGSLSMIMDYVPKPHWPFISSSNKSADKNNYSNSNDNANSNAPLMAQSEAVGGTIGNSRFGFLISPLNSDLLPSSYQALKLNLNFENSKDKEDFYNCLFWYFDDFLIVIVCDPDFNKICERDYLKDLSFQLCQSMECLNNEILNSQNCDNVESFAYVIRDNVTKEIDSSVPFGSPKFTSDESISTLQLAINGIDQFINDNSNSLSLANWNPITIMGGSNAISKKNTTEGFGNGVNDKTQKFKRKYLNFLNLMSAEKLWDLQVDVLQFLTSLQNSKRDPDYFQEERLLKLNNGVLCYIKENNSNLIIIIKNWFQNNGTSKAAKQRNRFSSDSSKGSSLFQSLGRDVTDWWESREI',\n",
       " 'YBR132C': 'MTKERMTIDYENDGDFEYDKNKYKTITTRIKSIEPSEGWLEPSGSVGHINTIPEAGDVHVDEHEDRGSSIDDDSRTYLLYFTETRRKLENRHVQLIAISGVIGTALFVAIGKALYRGGPASLLLAFALWCVPILCITVSTAEMVCFFPVSSPFLRLATKCVDDSLAVMASWNFWFLECVQIPFEIVSVNTIIHYWRDDYSAGIPLAVQVVLYLLISICAVKYYGEMEFWLASFKIILALGLFTFTFITMLGGNPEHDRYGFRNYGESPFKKYFPDGNDVGKSSGYFQGFLACLIQASFTIAGGEYISMLAGEVKRPRKVLPKAFKQVFVRLTFLFLGSCLCVGIVCSPNDPDLTAAINEARPGAGSSPYVIAMNNLKIRILPDIVNIALITAAFSAGNAYTYCSSRTFYGMALDGYAPKIFTRCNRHGVPIYSVAISLVWALVSLLQLNSNSAVVLNWLINLITASQLINFVVLCIVYLFFRRAYHVQQDSLPKLPFRSWGQPYTAIIGLVSCSAMILIQGYTVFFPKLWNTQDFLFSYLMVFINIGIYVGYKFIWKRGKDHFKNPHEIDFSKELTEIENHEIESSFEKFQYYSKA',\n",
       " 'YBR133C': 'MHSNVFVGVKPGFNHKQHSKKSRFLENVSSHSPELPSNYDYVLLPITTPRYKEIVGQVFKDFQRQSIQNWKPLQIPEPQLQDICIPPFNVKKLDNDDTPSYIGLLSSWLELESRDPNVRDLGLKVLLNECKYARFVGINKLILAPPRDLSNLQLYGQMIYRLLQNRIVFAAPALTISISLPLYEDSDPLATWELWNTVRKQCEYHPSLTISLALPRTRTPSYVLNRWLAEPVSCLLVSSSIFASNQYDYPVLHKFNQNLILKFQKVNGDSQILGNELCVILHGMEKYANNVKGGESAYLEYINYLLKKGDKVLNSNSNHQFLLQEDSRIMPPLKPHSDNLLNSTYLTFEKDLVKYDLYESAILEALQDLAPRASAKRPLVILVAGAGRGPLVDRTFKIISMLFMDSKVSIIAIEKNPQAYLYLQKRNFDCWDNRVKLIKEDMTKWQINEPSEKRIQIDLCISELLGSFGCNELSPECLWSIEKYHSHNDTIFIPRSYSSYIAPISSPLFYQKLSQTNRSLEAPWIVHRVPYCILSSRVNEVWRFEHPMAQKDTVQDEDDFTVEFSQSSLNEFKIKHRGEIHGFIGFFSANLYNNIFLSTLPNDSTVRLKFSEETLMNTRREENLIKKCDHTPNMTSWSPIIFPLKQPISFIDDSELSVLMSRIHSDTEQKVWYEWSLESFIYLMLSNYTSAVTAASMTIPRSIVTDDTKTLAHNRHYSATTNQKLDNQIDLDQDIENEEEQGFLSNLETGWQSVQDIHGLSETAKPDHLDSINKPMFDLKSTKALEPSNELPRHEDLEEDVPEVHVRVKTSVSTLHNVCGRAFSLPL',\n",
       " 'YBR135W': 'MYHHYHAFQGRKLTDQERARVLEFQDSIHYSPRYSDDNYEYRHVMLPKAMLKVIPSDYFNSEVGTLRILTEDEWRGLGITQSLGWEHYECHAPEPHILLFKRPLNYEAELRAATAAAQQQQQQQQQQQQQQQQHQTQSISNDMQVPPQIS',\n",
       " 'YBR136W': 'MESHVKYLDELILAIKDLNSGVDSKVQIKKVPTDPSSSQEYAKSLKILNTLIRNLKDQRRNNIMKNDTIFSKTVSALALLLEYNPFLLVMKDSNGNFEIQRLIDDFLNISVLNYDNYHRIWFMRRKLGSWCKACVEFYGKPAKFQLTAHFENTMNLYEQALTEVLLGKTELLKFYDTLKGLYILLYWFTSEYSTFGNSIAFLDSSLGFTKFDFNFQRLIRIVLYVFDSCELAALEYAEIQLKYISLVVDYVCNRTISTALDAPALVCCEQLKFVLTTMHHFLDNKYGLLDNDPTMAKGILRLYSLCISNDFSKCFVDHFPIDQWADFSQSEHFPFTQLTNKALSIVYFDLKRRSLPVEALKYDNKFNIWVYQSEPDSSLKNVTSPFDDRYKQLEKLRLLVLKKFNKTERGTLLKYRVNQLSPGFFQRAGNDFKLILNEASVSIQTCFKTNNITRLTSWTVILGRLACLESEKFSGTLPNSTKDMDNWYVCHLCDIEKTGNPFVRINPNRPEAAGKSEIFRILHSNFLSHPNIDEFSESLLSGILFSLHRIFSHFQPPKLTDGNGQINKSFKLVQKCFMNSNRYLRLLSTRIIPLFNISDSHNSEDEHTATLIKFLQSQKLPVVKENLVIAWTQLTLTTSNDVFDTLLLKLIDIFNSDDYSLRIMMTLQIKNMAKILKKTPYQLLSPILPVLLRQLGKNLVERKVGFQNLIELLGYSSKTILDIFQRYIIPYAIIQYKSDVLSEIAKIMCDGDTSLINQMKVNLLKKNSRQIFAVALVKHGLFSLDILETLFLNRAPTFDKGYITAYLPDYKTLAEITKLYKNSVTKDASDSENANMILCSLRFLITNFEKDKRHGSKYKNINNWTDDQEQAFQKKLQDNILGIFQVFSSDIHDVEGRTTYYEKLRVINGISFLIIYAPKKSIISALAQISICLQTGLGLKEVRYEAFRCWHLLVRHLNDEELSTVIDSLIAFILQKWSEFNGKLRNIVYSILDTLIKEKSDLILKLKPYTTLALVGKPELGILARDGQFARMVNKIRSTTDLIPIFANNLKSSNKYVINQNLDDIEVYLRRKQTERSIDFTPKKVGQTSDITLVLGALLDTSHKFRNLDKDLCEKCAKCISMIGVLDVTKHEFKRTTYSENEVYDLNDSVQTIKFLIWVINDILVPAFWQSENPSKQLFVALVIQESLKYCGLSSESWDMNHKELYPNEAKLWEKFNSVSKTTIYPLLSSLYLAQSWKEYVPLKYPSNNFKEGYKIWVKRFTLDLLKTGTTENHPLHVFSSLIREDDGSLSNFLLPYISLDIIIKAEKGTPYADILNGIIIEFDSIFTCNLEGMNNLQVDSLRMCYESIFRVFEYCKKWATEFKQNYSKLHGTFIIKDTKTTNMLLRIDEFLRTTPSDLLAQRSLETDSFERSALYLEQCYRQNPHDKNQNGQLLKNLQITYEEIGDIDSLDGVLRTFATGNLVSKIEELQYSENWKLAQDCFNVLGKFSDDPKTTTRMLKSMYDHQLYSQIISNSSFHSSDGKISLSPDVKEWYSIGLEAANLEGNVQTLKNWVEQIESLRNIDDREVLLQYNIAKALIAISNEDPLRTQKYIHNSFRLIGTNFITSSKETTLLKKQNLLMKLHSLYDLSFLSSAKDKFEYKSNTTILDYRMERIGADFVPNHYILSMRKSFDQLKMNEQADADLGKTFFTLAQLARNNARLDIASESLMHCLERRLPQAELEFAEILWKQGENDRALKIVQEIHEKYQENSSVNARDRAAVLLKFTEWLDLSNNSASEQIIKQYQDIFQIDSKWDKPYYSIGLYYSRLLERKKAEGYITNGRFEYRAISYFLLAFEKNTAKVRENLPKVITFWLDIAAASISEAPGNRKEMLSKATEDICSHVEEALQHCPTYIWYFVLTQLLSRLLHSHQSSAQIIMHILLSLAVEYPSHILWYITALVNSNSSKRVLRGKHILEKYRQHSQNPHDLVSSALDLTKALTRVCLQDVKSITSRSGKSLEKDFKFDMNVAPSAMVVPVRKNLDIISPLESNSMRGYQPFRPVVSIIRFGSSYKVFSSLKKPKQLNIIGSDGNIYGIMCKKEDVRQDNQYMQFATTMDFLLSKDIASRKRSLGINIYSVLSLREDCGILEMVPNVVTLRSILSTKYESLKIKYSLKSLHDRWQHTAVDGKLEFYMEQVDKFPPILYQWFLENFPDPINWFNARNTYARSYAVMAMVGHILGLGDRHCENILLDIQTGKVLHVDFDCLFEKGKRLPVPEIVPFRLTPNLLDALGIIGTEGTFKKSSEVTLALMRKNEVALMNVIETIMYDRNMDHSIQKALKVLRNKIRGIDPQDGLVLSVAGQTETLIQEATSEDNLSKMYIGWLPFW',\n",
       " 'YBR137W': 'MVVLDKKLLERLTSRKVPLEELEDMEKRCFLSTFTYQDAFDLGTYIRNAVKENFPEKPVAIDISLPNGHCLFRTVTYGGSALDNDFWIQRKKKTALRFGHSSFYMGCKKGDKTPEEKFFVDSKEYAFHGGAVLIQSERSDYPYACLTISGLKQEEDHLMAVSSLIAFANESLEEDLNLD',\n",
       " 'YBR138C': 'MEKDQIQPRVLESVDTNSLSLLSSNTSSNMNSNTNNKLSIIASDISTGSVLSRPLTPPVVQDIENNSMLQWQFEKKEFIFDSNSTPSKQAKPLQRNSPYQGNSQSENQNQQLLNVRKRRSQLIGAKPKIPSKLYQSVSKLDLIDDKSFTSLPIAPPCNIETNEDDSGNNEYNNNKKRPRLNPVNELRVHNNKRNRYVSYGPSLDTKNYELTENTSQDIPPLVLVEDYIPYTQSKSTKKMVSISDLKSKLSKRRDNHIPLRVKNSYSEINKETNRNSFEPNSLTLIPHILRNTEENRDESNNPLDFIKEEIEISDISIPNSIENMVVNLVNIPSSNKSYDDLYLSELNVHSQLRKCVICEKALYEISSRLLNSGYYKEIVCEQCTVRYEEAAKIFENCEFESSMDESNLSSGTFSDLENSAEPFHLSTDVPKKINRHIEDNKIDLKKEISKKKDSFSKELIERLQLQLLENDKSIKHHFNKDAMGSKSMNWFLEARRKLKWKWRINGLLPHFLRNQNSDRLNFQP',\n",
       " 'YBR139W': 'MKYLNLVFVLQLLISIKYASFGRAFSLFEDDTTFANLDKQLKLPQNTQQTLKLDRLNHDDPLFTTFISSVDTDYSLRLRTVDPSKLGIDTVKQWSGYMDYKDSKHFFYWFFESRNDPANDPIILWLNGGPGCSSFTGLLFELGPSSIGADMKPIHNPYSWNNNASMIFLEQPLGVGFSYGDEKVSSTKLAGKDAYIFLELFFEAFPHLRSNDFHIAGESYAGHYIPQIAHEIVVKNPERTFNLTSVMIGNGITDPLIQADYYEPMACGKGGYHPVLSSEECEKMSKAAGRCRRLNKLCYASKSSLPCIVATAYCDSALLEPYINTGLNVYDIRGPCEDNSTDGMCYTGLRYVDQYMNFPEVQETLGSDVHNYSGCDNDVFTGFLFTGDGSKPFQQYIAELLNHNIPVLIYAGDKDYICNWLGNHAWSNELEWINKRRYQRRMLRPWVSKETGEELGQVKNYGPFTFLRIYDAGHMVPYDQPEASLEMVNSWISGNRAFSDLSTLENAS',\n",
       " 'YBR140C': 'MNQSDPQDKKNFPMEYSLTKHLFFDRLLLVLPIESNLKTYADVEADSVFNSCRSIILNIAITKDLNPIIENTLGLIDLIVQDEEITSDNITDDIAHSILVLLRLLSDVFEYYWDQNNDFKKIRNDNYKPGFSSHRPNFHTSRPKHTRINPALATMLLCKISKLKFNTRTLKVLQNMSHHLSGSATISKSSILPDSQEFLQKRNYPAYTEKIDLTIDYIQRFISASNHVEFTKCVKTKVVAPLLISHTSTELGVVNHLDLFGCEYLTDKNLLAYLDILQHLSSYMKRTIFHSLLLYYASKAFLFWIMARPKEYVKIYNNLISSDYNSPSSSSDNGGSNNSDKTSISQLVSLLFDDVYSTFSVSSLLTNVNNDHHYHLHHSSSSSKTTNTNSPNSISKTSIKQSSVNASGNVSPSQFSTGNDASPTSPMASLSSPLNTNILGYPLSPITSTLGQANTSTSTTAATTKTDADTPSTMNTNNNNNNNNSANLNNIPQRIFSLDDISSFNSSRKSLNLDDSNSLFLWDTSQHSNASMTNTNMHAGVNNSQSQNDQSSLNYMENIMELYSNYTGSELSSHTAILRFLVVLTLLDSEVYDEMNSNSYRKISEPIMNINPKDSNTSSWGSASKNPSIRHLTHGLKKLTLQQGRKRNVKFLTYLIRNLNGGQFVSDVSLIDSIRSILFLMTMTSSISQIDSNIASVIFSKRFYNLLGQNLEVGTNWNSATANTFISHCVERNPLTHRRLQLEFFASGLQLDSDLFLRHLQLEKELNHIDLPKISLYTEGFRVFFHLVSTKKLHEDIAEKTSSVLKRLFCIIADILLKATPYFDDNVTKIIASILDGHILDQFDAARTLSNDDHVSFDAATSVYTEPTEIIHNSSDASLVSSLSQSPLSINSGSNITNTRTWDIQSILPTLSNRSSASDLSLSNILTNPLEAQQNNNANLLAHRLSGVPTTKRYASPNDSERSRQSPYSSPPQLQQSDLPSPLSVLSSSAGFSSNHSITATPTILKNIKSPKPNKTKKIADDKQLKQPSYSRVILSDNDEARKIMMNIFSIFKRMTNWFIRPDANTEFPKTFTDIIKPLFVSILDSNQRLQVTARAFIEIPLSYIATFEDIDNDLDPRVLNDHYLLCTYAVTLFASSLFDLKLENAKREMLLDIIVKFQRVRSYLSNLAEKHNLVQAIITTERLTLPLLVGAVGSGIFISLYCSRGNTPRLIKISCCEFLRSLRFYQKYVGALDQYSIYNIDFIDAMAQDNFTASGSVALQRRLRNNILTYIKGSDSILLDSMDVIYKKWFYFSCSKSVTQEELVDFRSLAGILASMSGILSDMQELEKSKSAPDNEGDSLSFESRNPAYEVHKSLKLELTKKMNFFISKQCQWLNNPNLLTRENSRDILSIELHPLSFNLLFNNLGLKIDELMSIDLSKSHEDSSFVLLEQIIIIIRTILKRDDDEKIMLLFSTDLLDAVDKLIEIVEKISIKSSKYYKGIIQMSKMFRAFEHSEKNLGISNHFHLKNKWLKLVIGWFKLSINKDYDFENLSRPLREMDLQKRDEDFLYIDTSIESAKALAYLTHNVPLEIPPSSSKEDWNRSSTVSFGNHFTILLKGLEKSADLNQFPVSLRHKISILNENVIIALTNLSNANVNVSLKFTLPMGYSPNKDIRIAFLRVFIDIVTNYPVNPEKHEMDKMLAIDDFLKYIIKNPILAFFGSLACSPADVDLYAGGFLNAFDTRNASHILVTELLKQEIKRAARSDDILRRNSCATRALSLYTRSRGNKYLIKTLRPVLQGIVDNKESFEIDKMKPGSENSEKMLDLFEKYMTRLIDAITSSIDDFPIELVDICKTIYNAASVNFPEYAYIAVGSFVFLRFIGPALVSPDSENIIIVTHAHDRKPFITLAKVIQSLANGRENIFKKDILVSKEEFLKTCSDKIFNFLSELCKIPTNNFTVNVREDPTPISFDYSFLHKFFYLNEFTIRKEIINESKLPGEFSFLKNTVMLNDKILGVLGQPSMEIKNEIPPFVVENREKYPSLYEFMSRYAFKKVDMKEEEEDNAPFVHEAMTLDGIQIIVVTFTNCEYNNFVMDSLVYKVLQIYARMWCSKHYVVIDCTTFYGGKANFQKLTTLFFSLIPEQASSNCMGCYYFNVNKSFMDQWASSYTVENPYLVTTIPRCFINSNTDQSLIKSLGLSGRSLEVLKDVRVTLHDITLYDKEKKKFCPVSLKIGNKYFQVLHEIPQLYKVTVSNRTFSIKFNNVYKISNLISVDVSNTTGVSSEFTLSLDNEEKLVFCSPKYLEIVKMFYYAQLKMEEDFGTDFSNDISFSTSSSAVNASYCNVKEVGEIISHLSLVILVGLFNEDDLVKNISYNLLVATQEAFNLDFGTRLHKSPETYVPDDTTTFLALIFKAFSESSTELTPYIWKYMLDGLENDVIPQEHIPTVVCSLSYWVPNLYEHVYLANDEEGPEAISRIIYSLIRLTVKEPNFTTAYLQQIWFLLALDGRLTNVIVEEIVSHALDRDSENRDWMKAVSILTSFPTTEIACQVIEKLINMIKSFLPSLAVEASAHSWSELTILSKISVSIFFESPLLSQMYLPEILFAVSLLIDVGPSEIRVSLYELLMNVCHSLTNNESLPERNRKNLDIVCATFARQKLNFISGFSQEKGRVLPNFAASSFSSKFGTLDLFTKNIMLLMEYGSISEGAQWEAKYKKYLMDAIFGHRSFFSARAMMILGIMSKSHTSLFLCKELLVETMKVFAEPVVDDEQMFIIIAHVFTYSKIVEGLDPSSELMKELFWLATICVESPHPLLFEGGLLFMVNCLKRLYTVHLQLGFDGKSLAKKLMESRNFAATLLAKLESYNGCIWNEDNFPHIILGFIANGLSIPVVKGAALDCLQALFKNTYYERKSNPKSSDYLCYLFLLHLVLSPEQLSTLLLEVGFEDELVPLNNTLKVPLTLINWLSSDSDKSNIVLYQGALLFSCVMSDEPCKFRFALLMRYLLKVNPICVFRFYTLTRKEFRRLSTLEQSSEAVAVSFELIGMLVTHSEFNYLEEFNDEMVELLKKRGLSVVKPLDIFDQEHIEKLKGEGEHQVAIYERKRLATMILARMSCS',\n",
       " 'YBR141C': 'MHSRKSKSITGKRKQVGSNVTRVIKPQKTRRIIRRFHHLINKRQSICKFLCLKENLDDSNEEKNDKIIRLSIKGNVRLGKYYEDGKSQSFNDAMESQLLRLHSLIKNESKSKDTSDLAVMYTLLGYIMNQINKLGGLETYQIASQNGQLKERGGDTSKLLEKWIRSSFENCPGAVALEIGSLSSGNRISRCALFRNVVRIDLEEHEGVIKQDFMERPLPRNENDKFDLISCSLVLNFVKNHRDRGAMCHRMVKFLKPQGYIFIVLPQACVTHSRYCDKTLLQNLLGSIGLIMLNSHQSNKLYYCLYQLQVVPPQPSSFSKRIKVNDGPGLNNFGITL',\n",
       " 'YBR142W': 'MGKKRAPQKGKTVTKPQEIIVDESKLNWKPVDIPDTLDDFGGFYGLEEIDGVDVKVVDGKVTFVTKKDSKVLKDSNKEKVGDDQESVENESGSDSESELLEFKNLDDIKEGELSAASYSSSDEDEQGNIESSKLTDPSEDVDEDVDEDVLKENVFNKDINIDDISPVNLPEWTNLAPLSMTILQSLQNLNFLRPTEIQKKSIPVIMQGVDVMGKASTGSGKTLAYGIPIVEKLISNFSQKNKKPISLIFTPTRELAHQVTDHLKKICEPVLAKSQYSILSLTGGLSIQKQQRLLKYDNSGQIVIATPGRFLELLEKDNTLIKRFSKVNTLILDEADRLLQDGHFDEFEKIIKHLLVERRKNRENSEGSSKIWQTLIFSATFSIDLFDKLSSSRQVKDRRFKNNEDELNAVIQHLMSKIHFNSKPVIIDTNPESKVSSQIKESLIECPPLERDLYCYYFLTMFPGTTLIFCNAIDSVKKLTVYLNNLGIPAFQIHSSMTQKNRLKSLERFKQQSAKQKTINHSNPDSVQLSTVLIASDVAARGLDIPGVQHVIHYHLPRSTDIYIHRSGRTARAGSEGVSAMICSPQESMGPLRKLRKTLATKNSVSTDLNSRSTNRKPIKWQNTVPLLPIETDILSQLRERSRLAGELADHEIASNSLRKDDNWLKKAADELGIDVDSDEDDISKSNSDTFLLKNKNKKMQKTINKDKVKAMRATLNELLSVPIRKDRRQKYLTGGLVNLADNLVKKRGHNSIIGHEKTNALETLKKKKKRNN',\n",
       " 'YBR143C': 'MDNEVEKNIEIWKVKKLVQSLEKARGNGTSMISLVIPPKGQIPLYQKMLTDEYGTASNIKSRVNRLSVLSAITSTQQKLKLYNTLPKNGLVLYCGDIITEDGKEKKVTFDIEPYKPINTSLYLCDNKFHTEVLSELLQADDKFGFIVMDGQGTLFGSVSGNTRTVLHKFTVDLPKKHGRGGQSALRFARLREEKRHNYVRKVAEVAVQNFITNDKVNVKGLILAGSADFKTDLAKSELFDPRLACKVISIVDVSYGGENGFNQAIELSAEALANVKYVQEKKLLEAYFDEISQDTGKFCYGIDDTLKALDLGAVEKLIVFENLETIRYTFKDAEDNEVIKFAEPEAKDKSFAIDKATGQEMDVVSEEPLIEWLAANYKNFGATLEFITDKSSEGAQFVTGFGGIGAMLRYKVNFEQLVDESEDEYYDEDEGSDYDFI',\n",
       " 'YBR144C': 'MLFDSSFRERRTFYNAAGSVSVPFYKQIAEQTHDIFKRCNVREHILRPCPVDISHFSRDLNGAPLSYTENIKFTAKFWANAWIDYESVMKTLLVKLYISFFFMC',\n",
       " 'YBR145W': 'MPSQVIPEKQKAIVFYETDGKLEYKDVTVPEPKPNEILVHVKYSGVCHSDLHAWHGDWPFQLKFPLIGGHEGAGVVVKLGSNVKGWKVGDFAGIKWLNGTCMSCEYCEVGNESQCPYLDGTGFTHDGTFQEYATADAVQAAHIPPNVNLAEVAPILCAGITVYKALKRANVIPGQWVTISGACGGLGSLAIQYALAMGYRVIGIDGGNAKRKLFEQLGGEIFIDFTEEKDIVGAIIKATNGGSHGVINVSVSEAAIEASTRYCRPNGTVVLVGMPAHAYCNSDVFNQVVKSISIVGSCVGNRADTREALDFFARGLIKSPIHLAGLSDVPEIFAKMEKGEIVGRYVVETSK',\n",
       " 'YBR146W': 'MFSRLSLFRRAALAPAPMRMSFRTIYQKTEDELPRRIVPKLATFYSANPNHEDRINRLERLLRKYIKLPSQNNNEAQQTKAPWISFDEYALIGGGTKLKPTQYTQLLYMLNKLHNIDPQLTNDEITSELSQYYKKSSMLSNNIKIKTLDEFGRSIAVGKRKSSTAKVFVVRGTGEILVNGRQLNDYFLKMKDRESIMYPLQVIESVGKYNIFATTSGGGPTGQAESIMHAIAKALVVFNPLLKSRLHKAGVLTRDYRHVERKKPGKKKARKMPTWVKR',\n",
       " 'YBR147W': 'MKLIPIILNAKNLSGMAGSISICCWIVVFVPQIYENFRRQSAEGLSLLFIVLWLLGDIFNVMGAMMQNLLPTMIILAAYYTLADLILLIQCMWYDKEKKSILQEVKKNVDPVHLPPANPINETVLQDVFNEYEPLLPRIEEEDSQSYSSLELGRTIVVKERENFFNDFLIVSGVLIAGILSWYISYCSGLDNGIPKKKPAFEQINLPAQILGYLSAILYLGSRIPQIVLNFKRKSCEGVSFLFFLFACLGNTSFIISVLSASWLIGSAGTLLMDFTVFIQFFLYAKPKYEKILIDN',\n",
       " 'YBR148W': 'MSSLADTVEGSEAKRGRFSNNALTSDTGILQKNSTLRNWFLKPTADLKNSCEDRVEDDVNDVYLNDKNSQKSVEERKLGRKVRSFFKQTNSNKDESVLEDEDDALVWKKTSNKCAKKENSHDIQKGSFTKKIRNSIFKSANDVKEFRNENNLLLPVELSSDDENESHFTDANSHVMQSKSPEKIPSKDQCLTKGAKNKGLKKEYEKSFEEYSDDSDDEFSPATPPENVLEGPYKFVFQTPNTFTSQPNITVENDFHKGGRHVIDYLNKKLATMNIDIDLTSGGKQNVSWEEELDQLSDHVIESITNHISKGRMHAQEKQDELEKLKLENLNLSTLKQENLQHKQEINSLKDNLESISKKNNDLILEMNKLKKKSTNNKTNEYISTDENENEEITKSNMGPGILELNVNETSKKLQQSTFKPSKYLPRETRNNENRLKHLEKRIFGLEKSLEKKKKQVRADSVRLDLNRYTIDQFLTLLKSLSEVLQFHNVYGNDLKENDDNIIKIETCCSALNMKNCFEDSSFRLQENSFKRQLGPLFANINFSLIDQLTMNFRFYERSANFQKETIGGLRMMLQDKDNYIKTLMQHLKKKESTKLIKDSKNGASTLTS',\n",
       " 'YBR149W': 'MSSSVASTENIVENMLHPKTTEIYFSLNNGVRIPALGLGTANPHEKLAETKQAVKAAIKAGYRHIDTAWAYETEPFVGEAIKELLEDGSIKREDLFITTKVWPVLWDEVDRSLNESLKALGLEYVDLLLQHWPLCFEKIKDPKGISGLVKTPVDDSGKTMYAADGDYLETYKQLEKIYLDPNDHRVRAIGVSNFSIEYLERLIKECRVKPTVNQVETHPHLPQMELRKFCFMHDILLTAYSPLGSHGAPNLKIPLVKKLAEKYNVTGNDLLISYHIRQGTIVIPRSLNPVRISSSIEFASLTKDELQELNDFGEKYPVRFIDEPFAAILPEFTGNGPNLDNLKY',\n",
       " 'YBR150C': 'MNMDSGITSSHGSMDKTQKQSSEWAANQKHNQRVENTRVLMGPAVPAMPPVPSNFPPVPTGTIMSPQLSPFPDHRLRHHPLAHMMPADKNFLAYNMESFKSRVTKACDYCRKRKIRCTEIEPISGKCRNCIKYNKDCTFHFHEELKRRREEALNNKGNGKSVKKPRLDKENKFKDENFDIAVRSRNTSSTDSSPKLHTNLSQEYIGVSAGKSASDKEDTWPDFVPIDRTVLEKIELNHTKVAGKVFVLEEICKNMKGTIEKLAEKSKIDVIDKEYMKRPKRKQYSKALLTKQKMFHFRQNVLSHLTDEEFLSPINEMFTTTFKYSILQTKLVLDFSFRSASSPSSDNILYPLPRLAIAKRLLKNIKCPSLASLLHIVDVDQCLQFADVHFDPAKGRLTSSQAFLLNICLCLGATVTNFEEKQELVDEDNHETYYFEKFELWRLRSFTFLNSVYYYHKLSVARADMTALKALLLLAKFAQQKISASSAVKVLSVAIKVALDLRLNLHSTYEDLELDEIIKRRRLWCYCFSTDKFFSVVLSRPPFLKEENTDVLTDESYVELFRDKILPNLSIKYDDSKLEGVKDIVSVVNLLANHLEYVPYIQSYFLSRLSLIESQIYYSCFSIRTTLDDTLDEIIENVLENQKALDRMRDDLPTILSLENYKENMRILSLDSSKLDFEVSCCTTILLHLRWYHQKITLSLFVISIIGDNLDQRESSRHDIAEIIRRSRLDFKRNCIEVLNILKDFEYYPTVQNEFLYFSLTTVFSMFLYLSEIMVNDEHAMETGYIIGLLRDTHTRMLGSEERCLSVHNLKWQTSLFFYTFFLRSTMEKFNLTSKYAKFYAFDSNYYEGVLNRLVKHTRESKDDMVELLKTSFINKEKMAAFGSFVTEDQEKMEVSFNIFNEITIQDLNFLQFSSIPKLWENKTLEPGEEYHHSNGTNTDNNETTGADDTDDNNNNNNNNNKNGNNSSSTINNNNNNYSNSNNNDNDNNINDDDDDDDDDDDDDDDDDDDDDNDDDYSNNGADDDEEDDDYDRSLFPTGLASLLDASYPERTANDYRDENEQSNKLFEKIEGHLEHGVFFYDRDFFFKNVCVKM',\n",
       " 'YBR151W': 'MAFLNIFKQKRGDEASQLSAKGREEISQSIKICKSDDAANEHSCSGDCKTEIEEGEQAFAKLKIEHETPLLNSSKTPKIHFVVPTSQIDWQHDACLEDPKSVQYKISQWCDKNSAKFSNVGTGKTLNCAVSSLPKDIMDIDVMRGTKNNVLILPYFIWLNDLRSDDVEATLDGLVPDLLDENISREKLLETRPNVAVARERAFVFICSHTTRDKRCGITAPYLKKVFDSKLQEHGLYRDNSDYRAEGVKIAFVNHVGGHKFAANVQIYLRNPNTLIWLGRVTPTIVPSIVEHLIVPEEPTLPFPEKVRCIKKYQSW',\n",
       " 'YBR152W': 'MSFRHFKRRLDTSSADESSSADEEHPDQNVSLTEKSASLSHSDLGGEILNGTGKNRTPNDGQESNESDGSPESDESPESEESSDNSDSSDSDDMRPLPRPLFMKKKANNLQKATKIDQPWNAQDDARVLQTKKENMIKNIDKANQVAKNYETMKLRLNTNYSTNEELIKQCLLLDDNDEVDSEKERQKWFERQNERKQKHRRIQLAKQRESEEYEAKRFEAMQKGKDGNTKYDVILDKEKEKLDHKKQRSAEKVEKSHNNNRYKITRTKNVEFGDLGKNSRDYEETEYSVI',\n",
       " 'YBR153W': 'MSLTPLCEDLPQFLQNYLPNAGQTENTIVPFVTLTYAQSLDARVSRGPGVRTTISHPETKTMTHYLRHHHDGILVGSGTVLADNPGLNCKWGPDPAANSPRPIIIDTKQKWRFDGSKMQELFIKRQGKPPIVVVTSEPIIKEQHVDYAICPINDTTKLVDWKKLFEILKEEFNIRSVMVEGGANVINQLLLRSDIVNSLIITIGSTFLGSSGTEVSPPQTVNLKDMSWWKGITDVVLCARLADD',\n",
       " 'YBR154C': 'MDQENERNISRLWRAFRTVKEMVKDRGYFITQEEVELPLEDFKAKYCDSMGRPQRKMMSFQANPTEESISKFPDMGSLWVEFCDEPSVGVKTMKTFVIHIQEKNFQTGIFVYQNNITPSAMKLVPSIPPATIETFNEAALVVNITHHELVPKHIRLSSDEKRELLKRYRLKESQLPRIQRADPVALYLGLKRGEVVKIIRKSETSGRYASYRICM',\n",
       " 'YBR155W': 'MSSVNANGGYTKPQKYVPGPGDPELPPQLSEFKDKTSDEILKEMNRMPFFMTKLDETDGAGGENVELEALKALAYEGEPHEIAENFKKQGNELYKAKRFKDARELYSKGLAVECEDKSINESLYANRAACELELKNYRRCIEDCSKALTINPKNVKCYYRTSKAFFQLNKLEEAKSAATFANQRIDPENKSILNMLSVIDRKEQELKAKEEKQQREAQERENKKIMLESAMTLRNITNIKTHSPVELLNEGKIRLEDPMDFESQLIYPALIMYPTQDEFDFVGEVSELTTVQELVDLVLEGPQERFKKEGKENFTPKKVLVFMETKAGGLIKAGKKLTFHDILKKESPDVPLFDNALKIYIVPKVESEGWISKWDKQKALERRSV',\n",
       " 'YBR156C': 'MDWAIKAARKKTQRKPGSTRSIIETLDDLNNLTTDAHSEINQRLYESSEWLRNNVYMNTLKYEDKKMEESLISPENTHNKMDVEFPKMKGEYELSNSQNDAAKDVTKTPRNGLHNDKSITPKSLRRKEVTEGMNRFSIHDTNKSPVEPLNSVKVDANESEKSSPWSPYKVEKVLRESSKTSESPINTKRFDNQTWAAKEEMENEPILQALKKAESVKVKPPPNSGIARSQRRSNMFVPLPNKDPLIIQHIPPTKSSGSIPKVRTVKESPIAFKKKSTINSPAIRAVENSDTAGSTKASSVFDRLSSIPTKSFENKISRGNVGHKYSSSSIDLTGSPMKKVSQKFKSINSTDTDMQEALRDIFSVKNKITKNNSPKGKNSRKSSIPRFDKTSLKLTTHKKLAIIAEQKKKSKHSSDVHKTGSRPHSISPTKISVDSSSPSKEVKNYYQSPVRGYLRPTKASISPNKNKNLTTSQTPHRLKIKEKTLRKLSPNIADISKPESRKSKNYRLTNLQLLPPAEAERDDLKKKFDKRLSGIMRSQQEHHRRKQEKQKRMSHLEQDLKKQTSFSNDYKDIRLKESLAPFDNHVRDTINKNTAFSTDNILATINTVDHREIIGNVTPKIASVNDSLPEINTDSEDEASVTLAAWAKSPYLQEQLIRQQDINPQTIFGPIPPLHTDEIFPNPRLNRLKPRQIVPKRS',\n",
       " 'YBR157C': 'MGKFEQKERERISTFSFPTTGSQSSTSIKSLGSPLYGRFSSLSSTESQFDSSKQPHEYEKSFYFEESQGEALFNKLKTYSFPGDKDGVKTRRNSSICPRKPNAVSPLRVESNELSSHSHSRSLSHELTKPSGRRKSYHRKSHAISFSRSCKPNFIDGYDSNSSIGVNSRKTSLASSFLDKEYHSSPDTSYTHQMSPKNTIMNTNEQLRRNASGRFGSLKEFAEKNQINIEGKIFAHKVETGDILQPLIDLDIDNK',\n",
       " 'YBR158W': 'MKLERVSSNGSFKRGRDIQSLESPCTRPLKKMSPSPSFTSLKMEKPFKDIVRKYGGHLHQSSYNPGSSKVELVRPDLSLKTDQSFLQSSVQTTPNKKSCNEYLSTPEATPLKNTATENAWATSRVVSASSLSIVTPTEIKNILVDEFSELKLGQPLTAQHQRSHAVFEIPEIVENIIKMIVSLESANIPKERPCLRRNPQSYEHSLLMYKDEERAKKAWSAAQQLRDPPLVGHKEKKQGALFSCMMVNRLWLNVTRPFLFKSLHFKSVHNFKEFLRTSQETTQVMRPSHFILHKLHQVTQPDIERLSRMECQNLKWLEFYVCPRITPPLSWFDNLHKLEKLIIPGNKNIDDNFLLRLSQSIPNLKHLVLRACDNVSDSGVVCIALNCPKLKTFNIGRHRRGNLITSVSLVALGKYTQVETVGFAGCDVDDAGIWEFARLNGKNVERLSLNSCRLLTDYSLPILFALNSFPNLAVLEIRNLDKITDVRHFVKYNLWKKSLDAPILIEACERITKLIDQEENRVKRINSLVALKDMTAWVNADDEIENNVD',\n",
       " 'YBR159W': 'MTFMQQLQEAGERFRCINGLLWVVFGLGVLKCTTLSLRFLALIFDLFLLPAVNFDKYGAKTGKYCAITGASDGIGKEFARQMAKRGFNLVLISRTQSKLEALQKELEDQHHVVVKILAIDIAEDKESNYESIKELCAQLPITVLVNNVGQSHSIPVPFLETEEKELRNIITINNTATLLITQIIAPKIVETVKAENKKSGTRGLILTMGSFGGLIPTPLLATYSGSKSFLQGWSNSLAGELSKDAIDVELIISYLVTSSMSKIRRSSLMIPNPQQFVKSTLRSVGRRCGSQERYATMTPYWAHAVYQFVITETFGVYSKIVNSINYSFHKSIRIRALKKAARQVKKE',\n",
       " 'YBR160W': 'MSGELANYKRLEKVGEGTYGVVYKALDLRPGQGQRVVALKKIRLESEDEGVPSTAIREISLLKELKDDNIVRLYDIVHSDAHKLYLVFEFLDLDLKRYMEGIPKDQPLGADIVKKFMMQLCKGIAYCHSHRILHRDLKPQNLLINKDGNLKLGDFGLARAFGVPLRAYTHEIVTLWYRAPEVLLGGKQYSTGVDTWSIGCIFAEMCNRKPIFSGDSEIDQIFKIFRVLGTPNEAIWPDIVYLPDFKPSFPQWRRKDLSQVVPSLDPRGIDLLDKLLAYDPINRISARRAAIHPYFQES',\n",
       " 'YBR161W': 'MKKELKILIIANIALLISIIHYTFDLLTLCIDDTSKDALTDEQLNPPNGFNSTFYESPPQLIPKIIHQTYKTNDIPEQWVKGRQKCIDLHPDYTYILWTDEMSDTFIKQEYPWFLDTFRSYEYPIERADAIRYFILSHYGGIYIDLDDGCERRLDPLLKVPAFLRKTSPTGVSNDVMGSVPRHPFFLKVIKSLKHYKKNWYIPYMTIMGSTGPLFISVVWKQYKRWSNTAENGAVRILQPADYKMHNNSFFSISKGSSWHTGDANFMKTLENHILSCVVTGFIFGFFILYGEFTFYTWLCSGPFNNKRYYIQWLSDKFKLHKWKLTSSYKNKEKRRNPTRHEYNSRGKRLRKDSNIPYDSVFLDIEKNHAKFTDLT',\n",
       " 'YBR162C': 'MLQKLSMTALVGLFSSVVSLVNADCTYSGGNYYCAQTDAIIYSNVGLSATYQDVTNMDESSCACTQADFTASGSLAPFNEELSVHFRGPIELLQFGVYYPNGESNALKKRSEKQSIESCKEGEAVVSRHKHQHKRDVAVEYVQVTSTVYVDSNGQTVTADSTNTVVGPAVPSSYTKDSTVLSSSAQAVETSESQSSISSSKTTSSAAAASSSSSSSSNTNGDWSRGSYFVPGSTSNCTFMNNQGGTAGSGVWSSCFGNSISFAASDGVSGAASAQALGDVTIKSGNEFMIFSGEECSGNNGDCGYYREGIPAYHGFGGADKIFVFEFSMPSDTSGSAYNQDMPAIWLLNAKIPRTLQYGDASCSCWKTGCGEMDLFEILTAGSDKLISHIHDGQDGGTQDYFERPTDGTLKAAVIFNSSDKTIHIIEVDESFDATLSDDVVDQWLSKSGSSAALP',\n",
       " 'YBR162W-A': 'MAVQTPRQRLANAKFNKNNEKYRKYGKKKEGKTEKTAPVISKTWLGILLFLLVGGGVLQLISYIL',\n",
       " 'YBR163W': 'MLGRALINKYGFLIHPRRFVHLNDKSLDGTFILPSKKNHMYDVPTNDPSGILNASDIDRINNLPFFDNTSPTKETNTKEGALLSEKLASVKELFGEDPENPSFINYRFPRGLENPYFDIQVNQLKKKRLSVTQLCTTQNWCELRNFYDFYSQNLSNQLLNLKFQVQKGKKIHKSLEDETHPELNQYKSFTHNFLALTKLSMDIDNDMDALLDNWFNSINRLVSLFTKGDGHAREIVCHGFINLEDGKLVEHLLNSDSKTKENVIISGVIDHLTLRNRHNHQVQKGAAHLDTEYQSWGNILTNLLSNLKELKSNNEIVISDIKTRSVPKIPSIESVIESSKLQTMYYKFFFSHLSQDMTQTYHSFLINAQRRGLDVDAPINPTKILTFILTNPLFANDVKNLLYGLPINHSAFDNDAKGSNTFDMTAFNDLLDRGPTSFNVPIEQDEDSSESTKCVSLRDYGHFYTKWKTPLTLKYFAARLSQIYFIVGNLVSNDLMIEYYYHNDNFHNIIFPYDPLKLGTHAHDSAMVWFGGRDMHPIEPTQKNFNTYCKFCDYRHVCSWKNKNELKLIDLGKELKKIILESSMK',\n",
       " 'YBR164C': 'MGNIFSSMFDKLWGSNKELRILILGLDGAGKTTILYRLQIGEVVTTKPTIGFNVETLSYKNLKLNVWDLGGQTSIRPYWRCYYADTAAVIFVVDSTDKDRMSTASKELHLMLQEEELQDAALLVFANKQDQPGALSASEVSKELNLVELKDRSWSIVASSAIKGEGITEGLDWLIDVIKEEQL',\n",
       " 'YBR165W': 'MAYSLTRKLLKDWKYFMRHPEKTQGLFHVRPHDSDLHLWHVVMYEPRTSLEVYLLLYIGGNDQDPYIIMKCLSPNCCFPINRTVSMTHLNYLLLKDLGLQDLLFHIWQPLFHIQATEDLQYSPSTVKFNRAWNRIIYKDFKSYFPELIGTLQPGDYSIVKSYSKNHNISNSNGGSVNEFMSSYNAQSHTFHAQDNSKNPYTNSSIGKSSMLSTLNNNNVNKRTHDYNAIDFMTKNLLACDDDSIHPVVSSKRSRTLACPDETNDNRGSEHYTKRKKI',\n",
       " 'YBR166C': 'MVSEDKIEQWKATKVIGIIGLGDMGLLYANKFTDAGWGVICCDREEYYDELKEKYASAKFELVKNGHLVSRQSDYIIYSVEASNISKIVATYGPSSKVGTIVGGQTSCKLPEIEAFEKYLPKDCDIITVHSLHGPKVNTEGQPLVIINHRSQYPESFEFVNSVMACLKSKQVYLTYEEHDKITADTQAVTHAAFLSMGSAWAKIKIYPWTLGVNKWYGGLENVKVNISLRIYSNKWHVYAGLAITNPSAHQQILQYATSATELFSLMIDNKEQELTDRLLKAKQFVFGKHTGLLLLDDTILEKYSLSKSSIGNSNNCKPVPNSHLSLLAIVDSWFQLGIDPYDHMICSTPLFRIFLGVSEYLFLKPGLLEQTIDAAIHDKSFIKDDLEFVISAREWSSVVSFANFDIYKKQFQSVQKFFEPMLPEANLIGNEMIKTILSHSSDRSAAEKRNT',\n",
       " 'YBR167C': 'MALKKNTHNKSTKRVTKHPSLKTLTHKQIHTTIFVKSTTPYVSALKRINKFLDSVHKQGSSYVAVLGMGKAVEKTLALGCHFQDQKNKKIEVYTKTIEVLDEVITEGQADIDMESDVEDDDKETQLKKRAVSGVELRIYV',\n",
       " 'YBR168W': 'MDTNSKTKVQTENKKIKAKFIHNHGQKPSLIQITPPMISSTLFHAYPLLLIFDNALANIMWLSDDKCLTFIYLTSIWLTISFFIPVETEASHFLPFTKILRLWLGIISGAFLFLSFMYYIVSLIASLRDTEPPTLDEIVVLLESVLDKLEVLRNELNVWKKLKLSFDGVNKECSGKRLFCRLFLFGTIFQIIIMRYISPGTYTRFFIITGLIYNTSSFQATLRLLWRFTAVRNFYYLGIESFKISSFLPKHLKMEQIIPLSQGRAITVPLVEVLPKLLRDKKGDDHIHILQLLLNEQKDNFGNEDLKILEIEVYENQRRWYQNKNWSTKLLPYERQNYCIEIKNTDGTLTMRSCLPPDGLGEEELPNNWHWINDNWDGTDWIYSDSAWKEIGQYSSLESFTRSRKWKRRLFHL',\n",
       " 'YBR169C': 'MSTPFGLDLGNNNSVLAVARNRGIDVVVNEVSNRSTPSLVGFGPRNRYLGESGKTKQTSNVKNTVENLKRIIGLKFKDPEFDIENKFFTSKLVQLKNGKVGVEVEFGGKTHVFSATQLTAMFIDKVKHTVQEETKSSITDVCLAVPVWYSEEQRYNIADAARIAGLNPVRIVNDVTAAAVSYGVFKNDLPGPEEKPRIIGLVDIGHSTYTCSIMAFRKGEMKVLGTAYDKHFGGRDFDRAITEHFADQFKDKYKIDIRKNPKAYNRILIAAEKLKKVLSANTTAPFSVESVMDDIDVSSQLSREELEELVEPLLKRVTYPITNALAQAKLTVNDIDFVEIIGGTTRIPVLKKSISDVFGKPLSSTLNQDEAVAKGAAFICAIHSPTLRVRPFKFEDIDPYSVSYTWDKQVDDEDRLEVFPANSSYPSTKLITLHRTGDFSMKAVYTHPSKLPKGTSTTIAKWSFTGVKVPKDQDFIPVKVKLRCDPSGLHIIENAYTTEDITVQEPVPLPEDAPEDAEPQFKEVTKTIKKDVLGMTAKTFALNPVELNDLIEKENELRNQDKLVAETEDRKNALEEYIYTLRAKLDDEYSDFASDAEKEKLKNMLATTENWLYGDGDDSTKAKYIAKYEELASLGNIIRGRYLAKEEEKRQALRANQETSKMNDIAEKLAEQRRARAASDDSDDNNDENMDLD',\n",
       " 'YBR170C': 'MLIRFRSKNGTHRVSCQENDLFGTVIEKLVGNLDPNADVDTFTVCEKPGQGIHAVSELADRTVMDLGLKHGDMLILNYSDKPANEKDGVNVEIGSVGIDSKGIRQHRYGPLRIKELAVDEELEKEDGLIPRQKSKLCKHGDRGMCEYCSPLPPWDKEYHEKNKIKHISFHSYLKKLNENANKKENGSSYISPLSEPDFRINKRCHNGHEPWPRGICSKCQPSAITLQQQEFRMVDHVEFQKSEIINEFIQAWRYTGMQRFGYMYGSYSKYDNTPLGIKAVVEAIYEPPQHDEQDGLTMDVEQVKNEMLQIDRQAQEMGLSRIGLIFTDLSDAGAGDGSVFCKRHKDSFFLSSLEVIMAARHQTRHPNVSKYSEQGFFSSKFVTCVISGNLEGEIDISSYQVSTEAEALVTADMISGSTFPSMAYINDTTDERYVPEIFYMKSNEYGITVKENAKPAFPVDYLLVTLTHGFPNTDTETNSKFVSSTGFPWSNRQAMGQSQDYQELKKYLFNVASSGDFNLLHEKISNFHLLLYINSLQILSPDEWKLLIESAVKNEWEESLLKLVSSAGWQTLVMILQESG',\n",
       " 'YBR171W': 'MSEFNETKFSNNGTFFETEEPIVETKSISVYTPLIYVFILVVSLVMFASSYRKKQAKKISEQPSIFDENDAHDLYFQIKEMSENEKIHEKVLKAALLNRGAESVRRSLKLKELAPQINLLYKNGSIGEDYWKRFETEVKLIELEFKDTLQEAERLQPGWVQLFVMVCKEICFNQALSRRYQSILKRKEVCIKEWELKINNDGRLVN',\n",
       " 'YBR172C': 'MIAPDSQRLFGSFDEQFKDLKLDSVDTENNNTHGVSTILDSSPASVNNNTNGAVAASVNTVPGSTFRSNTPLLGGRHPLSRTSSLIDSIGIQRAASPFSSMKEPFIPQSSGVMSSSFWHGDHPESRVSTPVQQHPLLQRNESSSSFSYAANLGVNLSTHSLAVDITPLSTPTAAQSHVNLFPSSDIPPNMSMNGMSQLPAPVSVESSWRYIDTQGQIHGPFTTQMMSQWYIGGYFASTLQISRLGSTPETLGINDIFITLGELMTKLEKYDTDPFTTFDKLHVQTTSSDSINLNLAPYASGVAATGTIKATENDIFKPLTHDNIWDMDGGTTSKGVDIKLASATTISQTDESHKQEYKSTTMLEKGKKEKSESVAKALLDEQEKRNRELKRKEEARLSKKQKQKEDDLLKKQKEQKEQKEKEALEAEKQKKSEKTKKDTQTQTEGFKTSKDLPSLNSSSANPAPWASKVKVNNAIETSIKNGVSSTGKKKGEPLGLQQRNSKEEKQKEELKSVLNWANKSSLPSNQTIDIKSQFQKSPKGMKESSPLKELEDPNFIEEQKKLWEKVQSSSKQVKSTSSASTTTSSWTTVTSKGKAPIGTVVSPYSKTNTSLNSSLTAKTSTTSTTTTFASMNNVSPRQEFIKWCKSQMKLNSGITNNNVLELLLSLPTGPESKELIQETIYANSDVMDGRRFATEFIKRRVACEKQGDDPLSWNEALALSGNDDDGWEFQVVSKKKGRKH',\n",
       " 'YBR173C': 'MNIVPQDTFKSQVSTDQDKSVLSSAVPSLPDTLRQQEGGAVPLSTQLNDRHPLESTLKNWETTQRQRQMEQYRQIFGIAEPMKRTMEMEIVNRTDFNPLSTNGSIHRDILLNKECSIDWEDVYPGTGLQASTMVGDDVHSKIEKQLGI',\n",
       " 'YBR175W': 'MFQFVTPVGTQNGLKATCAKISPDGQFLAITQGLNILIYDINRRTVSQTLVTSHARPFSELCWSPDGQCIATASDDFSVEIIHLSYGLLHTFIGHTAPVISLTFNRKGNLLFTSSMDESIKIWDTLNGSLMKTISAHSEAVVSVDVPMNDSSILSSGSYDGLIRIFDAETGHCLKTLTYDKDWKRENGVVPISQVKFSENARYLLVKSLDGVVKIWDCIGGCVVRTFQVQPLEKGVLHHSCGMDFLNPEDGSTPLVISGYENGDIYCWNSDTKSLLQLLDGSLYHHSSPVMSIHCFGNIMCSLALNGDCCLWRWV',\n",
       " 'YBR176W': 'MNIMKRQLCTSSKRFFSTAKNVVKYNTIQDIRNKYFTGTPLSMCTAYDFITATWVNKANCDLLLVGDSLAMTSLGYDSTITLSLNEFKYHVASVCRAEGSSMVVVDMPFGTFESGISDGLKNAIDIMKLDSKVTSVKVEVGSYTKDKYAMKFIEELCSRGIPVMAHIGLTPQKVHSLGGYKVQGSKSLLQMQELYETAMQLQKIGCWSILIECVPHKMAQFITSKLSVPTIGIGAGNGTSGQVLVISDLLGMQGDSVPKFVKQAVNMTDIATQGLKEYIASVEDRTFPERGTHTFKVKEDLWNEFLSSINEK',\n",
       " 'YBR177C': 'MSEVSKWPAINPFHWGYNGTVSHIVGENGSIKLHLKDNKEQVDFDEFANKYVPTLKNGAQFKLSPYLFTGILQTLYLGAADFSKKFPVFYGREIVKFSDGGVCTADWLIDSWKKDYEFDQSTTSFDKKKFDKDEKATHPEGWPRLQPRTRYLKDNELEELREVDLPLVVILHGLAGGSHEPIIRSLAENLSRSGRFQVVVLNTRGCARSKITTRNLFTAYHTMDIREFLQREKQRHPDRKLYAVGCSFGATMLANYLGEEGDKSPLSAAATLCNPWDLLLSAIRMSQDWWSRTLFSKNIAQFLTRTVQVNMGELGVPNGSLPDHPPTVKNPSFYMFTPENLIKAKSFKSTREFDEVYTAPALGFPNAMEYYKAASSINRVDTIRVPTLVINSRDDPVVGPDQPYSIVEKNPRILYCRTDLGGHLAYLDKDNNSWATKAIAEFFTKFDELVV',\n",
       " 'YBR179C': 'MSEGKQQFKDSNKPHKDSTDQDDDAATIVPQTLTYSRNEGHFLGSNFHGVTDDRTTLFDGEEGRREDDLLPSLRSSNSKAHLISSQLSQWNYNNNRVLLKRSILKTQAFMDQLQEENNIRPIFIAANDEREKLHVLQLNIKLDGQYNTKEKNGFNIEKKALSKLFHSQIVSVTNHLNALKKRVDDVSSKVFITGDVNTGKSALCNSLLKQRLLPEDQLPCTNVFSEILEARENDGIEEVHAIPLNIAPTLKEAIDMYSIQNPKTYEIHTLKELPDLVPQNGKYALLKIYIKDDKRPASTSLLRNGTVDISLIDSPGLNMDSLQTAEVMSRQEEIDLVIFVVNAENQLTLSAKEFISLASREKKLMFFVVKKFDKIRDKQRCKELILKQIRDLSPETYKRAADFVHFVSKNGDELPHYHNENDNEDHGDRKPDDDPYSSSDPDPDFDSLEDSLRNFVLKKRSLSKLLPAKTYLSKLLSDIIMISKSNMKMYSEEEIKINEQLETLRPEILSARAKCNDLTTSVDQMAEQTITMTYNNTKEALLNALDVPLHEYPKYQGLGQIYDFIFSTEAFIANQIDESIGSSELFAKQKTDLLVKKIYEIGKNELGDDFMCERVFRSELMFRKRKHLIGKRLKVSLSITDLFAPTWKGFLSYLSWQKPVTAPLPDIEGQTNEGQIGLMKYLGLKNYPLTQYWSRPSLLFTSKIPTLTLYFLGSTKVVGNIILNGIKLSSWSSLKKLSVPVIVVGSLLGLTYLIHDLPRALPMNLSIKYKRKLQELDYIHLNAQRTSNEVRDVLRVPTREILRSCEIIMDKKQITKKELENKKESNLLSIKFFQSLYEGTVAQKLMVEEINLDID',\n",
       " 'YBR180W': 'MGSEPFQKKNLGLQINSQESGTTRSTFHSLEDLGDDVINESWDQVNQKRANIDHDVFHEHPDSSPSLSAQKAKTKEEEVAVKSSNSQSRDPSPDTQAHIPYTYFSKDQRLIIFGIIIFIGFLGPMSGNIYIPALPLLQREYDVSATTINATVSVFMAVFSVGPLFWGALADFGGRKFLYMVSLSLMLIVNILLAAVPVNIAALFVLRIFQAFASSSVISLGAGTVTDVVPPKHRGKAIAYFMMGPNMGPIIAPIVAGLILMKGNYWRWLFGFTSIMTGIALILVTALLPETLRCIVGNGDPKWGDKKDERENNESPFFEGNKISHRRLFPDIGIRKPVNNDAFFQENFPKPPKAGLTLYWKMIKCPPIIITSVSTALLFSSYYAFSVTFSYYLEHDYRFTMLEIGAAYVCPGVAMLLGSQSGGHLSDYLRSRWIKSHPKKKFPAEFRLLLNLIGILLTICGTIGYGWAIFFHYHFVVLLVFSALTAFGMTWCSNTSMTYLTELFPKRAAGTVAVSSFFRNVGAAISSAIILQLCNAMGIGWCFTGLGLCSSISLIGILYLLIFQRKYTAKEF',\n",
       " 'YBR181C': 'MKLNISYPVNGSQKTFEIDDEHRIRVFFDKRIGQEVDGEAVGDEFKGYVFKISGGNDKQGFPMKQGVLLPTRIKLLLTKNVSCYRPRRDGERKRKSVRGAIVGPDLAVLALVIVKKGEQELEGLTDTTVPKRLGPKRANNIRKFFGLSKEDDVRDFVIRREVTKGEKTYTKAPKIQRLVTPQRLQRKRHQRALKVRNAQAQREAAAEYAQLLAKRLSERKAEKAEIRKRRASSLKA',\n",
       " 'YBR182C': 'MGRRKIEIEPIKDDRNRTVTFIKRKAGLFKKAHELSVLCQVDIAVIILGSNNTFYEYSSVDMSNLLNVHQNNTDLPHNIIEPSDYGDYVKKPRVVLNERKRRRRRATVLQPASHSGSCTVSSQDSSSVQNNGNLSAPLASNDAGNAGVSTPLVHCHGAISRSGSNHSDCARNSADYQMLQGGLNSGGSFHANDYKESVDQQHVANEAIHRNFMNKRIRPDTHLLLSESNHSNYHNFYPSPYENLPKPSLPASLVGNIPSFQSQFVQVIPANSNPMGKGFNGTGDSESFEAKQKIHPTVAISNTLEGPAPVQAMVHHLHQLNSNRGKLSGKPYLKLNIPKATNDACQRSPAMYSGTASPKTDVQATPNQMLASNMSSPLSRSKFLGFKNNDMDDLYHNGRCGSTYVNNKTFFLKPPIGRPPKFPKSPSSSIVVFPSSVASSTLKSTSSTNSPD',\n",
       " 'YBR182C-A': 'MKIFTLYTMIQQYFFDNGGVYSIKNFYSAVPKEKMNIILVSLDCELQKLALKLSKKTSGTHTTH',\n",
       " 'YBR183W': 'MGIFRWNYPESSVPGVWGETTSTIDWCEENYVVSPYIAEWSNTLTNSVFILSAIYTTYSAYKNKLEKRFLLIGFGYGLVGVGSWLFHMTLKYRFQLLDELPMIYAMCIPTWSLVCEAKEALLNGDNHKKVPLFEQIFIGVIIGLAVTTASILYVIYKNVDIHQILFGVQIVVVAATAGSLTYRYVHDPLAKRNLKASMALGAILFLSGYISWLLDIHYCSFWVHVRRSILALPLGVLLEPHGWWHILTGMGIYFYIVSLEHLRVITLNVSCNYQFIWRWKVFPELIWKGRKPSTRYSLELFGPYVEDQSIEVKKEK',\n",
       " 'YBR184W': 'MYQNNVLNAILASEKSNFQYDSGTILRNHKRPIITFNNNIEHTVSEPNNFTGYEEKEDLDIMDICPYYPKARMLADAIQHAKTSASENKMELSMKTIPCLKKENVHVEKGHDWSQLSTSRICKILEDIADKKNKTRRQSAPLQKTKYFPTNENQNTDIENQNWSQIPNEDICALIEKIASRRNKNRKRKNLSCSKVQEIQGNIDLPKKDVQEGDISDSSLFAAVRGTKKVSGYDYNSEDKIPNAIRLPYCKQILRLFSLLQMKRNDLIVTSENCNSGVFFSNFNYQLQVKSNCIANISSTLSFLPHHEITVYTSFILYPNVVDNIWECTRYAIQLLKSEAAQFTLLRDIYSGFTIILSNHRYHPKGFSADYCYSANELTLFLFVIRTGQKKVLYRSIPHNTAAIEKDSSFDTENRKRRSEEEVVLKCRKCSNNSLALKEISTYRLDSAEGFEKSQPLKDEAKLSDMNYVQGSISYNRTILTGLWKLFHRLCCKDRYRKTNLSETLFYDDSTERWVRMGELMHY',\n",
       " 'YBR185C': 'MSVLRSTCLFFPPRSLLISFNKRRLFSTSRLILNKESETTKKKDKSKQQDFNPRHLGVAAEIFIPSAYKNLPNVFAHPLIVANALIRRLYTFGLNSVQVALFRFQSGIKPSFLLWKNKAIETYINVNTSFAHKNLSDIKGLVSLWVQEALEARSRQLPGNATLDWQLIKFNAVPKLVSVQPIMIPGMPLEHLQLVYKFDTKQRLIKVNQQTKKTETLDRDVVDYIAFLCDATTNDMILMGSLFESKPNDKLPKSYEDDAKVAIHRMKVNGDIYRLPPS',\n",
       " 'YBR186W': 'MSYIVDLQVRGSSLRVIKCMFREDEQISSLHSGSDSKQNSNKKLGEFLNLLKAVVKRKLESFPKDRLKTSIITGQELMREGQGSIEIKDPPTEAQQHLIRSLAKVLLHQFSSINGKVNTVNEGQDNLFLSLFVKKISIEQQSTSHVSIKLNFHEKINLGQHIDSILDSEETNESDTYHMGSVDEFIIYPFCCLEEQDELKNGSILSTEFDKIDLELDEDDGFEGETLNNCINSVGNFDIPLSKQTLNLVNISYLPGTTFEGQWESLYFGNNIKERLYSYATISLKIARFKQTGDSNQEDITTLITNNKLLLVHGPPGTGKTTLCKALCQKLSVRREFSDGSDTIDTNYKGIIIELSCARIFSKWFGESSKNISIVFKDIEELLKVNEGRGIFICLLIDEVEAIASSRTNLSSRNESTDGIRVVNTLLTQLDRLKKYHNFLALATSNLLDSLDDAFVDRADGVFYVGNPTAEGILHILKVCIEEMITSGIILFHARSTGVKFFNKYQDILRKIAIKCSTVDISGRTIRKLPLMCLSEYFRTFPVDDDEFVLALAMSARKLSAARK',\n",
       " 'YBR187W': 'MGNMIKKASLIALLPLFTAAAAAATDAETSMESGSSSHLKSFLMSVSMIGLSEIGDKTFLIAALMAMRHKRVLVFSAAATSLAIMTILSGVVGHSAVAFLSERYTAFFAGILFLVFGYKLTMEGLEMSKDAGVEEEMAEVEEEIAIKDMNQDMDDVEKGGDTAYDKQLKNASIGKKIVHRIRELASFMFSPVWVQIFLMVFLGELGDRSQISIIAMATDSDYWYVIAGAVIGHAICSGLAVVGGKLLATRISIRTITLASSLLFFIFALMYIYQAFTTQD',\n",
       " 'YBR188C': 'MPSLRDLSLERDQELNQLRARINQLGKTGKEEANDFVGLNISNEPVYDTVIQTGQSSNATNSFVQETIQKTKQKESGQPYIIPQKNEHQRYIDKVCETSDLKAKLAPIMEVLEKKTNEKIKGIIRKRVLQEPDRDNDDSG',\n",
       " 'YBR189W': 'MPRAPRTYSKTYSTPKRPYESSRLDAELKLAGEFGLKNKREIYRISFQLSKIRRAARDLLTRDEKDPKRLFEGNALIRRLVRVGVLSEDKKKLDYVLALKVEDFLERRLQTQVYKLGLAKSVHHARVLITQRHIAVGKQIVNIPSFMVRLDSEKHIDFAPTSPFGGARPGRVARRNAARKAEASGEAAEEAEDEE',\n",
       " 'YBR191W': 'MGKSHGYRSRTRYMFQRDFRKHGAVHLSTYLKVYKVGDIVDIKANGSIQKGMPHKFYQGKTGVVYNVTKSSVGVIINKMVGNRYLEKRLNLRVEHIKHSKCRQEFLERVKANAAKRAEAKAQGVAVQLKRQPAQPRESRIVSTEGNVPQTLAPVPYETFI',\n",
       " 'YBR192W': 'MPKKSIEEWEEDAIESVPYLASDEKGSNYKEATQIPLNLKQSEIENHPTVKPWVHFVAGGIGGMAGAVVTCPFDLVKTRLQSDIFLKAYKSQAVNISKGSTRPKSINYVIQAGTHFKETLGIIGNVYKQEGFRSLFKGLGPNLVGVIPARSINFFTYGTTKDMYAKAFNNGQETPMIHLMAAATAGWATATATNPIWLIKTRVQLDKAGKTSVRQYKNSWDCLKSVIRNEGFTGLYKGLSASYLGSVEGILQWLLYEQMKRLIKERSIEKFGYQAEGTKSTSEKVKEWCQRSGSAGLAKFVASIATYPHEVVRTRLRQTPKENGKRKYTGLVQSFKVIIKEEGLFSMYSGLTPHLMRTVPNSIIMFGTWEIVIRLLS',\n",
       " 'YBR193C': 'MSQSTASLVPEGNQGSLQEDVSFDFNGVPGQALDAVRMRLAQLTHSLRRIRDEMSKAELPQWYTLQSQLNVTLSQLVSVTSTLQHFQETLDSTVVYPLPKFPTTSHESLVTTLLRKKNIPEVDEWMKYVRETSGVTTALLKDEEIEKLLQQDREITNWARTTFRNEYGKHDFKNEESLSEEHASLLVRDSKPSKPFNVDDVLKFTFTGEKPIITGSTSTSSSN',\n",
       " 'YBR194W': 'MDQKKDPSNNLTERRVSKVQRPNKKKVRNQVESLSRNLERNKEGQLLQTVSKGHLEADSGHSLGREKENGELGIRSIFYDKDWNPRGTAPSHYRNIPYNPATFKRRTEVQARLGNLENIKIPK',\n",
       " 'YBR195C': 'MNQCAKDITHEASSIPIDLQERYSHWKKNTKLLYDYLNTNSTKWPSLTCQFFPDLDTTSDEHRILLSSFTSSQKPEDETIYISKISTLGHIKWSSLNNFDMDEMEFKPENSTRFPSKHLVNDISIFFPNGECNRARYLPQNPDIIAGASSDGAIYIFDRTKHGSTRIRQSKISHPFETKLFGSHGVIQDVEAMDTSSADINEATSLAWNLQQEALLLSSHSNGQVQVWDIKQYSHENPIIDLPLVSINSDGTAVNDVTWMPTHDSLFAACTEGNAVSLLDLRTKKEKLQSNREKHDGGVNSCRFNYKNSLILASADSNGRLNLWDIRNMNKSPIATMEHGTSVSTLEWSPNFDTVLATAGQEDGLVKLWDTSCEETIFTHGGHMLGVNDISWDAHDPWLMCSVANDNSVHIWKPAGNLVGHS',\n",
       " 'YBR196C': 'MSNNSFTNFKLATELPAWSKLQKIYESQGKTLSVKQEFQKDAKRFEKLNKTFTNYDGSKILFDYSKNLVNDEIIAALIELAKEANVTGLRDAMFKGEHINSTEDRAVYHVALRNRANKPMYVDGVNVAPEVDSVLKHMKEFSEQVRSGEWKGYTGKKITDVVNIGIGGSDLGPVMVTEALKHYAGVLDVHFVSNIDGTHIAETLKVVDPETTLFLIASKTFTTAETITNANTAKNWFLSKTGNDPSHIAKHFAALSTNETEVAKFGIDTKNMFGFESWVGGRYSVWSAIGLSVALYIGYDNFEAFLKGAEAVDNHFTQTPLEDNIPLLGGLLSVWYNNFFGAQTHLVAPFDQYLHRFPAYLQQLSMESNGKSVTRGNVFTDYSTGSILFGEPATNAQHSFFQLVHQGTKLIPSDFILAAQSHNPIENKLHQKMLASNFFAQAEALMVGKDEEQVKAEGATGGLVPHKVFSGNRPTTSILAQKITPATLGALIAYYEHVTFTEGAIWNINSFDQWGVELGKVLAKVIGKELDNSSTISTHDASTNGLINQFKEWM',\n",
       " 'YBR196C-A': 'MSRVYIYPLTVFYFFAIEMSVFCYYNWFYRRNFPYLFRPIFPFLIVLIS',\n",
       " 'YBR196C-B': 'MWVVLSKEKILLKKAYYAKTILFSALVLRGVRGE',\n",
       " 'YBR197C': 'MGVKQTPPVQVKVSDADSTNRRKSSSQEGNPQLVQLKAKSDKDKRKGSSDSTASIMGSSNALPTKNLTTPPALNPLTTSISRGNTAYERSVNGSRITMHSNLAPTETQDVSWSEIDTLDDVKKMAKEPIVNDGFPRDFESNLTQMRKSHAQLLRLMRERNQRLKYAKLRSPPHKDQHNSATNKDQEPDEVLHDPEIALDGEKYVSQVVDTIKDVHRC',\n",
       " 'YBR198C': 'MSQKQSTNQNQNGTHQPQPVKNQRTNNAAGANSGQQPQQQSQGQSQQQGRSNGPFSASDLNRIVLEYLNKKGYHRTEAMLRAESGRTLTPQNKQSPANTKTGKFPEQSSIPPNPGKTAKPISNPTNLSSKRDAEGGIVSSGRLEGLNAPENYIRAYSMLKNWVDSSLEIYKPELSYIMYPIFIYLFLNLVAKNPVYARRFFDRFSPDFKDFHGSEINRLFSVNSIDHIKENEVASAFQSHKYRITMSKTTLNLLLYFLNENESIGGSLIISVINQHLDPNIVESVTAREKLADGIKVLSDSENGNGKQNLEMNSVPVKLGPFPKDEEFVKEIETELKIKDDQEKQLNQQTAGDNYSGANNRTLLQEYKAMNNEKFKDNTGDDDKDKIKDKIAKDEEKKESELKVDGEKKDSNLSSPARDILPLPPKTALDLKLEIQKVKESRDAIKLDNLQLALPSVCMYTFQNTNKDMSCLDFSDDCRIAAAGFQDSYIKIWSLDGSSLNNPNIALNNNDKDEDPTCKTLVGHSGTVYSTSFSPDNKYLLSGSEDKTVRLWSMDTHTALVSYKGHNHPVWDVSFSPLGHYFATASHDQTARLWSCDHIYPLRIFAGHLNDVDCVSFHPNGCYVFTGSSDKTCRMWDVSTGDSVRLFLGHTAPVISIAVCPDGRWLSTGSEDGIINVWDIGTGKRLKQMRGHGKNAIYSLSYSKEGNVLISGGADHTVRVWDLKKATTEPSAEPDEPFIGYLGDVTASINQDIKEYGRRRTVIPTSDLVASFYTKKTPVFKVKFSRSNLALAGGAFRP',\n",
       " 'YBR199W': 'MRFLSKRILKPVLSVIILISIAVTVVLYFLTANENYLQAVKDSAKSQYASLRESYKSITGKTESADELPDHDAEVLDSIMDRLHEPLYEKDTFDPNEVLAENKQLYEEFLLQEISEPKVDNLVRSGDPLAGKAKGTILSLVRNSDLEDIISSIQQLEEEYNKNFGYPYTFLNDEEFTDEFKDGIKSILPKDRVVEFGTIGPDNWNMPDSIDRERYDQEMDKMSKENIQYAEVESYHNMCRFYSKEFYHHPLLSKYKYVWRLEPNVNFYCKINYDVFQFMNKNDKIYGFVLNLYDSPQTIETLWTSTMDFVEEHPNYLNVNGAFAWLKDNSQNPKNYDYTQGYSTCHFWTNFEIVDLDFLRSEPYEKYMQYLEEKGGFYYERWGDAPVRSLALALFADKSSIHWFRDIGYHHTPYTNCPTCPADSDRCNGNCVPGKFTPWSDLDNQNCQATWIRHSMSEEELEMY',\n",
       " 'YBR200W': 'MLKNFKLSKRDSNGSKGRITSADISTPSHDNGSVIKHIKTVPVRYLSSSSTPVKSQRDSSPKNRHNSKDITSPEKVIKAKYSYQAQTSKELSFMEGEFFYVSGDEKDWYKASNPSTGKEGVVPKTYFEVFDRTKPSSVNGSNSSSRKVTNDSLNMGSLYAIVLYDFKAEKADELTTYVGENLFICAHHNCEWFIAKPIGRLGGPGLVPVGFVSIIDIATGYATGNDVIEDIKSVNLPTVQEWKSNIARYKASNISLGSVEQQQQQSITKPQNKSAKLVDGELLVKASVESFGLEDEKYWFLVCCELSNGKTRQLKRYYQDFYDLQVQLLDAFPAEAGKLRDAGGQWSKRIMPYIPGPVPYVTNSITKKRKEDLNIYVADLVNLPDYISRSEMVHSLFVVLNNGFDREFERDENQNNIKTLQENDTATFATASQTSNFASTNQDNTLTGEDLKLNKKLSDLSLSGSKQAPAQSTSGLKTTKIKFYYKDDIFALMLKGDTTYKELRSKIAPRIDTDNFKLQTKLFDGSGEEIKTDSQVSNIIQAKLKISVHDI',\n",
       " 'YBR200W-A': 'MLLCFHMCQRIMWLPFDLMKWRRFHCGAVLVGTLSLRNRSPKILSLYFISDRTG',\n",
       " 'YBR201W': 'MDAVILNLLGDIPLVTRLWTIGCLVLSGLTSLRIVDPGKVVYSYDLVFKKGQYGRLLYSIFDYGAFNWISMINIFVSANHLSTLENSFNLRRKFCWIIFLLLVILVKMTSIEQPAASLGVLLHENLVYYELKKNGNQMNVRFFGAIDVSPSIFPIYMNAVMYFVYKRSWLEIAMNFMPGHVIYYMDDIIGKIYGIDLCKSPYDWFRNTETP',\n",
       " 'YBR201C-A': 'MLAMKSFSQVSKSYKASAPSKKLTTLFYVAYITLGLTTPFLLPARMASKDTHYYKDEFCSQRSYTRF',\n",
       " 'YBR202W': 'MSAALPSIQLPVDYNNLFNEITDFLVTFKQDTLSSDATRNENEDENLDAENIEQHLLEKGPKYMAMLQKVANRELNSVIIDLDDILQYQNEKFLQGTQADDLVSAIQQNANHFTELFCRAIDNNMPLPTKEIDYKDDVLDVILNQRRLRNERMLSDRTNEIRSENLMDTTMDPPSSMNDALREVVEDETELFPPNLTRRYFLYFKPLSQNCARRYRKKAISSKPLSVRQIKGDFLGQLITVRGIITRVSDVKPAVEVIAYTCDQCGYEVFQEVNSRTFTPLSECTSEECSQNQTKGQLFMSTRASKFSAFQECKIQELSQQVPVGHIPRSLNIHVNGTLVRSLSPGDIVDVTGIFLPAPYTGFKALKAGLLTETYLEAQFVRQHKKKFASFSLTSDVEERVMELITSGDVYNRLAKSIAPEIYGNLDVKKALLLLLVGGVDKRVGDGMKIRGDINVCLMGDPGVAKSQLLKAICKISPRGVYTTGKGSSGVGLTAAVMKDPVTDEMILEGGALVLADNGICCIDEFDKMDESDRTAIHEVMEQQTISISKAGINTTLNARTSILAAANPLYGRYNPRLSPLDNINLPAALLSRFDILFLMLDIPSRDDDEKLAEHVTYVHMHNKQPDLDFTPVEPSKMREYIAYAKTKRPVMSEAVNDYVVQAYIRLRQDSKREMDSKFSFGQATPRTLLGIIRLSQALAKLRLADMVDIDDVEEALRLVRVSKESLYQETNKSKEDESPTTKIFTIIKKMLQETGKNTLSYENIVKTVRLRGFTMLQLSNCIQEYSYLNVWHLINEGNTLKFVDDGTMDTDQEDSLVSTPKLAPQTTASANVSAQDSDIDLQDA',\n",
       " 'YBR203W': 'MSSASRLQNVNIVSNNYSRYGTSVYDKLYHSNGSGSNNAGKNSTTVGKLSSISQKSRSKQRHGSNCSRSMSQSPLSTFKSPLSNQNQSSAPDDLASIGQRRSDDVTSLDNETIITMNSRKSRIKKKYKSLISTSSKKFMNKLYDHGASSDSFSIFSLKTSHSGKHENSRFEKLRKRKYHAWGKFADINDLPVEIIAKILSEFELGRDQKTLVRCLYVSKKFYKATKIVLYRLPYFTSTYRVAQFVTSLRLHPDNGAYVKVLDLSHLKPGIIGQDSKDSQGLDDDGHSRRHRRRRRRSTNTSLNLPPATPTSTISNEDDANSGLIKDDASNGSEVEDLALAGWRDWRYRNEPLYSSPLLNSFKLKKVVSRSSSITSTSSGNSTGVHSTRRQRSNSSVASITTSIMSSIYNTSHVSLSSTTSNTSNGNISSGSNLSRVSTAGSLKKASAKSTRSSPQKAKPISDITSSSWFRMRLSSRNRKARTANTINLKNSKDKSDDDFKVLKHDSGHPSNYRSSTLKFSIEQPFSTHHPYANKFLLKYAPYKDLPLGYILHMLNLCPNLVELNLSNLVICTDFKLINQRSERRRMTSSLLPAVQESSVSAGPEKDLEIVYMTDSGKGYEYYEGLSKKHSRSSSLGTNPSSWIGGQANWTDYPPPIDAQTKTREEHRRNNTLNNKNVVLKKLNPFEIFEMICNRNEEKGGYCSLTKVKMNDIVWCRQYMVKYFVMRTFRQHLDYKSMENNSYERHLFSFRDSGLDRNFSWACNAKLHEFVALMVMDHLSNLDDLGLEELFNIKSEKLYIKNYCCRDPDILEISNLFDIRYGAGSEADATSDSNLEAESLQFRLTILKTEKPTSFWLTKVSKDYVSLVVKLCVDDDIDMDKMKVGKPTLRIDSITHNLISRLKELRRVDLRRNVGENNYYAESII',\n",
       " 'YBR204C': 'MNMAERAEATKSWSCEPLSGKTLEEIVQNAENAADLVAYIRKPEVDLDFRLKFIAEHEEFFNVQLSDRNSRIRTCHNLSDKGIRGDTVFVFVPGLAGNLEQFEPLLELVDSDQKAFLTLDLPGFGHSSEWSDYPMLKVVELIFVLVCDVLRKWSTAVPNNDNVNPFNGHKIVLVGHSMGCFLACHLYEQHMADTKAVQTLVLLTPPKAHIEQLSKDKHIIQWALYGVFKLPWLFDVYRNKFDQVKGLQSSGIKQYFYQQGDDVKLKYRKFWQFKNNISNKSRTIIGYLLGWETVDWVKFNGVLTQTDMKQKIIIFGAEKDPIAPIENLEFYKQTINKECLRKVIILPDCSHNLCFDRPELVCENFQREVIDNSKL',\n",
       " 'YBR205W': 'MSVHHKKKLMPKSALLIRKYQKGIRSSFIGLIIVLSFLFFMSGSRSPEVPIAQGTSVSRVASKDYLMPFTDKSQGVIHPVDDGKKEKGVMVTLARNSDLWNLVKSIRHVEDRFNNRYHYDWVFLNDQPFSDEFKRVTSALVSGKAKYGTIPKDHWSIPSWIDTEKFDEKRLAMGKLDIPYGSSVPYRHMCRFQSGFIWRHPLLEEYEWFWRVDTDITLFCDIQYDIFKFLKVNNKKYGFILSVSEYERTIPTLWETTKKFIKKNPKFLHKNNLMKFISNDDGDTYNMCHFWTNFEIGSLDFFRSDAYREYFDYLDSSGGFFYERWGDAPVHSIAASLFLDKSEIHFFDGLGFHHPDFTSCPIEQKIRLQNKCICEPSKDVTWTPDYFCTRKYFSAGNYKLPPGI',\n",
       " 'YBR207W': 'MAFEDYFSFQIFFIFLRESLEIVVIVSILLTIVKQGLSVEDDSPFEGSSSSAGLPSPNTNTNADSTTAFLQAGPSDGNAIGTSATAANNKSRPLNVEEEEEIYEYSNELRDQDRESDEHTADNVKLYQKLKIQILAGGAFGLLLCMLIGGAFVSIFYHIGTDLWTLSEHYYEGVLSLVASVIISVMGLFFLRMGKLREKFRVKLASIIYSKDNNLLGNKTQKGVKFSEKYSFFILPFITTLREGLEAVVFIGGIGIDQPLSSIPLSMVLATAISTVFGIFFFRYSSSLSLKICLVVATCFLYLIAAGLFSKGVWQLELQDYVNKCNGQDMSEVGNGPGSYDISRSVWHVNCCNGEKDGGWMIFTAIFGWTNSATVGSVISYNAYWLVLICALKLLMIEEKYGYIPYLPISWQKKRIMKRLSIAKASLDLKHHTSELNSSTSEPDSQRRSKDSSVPLIIDSSGSAN',\n",
       " 'YBR208C': 'MTVSSDTTAEISLGWSIQDWIDFHKSSSSQASLRLLESLLDSQNVAPVDNAWISLISKENLLHQFQILKSRENKETLPLYGVPIAVKDNIDVRGLPTTAACPSFAYEPSKDSKVVELLRNAGAIIVGKTNLDQFATGLVGTRSPYGKTPCAFSKEHVSGGSSAGSASVVARGIVPIALGTDTAGSGRVPAALNNLIGLKPTKGVFSCQGVVPACKSLDCVSIFALNLSDAERCFRIMCQPDPDNDEYSRPYVSNPLKKFSSNVTIAIPKNIPWYGETKNPVLFSNAVENLSRTGANVIEIDFEPLLELARCLYEGTWVAERYQAIQSFLDSKPPKESLDPTVISIIEGAKKYSAVDCFSFEYKRQGILQKVRRLLESVDVLCVPTCPLNPTMQQVADEPVLVNSRQGTWTNFVNLADLAALAVPAGFRDDGLPNGITLIGKKFTDYALLELANRYFQNIFPNGSRTYGTFTSSSVKPANDQLVGPDYDPSTSIKLAVVGAHLKGLPLHWQLEKVNATYLCTTKTSKAYQLFALPKNGPVLKPGLRRVQDSNGSQIELEVYSVPKELFGAFISMVPEPLGIGSVELESGEWIKSFICEESGYKAKGTVDITKYGGFRAYFEMLKKKESQKKKLFDTVLIANRGEIAVRIIKTLKKLGIRSVAVYSDPDKYSQHVTDADVSVPLHGTTAAQTYLDMNKIIDAAKQTNAQAIIPGYGFLSENADFSDACTSAGITFVGPSGDIIRGLGLKHSARQIAQKAGVPLVPGSLLITSVEEAKKVAAELEYPVMVKSTAGGGGIGLQKVDSEEDIEHIFETVKHQGETFFGDAGVFLERFIENARHVEVQLMGDGFGKAIALGERDCSLQRRNQKVIEETPAPNLPEKTRLALRKAAESLGSLLNYKCAGTVEFIYDEKKDEFYFLEVNTRLQVEHPITEMVTGLDLVEWMIRIAANDAPDFDSTKVEVNGVSMEARLYAENPLKNFRPSPGLLVDVKFPDWARVDTWVKKGTNISPEYDPTLAKIIVHGKDRDDAISKLNQALEETKVYGCITNIDYLKSIITSDFFAKAKVSTNILNSYQYEPTAIEITLPGAHTSIQDYPGRVGYWRIGVPPSGPMDAYSFRLANRIVGNDYRTPAIEVTLTGPSIVFHCETVIAITGGTALCTLDGQEIPQHKPVEVKRGSTLSIGKLTSGCRAYLGIRGGIDVPKYLGSYSTFTLGNVGGYNGRVLKLGDVLFLPSNEENKSVECLPQNIPQSLIPQISETKEWRIGVTCGPHGSPDFFKPESIEEFFSEKWKVHYNSNRFGVRLIGPKPKWARSNGGEGGMHPSNTHDYVYSLGAINFTGDEPVIITCDGPSLGGFVCQAVVPEAELWKVGQVKPGDSIQFVPLSYESSRSLKESQDVAIKSLDGTKLRRLDSVSILPSFETPILAQMEKVNELSPKVVYRQAGDRYVLVEYGDNEMNFNISYRIECLISLVKKNKTIGIVEMSQGVRSVLIEFDGYKVTQKELLKVLVAYETEIQFDENWKITSNIIRLPMAFEDSKTLACVQRYQETIRSSAPWLPNNVDFIANVNGISRNEVYDMLYSARFMVLGLGDVFLGSPCAVPLDPRHRFLGSKYNPSRTYTERGAVGIGGMYMCIYAANSPGGYQLVGRTIPIWDKLCLAASSEVPWLMNPFDQVEFYPVSEEDLDKMTEDCDNGVYKVNIEKSVFDHQEYLRWINANKDSITAFQEGQLGERAEEFAKLIQNANSELKESVTVKPDEEEDFPEGAEIVYSEYSGRFWKSIASVGDVIEAGQGLLIIEAMKAEMIISAPKSGKIIKICHGNGDMVDSGDIVAVIETLA',\n",
       " 'YBR209W': 'MNAYWFHYRASIKKEAPNYKRTFLGRARNAFLLILSEAYLLFVFLSYLIRGKSLEKRVNDEAKCSQRCVPLQLANNLAFGDRHKRSANFKKGIANTHSSLICSKP',\n",
       " 'YBR210W': 'MSGTGLSLFVTGLILNCLNSICQIYFTILYGDLEADYINSIELCKRVNRLSVPEAILQAFISALFLFNGYWFVFLLNVPVLAYNASKVYKKTHLLDATDIFRKLGRCKIECFLKLGFYLLIFFFYFYRMVTALLENDANLIS',\n",
       " 'YBR211C': 'MDRDTKLAFRLRGSHSRRTDDIDDDVIVFKTPNAVYREENSPIQSPVQPILSSPKLANSFEFPITTNNVNAQDRHEHGYQPLDAEDYPMIDSENKSLISESPQNVRNDEDLTTRYNFDDIPIRQLSSSITSVTTIDVLSSLFINLFENDLIPQALKDFNKSDDDQFRKLLYKLDLRLFQTISDQMTRDLKDILDINVSNNELCYQLKQVLARKEDLNQQIISVRNEIQELKAGKDWHDLQNEQAKLNDKVKLNKRLNDLTSTLLGKYEGDRKIMSQDSEDDSIRDDSNILDIAHFVDLMDPYNGLLKKINKINENLSNELQPSL',\n",
       " 'YBR212W': 'MMSNVANASQRQENPYIIPLPPSSTVETSTEPPRTLWMGDLDPSFDEATIEEIWSKLDKKVIVKLIRAKKNLLIPCSSTSSSNNNTSEENAENQQSASNSTDQLDNSQMININGISFIDPSTTQLHHAGYCFVEFETQKDAKFALSLNATPLPNFYSPTTNSQTNPTFKRTFRLNWASGATLQSSIPSTPEFSLFVGDLSPTATEADLLSLFQTRFKSVKTVRVMTDPLTGSSRCFGFVRFGDEDERRRALIEMSGKWFQGRALRVAYATPRNNMMLQLQEQQQQQQQLQQQHQQLDQEDNNGPLLIKTANNLIQNNSNMLPLNALHNAPPMHLNEGGISNMRVNDSLPSNTYNTDPTNTTVFVGGLVPKTTEFQLRSLFKPFGPILNVRIPNGKNCGFVKFEKRIDAEASIQGLQGFIVGGSPIRLSWGRPSSSNAKTNSTIMGASQYMSSNGLRAPSAASSVDNSKQILEQYAEDKRRLFLHQQQQQQQQQQQDGNFSMEQMAHNNYYNYNNYDYHRNKNGSHSDLVNLQRSNVPYMQEDGALYPHQYSSPSYSLHPTGNQFSNATNNLPQFGNAMSISMQLPNGNSNKTASSMNTNPNTNMIMNSNMNMNMNVNPVPYGMGNGANMYDVSRMMTPPLNIAPNSNNSKSSIMNKHPNRNNVPPIHPSLLH',\n",
       " 'YBR213W': 'MVKSLQLAHQLKDKKILLIGGGEVGLTRLYKLIPTGCKLTLVSPDLHKSIIPKFGKFIQNEDQPDYREDAKRFINPNWDPTKNEIYEYIRSDFKDEYLDLEDENDAWYIIMTCIPDHPESARIYHLCKERFGKQQLVNVADKPDLCDFYFGANLEIGDRLQILISTNGLSPRFGALVRDEIRNLFTQMGDLALEDAVVKLGELRRGIRLLAPDDKDVKYRMDWARRCTDLFGIQHCHNIDVKRLLDLFKVMFQEQNCSLQFPPRERLLSEYCSS',\n",
       " 'YBR214W': 'MASTSNTFPPSQSNSSNNLPTSRHASIVEMLSTPPLLPHVQVNDTDDKEQPEESTPPTATAAAPGPGCAATPAPLRDEKPQFKLSAVPMTQTPSQCLSCVHAQKWQHIPLSQLIEQNKLIFVPGSISVEEAFNTLIKYHLNSIPVESFPGDMNCFTFDYNDLNSYLLLVLNKITVSNKQLTADCQNGKPVPVGEMVKLTPKNPFYKLPENESLSTVMGILGSGVHRVAITNEEMTKVKGILSQRRLIKYLWDNARSFTSLEPLLNSSLQDLHIGVLNIQSKPTSRQSRVISIQGEEPLIMGLYKMHVERISSIAVIDKQGNLLGNISVTDVKHVTRTSQYPLLHKTCRHFISVILNSRGLETGKDSFPIFHVYPSSSLARTLAKLVATKSHRLWIVQPPESSTSASSTNLTAANTAANAVSATAQSSANGATPMSKSSSSTSLNSHSPLMTAMEDPPSPRSSAIAIPPPSPASSTNTPNLFEKEYRTGKLIGVVSLTDIINLLARKQTGNKEVDPQSARRQRGSIAM',\n",
       " 'YBR215W': 'MDQKAIVLDNSKSGSKQTKSSGKMQTQTDTNAEVLNTDNSIKKETGSDSEDLFNKFSNKKTNRKIPNIAEELAKNRNYVKGASPSPIIISGSSSTSPSGPSSSSTNPMGIPTNRFNKNTVELYQHSPSPVMTTNKTDTEEKRQNNRNMDNKNTPERGSSSFAAKQLKISSLLTISSNEDSKTLHINDTNGNKNSNAASNNIPSAYAELHTEGNSIESLIKPPSSPRNKSLTPKVILPTQNMDGTIAKDPHLGDNTPGILIAKTSSPVNLDVESTAQSLGKFNKSTNSLKAALTKAPAEKVSLKRSISSVTNSDSNISSSKKPTSEKAKKSSSASAILPKPTTTKTSKKAASNSSDSTRKKNASNKTTSAIKKESNAGSKLNTVKKENSSLSSIKATEKEKDKGGNSTEAKNSTSNVRKEPTAKSPKRLVAAPTVSPPKILQTAETKAKEPSILIDVPLYQADTNDYLDENGQVIFNLSTLIKEKYHPKSKELAQLKDSKRNLLMQLSDHSNGSLEKEKDEEGDVIELDDDEDMEEDEGEIDTETNTVTTTISPKKKSHPMKGKNLIGKYDVEDPFIDDSELLWEEQRAATKDGFFVYFGPLIEKGHYASLERANGTMKRGGVKNK',\n",
       " 'YBR216C': 'MEPIDDILFEVTDAFKTQKEDLLELVTLIDIYGEQVNQEGSYEEKTRFIETLNTLLEDNPSTTGEIGWDLPKGLLKFLSKDNVDVNGRLGTNMIVQGVMKCFYAISIQGEPKKCLITGLELLSSLCSKDFSKSDQQNKEDFVDKKANTLPPEGVIENSSNRKDFPSYGESKSSNEFFLKLKSYILFEFIGASLKRISTLFPSKYLGAAVSTIEKFVYSHADTFEDALFLLRRVYTFCRNYIPPDPPKDIQLNEDFTREMFDKVVEEESELQVRLLRRLCTFGISTPIKTVTTNADVKYYCALNQQKFELSAYYTEYLELFCRYYQMAFSLDVDIEGEFQNVIKECRIIYKSVPQEISAVNDEAKLVLERMVYKLAYTFEVQKAAKEKNVGLDYNGVILFSGIHYLETNQHLVKEMNITDAIYLYLRFTTPSLYSKVYYNVAVESVSRYWLWYAITTEPLEDVKKELKNLSVFVTKTLLHVLLQKNCIQVNQQLRMITFTLLTRLLCLIPEKVAFEFILDVLKTSPLPLAKTSVLCVFKDLSRRRISTKDNDSETDLIVEKLSKLKVNDSNKAQQSNIRHYIQLDSSKMKAVHDCCLQTIQDSFTADAKKSDILLLLTYLNIFIVLKKTWDEDLLKIVCSKIDSNLKSVEPDKLPKYKEIVDKNESLNDYFTGIK',\n",
       " 'YBR217W': 'MSRILESENETESDESSIISTNNGTAMERSRNNQELRSSPHTVQNRLELFSRRLSQLGLASDISVDQQVEDSSSGTYEQEETIKTNAQTSKQKSHKDEKNIQKIQIKFQPIGSIGQLKPSVCKISMSQSFAMVILFLKRRLKMDHVYCYINNSFAPSPQQNIGELWMQFKTNDELIVSYCASVAFG',\n",
       " 'YBR218C': 'MSSSKKLAGLRDNFSLLGEKNKILVANRGEIPIRIFRSAHELSMRTIAIYSHEDRLSMHRLKADEAYVIGEEGQYTPVGAYLAMDEIIEIAKKHKVDFIHPGYGFLSENSEFADKVVKAGITWIGPPAEVIDSVGDKVSARHLAARANVPTVPGTPGPIETVQEALDFVNEYGYPVIIKAAFGGGGRGMRVVREGDDVADAFQRATSEARTAFGNGTCFVERFLDKPKHIEVQLLADNHGNVVHLFERDCSVQRRHQKVVEVAPAKTLPREVRDAILTDAVKLAKVCGYRNAGTAEFLVDNQNRHYFIEINPRIQVEHTITEEITGIDIVSAQIQIAAGATLTQLGLLQDKITTRGFSIQCRITTEDPSKNFQPDTGRLEVYRSAGGNGVRLDGGNAYAGATISPHYDSMLVKCSCSGSTYEIVRRKMIRALIEFRIRGVKTNIPFLLTLLTNPVFIEGTYWTTFIDDTPQLFQMVSSQNRAQKLLHYLADLAVNGSSIKGQIGLPKLKSNPSVPHLHDAQGNVINVTKSAPPSGWRQVLLEKGPSEFAKQVRQFNGTLLMDTTWRDAHQSLLATRVRTHDLATIAPTTAHALAGAFALECWGGATFDVAMRFLHEDPWERLRKLRSLVPNIPFQMLLRGANGVAYSSLPDNAIDHFVKQAKDNGVDIFRVFDALNDLEQLKVGVNAVKKAGGVVEATVCYSGDMLQPGKKYNLDYYLEVVEKIVQMGTHILGIKDMAGTMKPAAAKLLIGSLRTRYPDLPIHVHSHDSAGTAVASMTACALAGADVVDVAINSMSGLTSQPSINALLASLEGNIDTGINVEHVRELDAYWAEMRLLYSCFEADLKGPDPEVYQHEIPGGQLTNLLFQAQQLGLGEQWAETKRAYREANYLLGDIVKVTPTSKVVGDLAQFMVSNKLTSDDIRRLANSLDFPDSVMDFFEGLIGQPYGGFPEPLRSDVLRNKRRKLTCRPGLELEPFDLEKIREDLQNRFGDIDECDVASYNMYPRVYEDFQKIRETYGDLSVLPTKNFLAPAEPDEEIEVTIEQGKTLIIKLQAVGDLNKKTGQREVYFELNGELRKIRVADKSQNIQSVAKPKADVHDTHQIGAPMAGVIIEVKVHKGSLVKKGESIAVLSAMKMEMVVSSPADGQVKDVFIKDGESVDASDLLVVLEEETLPPSQKK',\n",
       " 'YBR219C': 'MTLLNTLSNFGGTWPRLIIMSMINYFTVYQCTIPGTNKVYVTHGGSMQACTELLNGTVTILRDGYYITNLICIVVGLFLYFGYLKRKILHLQSLPISSWRFFHFFFTILAVTSRAIYYKSQNWRREC',\n",
       " 'YBR220C': 'MEPKRKSGSLAKHDLPQFYLLIMLYLAQGIPVGLAFGTVPFLLKSLAKETSFTSLGIFSMATYPYSLKIIWSPIVDSLYNKRIGRRRSWIIPVQFVSGFVLWALGWCISQGIIFDGVDDAFHNRGNGTLHSVSIKNLTWWFGLLVFLCATQDIAVDGWALTILSKESLSYASTAQTIGLNIGYFMSFTIFLSLNSSDFANKYFRNIPLDHGFISLGGYMKFSGMLYIVITIYIIFCTKEKPYVEYLPKVEPINTSDGGSKPISIEYDDGDVVSTQNTSSIKYIYRCFIKVLKLKSVRSLAFIHMISKFAFQCNEAATNLKLLEQGFKREDLAVTVLIDLPFEIIFGYYVVKWSSDKDPMIRDNRRLRNSTGTNKVIKFLVGDAGVLTPWLWGFLGRLAAAVLGSYVVKQFPKDGEISTGYFCLVIFQHLLGSFMNTVQFIGISAFHTRVADPVLGGTYMTLLNTLSNFGGTWPRLIIMSMINYFTVYQCTIPGTNKVYVTHGGSMQACTELLNGTVTILRDGYYITNLICIVVGLFLYFGYLKRKILHLQSLPISSWRCT',\n",
       " 'YBR221C': 'MFSRLPTSLARNVARRAPTSFVRPSAAAAALRFSSTKTMTVREALNSAMAEELDRDDDVFLIGEEVAQYNGAYKVSKGLLDRFGERRVVDTPITEYGFTGLAVGAALKGLKPIVEFMSFNFSMQAIDHVVNSAAKTHYMSGGTQKCQMVFRGPNGAAVGVGAQHSQDFSPWYGSIPGLKVLVPYSAEDARGLLKAAIRDPNPVVFLENELLYGESFEISEEALSPEFTLPYKAKIEREGTDISIVTYTRNVQFSLEAAEILQKKYGVSAEVINLRSIRPLDTEAIIKTVKKTNHLITVESTFPSFGVGAEIVAQVMESEAFDYLDAPIQRVTGADVPTPYAKELEDFAFPDTPTIVKAVKEVLSIE',\n",
       " 'YBR221W-A': 'MFSHFEVSENRPRKQPRRKRISLGMINTVVSLDR',\n",
       " 'YBR222C': 'MTSAATVTASFNDTFSVSDNVAVIVPETDTQVTYRDLSHMVGHFQTMFTNPNSPLYGAVFRQDTVAISMRNGLEFIVAFLGATMDAKIGAPLNPNYKEKEFNFYLNDLKSKAICVPKGTTKLQSSEILKSASTFGCFIVELAFDATRFRVEYDIYSPEDNYKRVIYRSLNNAKFVNTNPVKFPGFARSSDVALILHTSGTTSTPKTVPLLHLNIVRSTLNIANTYKLTPLDRSYVVMPLFHVHGLIGVLLSTFRTQGSVVVPDGFHPKLFWDQFVKYNCNWFSCVPTISMIMLNMPKPNPFPHIRFIRSCSSALAPATFHKLEKEFNAPVLEAYAMTEASHQMTSNNLPPGKRKPGTVGQPQGVTVVILDDNDNVLPPGKVGEVSIRGENVTLGYANNPKANKENFTKRENYFRTGDQGYFDPEGFLVLTGRIKELINRGGEKISPIELDGIMLSHPKIDEAVAFGVPDDMYGQVVQAAIVLKKGEKMTYEELVNFLKKHLASFKIPTKVYFVDKLPKTATGKIQRRVIAETFAKSSRNKSKL',\n",
       " 'YBR223C': 'MSRETNFNGTKRKRSDVAEKVAQRWKSVRYSAEMENMAPVNSNNDSDDCVIVSESKIIDLTNQEQDLSERIETNDTAKGAVFKLMKSDFYEREDFMGEVEDMITLKDIFGTETLKRSILFSFQYELDFLLRQFHQNVENITIVGQKGTIMPIEARAMDATLAVILKKVKLIEITMPPFASHHTKLIINFYDNGECKIFLPSNNFTSMETNLPQQVCWCSPLLKIGKEGLPVPFKRSLIEYLNSYHLKDIDELITKSVEEVNFAPLSELEFVYSTPSKFQSSGLLSFYNKLEKLSAGTSASDTAKHYLCQTSSIGTSLSRARDENLWTHLMIPLFTGIMSPPAKDTAGRKKAEILPTNSLINEYSQRKIKPYIIFPTEQEFVTSPLKWSSSGWFHFQYLQKKSYYEMLRNKFKVFYKQDPAMVTRRRGTTPAHSKFYMHCATNSAGPCDASQVFKELEWCLYTSANLSQTAWGTVSRKPRNYEAGVLYHSRRLANTRKVTCRTFTRDRRGCAGNPTHVAVPFTLPVIPYDLAEDECFCLARHEND',\n",
       " 'YBR225W': 'MGSNKEAKNIDSKNDRGLTSITSNKISNLKAHDNHTSSMITEHKNADKEKGKQEKESRNGTTQSSSSVESHSPQVSHHSDKLSSFDSPLHLPNFRLADDLFSNSSRRSSDSAASSSVSKLKSAQLSKIGLHHHHTSNNKHSHRSGTPTSEVKANYSPDPSAPRFIVSNMVGNGRGGGGLHGATSNVVKKLHSRKKWDWNTLPASDSSLLIKTVSGNHNLINICIDGEFKQIMYDPNHNELFNRMDLFLSFNMDSSPEDSLIFAKKRLRSYIDFLTKYLESRKYAFECYPFNIENIINIETEVKCFPSFDPLKDYSEIESLIQLWLAQSQKFLLQSNSFFFSSEVVEELIKRKPTTRQHSNPTISTTSNKISDPTLYIQQLDIEANSPRPVISDPLDEIDILLIRPLHKTLGGWQLAYDEPSLNIADFALDLSPWMIDSSDNDAQNKNASEIAPEYLTNLQNYLPRKGSRAKIVSDEQEVIELNSSNASEYMYDCMNRKFFTDDAKERISRNNFNQGVEEDPLNDQFASSRSLSLPSSGADAVKRKKSPTKATKKSGFVNFFKRKHSQLASTSHTTSPSVSPSISSSSSPKIQPQSHISSPPRTEKAPHVKSANQAHQNEWLENFFCRTLNNYKEIDLPTQFILPKEVKRSSNAQLQPEDEPPLSSPISSNSDNSFPNEGLDRAKSAAIYGKEYLKLRLPFASDTIPAVICPWVWTSLSYYKWKALLREIYRSIIPGGYALAIVPDLRISNTYYTGILGNADAEKANNSSEEFLTTKERDKTFDAMAIDAINKGLHIHPTKHLTRTFKDVGFTGIKSSVLSLKTGDFKTDMGFLNEFNSLDMWDYMLRRQLPDSSCPPKDTDPTTLFKRYVEEHIGKIDDNAGCFRTLYVVAQKPKLPYTK',\n",
       " 'YBR227C': 'MLKSASQNFFRAYSSRIGRYAATASGKLAQSRLSNIPTPKALKKFLDEYIVGQEIGKKVLSVAVYNHYLRINDKQKKGELQRQRELMEREKIADDRDEPIFSGNSESKAGWRNLQRQFNLAGREVDEDLELSKSNVLVVGPSGSGKTLLATTLAKILNVPIAITDCTQLTQAGYIGEDVEVCIERLLVNAEFDVARAEKGIIVLDEIDKLAKPAASIGTKDVSGEGVQQSLLKIIEGHKVEITVKRPVKHDIDGQKNQTTTKKDEVFVVDTSNILFMIMGAFVGLDKHIVKRIEDMKKIQKAGESVESSNSKEVEKERAKKFRFSNTLEQVELDNGKKVCALDLTTPTDLVSFGLIPELIGRVPIITALQPLQRDDLFHILKEPKNALLDQYEYIFKQFGVRLCVTQKALKKVAQFALKEGTGARGLRGIMERLLLNVNYDCPGSNIAYVLIDEATVDSLQETEHSLASQVDVKYYSGDEKDSLIRDVSEEDKKLGVMLEKELGHSANIHTPTIPKRSLT',\n",
       " 'YBR228W': 'MSQKIQQHQFPDFYCCYLLQSINKRQSFYVGSTPNPVRRLRQHNGKLAVGGAYRTKRDGSRPWEMIMIVRGFPSKIAALQFEHAWQHGYQTHYIAEKDRVVKHKAGGRTLHHKVALMKLLLKHEFFQRMNLIVEVFNIKAWEVWKQDKFFIERDRFPINIQINENALEEPKEKTVDVLMDHSDENLKVVEAVYTKVIENERNIFETFEKKLTTGVVRCEICEKEIDYTSEEQNLKPFVALCNNKDCGCVNHLKCLHRYFLDDEQLMVGRRNLIPRGGKCPKCDMFCDWTTLVKFSTRMKLAHGK',\n",
       " 'YBR229C': 'MVLLKWLVCQLVFFTAFSHAFTDYLLKKCAQSGFCHRNRVYAENIAKSHHCYYKVDAESIAHDPLENVLHATIIKTIPRLEGDDIAVQFPFSLSFLQDHSVRFTINEKERMPTNSSGLLISSQRFNETWKYAFDKKFQEEANRTSIPQFHFLKQKQTVNSFWSKISSFLSLSNSTADTFHLRNGDVSVEIFAEPFQLKVYWQNALKLIVNEQNFLNIEHHRTKQENFAHVLPEETTFNMFKDNFLYSKHDSMPLGPESVALDFSFMGSTNVYGIPEHATSLRLMDTSGGKEPYRLFNVDVFEYNIGTSQPMYGSIPFMFSSSSTSIFWVNAADTWVDIKYDTSKNKTMTHWISENGVIDVVMSLGPDIPTIIDKFTDLTGRPFLPPISSIGYHQCRWNYNDEMDVLTVDSQMDAHMIPYDFIWLDLEYTNDKKYFTWKQHSFPNPKRLLSKLKKLGRNLVVLIDPHLKKDYEISDRVINENVAVKDHNGNDYVGHCWPGNSIWIDTISKYGQKIWKSFFERFMDLPADLTNLFIWNDMNEPSIFDGPETTAPKDLIHDNYIEERSVHNIYGLSVHEATYDAIKSIYSPSDKRPFLLTRAFFAGSQRTAATWTGDNVANWDYLKISIPMVLSNNIAGMPFIGADIAGFAEDPTPELIARWYQAGLWYPFFRAHAHIDTKRREPYLFNEPLKSIVRDIIQLRYFLLPTLYTMFHKSSVTGFPIMNPMFIEHPEFAELYHIDNQFYWSNSGLLVKPVTEPGQSETEMVFPPGIFYEFASLHSFINNGTDLIEKNISAPLDKIPLFIEGGHIITMKDKYRRSSMLMKNDPYVIVIAPDTEGRAVGDLYVDDGETFGYQRGEYVETQFIFENNTLKNVRSHIPENLTGIHHNTLRNTNIEKIIIAKNNLQHNITLKDSIKVKKNGEESSLPTRSSYENDNKITILNLSLDITEDWEVIF',\n",
       " 'YBR230C': 'MSATAKHDSNASPNSDSEDGHHHNNKKECAIEYLKARLNSASAVACGYLQAFVSKTQDFAKVCFLELQNPVVLVNLLLHSSVVCYLCNGYANHNARFLKGKPNSTVLATTAGALGLLTLDGIISKKYYSRYDKK',\n",
       " 'YBR230W-A': 'MRNELYQLWCVASAARGVAKSSFVRANSAMCEYVRTSNVLSRWTRDRQWEAAKALSQRVKKEYAAN',\n",
       " 'YBR231C': 'MPEVETKIIPNEKEDEDEDGYIEEEDEDFQPEKDKLGGGSDDSDASDGGDDYDDGVNRDKGRNKVDYSRIESESGGLIKTRRARQAEEEYAKTHKYESLTVESIPAKVNSIWEELQEASKNRLLSSSGKVGSVLDGSKEARSTTAAQQEDKILIERNYKFAGETVHEKKWVSRSSAEGQEYLNSLKFKQQAPAAPVQLEKAVRTKSNESRQHLRRPLKRPPLLEQIISGGLRPKLTTLEKSQLDWASYVDRAGLNDELVLHNKDGFLARQEFLQRVGSAEDERYKELRRQQLAQQLQQDSEAS',\n",
       " 'YBR233W': 'MSTETTKPSITTTPTTVLVSPNTLKRKKGEDTSEEQLEAEIKRVALKDADSHSDNDHDSPDNVPSDVHLRMLCLVKHASLIVGHKGATISRIKSETSARINISNNIRGVPERIVYVRGTCDDVAKAYGMIVRALLEEHGNEDNGEDIEISINLLIPHHLMGCIIGKRGSRLREIEDLSAAKLFASPNQLLLSNDRILTINGVPDAIHIATFYISQTLLNFQMESPQKNVKRSIYYQPTQFNSVLIDHSQPNTIFHQRNHQYHPSDKLLSYKPNKNLPISSTLLSMATPQYTTASVANATAFQPNFVIPNVTVLDGPVISPAPGNHLLMNFVQQEIFIDEKFVGNVIGKDGKHINSVKESTGCSIIIQDPVEGSSERRLTIRGTFMASQAAIMLISNKIEIDRSNAERKRRSPL',\n",
       " 'YBR233W-A': 'MEHNLSPLQQEVLDKYKQLSLDLKALDETIKELNYSQHRQQHSQQETVSPDEILQEMRDIEVKIGLVGTLLKGSVYSLILQRKQEQESLGSNSK',\n",
       " 'YBR234C': 'MSFSNSKDKSVVAVYKLVKAPIYSHCFSQDKSILAVTCETDCLVYRVSNNTPPVLFATLKDHDKTITAVDISIHGRIVTCSQDRNAYVWEPLSDGTYKPTLVLLRINRAATSVTWAPNGYKFAVGSSARIIAVCYYEHENNWWVSKHIKKPIKSTINCLSWHANGVLLAAGGTDGFMRVFSGFIKGLDSKESVAGSPWGQKFPFGCLIREWYQGSYIHDVEWRSQMERIAYVAHDGTLNVVDYQSPVQSVNAPEGLPYRSLVWINDHEIVCGGYSCHPVLFSEASEGWKFAKNLDKSDNNKSSALTASGNTDELSGNNDESSTFGISALRKFKELDLKGKVSTDVQESAHENAIVELRPFAESNGQITQVSSCGLDGKIVIYTI',\n",
       " 'YBR235W': 'MVSRFYQIPGTHRPSSAISSSNESSSLLSARRISQTYFNYQATPECQKVSSKYDPDNPNKDKLGTYDGVFVPTALNVLSILMFLRFGFILGQLGIICTIGLLLLSYTINLLTTLSISAISTNGTVRGGGAYYMISRSLGPEFGGSIGLVFFLGQVFNAGMNAVGIIEPLLYNLGYSAQGEPPAALGELLPRGHWHEFTYATVILFLCFSVAFVGSQTVSRAGNILFLVLAASIFSIPLSALIRSPFTEGGISYTGPSWQTFHDNLLPHLTKGAAGSLLKGKETFNDLFGVFFPATAGIFAGAGMSSELRKPSKSIPKGTLWGLLFTFICYAVVVFSMGCSIPRRSLYDEVQIIQTISSVQWVIFMGEMATSLFSIIVGMLGAAYVLEAIAKDNIIPGLEIFAHSPLYSLIFTWILTQLCLFSDVNKIATFITMTFLMTFVVMNLACFLLGISSAPNFRPSFKYFNRYTTAIGALLSVVAMLIVDGISASVLFLAMILLFLFIHYFSPPKSWGDVSQSLIYHQVRKYLLRLRQDNIKYWRPQILLFVDNPRTSWNLIRFCNHLKKGGLYILGHVAVTADFPKQLNELKTQQKAWMKIRDMAAIKAFVQVGTGPSLIWGIRNVFIGSGLGGMKPNITVVGFFDLESYRKHIPQSRSQNNLQKQVEIKATVPRSTCSDVKINVPLPTDECKNETKVNVQQWVQIVEDLSLMQSNIAIAHGFKNLEIPNKRDSCFPKKTIDLYPIQMCGKVEAKGDQPAAITTNFDTYTLILQLAAILVTVPEWKRTHSLRVILFVEQEYHRTNETQRMKKLLQVLRIDAEVLVVSLDQFRVYNTIVKGDPIVFDYVNSKLADNEWWKDLVEARDTLKPKRRFSTIEPQTIAKQFTQSRKYTSGVQKLGVSFTMNTRMPTNRIDTPCESEDSDLDTDLTSIRDAFSASTNISVGKDLTTKSKTGSDRTNLLVKNLQSDVSTQSLRPVFSSNTLPRTRVVEDGTGEQPTLIPIAEPDLSNGNGTGSGIGNGNKLKKPVLPELSPCCSKDSLVTAMQNLGFNDLPSTAQHLVLNDVMTQMSKSSDLIFSTLPVPALGTHEDHDASLQYVEDLDIWLEGLPPCMLINSQTMTVTTAL',\n",
       " 'YBR236C': 'MSTKPEKPIWMSQEDYDRQYGSITGDESSTVSKKDSKVTANAPGDGNGSLPVLQSSSILTSKVSDLPIEAESGFKIQKRRHERYDQEERLRKQRAQKLREEQLKRHEIEMTANRSINVDQIVREHYNERTIIANRAKRNLSPIIKLRNFNNAIKYMLIDKYTKPGDVVLELGCGKGGDLRKYGAAGISQFIGIDISNASIQEAHKRYRSMRNLDYQVVLITGDCFGESLGVAVEPFPDCRFPCDIVSTQFCLHYAFETEEKARRALLNVAKSLKIGGHFFGTIPDSEFIRYKLNKFPKEVEKPSWGNSIYKVTFENNSYQKNDYEFTSPYGQMYTYWLEDAIDNVPEYVVPFETLRSLADEYGLELVSQMPFNKFFVQEIPKWIERFSPKMREGLQRSDGRYGVEGDEKEAASYFYTMFAFRKVKQYIEPESVKPN',\n",
       " 'YBR237W': 'METIDSKQNINRESLLEERRKKLAKWKQKKAQFDAQKEHQTSRNDIVTNSLEGKQTTEKFTERQERVKEELRKRKNEFRKSDEPVSVKPSKKKSKRSKVKKKISFDFSDDDDSEIGVSFRSKEHIQKAPEHDNEKDPLDEFMTSLKEEKMSNSKGMYDRGDILDVEDQLFELGGTDDEDVEDNTDNSNIAKIAKLKAKKRVKQIYYSPEELEPFQKNFYIESETVSSMSEMEVEELRLSLDNIKIKGTGCPKPVTKWSQLGLSTDTMVLITEKLHFGSLTPIQSQALPAIMSGRDVIGISKTGSGKTISYLLPLLRQVKAQRPLSKHETGPMGLILAPTRELALQIHEEVTKFTEADTSIRSVCCTGGSEMKKQITDLKRGTEIVVATPGRFIDILTLNDGKLLSTKRITFVVMDEADRLFDLGFEPQITQIMKTVRPDKQCVLFSATFPNKLRSFAVRVLHSPISITINSKGMVNENVKQKFRICHSEDEKFDNLVQLIHERSEFFDEVQSENDGQSSDVEEVDAKAIIFVSSQNICDFISKKLLNAGIVTCAIHAGKPYQERLMNLEKFKREKNSILLCTEVLSRGLNVPEVSLVIIYNAVKTFAQYVHTTGRTARGSRSGTAITLLLHDELSGAYILSKAMRDEEIKALDPLQAKELQEMSAKFESGMKKGKFRLSKGFGGKGLENIKSKREEAQNKDLELKKNDKRSDDLEKKISNPREGHDSVSESSALIPRLNYELFKESTDGSIIFYAKVYINDLPQIVRWEATKNTTLLFIKHETGCSITNKGKFYPEGKEPKNENDEPKLYLLIEGQDEKDIQLSIELLEQKVKEGVVKAASLSLKSTKY',\n",
       " 'YBR238C': 'MIRLAQQTQVLKGKPPNQFVPHPTKNSLTHPMKFNGTIAMEHHEHNYAIPYTPATFNNPALATYQVSPANHFVPHFGGNIGANNNNHLAQNNSNNSNNHHNNNRNHHHNNNRNHHQNNHNHSKYNNSNQGNSISPDSPWFHKVCAFEDCVSQTLYMSQTPRRQNMKHHSEHPNSNANPLFWDSIGRAMGLYHDLLTTPELNSDRVSKLVHLLHNGLRANRNQLTRMNKKPDYDSQSFHKEMTNYLCKSLREISEDVLNGKVELNEYGAMHLITAFKELLLFEEAVDIWKAAINGQNTYTSNIFLNPRVVGVILPILYDNGVSYPEIQALYEKSSSMINYFHPNLSVGMIRASLSASENDMALKLFQKLCQESTEMKYGYLIETHLSFIGECKDLNVAQTFFDKALNDEMPYKIDLQVSYVKSFLRNIWSQTRDFNHIYQIWYKSSLHYGRNVNHGISSSLNDTFFDIFFENYAVDKMQGFQTLQNIIQTYNNIKHIDEPFFNIILAKCTVWHDRSILEYIDKSYEAYHIPKTIVAYRILLKSMGSVDDASNAEILQRWMDLIRKSDEIGQRFIANADWAALRDATVTWTQNDRDSKKSNMNSTQISRTATPSPSLTPMDTPAPEHLFNNPQNPMDFYSHPALQAATASGAFDEFAAEAASSSIPVDGRMVLYLKIVKRYSPYCRDSRQLARLTTGTAVKYSVLQEVLNQFQTLIVNDIPIPELHNLKPTCV',\n",
       " 'YBR239C': 'MCTPDENDYKTSTDPDTSANTNHTLEKKKRKKRKNTNVACVNCSRLHVSCEAKRPCLRCISKGLTATCVDAPRKKSKYLAGIPNRELPMNIQPDLPPRKIMIPIYNNSSNSSLNVNNMGEQQKFTSPQHIVHKAKFLSNAADSEYSILSNIIYQDTLSNKIPIDILYSNTNSTSNSTIGNSSNNSPTGTNTSPEETEMEKIRQLYSEQRANIPPHPYPSSNQNVYSILLGPNSAKIVASQVNLFANHFPLVPVDSADNSLNFKRLLPRDPSEKSSQINWDSSINQYYLNSETVTFPELAIPLKRRKNHLVSVSLESCSPDAANIKSNVEWEHSLRYSTPMEIYTSINAPFSHTPGFHHLLVYLKHRFNQQDLVKMCRSIAEFRPIFIACSVTLTEEDMIFMEQCYQRTLLEYVKFIAQIGTPTCIWRRNGQISYVNEEFEILCGWTREELLNKMTFIVEIMDDESVRDYFKTLSKVAYRDFRGSEKMKVCRLLSPIKGKIIHCCCMWTLKRDVSGLPLMILGNFMPILN',\n",
       " 'YBR240C': 'MVNSKRQQRSKKVASSSKVPPTKGRTFTGCWACRFKKRRCDENRPICSLCAKHGDNCSYDIRLMWLEENIYKVRKHSLISSLQARKSKSKPLCQKISKSRFKQMTHFRQLSPPTSDCEDSVHEASKETTLPNDNTFTISVRRLKIYNNAVASVFGSMTNRDYTQKRIDKKLDELLNMVENDISVVNLNCSKHGPYSVFRANPAAVTSALTDQLPSPGHSMSSAEETTTAALSSPPEDSTSLIDIIQGKIFGILWFNCYGNMILNRQEYTTWFINKMRNSLTTEFIRFLGKIIDDPDINMASCLFKECIARWSCVDWQSIAITMLVIIHGYTCPNLTKLLRVWFLQQKLLRFSMYPLVNFIINNTQDLDVLYHCNGLLGNADLFEDPYQDELTSELHVLVTERLVNSWKDTILQQLCSCQDTTLSCSQLRYWQLQLKCNQQFYKDVYAMQD',\n",
       " 'YBR241C': 'MAETERLMPNGGSRETKPLITGHLILGTIVACLGSIQYGYHIAELNAPQEFLSCSRFEAPDENISYDDTWVGQHGLKQCIALTDSQYGAITSIFSIGGLFGSYYAGNWANRYGRKYVSMGASAMCMVSSLLLFFSNSYLQLLFGRFLVGMSCGTAIVITPLFINEIAPVEWRGAMGSMNQVSINLGILLTQTLALKYADSYNWRWLLFSGSVIAVANILAWLKVDESPRWLVSHGFVSEAETALFKLRPGTYQQAKQEIQDWQRSHGHNRDPESSEETHSGPTLWQYVTDPSYKKPRTVILAILSCQQFCGINSIIFYGVKVIGKILPDYSIQVNFAISILNVVVTLAASAIIDHVGRRPLLLASTTVMTAMSLLISVGLTLSVSFLLVTATFVYIAAFAIGLGPIPFLIIGELSYPQDAATAQSFGTVCNWLATFIVGYLFPIGHGLMGGYVFAIFAAIAAMFATYVYKRVPETKGKTTYSEVWAGY',\n",
       " 'YBR242W': 'MTATITNKKSCSGSVEAGKTRLTTEWKPESQVPQYVKNELSKPHPNYILAFLNVVQQLKIQRRTGYLDLGIKECESISDHMYRLSIITMLIKDSRVNRDKCVRIALVHDIAESLVGDITPVDPIGKEEKHRREWETIKYLCNALIKPYNEIAAKEIMDDWLAYENVTSLEARYVKDIDKYEMLVQCFEYEREYKGTKNFDDFFGAVASIKTDEVKGWTSDLVVQRQKYFADLTQSITK',\n",
       " 'YBR243C': 'MLRLFSLALITCLIYYSKNQGPSALVAAVGFGIAGYLATDMLIPRVGKSFIKIGLFGKDLSKPGRPVLPETIGAIPAAVYLFVMFIYIPFIFYKYMVITTSGGGHRDVSVVEDNGMNSNIFPHDKLSEYLSAILCLESTVLLGIADDLFDLRWRHKFFLPAIAAIPLLMVYYVDFGVTHVLIPGFMERWLKKTSVDLGLWYYVYMASMAIFCPNSINILAGVNGLEVGQCIVLAILALLNDLLYFSMGPLATRDSHRFSAVLIIPFLGVSLALWKWNRWPATVFVGDTYCYFAGMVFAVVGILGHFSKTMLLLFIPQIVNFIYSCPQLFKLVPCPRHRLPKFNEKDGLMYPSRANLKEEPPKSIFKPILKLLYCLHLIDLEFDENNEIISTSNMTLINLTLVWFGPMREDKLCNTILKLQFCIGILALLGRHAIGAIIFGHDNLWTVR',\n",
       " 'YBR244W': 'MTTSFYDLECKDKKGESFKFDQLKGKVVLIVNVASKCGFTPQYKELEELYKKYQDKGFVILGFPCNQFGKQEPGSDEQITEFCQLNYGVTFPIMKKIDVNGSNADSVYNYLKSQKAGLLGFKGIKWNFEKFLVDSNGKVVQRFSSLTKPSSLDQEIQSLLSK',\n",
       " 'YBR245C': 'MAYMLAIANFHFFKFYTRMRKKHENNSCNEKDKDENLFKIILAIFLQEKKKYDCISSGSIMTASEEYLENLKPFQVGLPPHDPESNKKRYLLKDANGKKFDLEGTTKRFEHLLSLSGLFKHFIESKAAKDPKFRQVLDVLEENKANGKGKGKHQDVRRRKTEHEEDAELLKEEDSDDDESIEFQFRESPAYVNGQLRPYQIQGVNWLVSLHKNKIAGILADEMGLGKTLQTISFLGYLRYIEKIPGPFLVIAPKSTLNNWLREINRWTPDVNAFILQGDKEERAELIQKKLLGCDFDVVIASYEIIIREKSPLKKINWEYIIIDEAHRIKNEESMLSQVLREFTSRNRLLITGTPLQNNLHELWALLNFLLPDIFSDAQDFDDWFSSESTEEDQDKIVKQLHTVLQPFLLRRIKSDVETSLLPKKELNLYVGMSSMQKKWYKKILEKDLDAVNGSNGSKESKTRLLNIMMQLRKCCNHPYLFDGAEPGPPYTTDEHLVYNAAKLQVLDKLLKKLKEEGSRVLIFSQMSRLLDILEDYCYFRNYEYCRIDGSTAHEDRIQAIDDYNAPDSKKFVFLLTTRAGGLGINLTSADVVVLYDSDWNPQADLQAMDRAHRIGQKKQVKVFRLVTDNSVEEKILERATQKLRLDQLVIQQNRTSLKKKENKADSKDALLSMIQHGAADVFKSGTSTGSAGTPEPGSGEKGDDIDLDELLLKSENKTKSLNAKYETLGLDDLQKFNQDSAYEWNGQDFKKKIQRDIISPLLLNPTKRERKENYSIDNYYKDVLNTGRSSTPSHPRMPKPHVFHSHQLQPPQLKVLYEKERMWTAKKTGYVPTMDDVKAAYGDISDEEEKKQKLELLKLSVNNSQPLTEEEEKMKADWESEGFTNWNKLEFRKFITVSGKYGRNSIQAIARELAPGKTLEEVRAYAKAFWSNIERIEDYEKYLKIIENEEEKIKRVKMQQEALRRKLSEYKNPFFDLKLKHPPSSNNKRTYSEEEDRFILLMLFKYGLDRDDVYELVRDEIRDCPLFELDFYFRSRTPVELARRGNTLLQCLEKEFNAGIVLDDATKDRMKKEDENGKRIREEFADQTANEKENVDGVESKKAKIEDTSNVGTEQLVAEKIPENETTH',\n",
       " 'YBR246W': 'MDSIQESDVLNAVKTKLPPCCLRIFRNKIILVGTYDLDKSTGYRSGSLDVFTMDLKLLCSNNTYGAILDLKLSPFDDTLICTAHSTGNIMLWRIRCTDKDDFQSNELDIHAIANLQLFEKDVLIASCHFSPLDCKKLLVTNTAGEAATIDIRTLSVQFTASAIAQAYSKLDKIDYEVQGATEKVIHVESGQFLKPHELECWTAEFGSLQPFQDVVFTGGDDSRIMAHDLRSKEFIWSNNRIHDAGVVSIKCSQPNFRNNKPTSIITGSYDDNIRSLDLRMMGESIFPGANVPTVNKLACDLGGGVWRFVESPIDQEQSHHNGSDRLLVCCMYNGAKVVTMNDNSDEYFQIQHYLKKGHDSMCYGGDWSNSLIATCSFYDNSLQTWIV',\n",
       " 'YBR247C': 'MARASSTKARKQRHDPLLKDLDAAQGTLKKINKKKLAQNDAANHDAANEEDGYIDSKASRKILQLAKEQQDEIEGEELAESERNKQFEARFTTMSYDDEDEDEDEDEEAFGEDISDFEPEGDYKEEEEIVEIDEEDAAMFEQYFKKSDDFNSLSGSYNLADKIMASIREKESQVEDMQDDEPLANEQNTSRGNISSGLKSGEGVALPEKVIKAYTTVGSILKTWTHGKLPKLFKVIPSLRNWQDVIYVTNPEEWSPHVVYEATKLFVSNLTAKESQKFINLILLERFRDNIETSEDHSLNYHIYRAVKKSLYKPSAFFKGFLFPLVETGCNVREATIAGSVLAKVSVPALHSSAALSYLLRLPFSPPTTVFIKILLDKKYALPYQTVDDCVYYFMRFRILDDGSNGEDATRVLPVIWHKAFLTFAQRYKNDITQDQRDFLLETVRQRGHKDIGPEIRRELLAGASREFVDPQEANDDLMIDVN',\n",
       " 'YBR248C': 'MPVVHVIDVESGNLQSLTNAIEHLGYEVQLVKSPKDFNISGTSRLILPGVGNYGHFVDNLFNRGFEKPIREYIESGKPIMGICVGLQALFAGSVESPKSTGLNYIDFKLSRFDDSEKPVPEIGWNSCIPSENLFFGLDPYKRYYFVHSFAAILNSEKKKNLENDGWKIAKAKYGSEEFIAAVNKNNIFATQFHPEKSGKAGLNVIENFLKQQSPPIPNYSAEEKELLMNDYSNYGLTRRIIACLDVRTNDQGDLVVTKGDQYDVREKSDGKGVRNLGKPVQLAQKYYQQGADEVTFLNITSFRDCPLKDTPMLEVLKQAAKTVFVPLTVGGGIKDIVDVDGTKIPALEVASLYFRSGADKVSIGTDAVYAAEKYYELGNRGDGTSPIETISKAYGAQAVVISVDPKRVYVNSQADTKNKVFETEYPGPNGEKYCWYQCTIKGGRESRDLGVWELTRACEALGAGEILLNCIDKDGSNSGYDLELIEHVKDAVKIPVIASSGAGVPEHFEEAFLKTRADACLGAGMFHRGEFTVNDVKEYLLEHGLKVRMDEE',\n",
       " 'YBR249C': 'MSESPMFAANGMPKVNQGAEEDVRILGYDPLASPALLQVQIPATPTSLETAKRGRREAIDIITGKDDRVLVIVGPCSIHDLEAAQEYALRLKKLSDELKGDLSIIMRAYLEKPRTTVGWKGLINDPDVNNTFNINKGLQSARQLFVNLTNIGLPIGSEMLDTISPQYLADLVSFGAIGARTTESQLHRELASGLSFPVGFKNGTDGTLNVAVDACQAAAHSHHFMGVTKHGVAAITTTKGNEHCFVILRGGKKGTNYDAKSVAEAKAQLPAGSNGLMIDYSHGNSNKDFRNQPKVNDVVCEQIANGENAITGVMIESNINEGNQGIPAEGKAGLKYGVSITDACIGWETTEDVLRKLAAAVRQRREVNKK',\n",
       " 'YBR250W': 'MLFSSSSSSLNSEVSQVFSENISSRSTTLTESSTQSEIRQHFGNEDFSGELPKKLIQLKKLKNGGTTIKKAKEDLEYCYDSLRLYENPYVTSSVDKKCGYSIELYLDNKYKTLMFSDLQLNADYPLYYDSSLDNISTNVERERATPLQIKGKIRINIDREDQALLITSHSISLKCFTKEYACFVNSETSKNSYSDKIIKELNHTEFFESSTYPKQQLRVIHHSLNDKKILLTKGTYDYPFTFTLQANTFPASFSSFFGKTHFRIESLTTIMRIPSKPKNLLKFLKNESFTDKIILTEEIKVKRVLPSTSMLKFETFQLRSYNTASEIVVSVIGNSKLIEIGMPFQMILSITKTDSSIELQEASLAVAQRMAIPSIDLKTKKILREPYIKKSEYLLRTVESQSFDSDKTIFGFCFDDVVIPTYADGLPSWFKTFYCEPSSFYPNHAALKVTHLLLFRITYSRNELVEGLEMKKNYRITVNFPILVGDSDISTSSLLPKYEKFENISDLQDEPPLYSMVAGENSL',\n",
       " 'YBR251W': 'MFKRQLSTSVRYLQHYDESLLSRYYPESLLKSIKLAQQTIPEDTKFRVSRNVEFAPPYLDDFTKIHPFWDYKPGMPHLHAQEENNNFSIFRWDQVQQPLPGEGNILPPGVSLPNDGGRKSKSADVAAGLHKQTGVDPDYITRKLTMKPLVMKRVSNQTGKGKIASFYALVVVGDKNGMVGLGEGKSREEMSKAIFKAHWDAVRNLKEIPRYENRTIYGDIDFRYHGVKLHLRSAKPGFGLRVNHVIFEICECAGIKDLSGKVYKSRNDMNIAKGTIEAFTKAQKTLDEVALGRGKKLVDVRKVYYSS',\n",
       " 'YBR252W': 'MTATSDKVLKIQLRSASATVPTKGSATAAGYDIYASQDITIPAMGQGMVSTDISFTVPVGTYGRIAPRSGLAVKNGIQTGAGVVDRDYTGEVKVVLFNHSQRDFAIKKGDRVAQLILEKIVDDAQIVVVDSLEESARGAGGFGSTGN',\n",
       " 'YBR253W': 'MSNQALYEKLEQTRTILSVKLAELINMTTIADRNDDDEGSFAQENSELAVATTSVMMVNNQTMQLIKNVQDLLILTRSIKEKWLLNQIPVTEHSKVTRFDEKQIEELLDNCIETFVAEKTT',\n",
       " 'YBR254C': 'MPQYFAIIGKKDNPVYEIEFTNAENPQGFPQDLKELNPFILHASLDIVEDLQWQINPTSQLNGNGGNGSNGGGGFLRSRAVNNTDNCYLGKVDHFYGLAITAYISYSGMKFVMIHGNSANSSVVIDDNNMRSFYQEVHELYVKTLMNPFYKITDPIRSPAFDSRVRTLARKHLSK',\n",
       " 'YBR255W': 'MTHTNEHDHKAEQQQNGRGDTTTETVNPQKMKLVTKLLIDNKFGLMDDLNFSIPLTASSEGVPISAKTSELGTEYLKNQQENSVSPILPISRSTRIKADRVRIYLDYYYNILERCISIDSSQNHHEGVEGVYNPLQVIRNRKLKKKHHELPTREFYTTKHPIIAIKQFSKKPNKKMPWFVDINEKYMDLTWRTSHWEELVDPQGKLWFQSYSPSNESSGSSSSRRHHGHHIHPRRHLQHHSRVRTANSVHSNTQSLTPKRVMTNEEDNNNHNNNNMITKIATTPEAQISRNKKSDLNLSHIHLEVPITNTVTNTSSDQGSLIIEAKGSSYGGDRRGSSNTSGSGGKRNSKHYRSKSAGPPENEKSRMNGLEKIISKTSKGWSRSPKKNTPGLEKQVLLNPTISNGGTSRRSSNNGESISTNSSKSSMGITFGNTETYKTPVDNGKDAIIRQSLLSEVPVHTLRGKTSNRSLRAEGEQALESDKELPNGAGSIYEGAPREKTTSQGSEPVGLVSDSLQVDEQLQRYWHDTRYIMSTVAMMQHRRETHDIVKRREIARRNEIEITQDADTNIRKTADALTQYDNELNKVLKLGNDWTSKLLNDYSIRVETLISSSDRILSDINTTLTLKLKMFQENTERYVTVKVMRAQKMTKTIYRLLEFGIVLVLWTIWFLFSVLRSIRFTIFLVLKIIKALLW',\n",
       " 'YBR255C-A': 'MGGNVLPIHYDPKTVKQLTKEITVASCIGAAQGALFSIASALLLRRFSSVYRNVRTQVRVFYHCSWISMGAVFRADKQLLKFQTNYYREEQKRREKIMDEAAERGLFLEDESLNSSRSTT',\n",
       " 'YBR256C': 'MFTGIVECMGTVLENNPYDDSESGGQGVSITIGNAGSILTDCHVGDSIAVNGVCLTVTEFNNDSFKVGISPETIKRSNVASWIQGTQVNLERAVSQDVRFGGHYVQGHVDTVANIVSRRPEGNSIIFGFQLRDQEYFKYIVEKGFICIDGTSLTIIKVDPLSQGGAFYISMIKHTQDNVIMPLKKIGDEVNIEVDLTGKIIEKQILLTLENQISKKDSTLNTMISNIIEEKVRNYLNK',\n",
       " 'YBR257W': 'MDRTQTFIKDCLFTKCLEDPEKPFNENRFQDTLLLLPTDGGLTSRLQRQQRKSKLNLDNLQKVSQLESADKQLEKRDYQRINKNSKIALREYINNCKKNTKKCLKLAYENKITDKEDLLHYIEEKHPTIYESLPQYVDFVPMYKELWINYIKELLNITKNLKTFNGSLALLKLSMADYNGALLRVTKSKNKTLIGLQGIVIWDSQKFFIMIVKGNIIDEIKCIPKKGTVFQFEIPISDDDDSALRYSILGDRFKYRSVDRAGRKFKSRRCDDMLYYIQN',\n",
       " 'YBR258C': 'MAYNQEDSKRLSDKYKKEGHFDKLKREILSNPWNNTEENSESFEQALRKRVASTVKEMVNEDEELIFKNRGLTSALIESQLVKDNYLKLGSKMEGDNGDGEKKFDLDVYVRSKLQDPKLLEMIKGQLQETLNSYEEEANGST',\n",
       " 'YBR259W': 'MSIDEAVARYRDVIGNLATGNLRRIVIQSEKLAQIIASSKGTVRFHHKTRSGKTVIYKCIKKALLSSVASLSSEFSSETDVQQFLHLNYIYQSHFQALSGQINKYCGMKKYYELKFAAIDYLETEVQTTGLTLSRFWVASLDEFIKKERWPDNGSNFQIFYKLMAEYSSWKWDSDDKRQLQFMYEFRMKLKECLVKFYENFDLQKSSDPLKELIIPWEKIVYVANCIDAFTGEQVRIDGAELIWTSKNLVFSSISSAVLRLNDLQNMFSAFRPYGEEALVQDFAHIRSLKWDSNDKVESLIRALIFNDMFPYFNKEQVDTKADGIFFLRLLRKNFKEHINDVKDFHIQVIKYLNSQFKNNYSTLMTSSKTQDRRKSHNMPSSILDDGNKIGMHVSPIDEYSHFIDNDEPLWRDKVYPKIYTNEQTPTPDASAIFDSHKIYAIISLLRYYLPEKRKFFRIYYLPSIFKRILYYGAKFAQLYFMEGCLERLVIESLQILEPSLVHAINNLIKSSIESLKNVTVTSDDKTSSGVIILSYKEFKSLSEVNKDFNEPFWPNQSIANSWPDFANKQLKRGQILQDAFAFHLFEIELPIIIDTTRNTHLKLVSNMCTTSILYLYNEVDSLSLTSIQEKLAVLPTSKRNEILLYNLNRLTKLKLLLLKENEKGQKFYAFNFKYKRDGQKTSLIRLI',\n",
       " 'YBR260C': 'MEETAKKPASATVSAKSSHDGGTDDLAHLFSTPEIKKVLNSDVAINALLSRLKQSLLTCEEFMKFIRKKYAFEEEHVQELSKQYKHFFNIQGSTNSSLKKMIHEVLGFDGKMAQVKQSYITALQKMYSEISSLLLTMTKLRKSVKENSKRLEKDVSDAIHSAEKAQSRYNSLCQDWDKLRMTDPTKTKLTLRGSKTTKEQEEELLRKIDNADLEYKQKVDHSNSLRNTFITKERPRIVQELKDLILEIDTAMTIQLQKYTIWTENLVLNTGVTISPLDSTKSMKSFAGSVSNERDLYSFLNKYNQTGKHSLLINKNLIPVSYKKHPSMNHGQKNKSPPKFAVDPSRNSIPKRMISTHNESPFLSSSSNTAAVPNANLNSATPSLNTNKQLPPTMASSISSTSNAAGAMSPSSSIVTSDTTSSITKTLDPGNNSPQIPEELINSLDSDRPISHIQTNNNMPPGVQKNFKTFGVPLESLIEFEQDMVPAIVRQCIYVIDKFGLDQEGIYRKSANVLDVSKLKEEIDKDPANISMILPSKPHSDSDIYLVGSLLKTFFASLPDSVLPKALSSEIKVCLQIEDPTTRKNFMHGLIYNLPDAQYWTLRALVFHLKRVLAHEAQNRMNLRALCIIWGPTIAPANPDDANDVNFQIMAMEVLLEVSDQAFEPE',\n",
       " 'YBR261C': 'MDVPADSHIKYEDAIDYWTDVDATVDGVLGGYGEGTVVPTMDVLGSNNFLRKLKSRMLPQENNVKYAVDIGAGIGRVSKTMLHKHAAKIDLVEPVKPFIEQMHVELAELKDKGQIGQIYEVGMQDWTPDAGKYWLIWCQWCVGHLPDAELVAFLKRCIVGLQPNGTIVVKENNTPTDTDDFDETDSSVTRSDAKFRQIFEEAGLKLIASERQRGLPRELYPVRMYALKPMPN',\n",
       " 'YBR262C': 'MSKLGPLARSVKWTLSVGVIGSVFYLYRYSNNGYFYDHDATWLKQDHQVQDLVDRKEVVPGETRNRKLVVTDDGTAWSRTMGESIKDIWNEQIRNSVDWIYSWGKN',\n",
       " 'YBR263W': 'MFPRASALAKCMATVHRRGLLTSGAQSLVSKPVSEGDPEMFDILQQERHRQKHSITLIPSENFTSKAVMDLLGSELQNKYSEGYPGERYYGGNEIIDKSESLCQARALELYGLDPAKWGVNVQPLSGAPANLYVYSAIMNVGERLMGLDLPDGGHLSHGYQLKSGTPISFISKYFQSMPYHVDHTTGLIDYDNLQVLAKAFRPKVIVAGTSAYSRLIDYARFKEISQGCGAYLMSDMAHISGLVAANVVPSPFEHSDIVTTTTHKSLRGPRGAMIFFRKGIKSVTKKGKEIPYELEKKINFSVFPGHQGGPHNHTIGAMAVALKQAMSPEFKEYQQKIVDNSKWFAQELTKMGYKLVSGGTDNHLIVIDLSGTQVDGARVETILSALNIAANKNTIPGDKSALFPSGLRIGTPAMTTRGFGREEFSQVAKYIDSAVKLAENLKTLEPTTKLDARSRLNEFKKLCNESSEVAALSGEISKWVGQYPVPGDI',\n",
       " 'YBR264C': 'MEATIKVVLLGDSSVGKTSIVTRLKSGKFLAKHAATIGAAFITKTIEVPSNDSSTEKRIHMEIWDTAGQERYKSLVPMYYRDANIALIVFELGDVSSLQCAKTWFQDLQDRAQGTQVIIVGNKYDLVCEEHSGEVTIPAELQGLPYVAVSAKTGYNFDTLNKIIISLVPESQFKTLSKNNEQGNILEINKKKSGSGCIC',\n",
       " 'YBR265W': 'MKFTLEDQVVLITGGSQGLGKEFAKKYYNEAENTKIIIVSRSEARLLDTCNEIRIEAHLRRETTDEGQVQHKLAAPLDLEQRLFYYPCDLSCYESVECLFNALRDLDLLPTQTLCCAGGAVPKLFRGLSGHELNLGMDINYKTTLNVAHQIALAEQTKEHHLIIFSSATALYPFVGYSQYAPAKAAIKSLVAILRQELTNFRISCVYPGNFESEGFTVEQLTKPEITKLIEGPSDAIPCKQACDIIAKSLARGDDDVFTDFVGWMIMGMDLGLTAKKSRFVPLQWIFGVLSNILVVPFYMVGCSWYIRKWFRENDGKKAN',\n",
       " 'YBR267W': 'MSSSGVYTCNSCVLTFDSSDEQRAHMKSDWHRYNLKRRVAQLPPISFETFDSKVSAAAASTSKSAEKEKPVTKKELKRREKQALLEKKKKLLEIARANMLENMQKSQEGNTPDLSKLSLQENEENKEKEEPKKEEPEQLTEEEMAERVMQEKLRNRVDIPLEQCLFCEHNKHFKDVEENLEHMFRTHGFYIPEQKYLVDKIGLVKYMSEKIGLGNICIVCNYQGRTLTAVRQHMLAKRHCKIPYESEDERLEISEFYDFTSSYANFNSNTTPDNEDDWEDVGSDEAGSDDEDLPQEYLYNDGIELHLPTGIKVGHRSLQRYYKQDLKPEVILTEGQGTLVAAETRSFLPAFDKKGVQTQQRVWQTERFDKKRLDKRSAKFVNNQPHYRDQLLQ',\n",
       " 'YBR268W': 'MLARSLGYRLISTSRILYNKPTVKSVVSSCPAGTSLNLNIWKSGKDAVALEDKEYPNWLWSVLDSDHVVEHAAEDPEGQALLKRRKNIRKANRQRIKQNNFLSQL',\n",
       " 'YBR269C': 'MLCAIKSTGYRYPRTGALNLLRGRPFNMATRKITTERIPGPPKLPREEQEEFERLQRIATSQEAIDQYNAQATGDRTKESLNSPLLTKNDIGSFSPEFSKTIPEFEGDVNPKTGEVGGPKQDPLRHGDYSFNGRVTDF',\n",
       " 'YBR270C': 'MATDLNRKRSATSGSLSVTNPNIKATNRKPARVYSVSSDIVPQALTHPDEDVHLKTSKSPHDAAPRWSQVGFQSIFHDGSNARRSTDSIEEEYSQGTENNDGHSEIGSSSSNRMEGNTTSNDSLFSSNSRGNKRRLSIFTNSKDNMRNRSRSGSKNYGTVITGTSSNNISRSGSKLFHTKSNMSVNSLQSSLSTGHSHSNKGSNVFSKMAKKLLPYKPHNSIGKDDVEPVVPSPFSKFLHSSYGKHRSPVQFIHTSTGGLIDSGKSVYSFNPSINNNPNDTALSLIQDDAFDATNVSLLHDLLKNLPSLIANYKSFTVQELFVLEGNIWGIYCSIVVELFKNKRVWQLPAKIEDIDRLLEFYITLKTQTKAAVTHSRFLAEIEEFITTSLYILENQIVFNYANEDTVNTALKRVGIIWKVFYQQVYYDMMAVLLPFEKSFQKNSNYWLDGYLSEPSRYAPSIDVLLLKCFRDSIILPYYESFLHTNDGASKSFQRYIFSEEEQNGVTEEDKLTLLQCFGILNTIKGNSRNQRIIGELLEGIRMSI',\n",
       " 'YBR271W': 'MFDPLDLYTPDDIQVEALQFNLAEREPKDPCSPQRDEILTAVDEEESDDDDTIIDNLDLPSVKYAPPEVILCILILLKPDRQVNFNQETGKNKSVLEVCKSHGLEPDLLKRLLTWYTEEWPNKRLNSLEKICNKIPMLRFTVSKELLLGYYTSVLKKYNNSCGLNEEIIQELLKELSSRISENCGRTAQPSIVRYFELRNLSTSIPLHEPSLTADNLGWKTWGSSLILSQLVVDHLDYLHTTNVNMLANSDIKQIKVLELGAGTGLVGLSWALKWKELYGTENIEIFVTDLPEIVTNLKKNVSLNNLGDFVQAEILDWTNPHDFIDKFGHENEFDVILIADPIYSPQHPEWVVNMISKFLAASGTCHLEIPLRAKYAKEREVLKLLLKESDLKVVEERHSEGVDDWGAVKYLYRQIVRN',\n",
       " 'YBR272C': 'MSEKETNYVENLLTQLENELNEDNLPEDINTLLRKCSLNLVTVVSLPDMDVKPLLATIKRFLTSNVSYDSLNYDYLLDVVDKLVPMADFDDVLEVYSAEDLVKALRSEIDPLKVAACRVIENSQPKGLFATSNIIDILLDILFDEKVENDKLITAIEKALERLSTDELIRRRLFDNNLPYLVSVKGRMETVSFVRLIDFLTIEFQFISGPEFKDIIFCFTKEEILKSVEDILVFIELVNYYTKFLLEIRNQDKYWALRHVKKILPVFAQLFEDTENYPDVRAFSTNCLLQLFAEVSRIEEDEYSLFKTMDKDSLKIGSEAKLITEWLELINPQYLVKYHKDVVENYFHVSGYSIGMLRNLSADEECFNAIRNKFSAEIVLRLPYLEQMQVVETLTRYEYTSKFLLNEMPKVMGSLIGDGSAGAIIDLETVHYRNSALRNLLDKGEEKLSVWYEPLLREYSKAVNGKNYSTGSETKIADCR',\n",
       " 'YBR273C': 'MLEALFRDSVEEAINDSIKEGVVLAVYNTARDDQWLKSWFKGDDVSLDTLAEHSIWLRLVKDTEQFQLFEQVFPNVVVPSIYLIRAGKIELIIQGEDDRHWEKLLACIGIKDKKAGESSSRETNPGLAREEKSSRDVHRKNARERIAETTLEIQRREQLKQRKLAEEERERIIRLVRADRAERKALDETHHRTLDDDKPLDVHDYIKDAQKLHSSKCVLQIRMTDGKTLKHEFNSSETLNDVRKWVDVNRTDGDCPYSFHRGIPRVTFKDSDELKTLETLELTPRSALLLKPLETQNSGLSVTGMEGPSLLGRLYKGFSTWWHNDKDPEVTSQREETSKPNRHEVRSSTPLSGAASSSCFQYNNVREPVQSSAHASPMLTPSGTRYPSETNLTTSRSVSPNVFQFVNNDHQEDPEDPTTFNGNNVHLEKKKDEDKK',\n",
       " 'YBR274W': 'MSLSQVSPLPHIKDVVLGDTVGQGAFACVKNAHLQMDPSIILAVKFIHVPTCKKMGLSDKDITKEVVLQSKCSKHPNVLRLIDCNVSKEYMWIILEMADGGDLFDKIEPDVGVDSDVAQFYFQQLVSAINYLHVECGVAHRDIKPENILLDKNGNLKLADFGLASQFRRKDGTLRVSMDQRGSPPYMAPEVLYSEEGYYADRTDIWSIGILLFVLLTGQTPWELPSLENEDFVFFIENDGNLNWGPWSKIEFTHLNLLRKILQPDPNKRVTLKALKLHPWVLRRASFSGDDGLCNDPELLAKKLFSHLKVSLSNENYLKFTQDTNSNNRYISTQPIGNELAELEHDSMHFQTVSNTQRAFTSYDSNTNYNSGTGMTQEAKWTQFISYDIAALQFHSDENDCNELVKRHLQFNPNKLTKFYTLQPMDVLLPILEKALNLSQIRVKPDLFANFERLCELLGYDNVFPLIINIKTKSNGGYQLCGSISIIKIEEELKSVGFERKTGDPLEWRRLFKKISTICRDIILIPN',\n",
       " 'YBR275C': 'MSKDFSDKKKHTIDRIDQHILRRSQHDNYSNGSSPWMKTNLPPPSPQAHMHIQSDLSPTPKRRKLASSSDCENKQFDLSAINKNLYPEDTGSRLMQSLPELSASNSDNVSPVTKSVAFSDRIESSPIYRIPGSSPKPSPSSKPGKSILRNRLPSVRTVSDLSYNKLQYTQHKLHNGNIFTSPYKETRVNPRALEYWVSGEIHGLVDNESVSEFKEIIEGGLGILRQESEDYVARRFEVYATFNNIIPILTTKNVNEVDQKFNILIVNIESIIEICIPHLQIAQDTLLSSSEKKNPFVIRLYVQIVRFFSAIMSNFKIVKWLTKRPDLVNKLKVIYRWTTGALRNENSNKIIITAQVSFLRDEKFGTFFLSNEEIKPIISTFTEIMEINSHNLIYEKLLLIRGFLSKYPKLMIETVTSWLPGEVLPRIIIGDEIYSMKILITSIVVLLELLKKCLDFVDEHERIYQCIMLSPVCETIPEKFLSKLPLNSYDSANLDKVTIGHLLTQQIKNYIVVKNDNKIAMDLWLSMTGLLYDSGKRVYDLTSESNKVWFDLNNLCFINNHPKTRLMSIKVWRIITYCICTKISQKNQEGNKSLLSLLRTPFQMTLPYVNDPSAREGIIYHLLGVVYTAFTSNKNLSTDMFELFWDHLITPIYEDYVFKYDSIHLQNVLFTVLHLLIGGKNADVALERKYKKHIHPMSVIASEGVKLKDISSLPPQIIKREYDKIMKVVFQAVEVAISNVNLAHDLILTSLKHLPEDRKDQTHLESFSSLILKVTQNNKDTPIFRDFFGAVTSSFVYTFLDLFLRKNDSSLVNFNIQISKVGISQGNMTLDLLKDVIRKARNETSEFLIIEKFLELDDKKTEVYAQNWVGSTLLPPNISFREFQSLANIVNKVPNENSIENFLDLCLKLSFPVNLFTLLHVSMWSNNNFIYFIQSYVSKNENKLNVDLITLLKTSLPGNPELFSGLLPFLRRNKFMDILEYCIHSNPNLLNSIPDLNSDLLLKLLPRSRASYFAANIKLFKCSEQLTLVRWLLKGQQLEQLNQNFSEIENVLQNASDSELEKSEIIRELLHLAMANPIEPLFSGLLNFCIKNNMADHLDEFCGNMTSEVLFKISPELLLKLLTYKEKPNGKLLAAVIEKIENGDDDYILELLEKIIIQKEIQILEKLKEPLLVFFLNPVSSNMQKHKKSTNMLRELVLLYLTKPLSRSAAKKFFSMLISILPPNPNYQTIDMVNLLIDLIKSHNRKFKDKRTYNATLKTIGKWIQESGVVHQGDSSKEIEAIPDTKSMYIPCEGSENKLSNLQRKVDSQDIQVPATQGMKEPPSSIQISSQISAKDSDSISLKNTAIMNSSQQESHANRSRSIDDETLEEVDNESIREIDQQMKSTQLDKNVANHSNICSTKSDEVDVTELHESIDTQSSEVNAYQPIEVLTSELKAVTNRSIKTNPDHNVVNSDNPLKRPSKETPTSENKRSKGHETMVDVLVSEEQAVSPSSDVICTNIKSIANEESSLALRNSIKVETNCNENSLNVTLDLDQQTITKEDGKGQVEHVQRQENQESMNKINSKSFTQDNIAQYKSVKKARPNNEGENNDYACNVEQASPVRNEVPGDGIQIPSGTILLNSSKQTEKSKVDDLRSDEDEHGTVAQEKHQVGAINSRNKNNDRMDSTPIQGTEEESREVVMTEEGINVRLEDSGTCELNKNLKGPLKGDKDANINDDFVPVEENVRDEGFLKSMEHAVSKETGLEEQPEVADISVLPEIRIPIFNSLKMQGSKSQIKEKLKKRLQRNELMPPDSPPRMTENTNINAQNGLDTVPKTIGGKEKHHEIQLGQAHTEADGEPLLGGDGNEDATSREATPSLKVHFFSKKSRRLVARLRGFTPGDLNGISVEERRNLRIELLDFMMRLEYYSNRDNDMN',\n",
       " 'YBR276C': 'MVLEVPSITPGELHDLMRLHQDAEWPECKKMFPWAHDISFGQPPDFPHSLAIVKSQSDANNSALLRNSLEVNDIFQSWKVRTSFHREGDTCETGNDSNGFQYPNNTKELLNLLKFQIRQLELQVDDVALENAATYCHNHSILPFLKVDPRGLSLELKRYSRNKVGSNTTLKRSGQDVWGRRGLFRRFDLQCAKMIEMVDNIVIYCSRTGGSTDMQTESAPACSHEGNCPNCTTLALLLQICLMFVQKGYVGSGGSLYKTNLFICTYQNFNTDIPQTLIGTPLLDNEFFKNNTPLNLCSSPSEIVCFNNVDKNMVLCEKLELNKLTSATRLEETGLICGNTTDWHNYQIIKKNNISLTHRFEENTSIVNLKSLNYDTDNPTTSISQLYNIPNTKEVWKLIIKCTSNSQMPSLTKIRTYLDLLLDDDASKSQEHLHLTFPASGSIGLGNLNIQSVEILLNVCYLIFQVSQVQELLTFMYCEDGYTETSLLLTAYIIFHFNIPLQDALLRIHPRPFFLFPSDLQILGHLQPVLREFSPQNGSNLKLYANALKFRDKSFQLHISSELFSSIFFMKIPLESNFVNLKGPLPSRILRHLYLGSLDHAQNPALLKSLGITHIVSVGEVVSWTLNKDKIAHPVRPHRAITMTNTNEVAGNTTCNKSRNRADTVVSDKQENGSNVVISENSGFQICQIENLDDNGKDPLFHQIDKVLDFISNSEATGGKVLVHCMVGVSRSATVCIAECMRYLQCDLASAYLFVRVRRLNVIIQPNLFFVYELFKWWKKHYNREKDKTMDWHIICRGIAEVNMKYT',\n",
       " 'YBR278W': 'MSNLVKEKAPVFPISKVKKIAKCDPEYVITSNVAISATAFAAELFVQNLVEESLVLAQLNSKGKTSLRLSLNSIEECVEKRDNFRFLEDAIKQLKKNSALDKKRELNMQPGRSDQEVVIEEPELHEDDGVEEEEEEDEVSEEEEPVHNEELLDDSKDQQNDKSTRSVASLLSRFQYKSALDVGEHSDSSDIEVDHTKSTDP',\n",
       " 'YBR279W': 'MSKKQEYIAPIKYQNSLPVPQLPPKLLVYPESPETNADSSQLINSLYIKTNVTNLIQQDEDLGMPVDLMKFPGLLNKLDSKLLYGFDNVKLDKDDRILLRDPRIDRLTKTDISKVTFLRRTEYVSNTIAAHDNTSLKRKRRLDDGDSDDENLDVNHIISRVEGTFNKTDKWQHPVKKGVKMVKKWDLLPDTASMDQVYFILKFMGSASLDTKEKKSLNTGIFRPVELEEDEWISMYATDHKDSAILENELEKGMDEMDDDSHEGKIYKFKRIRDYDMKQVAEKPMTELAIRLNDKDGIAYYKPLRSKIELRRRRVNDIIKPLVKEHDIDQLNVTLRNPSTKEANIRDKLRMKFDPINFATVDEEDDEDEEQPEDVKKESEGDSKTEGSEQEGENEKDEEIKQEKENEQDEENKQDENRAADTPETSDAVHTEQKPEEEKETLQEE',\n",
       " 'YBR280C': 'MSEVESREKEPDAGLSPDIVQATLPFLSSDDIKNLSQTNKYYNTLLDFDHSKILWHELFHKAFGTLKTNDEPFQGRNSAEFKTCTETILREAFPTLSWQEVYQLRAYDAKFYSWGYLKHGRLGYTASSNNELVATSLNGPSPRFKYGVNTPTEVPWFNSRTTSRTSNFTPSEDPLSAIKKDGDEIIAQVSSGGFSFQILTESGNLYSSGSTFSGGLKGPGPSGSQHDYNPFREMIHNMERSYPRITSRSNGSTVNTTGTFSGRRMSGSHPSTAYEPGNATTAQHITIDSGGAPAASPGGSHSGVPRTTMPSMGPHENIYSQIEMLERSANKAVPGNNHIRRMFARNSFPLYSGRDENLGSFNDIQFVAVSSGRSHFLAMDTDNNIYSWDSTESDQGVKIEFANLPSRATNPILKIASGWNFNCCYIYKVGLVAWKERDAIQKGESFAFAKYEIVPNTNDVNGDSRIVDFACLQDNCVFFINNNGDKLWKYHNGLNQIVDLNIVGKLCKINACFASLVLFTDTHCYTLKVTNGDVDKDSLTELDINENVISVASGDYHTVALTERGHLYSWGIESQDCGCLGLGPSEKIVNELHIGNWEGQRNIRVVKPTKIELPEDYICVSVTAGGWQTGALIIKKH',\n",
       " 'YBR281C': 'MYDSRGVALHSELIHRWNHAFSILSIVAFPKKRLLFAGSQDSKILVFDLPTYNLIHTIRLGESQEETHTRSSVLCLTGSEDENFLFSGGADSLVRIWSIGEKTIRDDFLPVTEIATVYSVTDIGDIFSLAYLDSLETIVFGCQNASLLYVENLIQKIEKKSSDGVENINKLPHRRYDKFFDSLGPTGYSSNSLSQTSLTSLQENCGAAIIEVPSENIIKYAHYGFIYSINKLCPRFNQLLEKSSRTSGAEHIISSAGDGISKLWEFSKDKGQNTVKISLINDKIDNEDSVISQTIEFPFLYCGLTDGIIKIWDLNTQQIISTLKTKHESDVISISVYMDHVFAIDESGITHFYQNQVNHWNPQQGKILSSEIFSKSNAGSVSLLTGGSDGSLTLWDITSLLSAVPLSSNSPINASSTLQTTNLWAAYQSASLNNEEMLNTLRELISFQTVSQSKDTTNTLSLRRCAIYLQQLFLKFGATNSQLFPLPDGGNPVVFAYFQGNGKVSQVKGAKKKRILWYGHYDVISSGNTFNWNTDPFTLTCENGYLKGRGVSDNKGPLVSAIHSVAYLFQQGELVNDVVFLVEGSEEIGSASLKQVCEKYHDIIGKDIDWILLSNSTWVDQEHPCLNYGLRGVINAQIKVWSDKPDGHSGLNGGVYDEPMVNLVKIVSKLQNEQNEIMIPNFYSPLKDLTEEEYQRFQKITELANIDENTTVQDLITNWTKPSLSMTTVKFSGPGNITVIPKSVTMGISIRLVPEQSVEQVKRDLKAYLEESFKQLKSQNHLEIKVLNEAEGWLGDPTNHAYQILKDEITTAWDVEPLLVREGGSISCLRMLERIFDAPAVQIPCGQSTDNGHLANENLRIKNWSNLTEILSKVFNRL',\n",
       " 'YBR282W': 'MKGSPISQFSKTSINALTRPWKKYRDGELFYGLSKVGNKRVPLTTKQGNKTMYKGTRASGIGRHTKFGGYVINWKKVRTYVTPDMVNFELKPYVNANVPPLKHEFKGFSGGPLDPRLQLLKIKEYIVNGRVQSEGATDTSCYKERG',\n",
       " 'YBR283C': 'MSGFRLIDIVKPILPILPEVELPFEKLPFDDKIVYTIFAGLIYLFAQFPLVGLPKATTPNVNDPIYFLRGVFGCEPRTLLEFGLFPNISSGLILQLLAGLKVIKVNFKIQSDRELFQSLTKVFAIVQYVILTNIFIFAGYFGDDLSVVQIGLINFQLVGAGIFTTLLAEVIDKGFGFSSGAMIINTVVIATNLVADTFGVSQIKVGEDDQTEAQGALINLIQGLRSKHKTFIGGIISAFNRDYLPNLTTTIIVLAIAIIVCYLQSVRVELPIRSTRARGTNNVYPIKLLYTGCLSVLFSYTILFYIHIFAFVLIQLVAKNEPTHIICKIMGHYENANNLLAVPTFPLSLLAPPTSFFKGVTQQPLTFITYSAFILVTGIWFADKWQAISGSSARDVALEFKDQGITLMGRREQNVAKELNKVIPIAAVTGASVLSLITVIGESLGLKGKAAGIVVGIAGGFSLLEVITIEYQQSGGQSALNQVLGVPGAM',\n",
       " 'YBR284W': 'MVQNNESVFFVECDSYKESPSTSPIRLDDLDGNDAVSDQGLAFDGDVGITSQARVRNPRAQIFEDSNTDVVLHLDDLDMVPLNTKFDMQMEMGSPMAMPAETPPPVEPLKTKDLAYSSLAHLPSYFFEQTHFRIDRKCLLEMSKLRRNYLTISKQDALSCPQLHSRVAGGYLKPVKEKLFGIRHFLDLEESNTVNLLQDGNYMTELFNSQINIPTFKEFREDFEWCLKIIRDRSLSRFSEKRLQYLVNKFPVFQHLHSKEEMRQSKKVPHKDFYNCRKIDLNLLLSGCFSQWQLTEFIWTKLRKEPDRVIHQAFNGSHITLSQLFKVNFEETGQFFNGLKIIDDSFLEWYKVIYLAKYHLVNDEMEIHTGSHGKQLRYYLIAKTFLEFDNYINGEYLAELLKTFLIKPQEESKYQLCQLSVDFQFYLHYDNSDVDNWWMVFANWLNHYNIFSNNIRWNIRISRIYPELYHTGKVKNFQEYLNLIFKPLFNAENYLHKSLGPILLKFLSQVSSIDLCIQDTDNYIWKNFTAVSCLPKDWTSGGDNPTISQYMYYVYVNLTKLNHIRQALHQNTFTLRSSCSPTSMNRTSQFSNTLNFTEHTEAILNNFLLACGGFLNAENLWNAPPSLVYLFYLSQIPMVVAPLNSIVDSKPTMLQEQAPTGLVLEPSKPYKKNPFMKFFEMGFKISLSSESILYNNSYTKEPIIEEYSVAASIYRLHSADLCELLRNSVITSGFSSTLKNKWLGVSLASHDYFVENTGFVDKWYDCKPNTSLEHNVPIIRRQYRSSTLAGEWRLIIA',\n",
       " 'YBR285W': 'MTIFSRFSYFDSLFSFKKQEPSPIEIIYCNENNGFINIKSLESPTDDSMEADISDREMATILTRNRNNLGKVAIDKKGVNNHCIDLNELKKGLVANEHKLDNDNSTRHQNTYSPEDSVEFDRFDDKQSRILKCSTRRSYLRYKK',\n",
       " 'YBR286W': 'MHFSLKQLAVAAFYATNLGSAYVIPQFFQEAFQQEEPIENYLPQLNDDDSSAVAANIPKPHIPYFMKPHVESEKLQDKIKVDDLNATAWDLYRLANYSTPDYGHPTRVIGSKGHNKTMEYILNVFDDMQDYYDVSLQEFEALSGKIISFNLSDAETGKSFANTTAFALSPPVDGFVGKLVEIPNLGCEEKDYASVVPPRHNEKQIALIERGKCPFGDKSNLAGKFGFTAVVIYDNEPKSKEGLHGTLGEPTKHTVATVGVPYKVGKKLIANIALNIDYSLYFAMDSYVEFIKTQNIIADTKHGDPDNIVALGAHSDSVEEGPGINDDGSGTISLLNVAKQLTHFKINNKVRFAWWAAEEEGLLGSNFYAYNLTKEENSKIRVFMDYDMMASPNYEYEIYDANNKENPKGSEELKNLYVDYYKAHHLNYTLVPFDGRSDYVGFINNGIPAGGIATGAEKNNVNNGKVLDRCYHQLCDDVSNLSWDAFITNTKLIAHSVATYADSFEGFPKRETQKHKEVDILNAQQPQFKYRADFLII',\n",
       " 'YBR287W': 'MVETFSFAHLAYLVFESVLQVVIIALAGFWSASSGLLPKQSQKIISLLNVDLFTPCLIFSKLAKSLSMAKIFEIAIIPIFFGLTTGISFISGKIMSRILDLDKDETNFVVANSVFGNSNSLPVSLTLSLAYTLPNLTWDQIPNDNRDNVASRGILYLLIFQQIGQMLRWSWGYNKLMKWSGENTQHMPPSQVQSLLERTPNIDNEELVNEEQEEQELLEEENNRMNSSFLSSSSIGDKIWQKSCTVFERIRANLNPPLYSMIFAVVVAAIGPLQRELFMEDGFINNTFAEAVTQLGSVSIPLILVVLGSNLYPSAEVFPKTVHHSKLLIGSIIGRMILPSCFLLPIIAIAVKYINVSILDDPIFLVVGFLLTVSPPAIQLTQITQLNEFFEAEMADILFWGYAVLSLPVSIIVVSGAIYVLQWANPT',\n",
       " 'YBR288C': 'MYLSFYITDTKNKLIFQYLLGATAPSFKHLWTRVQSTCPQLLEDSSSDDYLDHSMVGRDLEVYKYFSVINKLNYWCLASTSKSKGPLDCFTFLETIDRILLEYFDKDKLSIKKIVNNYDRISLIFNCCVEAGEPNVSDMLYVNKIKEAVPERSDLSKFISSTAHNLQQAVQLPQQRQQQLQQNQISRGSNSLIENEEIVPWRTSRASKHENNELYVDLLETFHVVFEKKKSHLRLLTGSIHGIVDVRSYLNDNPLVAVKLNTMGNDIGIPSLHDCVEINDGVFSPSNITFIPPDGKFRLLEYSVDLSSQVKQSGVRMNSIGLMSLHFQNGLGKDSDEFELSLNIENFKKVSQVDDLKIDLQFNVENADPNEIAYKIKILRNTHGRFENSIIMGQGQWIFDKSTATGTVPVLRGCIEYENTGPNFTKKVDLQTVSLEYSYIGQSASGIYVEAIDIVSGLTIGKNTKLYKGAKYKTQTGNFQVRL',\n",
       " 'YBR289W': 'MNNQPQGTNSVPNSIGNIFSNIGTPSFNMAQIPQQLYQSLTPQQLQMIQQRHQQLLRSRLQQQQQQQQQTSPPPQTHQSPPPPPQQSQPIANQSATSTPPPPPAPHNLHPQIGQVPLAPAPINLPPQIAQLPLATQQQVLNKLRQQAIAKNNPQVVNAITVAQQQVQRQIEQQKGQQTAQTQLEQQRQLLVQQQQQQQLRNQIQRQQQQQFRHHVQIQQQQQKQQQQQQQHQQQQQQQQQQQQQQQQQQQQQQQQQQQQQQQQQQQQQGQIPQSQQVPQVRSMSGQPPTNVQPTIGQLPQLPKLNLPKYQTIQYDPPETKLPYPTYWSDKKADTDTLLYEQIIQRDKINKYSLIRETNGYDPFSIYGFSNKEYISRLWHTLKYYQDLKNTRMKSITSTSQKIPSASIWGNGYSGYGNGITNTTTRVIPQVEVGNRKHYLEDKLKVYKQAMNETSEQLVPIRLEFDQDRDRFFLRDTLLWNKNDKLIKIEDFVDDMLRDYRFEDATREQHIDTICQSIQEQIQEFQGNPYIELNQDRLGGDDLRIRIKLDIVVGQNQLIDQFEWDISNSDNCPEEFAESMCQELELPGEFVTAIAHSIREQVHMYHKSLALLGYNFDGSAIEDDDIRSRMLPTITLDDVYRPAAESKIFTPNLLQISAAELERLDKDKDRDTRRKRRQGRSNRRGMLALSGTSASNTSMNGVHNTVAAGNASSLPPGEILLPDIADIPRTFRTPVPSTLMPGGVDVGPSVESYELRNTTTYKSRPDRPKPVSPPCYIIDHIPGHSLLLSIKLPGKVNTKEEFAAAPNDTSSGTNAMLPSPESLKTKLNSNIRAGVTIPSIPNPIANHTVTNSPNPTLQPVIPGGAASKSVPTPSLPIAPPVAPHDSEATLLTNSNNGSSNNNTQNT',\n",
       " 'YBR290W': 'MPEQELLIGQEMNTLHAGSSTDGINVGNAGRTRDTQTGVEGETEIGSDEEDSIEDEGSSSGGNSTTERLVPHQLREQAARHIGKIGRHFNILDRLFKKRTQQSSDIQQGAMFDGVFSNLSAKPDTTETEGNNEQDIPPTYDEAAADMAPSYYGMDLNNSDIYYDEICIEGLPVGNIANLLWNIIVSTSFQFIGFLITYILHTSHAAKQGSRFGLGLTFIGYGYSMIPNDVTSKVGKNKSLNRMELEDPNEFDDVRLNSQSTTQDKFESHLNHGLDEEKQNIPWLAVFVAFLGLFITLKSIYDYIQVKKLEKKYLNQSQNQA',\n",
       " 'YBR291C': 'MSSKATKSDVDPLHSFLAGSLAGAAEACITYPFEFAKTRLQLIDKASKASRNPLVLIYKTAKTQGIGSIYVGCPAFIIGNTAKAGIRFLGFDTIKDMLRDSETGELSGTRGVIAGLGAGLLESVAAVTPFEAIKTALIDDKQSATPKYHNNGRGVVRNYSSLVRDKGFSGLYRGVLPVSMRQAANQAVRLGCYNKIKTLIQDYTDSPKDKPLSSGLTFLVGAFSGIVTVYSTMPLDTVKTRMQSLDSTKYSSTMNCFATIFKEEGLKTFWKGATPRLGRLVLSGGIVFTIYEKVLVMLA',\n",
       " 'YBR292C': 'MKFPADYHYTSPFRSCKYSNILHFISLLLIFSRVGLPNYIFIFLINKAANKEHRVETLLSGNSANACKLFNILKSFQHLFFFFQICTIFSISIKLVLLKSQEYGRIPAEFSIIRSEKKKKEEQ',\n",
       " 'YBR293W': 'MSISNWITTAYLITSTSFQPLYGSFSDALGRRNCLFFANGAFTIGCLACGFSKNIYMLSFMRALTGIGGGGLITLSTIVNSDVIPSSKRGIFQAFQNLLLGFGAICGASFGGTIASSIGWRWCFLIQVPISVISSILMNYYVPNQKEYNRQNSSIFQNPGKILRDIDVMGSILIITGLTLQLLYLSLGCSTSKLSWTSPSVLLLLVGSVIILLLFILHERKTSARAIIPMELVNSSYSVVVLSISILVGFASYAYLFTLPLFFQIVLGDSTAKAGLRLTIPSLFTPVGSLITGFSMSKYNCLRLLLYIGISLMFLGNFLFLFIEKTSPNWLIGLFLIPANLGQGITFPTTLFTFIFMFSKSDQATATSTLYLFRSIGSVWGVAISAGVIQLSFAGLLRSNLKGLLDENKIKKLIVQLSANSSYIGSLHGEVKNTVIKSFDEATKRAHLMSTLLSSLALILCILKDNLAKPKTRR',\n",
       " 'YBR294W': 'MSRKSSTEYVHNQEDADIEVFESEYRTYRESEAAENRDGLHNGDEENWKVNSSKQKFGVTKNELSDVLYDSIPAYEESTVTLKEYYDHSIKNNLTAKSAGSYLVSLFPIIKWFPHYNFTWGYADLVAGITVGCVLVPQSMSYAQIASLSPEYGLYSSFIGAFIYSLFATSKDVCIGPVAVMSLQTAKVIAEVLKKYPEDQTEVTAPIIATTLCLLCGIVATGLGILRLGFLVELISLNAVAGFMTGSAFNIIWGQIPALMGYNSLVNTREATYKVVINTLKHLPNTKLDAVFGLIPLVILYVWKWWCGTFGITLADRYYRNQPKVANRLKSFYFYAQAMRNAVVIVVFTAISWSITRNKSSKDRPISILGTVPSGLNEVGVMKIPDGLLSNMSSEIPASIIVLVLEHIAISKSFGRINDYKVVPDQELIAIGVTNLIGTFFHSYPATGSFSRSALKAKCNVRTPFSGVFTGGCVLLALYCLTDAFFFIPKATLSAVIIHAVSDLLTSYKTTWTFWKTNPLDCISFIVTVFITVFSSIENGIYFAMCWSCAMLLLKQAFPAGKFLGRVEVAEVLNPTVQEDIDAVISSNELPNELNKQVKSTVEVLPAPEYKFSVKWVPFDHGYSRELNINTTVRPPPPGVIVYRLGDSFTYVNCSRHYDIIFDRIKEETRRGQLITLRKKSDRPWNDPGEWKMPDSLKSLFKFKRHSATTNSDLPISNGSSNGETYEKPLLKVVCLDFSQVAQVDSTAVQSLVDLRKAVNRYADRQVEFHFAGIISPWIKRSLLSVKFGTTNEEYSDDSIIAGHSSFHVAKVLKDDVDYTDEDSRISTSYSNYETLCAATGTNLPFFHIDIPDFSKWDV',\n",
       " 'YBR295W': 'MKPEKLFSGLGTSDGEYGVVNSENISIDAMQDNRGECHRRSIEMHANDNLGLVSQRDCTNRPKITPQECLSETEQICHHGENRTKAGLDVDDAETGGDHTNESRVDECCAEKVNDTETGLDVDSCCGDAQTGGDHTNESCVDGCCVRDSSVMVEEVTGSCEAVSSKEQLLTSFEVVPSKSEGLQSIHDIRETTRCNTNSNQHTGKGRLCIESSDSTLKKRSCKVSRQKIEVSSKPECCNISCVERIASRSCEKRTFKGSTNVGISGSSSTDSLSEKFFSEQYSRMYNRYSSILKNLGCICNYLRTLGKESCCLPKVRFCSGEGASKKTKYSYRNSSGCLTKKKTHGDKERLSNDNGHADFVCSKSCCTKMKDCAVTSTISGHSSSEISRIVSMEPIENHLNLEAGSTGTEHIVLSVSGMSCTGCESKLKKSFGALKCVHGLKTSLILSQAEFNLDLAQGSVKDVIKHLSKTTEFKYEQISNHGSTIDVVVPYAAKDFINEEWPQGVTELKIVERNIIRIYFDPKVIGARDLVNEGWSVPVSIAPFSCHPTIEVGRKHLVRVGCTTALSIILTIPILVMAWAPQLREKISTISASMVLATIIQFVIAGPFYLNALKSLIFSRLIEMDLLIVLSTSAAYIFSIVSFGYFVVGRPLSTEQFFETSSLLVTLIMVGRFVSELARHRAVKSISVRSLQASSAILVDKTGKETEINIRLLQYGDIFKVLPDSRIPTDGTVISGSSEVDEALITGESMPVPKKCQSIVVAGSVNGTGTLFVKLSKLPGNNTISTIATMVDEAKLTKPKIQNIADKIASYFVPTIIGITVVTFCVWIAVGIRVEKQSRSDAVIQAIIYAITVLIVSCPCVIGLAVPIVFVIASGVAAKRGVIFKSAESIEVAHNTSHVVFDKTGTLTEGKLTVVHETVRGDRHNSQSLLLGLTEGIKHPVSMAIASYLKEKGVSAQNVSNTKAVTGKRVEGTSYSGLKLQGGNCRWLGHNNDPDVRKALEQGYSVFCFSVNGSVTAVYALEDSLRADAVSTINLLRQRGISLHILSGDDDGAVRSMAARLGIESSNIRSHATPAEKSEYIKDIVEGRNCDSSSQSKRPVVVFCGDGTNDAIGLTQATIGVHINEGSEVAKLAADVVMLKPKLNNILTMITVSQKAMFRVKLNFLWSFTYNLFAILLAAGAFVDFHIPPEYAGLGELVSILPVIFVAILLRYAKI',\n",
       " 'YBR296C': 'MALHQFDYIFAIAMLFAFLDAFNIGANDVANSFASSISSRSLKYWQAMVLAGLCEFLGAVLAGARVSGTIKNNIIDSSIFTNDPAVLMLTMTSALIGSSCWLTFATAIGMPVSTTHSIVGGTIGAGIAAGGANGVVWGWSGVSQIIASWFIAPILAGAIAAIVFSISRFSVLEVKSLERSIKNALLLVGVLVFATFSILTMLIVWKGSPNLHLDDLSETETAVSIVLTGAIASIVYFIFFYPFYRRKVLDQDWTLKLIDIFRGPSFYFKSTDDIPPMPEGHQLTIDYYEGRRNLGTTVSVEDEENKAASNSNDSVKNKEDIQEVDLVRTETEPETKLSTKQYWWSLLKQGPKKWPLLFWLVISHGWTQDVIHAQVNDRDMLSGDLKGMYERSKFYDNRVEYIYSVLQAITAATMSFAHGANDVANATGPLSAVYVIWKTNTIGAKSEVPVWVLAYGGVALVIGCWTYGYNIIKNLGNKMILQSPSRGFSIELAVAITTVMATQLGIPTSTTQIAVGGIVAVGLCNKDLKSVNWRMVAWCYSGWFLTLPIAGLIAGIINGIILNAPRFGVEYQMT',\n",
       " 'YBR296C-A': 'MKVLDDWFSRKFSKAVHGNNHGTISLSTLSYIRVHKLVK',\n",
       " 'YBR297W': 'MTLVKYACDYCRVRRVKCDGKKPCSRCIEHNFDCTYQQPLKKRGSKPIGTRSLKYIPKAKMFIDNKSCTAAAEILMKVPKKVIDQCLRLYHDNLYVIWPLLSYDDLHKLLDEEYNDHYVYWFLVALSAANLSDLQSELESEGGFSFTGKQLAVLCMSSRQQFDDLSGRDIFRIMTYYCLLRCFSQSSDVRNSYRLCREAIGLVIVAGLHREKAYESLSFREQQLLRKVYYLLLLTERYYSVYVHCVTSLDTTIAPPQPEFVTDPRLSLDSFFEMIRVFTVPGKCFFDALATESTSGSCTEDSLKKIWKELHTASLEIEPWSYGYVDISFSRHWIRALAWKLVFQMNGTKFFSNANNAHILVEIAKDMLDDIFLTPNNLYDVHGPGIPMKSLEVANALVDIVNKYDHNMKLEAWNILCDVSKFVFSLKHCNHKMFQRFSTKCQSALIDLPISRPLRLNDDSKDEDDIIP',\n",
       " 'YBR298C': 'MKGLSSLINRKKDRNDSHLDEIENGVNATEFNSIEMEEQGKKSDFDLSHLEYGPGSLIPNDNNEEVPDLLDEAMQDAKEADESERGMPLMTALKTYPKAAAWSLLVSTTLIQEGYDTAILGAFYALPVFQKKYGSLNSNTGDYEISVSWQIGLCLCYMAGEIVGLQMTGPSVDYMGNRYTLIMALFFLAAFIFILYFCKSLGMIAVGQALCGMPWGCFQCLTVSYASEICPLALRYYLTTYSNLCWAFGQLFAAGIMKNSQNKYANSELGYKLPFALQWIWPLPLAVGIFFAPESPWWLVKKGRIDQARRSLERTLSGKGPEKELLVSMELDKIKTTIEKEQKMSDEGTYWDCVKDGINRRRTRIACLCWIGQCSCGASLIGYSTYFYEKAGVSTDTAFTFSIIQYCLGIAATFISWWASKYCGRFDLYAFGLAFQAIMFFIIGGLGCSDTHGAKMGSGALLMVVAFFYNLGIAPVVFCLVSEIPSSRLRTKTIILARNAYNVIQVVVTVLIMYQLNSEKWNWGAKSGFFWGGFCLATLAWAVVDLPETAGRTFIEINELFRLGVPARKFKSTKVDPFAAAKAAAAEINVKDPKEDLETSVVDEGRNTSSVVNK',\n",
       " 'YBR298C-A': 'MELFIPCPERLKKMMLKEELRKELLILRCLYHPTIQIMLPTLGTLGTEKRKEKYALSLFEPILNCVGSAKTSG',\n",
       " 'YBR299W': 'MTISDHPETEPKWWKEATIYQIYPASFKDSNNDGWGDLKGITSKLQYIKDLGVDAIWVCPFYDSPQQDMGYDISNYEKVWPTYGTNEDCFELIDKTHKLGMKFITDLVINHCSTEHEWFKESRSSKTNPKRDWFFWRPPKGYDAEGKPIPPNNWKSFFGGSAWTFDETTNEFYLRLFASRQVDLNWENEDCRRAIFESAVGFWLDHGVDGFRIDTAGLYSKRPGLPDSPIFDKTSKLQHPNWGSHNGPRIHEYHQELHRFMKNRVKDGREIMTVGEVAHGSDNALYTSAARYEVSEVFSFTHVELGTSPFFRYNIVPFTLKQWKEAIASNFLFINGTDSWATTYIENHDQARSITRFADDSPKYRKISGKLLTLLECSLTGTLYVYQGQEIGQINFKEWPIEKYEDVDVKNNYEIIKKSFGKNSKEMKDFFKGIALLSRDHSRTPMPWTKDKPNAGFTGPDVKPWFFLNESFEQGINVEQESRDDDSVLNFWKRALQARKKYKELMIYGYDFQFIDLDSDQIFSFTKEYEDKTLFAALNFSGEEIEFSLPREGASLSFILGNYDDTDVSSRVLKPWEGRIYLVK',\n",
       " 'YBR301W': 'MVKLTSIAAGVAAIAATASATTTLAQSDERVNLVELGVYVSDIRAHLAQYYSFQVAHPTETYPVEIAEAVFNYGDFTTMLTGIAPDQVTRMITGVPWYSSRLKPAISSALSKDGIYTIAN',\n",
       " 'YBR302C': 'MKENELKNEKSVDVLSFKQLESQKIVLPQDLFRSSFTWFCYEIYKSLAFRIWMLLWLPLSVWWKLSNNCIYPLIVSLLVLFLGPIFVLVICGLSRKRSLSKQLIQFCKEITENTPSSDPHDWEVVAANLNSYLYENNVWNTKYFFFNAMVCQEAFRTTLLEPFSLKKDKAAKVKSFKDSVPYIEEALGVYFTEVEKQWKLFNTEKSWSPVGLEDAKLPKEAYRFKLTWFLKRISNIFMLIPFLNFLCCIYVSRGMCLLLRTLYLGWILFMLVQGFQNIRVLIMSMEHKMQFLSTIINEQESGANGWDEIARKMNRYLFEKKAWKNEEFFFDGIDCEWFFNHFFYRVLSAKKSMWPLPLNVELWPYIKEAQLSRSEVLLV',\n",
       " 'YCL073C': 'MSSSVVGASSNKKSGIRQSCEIIERERHSNDDTYSMTSTFFKLKENEIMSAQFDSLKYKILLISTAFVCGFGISLDYTLRSTYTGYATNSYSEHSLLSTVQVINAVVSVGSQVVYSRLSDHFGRLRLFLVATIFYIMGTIIQSQATRLTMYAAGSVFYNCGYVGTNLLLTLILSDFSSLKWRMFYQYASYWPYIIIPWISGNIITAANPQKNWSWNIAMWAFIYPLSALPIIFLILYMKYKSSKTAEWRSLKEQARKERTGGLFENLVFLFWKLDIVGILLITVSLGCILVPLTLANETSQKWHNSKIIATLVSGGCLFFIFLYWEAKFAKSPLLPFKLLSDRGIWAPLGVTFFNFFTFFISCDYLYPVLLVSMKESSTSAARIVNLPDFVAATASPFYSLLVAKTRKLKLSVIGGCAAWMVCMGLFYKYRGGSGSHEGVIAASVIMGLSGLLCSNSVIVILQAMTTHSRMAVITGIQYTFSKLGAAIGASVSGAIWTQTMPNQLYKNLGNDTLAEIAYASPYTFISDYPWGSPERDAVVESYRYVQRIIMTVGLACTVPFFAFTMFMRDPELIDKATHEEFTEDGLVVLPDEENIFSQIKALFRHNRSNKKLGC',\n",
       " 'YCL069W': 'MNMLIVGRVVASVGGSGLQTLCFVIGCTMVGERSRPLVISILSCAFAVAAIVGPIIGGAFTTHVTWRWCFYINLPIGGLAIIMFLLTYKAENKGILQQIKDAIGTISSFTFSKFRHQVNFKRLMNGIIFKFDFFGFALCSAGLVLFLLGLTFGGNKYSWNSGQVIAYLVLGVLLFIFSLVYDFFLFDKFNPEPDNISYRPLLLRRLVAKPAIIIINMVTFLLCTGYNGQMIYSVQFFQLIFASSAWKAGLHLIPIVITNVIAAIASGVITKKLGLVKPLLIFGGVLGVIGAGLMTLMTNTSTKSTQIGVLLLPGFSLGFALQASLMSAQLQITKDRPEAAMDFIEVTAFNTFMKSLGTTLGGVLSTTVFSASFHNKVSRAHLEPYEGKTVDDMILYRLQNYDGSHSTIGNILSDSIKNVFWMDLGFYALGFLFCSFSSNKKLIIPKKDETPEDNLEDK',\n",
       " 'YCL068C': 'MFVLIDNVLAYLLEQDDLFVTARFAIQGQIVSRRVNKIHISNITDVLLQQFISHTLPYNDNIVPKKILDSMRTAVRQLLEATACVSRECPLVKRSQDIKRARKRLLSDWYRLGADANMDAVLLVVNSAWRFLAVWRPFVNSIQHATQELYQNIAHYLLHGNVNIQRVTALLQLVMGQDDLLFSMDDVLQEVFRIQLYLNKMLPHNSHKWQKPSPFDSANLLLNFRDWTTDNALLQELLLSYPTINKNKHKNHSVPRLIQV',\n",
       " 'YCL067C': 'MNKIPIKDLLNPQITDEFKSSILDINKKLFSICCNLPKLPESVTTEEEVELRDILGFLSRANKNRKISDEEKKLLQTTSQLTTTITVLLKEMRSIENDRSNYQLTQKNKSADGLVFNVVTQDMINKSTKPYRGHRFTKENVRILESWFAKNIENPYLDTKGLENLMKNTSLSRIQIKNWVSNRRRKEKTITIAPELADLLSGEPLAKKKE',\n",
       " 'YCL066W': 'MFTSKPAFKIKNKASKSYRNTAVSKKLKEKRLAEHVRPSCFNIIRPLKKDIQIPVPSSRFLNKIQIHRIASGSQNTQFRQFNKTSIKSSKKYLNSFMAFRAYYSQFGSGVKQNVLSSLLAEEWHADKMQHGIWDYFAQQYNFINPGFGFVEWLTNNYAEVRGDGYWEDVFVHLAL',\n",
       " 'YCL064C': 'MSIVYNKTPLLRQFFPGKASAQFFLKYECLQPSGSFKSRGIGNLIMKSAIRIQKDGKRSPQVFASSGGNAGFAAATACQRLSLPCTVVVPTATKKRMVDKIRNTGAQVIVSGAYWKEADTFLKTNVMNKIDSQVIEPIYVHPFDNPDIWEGHSSMIDEIVQDLKSQHISVNKVKGIVCSVGGGGLYNGIIQGLERYGLADRIPIVGVETNGCHVFNTSLKIGQPVQFKKITSIATSLGTAVISNQTFEYARKYNTRSVVIEDKDVIETCLKYTHQFNMVIEPACGAALHLGYNTKILENALGSKLAADDIVIIIACGGSSNTIKDLEEALDSMRKKDTPVIEVADNFIFPEKNIVNLKSA',\n",
       " 'YCL063W': 'MATQALEDITERLLIRSQEAILQLDLWIQRQQRSSICQTTDQESLDKLSQQYNQYMSQLNSLYVRSESVRDKLSKEQQRRLITEDNEHQRIEDLVREFQDITLRLNELATVPNEAPNDSPQSQSTRSSLGSFQPRPLKIIERQRLCMVTPSKPPKKSVGFNPINEVDCPSKTNSLPCSPKKQPARNRTLRAAKSHDTGLNKSKKPSSSDTYESFFKNRQRLSLTFFDEMDDEDFDSDQDTIILPNISTPPHVGVTAKGAEFEPLRRYNSHESILSNKPAPSKSLNLGSFSASFFRPSNPTFGTSISNVQVNCHPTVAATMAPSRNGPRISSSKALLSSFIARSDTHTVKENNTNLKHASFMDKFNSSLSTISESFQSKRGRKNKGMNEERISNHNVAQEQKNNMDISVSIEELQDALNTELLF',\n",
       " 'YCL061C': 'MDDALHALSSLTAKKRTTTYKKVAVPILDENDNTNGNGPNDIDNPPELTGNGFLFANATLNRVKNRLEGKKAPEQNHNNGKDRSENSLPTQLISNLYDGGEELEKSEVKDNSYSEKNVSSSFTQTQRIPVSIQQDKVFNVPIHSVNDGKPTQLIKEDGLVNETSQALKTPLTTGRPGATQRIDSSGATSQTQPIKSIEPQSQIITTSSNHSNALSPKIPIIPTELIGTSPLFQSIQNRGPDTQMDVPPQTAHDEDKTQAIGIPQATHQEQKTQIDTVAQTLQDEVPHTLKIREIQSELASEDSKREKARNVEYKKPQKPIPTKKFFSKESFLADFDDSSSNEDDDIKLENAHPKPVQNDDELHENKSVELNLTDETRINEKRVPLLSSYANNLKREIDSSKCITLDLDSDSDEYGDDDMDSIKLSKDESVLPISQLSKATILNLKARLSKQNQKLSQRPNKSKDPKVDHNVLLNTLRKASRKQILDHQKEVIETKGLKLEDMAKEKEIVENLLEQEILRNKRIRQKEKRREKLEENDFQLNAHDSGSDSGSESSGFALSGNEIADYESSGSENDNRRESDSEKEDDEIILKQKKSHHVKHIINESDSDTEVEAKPKEKADESLPKRIAINLGHYGDNIGEDTDKFQETNVLDTQNIEEVMAERNTIENEVKDDVYVNEEADEAIRRQLIDKEKLQLKQKEKEHEAKIKELKKRGVTNFFEMEAEESEDEWHGIGGADGEGSDDYDSDLEKMIDDYSKNNFNPHEIREMLAAENKEMDIKMINKILYDIKNGGFRNKRAKNSLELELSDDDEDDVLQQYRLKRRELMRKRRLEIGDDAKLVKNPKSSAFFESMVEDIIEYKNPFGAEEEYNLDITSTATDLDTQDNSINVGDNTGNNEQKPVDQKNKKVIISEDFVQKSLSFLKSNNYEDFETDKELSRIQHGNDEAIEDLYTLKQNSSIKSFTNSQTDSTTSKTVNTIIDLEKRPEDEDEVENGDTSLVGVFKHPSIIKSFASRTDINDKFKEGNKTVKILKSYKTVGSSKASITYMGKTRKLIAPKRKTEGSHRYHHDHHNKKMKMKTKTKSNKLFESGQDSFDN',\n",
       " 'YCL059C': 'MVSTHNRDKPWDTDDIDKWKIEEFKEEDNASGQPFAEESSFMTLFPKYRESYLKTIWNDVTRALDKHNIACVLDLVEGSMTVKTTRKTYDPAIILKARDLIKLLARSVPFPQAVKILQDDMACDVIKIGNFVTNKERFVKRRQRLVGPNGNTLKALELLTKCYILVQGNTVSAMGPFKGLKEVRRVVEDCMKNIHPIYHIKELMIKRELAKRPELANEDWSRFLPMFKKRNVARKKPKKIRNVEKKVYTPFPPAQLPRKVDLEIESGEYFLSKREKQMKKLNEQKEKQMEREIERQEERAKDFIAPEEEAYKPNQN',\n",
       " 'YCL058C': 'MQYHSALYVYIYVTFTTIPYKEKPDIISICFSMLSFVFDFSVRICSRTLESFSWSLISSSAFKVVSAFSLAGSCVLASRSSVGIIVSLLLFNFSTCNFVLFLSAVLIDLFFCTFLPTPTFLPTPFFFMLHLPIFSLLNALELLYLIIAGLHI',\n",
       " 'YCL058W-A': 'MGKCSMKKKGVGKNVGVGKKVQKKRSISTAERKRTKLQVEKLNKSSETMIPTLLREASTQEPAKLKAETTLKAEELIKDQEKDSKVREQIRTEKSKTNDSMLKQIEMISGFSL',\n",
       " 'YCL057C-A': 'MSEQAQTQQPAKSTPSKDSNKNGSSVSTILDTKWDIVLSNMLVKTAMGFGVGVFTSVLFFKRRAFPVWLGIGFGVGRGYAEGDAIFRSSAGLRSSKV',\n",
       " 'YCL057W': 'MRLLLCKNWFASPVISPLLYTRSLYSMANTTSFPIAPQAPPNWSFTPSDISGKTNEIINNSNNFYDSMSKVESPSVSNFVEPFMKFENELGPIINQLTFLQHVSSDKEIRDASVNSSMKLDELNIDLSLRHDIFLQFARVWQDVQSKADSVERETFKYVEKSYKDYIHSGLELDEGNRLKIKEIKKKISVNSINFSKNLGEQKEYITFTKEQLEGVPDSILTQFETIKSDKDSNETLYKVTFKYPDIFPVMKLASSAQTRKQAFLADQNKVPENEAILLDTLKLRDELASLLGYDTYANYNLYDKMAEDSTTVMNFLNDLKDKLIPLGRKELQVLQDMKAEDVKKLNQGADPNYYIWDHRYYDNKYLLENFNVDLEKISEYFPLEATITGMLEIYETLFNLKFIETKDSQNKSVWHDDVKQIAVWNMDDPKSPNFVGWIYFDLHPRDGKYGHAANFGLSSSFMIDDTTRSYPVTALVCNFSKSTKDKPSLLKHNEIVTFFHELGHGIHDLVGQNKESRFNGPGSVPWDFVEAPSQMLEFWTWNKNELINLSSHYKTGEKIPESLINSLIKTKHVNGALFTLRQLHFGLFDMKVHTCKDLQNLSICDTWNQLRQDISLISNGGTLSKGYDSFGHIMSDSYSAGYYGYLWAEVFATDMYHTKFAKDPLNAKNGIQYRDIVLARGGLYDINDNLKEFLGREPSKDAFLKELGLQN',\n",
       " 'YCL056C': 'MVSKKNTAEISAKDIWENIWSGVSSLLDFFAVLENLGVVNDKLYVSGLLRKVWLCYSCISVIKCVWKLIKLCKVKFKIDQRLDGEGNGLVKDKLINFKKKYNEHIRHITAALLQDLSYLMVLIYPGTRLFKRLSNIITLCRIIV',\n",
       " 'YCL055W': 'MAFQDPTYDQNKSRHINNSHLQGPNQETIEMKSKHVSFKPSRDFHTNDYSNNYIHGKSLPQQHVTNIENRVDGYPKLQKLFQAKAKQINQFATTPFGCKIGIDSIVPTLNHWIQNENLTFDVVMIGCLTENQFIYPILTQLPLDRLISKPGFLFIWANSQKINELTKLLNNEIWAKKFRRSEELVFVPIDKKSPFYPGLDQDDETLMEKMQWHCWMCITGTVRRSTDGHLIHCNVDTDLSIETKDTTNGAVPSHLYRIAENFSTATRRLHIIPARTGYETPVKVRPGWVIVSPDVMLDNFSPKRYKEEIANLGSNIPLKNEIELLRPRSPVQKAQ',\n",
       " 'YCL054W-A': 'MIRQKIFVFIVKSRRNSICPAIRRKEDY',\n",
       " 'YCL054W': 'MGKTQKKNSKGRLDRYYYLAKEKGYRARSSFKIIQINEKYGHFLEKSKVVIDLCAAPGSWCQVASKLCPVNSLIIGVDIVPMKPMPNVITFQSDITTEDCRSKLRGYMKTWKADTVLHDGAPNVGLGWVQDAFTQSQLTLQALKLAVENLVVNGTFVTKIFRSKDYNKLIWVFQQLFEKVEATKPPASRNVSAEIFVVCKGFKAPKRLDPRLLDPKEVFEELPDGQQNMESKIYNPEKKVRKRQGYEEGDNLLYHETSILDFVRTEDPISMLGEMNKFTIDENDHEWKILKKLKQTTDEFRSCIEDLKVLGKKDFKMILRWRKIAREILGIEVKDDAKTEIEVVPLTEEEQIEKDLQGLQEKQRLNVKRERRRKNEMKQKELQRMQMNMITPTDIGIEAASLGKESLFNLKTAEKTGILNDLAKGKKRMIFTDDELAKDNDIYIDENIMIKDKDSAADADDLESELNAMYSDYKTRRSERDAKFRAKQARGGDNEEEWTGFNEGSLEKKEEEGKDYIEDNDDEGVEGDSDDDEAITNLISKLKGQEGDHKLSSKARMIFNDPIFNNVEPDLPVNTVNDGIMSSESVGDISKLNKKRKHEEMHQKQDEADSSDESSSDDSDFEIVANDNASEEFDSDYDSEEEKNQTKKEKHSRDIDIATVEAMTLAHQLALGQKNKHDLVDEGFNRYTFRDTENLPDWFLEDEKEHSKINKPITKEAAMAIKEKIKAMNARPIKKVAEAKARKRMRAVARLEKIKKKAGLINDDSDKTEKDKAEEISRLMRKVTKKPKTKPKVTLVVASGRNKGLAGRPKGVKGKYKMVDGVMKNEQRALRRIAKKHHKKK',\n",
       " 'YCL052C': 'MVTRHRVTVLYNAPEDIGNHMRQNDTHLTVRGGSGVVLQQRWLLERTGSLDKSFTRITWRPRADLARSLSVIENELSAGFSVYSNSSDVPERFITNPVYNSFHSEKFDIEQYLPPEVDLNLSWNPEDFTYDISVEPTQIQIVEYRLLKQGEEFTIARVKDEKLEVGVFFVDASDESDVDIGGIRCNWRMDDGKMERCQKTSLLYKQGHIAYNHSTTTTSLYLNEPIGLHPKIMIDLTDFEERPKCMYLMHLQLPLELFIDKFQSSPLLLFGEDDLELPEYSLRDKAWGSESIFELKAGTMNEVTLHTRYIEPSNNKGDKLEVSFDPEVILACDTGDNKVSRNPFYKKGLGYESLFTDDTTFRHLNSTTLLVPIPRPDTKDYSKIKNGTLLCLLISIIYIFSKVFGNNKKKRSVKRE',\n",
       " 'YCL051W': 'MPNTHTQHVQISEPNPVNTLSTPSKRGHRHRRSLAISGDFDFLKQPAAIVNLPPPQAAENCPSTAPTAVSSTLSPIRYNRFPCKTNEDAGTLDLPEPRFYPLSPKNNLQTPSPRFFISEEPSFSSPVKGVPDAIINLDDALKTRPRSFKSHRRSESAPPDLEVMVDKGNCAAGSNSMIKEEEDSLIEPESKNEYYEQKLPTALLSPLRPSLCVSEQAIDVDDSALNGSPTHHNHGMQNANARNSNTFNSLKIKGQKQRYYHYTKQLPLTVGCDSQSPKEQRSAASMTINQAMTPSSLAYTPSKLASTPATPVSFYDSNADINLESDNFPLKDNPRYAKDGYPKKCGNSQLNRVLDSDKRQDFSGESRRRRSGSPISHMQHRNLIDNMKGRRNSNTINSIFNYKSQHYEMPYDDMMKNENINAQSMPFSVNGVNNENSIGGVITRADDAPLQHSVVKSCTPDGKEEMNRLKSNDSNEYSKSEGQIRTNSQLSKDILMGEPGDMVDLSSFVNAQRKASNETGDLVFSLSQDDDALKTFHASNSAATSNESWCISDDALGKQAQDSEVRRKRKSKLGLFRHIFSRK',\n",
       " 'YCL050C': 'MSIPADIASLISDKYKSAFDNGNLKFIQTETTKTKDPKTSMPYLISHMPSLIEKPERGQTPEGEDPLGKPEEELTVIPEFGGADNKAYKLLLNKFPVIPEHTLLVTNEYQHQTDALTPTDLLTAYKLLCALDNEESDKRHMVFYNSGPASGSSLDHKHLQILQMPEKFVTFQDRLCNGKEHFLPTFNTEPLQDAKVSFAHFVLPMPESEETVDEDLLAMCYISILQRALTFFQDWLNENPELKKSYNLMLTKEWICVVPRSKAFSDEMKIGFNSTGYCGMILTKNDEVFSKITEKPELINDILLECGFPNTSGQKPNEYNY',\n",
       " 'YCL049C': 'MFSKYLVTASSLFVALTSAASTVDLDALLLLPGVESHDGVDTVFSTKDFYQVSFVKSIAPAIVNSSVIFHDVSRGVAMGNVKSRASIFNPEETYYDWEQYQVVNNGDWRTEWAPASDCIWREEKDNSDETPDRFPISVPYNWTSQYSIVDYDTDANEDNLDFRFIKSLLDKKNWLKKINQTVSQSSIMVAPMIRPYNVVQLWYSKDMVWANVQRQYCSGVYPGGTQCSAWSRYYHVDAPTCDEPVASYMTKMLENEVQCPNERNATTLEPLRLNKQGDSDFSLTFEEEEEEETGSKSLWSTLKKIFSKRSIS',\n",
       " 'YCL048W-A': 'MQIKNIVAVLATVTAINAQVGIEPNATTPNATQPNATQPNTTLPTASVTTTVSIGEAVVNTMAAGAFGAAIAAGVAFLF',\n",
       " 'YCL048W': 'MNRITRKSCLFAIIFASLFVTHALGAAIDPPRRPHNVKPFHNGNLELQRRANEPFFEIDVKSLNTNSPISELCKKDLHVIESSHDLFHLQNQCEFILGSLKVTNYDSNILDLNSLRAIGGDLIIQDSPELIRIQAGNLNKIEGLFQLQGLTSLVSVEIPTLKFCQSLEWKVVPILNYVSMDSQNIEIIKDIVISDTSLANIENFNKVQEIDTFNINNNRFLETIHSNVKTIRGQFSVHANAKELELEMPHLREVENITIRDTSLVYLPQLTKVKSSLEFIENYFYELNLNNLQKIGGTLGIINNVNLIKVNLENLTDIQGGLMIADNESLEDITFLPNLKQIGGAIFFEGSFKDIMFDSLKLVKGSAFIKSSSNVLDCNKWTNPSNGRSIIRGGKFTCISGKKENTLNVKQDGTIIEKGYKDLTQEGEDSKKRVISKYANSANPSMQLDPLLFGTCLVAMLLF',\n",
       " 'YCL047C': 'MKKTFEQFRKSNLLFQVLKGPQHLECQKLFVLDSSFNPPHLAHFQLLSQTIKNFKLKDTRSHVLLLLAVNNADKLPKPASFPTRLEMMCLFADYLQEKLPQSVVSVGLTVFSKFIDKDKILHEQFVKGCSADIGYLVGFDTIARIFDEKYYHPLKISDVMESFMSGSQLYCLARGDCHLSAESQLRYASDILEGKFEPVIPREWGARIHVMQNDYPALRNVSSSEIRNKLKNGQVESLKDELPLCIYDYLINNKTIFD',\n",
       " 'YCL045C': 'MKITCTDLVYVFILLFLNTSCVQAVFSDDAFITDWQLANLGPWEKVIPDSRDRNRVLILSNPTETSCLVSSFNVSSGQILFRNVLPFTIDEIQLDSNDHNAMVCVNSSSNHWQKYDLHDWFLLEEGVDNAPSTTILPQSSYLNDQVSIKNNELHILDEQSKLAEWKLELPQGFNKVEYFHREDPLALVLNVNDTQYMGFSANGTELIPVWQRDEWLTNVVDYAVLDVFDSRDVELNKDMKAELDSNSLWNAYWLRLTTNWNRLINLLKENQFSPGRVFTKLLALDAKDTTVSDLKFGFAKILIVLTHDGFIGGLDMVNKGQLIWKLDLEIDQGVKMFWTDKNHDELVVFSHDGHYLTIEVTKDQPIIKSRSPLSERKTVDSVIRLNEHDHQYLIKFEDKDHLLFKLNPGKNTDVPIVANNHSSSHIFVTEHDTNGIYGYIIENDTVKQTWKKAVNSKEKMVAYSKRETTNLNTLGITLGDKSVLYKYLYPNLAAYLIANEEHHTITFNLIDTITGEILITQEHKDSPDFRFPMDIVFGEYWVVYSYFSSEPVPEQKLVVVELYESLTPDERLSNSSDNFSYDPLTGHINKPQFQTKQFIFPEIIKTMSISKTTDDITTKAIVMELENGQITYIPKLLLNARGKPAEEMAKDKKKEFMATPYTPVIPINDNFIITHFRNLLPGSDSQLISIPTNLESTSIICDLGLDVFCTRITPSGQFDLMSPTFEKGKLLITIFVLLVITYFIRPSVSNKKLKSQWLIK',\n",
       " 'YCL044C': 'MAVFTPPSGNSNSTDHTHTQDDHDKDDNDIKKFYIRPSLGLKLWGPLVPAPDNLPGLYTLITIQSAVGFFALWRLRRLYKLPPPRRIATGTHSDLSFGELPSEMIVNGKTKIKKDIADFPTLNRFSTTHGDIVLAPPPIIPRQSRFVSVRKLLWGLFGSLLLSQSLLELTRLNFLKYDPWCDEMKSVRDKKFFNNIVKYYHEGIDPTKIKVKDAMNGTPLSTNIPEVKQSVALARAQVEAQNPIIKWFGPLEYKPMSFNEYLNRMEFHLDMFEFFQNKRNIRENSIELINSISHNPQSSSTGLEGLSESKKLHLQNVEKRLHFLASSGDSISAPVKKRSSTTLSRGVILPHDTKGPQDIDLDTIRSLYDPWMTLALETSLSIKFIPTTMPSHTKTPTSTDQPLPGPTPKALTNEKTH',\n",
       " 'YCL043C': 'MKFSAGAVLSWSSLLLASSVFAQQEAVAPEDSAVVKLATDSFNEYIQSHDLVLAEFFAPWCGHCKNMAPEYVKAAETLVEKNITLAQIDCTENQDLCMEHNIPGFPSLKIFKNSDVNNSIDYEGPRTAEAIVQFMIKQSQPAVAVVADLPAYLANETFVTPVIVQSGKIDADFNATFYSMANKHFNDYDFVSAENADDDFKLSIYLPSAMDEPVVYNGKKADIADADVFEKWLQVEALPYFGEIDGSVFAQYVESGLPLGYLFYNDEEELEEYKPLFTELAKKNRGLMNFVSIDARKFGRHAGNLNMKEQFPLFAIHDMTEDLKYGLPQLSEEAFDELSDKIVLESKAIESLVKDFLKGDASPIVKSQEIFENQDSSVFQLVGKNHDEIVNDPKKDVLVLYYAPWCGHCKRLAPTYQELADTYANATSDVLIAKLDHTENDVRGVVIEGYPTIVLYPGGKKSESVVYQGSRSLDSLFDFIKENGHFDVDGKALYEEAQEKAAEEADADAELADEEDAIHDEL',\n",
       " 'YCL042W': 'MEKKKILDAALAPRIISGVPTDGQPLSGGPLSWAWCHTTLKRWALMKTRPYKYPLSTEPPTPPSVPNSASVNHNTTTNTTLSYTRCHSTTYTKPLRERSSRPWTRSATISRLPPRSWTN',\n",
       " 'YCL040W': 'MSFDDLHKATERAVIQAVDQICDDFEVTPEKLDELTAYFIEQMEKGLAPPKEGHTLASDKGLPMIPAFVTGSPNGTERGVLLAADLGGTNFRICSVNLHGDHTFSMEQMKSKIPDDLLDDENVTSDDLFGFLARRTLAFMKKYHPDELAKGKDAKPMKLGFTFSYPVDQTSLNSGTLIRWTKGFRIADTVGKDVVQLYQEQLSAQGMPMIKVVALTNDTVGTYLSHCYTSDNTDSMTSGEISEPVIGCIFGTGTNGCYMEEINKITKLPQELRDKLIKEGKTHMIINVEWGSFDNELKHLPTTKYDVVIDQKLSTNPGFHLFEKRVSGMFLGEVLRNILVDLHSQGLLLQQYRSKEQLPRHLTTPFQLSSEVLSHIEIDDSTGLRETELSLLQSLRLPTTPTERVQIQKLVRAISRRSAYLAAVPLAAILIKTNALNKRYHGEVEIGCDGSVVEYYPGFRSMLRHALALSPLGAEGERKVHLKIAKDGSGVGAALCALVA',\n",
       " 'YCL039W': 'MSHTNKIAYVLNNDTEETASPSSVGCFDKKQLTKLLIHTLKELGYDSAANQLLLESGGYQNESNHIQTFFKLIKTGQFHLINWQIVCSLPLAHSSPLRSEWLQRLLIPTPTPATTSLFDHMLLQLQYLQQLMSSVNSSTCSDAEIATLRNYVEIMILVNRQIFLEFFHPVTNSASHKGPHTALPVLYLRKILKNFIEIWDSLLVSNDQFLNEENIFNPETTLRELSTYLTNPKLTAQLNLERDHLIDAISKYIDPNELVPKGRLLHLLKQAIKYQQSQDIFNIIDPDDDASFSSPPHRINLLQDNFSHDLTVTFQEWKTIQDTTDEIWFLTFSPNGKYLASATSESSRGYFITVYDVEQDFKIYKTCVSLSQSVLYLMFSPDSRYLVACPFSEDVTIYDMNATSLPDASATDSFLLYPSTRLSPMDSFKLDTTTYPDDTESSASSSSRPANANSNQSRVWCCDAFHTAERAGWMVVGSPDREAIVHSLTTKESLFSLKGRTCIALGHDENISGRKSIDPAKVLYKPTSSNGNWQYVEDDETFPRVHDVKISYDDKYVLLMTHQGVIDVYDFSGFPSKEELSKQTVDPKNFLIPRIARLDVGKNMTCISLPLNTTHQGFHRQQISESQHLVLVSLQDNELQMWDYKENILIQKYFGQKQQHFIIRSCFAYGNKLVMSGSEDGKIYIWDRIRGNLVSVLSGHSTVMSNSTKPMGKNCNVVASNPADKEMFASGGDDGKIKIWKISRN',\n",
       " 'YCL038C': 'MSYGTINDMNESVTNYRIKKAQNNIKGWYAYSFSSEPFVVSAVSTYIPLLLQQFASINGVKVHDHSIPCLSETGSDSDKCVLGLFNNRIFVDTSSFALYVFSLSVLFQTIIVISVSGIVDLWGSVKFKGRILVWFGIVGALSTVAISKLNDTQIYSLAGLYIVANGCFGVINVVGNSLLPIFVKDSLKCQSQGAYEPDKVDSLTTVISGRGASLGYSSALIVQIVSMFLVASKKGSKQDVQVAVLFVGIWWFVWQLPMIWLIDDVTIPIRVDDSTLASARSPYPGEQDALGQLNWKNYLSYGWVSLFESFKHARLLKDVMIFLIAWFIISDSITTINSTAVLFSKAELHMSTLNLIMISVLTVVNAMLGAFMIPQFLATKFRWTSSQTLMYIIIWASFIPFYGILGFFFNAFGLKHKFEMFLLAIWYGLSLGGLSAVSRSVFSLIVPPGKESTFFSMFSITDKGSSILGPFLVGLLTDKTHNIRYSFYFFFLLLMLSLPVLNCLDVKRGRREAEELSQVLPESERRLD',\n",
       " 'YCL037C': 'MSAETAAANTATAPVPEVQEQESSKSKQVNLTPAPLPTSSPWKLAPTEIPVSTISIEDLDATRKKKNRTPTPKSSTATKWVPIKASITVSGTKRSGSKNGASNGNSNKSKNNKTAASSTSSSNANRKKKHHQHNAKKQQQMKKDGFESAVGEEDSKDATSQENGQSTQQQQPPHHRNHHHSHHHNSNGPQRRKFHNSNNAGMPQNQGFPPQFKPYQGRNARNNNNNRSKYHNHFHHNQQHPQQPMVKLQQQFYPVQPVLMAINNIARQIEYYFSEENLTVDNYLRSKLSKDGFAPLSLISKFYRVVNMSFGGDTNLILAALREIVANEAATVNVAEGTLAAKEGDNVTGEAKEPSPLDKYFVRSKSWSNWLPETFETEINIEKELVGDALDQFMISLPPVPQQEEESSTELASQEQETKEDSAPVAAGESESSL',\n",
       " 'YCL036W': 'MQVQKMVRDNSNNGSDKSVHWERRNNNGAGPRYRSRSGNTGALATKLSNGTLSVRGLVKDRTGSGKIAGCVEAFLDARTQLNTPWDRAKCNWLDQIDYYVQLRKTAFSKELDQLRKPMIDAYVAEMRQKFDASYGQSRAQLEAKLAQVDSEWHMVHGDVHAKLEKLVEERRFLKRLSDTIVPPRSKRSQRLSPLTKEDRANCICPQPKGMSDTAWFEAIQKKMLGMNGTIKLLETEQKLLADEKNSVRKTFWPMVEAHSRSNEFAYLEKCIRLMASQRAICFCLDIEAFETNQNVITEIGISIYDPRENMVPSMVPITKNYHLIIEESLELRNQKWVCDYKDCYLLGESYVLSLKECVHFIQSLINYYLVPVTEEDKTWSRAFVGHHVSGDLKWLETIGVKFPGRGYEGHLDHTLLLAETPGDLDVFILDTEQFYRKSYGEKGSSLGKILRLFEIPHAFLHNAGNDAYYTLHLFMKFCDVNFRKISGMDDVLKVMGQVKVWGERDVREPKVVPMSYAISIEEAVKNRTYRKGVKSSRKERVCQTEFGGLTYFGTAKDAFTSTLPTH',\n",
       " 'YCL035C': 'MVSQETIKHVKDLIAENEIFVASKTYCPYCHAALNTLFEKLKVPRSKVLVLQLNDMKEGADIQAALYEINGQRTVPNIYINGKHIGGNDDLQELRETGELEELLEPILAN',\n",
       " 'YCL034W': 'MGFLSDHPHTAITETIFRIVSSRDYTLEVELAPLIQLIKADHNDYNYTVNQEEAARALRKKIKYGNRLQQSRTLDLLDLFISQGVKFTVMYNDDKLLQRLRGMATNSENSGSGEKYEPRIIKKCAAYAISWLNYITQNNLENARAYSGLYQLGQTVKQRYSKSSRSRRSGGGSGGRSNFMDDSADDTLYQSNSLTSADRLYRIPQINMNKEAPRIRLIISDALASAVSLQNSLIGLPKGKFSTDDEEATSKFIQARAIRRKVLRYLQLVTEGEFLGSLIHANDELVAALTAYDDRSAQDDSSDESDHGSYDDGIYDENEQDNSRYIDSESSEEESLSSYQPSTISNPFGDHNKI',\n",
       " 'YCL033C': 'MNKWSRLYVITVRRTFPGRRNIVLTQYWNKSKKMSDESNDVKWNDALTPLQLMVLRDKATERPNTGAYLHTNESGVYHCANCDRPLYSSKAKFDARCGWPAFYEEVSPGAITYHRDNSLMPARVEICCARCGGHLGHVFEGEGWKQLLNLPKDTRHCVNSASLNLKKD',\n",
       " 'YCL032W': 'MEDGKQAINEGSNDASPDLDVNGTILMNNEDFSQWSVDDVITWCISTLEVEETDPLCQRLRENDIVGDLLPELCLQDCQDLCDGDLNKAIKFKILINKMRDSKLEWKDDKTQEDMITVLKNLYTTTSAKLQEFQSQYTRLRMDVLDVMKTSSSSSPINTHGVSTTVPSSNNTIIPSSDGVSLSQTDYFDTVHNRQSPSRRESPVTVFRQPSLSHSKSLHKDSKNKVPQISTNQSHPSAVSTANTPGPSPNEALKQLRASKEDSCERILKNAMKRHNLADQDWRQYVLVICYGDQERLLELNEKPVIIFKNLKQQGLHPAIMLRRRGDFEEVAMMNGSDNVTPGGRL',\n",
       " 'YCL031C': 'MGIEDISAMKNGFIVVPFKLPDHKALPKSQEASLHFMFAKRHQSSNSNESDCLFLVNLPLLSNIEHMKKFVGQLCGKYDTVSHVEELLYNDEFGLHEVDLSALTSDLMSSTDVNEKRYTPRNTALLKFVDAASINNCWNALKKYSNLHAKHPNELFEWTYTTPSFTTFVNFYKPLDIDYLKEDIHTHMAIFEQREAQAQEDVQSSIVDEDGFTLVVGKNTKSLNSIRKKILNKNPLSKHENKAKPISNIDKKAKKDFYRFQVRERKKQEINQLLSKFKEDQERIKVMKAKRKFNPYT',\n",
       " 'YCL030C': 'MVLPILPLIDDLASWNSKKEYVSLVGQVLLDGSSLSNEEILQFSKEEEVPLVALSLPSGKFSDDEIIAFLNNGVSSLFIASQDAKTAEHLVEQLNVPKERVVVEENGVFSNQFMVKQKFSQDKIVSIKKLSKDMLTKEVLGEVRTDRPDGLYTTLVVDQYERCLGLVYSSKKSIAKAIDLGRGVYYSRSRNEIWIKGETSGNGQKLLQISTDCDSDALKFIVEQENVGFCHLETMSCFGEFKHGLVGLESLLKQRLQDAPEESYTRRLFNDSALLDAKIKEEAEELTEAKGKKELSWEAADLFYFALAKLVANDVSLKDVENNLNMKHLKVTRRKGDAKPKFVGQPKAEEEKLTGPIHLDVVKASDKVGVQKALSRPIQKTSEIMHLVNPIIENVRDKGNSALLEYTEKFDGVKLSNPVLNAPFPEEYFEGLTEEMKEALDLSIENVRKFHAAQLPTETLEVETQPGVLCSRFPRPIEKVGLYIPGGTAILPSTALMLGVPAQVAQCKEIVFASPPRKSDGKVSPEVVYVAEKVGASKIVLAGGAQAVAAMAYGTETIPKVDKILGPGNQFVTAAKMYVQNDTQALCSIDMPAGPSEVLVIADEDADVDFVASDLLSQAEHGIDSQVILVGVNLSEKKIQEIQDAVHNQALQLPRVDIVRKCIAHSTIVLCDGYEEALEMSNQYAPEHLILQIANANDYVKLVDNAGSVFVGAYTPESCGDYSSGTNHTLPTYGYARQYSGANTATFQKFITAQNITPEGLENIGRAVMCVAKKEGLDGHRNAVKIRMSKLGLIPKDFQ',\n",
       " 'YCL029C': 'MDRYQRKIGCFIQIPNLGRGQLKYVGPVDTKAGMFAGVDLLANIGKNDGSFMGKKYFQTEYPQSGLFIQLQKVASLIEKASISQTSRRTTMEPLSIPKNRSIVRLTNQFSPMDDPKSPTPMRSFRITSRHSGNQQSMDQEASDHHQQQEFGYDNREDRMEVDSILSSDRKANHNTTSDWKPDNGHMNDLNSSEVTIELREAQLTIEKLQRKQLHYKRLLDDQRMVLEEVQPTFDRYEATIQEREKEIDHLKQQLELERRQQAKQKQFFDAENEQLLAVVSQLHEEIKENEERNLSHNQPTGANEDVELLKKQLEQLRNIEDQFELHKTKWAKEREQLKMHNDSLSKEYQNLSKELFLTKPQDSSSEEVASLTKKLEEANEKIKQLEQAQAQTAVESLPIFDPPAPVDTTAGRQQWCEHCDTMGHNTAECPHHNPDNQQFF',\n",
       " 'YCL028W': 'MDTDKLISEAESHFSQGNHAEAVAKLTSAAQSNPNDEQMSTIESLIQKIAGYVMDNRSGGSDASQDRAAGGGSSFMNTLMADSKGSSQTQLGKLALLATVMTHSSNKGSSNRGFDVGTVMSMLSGSGGGSQSMGASGLAALASQFFKSGNNSQGQGQGQGQGQGQGQGQGQGSFTALASLASSFMNSNNNNQQGQNQSSGGSSFGALASMASSFMHSNNNQNSNNSQQGYNQSYQNGNQNSQGYNNQQYQGGNGGYQQQQGQSGGAFSSLASMAQSYLGGGQTQSNQQQYNQQGQNNQQQYQQQGQNYQHQQQGQQQQQGHSSSFSALASMASSYLGNNSNSNSSYGGQQQANEYGRPQQNGQQQSNEYGRPQYGGNQNSNGQHESFNFSGNFSQQNNNGNQNRY',\n",
       " 'YCL027W': 'MVATIMQTTTTVLTTVAAMSTTLASNYISSQASSSTSVTTVTTIATSIRSTPSNLLFSNVAAQPKSSSASTIGLSIGLPIGIFCFGLLILLCYFYLKRNSVSISNPPMSATIPREEEYCRRTNWFSRLFWQSKCEDQNSYSNRDIEKYNDTQWTSGDNMSSKIQYKISKPIIPQHILTPKKTVKNPYAWSGKNISLDPKVNEMEEEKVVDAFLYTKPPNIVHIESSMPSYNDLPSQKTVSSKKTALKTSEKWSYESPLSRWFLRGSTYFKDYGLSKTSLKTPTGAPQLKQMKMLSRISKGYFNESDIMPDERSPILEYNNTPLDANDSVNNLGNTTPDSQITSYRNNNIDLITARPHSVIYGTTAQQTLETNFNDHHDCNKSTEKHELIIPTPSKPLKKRKKRRQSKMYQHLQHLSRSKPLPLTPNSKYNGEASVQLGKTYTVIQDYEPRLTDEIRISLGEKVKILATHTDGWCLVEKCNTQKGSIHVSVDDKRYLNEDRGIVPGDCLQEYD',\n",
       " 'YCL026C-B': 'MSAVATYLKTLTARRTIYALKPELPGEITINDIQSVVQTIIKETPTAFNSQPNRAVILTGETHKKVWDEVTKAIESPAGQKRPASARDEAFGSVIFFTDDKVTEKLKADFPAYAAAFPSFADHTSGAAQINSWVALEAMGLGGHLQHYNGYIKAALPSKIPESWTVQAQLVFGTPAAPPGEKTYIKNDVEIFN',\n",
       " 'YCL026C-A': 'MSPTGNYLNAITNRRTIYNLKPELPQGVGLDDVKRTVHVILKNTPTAFNSQVNRAVIIVGDTHKRIWDAVASAMPTAEAKKRPESCRDEAYGSVIFFTDEGPTEKLQRDFPALAAAFPTCAAHTTGAVQIQSWTALELLGLGANLQHYNDYVKSALPQDVPIAWTVQSQLVFGVPTALPEEKTFINNVINVYH',\n",
       " 'YCL025C': 'MSSSKSLYELKDLKNSSTEIHATGQDNEIEYFETGSNDRPSSQPHLGYEQHNTSAVRRFFDSFKRADQGPQDEVEATQMNDLTSAISPSSRQAQELEKNESSDNIGANTGHKSDSLKKTIQPRHVLMIALGTGIGTGLLVGNGTALVHAGPAGLLIGYAIMGSILYCIIQACGEMALVYSNLTGGYNAYPSFLVDDGFGFAVAWVYCLQWLCVCPLELVTASMTIKYWTTSVNPDVFVIIFYVLVITINIFGARGYAEAEFFFNCCKILMMTGFFILGIIIDVGGAGNDGFIGGKYWHDPGAFNGKHAIDRFKGVAATLVTAAFAFGGSEFIAITTAEQSNPRKAIPGAAKQMIYRILFLFLATIILLGFLVPYNSDQLLGSTGGGTKASPYVIAVASHGVRVVPHFINAVILLSVLSMANSSFYSSARLFLTLSEQGYAPKVFSYIDRAGRPLIAMGVSALFAVIAFCAASPKEEQVFTWLLAISGLSQLFTWTAICLSHLRFRRAMKVQGRSLGELGFKSQTGVWGSAYACIMMILILIAQFWVAIAPIGEGKLDAQAFFENYLAMPILIALYVGYKVWHKDWKLFIRADKIDLDSHRQIFDEELIKQEDEEYRERLRNGPYWKRVVAFWC',\n",
       " 'YCL024W': 'MTVANTETHSAAKPSSTIGPWKLGETLGFGSTGKVQLAQHERTGHRTAVKVISKSIFNNNGNHSNDDSVLPYNIEREIVIMKLLSHPNVLSLYDVWETNNNLYLILEYAEKGELFNLLVDHGPLPEREAINCFRQIIIGISYCHALGIVHRDLKPENLLLDSFYNIKIADFGMAALQTDADLLETSCGSPHYAAPEIVSGLPYEGFASDVWSCGVILFALLTGRLPFDEENGNVRDLLLKVQKGQFEMPNDTEISRDAQDLIGKILVVDPRQRIKIRDILSHPLLKKYQTIKDSKSIKDLPRENTYLYPLADSNNHTSASIDDSILQNLVVLWHGRHADDIVSKLKENGTNKEKILYALLYRFKLDSVRGSNKKNRNKIKKTKKNKRSSTLSSSSSLLLNNRSIQSTPRRRTSKRHSREFSSSRKRSSFLLSSNPTDSSPIPLRSSKRITHINVASANTQATPSGVPNPHKRNSKKRSSKRLSYMPNTKRSSLTSKSLSNFTNLIDDDDWEYIEKDAKRTSSNFATLIDEIFEPEKFELAKREKAELQRKVQEAKRQSVNAQKINEDEFGSEVSDGMKELKKINDKVSSPLINYEFSQQELLQDIDTLLTNRYQLSSYTRPISRLDPGLTPVTETLPNNLKEKTALLQDTEKKIIETIRRSKFLGSLLNVRGGLSPGKSELAPIEESPIVSTTPLIYNDRMEPRRISDVEVPHFTRKSKHFTTANNRRSVLSLYAKDSIKDLNEFLIKEDPDLPPQGSTDNESRSEDPEIAESITDSRNIQYDEDDSKDGDNVNNDNILSDFPQGVGISQEYDMKDKNPNQSPISKSAEPTLVVKLPSLSSFQGKNASGLGLYQREPSKVTLPSLTSNNSSVGENIEDGAEKGTESEKIAASLSDDDLKEDNDKKDNDTVNAPTTVKKPPNSVLLKKFSKGKILELEIHAKIPEKRLYEGLHKLLEGWKQYGLKNLVFNITNMIITGKLVNDSILFLRSTLFEIMVLPNGDGRSLIKFNKKTGSTKTLTKLATEIQIILQKEGVLDK',\n",
       " 'YCL021W-A': 'MVLTDAEELRSPVITSDMSFFDLESNHSSDSVHLLCEKYTHKLPIESESQTTFRLAPTKQRLYRQSTLYVPLSLKQRVFLFTERVKSIWAGLPRCKPNKYFKVAFALAVLTPLAIWIFYIDFRVH',\n",
       " 'YCL019W': 'MESQQLHQNPRSLHGSAYASVTSKEVPSNQDPLAVSASNLPEFDRDSTKVNSQQETTPGTSAVPENHHHVSPQPASVPPPQNGQYQQHGMMTPNKAMASNWAHYQQPSMMTCSHYQTSPAYYQPDPHYPLPQYIPPLSTSSPDPIDSQNQHSEVPQAETKVRNNVLPPHTLTSEENFSTWVKFYIRFLKNSNLGDIIPNDQGEIKRQMTYEEHAYIYNTFQAFAPFHLLPTWVKQILEINYADILTVLCKSVSKMQTNNQELKDWIALANLEYDGSTSADTFEITVSTIIQRLKENNINVSDRLACQLILKGLSGDFKYLRNQYRTKTNMKLSQLFAEIQLIYDENKIMNLNKPSQYKQHSEYKNVSRTSPNTTNTKVTTRNYQRTNSSKPRAAKAHNIATSSKFSRVNNDHINESTVSSQYLSDDNELSLGQQQKESKPTHTIDSNDELPDHLLIDSGASQTLVRSAHYLHHATPNSEINIVDAQKQDIPINAIGNLHFNFQNGTKTSIKALHTPNIAYDLLSLSELANQNITACFTRNTLERSDGTVLAPIVKHGDFYWLSKKYLIPSHISKLTINNVNKSKSVNKYPYPLIHRMLGHANFRSIQKSLKKNAVTYLKESDIEWSNASTYQCPDCLIGKSTKHRHVKGSRLKYQESYEPFQYLHTDIFGPVHHLPKSAPSYFISFTDEKTRFQWVYPLHDRREESILNVFTSILAFIKNQFNARVLVIQMDRGSEYTNKTLHKFFTNRGITACYTTTADSRAHGVAERLNRTLLNDCRTLLHCSGLPNHLWFSAVEFSTIIRNSLVSPKNDKSARQHAGLAGLDITTILPFGQPVIVNNHNPDSKIHPRGIPGYALHPSRNSYGYIIYLPSLKKTVDTTNYVILQDKQSKLDQFNYDTLTFDDDLNRLTAHNQSFIEQNETEQSYDQNTESDHDYQSEIEINSDPLVNDFSSQSINPLQLDKEPVQKVRAPKEVDADISEYNILPSPVRSRTPHIINKESTEMGGTVESDTTSPRHSSTFTARNQKRPGSPNDMIDLTSQDRVNYGLENIKTTRLGGTEEPYIQRNSDTNIKYRTTNSTPSIDDRSSNSESTTPIISIETKAVCDNTPSIDTDPPEYRSSDHATPNIMPDKSSKNVTADSILDDLPLPDLTHQSPTDTSDVSKDIPHIHSRQTNSSLGGMDDSNVLTTTKSKKRSLEDNETEIEVSRDTWNNKNMRSLEPPRSKKRINLIAAIKGVKSIKPVRTTLRYDEAITYNKDNKEKDRYVEAYHKEISQLLKMNTWDTNKYYDRNDIDPKKVINSMFIFNKKRDGTHKARFVARGDIQHPDTYDSDMQSNTVHHYALMTSLSIALDNDYYITQLDISSAYLYADIKEELYIRPPPHLGLNDKLLRLRKSLYGLKQSGANWYETIKSYLINCCDMQEVRGWSCVFKNSQVTICLFVDDMILFSKDLNANKKIITTLKKQYDTKIINLGESDNEIQYDILGLEIKYQRSKYMKLGMEKSLTEKLPKLNVPLNPKGKKLRAPGQPGHYIDQDELEIDEDEYKEKVHEMQKLIGLASYVGYKFRFDLLYYINTLAQHILFPSRQVLDMTYELIQFMWDTRDKQLIWHKNKPTKPDNKLVAISDASYGNQPYYKSQIGNIFLLNGKVIGGKSTKASLTCTSTTEAEIHAVSEAIPLLNNLSHLVQELNKKPIIKGLLTDSRSTISIIKSTNEEKFRNRFFGTKAMRLRDEVSGNNLYVYYIETKKNIADVMTKPLPIKTFKLLTNKWIH',\n",
       " 'YCL020W': 'MESQQLHQNPRSLHGSAYASVTSKEVPSNQDPLAVSASNLPEFDRDSTKVNSQQETTPGTSAVPENHHHVSPQPASVPPPQNGQYQQHGMMTPNKAMASNWAHYQQPSMMTCSHYQTSPAYYQPDPHYPLPQYIPPLSTSSPDPIDSQNQHSEVPQAETKVRNNVLPPHTLTSEENFSTWVKFYIRFLKNSNLGDIIPNDQGEIKRQMTYEEHAYIYNTFQAFAPFHLLPTWVKQILEINYADILTVLCKSVSKMQTNNQELKDWIALANLEYDGSTSADTFEITVSTIIQRLKENNINVSDRLACQLILKGLSGDFKYLRNQYRTKTNMKLSQLFAEIQLIYDENKIMNLNKPSQYKQHSEYKNVSRTSPNTTNTKVTTRNYQRTNSSKPRAAKAHNIATSSKFSRVNNDHINESTVSSQYLSDDNELSLRPATERI',\n",
       " 'YCL018W': 'MSAPKKIVVLPGDHVGQEITAEAIKVLKAISDVRSNVKFDFENHLIGGAAIDATGVPLPDEALEASKKADAVLLGAVGGPKWGTGSVRPEQGLLKIRKELQLYANLRPCNFASDSLLDLSPIKPQFAKGTDFVVVRELVGGIYFGKRKEDDGDGVAWDSEQYTVPEVQRITRMAAFMALQHEPPLPIWSLDKANVLASSRLWRKTVEETIKNEFPTLKVQHQLIDSAAMILVKNPTHLNGIIITSNMFGDIISDEASVIPGSLGLLPSASLASLPDKNTAFGLYEPCHGSAPDLPKNKVNPIATILSAAMMLKLSLNLPEEGKAIEDAVKKVLDAGIRTGDLGGSNSTTEVGDAVAEEVKKILA',\n",
       " 'YCL017C': 'MLKSTATRSITRLSQVYNVPAATYRACLVSRRFYSPPAAGVKLDDNFSLETHTDIQAAAKAQASARASASGTTPDAVVASGSTAMSHAYQENTGFGTRPIYLDMQATTPTDPRVLDTMLKFYTGLYGNPHSNTHSYGWETNTAVENARAHVAKMINADPKEIIFTSGATESNNMVLKGVPRFYKKTKKHIITTRTEHKCVLEAARAMMKEGFEVTFLNVDDQGLIDLKELEDAIRPDTCLVSVMAVNNEIGVIQPIKEIGAICRKNKIYFHTDAAQAYGKIHIDVNEMNIDLLSISSHKIYGPKGIGAIYVRRRPRVRLEPLLSGGGQERGLRSGTLAPPLVAGFGEAARLMKKEFDNDQAHIKRLSDKLVKGLLSAEHTTLNGSPDHRYPGCVNVSFAYVEGESLLMALRDIALSSGSACTSASLEPSYVLHALGKDDALAHSSIRFGIGRFSTEEEVDYVVKAVSDRVKFLRELSPLWEMVQEGIDLNSIKWSGH',\n",
       " 'YCL016C': 'MSINLHSAPEYDPSYKLIQLTPELLDIIQDPVQNHQLRFKSLDKDKSEVVLCSHDKTWVLKQRKHSNTVLLMREFVPEQPITFDETLLFGLSKPYMDVVGFAKTESEFETRETHGELNLNSVPIYNGELDFSDKIMKRSSTKVIGTLEELLENSPCSALEGISKWHKIGGSVKDGVLCILSQDFLFKALHVLLMSAMAESLDLQHLNVEDTHHAVGKDIEDEFNPYTREIIETVLNKFAVQEQEAENNTWRLRIPFIAQWYGIQALRKYVSGISMPIDEFLIKWKSLFPPFFPCDIDIDMLRGYHFKPTDKTVQYIAKSTLPMDPKERFKVLFRLQSQWDLEDIKPLIEELNSRGMKIDSFIMKYARRKRLGKKTVVTSR',\n",
       " 'YCL014W': 'MEKDLSSLYSEKKDKENDETLFNIKLSKSVVETTPLNGHSLFDDDKSLSDWTDNVFTQSVFYHGSDDLIWGKFFVCVYKSPNSNKLNAIIFDKLGTSCFESVDISSNSQYYPAIENLSPSDQESNVKKCIAVILLQRYPLLSPSDLSQILSNKSENCDYDPPYAGDLASSCQLITAVPPEDLGKRFFTSGLLQNRFVSSTLLDVIYENNESTIELNNRLVFHLGEQLEQLFNPVTEYSPEQTEYGYKAPEDELPTESDDDLVKAICNELLQLQTNFTFNLVEFLQKFLIALRVRVLNEEINGLSTTKLNRLFPPTIDEVTRINCIFLDSLKTAIPYGSLEVLKACSITIPYFYKAYTRHEAATKNFSKDIKLFIRHFSNVIPEREVYTEMKIESIIKGPQEKLLKLKLIIERLWKSKKWRPKNQEMAKKCYNNIIDVIDSFGKLDSPLHSYSTRVFTPSGKILTELAKCWPVELQYKWLKRRVVGVYDVVDLNDENKRNLLVIFSDYVVFINILEAESYYTSDGSNRPLISDILMNSLINEVPLPSKIPKLKVERHCYIDEVLVSILDKSTLRFDRLKGKDSFSMVCKLSSAFISSSSVADLITKARILEKDTAFHLFKASRSHFTLYSTAHELCAYDSEKIKSKFALFLNIPPSKEILEVNNLHLAFFARFCSNDGRDNIVILDVLTKHDDKHIEVTSDNIVFTIINQLAIEIPICFSSLNSSMAKDLLCVNENLIKNLEHQLEEVKHPSTDEHRAVNSKLSGASDFDATHEKKRSYGTITTFRSYTSDLKDSPSGDNSNVTKETKEILPVKPTKKSSKKPREIQKKTKTNASKAEHIEKKKPNKGKGFFGVLKNVFGSKSKSKPSPVQRVPKKISQRHPKSPVKKPMTSEKKSSPKRAVVSSPKIKKKSTSFSTKESQTAKSSLRAVEFKSDDLIGKPPDVGNGAHPQENTRISSVVRDTKYVSYNPSQPVTENTSNEKNVEPKADQSTKQDNISNFADVEVSASSYPEKLDAETDDQIIGKATNSSSVHGNKELPDLAEVTTANRVSTTSAGDQRIDTQSEFLRAADVENLSDDDEHRQNESRVFNDDLFGDFIPKHYRNKQENINSSSNLFPEGKVPQEKGVSNENTNISLKTNEDASTLTQKLSPQASKVLTENSNELKDTNNEGKDAKDIKLGDDYSDKETAKEITKPKNFVEGITERKEIFPTIPRLAPPASKINFQRSPSYIELFQGMRVVLDKHDAHYNWKRLASQVSLSEGLKVNTEEDAAIINKSQDDAKAERMTQISEVIEYEMQQPIPTYLPKAHLDDSGIEKSDDKFFEIEEELKEELKGSKTGNEDVGNNNPSNSIPKIEKPPAFKVIRTSPVRIIGRTFEDTRKYENGSPSDISFTYDTHNNDEPDKRLMELKFPSQDEIPDDRFYTPAEEPTAEFPVEELPNTPRSINVTTSNNKSTDDKLSSGNIDQKPTELLDDLEFSSFNIAFGNTSMSTDNMKISSDLSSNKTVLGNAQKVQESPSGPLIYVLPQSSTKHEKEGFLRKKQKDEPIWVSPSKIDFADLSRRTKALTPERNTVPLKNNDSRKYKYTGEGSIGNMTNMLLTKDASYAYLKDFVALSDDEDEDGKQNCAVGGPEKLKFY',\n",
       " 'YCL012C': 'MKSLFYLKLLLWVVLLSLCLLMAHRKTKVADKFRALRSRIQLRFNRHIRLNDSFADDLENGLHSRNFDIISENSNDVRGGLDDVSKNEIKQIMENDNVDFDKARLLYMERKFGQNGIAPDGTPIDPKAFTFDSR',\n",
       " 'YCL011C': 'MERELGMYGNDRSRSRSPVRRRLSDDRDRYDDYNDSSSNNGNGSRRQRRDRGSRFNDRYDQSYGGSRYHDDRNWPPRRGGRGRGGSRSFRGGRGGGRGRTLGPIVERDLERQFDATKRNFENSIFVRNLTFDCTPEDLKELFGTVGEVVEADIITSKGHHRGMGTVEFTKNESVQDAISKFDGALFMDRKLMVRQDNPPPEAAKEFSKKATREEIDNGFEVFIINLPYSMNWQSLKDMFKECGHVLRADVELDFNGFSRGFGSVIYPTEDEMIRAIDTFNGMEVEGRVLEVREGRFNKRKNNDRYNQRREDLEDTRGTEPGLAQDAAVHIDETAAKFTEGVNPGGDRNCFIYCSNLPFSTARSDLFDLFGPIGKINNAELKPQENGQPTGVAVVEYENLVDADFCIQKLNNYNYGGCSLQISYARRD',\n",
       " 'YCL010C': 'MDGYWDVVVSSLQDIYNANEVIPFDDELQTKKLNFLNMSKDQLQLHLNTFQEHMENVNRVHRILDNVRSNLSLMLNQSREEKSEENTEDAEEGEGTRMALSQGKKAVGKVGRSYWTSEYNPNAPILVGSEVAYKPRRGSADGEWIQCEVLKVVADGTRFEVRDPEPDELGNSGKVYKCNRKELLLIPPGFPTKNYPPGTKVLARYPETTTFYPAIVIGTKRDGTCRLRFDGEEEVDKETEVTRRLVLPSPTALANLARK',\n",
       " 'YCL009C': 'MLRSLLQSGHRRVVASSCATMVRCSSSSTSALAYKQMHRHATRPPLPTLDTPSWNANSAVSSIIYETPAPSRQPRKQHVLNCLVQNEPGVLSRVSGTLAARGFNIDSLVVCNTEVKDLSRMTIVLQGQDGVVEQARRQIEDLVPVYAVLDYTNSEIIKRELVMARISLLGTEYFEDLLLHHHTSTNAGAADSQELVAEIREKQFHPANLPASEVLRLKHEHLNDITNLTNNFGGRVVDISETSCIVELSAKPTRISAFLKLVEPFGVLECARSGMMALPRTPLKTSTEEAADEDEKISEIVDISQLPPG',\n",
       " 'YCL008C': 'MSANGKISVPEAVVNWLFKVIQPIYNDGRTTFHDSLALLDNFHSLRPRTRVFTHSDGTPQLLLSIYGTISTGEDGSSPHSIPVIMWVPSMYPVKPPFISINLENFDMNTISSSLPIQEYIDSNGWIALPILHCWDPAAMNLIMVVQELMSLLHEPPQDQAPSLPPKPNTQLQQEQNTPPLPPKPKSPHLKPPLPPPPPPQPASNALDLMDMDNTDISPTNHHEMLQNLQTVVNELYREDVDYVADKILTRQTVMQESIARFHEIIAIDKNHLRAVEQAIEQTMHSLNAQIDVLTANRAKVQQFSSTSHVDDEDVNSIAVAKTDGLNQLYNLVAQDYALTDTIECLSRMLHRGTIPLDTFVKQGRELARQQFLVRWHIQRITSPLS',\n",
       " 'YCL005W-A': 'MSSFYTVVGVFIVVSAMSVLFWIMAPKNNQAVWRSTVILTLAMMFLMWAITFLCQLHPLVAPRRSDLRPEFAE',\n",
       " 'YCL005W': 'MFVVDWSVQLCMGVISPLFRALVQLPLSIFVWNGFQLVALPINIPLRLFLGTSLSRLVAQTSTLDFYVVLTLFQYFAVLCAFGSIIGLIFGFILGVFHSICGVPSVYISLEWKRWFAPIRTVLERASTSIVNIMRGQTIAPIPMPKPNPTHISKPNMKKFHDEPGADDMTITHDVNCYITPCQTPTNEKIQHYNNDSFNTTTTDDEPTDIWDRSDTYQNSFVTNETLMSLSNRAKLRRNASDADIVNIKILRRNSR',\n",
       " 'YCL004W': 'MTTRLLQLTRPHYRLLSLPLQKPFNIKRQMSAANPSPFGNYLNTITKSLQQNLQTCFHFQAKEIDIIESPSQFYDLLKTKILNSQNRIFIASLYLGKSETELVDCISQALTKNPKLKVSFLLDGLRGTRELPSACSATLLSSLVAKYGSERVDCRLYKTPAYHGWKKVLVPKRFNEGLGLQHMKIYGFDNEVILSGANLSNDYFTNRQDRYYLFKSRNFSNYYFKLHQLISSFSYQIIKPMVDGSINIIWPDSNPTVEPTKNKRLFLREASQLLDGFLKSSKQSLPITAVGQFSTLVYPISQFTPLFPKYNDKSTEKRTILSLLSTITSNAISWTFTAGYFNILPDIKAKLLATPVAEANVITASPFANGFYQSKGVSSNLPGAYLYLSKKFLQDVCRYRQDHAITLREWQRGVVNKPNGWSYHAKGIWLSARDKNDANNWKPFITVIGSSNYTRRAYSLDLESNALIITRDEELRKKMKAELDNLLQYTKPVTLEDFQSDPERHVGTGVKIATSILGKKL',\n",
       " 'YCL002C': 'MLVIVLQGLAGFLSIIAILCQKRYNKLHRSIYGLSYDLFLLDFVGNGLYLYCALHYCYSSLVREQLSQRFPLFYPLNDARSIPISSFLILKDFCVSCCCMMVLRQLYYYRSTKHIYQGISITSIIIISVFLVLGIFTYGCSISNLPLKNSGKFGVFYLEHINYLWVMANLLKCFKYVPQMSINWMGCSTVGLSSKFALISFLAESIDLLGRLVIPTNALFYEIPFNSTPFWVKLIQFVTLLVILCQVQYVYVGRKPRLPKGKL',\n",
       " 'YCL001W': 'MDYDSSDTMNGGSSNPLITKMNTMKLLYQHYLDKVTPHAKERWAVLGGLLCLFMVRITMAEGWYVICYGLGLFLLNQFLAFLTPKFDMSLQQDEENNELEAGEKSEEFRPFIRRLPEFKFWYNSIRATVISLLLSLFSIFDIPVFWPILLMYFILLFFLTMRRQIQHMIKYRYIPLDIGKKKYSHSSN',\n",
       " 'YCL001W-A': 'MTFLQFINNNRQEGQGYISEKLFKTKKNEMIRKTVTNLVAVRLKNLSHEFDVIENYLRYIASTSEHLFTAIKRHFNKCARKLLKEAIDSKSNSETATVVLQEGFSGICLLKASSIILKLKLKFPKKKDRTDISKLCDKKERMTQWLEISILMN',\n",
       " 'YCL001W-B': 'MDDFLEHLSKDDNKAWYGAEETERAAKLDAIETLLITDSVLKRNDVKKREKYLDLIENSGNNNGKIFVLSTSKITVSNLTNQQI',\n",
       " 'YCR001W': 'MLYLLKKLKHIDSYGESNLSMFYLKFYCPWKLCPLLPILYGRNKSVQNAWSCHKLHRFIDFPTPSANMNFFFFIRVCYGTVSLFISTFLKKISFFIYVNFTVYF',\n",
       " 'YCR002C': 'MDPLSSVQPASYVGFDTITNQIEHRLLKKGFQFNIMVVGQSGLGKSTLINTLFASHLIDSATGDDISALPVTKTTEMKISTHTLVEDRVRLNINVIDTPGFGDFIDNSKAWEPIVKYIKEQHSQYLRKELTAQRERFITDTRVHAILYFLQPNGKELSRLDVEALKRLTEIANVIPVIGKSDTLTLDERTEFRELIQNEFEKYNFKIYPYDSEELTDEELELNRSVRSIIPFAVVGSENEIEINGETFRGRKTRWSAINVEDINQCDFVYLREFLIRTHLQDLIETTSYIHYEGFRARQLIALKENANSRSSAHMSSNAIQR',\n",
       " 'YCR003W': 'MNSLIFGKQLAFHKIVPTTAIGWLVPLGNPSLQIPGQKQLGSIHRWLREKLQQDHKDTEDKDFFSNNGILLAVPKKKVSHQKKRQKLYGPGKKQLKMIHHLNKCPSCGHYKRANTLCMYCVGQISHIWKTHTAKEEIKPRQEEELSELDQRVLYPGRRDTKYTKDLKDKDNYLERRVRTLKKD',\n",
       " 'YCR004C': 'MVKIAIITYSTYGHIDVLAQAVKKGVEAAGGKADIYRVEETLPDEVLTKMNAPQKPEDIPVATEKTLLEYDAFLFGVPTRFGNLPAQWSAFWDKTGGLWAKGSLNGKAAGIFVSTSSYGGGQESTVKACLSYLAHHGIIFLPLGYKNSFAELASIEEVHGGSPWGAGTLAGPDGSRTASPLELRIAEIQGKTFYETAKKLFPAKEAKPSTEKKTTTSDAAKRQTKPAAATTAEKKEDKGLLSCCTVM',\n",
       " 'YCR005C': 'MTVPYLNSNRNVASYLQSNSSQEKTLKERFSEIYPIHAQDVRQFVKEHGKTKISDVLLEQVYGGMRGIPGSVWEGSVLDPEDGIRFRGRTIADIQKDLPKAKGSSQPLPEALFWLLLTGEVPTQAQVENLSADLMSRSELPSHVVQLLDNLPKDLHPMAQFSIAVTALESESKFAKAYAQGISKQDYWSYTFEDSLDLLGKLPVIAAKIYRNVFKDGKMGEVDPNADYAKNLVNLIGSKDEDFVDLMRLYLTIHSDHEGGNVSAHTSHLVGSALSSPYLSLASGLNGLAGPLHGRANQEVLEWLFALKEEVNDDYSKDTIEKYLWDTLNSGRVIPGYGHAVLRKTDPRYMAQRKFAMDHFPDYELFKLVSSIYEVAPGVLTEHGKTKNPWPNVDAHSGVLLQYYGLKESSFYTVLFGVSRAFGILAQLITDRAIGASIERPKSYSTEKYKELVKNIESKL',\n",
       " 'YCR006C': 'MFIRVCNRLIYTPTNVLLITVEDGRISVLLWFRYAIPAELCYTRLARILRGKHCADFPQSCCHNISRFGVLNKSVLGSFNQWLGGISKERKLIARTFDAFIRWSSTRGEEVTTYFFLQKKSVTFSVARRLSGRQQWEAQRKNNNNGKRNYLLSVTFV',\n",
       " 'YCR007C': 'MQPHLDNNSNNDDVKLDTLGEQNVLSSAENITLPEDTFKSYMTYLLYEMAHYKPMIFSFLALSVSILIVVIFHNVKACDVVFGFSIFVTSILFLSTLIPFNVYISDEGFRIKLLLEVITHRPAVKGKEWRAITDNMNQYLLDNGLWSTRYYFYSSERCYKFFRFLVKEKPPGVNVNSSVKDATSTQIDAPANEASNEVIKCFSFSSDPIFEAYFVKAVEVEKQAQQEYWRKQYPDADIP',\n",
       " 'YCR008W': 'MTGMNDNNAAIPQQTPRKHALSSKVMQLFRSGSRSSRQGKASSNIQPPSNINTNVPSASKSAKFGLHTPTTATPRVVSNPSNTAGVSKPGMYMPEYYQSASPSHSSSSASLNNHIDINTSKSSSAASLTSSVSALSLSPTSAINISSKSLSPKFSHHSNSNTAITPAPTPTASNINNVNKITNTSAPICGRFLVHKDGTHEHHLKNAKRQEKLSTMIKNMVGASKLRGEAKSAVPDIIMDPKTTLKSNKNPPTLFAGFMKQVVDMDDKYPEGAPTSGALNCPERDIYRSDQKDSKNNTHNITTTKKDRQCFAEKYGRCQEVLGKGAFGVVRICQKKNVSSQDGNKSEKLYAVKEFKRRTSESAEKYSKRLTSEFCISSSLHHTNIVTTLDLFQDAKGEYCEVMEYCAGGDLFTLVVAAGKLEYMEADCFFKQLIRGVVYMHEMGVCHRDLKPENLLLTHDGVLKITDFGNSECFKMAWEKNIHLSGGVCGSSPYIAPEEYIKEEFDPRPVDIWACGVIYMAMRTGRQLWSSAEKDDPFYMNYLKGRKEKGGYEPIESLKRARCRNVIYSMLDPVPYRRINGKQILNSEWGREIKCCHNGRALK',\n",
       " 'YCR009C': 'MSWEGFKKAINRAGHSVIIKNVDKTIDKEYDMEERRYKVLQRAGEALQKEAKGFLDSLRAVTASQTTIAEVISNLYDDSKYVAGGGYNVGNYYLQCVQDFDSETVKQLDGPLRETVLDPITKFSTYFKEIEEAIKKRDHKKQDFDAAKAKVRRLVDKPAKDASKLPRAEKELSLAKDIFENLNNQLKTELPQLVSLRVPYFDPSFEALIKIQLRFCTDGYTRLAQIQQYLDQQSRDDYANGLLDTKIEELLGQMTSLDICALGIK',\n",
       " 'YCR010C': 'MSDKEQTSGNTDLENAPAGYYSSHDNDVNGVAEDERPSHDSLGKIYTGGDNNEYIYIGRQKFLKSDLYQAFGGTLNPGLAPAPVHKFANPAPLGLSAFALTTFVLSMFNARAQGITVPNVVVGCAMFYGGLVQLIAGIWEIALENTFGGTALCSYGGFWLSFAAIYIPWFGILEAYEDNESDLNNALGFYLLGWAIFTFGLTVCTMKSTVMFFLLFFLLALTFLLLSIGHFANRLGVTRAGGVLGVVVAFIAWYNAYAGVATKQNSYVLARPFPLPSTERVIF',\n",
       " 'YCR011C': 'MGSHRRYLYYSILSFLLLSCSVVLAKQDKTPFFEGTSSKNSRLTAQDKGNDTCPPCFNCMLPIFECKQFSECNSYTGRCECIEGFAGDDCSLPLCGGLSPDESGNKDRPIRAQNDTCHCDNGWGGINCDVCQEDFVCDAFMPDPSIKGTCYKNGMIVDKVFSGCNVTNEKILQILNGKIPQITFACDKPNQECNFQFWIDQLESFYCGLSDCAFEYDLEQNTSHYKCNDVQCKCVPDTVLCGAKGSIDISDFLTETIKGPGDFSCDLETRQCKFSEPSMNDLILTVFGDPYITLKCESGECVHYSEIPGYKSPSKDPTVSWQGKLVLALTAVMVLALFTFATFYISKSPLFRNGLGSSKSPIRLPDEDAVNNFLQNEDDTLATLSFENITYSVPSINSDGVEETVLNEISGIVKPGQILAIMGGSGAGKTTLLDILAMKRKTGHVSGSIKVNGISMDRKSFSKIIGFVDQDDFLLPTLTVFETVLNSALLRLPKALSFEAKKARVYKVLEELRIIDIKDRIIGNEFDRGISGGEKRRVSIACELVTSPLVLFLDEPTSGLDASNANNVIECLVRLSSDYNRTLVLSIHQPRSNIFYLFDKLVLLSKGEMVYSGNAKKVSEFLRNEGYICPDNYNIADYLIDITFEAGPQGKRRRIRNISDLEAGTDTNDIDNTIHQTTFTSSDGTTQREWAHLAAHRDEIRSLLRDEEDVEGTDGRRGATEIDLNTKLLHDKYKDSVYYAELSQEIEEVLSEGDEESNVLNGDLPTGQQSAGFLQQLSILNSRSFKNMYRNPKLLLGNYLLTILLSLFLGTLYYNVSNDISGFQNRMGLFFFILTYFGFVTFTGLSSFALERIIFIKERSNNYYSPLAYYISKIMSEVVPLRVVPPILLSLIVYPMTGLNMKDNAFFKCIGILILFNLGISLEILTIGIIFEDLNNSIILSVLVLLGSLLFSGLFINTKNITNVAFKYLKNFSVFYYAYESLLINEVKTLMLKERKYGLNIEVPGATILSTFGFVVQNLVFDIKILALFNVVFLIMGYLALKWIVVEQK',\n",
       " 'YCR012W': 'MSLSSKLSVQDLDLKDKRVFIRVDFNVPLDGKKITSNQRIVAALPTIKYVLEHHPRYVVLASHLGRPNGERNEKYSLAPVAKELQSLLGKDVTFLNDCVGPEVEAAVKASAPGSVILLENLRYHIEEEGSRKVDGQKVKASKEDVQKFRHELSSLADVYINDAFGTAHRAHSSMVGFDLPQRAAGFLLEKELKYFGKALENPTRPFLAILGGAKVADKIQLIDNLLDKVDSIIIGGGMAFTFKKVLENTEIGDSIFDKAGAEIVPKLMEKAKAKGVEVVLPVDFIIADAFSADANTKTVTDKEGIPAGWQGLDNGPESRKLFAATVAKAKTIVWNGPPGVFEFEKFAAGTKALLDEVVKSSAAGNTVIIGGGDTATVAKKYGVTDKISHVSTGGGASLELLEGKELPGVAFLSEKK',\n",
       " 'YCR014C': 'MSLKGKFFAFLPNPNTSSNKFFKSILEKKGATIVSSIQNCLQSSRKEVVILIEDSFVDSDMHLTQKDIFQREAGLNDVDEFLGKIEQSGIQCVKTSCITKWVQNDKFAFQKDDLIKFQPSIIVISDNADDGQSSTDKESEISTDVESERNDDSNNKDMIQASKPLKRLLQGDKGRASLVTDKTKYKNNELIIGALKRLTKKYEIEGEKFRARSYRLAKQSMENCDFNVRSGEEAHTKLRNIGPSIAKKIQVILDTGVLPGLNDSVGLEDKLKYFKNCYGIGSEIAKRWNLLNFESFCVAAKKDPEEFVSDWTILFGWSYYDDWLCKMSRNECFTHLKKVQKALRGIDPECQVELQGSYNRGYSKCGDIDLLFFKPFCNDTTELAKIMETLCIKLYKDGYIHCFLQLTPNLEKLFLKRIVERFRTAKIVGYGERKRWYSSEIIKKFFMGVKLSPRELEELKEMKNDEGTLLIEEEEEEETKLKPIDQYMSLNAKDGNYCRRLDFFCCKWDELGAGRIHYTGSKEYNRWIRILAAQKGFKLTQHGLFRNNILLESFNERRIFELLNLKYAEPEHRNIEWEKKTA',\n",
       " 'YCR015C': 'MKTIIISDFDETITRVDTICTIAKLPYLLNPRLKPEWGHFTKTYMDGYHKYKYNGTRSLPLLSSGVPTIISQSNFNKLFADELKYQNHNRVVELNSVNEITKQQIFKSISLDQMKTFARDQNHEDCLLRDGFKTFCSSVVKNFESDFYVLSINWSKEFIHEVIGDRRLKNSHIFCNDLKKVSDKCSQSYNGEFDCRLLTGSDKVKILGEILDKIDSGCNKEGNSCSYWYIGDSETDLLSILHPSTNGVLLINPQENPSKFIKITEKIIGIPKDKISSFEADNGPAWLQFCEKEGGKGAYLVKSWDSLKDLIMQVTKM',\n",
       " 'YCR016W': 'MSENHVPAWKRIALKRQTISSGDESKEKGQSNLIDDDPLNITTHLSTGNLTKKEKKRIINGESKSSTKKGKRVSKPGTKKKEKLSKDEKNSKKNKILKDQLRYLIEFFRTKSESKFPTGILELESVKENYGDSLIKDEPSESGVVEVWKFSKQKQNWLIKHFFNLDEIPSVYNDLLLLYFRDLQGKSKEELISKCKGKLKQWNDYVEDQETKIKALIAEDKASEPINGEEKEEGEKDGNAEQGKQKEVQDEQEEVQMPNKELVQRSLKLLEIWKNDDSEQIELKNFFVDV',\n",
       " 'YCR017C': 'MLIINGKIIPIAHTICAFSAFFAALVTGYSLHFHKIVTNAHYTYPDEWFPSVSATIGDRYPERSIFQILIALTAFPRFLLLLGHYYLNQSKVCFLVGVLRTVSCGGWVYITSTDDHDIHDIFMITYIVLTLPWDIMITRYSSPLTSKNKGLTATIFFGTLFPMIYWYIQHSVQQRAGAYSIYAYFEWSLILLDIAFDAFAYADFKKIDIVLAFNEKPGNTSFFQIRDSSPINYGEEKSSELQKSGEKKVEKEKPVARSATGSYFRFDSFFYLLTNIFNGFLFWSNVTSLLCSIWHFPLWYMGISGYEAAILGYLGPIFLYLPFVSEAFTQYGVLLGGIIAIGAYIVQMPELRLISVAVGTSITVATFVQNLRYITNAETSFSFALTWLLGLVASVILKMGFYTNNPTWVILDERNGGYNKTALVLTVLFGMLSPYVNSINFEGKRNAQAKSASLIGKLFLAVGFGSLLFGIHQLLTDSSTTIYWAWEGYNESHGPLPWPWGALTCTVMLFASLSSVKFMGKPLVPCLLLLISTAVLSARSITQWPKYIFGGLLYAIAMLWLVPSYFSALGQVQNIWVYVLSFSVYIIFVLAHVWVVAYAFVPMGWVLREKIETVLAFSSTFIIIGALTCKNLNIQLVTMGKKFFIYVFFFAVALLSLTARFVYDIRPTGIPQPYHPDSQLITAGIWTIHFGLDNDMWASEDRMINLIKDMELDVVGLLETDTQRITMGNRDLTSKLAHDLNMYADFGPGPNKHTWGCVLLSKFPIVNSTHHLLPSPVGELAPAIHATLQTYNDTLVDVFVFHSGQEEDEEDRRLQSNYMAKLMGNTTRPAILLSYLVVDPGEGNYNTYVSETSGMHDIDPSDDDRWCEYILYRGLRRTGYARVARGTITDTELQVGKFQVLSEQALVEHSDSMYEYGHMSEPEYEDMKFPDKFLGEGERGHFYHVFDEPRYYL',\n",
       " 'YCR018C': 'MRYNNYDNSGSSFLTRVVKKSDMEKTLLLNREIDDWKSNDKKKAYKERGRVYASCSFIEVSFSQIRAVDVEKKIENAEQLRDLTRNIVKNKTSSLNEITPSKNRVTSACNSERRTTSQEANNLEGYHSCAQGTSRSASITKKYSKKTTSRPKREKRQTILPNGEIKECSKCKDTWTIQWRSGPDQNRELCSPCGLAYGKRLKKENEKKRQAADKRIDRNNP',\n",
       " 'YCR019W': 'MMNEEDSTETKSLVITNGMFIIDDIERSKYNIHYKNVPGGGGTFAILGACIISSGNVTSKGLKWIVDRGSDFPKEVIREIDSWGTDVRFRDDFSRLTTKGLNYYEGSDDLRKFKFLTPKKQINVDDWISTFGQKIIDEMHAFHLLCSGSRCLDIINDLLRVKSSKGTKPIVIWEPFPDLCDFDHQNDIKSVMQRNDVTVILSPNAEESSRLFGLSSKEPTSLEECLALAHRFDDFMDENNMCILRCGALGSISVSEKFKNGRTYDHFPAYHFKTQSKVLDPTGGGNSFLGGFAVSYALTKSLDIASICGNIAAGAIIEQFGIPRYDPIAKTWNGITFLDRLKFYLSQSGLQYNINDLYKSLTR',\n",
       " 'YCR020C': 'MSCTTDKLIQKYDALVRKTTEHKFAKELCAGTLKDRSLYIYLSQDLQFFETSLRLICKTTSLAPTTHALITLAKKIGFFSNDENSYFHDCLELLAPSLTKEERDNFDNKAIPGVDAYINFLDELRKDASITWPSLVTSLWVAEELYWRWARDTPRAPGLHWKYQKWIDLHDGEHFQTWCEFLKAEVDKFPVEEVESIFVKVSQFEFEFFESCYNA',\n",
       " 'YCR020C-A': 'MDILKLSDFIGNTLIVSLTEDRILVGSLVAVDAQMNLLLDHVEERMGSSSRMMGLVSVPRRSVKTIMIDKPVLQELTANKVELMANIV',\n",
       " 'YCR020W-B': 'MSQNNTISSMNPERAYNNVTLKNLTAFQLLSQRENICELLNLVESTERHNSIINPERQRMSLEEMKKMLDALKNERKK',\n",
       " 'YCR021C': 'MNDTLSSFLNRNEALGLNPPHGLDMHITKRGSDWLWAVFAVFGFILLCYVVMFFIAENKGSRLTRYALAPAFLITFFEFFAFFTYASDLGWTGVQAEFNHVKVSKSITGEVPGIRQIFYSKYIAWFLSWPCLLFLIELAASTTGENDDISALDMVHSLLIQIVGTLFWVVSLLVGSLIKSTYKWGYYTIGAVAMLVTQGVICQRQFFNLKTRGFNALMLCTCMVIVWLYFICWGLSDGGNRIQPDGEAIFYGVLDLCVFAIYPCYLLIAVSRDGKLPRLSLTGGFSHHHATDDVEDAAPETKEAVPESPRASGETAIHEPEPEAEQAVEDTA',\n",
       " 'YCR022C': 'MENRCSNPCYIQSDPSDLLSLRLPARFCWPFSRSSRIFQGSSRRRILSEGKNASKACFVRIFGMAKVSKAISRSRSRLLFRSLPPHPACLFEYQISSSSLFHHPFLLWQGQVFF',\n",
       " 'YCR023C': 'MARQKLTFKEQMDGFPWVQLVVVSLVRFSEPIAFSSLFPYVYFMVRDFNIAPNDAQVSKYSGYLSSSFALCQVISAYHWGRFSEKHGRKITLTCGLIGTSVSLLILGFSRNFYQALVARSLMGLLNGNVGVIRTIIGEIATERKHQALAFSTMPLLFQFGAVVGPMIGGFLVFRDGTMNEVPLWFPHFAKRIIRSYPYALPNVVVCMFLMFGLTNATLFLEETHPAFKDRRDYGLEVGDFIKKNIFGIQPKRRPWQKRIQDDSENIHHRNENVNSIRGQDSEEDENSPLVNTTNDDDTESIQSIDPILTRRQSVGLIRTYSLHEPTDAVHANIDTAPDGCKESSIFHHVFHTKVFYPISVNFIMALHLIVYNEFLPVFLAYDLAVDPENPKKLASKFPWKISGGIGYEPEQTGTLLSTTGIFGCFVVIFIFPIVDRNFDCLTIFRTLVKLYPIMYVMVPYVVFLQNERIPSWYTVVYLYIITGIKTFCGALTSPQIMLLIHNSSPLSCRSVINGATISISASARFIGPLVWGYIMSWSQQNDVAWVSWWSLSLFCMVALYQSYKIAPIDDNENELHGQGSEDAYNSQSQSSDLRMAHRSSLSSLSNQRCTT',\n",
       " 'YCR024C': 'MFHAFTFLKGGRFYSSLTVKSLYEQVHHTSHDPISINGWIKSIRLLKRIAFLDLQDGTSVNPLRIVIPLTNTDEVQFLKILKTGQTLSISNATWQSTPNRKQPFELQIKNPVKSIKLVGPVSENYPLQKKYQTLRYLRSLPTLKYRTAYLSAILRLRSFVEFQFMLYFQKNHFTKVSPPILTSNDCEGAGELFQVSTNTSPTASSYFGKPTYLTVSTQLHLEILALSLSRCWTLSPCFRAEKSDTPRHLSEFWMLEVEMCFVNSVNELTSFVETTIKHIIKACIDNQQELLPKQFISSQENNASSELSINQETQQIKTRWEDLINEKWHNITYTNAIEILKKRHNEVSHFKYEPKWGQPLQTEHEKFLAGEYFKSPVFVTDYPRLCKPFYMKQNSTPDDTVGCFDLLVPGMGEIIGGSLREDDYDKLCREMKARGMNRSGELDWYVSLRKEGSAPHGGFGLGFERFISYLYGNHNIKDAIPFYRTSAESIDF',\n",
       " 'YCR024C-B': 'MCVCAIPFFEFFLPFIPHYAFLLFVSSVRFTVNERCYYLVCVLKLNCAFFFMVMIFELKRVCVSYLDRSRKIQIVSFFPFITIIFFHS',\n",
       " 'YCR024C-A': 'MTLPGGVILVFILVGLACIAIIATIIYRKWQARQRGLQRF',\n",
       " 'YCR025C': 'MSSFGHRAFFSCCPLLEGETLHSIKLRKEATYQTQSGWPVRWPIRYPRALPLESHVHPYHMIVKLPHPRTQPRLFLWLSLHWTGIPFLGKPGIGRNRVKSKQFSHFQQSKIKTTMRKKTTNRKQKAERCQYRLVTA',\n",
       " 'YCR026C': 'MELQNDLESLDNELNDFSEDPFRDDFITDEDAVRSGWRSAWTRMKYWFYKNRLKWTNNPIVIGDAKDSRDGSNFRRGIPLYELDANGQPIDTELVDENELSFGTGFHSKVPFKIIFRTLFGSLVFAIFLILMINIAKPHHSTRVLSHFGSPEFDPYVKYFNGTHEFFPLTIVISLDGFHPSLISKRNTPFLHDLYELKYDGGMNITSTPFMVPSFPTETFPNHWTLVTGQYPIHHGIVSNVFWDPDLNEEFHPGVLDPRIWNNNDTEPIWQTVQSAFDGDIPFKAATHMWPGSDVNYTKYNEEKLQPEHKNPIARERTPFYFDEFNAKEPLSQKLSKIIEYVDMSTLNERPQLILGYVPNVDAFGHKHGYPSESEYYYEDFTETLGEVDTFLKQLVESLQERNLTSFTNLVIVSDHGMSDIVVPSNVIIWEDLLDEKLRKDYVSHAYLEGPMMAISLKDSGNINEVYHNLKTSIDEDKYTVYVNGNFPKEWNFNDGKNHHMASIWIVPEPGYAVMKKEQLKKVAKGDHKDKNEDNVFTIGSHGYDNNAIDMRSVFIGMGPYFPQGYIEPFQNTEIYNLLCDICGVAEKDRNSNDGTGMLMNQLREPQSSEEVEIEDDFDYLVSKFGEFSTYNIIWGGYPEETEQDNVDNDNDDNDDGNTDEIAAMPSSSLTIKLEMTTSIPSATETLLGETSPSSRSSSSSSIQASATASTVGDWLQDIINDAKDLIDDIIDSIDDLVDSDT',\n",
       " 'YCR027C': 'MEYATMSSSNSTHNFQRKIALIGARNVGKTTLTVRFVESRFVESYYPTIENEFTRIIPYKSHDCTLEILDTAGQDEVSLLNIKSLTGVRGIILCYSIINRASFDLIPILWDKLVDQLGKDNLPVILVGTKADLGRSTKGVKRCVTKAEGEKLASTIGSQDKRNQAAFIECSAELDYNVEETFMLLLKQMERVEGTLGLDAENNNKCSIM',\n",
       " 'YCR028C': 'MMKESKSITQHEVERESVSSKRAIKKRLLLFKIDLFVLSFVCLQYWINYVDRVGFTNAYISGMKEDLKMVGNDLTVSNTVFMIGYIVGMVPNNLMLLCVPPRIWLSFCTFAWGLLTLGMYKVTSFKHICAIRFFQALFESCTFSGTHFVLGSWYKEDELPIRSAIFTGSGLVGSMFSGFMQTSIFTHLNGRNGLAGWRWLFIIDFCITLPIAIYGFIFFPGLPDQTSAVSKFSMTRYIFNEQELHYARRRLPARDESTRLDWSTIPRVLKRWHWWMFSLVWVLGGENLGFASNSTFALWLQNQKYTLAQRNNYPSGIFAVGIVSTLCSAVYMSKIPRARHWHVSVFISLVMVIVAVLIRADPLNPKVVFSAQYLGGVAYAGQAVFFSWANIICHADLQERAIVLASMNMFSGAVNAWWSILFFASDMVPKFERGCYALLATAISSGIVSVVIRSLQIKENLSKKQVPYIDANDMPGEDDDDDNQDNENDGDDESMEVELHNEEMAEISNPFR',\n",
       " 'YCR028C-A': 'MFLRTQARFFHATTKKMDFSKMSIVGRIGSEFTEHTSANNNRYLKYSIASQPRRDGQTNWYNITVFNEPQINFLTEYVRKGALVYVEADAANYVFERDDGSKGTTLSLVQKDINLLKNGKKLEDAEGQENAASSE',\n",
       " 'YCR030C': 'MTEQRTKYADSILTTKSPYEATETIRIRLSQVKLLNKDFYLLFKELANLKRNYAQQLRKIIAENEDITKILNAQMIESNVLTPQEMSAFRFNSLGELRNVWDTVIEELKSDLKSSTEYYNTLDQQVVRELKESVENNTSWRESKDLHSKLSKNAASIEHYSKNNENSSHLEEARRQWDQQSPYLFELFETIDYNRLDTLKNCMLRFQTSFSDYLLNTTKECETVMTKFLAFEPQSEIDRFAKDASQYNFQLSSSSKEVVPNNASPASATGARPVSVSNGAANTEREKKSPQKDKRKSAFGNIGHRLASASSSLTHNDLMNNEFSDSTNNSSLKSKKSSHTLRSKVGSIFGRNKTKNKRQQQSSSNSHIQASITETPNNSSTRVSSTATSSIYQKQRRPTYSSSKSNNWTPGEASDTPPLPPHATPKNVDAPVTADTPPAQTFTPSEVPPSTPQQSSPPTAKEPDSSNLPKTVPISISQPPLQPQSKTKPLPVEPASPSISLPTATVDNQPSGQVDSRPLHIRAPALPPSRKQNFIHNRDSQLYDSLPNHGSGATPTSSSLSSIPQERPVSTLSSQITGELRELNPQATGSSTSLVGQSLFQHSSLDTSQFGLNASIAEVLNASFKDGMLQNSQLIGEIALNYLPNSVMNSPLPIGINLRINNGAKFEKVILNQAFIERVAPEEFKVNPSFIDSRTLGAIKYSIKEPIAPIVIHPVWRFESHQASVVLTVKMSPSLPDEISQIVIEDLVVFVNIDGANATSALSKPQGSFSKEKKRITWRFKEPVVLTRNGEGQRLIARFITDGLAHESAKGVITKFTISETDNVALPHSGAGSGITLTCQELDENNPFGGEWLDVNTKRTLTTGNYHGLA',\n",
       " 'YCR031C': 'MSNVVQARDNSQVFGVARIYASFNDTFVHVTDLSGKETIARVTGGMKVKADRDESSPYAAMLAAQDVAAKCKEVGITAVHVKIRATGGTRTKTPGPGGQAALRALARSGLRIGRIEDVTPVPSDSTRKKGGRRGRRL',\n",
       " 'YCR032W': 'MNSIINAASKVLRLQDDVKKATIILGDILILQPINHEVEPDVENLVQHELTKIIQGYPIQDNMIINSKKGTVEDDLCELNNYTCFALSKSFDLCHDSRNFNIAQPKRWIQLLETLTDSVSFAVIVQIILTLSNISLINKQTLGKLKKLRIRIFEILSNKNDSWKSTLLQKNLIEWYIFMLSVDCTPLELQNLYLHKELKFCNGILNSLTLQVSDPRSQNYLQFENTYKLFQIQKSSRINNSFLFYIEFNSVTSNRIMTIERHIYLEIKEGQFCISNDNYIIGLFENFEFEAGTLYFIGVLIDHNNRITLYVDGSMINQLTLFENSICQLSTCELGSMICSIKVYRFYLWDGLLTEFAINILQAIGTNYQYTFSKKKEGPEVLSLCQDFLIAKAHLMARPTTEISSTKYIDEIELLEMENIIIDVNPNDILQDFTESSNFTVKFEESTNSKNIPEVGKCYFYRSSNLVSKFVSIDSIRLAFLNMTESGSIDDLFHHVSHLMNLLRNIDILNWFKKDFGFPLFAYTLKQKITQDLSQPLNIQFFNLFLEFCGWDFNDISKSIILDTDAYENIVLNLDLWYMNEDQSSLASGGLEIIRFLFFQISSLMEASIYSKFNSNKFNDMNILEKLCLSYQAVTKRENQNSKFNELSSDLISVFVTLLKSNTDKRHLQWFLHLSYYFIKRKDVRSTEIILQAVDQLFSFYLDQGSDENAKILSEIIPLKLILMIMDQIVENNESNPITCLNILFKVVLTNKPLFKQFYKNDGLKLILTMLCKVGKSYREEIISLLLTYSIGNYTTANEIFSGAEDMIGGISNDKITAKEIIYLAVNFIEWHVINSNASDSSSVLDLNNHILRFVEDLKSLSAVPINESVFDPKKSYVMVSLLDLSIALNESEDISKFKSSSKVISELIKGNIMCALTKYAAYDFEVYMSTFFCHSTEYKLVYPKTVMNNSSYLELSFIVTLLPEILNDLVDSNNNLNLMMLKHPYTMSNLLYFLRKFRPDTSQIVMPKDFYFSSYTCLLHCVIQIDKSSFYHFKNVSKSQLLQDFKICIMNLIYSNTLKQIIWEKEEYEMFSESLMAHQEVLFAHGACDNETVGLLLIFFANRLRDCGYNKAVFNCMKVIIKNKERKLKEVACFFDPANKSEVLEGLSNILSCNNSETMNLITEQYPFFFNNTQQVRFINIVTNILFKNNNFSPISVRQIKNQVYEWKNARSEYVTQNNKKCLILFRKDNTSLDFKIKKSISRYTYNLKTDREENAVFYRNNLNLLIFHLKHTLEIQSNPNSSCKWSSDFAEDFDGMKRRLLPAWEPKYEPLINEEDANQDTITGGNRQRRESGSILSYEFIEHMETLESEPVGDLNENRKILRLLKDNDSIATIWNCSLIIGLEIKEGILIHGSNYLYFVSDYYFSLEDKKILKLSEVSQESRDMTVSLINGPDVKRVSTFLKHEVFVWKLLDITFVTKRPFLLRDVAIELLFKERVSAFFSFYNKRVRDDVLRVLNKIPKHLPADPIFSSVLQEINDRGNSIVARNGIGKASIASKFTSVFSANNSLIDGFEISKKWVRGEISNFYYLLSINILAGRSFNDLTQYPVFPWVIADYESNVLDLENPKTYRDLSKPMGAQSEKRKLQFIERYEALASLENADSAPFHYGTHYSSAMIVSSYLIRLKPFVESFLLLQGGSFGPADRLFSSLERAWSSASSENTTDVRELTPEFFFLPEFLINVNSYDFGTDQSGKKVDDVVLPPWANGDPKVFIQKNREALESPYVSAHLHEWIDLIFGYKQKGDIAVKSVNVFNRLSYPGAVNLDNIDDENERRAITGIIHNFGQTPLQIFQEPHPEKIACNVQQLTTEVWRKVPMKPIFEKTIFNLNEKNRSVDYVIHDPSYFDSLYWRGFAFPNLFFRTEESLVSLRIVHKNWLKIGLDIFKKTHMAQITSFAYWKLGEFITGDKNGLIKVWKYRKDKHSVSGNLENKKTMFGHLCELKEMRCYHDYNTLLTLDISGLVYVWDMINFELVRQITNDAQKVAISQHAGSIMVLTKNNAISIFNLNGQIYTSKKFEPAKIVSSIDFFDFTKLDAGYRKHIYWKEMEILLVGFEDGTIEIYELFLNFHNEWAIKLLKQLCTEKGKAITSIKGQGKTYLSQKRRKDTAEPHEIEVIAGTLDGRLAIWY',\n",
       " 'YCR033W': 'MGYPPPTRRLGDKKRYHYSNNPNRRHPSAVYSKNSFPKSSNNGFVSSPTADNSTNPSVTPSTASVPLPTAAPGSTFGIEAPRPSRYDPSSVSRPSSSSYSSTRKIGSRYNPDVERSSSTTSSTPESMNTSTITHTNTDIGNSRYSRKTMSRYNPQSTSSTNVTHFPSALSNAPPFYVANGSSRRPRSMDDYSPDVTNKLETNNVSSVNNNSPHSYYSRSNKWRSIGTPSRPPFDNHVGNMTTTSNTNSIHQREPFWKANSTTILKSTHSQSSPSLHTKKFHDANKLDKPEASVKVETPSKDETKAISYHDNNFPPRKSVSKPNAPLEPDNIKVGEEDALGKKEVHKSGREIAKEHPTPVKMKEHDELEARAKKVSKINIDGKQDEIWTTAKTVASAVEVSKESQKELTRSVERKESPEIRDYERAYDPKALKTDVTKLTVDNDNKSYEEPLEKVEGCIFPLPKAETRLWELKNQKRNKIISEQKYLLKKAIRNFSEYPFYAQNKLIHQQATGLILTKIISKIKKEEHLKKINLKHDYFDLQKKYEKECEILTKLSENLRKEEIENKRKEHELMEQKRREEGIETEKEKSLRHPSSSSSSRRRNRADFVDDAEMENVLLQIDPNYKHYQAAATIPPLILDPIRKHSYKFCDVNNLVTDKKLWASRILKDASDNFTDHEHSLFLEGYLIHPKKFGKISHYMGGLRSPEECVLHYYRTKKTVNYKQLLIDKNKKRKMSAAAKRRKRKERSNDEEVEVDESKEESTNTIEKEEKSENNAEENVQPVLVQGSEVKGDPLGTPEKVENMIEQRGEEFAGELENAERVNDLKRAHDEVGEESNKSSVIETNNGVQIMDPKGAVQNGYYPEETKELDFSLENALQRKKHKSAPEHKTSYWSVRESQLFPELLKEFGSQWSLISEKLGTKSTTMVRNYYQRNAARNGWKLLVDETDLKRDGTSSESVQQSQILIQPERPNINAYSNIPPQQRPALGYFVGQPTHGHNTSISSIDGSIRPFGPDFHRDTFSKISAPLTTLPPPRLPSIQFPRSEMAEPTVTDLRNRPLDHIDTLADAASSVTNNQNFSNERNAIDIGRKSTTISNLLNNSDRSMKSSFQSASRHEAQLEDTPSMNNIVVQEIKPNITTPRSSSISALLNPVNGNGQSNPDGRPLLPFQHAISQGTPTFPLPAPRTSPISRAPPKFNFSNDPLAALAAVASAPDAMSSFLSKKENNN',\n",
       " 'YCR034W': 'MNSLVTQYAAPLFERYPQLHDYLPTLERPFFNISLWEHFDDVVTRVTNGRFVPSEFQFIAGELPLSTLPPVLYAITAYYVIIFGGRFLLSKSKPFKLNGLFQLHNLVLTSLSLTLLLLMVEQLVPIIVQHGLYFAICNIGAWTQPLVTLYYMNYIVKFIEFIDTFFLVLKHKKLTFLHTYHHGATALLCYTQLMGTTSISWVPISLNLGVHVVMYWYYFLAARGIRVWWKEWVTRFQIIQFVLDIGFIYFAVYQKAVHLYFPILPHCGDCVGSTTATFAGCAIISSYLVLFISFYINVYKRKGTKTSRVVKRAHGGVAAKVNEYVNVDLKNVPTPSPSPKPQHRRKR',\n",
       " 'YCR035C': 'MAESTTLETIEIHPITFPPEVLARISPELSLQRHLSLGIRPCLRKYEEFRDVAIENNTLSRYADAGNIDTKNNILGSNVLKSGKTIVITSITGGIIEETSAAIKDLDDFGEEELFEVTKEEDIIANYASVYPVVEVERGRVGACTDEEMTISQKLHDSILHSRILPKKALKVKAGVRSANEDGTFSVLYPDELEDDTLNETNLKMKRKWSYVLYAKIVVLSRTGPVFDLCWNSLMYALQSVKLPRAFIDERASDLRMTIRTRGRSATIRETYEIICDQTKSVPLMINAKNIAFASNYGIVELDPECQLQNSDNSEEEEVDIDMDKLNTVLIADLDTEAEETSIHSTISILAAPSGNYKQLTLVGGGAKITPEMIKRSLLLSRVRADDLSTRFNI',\n",
       " 'YCR036W': 'MGITVIGSLNYDLDTFTDRLPNAGETFRANHFETHAGGKGLNQAAAIGKLKNPSSRYSVRMIGNVGNDTFGKQLKDTLSDCGVDITHVGTYEGINTGTATILIEEKAGGQNRILIVEGANSKTIYDPKQLCEIFPEGKEEEEYVVFQHEIPDPLSIIKWIHANRPNFQIVYNPSPFKAMPKKDWELVDLLVVNEIEGLQIVESVFDNELVEEIREKIKDDFLGEYRKICELLYEKLMNRKKRGIVVMTLGSRGVLFCSHESPEVQFLPAIQNVSVVDTTGAGDTFLGGLVTQLYQGETLSTAIKFSTLASSLTIQRKGAAESMPLYKDVQKDA',\n",
       " 'YCR037C': 'MRFSHFLKYNAVPEWQNHYLDYNELKNLIYTLQTDELKQETPTGDLNDDADSQTPGPIADIESNIAAGEPSSSKRRFTHKLKRKLFGSKTPSGSKRGDSDEKAIDGNNINEETIELDELSPQGKTTSFNKNFIRKKFFESRSSSVSSEGKTLFSSYDTFVTNLSDEKLKVDDFYKRMEAKFYERFDHLINDLEKEGIVTRLNETFNPEIQALPPLREIISGTSETHSSNNPFEIHSSNIDSELRNRFDYSEEEMDEDDDVDVFADTTDNTALLNYSQFNIKSQKKSLLKQTIINLYIDLCQLKSFIELNRMGFSKITKKSDKVLHMNTRQELIESEEFFKDTYIFQHETLSSLNSKIAQLIEFYAVLMGQPGNVDSCKQELKSYLHDHIVWERSNTWKDMLGLSSQNNDIITIEDEAEKLMQEKLQIEYFKYPLPKPINLKFTKIENLAVPKLFFGKRAMKIGFIIIVTGVLLGVKTFNDPVEHRCMALVECCAFLWASEAIPLHITGLLVPLLTVLFRVLKDDDGKVMGAAAASTEILGTMWSSTIMILLAGFTLGEALSQYNVAKVLASWLLALAGTKPRNVLLMAMSVVFFLSMWISNVASPVLTYSLLTPLLDPLDYTSPFAKALVMGVALSADIGGMASPISSPQNIISMQYLKPYGIGWGQFFAVALPTGILSMLCSWALMILTFKIGKTKLEKFKPIRTRFTIKQYFIIIVTIATILLWCVESQIESAFGSSGEIAVIPIVLFFGTGLLSTKDFNTFPWSIVVLAMGGIALGKAVSSSGLLVTIARALQKKIQNDGVFAILCIFGILMLVVGTFVSHTVSAIIIIPLVQEVGDKLSDPKAAPILVFGCALLASCGMGLASSGFPNVTAISMTDKKGNRWLTVGAFISRGVPASLLAFVCVITLGYGISSSVLKGST',\n",
       " 'YCR038C': 'MSPKNKYVYICVEYIYIYFAKIHKQSTLSSDTTKMFVLIDNVLAYLLEQDDLFVTARFAIQGQIVSRRVNKIHISNITDVLLQQFISHTLPYNDNIVPKKILDSMRTAVRQLLEATACVSRECPLVKRSQDIKRARKRLLSDWYRLGADANMDAVLLVVNSAWRFLAVWRPFVNSIQHATQELYQNIAHYLLHGNVNIQRVTALIQLVMGQDDLLFSMDDVLQEVFRIQLYLNKMLPHNSHKWQKPSPFDSANLLLNFRDWTTDNALLQELLLSYPTINKNKHKNHSVPRLIQIWVESYWQDSETTLKDILNFWYSHLAEYYEYQELFADIVQLFINKKRTRQLKIHYIGLTDKEIEENKPPLDYENLFLQYEIDKTNANDELCGATDLSDLLFQWKQGELLEVEAFALNVSPWSLAKTLTLLESSLYLDIETIEFTRHFKHNDTTIDSVFTLSNQLSSYVLETTLQQTHTISYWLQVALSCLYLRNLNSLASIITSLQNHSIERLSLPIDVKSDHLFQRLKVVVHPNNNYNVYRRTIKHIFHSQLPCVPFTSLLIRDITFIRDGNDTFTKDGNNVNMQKFNQITKIVAFAQYLQQKQYEDIHCSNTTARSLLGAMIKVHTLYNDNKDRAYQVSIAKVPRLT',\n",
       " 'YCR039C': 'MNKIPIKDLLNPQITDEFKSSILDINKKLFSICCNLPKLPESVTTEEEVELRDILGFLSRANKNRKISDEEKKLLQTTSQLTTTITVLLKEMRSIENDRSNYQLTQKNKSADGLVFNVVTQDMINKSTKPYRGHRFTKENVRILESWFAKNIENPYLDTKGLENLMKNTSLSRIQIKNWVSNRRRKEKTITIAPELADLLSGEPLAKKKE',\n",
       " 'YCR040W': 'MFTSKPAFKIKNKASKSYRNTAVSKKLKEKRLAEHVRPSCFNIIRPLKKDIQIPVPSSRFLNKIQIHRIASGSQNTQFRQFNKTSIKSSKKYLNSFMAFRAYYSQFGSGVKQNVLSSLLAEEWHADKMQHGIWDYFAQQYNFINPGFGFVEWLTNNYAEVRGDGYWEDVFVHLAL',\n",
       " 'YCR041W': 'MLKYVVTDIGKMCLYIWPYRVWSWRRLFIFRVLNVVSIAILFETPHRLALVPNVCLYTHMAIPLSTCLFCLCLCICIKYDITQTQANNQFLASFFVLILTINDLDVTFVI',\n",
       " 'YCR042C': 'MMSFSKNATPRAIVSESSTLHEMKFRNFRVAHEKISLDIDLATHCITGSATIIIIPLIQNLEYVTFDCKEMTIKDVLVENRRCDQFIHDDPLQTNLNGLTSQNVLYSDNSIEQSHFLRSKFASLNEYPETDSKSQLTIKIPSSIKISLEDANALSNYTPITPSIKTTPGFQESVFTPITLQIEYEIRNPKSGIKFDTVYADKPWLWNVYTSNGEICSSASYWVPCVDLLDEKSTWELEFSVPRLVKNIGTSKLIGQNGEESEKEKEDTPEHDEEEEGKPARVIKDEDKDSNLKNDEEGKNSKSKDAQDNDEEEEEGESDEEEEEGEEERRNIEESNNPSLRDVIVCCSEYSNIKELPHPIDLTKKKCIFQIINPVAPHHIGWAIGAFNSWSLPLISPPSVDAEDEVEEDKLRENVVDNVNDTMDDDIGSDIIPIQIFTLPTQETDELTVINSTVVCQKIIDFYSKEFGSYPFTCYSMVFLPTAPSKHMDFAALGICNTRLLYPLEVIDKAFSTTNELAWALANQWSCVNITPLDMNDYWCCLGIAGYMVFQVTKKLMGNNTYKYQLKRNSEAIVEQDFEKPPIGSTFTGSSRPISWSSKDLSFIQLKAPMILHILDRRMTKTERSFGMSRVLPKIFLQAMSGDLPNNSLTSSHFQHVCERVNKSKLENFFNEWVYGSGVPILRVTQRFNRKRMVIELGIRQVQDEELGHEKVVGEEGFFKSALDHLEHPDLNRTECFTGSMTIRIHEHDGTPYEHIVEIKDTFTKIDIQYNTKYRRLRKRGGGANDENGVENNNEEKPIVVDVNCLGNVYMSPEECSRFSLTEFNRTSESNELLKQNEAFEWIRIDSDLEWICQMHINQPDYMFSSQLRQDGDIEAQLEAIRYYEDVVVNGGVKSLVYSSILFRTAIDERYFFGIRLAACEALSKYVYDPDFTGGVKHLIQIFQILFCLEDSNIPKSNNFENPKLYFLQCNIPKYLAKVKNENGKCPKLVKQFLLDILVYNENGENKYSDDAYVRSLIENVVKVALNEYKDKAYMEKVKTQLLRYENLVNWLSSYESLIKTTIMYAKYKLHKVGAYDFTELTGMIMHTLTLGINNGDISRESFQNEFLMVLKIMLLEGGLKNKDALVLFTEILCFHEDSYIRDKSVDVLSECVNLVVMDGSLDTISDDIKSSVQSVHNEVKNIKSEDDIELFLSGHYVDDMKIKIEKIGRQNISGLIQICRDMFKGYSPLKILLWDVLNLPVLSLYQRKQIHDLVRVMYTLINSFVVRLETPRERRLVAKMNSNEEGKLDIVIKRESILKVHIKKEVTSTVEAPKKANKIKISLKGDKPVRKVEKQIVKPKVTSKQRKVKSHVNRMGSLPLRFVKIQQQPRVMVHLSSVPYSQFVQITKVTSRSFMVKIRTKNDAKN',\n",
       " 'YCR043C': 'MIPAPLDASLLREHAFQGTNDLSTVLSPSTFTDEGGYKPVLKYGLGYFNYGLVIDDEVYDYSVCDIIRGHVYDHFWCYFCCFMILFTIWLISLNWCPSSKKSKFDWSKKKDDFKMEGGDLEYQHVKI',\n",
       " 'YCR044C': 'MRLAVVVTLLVHCFLVTCSPGDNLDEFIDCTYACEYNRRCPNSQINYIDPETNMFHDIEFFDTPPLYSKLLFWDCISDCDYQCQHIITRWRIDEEEEIYQFHGKWPFLRVLGTQEFFSTIFSIGNFIPHYKGFVKFSRIIREEGDRRRKNSRSILIWNYLYVTVAGMLAWTASSVFHCRDLIITEKLDYFFAGLTVLTGFHAIFARMTSMFLYPKIAQAFTASVAAIFALHILRLYVDWSYTYNMRFNIFFGVLQYILLIMLSCQNYHALQKQKLMGEFKKTAYSSFKRQIFKLCVIPILLVIVTTMAMSLELFDFFSYEWQIDAHALWHLCTIWPSWVLYDFFLEDYAYWGNRQLY',\n",
       " 'YCR045C': 'MKPQCILISLLVNLAYAEEYLVRFKNPTAFQQFTSNSNRSWRQFIDNKIEKKFSIGSFRGVTMNLSKNLVNKLKKSPLVADIVPNFRFEAFEGDSVNSAESSYTFNATAKYSYEDVEEEQNITYQPDAPRHLARISRHYQLPFDVGDKDRYKSWFNYYYEHDYQGQDVNAYIMDTGIFADHPEFEDRVIQGIDLTKEGFGDQNGHGTHVAGLVGSKTYGAAKRVNLVEVKVLGKDGSGEASNVLSGLEFIVEHCTKVSRPQGKKCVANLSLGSFRSPIINMAVEGAIEEGIVFVAAAGNFNLDAYWASPASAENVITVGAFDDHIDTIAKFSNWGPCVNIFAPGVEIESLSHLNYNDTLILSGTSMSTPIVTGVAAILLSKGIEPEMIAQEIEYLSTRNVFHRRTLFFKPSTPNQILYNGVDKLDDPYDDETFPRLNIEAIAKELEEYNATLQTPMSENLQSGSKLWGWNNDVTLPLGEIRLKRRDFMKNL',\n",
       " 'YCR046C': 'MWSRNVRLLGSWTRSYMVPATKRKTIPVYPPVQRIASSQIMKQVALSEIESLDPGAVKRKLISKKNKDRLKAGDVVRIVYDSSKCSYDTFVGYILSIDRKQLVQDASLLLRNQIAKTAVEIRVPLFSPLIERIDLLTPHVSSRQRNKHYYIRGTRLDVGDLEAGLRRKK',\n",
       " 'YCR047C': 'MSRPEELAPPEIFYNDSEAHKYTGSTRVQHIQAKMTLRALELLNLQPCSFILDIGCGSGLSGEILTQEGDHVWCGLDISPSMLATGLSRELEGDLMLQDMGTGIPFRAGSFDAAISISAIQWLCNADTSYNDPKQRLMRFFNTLYAALKKGGKFVAQFYPKNDDQVDDILQSAKVAGFSGGLVVDDPESKKNKKYYLVLSSGAPPQGEEQVNLDGVTMDEENVNLKKQLRQRLKGGKDKESAKSFILRKKELMKRRGRKVAKDSKFTGRKRRHRF',\n",
       " 'YCR048W': 'MTETKDLLQDEEFLKIRRLNSAEANKRHSVTYDNVILPQESMEVSPRSSTTSLVEPVESTEGVESTEAERVAGKQEQEEEYPVDAHMQKYLSHLKSKSRSRFHRKDASKYVSFFGDVSFDPRPTLLDSAINVPFQTTFKGPVLEKQLKNLQLTKTKTKATVKTTVKTTEKTDKADAPPGEKLESNFSGIYVFAWMFLGWIAIRCCTDYYASYGSAWNKLEIVQYMTTDLFTIAMLDLAMFLCTFFVVFVHWLVKKRIINWKWTGFVAVSIFELAFIPVTFPIYVYYFDFNWVTRIFLFLHSVVFVMKSHSFAFYNGYLWDIKQELEYSSKQLQKYKESLSPETREILQKSCDFCLFELNYQTKDNDFPNNISCSNFFMFCLFPVLVYQINYPRTSRIRWRYVLEKVCAIIGTIFLMMVTAQFFMHPVAMRCIQFHNTPTFGGWIPATQEWFHLLFDMIPGFTVLYMLTFYMIWDALLNCVAELTRFADRYFYGDWWNCVSFEEFSRIWNVPVHKFLLRHVYHSSMGALHLSKSQATLFTFFLSAVFHEMAMFAIFRRVRGYLFMFQLSQFVWTALSNTKFLRARPQLSNVVFSFGVCSGPSIIMTLYLTL',\n",
       " 'YCR050C': 'MVAVHKVRYNVIMILGPEQTPNEKTTLDNCGLARRNLVLLKAVHTNCDSWNMNRYPLTLLKMANMAISWNTALKKKVNNVAWLLLKCNAPMELWYTCLSKNL',\n",
       " 'YCR051W': 'MNANIWVAASDGNLDRVEHILRESKGAMTPQSKDINGYTPMHAAAAYGHLDLLKKMCNEYNGDINVLDNDGDTPLHHVEDVATARLIVEELGGDFTIRNVEGQTPYDSFVENGEDGELIEYMRIKSGVADVHGVDGVQGEGVIDSKLLEEFKDNVRYTLENDPEEGADEATLQRRRQLEQIITGDNAEEELERYIRAMVREQMLGQGSMAGSGDEPDSKRRK',\n",
       " 'YCR052W': 'MVTQTNPVPVTYPTDAYIPTYLPDDKVSNLADLKKLIEMDSRLDLYLTRRRLDTSINLPTNTKTKDHPPNKEMLRIYVYNTTESSPRSDSGTPADSGKTTWTLRIEGKLLHESANGKHPFSEFLEGVAVDFKRLKPLGMGKKRKRDSSLSLPLNLQQPEYNDQDSTMGDNDNGEDEDSAEAESREEIVDALEWNYDENNVVEFDGIDIKRQGKDNLRCSITIQLRGVDGGKVQYSPNLATLIGMQTGSVNDAVYSIYKYILINNLFVTEQTEAQDGSNDAEDSSNENNNKNGAGDDDGVEGSTPKDKPELGEVKLDSLLQKVLDTNAAHLPLMNVVQTVNKLVSPLPPIILDYTIDLSKDTTYGATTLDVDVSHILHQPQPQPNLQKEEETDAEDTAKLREITKLALQLNSSAQKYQFFHELSLHPRETLTHYLWSSKQNELVLQGDQYFNEDAARTSDIYSNNNNDRSLMGNISLLYSQGRL',\n",
       " 'YCR053W': 'MPNASQVYRSTRSSSPKTISFEEAIIQGLATDGGLFIPPTIPQVDQATLFNDWSKLSFQDLAFAIMRLYIAQEEIPDADLKDLIKRSYSTFRSDEVTPLVQNVTGDKENLHILELFHGPTYAFKDVALQFVGNLFEYFLQRTNANLPEGEKKQITVVGATSGDTGSAAIYGLRGKKDVSVFILYPTGRISPIQEEQMTTVPDENVQTLSVTGTFDNCQDIVKAIFGDKEFNSKHNVGAVNSINWARILAQMTYYFYSFFQATNGKDSKKVKFVVPSGNFGDILAGYFAKKMGLPIEKLAIATNENDILDRFLKSGLYERSDKVAATLSPAMDILISSNFERLLWYLAREYLANGDDLKAGEIVNNWFQELKTNGKFQVDKSIIEGASKDFTSERVSNEETSETIKKIYESSVNPKHYILDPHTAVGVCATERLIAKDNDKSIQYISLSTAHPAKFADAVNNALSGFSNYSFEKDVLPEELKKLSTLKKKLKFIERADVELVKNAIEEELAKMKL',\n",
       " 'YCR054C': 'MPMNNFLDEFNLFDSIITMMKNDPCCVEDYEPIVENLNRIFQRTFNDEEHRKSMANSQLFWERLRDTLEAMLLPASLNENSSIPYTRTVRGLILMMRNLAAENQEIPQKLLLQNLVIRGFLHATSEYVVDTPLIKHLYIACLTCLFNIQQNYSTVDMTTFPALLQFLQYPYGIKLEDGEEEEHFWLPYLFLFKTYLNNDEFSNEFFRDNDTPQKDYYCVRDRIFFDIVTAKFIQDQENSFLIEKGRNYLDDSKLEITSIDLSVLECISKSLTTASFGKYLNGLEERQPGKFTTLLQILQLVVTSKEDWNTYELTAIMSWCYPILQRLACKDIPAFFNKSCNDYAPSVAIQLHSTLLSCLDIISDLCKFNHVRKFLISYDSVKILVSLLDTFQKNLLRINFLKGNGDTVNEIKITDHEGNKIEDRLLIFNRVNTNESFIRADNFPHCKLVIIEILASLVYAHPEIQDQIRELGGLALILSNCVIDDNDPFIKERSIVCLKFLLKNNAKNQEYVKKMEAQDVVQDDALSKAGFEISVEKGGKVRLVSKEEDPGNENSEIISIDED',\n",
       " 'YCR057C': 'MKSDFKFSNLLGTVYRQGNITFSDDGKQLLSPVGNRVSVFDLINNKSFTFEYEHRKNIAAIDLNKQGTLLISIDEDGRAILVNFKARNVLHHFNFKEKCSAVKFSPDGRLFALASGRFLQIWKTPDVNKDRQFAPFVRHRVHAGHFQDITSLTWSQDSRFILTTSKDLSAKIWSVDSEEKNLAATTFNGHRDYVMGAFFSHDQEKIYTVSKDGAVFVWEFTKRPSDDDDNESEDDDKQEEVDISKYSWRITKKHFFYANQAKVKCVTFHPATRLLAVGFTSGEFRLYDLPDFTLIQQLSMGQNPVNTVSVNQTGEWLAFGSSKLGQLLVYEWQSESYILKQQGHFDSTNSLAYSPDGSRVVTASEDGKIKVWDITSGFCLATFEEHTSSVTAVQFAKRGQVMFSSSLDGTVRAWDLIRYRNFRTFTGTERIQFNCLAVDPSGEVVCAGSLDNFDIHVWSVQTGQLLDALSGHEGPVSCLSFSQENSVLASASWDKTIRIWSIFGRSQQVEPIEVYSDVLALSMRPDGKEVAVSTLKGQISIFNIEDAKQVGNIDCRKDIISGRFNQDRFTAKNSERSKFFTTIHYSFDGMAIVAGGNNNSICLYDVPNEVLLKRFIVSRNMALNGTLEFLNSKKMTEAGSLDLIDDAGENSDLEDRIDNSLPGSQRGGDLSTRKMRPEVRVTSVQFSPTANAFAAASTEGLLIYSTNDTILFDPFDLDVDVTPHSTVEALREKQFLNALVMAFRLNEEYLINKVYEAIPIKEIPLVASNIPAIYLPRILKFIGDFAIESQHIEFNLIWIKALLSASGGYINEHKYLFSTAMRSIQRFIVRVAKEVVNTTTDNKYTYRFLVSTDGSMEDGAADDDEVLLKDDADEDNEENEENDVVMESDDEEGWIGFNGKDNKLPLSNENDSSDEEENEKELP',\n",
       " 'YCR059C': 'MDDDHEQLVEELEAVEAIYPDLLSKKQEDGSIIVVKVPQHEYMTLQISFPTHYPSEEAPNVIEVGVCTSLAKRDLYDTKYLQHLFQEVMDSVFHRGSVCLFDFLTELDGVLYVEPEEETEPVQQSDIPTDPFEGWTASDPITDRGSTFMAFAAHVTSEEQAFAMLDLLKTDSKMRKANHVMSAWRIKQDGSAATYQDSDDDGETAAGSRMLHLITIMDVWNVIVVVARWFGGAHIGPDRFKHINSTAREAVVRAGFDS',\n",
       " 'YCR060W': 'MSQFEKQKEQGNSLFKQGLYREAVHCYDQLITAQPQNPVGYSNKAMALIKLGEYTQAIQMCQQGLRYTSTAEHVAIRSKLQYRLELAQGAVGSVQIPVVEVDELPEGYDRS',\n",
       " 'YCR061W': 'MVRFVSILSLFGCAATLVTAHDDMDMDMDMDMDMDMNIDTTTSQSIDVSSTASIVPVPHEPKHLHGLPILQSPSLTPAERLYWENYNTTTYFTTQAGNRSALRYHIITLLLVAFVLYPVSLALSAARSRWYLPLLFVNLCICISSVMALSVFKNTFPEEDWYAHNIYGTTSVLLLVFMLVHFFAAVLSVPVSLASKKEYRPVDTIPLNDLESTPVMVNSARGSPSPSSNRDTLFSLSSDTTTATATNNNKRRRAEGEDEGDNTSNHDTLRDEDYDNDDDEIASIEAPPLLPQDIPVFRILFTNTKYQMLAAHLSCVANVVFHMLTYPLFMYIFVDLIIGFAVGNLLGKGIRIFNLLAHWIKGGVFFTLGVVSLARYCGFAAKYGWAWNNISFTSQLTQTRSSNLLFRFAPAGTFTMEFVESFLIFFYGSTNIFLEHLAGNGGAWTAKDLQHVSIAFMFIGTGLCGLLTEYKLNHWRFEHARKRPQTDVVAATPGYSPNPFPAFTIFWTGILMSQHAQSSQFSTTIHTQWGYLLSYGSFFRLLTFLILFLVPNTNSAASKPFTELITSFCLLCGGLVFMESTDQSIEAMEYRGFTPMFTFNLSVGFVSLLMAWEMILFIWKDWLIKTRKTSL',\n",
       " 'YCR063W': 'MPRIKTRRSKPAPDGFEKIKPTLTDFEIQLRDAQKDKSSKLAAKSNEQLWEIMQLHHQRSRYIYTLYYKRKAISKDLYDWLIKEKYADKLLIAKWRKTGYEKLCCLRCIQKNETNNGSTCICRVPRAQLEEEARKKGTQVSFHQCVHCGCRGCASTD',\n",
       " 'YCR065W': 'MMNEDISIIDGHNSFLTEKSTVLLTQAKRTLEDEKEMITPPSSTVRKTMKEVNKRPSHPLSPDHSSPIAPSKAKRQRSDTCARSNGNLTLEEILQSLERRRINGELAKKPPYSYATLICLAILQSQEGKLTLSQIYHWIHVHFPYYKQKDASWQNSIRHNLSLNDAFIKTEKSCDGKGHFWEVRPGAETKFFKGENRGYEFVKDSLQDIGKYFEIDSTLDELEQVESGEGNDDLPDEEEREEAGKFPSIEIQLNSSPILRVSQLHHIPQLKTDNSVLNPHENLESMRNMIENDVNNIDSLEPPYVMKKYHTSLGLPSLVNAKDHFQAGVKNNNITQANRFNTLPITSAKSPQNFRKYFTSFNSNFEDLSPLRSNVGAGSLLDPLPYSPLKLYDQKNLALMSKPQSQQSYSNSQLPPPPSSHGSDLLKTPKMRHSDGLEKTPSRLISTPKDGNSILRKWQTPSHLFEDLYCSPLFRAIETPIRYITTPGGTLETQISPRKSSAPDVLTSATNSKFASSGLFGVDVYSVWKRATEKISDGNNTTDSNQKHHPYHNHPSNDSGNEKN',\n",
       " 'YCR066W': 'MDHQITTASDFTTTSIPSLYQLDTLLRCHICKDFLKVPVLTPCGHTFCSLCIRTHLNNQPNCPLCLFEFRESLLRSEFLVSEIIQSYTSLRSSLLDALRIPKPTPVPENEEVPGPENSSWIELISESESDSVNAADDDLQIVATSERKLAKRSMTDILPLSSKPSKRNFAMFRSERIKKKSKPNEQMAQCPICQQFYPLKALEKTHLDECLTLQSLGKKPKISTTFPTESNPHNKSSSRFKVRTPEVDKSSCGETSHVDKYLNSMMSAEHQRLPKINFTSMTQSQIKQKLSSLGLSTNGTRQNMIKRYNHYEMLWNSNFCDSLEPVDEAELKRQLLSWDVSHNKTPQNSSNKGGISKLMIMKSNGKSSSYRKLLENFKNDKFNRKGWMVMFRKDFARLIREAKMKIKTGSSDSSGSVGHSNDGDGVEKVQSDQGTEDQQMEKDQDTVINEDRVAGERNLPNEDSTDADLSRELMDLNEYSKDPPGNN',\n",
       " 'YCR067C': 'MSGNSANYDVGYPIYGAKFINEGTLLVAGGGGQFNSSFPNKITALKVNFQKKKHIRRFREITLDSIDDAPTSLDCNNNLILVGCNELFNDSSMENVNHHLRKFVFEQEHLKFVASIDFNRTTDPSVFTKFVYINQRATVAAIASSEVPTVIRIIDPRNLTENYEIETGREVNDLHFAPNGILLSYITSNSLEVASVRDGNFVARKTDFDKNLVLSNIRFLNDNTLLVAASLSNSDGVSLLKLGVSSKGVKILKTASFMFDLNGITSMDVSPNKKFVALSSNDNLVAIVSVEKLKLVQLVPRVHESTITKVTFSPDSRYLASTSMGNTINVLKLSGTSSSILRNIWKFFLNFVLLVVLAGAIQLGYKHNVHGFIYKHAHDIYKSKFKENTTIDQGSSSYFTINDDYRGITESADIISATDVASDIETEFSSFDTSTMRTTTEDEQKFVWISSSADSQFTSADIPTSASSSSSSSSSSFYEESVTNEPIVSSPTSEITKPLASPTEPNIVEKPSLPLNSESIDLLSSSSNSITEYPEPTPDLEEKLSSLIVEQSESEITTDRESVSKLLSTESPSLSHMPSSSSSSLSLSSSLTTSPTTALSTSTATAVTTTQTNPTNDAANTSFLDNSKPASTREIYKTKIITEVITKIEYRNIPASDSNAEAEQYVTTSSSMLLTPTDTMVSSPVSEIDPIASELERMVETPTHSISIASEFDSVASNLIPNEEILSTSASQDSISSHPSTFSDSSITSGFQSIEVSTVTSSVLASESIPSISDSTFSKFHSISEPVSSAIVETATSSFSKTETKTSRVIAFSTEDSERSSALIDNSEYTSVLADNLEPTSVLADNSEPTSVLADSSEPTSVFTDAVQSPKTSVGQSSLSESTNIEGTSMASMIFSSSGASIGALSDIGKGTLSVESASSTVAQPMPGVTTTAPSFVSSPHKISASSIDASGFVQKEIMIEVQSSKDSSEAFGVRHKISENVNTPVSRMLTTEMQASGTVDVTEDVSLSSEVISALNVEITSLPNPVAPPQTIAAPLNNNSNTNIVNDDNAVAGTVNYAGLHDEL',\n",
       " 'YCR068W': 'MLHKSPSRKRFASPLHLGCILTLTVLCLIAYYFALPDYLSVGKSSSRGAMDQKSDGTFRLKSIYRHGVGANHRLHQRLEVTPEVISAAGMLYQETTTQGQDFEDQEPLWTTNAEYATTNPFDFEFELRRMPLLMKRMKERDPEFIESYIYGETYMTEEEEHAMWIDDDIVAPNITDRGTVVSLALMSSNAYVRIPQTGDWRNVTEPWNETEPEDFGWDGDGIRGHVFYNEVENIVVLSIKGTSAQGLPGSGEDETTGNDKINDNLLFSCCCARVSYLWTTVCDCYVKSYICDESCLEKELRRKDRFYSAVVDIYKGVLKEYPDAAIWVTGHSLGGALASLLGRTFGLPAVAFESPGELLPSKRLHLPFPPGLPSYMEGIWHFGHNADPIFMGTCNGASSSCSLVGYAMETACHTGRVCVYDVVNDKGWSVNMFNHRIHKVIDEVLLGYEQAAKCVEPEPCVDCYNWKFIPSRDWESSSRLITKTKSHAAPTTTTRTTATTTSSSTCVGRNWLGFCTKYEL',\n",
       " 'YCR069W': 'MWLKSLLLCLYSLVLCQVHAAPSSGKQITSKDVDLQKKYEPSPPATHRGIITIEYFDPVSKSMKEADLTFELYGTVVPKTVNNFAMLAHGVKAVIEGKDPNDIHTYSYRKTKINKVYPNKYIQGGVVAPDVGPFTVYGPKFDDENFYLKHDRPERLAMAYFGPDSNTSEFIITTKADGNEELDGKSVVFGQITSGLDQLMDAIQYTETDEYGKPQHELRFLYFVLEILKISNILDLHAAYTEKVEKFRNGDVSVGSTLENIFRNDKAYTPLTTSTGTTAYDLNHPISRALMCLTVLGLCFIAYKGMHEKPHTVSLRHK',\n",
       " 'YCR071C': 'MISSCVTRCFGRGKCLPGPATASIYQTIRCISTNSNKAAEAPIFPKLEDVKMHELIGNNNFGKKTYYVERSRTGNLPVYSAYKNGGNKIITEIRKIEGDVIQLRNDLQEQLPFIPKKSWSVVMQSKKIIIKGNAVEAVKRVLTKKF',\n",
       " 'YCR072C': 'MSTLIPPPSKKQKKEAQLPREVAIIPKDLPNVSIKFQALDTGDNVGGALRVPGAISEKQLEELLNQLNGTSDDPVPYTFSCTIQGKKASDPVKTIDITDNLYSSLIKPGYNSTEDQITLLYTPRAVFKVKPVTRSSSAIAGHGSTILCSAFAPHTSSRMVTGAGDNTARIWDCDTQTPMHTLKGHYNWVLCVSWSPDGEVIATGSMDNTIRLWDPKSGQCLGDALRGHSKWITSLSWEPIHLVKPGSKPRLASSSKDGTIKIWDTVSRVCQYTMSGHTNSVSCVKWGGQGLLYSGSHDRTVRVWDINSQGRCINILKSHAHWVNHLSLSTDYALRIGAFDHTGKKPSTPEEAQKKALENYEKICKKNGNSEEMMVTASDDYTMFLWNPLKSTKPIARMTGHQKLVNHVAFSPDGRYIVSASFDNSIKLWDGRDGKFISTFRGHVASVYQVAWSSDCRLLVSCSKDTTLKVWDVRTRKLSVDLPGHKDEVYTVDWSVDGKRVCSGGKDKMVRLWTH',\n",
       " 'YCR073C': 'MMMDILNTQQQKAAEGGRVLAPHTISSKLVKRLSSHSSHKLSRSDLKALGGSETISDGPSQLTFKDRYVFNESLYLKKLKKTALDDYYTRGIKLTNRYEEDDGDDEIIRLSNGDRIDEDLHSGVKFFSTTPYCRKMRSDSDELAWNEIATERFKWQSMLARVLKGDIVKGEKTRIANQVKKPGLNKELSDEIWLELKAWLNGRTMQEMEQSLTYLRDSSDSVFEEIMKFQIPQGKILSLDALEAILQDLMNRYHSVVSYWPNLKKMYKDKPITNTAEFTARIDVMNSWLNFKTNLTLRRQELDDWINRFSPISSSDNCQEDFDGVPQWNCKMKILAEQLMKEKNIESIFQKKIFYPLSPWMFKLKLHFIVYRETLTKMNIKYPYERLRSLLAFPVYLIKEVILTRLSYARKLKNPTMMMIDQMIDDFNAFIRLSVQLKYTLTKYCSNLPFDVDFDPTFENTVIEAIRYLFFLLNLKLIDSSKQNFKAPDLLLKYWDHLKNTGHYINGAETVIPNEFLKLTLRLVHKLQFYLLKQQNFPPTFANASEAEKWLSSIFENLGAMKRKLNRFSNILVKAFQNSAVYQINHNAQLVKKLKDAHYFLVYSGNTFESSGVYMFAAPELLGCDNDTILRILRNKSIGCDLVPKLDIGNNLNVYDITTKETDLNILVSKGEDSKGIPYYRVVANSSSDLDRHAHQSKKKNFSTDPFDQHLDEKNNEVFELEVALSSLGALVVLYPGEPVVWDGPVYKLPGNNLFASNEMDLGKIGNPNTLILLNQGSNYALTYQIDKFNQTVGDSVSFIEKRCSLNSIESSLQKINKAYYKLTYTVLNNYKGILGSFMKQCPGNELLNSIFMFGRDFGRSFLKYNAFSSKRKYVIIFLMVKLGMNWLKFLVEECDPTDQRTFRWCVLAMDFAMQMTSGYNILALNVKQFQELKERVSVCMSLLISHFDVMGARATEAENGMQQARLNIDTEENIDEEATLEINSRLRLEAIKTLEKTMKRNPRQMGKVLDATDQGNKYLLSLASSLSNVSMRWQKRSFIGGGTFGQVYSAINLENGEILAVKEIKIHDTTTMKKIFPLIKEEMTVLEMLNHPNIVQYYGVEVHRDKVNIFMEYCEGGSLASLLDHGRIEDEMVTQVYTFELLEGLAYLHQSGVVHRDIKPENILLDFNGIIKYVDFGTARTVVGSRTRTVRNAAVQDFGVETKSLNEMMGTPMYMAPETISGSAVKGKLGADDVWALGCVVLEMATGRRPWSNLDNEWAIMYHVAAGRIPQLPNRDEMTAAGRAFLERCLVQDPTMRATAVELLIDPWMIQIREIAFGNSEKDQVPILSS',\n",
       " 'YCR073W-A': 'MTTTVPKIFAFHEFSDVAEAVADHVVHAQDGALAPKNERKHSVPNISMNALDMTREASCKSTASAAEGKSGSSGSGSGSSKPKKEKRFKIALSGGSLIEVLHEGLLKRDDVRWGDWDIYFADERLVPFSSNESNYGCAKRKILDLIDTAKYGTPKVYHIDESLIDDPQECADNYEKVLIRGFAGRDSVKLPMFDLFLLGCAPDGHIASLFPNFQDNLREKLAWVVPVENAPSGPSTRISLTIPVICHSHRVTFVVEGATKAPIIKTIMERPEKGLPSSIVNEGAAGRVSWFVDDDALTDVLVTKKKYKFHQGLSI',\n",
       " 'YCR075C': 'MVSLDDILGIVYVTSWSISMYPPIITNWRHKSASAISMDFVMLNTAGYSYLVISIFLQLYCWKMTGDESDLGRPKLTQFDFWYCLHGCLMNVVLLTQVVAGARIWRFPGKGHRKMNPWYLRILLASLAIFSLLTVQFMYSNYWYDWHNSRTLAYCNNLFLLKISMSLIKYIPQVTHNSTRKSMDCFPIQGVFLDVTGGIASLLQLIWQLSNDQGFSLDTFVTNFGKVGLSMVTLIFNFIFIMQWFVYRSRGHDLASEYPL',\n",
       " 'YCR075W-A': 'MEAEKQSDIKGTIAFDTHGNVIESTGVGSQRIEDIGDLSKVTLDAEGFAQVQGDSLLVHLYKRNDITLAVYTSAQ',\n",
       " 'YCR076C': 'MIENKVELVAELVLESIGKTEVVSRHTEGTKSCQVSFRIKDSPSEKGSTSFLSELVVIQTLDDNDKYTVVIRHGTSITMACVVGYSDFKLPTELKWPLERESLPVEPDLKPIMTQLKRQTAGSADMPKFDDEYQAQARQNQGTAPLNPYPGLTVTEPSFANPAGGYADGDLYPVGTSHPDWSGGLPNPLGNPSSQGGMIFDPNRRPAPRREDMPPGWMPGSKYDEPFGPGSGGFGGSGSGGFGGSGSGFI',\n",
       " 'YCR077C': 'MSFFGLENSGNARDGPLDFEESYKGYGEHELEENDYLNDETFGDNVQVGTDFDFGNPHSSGSSGNAIGGNGVGATARSYVAATAEGISGPRTDGTAAAGPLDLKPMESLWSTAPPPAMAPSPQSTMAPAPAPQQMAPLQPILSMQDLERQQRQMQQQFMNFHAMGHPQGLPQGPPQQQFPMQPASGQPGPSQFAPPPPPPGVNVNMNQMPMGPVQVPVQASPSPIGMSNTPSPGPVVGATKMPLQSGRRSKRDLSPEEQRRLQIRHAKVEKILKYSGLMTPRDKDFITRYQLSQIVTEDPYNEDFYFQVYKIIQRGGITSESNKGLIARAYLEHSGHRLGGRYKRTDIALQRMQSQVEKAVTVAKERPSKLKDQQAAAGNSSQDNKQANTVLGKISSTLNSKNPRRQLQIPRQQPSDPDALKDVTDSLTNVDLASSGSSSTGSSAAAVASKQRRRSSYAFNNGNGATNLNKSGGKKFILELIETVYEEILDLEANLRNGQQTDSTAMWEALHIDDSSYDVNPFISMLSFDKGIKIMPRIFNFLDKQQKLKILQKIFNELSHLQIIILSSYKTTPKPTLTQLKKVDLFQMIILKIIVSFLSNNSNFIEIMGLLLQLIRNNNVSFLTTSKIGLNLITILISRAALIKQDSSRSNILSSPEISTWNEIYDKLFTSLESKIQLIFPPREYNDHIMRLQNDKFMDEAYIWQFLASLALSGKLNHQRIIIDEVRDEIFATINEAETLQKKEKELSVLPQRSQELDTELKSIIYNKEKLYQDLNLFLNVMGLVYRDGEISELK',\n",
       " 'YCR079W': 'MRLGNAYAYCKPSQNVGLKLDLLRGLPGYVGHATSRINRLENQDNYSIKMMRSWPNAYGSALNCSVFDGHGEKGAQLSQLLADKLCSSLDFPEPSWDKQDLKKLVQEYARRFPEGNYWKHKLSTFEKFYNKFIKNCNSKQELLLMKEGDSAILGQNGGRMIFDKMGNIIDKIALLTELDRLRLFYGFARFDLDQCCGLGTAAGSTASSIFLYPYDDPNAPIDEGKDDDSWIISHSGLLKLIVTQVGDSKIILCDQDGIAHALTTTHHINSSRERHRLSIDPSRLDPDAFGETRFLNNFANTRSFGDVAGKPYGISSEPDIFSFLVGNTLHLPRSERSKLPFNGDECFLALVTDGITNKLADQEVVDLITSTVNSWGLKKATPQFVAEETIKFIQAIATKHSDNATCVVVRLSNWGNWPNVDRTGPQRETKLMNAQSNETKLN',\n",
       " 'YCR081W': 'MNNGSGRYLLTPPDDLHPYVPSSKPQEQVYPDFKPWEHTAAEDQILANFVAKGFYHTPMVNFESISARSSVHESLVTQSNILSQQFDKIIKIREDHINKIPSNSTTTLHGPGFQLPNRITLTDHRKETWLHELSSSHTSLVKIGKFIPHGLKRRQVIEQCYLKFIPLKRAIWLIKCCYFIEWKSNHKKKRSNAAGADDAISMHLLKDWTDTFVYILEKLIFDMTNHYNDSQQLRTWKRQISYFLKLLGNCYSLRLINKEIFHHWLVEFINKMENFEFLPLSLHILMIFWNDICQIDTNAPVAATITSSQKEPFFLVTKITDMLLHKYYIVSSSKSMINDENYIINDIKKNNKIKLNILKILSSLILKIFQEQSLEVFIFPTSNWEIYKPLLFEIVSNADTNQNSDMKKKLELISYRNESLKNNSSIRNVIMSASNANDFQLTIVTCKQFPKLSCIQLNCIDTQFTKLLDDNPTEFDWPTYVDQNPLTMHKIIQLILWSIHPSRQFDHYESNQLVAKLLLLRINSTDEDLHEFQIEDAIWSLVFQLAKNFSAQKRVVSYMMPSLYRLLNILITYGIIKVPTYIRKLISSGLLYLQDSNDKFVHVQLLINLKISPLMKSQYNMVLRNVMEYDVKFYEIFNFDQLVEITEQIKMRILSNDITNLQLSKTPLSIKIMVAEWYLSHLCSGILSSVNRTVLLKIFKIFCIDLEVFHHFFKWIEFIVYHQLLSDIESLEALMDILLCYQKLFSQFINDHILFTKTFIFIYKKVLKEKDVPAYNVTSFMPFWKFFMKNFPFVLKVDNDLRIELQSVYNDEKLKTEKLKNDKSEVLKVYSMINNSNQAVGQTWNFPEVFQVNIRFLLHNSEIIDTNTSKQFQKARNNVMLLIATNLKEYNKFMSIFLKRKDFTNKNLIQLISLKLLTFEVTQNVLGLEYIIRLLPINLENNDGSYGLFLKYHKEQFIKSNFEKILLTCYELEKKYHGNECEINYYEILLKILITYGSSPKLLATSTKIIMLLLNDSVENSSNILEDILYYSTCPSETDLNDIPLGSGQPDNDTVVTNDDKSDDDDHTVDEIDHVEYYVMMDFANLWVFQAFTCFCIKKIMENNEPAMAMEDLKNFIFQIIEITNSNDLCSQIFDQLKDMQTIEMITQIVEKDFCTSCLQNNNQKIDDNYIVVVIEIITSLSMRFQRETSGMIVISMENYHLLIKIIRQLSELNEGNLSKREIQIDAVLKIFSFHQDSIFQRIIADLSADKPTSPFIDSICKLFDKISFNLRLKLFLYEILSSLKSFAIYSSTIDAPAFHTSGKVELPKKLLNLPPFQVSSFVKETKLHSGDYGEEEDADQEESFSLNLGIGIVEIAHENEQKWLIYDKKDHKYVCTFSMEPYHFISNYNTKYTDDMATGSNDTTAFNDSCVNLSLFDARFERKNPH',\n",
       " 'YCR082W': 'MITPKGTHDAVAKFQKTDLHQDLDYIVLQQRRTQLETLINERESFVKNLCSLFHKIQNTKNYQEFVDVLAENRDLLREIFTVENGFQKQKWISNDDIPQIDWDKFALDINAYIAENDQLLALYEDGLL',\n",
       " 'YCR083W': 'MLFYKPVMRMAVRPLKSIRFQSSYTSITKLTNLTEFRNLIKQNDKLVIDFYATWCGPCKMMQPHLTKLIQAYPDVRFVKCDVDESPDIAKECEVTAMPTFVLGKDGQLIGKIIGANPTALEKGIKDL',\n",
       " 'YCR084C': 'MTASVSNTQNKLNELLDAIRQEFLQVSQEANTYRLQNQKDYDFKMNQQLAEMQQIRNTVYELELTHRKMKDAYEEEIKHLKLGLEQRDHQIASLTVQQQRQQQQQQQVQQHLQQQQQQLAAASASVPVAQQPPATTSATATPAANTTTGSPSAFPVQASRPNLVGSQLPTTTLPVVSSNAQQQLPQQQLQQQQLQQQQPPPQVSVAPLSNTAINGSPTSKETTTLPSVKAPESTLKETEPENNNTSKINDTGSATTATTTTATETEIKPKEEDATPASLHQDHYLVPYNQRANHSKPIPPFLLDLDSQSVPDALKKQTNDYYILYNPALPREIDVELHKSLDHTSVVCCVKFSNDGEYLATGCNKTTQVYRVSDGSLVARLSDDSAANNHRNSITENNTTTSTDNNTMTTTTTTTITTTAMTSAAELAKDVENLNTSSSPSSDLYIRSVCFSPDGKFLATGAEDRLIRIWDIENRKIVMILQGHEQDIYSLDYFPSGDKLVSGSGDRTVRIWDLRTGQCSLTLSIEDGVTTVAVSPGDGKYIAAGSLDRAVRVWDSETGFLVERLDSENESGTGHKDSVYSVVFTRDGQSVVSGSLDRSVKLWNLQNANNKSDSKTPNSGTCEVTYIGHKDFVLSVATTQNDEYILSGSKDRGVLFWDKKSGNPLLMLQGHRNSVISVAVANGSPLGPEYNVFATGSGDCKARIWKYKKIAPN',\n",
       " 'YCR085W': 'MLFLYTYVYVFLCTNNDVYNETSVMLSKTSAHCFIAEEVTTDNGLICGLAMLGKTKYQFYELFTVYSIQSLTQLASRVKKGGLIMARLILFTLCALPVLFHFILFMLQYLVFVYIEK',\n",
       " 'YCR086W': 'MDPLTVYKNSVKQQIDSADLLVANLVNENFVLSEKLDTKATEIKQLQKQIDSLNAQVKELKTQTSQQAENSEVIKDLYEYLCNVRVHKSYEDDSGLWFDISQGTHSGGSSDDYSIMDYKLGFVKGQAQVTEVIYAPVLKQRSTEELYSLQSKLPEYLFETLSFPLSSLNQFYNKIAKSLNKKREKKDETE',\n",
       " 'YCR087C-A': 'MVTFNCEVCNDTVPKKNTEKHYYRCPNAYYTCIDCSKTFEDGVSYKNHTSCISEDEKYQKALYKGNKKQKQKQQQKQQQKQHQHQPVATPAKKVEKPVIKKAEKVEKTSNGIELHKGKSLYKILKTMKDKGAKKTFLKSLVVDSEGQIRYAKE',\n",
       " 'YCR088W': 'MALEPIDYTTHSREIDAEYLKIVRGSDPDTTWLIISPNAKKEYEPESTGSSFHDFLQLFDETKVQYGLARVSPPGSDVEKIIIIGWCPDSAPLKTRASFAANFAAVANNLFKGYHVQVTARDEDDLDENELLMKISNAAGARYSIQTSSKQQGKASTPPVKKSFTPSKSPAPVSKKEPVKTPSPAPAAKISSRVNDNNDDDDWNEPELKERDFDQAPLKPNQSSYKPIGKIDLQKVIAEEKAKEDPRLVQKPTAAGSKIDPSSDIANLKNESKLKRDSEFNSFLGTTKPPSMTESSLKNDDDKVIKGFRNEKSPAQLWAERKAKQNSGNAETKAEAPKPEVPEDEPEGEPDVKDLKSKFEGLAASEKEEEEMENKFAPPPKKSEPTIISPKPFSKPQEPVKAEEAEQPKTDYKKIGNPLPGMHIEADNEEEPEENDDDWDDDEDEAAQPPLPSRNVASGAPVQKEEPEQEEIAPSLPSRNSIPAPKQEEAPEQAPEEEIEEEAEEAAPQLPSRSSAAPPPPPRRATPEKKPKENPWATAEYDYDAAEDNELTFVENDKIINIEFVDDDWWLGELEKDGSKGLFPSNYVSLGN',\n",
       " 'YCR089W': 'MNSFASLGLIYSVVNLLTRVEAQIVFYQNSSTSLPVPTLVSTSIADFHESSSTGEVQYSSSYSYVQPSIDSFTSSSFLTSFEAPTETSSSYAVSSSLITSDTFSSYSDIFDEETSSLISTSAASSEKASSTLSSTAQPHRTSHSSSSFELPVTAPSSSSLPSSTSLTFTSVNPSQSWTSFNSEKSSALSSTIDFTSSEISGSTSPKSLESFDTTGTITSSYSPSPSSKNSNQTSLLSPLEPLSSSSGDLILSSTIQATTNDQTSKTIPTLVDATSSLPPTLRSSSMAPTSGSDSISHNFTSPPSKTSGNYDVLTSNSIDPSLFTTTSEYSSTQLSSLNRASKSETVNFTASIASTPFGTDSATSLIDPISSVGSTASSFVGISTANFSTQGNSNYVPESTASGSSQYQDWSSSSLPLSQTTWVVINTTNTQGSVTSTTSPAYVSTATKTVDGVITEYVTWCPLTQTKSQAIGVSSSISSVPQASSFSGSSILSSNSSTLAASNNVPESTASGSSQYQDWSSSSLPLSQTTWVVINTTNTQGSVTSTTSPAYVSTATKTVDGVITEYVTWCPLTQTKSQAIGISSSTISATQTSKPSSILTLGISTLQLSDATFKGTETINTHLMTESTSITEPTYFSGTSDSFYLCTSEVNLASSLSSYPNFSSSEGSTATITNSTVTFGSTSKYPSTSVSNPTEASQHVSSSVNSLTDFTSNSTETIAVISNIHKTSSNKDYSLTTTQLKTSGMQTLVLSTVTTTVNGAATEYTTWCPASSIAYTTSISYKTLVLTTEVCSHSECTPTVITSVTATSSTIPLLSTSSSTVLSSTVSEGAKNPAASEVTINTQVSATSEATSTSTQVSATSATATASESSTTSQVSTASETISTLGTQNFTTTGSLLFPALSTEMINTTVVSRKTLIISTEVCSHSKCVPTVITEVVTSKGTPSNGHSSQTLQTEAVEVTLSSHQTVTMSTEVCSNSICTPTVITSVQMRSTPFPYLTSSTSSSSLASTKKSSLEASSEMSTFSVSTQSLPLAFTSSEKRSTTSVSQWSNTVLTNTIMSSSSNVISTNEKPSSTTSPYNFSSGYSLPSSSTPSQYSLSTATTTINGIKTVYTTWCPLAEKSTVAASSQSSRSVDRFVSSSKPSSSLSQTSIQYTLSTATTTISGLKTVYTTWCPLTSKSTLGATTQTSSTAKVRITSASSATSTSISLSTSTESESSSGYLSKGVCSGTECTQDVPTQSSSPASTLAYSPSVSTSSSSSFSTTTASTLTSTHTSVPLLPSSSSISASSPSSTSLLSTSLPSPAFTSSTLPTATAVSSSTFIASSLPLSSKSSLSLSPVSSSILMSQFSSSSSSSSSLASLPSLSISPTVDTVSVLQPTTSIATLTCTDSQCQQEVSTICNGSNCDDVTSTATTPPSTVTDTMTCTGSECQKTTSSSCDGYSCKVSETYKSSATISACSGEGCQASATSELNSQYVTMTSVITPSAITTTSVEVHSTESTISITTVKPVTYTSSDTNGELITITSSSQTVIPSVTTIITRTKVAITSAPKPTTTTYVEQRLSSSGIATSFVAAASSTWITTPIVSTYAGSASKFLCSKFFMIMVMVINFI',\n",
       " 'YCR090C': 'MPLFLVLKATLSENVTKVSIENTNESRAEFAFDLQCTSCRELHDSKVIINTFEEYAMPASKGTASFLMKCKFCSKELSVNLCAFEDEYLTDQSDDKWAKIKDVRKKHGLSKVKEDSFIPLSLDCRGCELIKFYPDTITFEVSLSSGKVMSCQLEDNEWYDYDDNLGEEVTMTDFSSSIIKGK',\n",
       " 'YCR091W': 'MTQQEYRSPSQRLSKGRSMSLPKIFARNLRSLQNNAPPGKNINVNCLNVNSCSLSASPSSQINMACNGNKQDLPIPFPLHVECNDSWSSSKLNKFKSMFNHNRSKSSGTTDASTSEKGTHKREPRSTIHTELLQSSIIGEPNVHSTTSSTLIPNEAICSTPNEISGSSSPDAELFTFDMPTDPSSFHTPSSPSYIAKDSRNLSNGSLNDINENEELQNFHRKISENGSASPLANLSLSNSPIDSPRKNSETRKDQIPMNITPRLRRAASEPFNTAKDGLMREDYIALKQPPSLGDIVEPRRSRRLRTKSFGNKFQDITVEPQSFEKIRLLGQGDVGKVYLVRERDTNQIFALKVLNKHEMIKRKKIKRVLTEQEILATSDHPFIVTLYHSFQTKDYLYLCMEYCMGGEFFRALQTRKSKCIAEEDAKFYASEVVAALEYLHLLGFIYRDLKPENILLHQSGHVMLSDFDLSIQATGSKKPTMKDSTYLDTKICSDGFRTNSFVGTEEYLAPEVIRGNGHTAAVDWWTLGILIYEMLFGCTPFKGDNSNETFSNILTKDVKFPHDKEVSKNCKDLIKKLLNKNEAKRLGSKSGAADIKRHPFFKKVQWSFLRNQDPPLIPALNDNGCELPFILSCNKHPKRNSVSEQETKMFCEKVANDDEIDEADPFHDFNSMSLTKKDHNILTYSENYTYGKILYKATCTRPRHNSSHRSFFKDIIPEL',\n",
       " 'YCR092C': 'MAGQPTISRFFKKAVKSELTHKQEQEVAVGNGAGSESICLDTDEEDNLSSVASTTVTNDSFPLKGSVSSKNSKNSEKTSGTSTTFNDIDFAKKLDRIMKRRSDENVEAEDDEEEGEEDFVKKKARKSPTAKLTPLDKQVKDLKMHHRDKVLVIRVGYKYKCFAEDAVTVSRILHIKLVPGKLTIDESNPQDCNHRQFAYCSFPDVRLNVHLERLVHHNLKVAVVEQAETSAIKKHDPGASKSSVFERKISNVFTKATFGVNSTFVLRGKRILGDTNSIWALSRDVHQGKVAKYSLISVNLNNGEVVYDEFEEPNLADEKLQIRIKYLQPIEVLVNTDDLPLHVAKFFKDISCPLIHKQEYDLEDHVVQAIKVMNEKIQLSPSLIRLVSKLYSHMVEYNNEQVMLIPSIYSPFASKIHMLLDPNSLQSLDIFTHDGGKGSLFWLLDHTRTSFGLRMLREWILKPLVDVHQIEERLDAIECITSEINNSIFFESLNQMLNHTPDLLRTLNRIMYGTTSRKEVYFYLKQITSFVDHFKMHQSYLSEHFKSSDGRIGKQSPLLFRLFSELNELLSTTQLPHFLTMINVSAVMEKNSDKQVMDFFNLNNYDCSEGIIKIQRESESVRSQLKEELAEIRKYLKRPYLNFRDEVDYLIEVKNSQIKDLPDDWIKVNNTKMVSRFTTPRTQKLTQKLEYYKDLLIRESELQYKEFLNKITAEYTELRKITLNLAQYDCILSLAATSCNVNYVRPTFVNGQQAIIAKNARNPIIESLDVHYVPNDIMMSPENGKINIITGPNMGGKSSYIRQVALLTIMAQIGSFVPAEEIRLSIFENVLTRIGAHDDIINGDSTFKVEMLDILHILKNCNKRSLLLLDEVGRGTGTHDGIAISYALIKYFSELSDCPLILFTTHFPMLGEIKSPLIRNYHMDYVEEQKTGEDWMSVIFLYKLKKGLTYNSYGMNVAKLARLDKDIINRAFSISEELRKESINEDALKLFSSLKRILKSDNITATDKLAKLLSLDIH',\n",
       " 'YCR093W': 'MLSATYRDLNTASNLETSKEKQAAQIVIAQISLLFTTLNNDNFESVEREIRHILDRSSVDIYIKVWERLLTLSSRDILQAGKFLLQENLLHRLLLEFAKDLPKKSTDLIELLKERTFNNQEFQKQTGITLSLFIDLFDKSANKDIIESLDRSSQINDFKTIKMNHTNYLRNFFLQTTPETLESNLRDLLHSLEGESLNDLLALLLSEILSPGSQNLQNDPTRSWLTPPMVLDATNRGNVIARSISSLQANQINWNRVFNLMSTKYFLSAPLMPTTASLSCLFAALHDGPVIDEFFSCDWKVIFKLDLAIQLHKWSVQNGCFDLLNAEGTRKVSETIPNTKQSLLYLLSIASLNLELFLQREELSDGPMLAYFQECFFEDFNYAPEYLILALVKEMKRFVLLIENRTVIDEILITLLIQVHNKSPSSFKDVISTITDDSKIVDAAKIIINSDDAPIANFLKSLLDTGRLDTVINKLPFNEAFKILPCARQIGWEGFDTFLKTKVSPSNVDVVLESLEVQTKMTDTNTPFRSLKTFDLFAFHSLIEVLNKCPLDVLQLQRFESLEFSLLIAFPRLINFGFGHDEAILANGDIAGINNDIEKEMQNYLQKMYSGELAIKDVIELLRRLRDSDLPRDQEVFTCITHAVIAESTFFQDYPLDALATTSVLFGSMILFQLLRGFVLDVAFRIIMRFAKEPPESKMFKFAVQAIYAFRIRLAEYPQYCKDLLRDVPALKSQAQVYQSIVEAATLANAPKERSRPVQEMIPLKFFAVDEVSCQINQEGAPKDVVEKVLFVLNNVTLANLNNKVDELKKSLTPNYFSWFSTYLVTQRAKTEPNYHDLYSKVIVAMGSGLLHQFMVNVTLRQLFVLLSTKDEQAIDKKHLKNLASWLGCITLALNKPIKHKNIAFREMLIEAYKENRLEIVVPFVTKILQRASESKIFKPPNPWTVGILKLLIELNEKANWKLSLTFEVEVLLKSFNLTTKSLKPSNFINTPEVIETLSGALGSITLEQQQTEQQRQIILMQQHQQQMLIYQQRQQQQQQRQQQQQHHISANTIADQQAAFGGEGSISHDNPFNNLLGSTIFVTHPDLKRVFQMALAKSVREILLEVVEKSSGIAVVTTTKIILKDFATEVDESKLKTAAIIMVRHLAQSLARATSIEPLKEGIRSTMQSLAPNLMSLSSSPAEELDTAINENIGIALVLIEKASMDKSTQDLADQLMQAIAIRRYHKERRADQPFITQNTNPYSLSLPEPLGLKNTGVTPQQFRVYEEFGKNIPNLDVIPFAGLPAHAPPMTQNVGLTQPQQQQAQMPTQILTSEQIRAQQQQQQLQKSRLNQPSQSAQPPGVNVPNPQGGIAAVQSDLEQNQRVLVHLMDILVSQIKENATKNNLAELGDQNQIKTIIFQILTFIAKSAQKDQLALKVSQAVVNSLFATSESPLCREVLSLLLEKLCSLSLVARKDVVWWLVYALDSRKFNVPVIRSLLEVNLIDATELDNVLVTAMKNKMENSTEFAMKLIQNTVLSDDPILMRMDFIKTLEHLASSEDENVKKFIKEFEDTKIMPVRKGTKTTRTEKLYLVFTEWVKLLQRVENNDVITTVFIKQLVEKGVISDTDNLLTFVKSSLELSVSSFKESDPTDEVFIAIDALGSLIIKLLILQGFKDDTRRDYINAIFSVIVLVFAKDHSQEGTTFNERPYFRLFSNILYEWATIRTHNFVRISDSSTRQELIEFDSVFYNTFSGYLHALQPFAFPGFSFAWVTLLSHRMLLPIMLRLPNKIGWEKLMLLIIDLFKFLDQYTSKHAVSDAVSVVYKGTLRVILGISNDMPSFLIENHYELMNNLPPTYFQLKNVILSAIPKNMTVPNPYDVDLNMEDIPACKELPEVFFDPVIDLHSLKKPVDNYLRIPSNSLLRTILSAIYKDTYDIKKGVGYDFLSVDSKLIRAIVLHVGIEAGIEYKRTSSNAVFNTKSSYYTLLFNLIQNGSIEMKYQIILSIVEQLRYPNIHTYWFSFVLMNMFKSDEWNDQKLEVQEIILRNFLKRIIVNKPHTWGVSVFFTQLINNNDINLLDLPFVQSVPEIKLILQQLVKYSKKYTTSEQDDQSATINRRQTPLQSNA',\n",
       " 'YCR094W': 'MVSLFKRGKAPPLTKEGPTSKKPPNTAFRQQRLKAWQPILSPQSVLPLLIFVACIFTPIGIGLIVSATKVQDLTIDYSHCDTKASTTAFEDIPKKYIKYHFKSKVENKPQWRLTENENGEQSCELQFEIPNDIKKSIFIYYKITNFYQNHRRYVQSFDTKQILGEPIKKDDLDTSCSPIRSREDKIIYPCGLIANSMFNDTFSQVLSGIDDTEDYNLTNKHISWSIDRHRFKTTKYNASDIVPPPNWMKKYPDGYTDENLPDIHTWEEFQVWMRTAAFPKFYKLTLKNESASLPKGKYQMNIELNYPISLFGGTKSFVLTTNGAIGGRNMSLGVLYLIVAGLCALFGIIFLVKLIFQPRAMGDHTYLNFDDEENEDYEDVHAENTTLREIL',\n",
       " 'YCR095C': 'MLVPPANFGIAEEGIYRCSKVETLNLSFLETLNLKTAIFIGGQEPSKFFKDFFTRSSIKWIVLRMSDFSAAAVPVKSSSVSNANLYSNNNSTLSLQEEKKKSTANGSQNSTTGDPVIQEELAYHLTDNDDLMLIKSTCLKRTFKTLLNVDNYNVLLVDKTALVIGILRKIQKWNIASIINEYRLFSGKNRNYFAETFLEIINIEIEQEKDNKTIVDNKAKKLPLENNRTHSIEYKANSGKLIRVNEDDLCREPEVPQRLLTLINQIETKVKNNKVLQVSGVLGDDLKKTSSDLGIFGHRYRLAFNKKENGDYGYYKARGKDNVKIRIPCDSELPDWFRFQRDLWEKENVPEEHHFYREHIFT',\n",
       " 'YCR095W-A': 'MTVLIKLGLRILHVYKGFFRKVILKYFFFSSEHTKVNKKSSMHAFLCKIYKR',\n",
       " 'YCR096C': 'MRSIENDRSNYQLTQKNKSADGLVFNVVTQDMINKSTKPYRGHRFTKENVRILESWFAKNIENPYLDTKGLENLMKNTSLSRIQIKNWVSNRRRKEKTITIAPELADLLSGEPLAKKKE',\n",
       " 'YCR097W': 'MDDICSMAENINRTLFNILGTEIDEINLNTNNLYNFIMESNLTKVEQHTLHKNISNNRLEIYHHIKKEKSPKGKSSISPQARAFLEQVFRRKQSLNSKEKEEVAKKCGITPLQVRVWFINKRMRSK',\n",
       " 'YCR098C': 'MEDKDITSVNEKEVNENTNPRIIKYDAERRATRTETSKKDKWKNIVTIIASGFALISDGYVNGSMSMLNKVFVMEYGKKNYSSKVSTRVSNAALVGIIFGQFFMGIAADYYSRKSCILVATAILVIGSALCAASHGTTVPGMFWMLTVMRGLVGIGVGAEYPTSTLSANESANEYTTTKRGGILVMVTNLPLAFGGPFATIIFLIVYKICSGTKHLEAIWRTVFAIGCFWPLSVFYFRWKTATTEVYEKGRIKRNIPYFLALKFYWKRLLGTCGTWFMYDFVTFPNGIFSSTIISSVIKDQNDLVKVAEWNLLLGVLAVLGVPIGAYLSDRIGRKYTLMFGFSGYIIFGLIIGCAYDQLKKITPLFIIFYAFMNMLGNAGPGDMLGVISSEASATAVRGVFYGLSAVTGKIGSVVGVECFQPIRDNLGARWTFIIAAICGLIGIIITYFFVPHSLESDLMKQDVEFHNYLVSNGWTGKMGFDETDEESMVRTIEVEENGTNCSKKNAEIISVRQVDQS',\n",
       " 'YCR099C': 'MRSIFLLHFDYKTCEEEDFEDWNLADGKCLNGAKYMYKRRKQDARCLVKRTFKDMILHEIPCDSCTESDYECSSEFVRDAKGDCIPDYDQIALSDICDKANGETVSLEPLQLIKGDKCKKPMEIEAMNIPCEKILRESSNGKKIATIENKFDFEI',\n",
       " 'YCR100C': 'MSSTDIWISNDASTFQKAQLPTQLRHVKVIKIREDSIGRIILLISTEITNEENADPDLSEIFISDSQGLKFSPVEWTPNHQFGNFRLTFPDFLKGTIFGSFHPSIDYSNHQVNYTENIAGGETKISVDNGLTWSNLKVVDEENADSFGCDITRPERCSLQGYFYNLKLSNPSAGIILMTGSVGDDNEFDRKDRKTFISRDGGLTWRVAHNSSGLYATGDLGNIIVYIPSPSYKDGDVQSKLYFSLDQGRTWNQYELVDALFYIHPLELINTTPDGSGSKFILSGHLITTASQEGNNTNISYIARSVLYAIDFSAAF',\n",
       " 'YCR101C': 'MILLHAIYTLWVIILLPLLNAEKFVPKVTEAPIETSFNLVSFDDSNTSIRLDGWGVVWISFDAGENWETVKEIEERIFRFTVDPFHGQERGFAFICESPKFYITDDRGESWRALTIPSSEEYLDGDCFITTHPRNKELLIANCYSYMIDADVLYDPSEIYLSNDGNPFLKLNLPWKRKKTTI',\n",
       " 'YCR102C': 'MKAVVIEDGKAVVKEGVPIPELEEGFVLIKTLAVAGNPTDWAHIDYKVGPQGSILGCDAAGQIVKLGPAVDPKDFSIGDYIYGFIHGSSVRFPSNGAFAEYSAISTVVAYKSPNELKFLGEDVLPAGPVRSLEGAATIPVSLTTAGLVLTYNLGLNLKWEPSTPQRNGPILLWGGATAVGQSLIQLANKLNGFTKIIVVASRKHEKLLKEYGADQLFDYHDIDVVEQIKHKYNNISYLVDCVANQNTLQQVYKCAADKQDATVVELTNLTEENVKKENRRQNVTIDRTRLYSIGGHEVPFGGITFPADPEARRAATEFVKFINPKISDGQIHHIPARVYKNGLYDVPRILEDIKIGKNSGEKLVAVLN',\n",
       " 'YCR104W': 'MVKLTSIAAGVAAIAAGIAAAPATTTLSPSDERVNLVELGVYVSDIRAHLAQYYLFQAAHPTETYPVEIAEAVFNYGDFTTMLTGIPAEQVTRVITGVPWYSTRLRPAISSALSKDGIYTAIPK',\n",
       " 'YCR105W': 'MLYPEKFQGIGISNAKDWKHPKLVSFDPKPFGDHDVDVEIEACGICGSDFHIAVGNWGPVPENQILGHEIIGRVVKVGSKCHTGVKIGDRVGVGAQALACFECERCKSDNEQYCTNDHVLTMWTPYKDGYISQGGFASHVRLHEHFAIQIPENIPSPLAAPLLCGGITVFSPLLRNGCGPGKRVGIVGIGGIGHMGILLAKAMGAEVYAFSRGHSKREDSMKLGADHYIAMLEDKGWTEQYSNALDLLVVCSSSLSKVNFDSIVKIMKIGGSIVSIAAPEVNEKLVLKPLGLMGVSISSSAIGSRKEIEQLLKLVSEKNVKIWVEKLPISEEGVSHAFTRMESGDVKYRFTLVDYDKKFHK',\n",
       " 'YCR106W': 'MDSITVKKPRLRLVCLQCKKIKRKCDKLRPACSRCQQNSLQCEYEERTDLSANVAANDSDGFNSSHKLNFEQQPVLERTGLRYSLQVPEGVVNATLSIWNAEDMLVIVGLVTFLDYPFAAHSLAQHDQYIRALCASLYGMALVDFSNYANGIPCEDTSRSILGPLSFIEKAIFRRIEHSKQFRVQSAALGLLYNAFSMEEENFSTLLPSLIAEVEDVLMQKKDCEILLRCFYQNIYPFYPFMDISLFESDLTSLLLQDDNNRWKISTEVKNVRKKIETLSLLTIVMAMALMHSKLDANLLSMVKENASESARKLSLLCHKLLCLLDVFRYPNENTFTCLLYFYVSEHLDPESPDCVLSPTNLLTLHHLLNLSMTLGLQYEPSKYKRFKDPEVIRQRRILWLGVQSLLFQISLAEGDAGKSNSEYMEAYLTDFEEYIEASSEYEKSSASESNVQMNDIVWNKYKFHVILSKLMSDCTSVIQHPQLFHILGNIKRSEDFMAENFPTSSIYQPLHEKEPNAIKVGKSTVLDVMDIQKTEIFLTNIVGSMCFLNIFDVLSLHFEKKCVMHWEEYEKNYHFLTLKSFNAYLKLAGLISDYLENKFQGNILESRGYIIDKQICFMLVRIWMFQCRILLRFSYKQESQKKLASSSISTNDNEKEDEMIVILERLIKHIRNQMAHLVDLAKGKLQDSYFGAYQTVPMFRYVVYLIDVGGLVSVTNGFWDKISSDGEIPPKVQQAVRLKWGLDCNNSRRIKQKLISSQSLQSFNQVLLCQMEDAVLSSSFAIKANTAMSQNTAEEFFNISEEEALNQLLENNNFDAFWDLLGENLSDMPSL',\n",
       " 'YCR107W': 'MIGSASDSSSKLGRLRFLSETAAIKVSPLILGEVSYDGARSDFLKSMNKNRAFELLDTFYEAGGNFIDAANNCQNEQSEEWIGEWIQSRRLRDQIVIATKFIKSDKKYKAGESNTANYCGNHKRSLHVSVRDSLRKLQTDWIDILYVHWWDYMSSIEEFMDSLHILVQQGKVLYLGVSDTPAWVVSAANYYATSYGKTPFSIYQGKWNVLNRDFERDIIPMARHFGMALAPWDVMGGGRFQSKKAMEERRKNGEGIRSFVGASEQTDAEIKISEALAKIAEEHGTESVTAIAIAYVRSKAKNFFPSVEGGKIEDLKENIKALSIDLTPDNIKYLESIVPFDIGFPNNFIVLNSLTQKYGTNNV',\n",
       " 'YCR108C': 'MPYSPSLILMGHTHTDATVYTTLKLPYSHTPIHGPFSLNQYQMHPHHYARHLPQRSIPCAIYP',\n",
       " 'YDL248W': 'MKENEVKDEKSVDVLSFKQLESQKIVLPQDLFRSSFTWFCYEIYKSLAFRIWMLLWLPLSVWWKLSNNCIYPLIVSLLVLFLGPIFVLVICGLSRKRSLSKQLIQFCKEITENTPSSDPHDWEVVVANLNSYLYENKAWNTKNFFFNATDCEKMFRTTVLEPFSLKKDKAAKVKSFKDSVPYIEEALQVYATGFDKQWKLFITEKSWSPVGLEDVQLPKDIHRSKLTWFLKRIFTIYSLPLWLAFLNCICVSQHFCLAFRILCPGLFFLMMVWLFQNMRTTALLVKMEHKMQFLLTIINEQESGANGWDEIARKMNRYLFEKKAWKNEEFFFDGIDCEWFFSHFFYRLLSAKKSMWLLPLNVELWPYIKEAQLSRNEESLMKK',\n",
       " 'YDL247W': 'MKNLSFLINRRKENTSDSNVYPGKAKSHEPSWIEMDDQTKKDGLDIVHVEFSPDTRAPSDSNKVITEIFDATEDAKEADESERGMPLATALNTYPKAAAWSLLVSTTLIMEGYDTAILGAFYALPIFQRKFGSQNDKTGEWEISASWQIGLTLCYMAGEIVGLQLTGPSVDLVGNRYTLIIALFFLAAFTFILYFCNSLGMIAVGQALCGMPWGCFQCLTVSYASEICPLALRYYLTTYSNLCWLFGQLFAAGIMKNSQKKYADSELGYKLPFALQWILPVPLALGIFFAPESPWWLVKKGRFDEARRSLRRTLSGKGPEKEILVTLEVDKIKVTIDKEKRLTSKEGSYSDCFEDKINRRRTRITCLCWAGQATCGSILIGYSTYFYEKAGVSTEMSFTFSIIQYCLGICATFLSWWASKYFGRYDLYAFGLAFQTIVFFIIGGLGCSSTHGSKMGSGSLLMAVAFFYNLGIAPVVFCLVSEMPSSRLRTKTIILARNTYNVVSIICSVLILYQLNSKKWNWGAKSGFFWGVLCFCTLIWAVVDLPETAGKTFVEINELFKLGVSARKFKSTKVDPFVVKTPLKTSLITTPREISKLPLQRNSNVSHHL',\n",
       " 'YDL246C': 'MSQNSNPAVVLEKVGDIAIEQRPIPTIKDPHYVKLAIKATGICGSDIHYYRSGGIGKYILKAPMVLGHESSGQVVEVGDAVTRVKVGDRVAIEPGVPSRYSDETKEGSYNLCPHMAFAATPPIDGTLVKYYLSPEDFLVKLPEGVSYEEGACVEPLSVGVHSNKLAGVRFGTKVVVFGAGPVGLLTGAVARAFGATDVIFVDVFDNKLQRAKDFGATNTFNSSQFSTDKAQDLADGVQKLLGGNHADVVFECSGADVCIDAAVKTTKVGGTMVQVGMGKNYTNFPIAEVSGKEMKLIGCFRYSFGDYRDAVNLVATGKVNVKPLITHKFKFEDAAKAYDYNIAHGGEVVKTIIFGPE',\n",
       " 'YDL245C': 'MASEQSSPEINADNLNSSAADVHVQPPGEKEWSDGFYDKEVINGNTPDAPKRGFLGYLIIYLLCYPVSFGGFLPGWDSGITAGFINMDNFKMNFGSYKHSTGEYYLSNVRMGLLVAMFSVGCSIGGVAFARLADTLGRRLAIVIVVLVYMVGAIIQISSNHKWYQYFVGKIIYGLGAGGCSVLCPMLLSEIAPTDLRGGLVSLYQLNMTFGIFLGYCSVYGTRKYSNTAQWRIPVGLCFLWALIIIVGMLLVPESPRYLIECERHEEACVSIAKINKVSPEDPWVLKQADEINAGVLAQRELGEASWKELFSVKTKVLQRLITGILVQTFLQLTGENYFFFYGTTIFKSVGLTDGFETSIVLGTVNFFSTIIAVMVVDKIGRRKCLLFGAASMMACMVIFASIGVKCLYPHGQDGPSSKGAGNAMIVFTCFYIFCFATTWAPVAYIVVAESFPSKVKSKAMSISTAFNWLWQFLIGFFTPFITGSIHFYYGYVFVGCLVAMFLYVFFFLPETIGLSLEEIQLLYEEGIKPWKSASWVPPSRRGASSRETEAKKKSWKEVLKFPKSFN',\n",
       " 'YDL244W': 'MSTDKITFLLNWQPTPYHIPIFLAQTKGYFKEQGLDIAILEPTNPSDVTELIGSGKVDMGLKAMIHTLAAKARGFPVTSVASLLDEPFTGVLYLKGSGITEDFQSLKGKKIGYVGEFGKIQIDELTKHYGMKPEDYTAVRCGMNVAKYIIEGKIDAGIGIECMQQVELEEYLAKQGRPASDAKMLRIDKLACLGCCCFCTVLYICNDEFLKKNPEKVRKFLKAIKKATDYVLADPVKAWKEYIDFKPQLNNDLSYKQYQRCYAYFSSSLYNVHRDWKKVTGYGKRLAILPPDYVSNYTNEYLSWPEPEEVSDPLEAQRLMAIHQEKCRQEGTFKRLALPA',\n",
       " 'YDL243C': 'MGSMNKEQAFELLDAFYEAGGNCIDTANSYQNEESEIWIGEWMKSRKLRDQIVIATKFTGDYKKYEVGGGKSANYCGNHKHSLHVSVRDSLRKLQTDWIDILYVHWWDYMSSIEEVMDSLHILVQQGKVLYLGVSDTPAWVVSAANYYATSHGKTPFSIYQGKWNVLNRDFERDIIPMARHFGMALAPWDVMGGGRFQSKKAMEERKKNGEGLRTVSGTSKQTDKEVKISEALAKVAEEHGTESVTAIAIAYVRSKAKNVFPLVGGRKIEHLKQNIEALSIKLTPEQIEYLESIIPFDVGFPTNFIGDDPAVTKKASLLTAMSAQISFD',\n",
       " 'YDL242W': 'MNLEESQSNRGTLNIKKILVIVCMTNKICKHLIQSLLLSKRRLVSVLFDNYQGDMKLRSSPSAIPLVPSTKILQAMEARNDIVDSLIINSHATESDRRTLGDHEVRQCEDTNFGFKI',\n",
       " 'YDL241W': 'MNVTENALLFKCGSKGYINQTYTPTEIYNCGVAEGKKTAKEKNPTYSIFYDTFLTGQPAESPETFTCGSHGFTNASYVASDFYACGFLQGKGTETNAGIHNTRPSHSLAKFTILFMLVLYTIV',\n",
       " 'YDL240W': 'MIQNSAGYRSLNTASPMTVQVKNQKKICARCNKLVIPDSQRTKTTLKALGKYYHESCFTCQDCQKPLKPKYFPYQVDKTSESILLCQYDYFRRHNLLCHVCDTPLRGLYYTAFGYRYDEEHFSCTICATPCGVKKCFMYGNQLYCKYHFLKYFSKRCKGCEFPISDQYIEFPKGEEIHCWHPECYGIHKYWHVNLAAETVGLQYLPKLEYNPNSGDKDINPTAYELDKQMQAFNFILSKTWSVLYRFEEEAASCISDMFQYLTSNDQLKGIESTGLLVLKIDCLFRGLDTLNLSTNKSMPVNSDQECIENNAMAASKYSKFPKNLSTKIMIYLQLLRKLGTENKNETITISSFMSVITGLAHFLKLLTRFGLYTALENNKLTHSVNPLLRFLREVEKNELFENNPFQYIKTPVNATDSCAGCNKYIQEECIQFYEHRWHIACFTCSSCHKNINPRSLTDPTFNKEKKKILCSHCSIDDPASVPGFKFVTKLAQLIFLLKIALVKSRTVMLKSKASNKVGRNSLQSTMLKEQTYIRTLNDIKRLRSRRESVRVTHNKQQARKSVILETAETDLNDPTKQGDSKNLVIQTDDPSSSQQVSTRENVFSNTKTLTLDDISRIVAAEQARELRPNAFAHFKKLKETDDETSNVVPKKSGVYYSELSTMELSMIRAISLSLLAGKQLISKTDPNYTSLVSMVFSNEKQVTGSFWNRMKIMMSMEPKKPITKTVFGAPLDVLCEKWGVDSDLGVGPVKIRIPIIIDELISSLRQMDMSVEGIFRKNGNIRRLRELTANIDSNPTEAPDFSKENAIQLSALLKKFIRELPQPILSTDLYELWIKAAKIDLEDEKQRVILLIYSLLPTYNRNLLEALLSFLHWTSSFSYIENEMGSKMDIHNLSTVITPNILYLRHKEISNDNVPDEPESGLVDSFAQNKGENYFLAIEIVDYLITHNEEMAMVPKFLMNLLKDVQLQKLDNYESINHFISTVMQSKTIDYSECDIKTPVTVKDSTTTVIQGEINK',\n",
       " 'YDL239C': 'MNHWLAFLNKPESLKEQNSDCDQQGEMRHVTDGTLTKSPESKPFRERRSQTWIDSEVPTSTEKSNVQESISSDIISKLSNRRSRRNRSESWAGSEASSPSGNISTLENATEKNTLKSPNKFLQRGGLPTVGIGSQALSPAGKPSTLGNVSPGKFTTYKVHNSIEVNRFSSTPTKLLTNPHKVAAISNDEHYVVSNESLEENIEVAHLENVFRSSKTPDEEQSEYMKLGEIRLSSSSYGGSISKENSLPKVLDELQSQNEEIKALRQKLEEKDDRIQELEELNSMNDAKLQRIEDLQKEFHNERKAASKRLNIVQDRFRKEIKKIREEKITDFQNKNASKKEKNEVTSAKTKCKAFSQRNILVSELYRKQKQILNLQQENDKFLKDINESNNSIVKLRSEVEILKSNLQLSQDENKKLHDNGSFYEKRLNDVYSYMQNLSLFEKDLGKFILEEMKCGHSPSMFQNGFAKLYPDFQDIKNLENMEQYKQLKGKIELLEKNDRIRLEKIISVFKLINERLHFMQQQHSHKIKYLQKEALTKEQQFRLEKRRWHDILNLKEENFQKLKSELKEKLILSEKIQKNAEDKLNDYMNEHQEIVEKLQNQALIASRWSTQIQESENTHKKITDELAGKQSEILKLEETILSLKEDVFQEKLNLKKLYGDPSTELNFETVGKSFPHITKEKYDSLGLDILTDLTYVQSQNLIKNLLIVLDIPLKTFLKIVPTIVIQLRCELTLLTKFANDLNLKVFGKQLDFKSRRKVAMNEFLNNHDIAEVKHPLEYDLQALFKYFFS',\n",
       " 'YDL238C': 'MTKSDLLFDKFNDKHGKFLVFFGTFVDTPKLGELRIREKTSVGVLNGIIRFVNRNSLDPVKDCLDHDSSLSPEDVTVVDIIGKDKTRNNSFYFPGFVDTHNHVSQYPNVGVFGNSTLLDWLEKYTFPIEAALANENIAREVYNKVISKTLSHGTTTVAYYNTIDLKSTKLLAQLSSLLGQRVLVGKVCMDTNGPEYYIEDTKTSFESTVKVVKYIRETICDPLVNPIVTPRFAPSCSRELMQQLSKLVKDENIHVQTHLSENKEEIQWVQDLFPECESYTDVYDKYGLLTEKTVLAHCIHLTDAEARVIKQRRCGISHCPISNSSLTSGECRVRWLLDQGIKVGLGTDVSAGHSCSILTTGRQAFAVSRHLAMRETDHAKLSVSECLFLATMGGAQVLRMDETLGTFDVGKQFDAQMIDTNAPGSNVDMFHWQLKEKDQMQEQEQEQGQDPYKNPPLLTNEDIIAKWFFNGDDRNTTKVWVAGQQVYQI',\n",
       " 'YDL237W': 'MLGLKGCLTILIGYVIAVCALFSSRGRNPSLTDWEKLKDQKISNIDNFGLTGQHLLEFFQENLPFLSFSEEKYRHKHVSLYYDVFKEYILRRASSKKCLPVDSAIAKLNKDVNPMPVHSHNDYWRKLPLFEGLAYGASSTEADVWNIDEKILAVGHNEAYLDPVELTLDKLYTGPLLEILDEVNCQDSDADRKNGVFFNSPETSLFFYIDFKSDDNELTYKLLMEQYFKSLIDSGYLTYYDMKKDEIIWRPVTVILTGNYPTSLDILDNGNDNGYFESSQRFAFLDAPLLSLEPKYSKLSVAATVSFSQLMKHCGSDHWKVSLRGRMDSNEISCAKSIIDGAHALKLKTRIWGAPTWPANLVETISRQIIHDLGSDLLNLDNLFMASSLI',\n",
       " 'YDL236W': 'MTAQQGVPIKITNKEIAQEFLDKYDTFLFDCDGVLWLGSQALPYTLEILNLLKQLGKQLIFVTNNSTKSRLAYTKKFASFGIDVKEEQIFTSGYASAVYIRDFLKLQPGKDKVWVFGESGIGEELKLMGYESLGGADSRLDTPFDAAKSPFLVNGLDKDVSCVIAGLDTKVNYHRLAVTLQYLQKDSVHFVGTNVDSTFPQKGYTFPGAGSMIESLAFSSNRRPSYCGKPNQNMLNSIISAFNLDRSKCCMVGDRLNTDMKFGVEGGLGGTLLVLSGIETEERALKISHDYPRPKFYIDKLGDIYTLTNNEL',\n",
       " 'YDL235C': 'MSTIPSEIINWTILNEIISMDDDDSDFSKGLIIQFIDQAQTTFAQMQRQLDGEKNLTELDNLGHFLKGSSAALGLQRIAWVCERIQNLGRKMEHFFPNKTELVNTLSDKSIINGINIDEDDEEIKIQVDDKDENSIYLILIAKALNQSRLEFKLARIELSKYYNTNL',\n",
       " 'YDL234C': 'MSKILFCKSKVFLHPTSDARDNIAGFLLLTLEANKLSHQAILQYIPESGLSTLEISKLLKHEAKVGTCPTSTPFVIENSINFSNLVNTSLGQAFEISLSQIYCIQFRPPSPNGWYVGSLVIYPLTEQFTGFQPPVLFFHDQLCPSTTDKLKRLRKSMNPFDDSDELYWGGVDLRNKINELMELKKSNLEPEFWLVNPSLNDLRNFVSKDLLESYNNSKKDTTELATAGVKLNEKFQEWKWNVMSKIADVTTKSTNFIDSWLTNNSPIQKSQIDNEYLQKLLNNEKVKQIEQDYDSARVYLANWSLGVKQEAERYQKQNKLFDSYRNNIFNDLNLTDELSDTEINNALQRQFPLTEAKWNSLWDENDGRLRVTVNEVKDFIFHGGLENDSLRGKVWGFLLEIYPWDSSQDERVQIDQTLAAEYDQLKLTWSKDFLQFDDEDEEEYWNDQLFRISKDVRRCDRNLEIFQYNTIDGLPPPPQQLPANENNSTSPESANDESDDADDGVRNPHLIHLQNILITYNVYNTNLGYVQGMTDLLSPIYVIMKEEWKTFWCFTHFMDIMERNFLRDQSGIHEQMLTLVELVQLMLPELSEHLNKCDSGNLFFCFRMLLVWFKREFEMEDIMHIWENFWTFYYSSQFQLFFMLAILQKNSQAILQHLNQFDQILKFFNELNGKLDWNDLMVRAELLFKKFEKMMHVMERDLQNVSSSSSSSSTGVLPCQSERLTLLLSKKPIIRHEGQRSKNSVK',\n",
       " 'YDL233W': 'MYQGPPQPPPQAVPMPYIVNNNTPPYPNGNINFPPTAQQNIPPTVYPQQVPFPGQPQGGQFPQPSSEQQVFNQLPQVTQTFHNSAQNTNATGGPGSGSMPMFTPVASFPHPMATAATAAAPLPRSASQASLSMLRVPYHVRKYLSNLAMLKLYEIINEVNTAMGKIGLLSFWTELISDIFTPDAVIRYSKKSMTDYREFEFIIPVFPVICSTLGRFGIVRMEVKVLQLKTQVLSNSTIFFNCPRVTFVYYYPDGSYITHFSQMKGAFDLDLKINWLDVSMHSFVPDIEWNAVERLLSDDTKSTEIEQIFRKLKQEDVKEQGNSFAENNATNVPPNFEAITQLRSYFDVFRNVSVFGTQEGLMRVMQISTVMSTLKNLRKFQIEKNIDSPVTALSAYIDADKKDSGSEPLHAKRRRNSGISPRTTTLGPNGNSNTSNEELPTSDVNDINKDMTKKKMKF',\n",
       " 'YDL232W': 'MISDEQLNSLAITFGIVMMTLIVIYHAVDSTMSPKN',\n",
       " 'YDL231C': 'MKRYERDRSPTPDPDIVKGSYSQTSLRSLHELNYKNPAGISGLSFAGSPQQSVASLSQMRLENLVKDKHWEEVEDFGLEELRDGFFDAAFTKPDSKARSPNSDIDDDNGAARKKLQSGFTKLSEYVWTAIYRPIIHFPRDIRKNGVSIFKFFIAYFIAIVICVIRPSGRWIGHEFRYFLPIAVLIHHPVRNIGVQLEMTISSIIGASFGLGWSALAWYISTATKPTANYQGGILFQSLTMALLFAIWLRSVYRRFFYFTTSFSISIIFTHTVRLASSKFDLKWQIFWDFGISYLFGLLLSLLVCVCVSPHSGNAELMEHYNKCLQTTKTFLMALVDTELIKSKEQIYLAQVKMVKTLNIDLSQGFRDFVNQLTISRFDLQSLKSLRNSLTAMETSLRVLPIAPKIFNDDELKKMYEELEKYRSDSATLSKEASASPQSSGIPTRENTPSAFKPIGPGLLKNEIYINALKASFSKSIFNLILEMIFVLENLSRVLKKYESPNQKNNLDECVKILSHSHSKLKRKIYKLDVCYRDFVNSSFFSQELLNDEESVDIFLFLRYLRNSARQLVTVIHDCQVLGENIHWRIALPSYPLSRALTRLPKQCVLDEGAGNVLHYFEAKRDVDEIFERVYNTYTSRHKYNKGEEEALRLDSQGGDEKSQNRKNHTISIRAIDHNDFNFHTTQNPWRFKLWKLSRILSGDECKWTLKITFCMIFLCLPTWLPESYHWYQEFHCWWAPLTFYLLAHRRYSGNWALVMRRLICGIVGIFWGWAANQSRHFGSPYVVCTFAGLIVVPFSINFLVYRNTKSSFTALMCFTIIALEPYSKPNRHYNLTTAGIWKSTWVTGLALIIGILVSIPINWIVWPFRARTELRDSMSSLLAHLGQSYQTVADRYLYRDADDAPTDLTFAFSHIREVRLTQSLEAIRELLKKARHEPIIISNFNPEKYASLINSCQFLLSKIIEARISGAFFEIWDQDFDIETTRALLSLRRDSVSSVIFVFYILSNCFRSKNKIPRYLPNPIMSRKKLYHFIKKFSEMKDQSHSNLNSGGNSMEKNLFKKIYQQKASSSGQQQLPLPSVANSSEIDSEKMHWTEVHGIAFARAFTDISEALFQVESCAKDILGEENF',\n",
       " 'YDL230W': 'MAAAPWYIRQRDTDLLGKFKFIQNQEDGRLREATNGTVNSRWSLGVSIEPRNDARNRYVNIMPYERNRVHLKTLSGNDYINASYVKVNVPGQSIEPGYYIATQGPTRKTWDQFWQMCYHNCPLDNIVIVMVTPLVEYNREKCYQYWPRGGVDDTVRIASKWESPGGANDMTQFPSDLKIEFVNVHKVKDYYTVTDIKLTPTDPLVGPVKTVHHFYFDLWKDMNKPEEVVPIMELCAHSHSLNSRGNPIIVHCSAGVGRTGTFIALDHLMHDTLDFKNITERSRHSDRATEEYTRDLIEQIVLQLRSQRMKMVQTKDQFLFIYHAAKYLNSLSVNQ',\n",
       " 'YDL229W': 'MAEGVFQGAIGIDLGTTYSCVATYESSVEIIANEQGNRVTPSFVAFTPEERLIGDAAKNQAALNPRNTVFDAKRLIGRRFDDESVQKDMKTWPFKVIDVDGNPVIEVQYLEETKTFSPQEISAMVLTKMKEIAEAKIGKKVEKAVITVPAYFNDAQRQATKDAGAISGLNVLRIINEPTAAAIAYGLGAGKSEKERHVLIFDLGGGTFDVSLLHIAGGVYTVKSTSGNTHLGGQDFDTNLLEHFKAEFKKKTGLDISDDARALRRLRTAAERAKRTLSSVTQTTVEVDSLFDGEDFESSLTRARFEDLNAALFKSTLEPVEQVLKDAKISKSQIDEVVLVGGSTRIPKVQKLLSDFFDGKQLEKSINPDEAVAYGAAVQGAILTGQSTSDETKDLLLLDVAPLSLGVGMQGDMFGIVVPRNTTVPTIKRRTFTTCADNQTTVQFPVYQGERVNCKENTLLGEFDLKNIPMMPAGEPVLEAIFEVDANGILKVTAVEKSTGKSSNITISNAVGRLSSEEIEKMVNQAEEFKAADEAFAKKHEARQRLESYVASIEQTVTDPVLSSKLKRGSKSKIEAALSDALAALQIEDPSADELRKAEVGLKRVVTKAMSSR',\n",
       " 'YDL227C': 'MLSENTTILMANGEIKDIANVTANSYVMCADGSAARVINVTQGYQKIYNIQQKTKHRAFEGEPGRLDPRRRTVYQRLALQCTAGHKLSVRVPTKPLLEKSGRNATKYKVRWRNLQQCQTLDGRIIIIPKNHHKTFPMTVEGEFAAKRFIEEMERSKGEYFNFDIEVRDLDYLDAQLRISSCIRFGPVLAGNGVLSKFLTGRSDLVTPAVKSMAWMLGLWLGDSTTKEPEISVDSLDPKLMESLRENAKIWGLYLTVCDDHVPLRAKHVRLHYGDGPDENRKTRNLRKNNPFWKAVTILKFKRDLDGEKQIPEFMYGEHIEVREAFLAGLIDSDGYVVKKGEGPESYKIAIQTVYSSIMDGIVHISRSLGMSATVTTRSAREEIIEGRKVQCQFTYDCNVAGGTTSQNVLSYCRSGHKTREVPPIIKREPVYFSFTDDFQGESTVYGLTIEGHKNFLLGNKIEVKSCRGCCVGEQLKISQKKNLKHCVACPRKGIKYFYKDWSGKNRVCARCYGRYKFSGHHCINCKYVPEAREVKKAKDKGEKLGITPEGLPVKGPECIKCGGILQFDAVRGPHKSCGNNAGARIC',\n",
       " 'YDL226C': 'MSDWKVDPDTRRRLLQLQKIGANKKCMDCGAPNPQWATPKFGAFICLECAGIHRGLGVHISFVRSITMDQFKPEELLRMEKGGNEPLTEWFKSHNIDLSLPQKVKYDNPVAEDYKEKLTCLCEDRVFEEREHLDFDASKLSATSQTAASATPGVAQSREGTPLENRRSATPANSSNGANFQKEKNEAYFAELGKKNQSRPDHLPPSQGGKYQGFGSTPAKPPQERSAGSSNTLSLENFQADPLGTLSRGWGLFSSAVTKSFEDVNETVIKPHVQQWQSGELSEETKRAAAQFGQKFQETSSYGFQAFSNFTKNFNGNAEDSSTAGNTTHTEYQKIDNNDKKNEQDEDKWDDF',\n",
       " 'YDL225W': 'MSTASTPPINLFRRKKEHKRGITYTMLLCGPAGTGKTAFANNLLETKIFPHKYQYGKSNASISSNPEVKVIAPTKVVSFNSKNGIPSYVSEFDPMRANLEPGITITSTSLELGGNKDQGKPEMNEDDTVFFNLIMTHGIGENLDDSLCSEEVMSYLEQQFDIVLAEETRIKRNPRFEDTRVHVALYFIEPTGHGLREVDVELMKSISKYTNVLPIITRADSFTKEELTQFRKNIMFDVERYNVPIYKFEVDPEDDDLESMEENQALASLQPFAIITSDTRDSEGRYVREYPWGIISIDDDKISDLKVLKNVLFGSHLQEFKDTTQNLLYENYRSEKLSSVANAEEIGPNSTKRQSNAPSLSNFASLISTGQFNSSQTLANNLRADTPRNQVSGNFKENEYEDNGEHDSAENEQEMSPVRQLGREIKQENENLIRSIKTESSPKFLNSPDLPERTKLRNISETVPYVLRHERILARQQKLEELEAQSAKELQKRIQELERKAHELKLREKLINQNKLNGSSSSINSLQQSTRSQIKKNDTYTDLASIASGRD',\n",
       " 'YDL224C': 'MSLVHNQTNLNESKFLIERAFSSSSETVPLSKEATYPMPTAYSFSAVRSNSETNIKRENPQGFAKEPIMTSMLHNLTMSTGKGNGNDVNSLAPHDVDVGPYCLLLRNLPKDITLRECYCIFSLATGVSSIELKRDDREPFNDNEKVVVVKFGSLSLVTHYANILNSKSEIFGPSFPFRSHIDVVNEQTQLPVSFQEHVSSGTTNSSPKNYQLSSSAQNEIQNQSFNTISYGKTSSSPLGPSAAKPRPSLLSERSLRFSFNDPFGLETISQRKESVPFLRNSISQHDLSNVTTTPVPAGMPPQKDAGKSLLLLEKDEINESIWNGDELVNDVGNSSFGASLQEPPMSSTPVMEWNASSTANIPLFQLSSQENHQSNLLPPSHHSISQDVPHIQSQPNLNNSGVIHSATSLPHYHLLNQINASTKTQSIQQSVSNVPSNLDLNLQTENGHPQSSAPNGSSIFNNQKVNQGFLVSEQDTSTISRQKECSSTASASAFSKNNETNVAGSTTISQADLSLLAKVPPPANPADQNPPCNTLYVGNLPPDATEQELRQLFSNQQGFRRLSFRNKMNSHGHGNGHGHGPICFVEFEDVSFATRALAELYGSQLPHPRPSLNNKGGIRLSFSKNPLGVRGSNSRSKSGYSFNGSYGKS',\n",
       " 'YDL223C': 'MNMNESISKDGQGEEEQNNFSFGGKPGSYDSNSDSAQRKKSFSTTKPTEYNLPKEQPESTSKNLETKAKNILLPWRKKHNKDSETPHEDTEADANRRANVTSDVNPVSADTKSSSGPNATITTHGYSYVKTTTPAATSEQSKVKTSPPTSHEHSNIKASPTAHRHSKGDAGHPSIATTHNHSTSKAATSPVTHTHGHSSATTSPVTHTHGHASVKTTSPTNTHEHSKANTGPSATATTHGHINVKTTHPVSHGHSGSSTGPKSTAAAQDHSSTKTNPSVTHGHTSVKDNSSATKGYSNTDSNSDRDVIPGSFRGMTGTDVNPVDPSVYTSTGPKSNVSSGMNAVDPSVYTDTSSKSADRRKYSGNTATGPPQDTIKEIAQNVKMDESEQTGLKNDQVSGSDAIQQQTMEPEPKAAVGTSGFVSQQPSYHDSNKNIQHPEKNKVDNKNISERAAEKFNIERDDILESADDYQQKNIKSKTDSNWGPIEYSSSAGKNKNLQDVVIPSSMKEKFDSGTSGSQNMPKAGTELGHMKYNDNGRDNLQYVAGSQAGSQNTNNNIDMSPRHEAEWSGLSNDATTRNNVVSPAMKDEDMNEDSTKPHQYGLDYLDDVEDYHENDIDDYSNAKKNDLYSKKAYQGKPSDYNYEQREKIPGTFEPDTLSKSVQKQDEDPLSPRQTTNRAGMETARDESLGNYEYSNTSGNKKLSDLSKNKSGPTPTRSNFIDQIEPRRAKTTQDIASDAKDFTNNPETGTTGNVDTTGRMGAKSKTFSSNPFDDSKNTDTHLENANVAAFDNSRSGDTTYSKSGDAETAAYDNIKNADPTYAKSQDITGMTHDQEPSSEQKASYGSGGNSQNQEYSSDDNIDVNKNAKVLEEDAPGYKREVDLKNKRRTDLGGADASNAYAAEVGNFPSLIDPHVPTYGFKDTNTSSSQKPSEGTYPETTSYSIHNETTSQGRKVSVGSMGSGKSKHHHNHHRHSRQNSSKGSDYDYNNSTHSAEHTPRHHQYGSDEGEQDYHDDEQGEEQAGKQSFMGRVRKSISGGTFGFRSEI',\n",
       " 'YDL222C': 'MIFKRFVNLLVFLFLLGAGLLTFFLILSGGRESGTLKNFYWLQADTNGFNSAPSTTRWYNYNWCGYEDGQLANCSSRAPAKPFSPRDNFGNSVNLPSSFRNNRDTYYYLSRVGWAMLLISLFFIVLALVPGFLATFLPFKAVPVLYCVLSWLAFFFIILAACLYTGCYVKARKTFRNSGRSARLGPKNFAFIWTSVFLMLVNAIWSTIFSATHKAHSTYSDHDMYAQYESPSVDTGAQMEKSTYNSGATDGAGPITAAPVVGQPQPTTTTTPAGNGKFFQKLKTRKQVPSAELEPAGDGGLAGPVTVRD',\n",
       " 'YDL220C': 'MDTLEEPECPPHKNRIFVSSSKDFEGYPSKAIVPVQFVALLTSIHLTETKCLLGFSNFERRGDQSQEDQYLIKLKFKDRGSERLARITISLLCQYFDIELPDLDSDSGASPTVILRDIHLERLCFSSCKALYVSKHGNYTLFLEDIKPLDLVSVISTISTKSTNSSKHSSSELISECDLNNSLVDIFNNLIEMNRDEKNRFKFVKLIHYDIELKKFVQDQQKVLSQKSKAAAINPFFVPNRLGIPYIESQNEFNSQLMTLNVDEPTTDISNMGEEMHDSADPIEDSDSSTTSSTGKYFSSKSYIQSQTPERKTSVPNNWHDDDSGSKRKRKLSFHSPNASSIRKAISYEQLSLASVGSVERLEGKIVGMNPPQFASINEFKYCTLKLYFTQLLPNVPDKVLVPGVNCIEIVIPTRERICELFGVLNCQSDKISDILLLEKPDRISVEVERILWDNDKTASPGMAVWSLKNISTDTQAQAQVQVPAQSSASIDPSRTRMSKMARKDPTIEFCQLGLDTFETKYITMFGMLVSCSFDKPAFISFVFSDFTKNDIVQNYLYDRYLIDYENKLELNEGFKAIMYKNQFETFDSKLRKIFNNGLRDLQNGRDENLSQYGIVCKMNIKVKMYNGKLNAIVRECEPVPHSQISSIASPSQCEHLRLFYQRAFKRIGESAISRYFEEYRRFFPIHRNGSHLAKLRFDEVKHEPKKSPTTPALAEHIPDLNADVSSFDVKFTDISSLLDSSARLPRPQQTHKSNTLYSCEGRIIAIEYHASDLCFHITNELPLLQTRGLAPERVLQLHIITSKNFAYFFNRSSAYLQRQPLEEKYTQLAQFLGHSFKFNITSSLTLFPDTTVALQIWCPIECTFRELQQQLAHPKVAAAPDSGSLDCAINATVNPLRLLAAQNGVTVKKEEDNDDDAGAVPTS',\n",
       " 'YDL219W': 'MKIVLQKVSQASVVVDSKVISSIKHGYMLLVGISIDDSMAEIDKLSKKVLSLRIFEDESRNLWKKNIKEANGEILSVSQFTLMAKTKKGTKPDFHLAQKGHIAKELYEEFLKLLRSDLGEEKVKDGEFGAMMSCSLTNEGPVTIILDSDQ',\n",
       " 'YDL218W': 'MKRVTGVFLTLLRFSQFASSVLVMSLLAYAIHAYGNRGNKKTNFTLATGVISVFYLIALGILCLALPTLIYIGMYFCAELIVCMLWLAAFVVLAKAQGERSCSNTNADGLYYNPYSGQYTADSHRRACNSSQAAIAFSGLCFVLFLISVILLGINVLTPIRKRYQTQGMWRSGASMGTKLHRWSGLALSEPFEETAAYDNTNVRTGDVEAGAGDNAAYTSEPNGDARYATNDPNGQYHTTTTNTRYTTTTADPKTRYTTNDRNPGSANVANSAVDQHAYSTDESGDRSYQEKVTEGAHSGAMSGSTAEPNRNVNQMP',\n",
       " 'YDL217C': 'MVYTGFGLEQISPAQKKPYNELTPEEQGERGAEMIMNFMTSCPGKSVVSGVTGFALGGVLGLFMASMAYDTPLHTPTPANTAATATAGNIGVGGISRTVQQISDLPFRQQMKLQFTDMGKKSYSSAKNFGYIGMIYAGVECVIESLRAKNDIYNGVTAGFFTGAGLAYKAGPQAALMGGAGFAAFSAAIDLYMKSEDGRPPQNDFKE',\n",
       " 'YDL216C': 'MSLSNKTVKELRQLLKERYTVEDELTESIALSSMRFKPSQEPEFHALSQSSLLKTKLKQQSSTDIPSYTHVLISKLSCEKITHYAVRGGNIEIMGILMGFTLKDNIVVMDCFNLPVVGTETRVNAQLESYEYMVQYIDEMYNHNDGGDGRDYKGAKLNVVGWFHSHPGYDCWLSNIDIQTQDLNQRFQDPYVAIVVDPLKSLEDKILRMGAFRTIESKSDDNSATSYYELETIIFDSELNRALFETKLNLHCVIEDDESEQISLNRLIDSMKQYSYLMDSKNVRTRIKLATTSERVSNENKKNIDYQNRSTRSQFCLNTQRGDSTETSSFGSMFSGDNTSDVDMEDRNLTEFDSTDTSLCINGEPSIHVNRVERSSRSTDNFHNSKKRMNSNQERCHDEGNDMLQRNVLETDYARAKNRILASKIKQYERLRFYKDTFTL',\n",
       " 'YDL215C': 'MLFDNKNRGALNSLNTPDIASLSISSMSDYHVFDFPGKDLQREEVIDLLDQQGFIPDDLIEQEVDWFYNSLGIDDLFFSRESPQLISNIIHSLYASKLDFFAKSKFNGIQPRLFSIKNKIITNDNHAIFMESNTGVSISDSQQKNFKFASDAVGNDTLEHGKDTIKKNRIEMDDSCPPYELDSEIDDLFLDNKSQKNCRLVSFWAPESELKLTFVYESVYPNDDPAGVDISSQDLLKGDIESISDKTMYKVSSNENKKLYGLLLKLVKEREGPVIKTTRSVENKDEIRLLVAYKRFTTKRYYSALNSLFHYYKLKPSKFYLESFNVKDDDIIIFSVYLNENQQLEDVLLHDVEAALKQVEREASLLYAIPNNSFHEVYQRRQFSPKEAIYAHIGAIFINHFVNRLGSDYQNLLSQITIKRNDTTLLEIVENLKRKLRNETLTQQTIINIMSKHYTIISKLYKNFAQIHYYHNSTKDMEKTLSFQRLEKVEPFKNDQEFEAYLNKFIPNDSPDLLILKTLNIFNKSILKTNFFITRKVAISFRLDPSLVMTKFEYPETPYGIFFVVGNTFKGFHIRFRDIARGGIRIVCSRNQDIYDLNSKNVIDENYQLASTQQRKNKDIPEGGSKGVILLNPGLVEHDQTFVAFSQYVDAMIDILINDPLKENYVNLLPKEEILFFGPDEGTAGFVDWATNHARVRNCPWWKSFLTGKSPSLGGIPHDEYGMTSLGVRAYVNKIYETLNLTNSTVYKFQTGGPDGDLGSNEILLSSPNECYLAILDGSGVLCDPKGLDKDELCRLAHERKMISDFDTSKLSNNGFFVSVDAMDIMLPNGTIVANGTTFRNTFHTQIFKFVDHVDIFVPCGGRPNSITLNNLHYFVDEKTGKCKIPYIVEGANLFITQPAKNALEEHGCILFKDASANKGGVTSSSMEVLASLALNDNDFVHKFIGDVSGERSALYKSYVVEVQSRIQKNAELEFGQLWNLNQLNGTHISEISNQLSFTINKLNDDLVASQELWLNDLKLRNYLLLDKIIPKILIDVAGPQSVLENIPESYLKVLLSSYLSSTFVYQNGIDVNIGKFLEFIGGLKREAEASA',\n",
       " 'YDL214C': 'MSLSRILRYNQRNNKTTASLTAEHAYSDNWAYSVSLGDPTSVGVNMAAKTGEALNKSYDSVFSSLPVADSVPRTDFTASSRDDENTDVQKLTTSWMEKIDTKMPENISKIDSNIISSPMVSKVEARFIVPKGRLRKNSTDFTSSFSNSLSLPKSYGKLIFFTSKKNSSSTKKNLANDISDNKHNNNSSNTIGHNIPVTTATATCDEIACTSTEHEYNVYEEERMFTTRVYSLEDSVSSLSTNPLDDTYSEAVQVNTRHIEDTESTAHIRKHSYTTSLSSIKRLFKITSFSNNNSNSCDHQESTVADDCAISSSLKETTSSPVSTGSFSLMIENEDSDRDQIIQALYSNIEASTDLVSRKYRDLDVVLGEGSGGKVKLVQRVLDNKVFALKEYRSKKKRESERKYIKNIISEYCIASTLKNPNICETLEILYEKGKIFQILEYCEYDLFSLVMSEKMHYEEICCLFKQLINGVKYLHDIGLSHRDLKLDNCVVTRRGILKLIDFGASSVFHYPLSSQMIEANGIVGSDPYLSPEVFYFNEYDPRALDVWSVGIIFFCMITRRFPWKYPKVKDVQFKAFCSGRGVSSFKDLVTRPATDDSNNYDNDGYEEGVIDMGPNFILHRLPEETHKIMRRILEVSPFRRITINGILQDGWIKEIETCQVVGAASPNEASLRIINKGNHIHTNIDQRYAHIGGLHQRT',\n",
       " 'YDL213C': 'MGSEEDKKLTKKQLKAQQFRKSKEEKDQEKDVKKEQAPEGKRPNSAAGNDGEEPVKKKRKTRRGRGGKGKNGKKGNRFIVFVGSLPRDITAVELQNHFKNSSPDQIRLRADKGIAFLEFDADKDRTGIQRRMDIALLQHGTLLKEKKINVELTVGGGGNSQERLEKLKNKNIKLDEERKERLTKMINDGNQKKIAKTTATAAQTSGTDNKPVPAGIHPDRAKLLK',\n",
       " 'YDL212W': 'MFSYSDFCSIGTAMILSATTFLMGVFFSNMPYDYHLLFNPNSTQEHFDLALRHYQILHETPLPVIVTLCVVAGIGLVGGTIKVFKPNPELQMFEYCSLGLYVLAICVFLTNVKTGIDCSVSHNWGEVTENQGLAVIASSNIILLVMFAGVIILQIGLWYSNWDLQKRLKEFYAQEEREAANAGKKTEKVDNAKKNDNKSKGAQKRKNAKK',\n",
       " 'YDL211C': 'MLLNVTSSQYISTPQSRSLSEIDTSETASLSSATDHIFALSTEVVSSITTNLIEGLESSIQVPISTAYGTTSFRNNTSSPQYLVSNCTSSVQSNITIDRGLLSTLKTFTTSQVPTIEPSTTKLTTPLSTTFTSTSTSEIYSVFTSENSVYIIYDQEYKFTERSTTFNTHFPQTTVLQESNPPLTFTIPSNTITGDAKLYQYLSGALNTQDTSDANNRRTGVIVGSTVGVVIGVVIVIFIGFIIIRNRRNVKNHSKKGFSHDIGKRVSCDEVTETEAPSNPFLNVLNYKVTTNGEGKRDSFENGRDLHRASSSDGIYIAHPYYGMADHESGRFSYVSSYNESAESSIEETSSSASTITRPNIQQTNSFLREII',\n",
       " 'YDL210W': 'MSMSSKNENKISVEQRISTDIGQAYQLQGLGSNLRSIRSKTGAGEVNYIDAAKSVNDNQLLAEIGYKQELKRQFSTLQVFGIAFSIMGLLPSIASVMGGGLGGGPATLVWGWFVAAFFILLVGITMAEHASSIPTAGGLYYWTYYYAPEGYKEIISFIIGCSNSLALAAGVCSIDYGLAEEIAAAVTLTKDGNFEVTSGKLYGIFAGAVVVMCICTCVASGAIARLQTLSIFANLFIIVLLFIALPIGTKHRMGGFNDGDFIFGKYENLSDWNNGWQFCLAGFMPAVWTIGSFDSCVHQSEEAKDAKKSVPIGIISSIAVCWILGWLIIICLMACINPDIDSVLDSKYGFALAQIIYDSLGKKWAIAFMSLIAFCQFLMGASITTAVSRQVWAFSRDNGLPLSKYIKRVDSKYSVPFFAILAACVGSLILGLLCLIDDAATDALFSLAVAGNNLAWSTPTVFRLTSGRDLFRPGPFYLGKIWSPIVAWTGVAFQLFIIILVMFPSQQHGITKSTMNYACVIGPGIWILAGIYYKVYKKKYYHGPATNLSDDDYTEAVGADVIDTIMSKQEP',\n",
       " 'YDL209C': 'MTSWRDKSAKVQVKESELPSSIPAQTGLTFNIWYNKWSQGFAGNTRFVSPFALQPQLHSGKTRGDNDGQLFFCLFFAKGMCCLGPKCEYLHHIPDEEDIGKLALRTEVLDCFGREKFADYREDMGGIGSFRKKNKTLYVGGIDGALNSKHLKPAQIESRIRFVFSRLGDIDRIRYVESKNCGFVKFKYQANAEFAKEAMSNQTLLLPSDKEWDDRREGTGLLVKWANEDPDPAAQKRLQEELKLESLNMMVHLINNNTNSAGTEVNNKNNERLDRTFPEASVDNVKKRLLPLDNGMESDDFIEKLKKVKKNISRENISSKPSVGKLGGPLLDYLSSDED',\n",
       " 'YDL208W': 'MGKDNKEHKESKESKTVDNYEARMPAVLPFAKPLASKKLNKKVLKTVKKASKAKNVKRGVKEVVKALRKGEKGLVVIAGDISPADVISHIPVLCEDHSVPYIFIPSKQDLGAAGATKRPTSVVFIVPGSNKKKDGKNKEEEYKESFNEVVKEVQAL',\n",
       " 'YDL207W': 'MRFVFDEVFNSDTDSPEFEETCSTTSSTSSQCPTPEPSPAIKLPSFTKVGTKKLVNESVVILDPALENALRDLNLQSKLIPINEPIVAASSIIVPHSTNMPLPRASHSSLLDNAKNSNATAPLLEAIEESFQRKMQNLVLANQKEIQSIRENKRRVEEQRKRKEEEERKRKEAEEKAKREQELLRQKKDEEERKRKEAEAKLAQQKQEEERKKIEEQNEKERQLKKEHEAKLLQQKDKLGKAVTNFDKISKMFWHYKDKIAQIKQDIVLPIKKADVNVRNLLSRHKRKINPKFGQLTNSNQQLFKIQNELTQLINDTKGDSLAYHWILNFIAKAVVHQAETEVRVKPESALPLGKLTLYLLVQFPELQELFMARLVKKCPFVIGFTCEIDTEKGRQNMGWKRNNENKWEDNTSYDERMGGILSLFAIITRLQLPQEFITTTSHPFPIALSWHILARICNTPLNLITNTHFVILGSWWDAAAVQFLQAYGNQASKLLILIGEELTSRMAEKKYVGAARLRILLEAWQNNNMESFPEMSP',\n",
       " 'YDL206W': 'MHKPLRWLITIAFYVSNVILIGYSLSSNGSISEFYLHSVVLIECFSLLGVVTSDCLTPSLSYISSNIFHISDRVSGMTLLALGNALPDITSTYQSMKSGVTSLAIGELFGGIFFLLTVVIGLMGCVATIQFQHDKSIETYTEESFDQNLSYDRSNYILDVGIFTFMLLVSGTFLADGRLYFWECIVMVLTYCCCAVYLIKSYKYPCEINDALEREVEIKKTVLANNHITVPNRFTLTTTSDITSTDDGIRYVRPLGDTQIDEDNAISLDPTRLPSKSLDNISRFNQGIPERRDLIRRRIRGYLRSHYHGWVRMTLQDLLNIWEKQNLFNNTVKSLSLPSDDTHLFTKASLDEEGRPLIRKRMNSLQPKDFYKYLSLRNGENSNALDTAISAPQNEYQTYYNEPTSLFLTVPQKKTSKKSLSCDRIPNLVRSNNIILNDEATRTQESTNALNSISDVIDNSLLQYERDDIILDRTLSLCSTKSRTAWHSFQLYNYLTDVSLEIGFFEFLSLLVTTPVSIILYLSIPSEISQTDHDLPLSYLQNIQLIASPIILNQLITNNFSFWLLILSLVIAILLYFKTRTIPNKFNSDIIFTVAFLLSLACLSKAVHIIVVTLTHWINVFNISETILGLTIFTWGNSIGDLVSNITFVKIGVLEIAIGACFGSPLLYFLFGVGFDGIMIMLGDKTGKIVSGRDSNILMHHIDFKVDKNLINTGVGILIAFLIFTVLIPLNDWKIDKKISIALLTLYIVVTCISVFLEVHQV',\n",
       " 'YDL205C': 'MGPETLHIGGRKSKLAVIQSNHVLKLIEEKYPDYDCKVFTLQTLGDQIQFKPLYSFGGKALWTKELEDHLYHDDPSKKLDLIVHSLKDMPTLLPEGFELGGITKRVDPTDCLVMPFYSAYKSLDDLPDGGIVGTSSVRRSAQLKRKYPHLKFESVRGNIQTRLQKLDDPKSPYQCIILASAGLMRMGLENRITQRFHSDTMYHAVGQGALGIEIRKGDTKMMKILDEICDLNATICCLSERALMRTLEGGCSVPIGVESKYNEETKKLLLKAIVVDVEGTEAVEDEIEMLIENVKEDSMACGKILAERMIADGAKKILDEINLDRIK',\n",
       " 'YDL204W': 'MNRNTTTNKNANLNNSRNANAPGEAGHQNKTGLIYWTNPSKSGASFAATLVSLLILRNVNVISVLLKIGYMVLFTSFAVELSTKVLFDKGVVSRFGMQESPDLVGVLKPHIDRELDRLPALEDRIRKLVFAHRTRNNFTIGVSLYFLHGLFAIFSMNTVLIMTTIFLYTVPLIYDRKQARIDRAIDRMKDLVIHRFHKNYNKVVEKTEPYIDKIIPPQTDEGSYSTSISNENKSSTSQRNKSGLSSSEFDNMNDTSASKSGKDSYSTSQYNRAEYPVSQNENIGTLKSGKQEIPTEKDFNNRHENFSKPDVKTYDPRTVDIEEELAAHQRELEQNLKDGDYNLVGSKEIPDPITVPAPTRHTTKPAESQSIPIKNNETLHKTTHGLKQKLQHA',\n",
       " 'YDL203C': 'MVNQGQPQPNLYDKHINMFPPARARESSHKLGNANSDRHGLPAQNIVPAPYPVDDSIVELTPAIPFTSPSSSSSLSLPLSALNFTDGNADGGQLGTPVTINSNNGMDIFNSKPTGEIGYANNGTNSTGSRYELPFNFSSTKESLGSPAVQDASISSGNRISESVRDNSAPPPYEESESRILQEKVYRTEEKAPIRPLNNNPVPPQKINQPPTGSAKTDDNGSSGGEDKLSSYSPEALAFYQVYKKTITDSSKFTPEIQMQWCETLLTYAFNEDFISQYNINAEKLKRSLKPEEMLKNQKVILEHSFKVLTKLITLKWPPAMYLMGTLYSHQPYLPIKNKNIVIKNDEKALEYYCKAAKLNNSDACYRAGVCFEYQRGTSSLDPSPTKEQCIKKAFQYYQHGAEVCSNSACMYKLGMSHLYGLNMQKTDVLLAIKWFDKAAQKGDSPQTLYELGKIYEFSVLPPEIQNLLFANGIRKDSQLAIKYYQQCAKDFEYPLAQWKLGNCYEFGDLGLPVVAKKSIYWYSKAAAAQPKGNPMAMLSLSGWYLTGAPNILKPNNKEAFNWALKSSKCSDGKLARTEFALGFYYEKGVGCEVDLDLAKQYYQRAARMGFRKAVDALRSLTN',\n",
       " 'YDL202W': 'MLQLRFMPGWVPRNGFFGLKETIGTVHKRFYALASEQPSRKTVKPLDSRKTFLIDTYKHLMENSSMIFFVHYNNLSKTEDHHFRFKIKQTGGKLTKVRNNLFEVYLRNSHLPDPCGFVKRKEQNWKHPLLPLLKGPTATITYEDTNPQQVAKLLKVLQSAQDKLMVIGAKVENEVLNVEKINTFKTLPTKPEMQSQLVSVLQMLSGLGLVRTLENSSNALYLTLKSHNDNQKPKEDVESTTDAESKGSK',\n",
       " 'YDL201W': 'MKAKPLSQDPGSKRYAYRINKEENRKELKHVKINESSLVQEGQKIDLPKKRYYRQRAHSNPFSDHQLEYPVSPQDMDWSKLYPYYKNAENGQMTKKVTIADIGCGFGGLMIDLSPAFPEDLILGMEIRVQVTNYVEDRIIALRNNTASKHGFQNINVLRGNAMKFLPNFFEKGQLSKMFFCFPDPHFKQRKHKARIITNTLLSEYAYVLKEGGVVYTITDVKDLHEWMVKHLEEHPLFERLSKEWEENDECVKIMRNATEEGKKVERKKGDKFVACFTRLPTPAIL',\n",
       " 'YDL200C': 'MKELLYYTFIETEVTGAFLVFREKTQNLVFASLGNDKLFLLGKVEGFLKKHEKQDTMYDLQELKEAETYKKSIENYTICLENKMPLPSGAIPFEFLFGTDFQRKVWNELLNVEHGHVVTYGDIAKRIGKPTAARSVGRACGSNNLALLVPCHRIVGSNRKLTGYKWSCKLKEQLLNNEKENSLSLSRL',\n",
       " 'YDL199C': 'MKPPLNMSRSNKPLTQEANSSAHIDRAHQLAQDFNSKQDDTALTSLPHKNPDIFRFENNITAHSSRRGSLYRDSDATVVLPLSEHTPRLSMDDPYRQLLQQAEISQLRSKKKRHSSRVLRTSFISFVVLVSSLSGLDQGLISGNVMTLSFQKYFHYPLTSPLGNIVSIVNLGAFMASLFVYSGILEPCSRKKMLQISTMIYSLGAIVQVLALNQWCLLLGRFLLGVGMGFAFSMVIIYQFEFPLPCIRKRTLISIQCVSSVIAYSFGIWINCAFRYLGFAWRYPLSTHVALGIILNLMSFYLILESPSWLLKQKNDVEALVLISNVFDDGNFEENQTQLKFRVLKRDILLKSHLQKNSYPYAYILKDFSSIIKLLIGFQLLTRTNGVDAFLYYSPLILQQMGRGERKSIYLTGLNALIYSIVILAYVPLVLRKRKEKTNVLLGSIVMCALLFTISFTDWFPKSTTRYISILFAVFLFTHFISWDSIGWVMTIELLPHLSQAPVILLVSNFYWIFKWFVSLITPILIDRLSWKFYLIPSLSSFISIIFVLKIFPIETRDERLDSDDDSTGNGSGNHDDVFDDTGSEFSSSPSFSAYQINTLGSSIKQNNQAYSSIQNEQILPKNGNLSNQTHGSAQNVYFITSDSGPSRTGEFFSFHNRTDPNISDNIAANKPSSGGGQNSPGDMAVA',\n",
       " 'YDL198C': 'MPHTDKKQSGLARLLGSASAGIMEIAVFHPVDTISKRLMSNHTKITSGQELNRVIFRDHFSEPLGKRLFTLFPGLGYAASYKVLQRVYKYGGQPFANEFLNKHYKKDFDNLFGEKTGKAMRSAAAGSLIGIGEIVLLPLDVLKIKRQTNPESFKGRGFIKILRDEGLFNLYRGWGWTAARNAPGSFALFGGNAFAKEYILGLKDYSQATWSQNFISSIVGACSSLIVSAPLDVIKTRIQNRNFDNPESGLRIVKNTLKNEGVTAFFKGLTPKLLTTGPKLVFSFALAQSLIPRFDNLLSK',\n",
       " 'YDL197C': 'MPKNRGVLDAITRSVIDGSDQESSSSFNSDKEYAAVTKGLSSSRVQKKSSLRQMKSKVKELQSLVNHYRENEAALVSSAKLLSGEIIGYEIKMASLHGKMKSILDENNALKETHKSSAEKRIELVRLPSSKEERNYDEYTLLVNLKKEICAKLQDYKNVQNTVNTKLDEIHTFHEKYYEGLELSLDSKVFDAESSKELAKVRRELNNVRKNSEIKVNNLKMQLLQATKSLEHLKKQAKAKDDYLKCIPELVDKANLTMLSYKKSIANQRETIEALQAELSQQSETKGQIETETQNQVQIPTNVTLVDPFEENNPEDLFAIQEQELQDLRLHKKMADERSRTTHLHLERKNNTIKLLQSYVQSLIQRLPPAQRKHHLGIFQKLGSEKSCPLAPAVASTYAPLLLLSQHSNHQEIDNTPQRLLLAAPDGQSYSEKSTTLNLDYSSRKSYLSRLQPPHIANLKSLTLKTLPRVPTDSPQLPSKDKSQETAKKDDRPKLVANEPVTLDTSTPPVAQSLADSKHCSGLHK',\n",
       " 'YDL195W': 'MVKLAEFSRTATFAWSHDKIPLLVSGTVSGTVDANFSTDSSLELWSLLAADSEKPIASLQVDSKFNDLDWSHNNKIIAGALDNGSLELYSTNEANNAINSMARFSNHSSSVKTVKFNAKQDNVLASGGNNGEIFIWDMNKCTESPSNYTPLTPGQSMSSVDEVISLAWNQSLAHVFASAGSSNFASIWDLKAKKEVIHLSYTSPNSGIKQQLSVVEWHPKNSTRVATATGSDNDPSILIWDLRNANTPLQTLNQGHQKGILSLDWCHQDEHLLLSSGRDNTVLLWNPESAEQLSQFPARGNWCFKTKFAPEAPDLFACASFDNKIEVQTLQNLTNTLDEQETETKQQESETDFWNNVSREESKEKPTVFHLQAPTWYGEPSPAAHWAFGGKLVQITPDGKGVSITNPKISGLESNTTLSEALKTKDFKPLINQRLVKVIDDVNEEDWNLLEKLSMDGTEEFLKEALAFDNDESDAQDDANNEKEDDGEEFFQQIETNFQPEGDFSLSGNIEQTISKNLVSGNIKSAVKNSLENDLLMEAMVIALDSNNERLKESVKNAYFAKYGSKSSLSRILYSISKREVDDLVENLDVSQWKFISKAIQNLYPNDIAQRNEMLIKLGDRLKENGHRQDSLTLYLAAGSLDKVASIWLSEFPDLEDKLKKDNKTIYEAHSECLTEFIERFTVFSNFINGSSTINNEQLIAKFLEFINLTTSTGNFELATEFLNSLPSDNEEVKTEKARVLIASGKSLPAQNPATATTSKAKYTNAKTNKNVPVLPTPGMPSTTSIPSMQAPFYGMTPGASANALPPKPYVPATTTSAPVHTEGKYAPPSQPSMASPFVNKTNSSTRLNSFAPPPNPYATATVPATNVSTTSIPQNTFAPIQPGMPIMGDYNAQSSSIPSQPPINAVSGQTPHLNRKANDGWNDLPLKVKEKPSRAKAVSVAPPNILSTPTPLNGIPANAASTMPPPPLSRAPSSVSMVSPPPLHKNSRVPSLVATSESPRASISNPYAPPQSSQQFPIGTISTANQTSNTAQVASSNPYAPPPQQRVATPLSGGVPPAPLPKASNPYAPTATTQPNGSSYPPTGPYTNNHTMTSPPPVFNKPPTGPPPISMKKRSNKLASIEQNPSQGATYPPTLSSSASPLQPSQPPTLASQVNTSAENVSHEIPADQQPIVDFLKEELARVTPLTPKEYSKQLKDCDKRLKILFYHLEKQDLLTQPTIDCLHDLVALMKEKKYKEAMVIHANIATNHAQEGGNWLTGVKRLIGIAEATLN',\n",
       " 'YDL194W': 'MDPNSNSSSETLRQEKQGFLDKALQRVKGIALRRNNSNKDHTTDDTTGSIRTPTSLQRQNSDRQSNMTSVFTDDISTIDDNSILFSEPPQKQSMMMSICVGVFVAVGGFLFGYDTGLINSITSMNYVKSHVAPNHDSFTAQQMSILVSFLSLGTFFGALTAPFISDSYGRKPTIIFSTIFIFSIGNSLQVGAGGITLLIVGRVISGIGIGAISAVVPLYQAEATHKSLRGAIISTYQWAITWGLLVSSAVSQGTHARNDASSYRIPIGLQYVWSSFLAIGMFFLPESPRYYVLKDKLDEAAKSLSFLRGVPVHDSGLLEELVEIKATYDYEASFGSSNFIDCFISSKSRPKQTLRMFTGIALQAFQQFSGINFIFYYGVNFFNKTGVSNSYLVSFITYAVNVVFNVPGLFFVEFFGRRKVLVVGGVIMTIANFIVAIVGCSLKTVAAAKVMIAFICLFIAAFSATWGGVVWVISAELYPLGVRSKCTAICAAANWLVNFICALITPYIVDTGSHTSSLGAKIFFIWGSLNAMGVIVVYLTVYETKGLTLEEIDELYIKSSTGVVSPKFNKDIRERALKFQYDPLQRLEDGKNTFVAKRNNFDDETPRNDFRNTISGEIDHSPNQKEVHSIPERVDIPTSTEILESPNKSSGMTVPVSPSLQDVPIPQTTEPAEIRTKYVDLGNGLGLNTYNRGPPSLSSDSSEDYTEDEIGGPSSQGDQSNRSTMNDINDYMARLIHSTSTASNTTDKFSGNQSTLRYHTASSHSDTTEEDSNLMDLGNGLALNAYNRGPPSILMNSSDEEANGGETSDNLNTAQDLAGMKERMAQFAQSYIDKRGGLEPETQSNILSTSLSVMADTNEHNNEILHSSEENATNQPVNENNDLK',\n",
       " 'YDL193W': 'MPTMIKKDDKAMEPPNEKPHRKIERDDVPESSNHIPPPESGVLKGGKVNSKTRALKAVTSIIADADENPQKKVNNETNGVQKQKTEDLSKRIGKFEYLFYKFLLVLLYICFGLFRYGQYQYNKMKLRIFSIIYNHAYTPQLIRQDVIPLKKIPKRLAAILEVKPVGDVGGGVTGLLNDASEIVCWTVSAGIKHLMLYDYDGILQRNVPELRMEIHSNLAKYFGPAHVPNYAVKIPHSNKIFYNLDGIETETDVGNEIEANQEKDKIAIEISLLSNRDGRETIVDLTKTMAELCAVNELSVSDITMDLVDSELKQLVGPEPDLLLYFGPSLDLQGFPPWHIRLTEFYWEKDNNEVIYSVFIRGLRQYAGCKVNVGK',\n",
       " 'YDL192W': 'MGLFASKLFSNLFGNKEMRILMVGLDGAGKTTVLYKLKLGEVITTIPTIGFNVETVQYKNISFTVWDVGGQDRIRSLWRHYYRNTEGVIFVVDSNDRSRIGEAREVMQRMLNEDELRNAAWLVFANKQDLPEAMSAAEITEKLGLHSIRNRPWFIQATCATSGEGLYEGLEWLSNSLKNST',\n",
       " 'YDL191W': 'MAGVKAYELRTKSKEQLASQLVDLKKELAELKVQKLSRPSLPKIKTVRKSIACVLTVINEQQREAVRQLYKGKKYQPKDLRAKKTRALRRALTKFEASQVTEKQRKKQIAFPQRKYAIKA',\n",
       " 'YDL190C': 'MTAIEDILQITTDPSDTRGYSLLKSEEVPQGSTLGVDFIDTLLLYQLTENEKLDKPFEYLNDCFRRNQQQKRITKNKPNAESLHSTFQEIDRLVIGYGVVALQIENFCMNGAFINYITGIVSNVNSYTDFLSQIIQRAILEGTALDLLNAVFPTLLEYCNKHVSHFDLNESVIYNNVLTIFELFVTFKPIAEIFTKIDGFFADYSCKPQDFERKTILGPILSLSPIEAAVAIRNYGDNLLRSKQQTAMIHESLQAEHKVVIDRLFFIVDKLVRGSLNSRTDMISYFAHIANKNHLRRADHPPFKELSSNGFMSNITLLLVRFSQPFLDISYKKIDKIDANYFNNPSLFIDLSGETRLNSDFKEADAFYDKNRKTADSKPNFISDCFFLTLTYLHYGLGGTLSFEEKMGSEIKALKEEIEKVKKIAANHDVFARFITAQLSKMEKALKTTESLRFALQGFFAHRSLQLEVFDFICGASTFLIRVVDPEHEFPFKQIKLPLIPDQIGVENVDNADFLRAHAPVPFKYYPEFVVEGPVNYSLYISKYQTSPIFRNPRLGSFVEFTTMVLRCPELVSNPHLKGKLVQLLSVGAMPLTDNSPGFMMDIFEHDELVNKNLLYALLDFYVIVEKTGSSSQFYDKFNSRYSISIILEELYYKIPSYKNQLIWQSQNNADFFVRFVARMLNDLTFLLDEGLSNLAEVHNIQNELDNRARGAPPTREEEDKELQTRLASASRQAKSSCGLADKSMKLFEIYSKDIPAAFVTPEIVYRLASMLNYNLESLVGPKCGELKVKDPQSYSFNPKDLLKALTTVYINLSEQSEFISAVAKDERSFNRNLFVRAVDILGRKTGLASPEFIEKLLNFANKAEEQRKADEEEDLEYGDVPDEFLDPLMYTIMKDPVILPASKMNIDRSTIKAHLLSDSTDPFNRMPLKLEDVTPNEELRQKILCFKKQKKEEAKHKASE',\n",
       " 'YDL189W': 'MTALDSRNWGLTPAMETGLFQKPQDRIFIIELENSIVSFINSNTESFQLRPMNSYYRLLSHQIAEYHNLNHVLARTQDSCVILFKGENFQKIEGKPLLQELQLNKKPEECASSSESIEKSNNNRIFRILKRKEVGNECDYKIDGNTRTPNSNLTANSNKDQKIEIDDKSSTDLEQERIEKERLYEQRKQEIFDKLNKSEDDVKSTNSSGSSDSDNEWSDWLNGDDSNTQTSNGSVSSSSPFNSSVTTIQVNKPQQQFYDSRRGRGGRRRGTNNYKDAYRGQSRRNKENGGYQSGYSSPYLVYPPPQMGGNSLPTYPLMYNPAGPAPGPAPSPMVMGNNTVFMNPYMYNMNPQGSCSFGTPIPMYPPYQYQYQYQYNTQYHSGPYSNTPSYNSNNYTRSSANKYHHFQGKNSYSGAIPKRSDDSNSNKNEGIRRASVEGSPSSRDTDSVEMKFDKLNI',\n",
       " 'YDL188C': 'MDMEIDDPMHGSDEDQLSPTLDEDMNSDDGKNNTKARSNDEDTDEELEDFNFKPGSSGIADHKSSKPLKLTNTNINQLDQWIEHLSKCEPLSEDDVARLCKMAVDVLQFEENVKPINVPVTICGDVHGQFHDLLELFKIGGPCPDTNYLFMGDYVDRGYYSVETVSYLVAMKVRYPHRITILRGNHESRQITQVYGFYDECLRKYGSANVWKMFTDLFDYFPVTALVDNKIFCLHGGLSPMIETIDQVRDLNRIQEVPHEGPMCDLLWSDPDDRGGWGISPRGAGFTFGQDISEQFNHTNDLSLIARAHQLVMEGYSWSHQQNVVTIFSAPNYCYRCGNQAAIMEVDENHNRQFLQYDPSVRPGEPTVTRKTPDYFL',\n",
       " 'YDL186W': 'MQCNTSIEDGLDGGDITFPSYSPEAEAQNRFLPRSEFPSVRQLVISKQKSRRRREENVFVGKMEDVLVKWRPPASSHRGAIEAINGTHPYQLSTAQFNSRRSDPFGSTKRDESVRSIVESFTDWWKRNSKMFFRDEEEGVRTEHSASQDDQELQLFEEDLFSFHLSPNDMSTRNSEHQVQTPVLFPYEAPTRTKQNPAERKVIEIGDGEELSIYRDVYSNPIPVSYLDTLNLNHSMSVRQTQQQQQQRQQQQYVDSSSAFQCCTDSNWARIFFCHHD',\n",
       " 'YDL185W': 'MAGAIENARKEIKRISLEDHAESEYGAIYSVSGPVVIAENMIGCAMYELVKVGHDNLVGEVIRIDGDKATIQVYEETAGLTVGDPVLRTGKPLSVELGPGLMETIYDGIQRPLKAIKEESQSIYIPRGIDTPALDRTIKWQFTPGKFQVGDHISGGDIYGSVFENSLISSHKILLPPRSRGTITWIAPAGEYTLDEKILEVEFDGKKSDFTLYHTWPVRVPRPVTEKLSADYPLLTGQRVLDALFPCVQGGTTCIPGAFGCGKTVISQSLSKYSNSDAIIYVGCFAKGTNVLMADGSIECIENIEVGNKVMGKDGRPREVIKLPRGRETMYSVVQKSQHRAHKSDSSREVPELLKFTCNATHELVVRTPRSVRRLSRTIKGVEYFEVITFEMGQKKAPDGRIVELVKEVSKSYPISEGPERANELVESYRKASNKAYFEWTIEARDLSLLGSHVRKATYQTYAPILYENDHFFDYMQKSKFHLTIEGPKVLAYLLGLWIGDGLSDRATFSVDSRDTSLMERVTEYAEKLNLCAEYKDRKEPQVAKTVNLYSKVVRGNGIRNNLNTENPLWDAIVGLGFLKDGVKNIPSFLSTDNIGTRETFLAGLIDSDGYVTDEHGIKATIKTIHTSVRDGLVSLARSLGLVVSVNAEPAKVDMNGTKHKISYAIYMSGGDVLLNVLSKCAGSKKFRPAPAAAFARECRGFYFELQELKEDDYYGITLSDDSDHQFLLANQVVVHNCGERGNEMAEVLMEFPELYTEMSGTKEPIMKRTTLVANTSNMPVAAREASIYTGITLAEYFRDQGKNVSMIADSSSRWAEALREISGRLGEMPADQGFPAYLGAKLASFYERAGKAVALGSPDRTGSVSIVAAVSPAGGDFSDPVTTATLGITQVFWGLDKKLAQRKHFPSINTSVSYSKYTNVLNKFYDSNYPEFPVLRDRMKEILSNAEELEQVVQLVGKSALSDSDKITLDVATLIKEDFLQQNGYSTYDAFCPIWKTFDMMRAFISYHDEAQKAVANGANWSKLADSTGDVKHAVSSSKFFEPSRGEKEVHGEFEKLLSTMQERFAESTD',\n",
       " 'YDL184C': 'MRAKWRKKRTRRLKRKRRKVRARSK',\n",
       " 'YDL183C': 'MIRSIFIPPTSITATSRLFYGMRAYSTKLEKASLQKYLHDPVKVTVIPITDKESFIYYKHTDNLFNSQSRILKAEKWIVEKSAKLWRKLKKSPKSYNKKIVSMVQSLLNSTPWSENSLLTIPSESYILKRIKGEKDKTQEIRLTLKDYTVKAEQVDTQPLHVYYPPGISSPDECLRQMKKLYQEGLIYHKKWTLYCLLGLPLTIPLILIPLIPNVPGFYLSYRAYVNIKAYLGAKHLKSLLESSKQNLEFRELLGYTEVYKRGTSSRTQGNQKESKGAPELLLNKKTLPLILDFLEVHELESDLNKVILQESKSQEKNKI',\n",
       " 'YDL182W': 'MTAAKPNPYAAKPGDYLSNVNNFQLIDSTLREGEQFANAFFDTEKKIEIARALDDFGVDYIELTSPVASEQSRKDCEAICKLGLKAKILTHIRCHMDDAKVAVETGVDGVDVVIGTSKFLRQYSHGKDMNYIAKSAVEVIEFVKSKGIEIRFSSEDSFRSDLVDLLNIYKTVDKIGVNRVGIADTVGCANPRQVYELIRTLKSVVSCDIECHFHNDTGCAIANAYTALEGGARLIDVSVLGIGERNGITPLGGLMARMIVAAPDYVKSKYKLHKIRDIENLVADAVEVNIPFNNPITGFCAFTHKAGIHAKAILANPSTYEILDPHDFGMKRYIHFANRLTGWNAIKARVDQLNLNLTDDQIKEVTAKIKKLGDVRSLNIDDVDSIIKNFHAEVSTPQVLSAKKNKKNDSDVPELATIPAAKRTKPSA',\n",
       " 'YDL181W': 'MLPRSALARSLQLQRGVAARFYSEGSTGTPRGSGSEDSFVKRERATEDFFVRQREKEQLRHLKEQLEKQRKKIDSLENKIDSMTK',\n",
       " 'YDL180W': 'MVRLNHAASYFMPIFCSTRPHIVILSALFSISLFSLFYASSELLLHQYDDPLMFKPNSQDYFRTFLLGLFSPFLYYFLKTFLFNINQRFLILNLIVDFPINDVFMLLILIGLAYPQVQDHEGGTIKHKECSWHIIPRQAYIFGISWALGEFTICIIGNLFNYQEIADPNINSGFTHQESANTYCNNNDMSHNDDCGCSTEYRPNVVDRSDITLSKCIEVRNDSSSISNNVYSSEYHPIKPLRSSSSTYGSIRQQPHENKKQLHVPDNSQDDTIIMMNPIDNSLKLTTLDTGDLSFPIDEEQPILKKSFGYTWAVPNENTQNTTKSFTPIKRFIAFSTAYQLVTGLLLMILVVGSNIMLTIGESLILSMYFVYVRGHEGLFTPVVNYFGSRTISNFILCVIIPFISLNFLINTSIYLRRELDDWFNNSQGEFEDDDENTISKRVATNQEYQHPLSANYISMDSPDVINSSPGHFGMNSGQLLGNTTLYYGSLNGDDDDMTNDSALLRFCKKLVKNWRALARNDSFVLGVMVSWSLLVFVTGILSTVYI',\n",
       " 'YDL179W': 'MISDYDALLQFNKKPVSQEMIQFLATSTASIIKIRENNNPIQGCRPPDLSIFIKNVVIQSNVQTPTLMATSVYLNKLKSVIPKNVYGINTTRHRIFLGCLILAAKTLNDSSPWNKHWTTYTEGLLRIREVNTIERELLEYLNWDVRITTPDLIDSLSYFLGPIKEQLFLQRRQEMLLFNAPSPGQLKEYINHRRPVSHSRTSSAISVPSLTSMATVSTTDSRSSLLAKYQPSLPLVESDNFNKKNHVPLRNNNDICNNFRAEENIHSVNHIDVTMGSSPVMSHKPTIHQRLNFTRRGWSSFFKQ',\n",
       " 'YDL178W': 'MLRNILVRSTGSNFKFAGRYMKSSALLGYYRRVNYYSTKIQTRLTSENYPDVHRDPRFKKLTSDDLNYFKSILSEQEILRASESEDLSFYNEDWMRKYKGQSKLVLRPKSVEKVSLILNYCNDEKIAVVPQGGNTGLVGGSVPIFDELILSLANLNKIRDFDPVSGILKCDAGVILENANNYVMEQNYMFPLDLGAKGSCHVGGVVATNAGGLRLLRYGSLHGSVLGLEVVMPNGQIVNSMHSMRKDNTGYDLKQLFIGSEGTIGIITGVSILTVPKPKAFNVSYLSVESFEDVQKVFVRARQELSEILSAFEFMDAKSQVLAKSQLKDAAFPLEDEHPFYILIETSGSNKDHDDSKLETFLENVMEEGIVTDGVVAQDETELQNLWKWREMIPEASQANGGVYKYDVSLPLKDLYSLVEATNARLSEAELVGDSPKPVVGAIGYGHVGDGNLHLNVAVREYNKNIEKTLEPFVYEFVSSKHGSVSAEHGLGFQKKNYIGYSKSPEEVKMMKDLKVHYDPNGILNPYKYI',\n",
       " 'YDL177C': 'MSKNVGKLVKIWNESEVLVDRKSKFQARCCPLQNQKDIPSILQELTQNNKSVSKASHMHMYAWRTAEVSNNLHLQQEQKKKGNKANKSNNSHVNKSRNITVQPKNIEQGCADCGEAGAGQRLLTLLERANIFNVLVIVTRWYGGTPLGSSRFRHISTCAVETLKKGGFLP',\n",
       " 'YDL176W': 'MATGRIQFAVSTPCNTKGKPSGYRLFEFKNDRLALVPSERGCTKVDVNANIQAFCYLRPNGRDTSISPDATHILDSCDYMVLAKSNGFIEIISNYQYKIKNGLRLAPSYILRCTPEDFESNFFSDYMIAGLEYSQGLLYCCMCSGRIYVFVMNLPTDYIQYKNMYNPMFPDCFFKVHHDNNTTHSSEEEKLFEGSTRYTGRSCSKHICYFLLPIEPSHLRSSPVVSSFCNMYQGLPIYRPSMYLHIERGISTFHINPLDRFCFMTVSPRSPLFIRKIILPLTYVTFLSTFISLKNSIQGDTCGEILSWDNVAQQNGFGSLFSWISNKFTFDTDIINSTIWDDIVKYSGTGMLDSGIVWKQRQGHAKDDIYELFHTQDMLGSSRRNSSFSTASSEPRPLSRRRRESFQALTRDAFRERMDVPCSTKWELDSFIRGLRRNTFMVDFEIVEKISHRNGNDGVNEDDNTTDESDETMTSFLTDNYKKMDIVCIDHFVTLSAFRPRYYDEPIIKIDSLSNKNGSENGTNEEEWAESQMKVDGQVIDDETAQFKQALGNLCSFKKLFMLDDSLCFILDTHGVLLINRFEIKNTKNLLRNSKDTIRIIPHDFGLINDTIVIINDIDVGTDNVCALTFHLVVTSMAGEITVLKGEFFKNCRLGRIKLCDSLKLNRKDRFVDKLALIDYDGLNAQKRRLDYDEKDLYTFIVKKVKRD',\n",
       " 'YDL175C': 'MEKNTAPFVVDTAPTTPPDKLVAPSIEEVNSNPNELRALRGQGRYFGVSDDDKDAIKEAAPKCNNCSQRGHLKKDCPHIICSYCGATDDHYSRHCPKAIQCSKCDEVGHYRSQCPHKWKKVQCTLCKSKKHSKERCPSIWRAYILVDDNEKAKPKVLPFHTIYCYNCGGKGHFGDDCKEKRSSRVPNEDGSAFTGSNLSVELKQEYYRHMNRNSDENEDYQFSESIYDEDPLPRPSHKRHSQNDHSHSGRNKRRASNFHPPPYQKSNVIQPTIRGETLSLNNNISKNSRYQNTKVNVSSISENMYGSRYNPSTYVDNNSISNSSNYRNYNSYQPYRSGTLGKRR',\n",
       " 'YDL174C': 'MLWKRTCTRLIKPIAQPRGRLVRRSCYRYASTGTGSTDSSSQWLKYSVIASSATLFGYLFAKNLYSRETKEDLIEKLEMVKKIDPVNSTLKLSSLDSPDYLHDPVKIDKVVEDLKQVLGNKPENYSDAKSDLDAHSDTYFNTHHPSPEQRPRIILFPHTTEEVSKILKICHDNNMPVVPFSGGTSLEGHFLPTRIGDTITVDLSKFMNNVVKFDKLDLDITVQAGLPWEDLNDYLSDHGLMFGCDPGPGAQIGGCIANSCSGTNAYRYGTMKENIINMTIVLPDGTIVKTKKRPRKSSAGYNLNGLFVGSEGTLGIVTEATVKCHVKPKAETVAVVSFDTIKDAAACASNLTQSGIHLNAMELLDENMMKLINASESTDRCDWVEKPTMFFKIGGRSPNIVNALVDEVKAVAQLNHCNSFQFAKDDDEKLELWEARKVALWSVLDADKSKDKSAKIWTTDVAVPVSQFDKVIHETKKDMQASKLINAIVGHAGDGNFHAFIVYRTPEEHETCSQLVDRMVKRALNAEGTCTGEHGVGIGKREYLLEELGEAPVDLMRKIKLAIDPKRIMNPDKIFKTDPNEPANDYR',\n",
       " 'YDL173W': 'MATFNPQNEMENQARVQEYKVSTGRGGAGNIHKSMSKPSPVLLPLKSNSKTVANNNNNGSNQEKVPRFAIGRGGAGNIFHDPHLTRSAQQLDSNDNINYNDVINDIDDYISPITSDMVDEGGSNPVTNTRSRISATRSHQSLHATTSSPNNNAPIVVGRGGAGNIFFNKKKVASNGGNEEDEIRGGNIEDEDTINANEDNLFVVTSNGNALAAIKSTSKKPKNKLKGKSAPEKFAIGRGGAGNIISPKSSRNTINHNLNDDDEDKFNLKDDNGKEKKKKKKKKSGFFSSLKTMFN',\n",
       " 'YDL171C': 'MPVLKSDNFDPLEEAYEGGTIQNYNDEHHLHKSWANVIPDKRGLYDPDYEHDACGVGFVANKHGEQSHKIVTDARYLLVNMTHRGAVSSDGNGDGAGILLGIPHEFMKREFKLDLDLDIPEMGKYAVGNVFFKKNEKNNKKNLIKCQKIFEDLAASFNLSVLGWRNVPVDSTILGDVALSREPTILQPLLVPLYDEKQPEFNETKFRTQLYLLRKEASLQIGLENWFYVCSLNNTTIVYKGQLTPAQVYNYYPDLTNAHFKSHMALVHSRFSTNTFPSWDRAQPLRWLAHNGEINTLRGNKNWMRSREGVMNSATFKDELDKLYPIIEEGGSDSAALDNVLELLTINGTLSLPEAVMMMVPEAYHKDMDSDLKAWYDWAACLMEPWDGPALLTFTDGRYCGAILDRNGLRPCRYYITSDDRVICASEVGVIPIENSLVVQKGKLKPGDLFLVDTQLGEMVDTKKLKSQISKRQDFKSWLSKVIKLDDLLSKTANLVPKEFISQDSLSLKVQSDPRLLANGYTFEQVTFLLTPMALTGKEALGSMGNDAPLACLNENPVLLYDYFRQLFAQVTNPPIDPIREANVMSLECYVGPQGNLLEMHSSQCDRLLLKSPILHWNEFQALKNIEAAYPSWSVAEIDITFDKSEGLLGYTDTIDKITKLASEAIDDGKKILIITDRKMGANRVSISSLIAISCIHHHLIRNKQRSQVALILETGEAREIHHFCVLLGYGCDGVYPYLAMETLVRMNREGLLRNVNNDNDTLEEGQILENYKHAIDAGILKVMSKMGISTLASYKGAQIFEALGLDNSIVDLCFTGTSSRIRGVTFEYLAQDAFSLHERGYPSRQTISKSVNLPESGEYHFRDGGYKHVNEPTAIASLQDTVRNKNDVSWQLYVKKEMEAIRDCTLRGLLELDFENSVSIPLEQVEPWTEIARRFASGAMSYGSISMEAHSTLAIAMNRLGAKSNCGEGGEDAERSAVQENGDTMRSAIKQVASARFGVTSYYLSDADEIQIKIAQGAKPGEGGELPAHKVSKDIAKTRHSTPNVGLISPPPHHDIYSIEDLKQLIYDLKCANPRAGISVKLVSEVGVGIVASGVAKAKADHILVSGHDGGTGAARWTSVKYAGLPWELGLAETHQTLVLNDLRRNVVVQTDGQLRTGFDIAVAVLLGAESFTLATVPLIAMGCVMLRRCHLNSCAVGIATQDPYLRSKFKGQPEHVINFFYYLIQDLRQIMAKLGFRTIDEMVGHSEKLKKRDDVNAKAINIDLSPILTPAHVIRPGVPTKFTKKQDHKLHTRLDNKLIDEAEVTLDRGLPVNIDASIINTDRALGSTLSYRVSKKFGEDGLPKDTVVVNIEGSAGQSFGAFLASGITFILNGDANDYVGKGLSGGIIVIKPPKDSKFKSDENVIVGNTCFYGATSGTAFISGSAGERFGVRNSGATIVVERIKGNNAFEYMTGGRAIVLSQMESLNAFSGATGGIAYCLTSDYDDFVGKINKDTVELESLCDPVEIAFVKNLIQEHWNYTQSDLAARILGNFNHYLKDFVKVIPTDYKKVLLKEKAEAAKAKAKATSEYLKKFRSNQEVDDEVNTLLIANQKAKEQEKKKSITISNKATLKEPKVVDLEDAVPDSKQLEKNSERIEKTRGFMIHKRRHETHRDPRTRVNDWKEFTNPITKKDAKYQTARCMDCGTPFCLSDTGCPLSNIIPKFNELLFKNQWKLALDKLLETNNFPEFTGRVCPAPCEGACTLGIIEDPVGIKSVERIIIDNAFKEGWIKPCPPSTRTGFTVGVIGSGPAGLACADMLNRAGHTVTVYERSDRCGGLLMYGIPNMKLDKAIVQRRIDLLSAEGIDFVTNTEIGKTISMDELKNKHNAVVYAIGSTIPRDLPIKGRELKNIDFAMQLLESNTKALLNKDLEIIREKIQGKKVIVVGGGDTGNDCLGTSVRHGAASVLNFELLPEPPVERAKDNPWPQWPRVMRVDYGHAEVKEHYGRDPREYCILSKEFIGNDEGEVTAIRTVRVEWKKSQSGVWQMVEIPNSEEIFEADIILLSMGFVGPELINGNDNEVKKTRRGTIATLDDSSYSIDGGKTFACGDCRRGQSLIVWAIQEGRKCAASVDKFLMDGTTYLPSNGGIVQRDYKLLKELASQV',\n",
       " 'YDL170W': 'MNYGVEKLKLKYSKHGCITCKIRKKRCSEDKPVCRDCRRLSFPCIYISESVDKQSLKKIKADIQHQLISKKRKHAPDSAQKAAVATRTRRVGSDEQDNQVYLSKPLEDCISQKLDSMGLQLYNYYRSHLANIISIAPMNQNYYLNIFLPMAHENDGILFAILAWSANHLSISSSNELRKDEIFVNLANKYTYMSLSHLKTNEGSSACAKLGFLYSLAQILILCGSEICQGDVKFWKILLNIGKNLIENHVGKDVSRILTTTTEEPSLEERIIFPNFNSVVKYWLIVNFIYHDILNFNTTSFPIEQYEKFFQRDQNSLPSSANFIESIDSPIEEIDPLIGINKPILLLLGQVTNLTRFLQTMEQEEMLEHGDKILSLQVEIYKLQPSLMALEHLDDEKKFYYLELFEIMKISTLMFFQLTLLKIDKDSLELQILRNKLDSKLDKVIGTFLEGSLCFPLFIYGVCIQVEDMEKKIDLEAKFDDILKRYKCYNFQNARLLIRKIWQNEADGISEHDLVHMIDELDYNINFA',\n",
       " 'YDL169C': 'MEDKEKLIVYSNTSSVFTYSAEIRPNFKISVSQSQGFAWNQDLFATQYQQSYKVVYDAHEDNFDELILKIKGKLKTKSNKRAKMKSKTKLTRTAKQRRESPVCERDESDEDNDSDHYQRIQVLDGHEFPRANRYKSVWAHDVHSNEDSTSDGESNHDIDMIGGTGTSYAGAAIMDRPRRKSERSISFVEDSKTGDYRYQTGQVDVVEVDSDTPENNHLKWLIK',\n",
       " 'YDL168W': 'MSAATVGKPIKCIAAVAYDAKKPLSVEEITVDAPKAHEVRIKIEYTAVCHTDAYTLSGSDPEGLFPCVLGHEGAGIVESVGDDVITVKPGDHVIALYTAECGKCKFCTSGKTNLCGAVRATQGKGVMPDGTTRFHNAKGEDIYHFMGCSTFSEYTVVADVSVVAIDPKAPLDAACLLGCGVTTGFGAALKTANVQKGDTVAVFGCGTVGLSVIQGAKLRGASKIIAIDINNKKKQYCSQFGATDFVNPKEDLAKDQTIVEKLIEMTDGGLDFTFDCTGNTKIMRDALEACHKGWGQSIIIGVAAAGEEISTRPFQLVTGRVWKGSAFGGIKGRSEMGGLIKDYQKGALKVEEFITHRRPFKEINQAFEDLHNGDCLRTVLKSDEIK',\n",
       " 'YDL167C': 'MHYVVLELQVAHLPDTPKDQCRIANIAFQIVNAETLVCHYGTNSLPSIEVNGTTKSLESAMVQLDKDIHDVIGNDDFVLVSLYSTWHIRVTLPRQARDDGFILTSYLQHPKVFDLWKEFDRWCVNHPEILGQKKAISNNNCNTKSISINAAKNTKDLDEIVRILEVSIPTEEAGSVPEIYSLLKRTTDILIQLHKKCTSPEDMESVLTKPYDSHTDIRAFLQEKSKILYMNNLPPDTTQSELESWFTQYGVRPVGFWTVKNIVEDTSNVNNNWSLNNSPYVEDQDSISGFVVFQTHEEATEVLALNGRSILSNLANTKQPRVVEHVLELQPSSTGVLDKAQEILSPFPQSKNKPRPGDWNCPSCGFSNFQRRTACFRCSFPAPSNSQIHTANSNNNVNSSRNNLNNRVNSGSSSNISNTAANHPYGAPEFNMIANNTPAALTYNRAHFPAITPLSRQNSLNMAPSNSGSPIIIADHFSGNNNIAPNYRYNNNINNNNNNINNMTNNRYNINNNINGNGNGNGNNSNNNNNHNNNHNNNHHNGSINSNSNTNNNNNNNNGNNSNNCNSNIGMGGCGSNMPFRAGDWKCSTCTYHNFAKNVVCLRCGGPKSISGDASETNHYIDSSTFGPASRTPSNNNISVNTNGGSNAGRTDGNDNKGRDISLMEFMSPPLSMATKSMKEGDGNGSSFNEFKSDKANVNFSNVGDNSAFGNGFNSSIRW',\n",
       " 'YDL166C': 'MEARRYGPNIIVTGTPGCGKSSTCEFLKNKLKDYKYYNISDFAKDNDCFEGYDEGRKSHIVDEDKLLDMLEPLLRQGNSIVDWHVNDVFPERLIDLVVVLRCDNSNLYSRLHARGYHDSKIEENLDAEIMGVVKQDAVESYEPHIVVELQSDTKEDMVSNVSRIVAWEKMWLEQHPDGVTNEYQGPRSDDEDDEDSE',\n",
       " 'YDL165W': 'MEKFGLKALVPLLKLEDKELSSTYDHSMTLGADLSSMLYSLGIPRDSQDHRVLDTFQSPWAETSRSEVEPRFFTPESFTNIPGVLQSTVTPPCFNSIQNDQQRVALFQDETLFFLFYKHPGTVIQELTYLELRKRNWRYHKTLKAWLTKDPMMEPIVSADGLSERGSYVFFDPQRWEKCQRDFLLFYNAIM',\n",
       " 'YDL164C': 'MRRLLTGCLLSSARPLKSRLPLLMSSSLPSSAGKKPKQATLARFFTSMKNKPTEGTPSPKKSSKHMLEDRMDNVSGEEEYATKKLKQTAVTHTVAAPSSMGSNFSSIPSSAPSSGVADSPQQSQRLVGEVEDALSSNNNDHYSSNIPYSEVCEVFNKIEAISSRLEIIRICSDFFIKIMKQSSKNLIPTTYLFINRLGPDYEAGLELGLGENLLMKTISETCGKSMSQIKLKYKDIGDLGEIAMGARNVQPTMFKPKPLTVGEVFKNLRAIAKTQGKDSQLKKMKLIKRMLTACKGIEAKFLIRSLESKLRIGLAEKTVLISLSKALLLHDENREDSPDKDVPMDVLESAQQKIRDAFCQVPNYEIVINSCLEHGIMNLDKYCTLRPGIPLKPMLAKPTKAINEVLDRFQGETFTSEYKYDGERAQVHLLNDGTMRIYSRNGENMTERYPEINITDFIQDLDTTKNLILDCEAVAWDKDQGKILPFQVLSTRKRKDVELNDVKVKVCLFAFDILCYNDERLINKSLKERREYLTKVTKVVPGEFQYATQITTNNLDELQKFLDESVNHSCEGLMVKMLEGPESHYEPSKRSRNWLKLKKDYLEGVGDSLDLCVLGAYYGRGKRTGTYGGFLLGCYNQDTGEFETCCKIGTGFSDEMLQLLHDRLTPTIIDGPKATFVFDSSAEPDVWFEPTTLFEVLTADLSLSPIYKAGSATFDKGVSLRFPRFLRIREDKGVEDATSSDQIVELYENQSHMQN',\n",
       " 'YDL161W': 'MSKQFVRSAKNLVKGYSSTQVLVRNATSNDNHQVSKDSLIELAEKSYDSADFFEIMDMLDKRLNDKGKYWRHIAKALTVIDYLIRFGSENCVLWCRENLYIIKTLKEFRHEDDEGIDQGQIVRVKAKELTALLSDDERLNEERNMNIKGRNRKGRRRRGTGRSDENDDDLQRAISASRLTAEEDERRRKQDEDYETALQLSKEEEELKRLQDLQRMQQQQGQQQLQQPMYYDIFGNPITPEEYAQFQLQQQQQQQQQQLQQQPMYYDVFGNPITPEELAQFQQQQQLQEQQYLASMQQQQQAMSNNPFAKSEQSSSSPKRNQLVAASSPQQLQQQKQQEPLIQNRTGNQSMTDKYSKLNELLATGTGIDTFGNVGEARIPAQHTKTGTFINSQGTGYRQVSDDPNHNPFLNSQYTGLPSTSVVPTQTGYGFGNQSQQQSQNNGSNNRGYTLIDL',\n",
       " 'YDL160C-A': 'MLSKEALIKILSQNEGGNDMKIADEVVPMIQKYLDIFIDEAVLRSLQSHKDINGERGDKSPLELSHQDLERIVGLLLMDM',\n",
       " 'YDL160C': 'MGSINNNFNTNNNSNTDLDRDWKTALNIPKKDTRPQTDDVLNTKGNTFEDFYLKRELLMGIFEAGFEKPSPIQEEAIPVAITGRDILARAKNGTGKTAAFVIPTLEKVKPKLNKIQALIMVPTRELALQTSQVVRTLGKHCGISCMVTTGGTNLRDDILRLNETVHILVGTPGRVLDLASRKVADLSDCSLFIMDEADKMLSRDFKTIIEQILSFLPPTHQSLLFSATFPLTVKEFMVKHLHKPYEINLMEELTLKGITQYYAFVEERQKLHCLNTLFSKLQINQAIIFCNSTNRVELLAKKITDLGYSCYYSHARMKQQERNKVFHEFRQGKVRTLVCSDLLTRGIDIQAVNVVINFDFPKTAETYLHRIGRSGRFGHLGLAINLINWNDRFNLYKIEQELGTEIAAIPATIDKSLYVAENDETVPVPFPIEQQSYHQQAIPQQQLPSQQQFAIPPQQHHPQFMVPPSHQQQQAYPPPQMPSQQGYPPQQEHFMAMPPGQSQPQY',\n",
       " 'YDL159W-A': 'MYNQIINTFIDDCLFLQTPMLQSPISSKIVLSFFLRNFFPSLF',\n",
       " 'YDL159W': 'MFQRKTLQRRNLKGLNLNLHPDVGNNGQLQEKTETHQGQSRIEGHVMSNINAIQNNSNLFLRRGIKKKLTLDAFGDDQAISKPNTVVIQQPQNEPVLVLSSLSQSPCVSSSSSLSTPCIIDAYSNNFGLSPSSTNSTPSTIQGLSNIATPVENEHSISLPPLEESLSPAAADLKDTLSGTSNGNYIQLQDLVQLGKIGAGNSGTVVKALHVPDSKIVAKKTIPVEQNNSTIINQLVRELSIVKNVKPHENIITFYGAYYNQHINNEIIILMEYSDCGSLDKILSVYKRFVQRGTVSSKKTWFNELTISKIAYGVLNGLDHLYRQYKIIHRDIKPSNVLINSKGQIKLCDFGVSKKLINSIADTFVGTSTYMSPERIQGNVYSIKGDVWSLGLMIIELVTGEFPLGGHNDTPDGILDLLQRIVNEPSPRLPKDRIYSKEMTDFVNRCCIKNERERSSIHELLHHDLIMKYVSPSKDDKFRHWCRKIKSKIKEDKRIKREALDRAKLEKKQSERSTH',\n",
       " 'YDL157C': 'MSNILAVFNPPPQRELEKEETMDCVPCQVMSTMFSVGFGSYLASGKPFKYGKKEAKRGISLTEFEKRNPQWWKVTLRSFGGLLIAFGFVRGTEGWLWHKNKEYKNYKKLSNDGETQAN',\n",
       " 'YDL156W': 'MPELTEFQKKRLENIKRNNDLLKKLHLSGVASQIKHEAGVLEKSRAPAKKKQKTTNTRATKSASPTLPTRRSRRLRGESADDVKGIPNVNDNQLLKMGSPDGQDKNFIDAIKEKPVIGDVKLSDLIKDEDESALLEKFKRFNNGNFSSGDFFEEIKKRQGDVTGMDEFDLDLYDVFQPNEIKITYERISATYFHPAMEKKLIIAGDTSGTVGFWNVRDEPLADSEEDRMEEPDITRVKLFTKNVGRIDCFPADTSKILLTSYDGSIRSVHLNNLQSEEVLTLKNEYDDSLGISDCQFSYENPNVLFLTTLGGEFTTFDTRVKKSEYNLRRLADKKIGSMAINPMRPYEIATGSLDRTLKIWDTRNLVKKPEWSQYEDYPSHEIVSTYDSRLSVSAVSYSPTDGTLVCNGYDDTIRLFDVKSRDHLSAKLEPKLTIQHNCQTGRWTSILKARFKPNKNVFAIANMKRAIDIYNSEGQQLAHLPTATVPAVISWHPLRNWIAGGNSSGKIFLFTDDSGTIKQEE',\n",
       " 'YDL155W': 'MHHNSQSLSSGHIRSPEDENVAPIGNLKHRTGSLSHISSAHPRVALSDVTNIVATNSSNNSISKPKVAPIKERLDSAAIIEEERLDANSVAQRKEADHNDLLTDREQEEPVEDDGESEEDEEEDQEPLLLQHYASDTLVWEHAFRTYYRTTLDPNDDDVYDVVMVAELSNEIFEYMRKLEDLYKPNPYYMDKQPELRWSFRSTLIDWIVQVHEKFQLLPETLYLCINIIDRYLCKEVVPVNKFQLVGAASLFIAAKYEEINCPTIKDFVYMSENCYSRNDLLDAERTILNGLEFELGWPGPMSFLRRISKADDYEHDTRTLAKYLLESTIMDHRLVSAQPSWLAAGAYFLSKIILGQNQWSLAHVYYSNYTQEQILPLATIILENCRYASKRHNAIWRKYSSRRYLHSSQIVAKWIALAEHRVERSN',\n",
       " 'YDL154W': 'MSHEWLISASETMRSIGNGEGLRDKGAVVANNDGEFNEGDTNREEDSSTIFSFDFDEEIVMCIDFSGGKLGCSILDYHTKTLKAFDQDYVVNKTTISSHDLIDDADMSSNDISLLLGLLIMEANPTVCLVPARLEDWIFDYIKTKCDEINCRLELQPIKRFKKWDLLQSLQLRGHDNQTILNDILSNSKFTTTVTLGTVGCILANHEQLGEYNDSTASSNMVTGRLVQNAFEDVIHGIRYIDIRDRMVLDENTISALHIFPTAHKLGHDKMMRNGFFSVFELFNQVSSDYARRILKSWLINPLTNKKRIETRYSIIRTLLDKQNAIIFSDLSQSIKRCPDAFGFINQLRSGKSTLGTWSKVASFLEKGIAIFQLVSSLKLGSDEANILHDIKNKVDISALKECLRKVETVIDFDTSRDTKTLTINTGVDNRLDECRNIYNHLEGILLDVARETQIFLLNTMPQEDCKTTKSLEKLVNAVYIPQLGYLVTISVLMEPLLDGIPNLQWEEIFRSSENIYFKNGRVLELDETYGDIYGAISDFEIEILFSLQEQILRRKTQLTAYNILLSELEILLSFAQVSAERNYAEPQLVEDECILEIINGRHALYETFLDNYIPNSTMIDGGLFSELSWCEQNKGRIIVVTGANASGKSVYLTQNGLIVYLAQIGCFVPAERARIGIADKILTRIRTQETVYKTQSSFLLDSQQMAKSLSLATEKSLILIDEYGKGTDILDGPSLFGSIMLNMSKSEKCPRIIACTHFHELFNENVLTENIKGIKHYCTDILISQKYNLLETAHVGEDHESEGITFLFKVKEGISKQSFGIYCAKVCGLSRDIVERAEELSRMINRGDDVVQQCGNLTEKEMREFQKNQEIVKKFLSWDLDLETTTTSENLRLKLKNFLR',\n",
       " 'YDL153C': 'MVRKGSNRTKTSEVGDEINPYGLNEVDDFASKREKVLLGQSTFGDSNKDDDHSLLEDEDEEEVLAMDEDDESIDEREDEEEEEEEELDGAAAYKKIFGRNLETDQLPEEDEENGMLDNENAWGSTKGEYYGADDLDDDEAAKEIEKEALRQQKKHLEELNMNDYLDEEEEEEWVKSAKEFDMGEFKNSTKQADTKTSITDILNMDDEARDNYLRTMFPEFAPLSKEFTELAPKFDELKKSEENEFNKLKLIALGSYLGTISCYYSILLHELHNNEDFTSMKGHPVMEKILTTKEIWRQASELPSSFDVNEGDGSESEETANIEAFNEKKLNELQNSEDSDAEDGGKQKQEIDEEERESDEEEEEEDVDIDDFEEYVAQSRLHSKPKTSSMPEADDFIESEIADVDAQDKKARRRTLRFYTSKIDQQENKKTDRFKGDDDIPYKERLFERQQRLLDEARKRGMHDNNGADLDDKDYGSEDEAVSRSINTQGENDYYQQVQRGKQDKKISRKEAHKNAVIAAREGKLAELAENVSGDGKRAINYQILKNKGLTPKRNKDNRNSRVKKRKKYQKAQKKLKSVRAVYSGGQSGVYEGEKTGIKKGLTRSVKFKN',\n",
       " 'YDL150W': 'MSSNKGNGRLPSLKDSSSNGGGSAKPSLKFKPKAVARKSKEEREAAASKVKLEEESKRGNDKKHFNNKNKRVTGAGGQQRRMAKYLNNTHVISSGPLAAGNFVSEKGDLRRGFIKSEGSGSSLVQKGLETIDNGAESSENEAEDDDNEGVASKSKKKFNMGKEFEARNLIEDEDDGESEKSSDVDMDDEEWRSKRIEQLFPVRPVRVRHEDVETVKREIQEALSEKPTREPTPSVKTEPVGTGLQSYLEERERQVNEKLADLGLEKEFQSVDGKEAAAELELLNADHQHILRKLKKMNNKPERFMVFQLPTRLPAFERPAVKEEKEDMETQASDPSKKKKNIKKKDTKDALSTRELAGKVGSIRVHKSGKLSVKIGNVVMDIGKGAETTFLQDVIALSIADDASSAELLGRVDGKIVVTPQI',\n",
       " 'YDL149W': 'MERDEYQLPNSHGKNTFLSRIFGLQSDEVNPSLNSQEMSNFPLPDIERGSSLLHSTNDSREDVDENDLRVPESDQGTSTEEEDEVDEEQVQAYAPQISDGLDGDHQLNSVTSKENVLETEKSNLERLVEGSTDDSVPKVGQLSSEEEEDNEFINNDGFDDDTPLFQKSKIHEFSSKKSNTIEDGKRPLFFRHILQNNRPQRDTQKLFTSSNAIHHDKDKSANNGPRNINGNQKHGTKYFGSATQPRFTGSPLNNTNRFTKLFPLRKPNLLSNISVLNNTPEDRINTLSVKERALWKWANVENLDIFLQDVYNYYLGNGFYCIILEKILNICTLLFVVFVSTYMGHCVDYSKLPTSHRVSDIIIDKCYSNSITGFTKFFLWMFYFFVILKIVQLYFDVQKLSELQNFYKYLLNISDDELQTLPWQNVIQQLMYLKDQNAMTANVVEVKAKNRIDAHDVANRIMRRENYLIALYNSDILNLSLPIPLFRTNVLTKTLEWNINLCVMGFVFNESGFIKQSILKPSQREFTREELQKRFMLAGFLNIILAPFLVTYFVLLYFFRYFNEYKTSPGSIGARQYTPIAEWKFREYNELYHIFKKRISLSTTLANKYVDQFPKEKTNLFLKFVSFICGSFVAILAFLTVFDPENFLNFEITSDRSVIFYITILGAIWSVSRNTITQEYHVFDPEETLKELYEYTHYLPKEWEGRYHKEEIKLEFCKLYNLRIVILLRELTSLMITPFVLWFSLPSSAGRIVDFFRENSEYVDGLGYVCKYAMFNMKNIDGEDTHSMDEDSLTKKIAVNGSHTLNSKRRSKFTAEDHSDKDLANNKMLQSYVYFMDDYSNSENLTGKYQLPAKKGYPNNEGDSFLNNKYSWRKQFQPGQKPELFRIGKHALGPGHNISPAIYSTRNPGKNWDNNNNGDDIKNGTNNATAKNDDNNGNNDHEYVLTESFLDSGAFPNHDVIDHNKMLNSNYNGNGILNKGGVLGLVKEYYKKSDVGR',\n",
       " 'YDL148C': 'MAGSQLKNLKAALKARGLTGQTNVKSKNKKNSKRQAKEYDREEKKKAIAEIREEFNPFEIKAARNKRRDGLPSKTADRIAVGKPGISKQIGEEQRKRAFEARKMMKNKRGGVIDKRFGERDKLLTEEEKMLERFTRERQSQSKRNANLFNLEDDEDDGDMFGDGLTHLGQSLSLEDELANDEEDFLASKRFNEDDAELQQPQRKKTKAEVMKEVIAKSKFYKQERQKAQGIMEDQIDNLDDNFEDVMSELMMTQPKKNPMEPKTDLDKEYDIKVKELQLDKRAAPSDRTKTEEEKNAEAEEKKRELEQQRLDRMNGMIELEEGEERGVEDLDDGFWENEEDYEDDNDGIADSDDDIKFEDQGRDEGFSQILKKKNISISCPRTHDALLDQVKKLDLDDHPKIVKNIIKAYQPKLAEGNKEKLGKFTAVLLRHIIFLSNQNYLKNVQSFKRTQNALISILKSLSEKYNRELSEECRDYINEMQARYKKNHFDALSNGDLVFFSIIGILFSTSDQYHLVITPALILMSQFLEQIKFNSLKRIAFGAVLVRIVSQYQRISKRYIPEVVYFFQKILLTFIVEKENQEKPLDFENIRLDSYELGLPLDVDFTKKRSTIIPLHTLSTMDTEAHPVDQCVSVLLNVMESLDATISTVWKSLPAFNEIILPIQQLLSAYTSKYSDFEKPRNILNKVEKLTKFTEHIPLALQNHKPVSIPTHAPKYEENFNPDKKSYDPDRTRSEINKMKAQLKKERKFTMKEIRKDAKFEARQRIEEKNKESSDYHAKMAHIVNTINTEEGAEKNKYERERKLRGGKK',\n",
       " 'YDL147W': 'MSRDAPIKADKDYSQILKEEFPKIDSLAQNDCNSALDQLLVLEKKTRQASDLASSKEVLAKIVDLLASRNKWDDLNEQLTLLSKKHGQLKLSIQYMIQKVMEYLKSSKSLDLNTRISVIETIRVVTENKIFVEVERARVTKDLVEIKKEEGKIDEAADILCELQVETYGSMEMSEKIQFILEQMELSILKGDYSQATVLSRKILKKTFKNPKYESLKLEYYNLLVKISLHKREYLEVAQYLQEIYQTDAIKSDEAKWKPVLSHIVYFLVLSPYGNLQNDLIHKIQNDNNLKKLESQESLVKLFTTNELMRWPIVQKTYEPVLNEDDLAFGGEANKHHWEDLQKRVIEHNLRVISEYYSRITLLRLNELLDLTESQTETYISDLVNQGIIYAKVNRPAKIVNFEKPKNSSQLLNEWSHNVDELLEHIETIGHLITKEEIMHGLQAK',\n",
       " 'YDL146W': 'MILDPLSPNIENHTQDEIIEFWEKTESIANIPKENLDESHVNSSLVAYLKFATDSYKVFINTDRDLYRMSLILLESSLFEFKKEFCLSKLQSLLNIDLLEMNMKFIIVYILLCEAKKNVYSLEIMLKFQGFTVFYNTLYTQFAYLSKYGKERTVASKHQYNSNNSSTGTSLDSLDRSLTDIDLGIIDEMKQISTVLMDLLFQIMKYCKCVIANLQIVDDFFVYYMMESMRSDTMDDMFNNAEFKLLLALNEQYMMFAKEYDIENKVYKYLINGSVSRCFTELLLLKFNRASDPPLQIMMCKIIYLILTPRGDYSPMNFFYTNDLRVLIDVLIRELQNISEDEEVLRNTLLRVLIPLLKNTQLSKTHYRKDDLNKLLNYLSTLDNICVDSPALHEHQVTVALSRKCLQQIPWLETPSTPSDGGSSVSSNNTSRNSSIVALGTPDNQNILARKGHLYSNRELDVSAESLTKRKAKAPPPPPPPPPSRKCGTPK',\n",
       " 'YDL145C': 'MKMLTKFESKSTRAKGIAFHPSRPWVLVALFSSTIQLWDYRMGTLLHRFEDHEGPVRGLDFHPTQPIFVSAGDDYTIKVWSLDTNKCLYTLTGHLDYVRTVFFHRELPWIISASDDQTIRIWNWQNRKEIACLTGHNHFVMCAQFHPTDDLIVSASLDETIRIWDISGLRKRHSAPGTSSFEEQMSAQQNLLDGSLGDCVVKFILEGHTRGVNWASFHPTLPLIVSGSDDRQVKLWRMSATKAWEVDTCRGHTNNVDSVIFHPHQNLIISVGEDKTLRVWDLDKRTPVKQFKRENDRFWLIAAHPHINLFGAAHDSGIMVFKLDRERPCSFIHQNQLFFVNAEKQIQSFNFQKRVASLPYASLKGIGQPWDAFRSISYNPSQHSVLVNEANGKFALVILPKQPVGAVEPTSVTQDTGNFATFVGRNRFVVYNKNTESVEVRSLENKVTRNIKVEETVRTIVAAGPGSVLVIHPREVILYDVQQGKKVSQLAVKNVKYVSWSLDGQYVALMSKHTITLATKKLELINSMHETIRIKSAAWDETGVLIYSTLNHIRYSLLNGDRGIIKTLEKTLYITKVQGKLVYCLNREGEIEILTIDPTEYRFKKALVNKNFPEVLRLIKDSNLVGQNIISYLQKSGYPEIALQFVQDPHIRFDLALEYGNLDVALDEAKKLNDSSTWERLIQEALAQGNASLAEMIYQTQHSFDKLSFLYLVTGDVNKLSKMQNIAQTREDFGSMLLNTFYNNSTKERSSIFAEGGSLPLAYAVAKANGDEAAASAFLEQAEVDEQDVTLPDQMDASNFVQRPVISKPLEKWPLKEAELSYFEKAVLGQIDDLTIDDETPAVNTTQEQEEPLGEENFNDEDIGEDEGAWDLGDEDLDVGEELPEEVEQGEITSPAQEVETAIWIKNSKLPAVLVAAGAFDAAVQALSKQVGVVKLEPLKKYFTNIYEGCRTYIPSTPCELPAQLGYVRAYDDTVSEDQILPYVPGLDVVNEKMNEGYKNFKLNKPDIAIECFREAIYRITLLMVDDAEDEKLAHKILETAREYILGLSIELERRSLKEGNTVRMLELAAYFTKAKLSPIHRTNALQVAMSQHFKHKNFLQASYFAGEFLKIISSGPRAEQARKIKNKADSMASDAIPIDFDPYAKFDICAATYKPIYEDTPSVSDPLTGSKYVITEKDKIDRIAMISKIGAPASGLRIRV',\n",
       " 'YDL144C': 'MSRILVIGAGGVGVITALSLWLKKESDVSLVVRSDYDRVLKHGYTIESCDYGRLEGWRPHHIYSSVEDAASAADNQGYNYIVVTTKNIIDGPVNSRVSNIIRPVLEKNKELHGPQLTTHILLVQNGIDIEKEIWAEFPREQYRYTVLSGIQLIGSTKIGSGHISQVGQDHLSCGAFDPQDAAAIQAANDFVRMYSNEGQNFVEFDPRVRYSRWKKLLYNAAINTSTALVGLDVPRCLEFGVNKKSTEIEVFHPAMREIIAIAASEGIIIEEEFITMFTEITRKKVFKPSMCVDCEKGQLMELEVILGNPIRIAKRNGVATPTLSILYNLLVLVQAKLKERKGLLKFDEKTATLVDE',\n",
       " 'YDL143W': 'MSAKVPSNATFKNKEKPQEVRKANIIAARSVADAIRTSLGPKGMDKMIKTSRGEIIISNDGHTILKQMAILHPVARMLVEVSAAQDSEAGDGTTSVVILTGALLGAAERLLNKGIHPTIIADSFQSAAKRSVDILLEMCHKVSLSDREQLVRAASTSLSSKIVSQYSSFLAPLAVDSVLKISDENSKNVDLNDIRLVKKVGGTIDDTEMIDGVVLTQTAIKSAGGPTRKEKAKIGLIQFQISPPKPDTENNIIVNDYRQMDKILKEERAYLLNICKKIKKAKCNVLLIQKSILRDAVNDLALHFLSKLNIMVVKDIEREEIEFLSKGLGCKPIADIELFTEDRLGSADLVEEIDSDGSKIVRVTGIRNNNARPTVSVVIRGANNMIIDETERSLHDALCVIRCLVKERGLIAGGGAPEIEISRRLSKEARSMEGVQAFIWQEFASALEVIPTTLAENAGLNSIKVVTELRSKHENGELNDGISVRRSGTTNTYEEHILQPVLVSTSAITLASECVKSILRIDDIAFSR',\n",
       " 'YDL142C': 'MIQMVPIYSCSALLRRTIPKRPFYHVLSGLTVRFKVNPQLNYNLFRDLTRREYATNPSKTPHIKSKLLNIPNILTLSRIGCTPFIGLFIITNNLTPALGLFAFSSITDFMDGYIARKYGLKTIAGTILDPLADKLLMITTTLALSVPSGPQIIPVSIAAIILGRDVLLAISALFIRYSTLKLKYPGRVAWNSYWDIVRYPSAEVRPSQLSKWNTFFQMVYLGSGVLLLLYEKEEGCEKTEEDFEDRKQDFQKAFSYLGYVTATTTIMSGVSYALKRNAFKLLK',\n",
       " 'YDL141W': 'MNVLVYNGPGTTPGSVKHAVESLRDFLEPYYAVSTVNVKVLQTEPWMSKTSAVVFPGGADLPYVQACQPIISRLKHFVSKQGGVFIGFCAGGYFGTSRVEFAQGDPTMEVSGSRDLRFFPGTSRGPAYNGFQYNSEAGARAVKLNLPDGSQFSTYFNGGAVFVDADKFDNVEILATYAEHPDVPSSDSGKGQSENPAAVVLCTVGRGKVLLTGPHPEFNVRFMRKSTDKHFLETVVENLKAQEIMRLKFMRTVLTKTGLNCNNDFNYVRAPNLTPLFMASAPNKRNYLQEMENNLAHHGMHANNVELCSELNAETDSFQFYRGYRASYDAASSSLLHKEPDEVPKTVIFPGVDEDIPPFQYTPNFDMKEYFKYLNVQNTIGSLLLYGEVVTSTSTILNNNKSLLSSIPESTLLHVGTIQVSGRGRGGNTWINPKGVCASTAVVTMPLQSPVTNRNISVVFVQYLSMLAYCKAILSYAPGFSDIPVRIKWPNDLYALSPTYYKRKNLKLVNTGFEHTKLPLGDIEPAYLKISGLLVNTHFINNKYCLLLGCGINLTSDGPTTSLQTWIDILNEERQQLHLDLLPAIKAEKLQALYMNNLEVILKQFINYGAAEILPSYYELWLHSNQIVTLPDHGNTQAMITGITEDYGLLIAKELVSGSSTQFTGNVYNLQPDGNTFDIFKSLIAKKVQS',\n",
       " 'YDL140C': 'MVGQQYSSAPLRTVKEVQFGLFSPEEVRAISVAKIRFPETMDETQTRAKIGGLNDPRLGSIDRNLKCQTCQEGMNECPGHFGHIDLAKPVFHVGFIAKIKKVCECVCMHCGKLLLDEHNELMRQALAIKDSKKRFAAIWTLCKTKMVCETDVPSEDDPTQLVSRGGCGNTQPTIRKDGLKLVGSWKKDRATGDADEPELRVLSTEEILNIFKHISVKDFTSLGFNEVFSRPEWMILTCLPVPPPPVRPSISFNESQRGEDDLTFKLADILKANISLETLEHNGAPHHAIEEAESLLQFHVATYMDNDIAGQPQALQKSGRPVKSIRARLKGKEGRIRGNLMGKRVDFSARTVISGDPNLELDQVGVPKSIAKTLTYPEVVTPYNIDRLTQLVRNGPNEHPGAKYVIRDSGDRIDLRYSKRAGDIQLQYGWKVERHIMDNDPVLFNRQPSLHKMSMMAHRVKVIPYSTFRLNLSVTSPYNADFDGDEMNLHVPQSEETRAELSQLCAVPLQIVSPQSNKPCMGIVQDTLCGIRKLTLRDTFIELDQVLNMLYWVPDWDGVIPTPAIIKPKPLWSGKQILSVAIPNGIHLQRFDEGTTLLSPKDNGMLIIDGQIIFGVVEKKTVGSSNGGLIHVVTREKGPQVCAKLFGNIQKVVNFWLLHNGFSTGIGDTIADGPTMREITETIAEAKKKVLDVTKEAQANLLTAKHGMTLRESFEDNVVRFLNEARDKAGRLAEVNLKDLNNVKQMVMAGSKGSFINIAQMSACVGQQSVEGKRIAFGFVDRTLPHFSKDDYSPESKGFVENSYLRGLTPQEFFFHAMGGREGLIDTAVKTAETGYIQRRLVKALEDIMVHYDNTTRNSLGNVIQFIYGEDGMDAAHIEKQSLDTIGGSDAAFEKRYRVDLLNTDHTLDPSLLESGSEILGDLKLQVLLDEEYKQLVKDRKFLREVFVDGEANWPLPVNIRRIIQNAQQTFHIDHTKPSDLTIKDIVLGVKDLQENLLVLRGKNEIIQNAQRDAVTLFCCLLRSRLATRRVLQEYRLTKQAFDWVLSNIEAQFLRSVVHPGEMVGVLAAQSIGEPATQMTLNTFHFAGVASKKVTSGVPRLKEILNVAKNMKTPSLTVYLEPGHAADQEQAKLIRSAIEHTTLKSVTIASEIYYDPDPRSTVIPEDEEIIQLHFSLLDEEAEQSFDQQSPWLLRLELDRAAMNDKDLTMGQVGERIKQTFKNDLFVIWSEDNDEKLIIRCRVVRPKSLDAETEAEEDHMLKKIENTMLENITLRGVENIERVVMMKYDRKVPSPTGEYVKEPEWVLETDGVNLSEVMTVPGIDPTRIYTNSFIDIMEVLGIEAGRAALYKEVYNVIASDGSYVNYRHMALLVDVMTTQGGLTSVTRHGFNRSNTGALMRCSFEETVEILFEAGASAELDDCRGVSENVILGQMAPIGTGAFDVMIDEESLVKYMPEQKITEIEDGQDGGVTPYSNESGLVNADLDVKDELMFSPLVDSGSNDAMAGGFTAYGGADYGEATSPFGAYGEAPTSPGFGVSSPGFSPTSPTYSPTSPAYSPTSPSYSPTSPSYSPTSPSYSPTSPSYSPTSPSYSPTSPSYSPTSPSYSPTSPSYSPTSPSYSPTSPSYSPTSPSYSPTSPSYSPTSPSYSPTSPSYSPTSPAYSPTSPSYSPTSPSYSPTSPSYSPTSPSYSPTSPNYSPTSPSYSPTSPGYSPGSPAYSPKQDEQKHNENENSR',\n",
       " 'YDL139C': 'MKTNKKISKRRSLKNLHGALKGLLKESGKKSESKIRKHSDCNPVHRVYPPNIEKRKTKKDDGISRPIAERNGHVYIMSKENHIIPKLTDDEVMERHKLADENMRKVWSNIISKYESIEEQGDLVDLKTGEIVEDNGHIKTLTANNSTKDKRTKYTSVLRDIIDISDEEDGDKNDEYTLWANDSEASDSEVDADNDTEEEKDEKLIDADFKKYEAKLSKRILRD',\n",
       " 'YDL138W': 'MNDSQNCLRQREENSHLNPGNDFGHHQGAECTINHNNMPHRNAYTESTNDTEAKSIVMCDDPNAYQISYTNNEPAGDGAIETTSILLSQPLPLRSNVMSVLVGIFVAVGGFLFGYDTGLINSITDMPYVKTYIAPNHSYFTTSQIAILVSFLSLGTFFGALIAPYISDSYGRKPTIMFSTAVIFSIGNSLQVASGGLVLLIVGRVISGIGIGIISAVVPLYQAEAAQKNLRGAIISSYQWAITIGLLVSSAVSQGTHSKNGPSSYRIPIGLQYVWSSILAVGMIFLPESPRYYVLKDELNKAAKSLSFLRGLPIEDPRLLEELVEIKATYDYEASFGPSTLLDCFKTSENRPKQILRIFTGIAIQAFQQASGINFIFYYGVNFFNNTGVDNSYLVSFISYAVNVAFSIPGMYLVDRIGRRPVLLAGGVIMAIANLVIAIVGVSEGKTVVASKIMIAFICLFIAAFSATWGGVVWVVSAELYPLGVRSKCTAICAAANWLVNFTCALITPYIVDVGSHTSSMGPKIFFIWGGLNVVAVIVVYFAVYETRGLTLEEIDELFRKAPNSVISSKWNKKIRKRCLAFPISQQIEMKTNIKNAGKLDNNNSPIVQDDSHNIIDVDGFLENQIQSNDHMIAADKGSGSLVNIIDTAPLTSTEFKPVEHPPVNYVDLGNGLGLNTYNRGPPSIISDSTDEFYEENDSSYYNNNTERNGANSVNTYMAQLINSSSTTSNDTSFSPSHNSNARTSSNWTSDLASKHSQYTSPQ',\n",
       " 'YDL137W': 'MGLYASKLFSNLFGNKEMRILMVGLDGAGKTTVLYKLKLGEVITTIPTIGFNVETVQYKNISFTVWDVGGQDRIRSLWRHYYRNTEGVIFVIDSNDRSRIGEAREVMQRMLNEDELRNAVWLVFANKQDLPEAMSAAEITEKLGLHSIRNRPWFIQSTCATSGEGLYEGLEWLSNNLKNQS',\n",
       " 'YDL136W': 'MAGVKAYELRTKSKEQLASQLVDLKKELAELKVQKLSRPSLPKIKTVRKSIACVLTVINEQQREAVRQLYKGKKYQPKDLRAKKTRALRRALTKFEASQVTEKQRKKQIAFPQRKYAIKA',\n",
       " 'YDL135C': 'MAEESTDFSQFEEERNNDQYKVSAKKTVDEYKNLDAEDESLAKWKESLGLSSDVLPLEFPGDKRKVVVQKIQLLVNTEPNPITFDLTNEKTIKELASKRYKIKENSIYKLKIVFKVQHEIITGLRYVQYIKKAGIAVDKIDDHLGSYAPNTKTKPFYEVELPESEAPSGFLARGNYSAVSKFIDDDKTNHLTLNWGVEIVKK',\n",
       " 'YDL134C': 'MDTDLDVPMQDAVTEQLTPTVSEDMDLNNNSSDNNAEEFSVDDLKPGSSGIADHKSSKPLELNNTNINQLDQWIEHLSKCEPLSEDDVARLCKMAVDVLQFEENVKPINVPVTICGDVHGQFHDLLELFKIGGPCPDTNYLFMGDYVDRGYYSVETVSYLVAMKVRYPHRITILRGNHESRQITQVYGFYDECLRKYGSANVWKMFTDLFDYFPITALVDNKIFCLHGGLSPMIETIDQVRELNRIQEVPHEGPMCDLLWSDPDDRGGWGISPRGAGFTFGQDVSEQFNHTNDLSLIARAHQLVMEGYAWSHQQNVVTIFSAPNYCYRCGNQAAIMEVDENHNRQFLQYDPSVRPGEPSVSRKTPDYFL',\n",
       " 'YDL133C-A': 'MRAKWRKKRTRRLKRKRRKVRARSK',\n",
       " 'YDL133W': 'MGDSNSSQEAYSDTTSTNASRIADQNQLNLNVDLEKNQTVRKSGSLEALQNAKIHVPKHSDGSPLDYPKLNTYTFVPTTVPPYVLEAQFDKLRLQDKGTVDGNVTDDKNLPKEFKWGQFASTIGCHSAYTRDQNYNPSHKSYDGYSLSSSTSSKNAALREILGDMCSEWGGEERLEGVLHSEIGANLEFNTTEERKEWLQYIEKVKDFYYGDNKKNPESPESVHNKVYKSDWVNELNKEREKWRRLKQRKLQQWRPPLTSLLLDNQYLILGLRIFTGILSCISLALAIKIFQNSRSNNTISESKIGQQPSTIMAICVNAVAIAYIIYIAHDEFAGKPVGLRNPLSKLKLILLDLLFIIFSSANLALAFNTRFDKEWVCTSIRRSNGSTYGYPKIPRICRKQEALSAFLFVALFMWVITFSISIVRVVEKVSSITNRN',\n",
       " 'YDL132W': 'MSETLPRSDDLEATWNFIEPGINQILGNEKNQASTSKRVYKILSPTMYMEVYTAIYNYCVNKSRSSGHFSTDSRTGQSTILVGSEIYEKLKNYLKNYILNFKQSNSETFLQFYVKRWKRFTIGAIFLNHAFDYMNRYWVQKERSDGKRHIFDVNTLCLMTWKEVMFDPSKDVLINELLDQVTLGREGQIIQRSNISTAIKSLVALGIDPQDLKKLNLNVYIQVFEKPFLKKTQEYYTQYTNDYLEKHSVTEYIFEAHEIIKREEKAMTIYWDDHTKKPLSMALNKVLITDHIEKLENEFVVLLDARDIEKITSLYALIRRDFTLIPRMASVFENYVKKTGENEISSLLAMHKHNIMKNENANPKKLALMTAHSLSPKDYIKKLLEVHDIFSKIFNESFPDDIPLAKALDNACGAFININEFALPAGSPKSATSKTSEMLAKYSDILLKKATKPEVASDMSDEDIITIFKYLTDKDAFETHYRRLFAKRLIHGTSTSAEDEENIIQRLQAANSMEYTGKITKMFQDIRLSKILEDDFAVALKNEPDYSKAKYPDLQPFVLAENMWPFSYQEVEFKLPKELVPSHEKLKESYSQKHNGRILKWLWPLCRGELKADIGKPGRMPFNFTVTLFQMAILLLYNDADVLTLENIQEGTSLTIQHIAAAMVPFIKFKLIQQVPPGLDALVKPETQFKLSRPYKALKTNINFASGVKNDILQSLSGGGHDNHGNKLGNKRLTEDERIEKELNTERQIFLEACIVRIMKAKRNLPHTTLVNECIAQSHQRFNAKVSMVKRAIDSLIQKGYLQRGDDGESYAYLA',\n",
       " 'YDL131W': 'MSENNEFQSVTESTTAPTTSNPYGPNPADYLSNVKNFQLIDSTLREGEQFANAFFDTEKKIEIARALDDFGVDYIELTSPVASEQSRKDCEAICKLGLKAKILTHIRCHMDDARVAVETGVDGVDVVIGTSKFLRQYSHGKDMNYIAKSAVEVIEFVKSKGIEIRFSSEDSFRSDLVDLLNIYKTVDKIGVNRVGIADTVGCANPRQVYELIRTLKSVVSCDIECHFHNDTGCAIANAYTALEGGARLIDVSVLGIGERNGITPLGGLMARMIVAAPDYVRSKYKLHKIRDIENLVADAVEVNIPFNNPITGFCAFTHKAGIHAKAILANPSTYEILDPHDFGMKRYIHFANRLTGWNAIKSRVDQLNLNLTDDQIKEVTAKIKKLGDVRPLNIDDVDSIIKDFHAELSTPLLKPVNKGTDDDNIDISNGHVSKKAKVTK',\n",
       " 'YDL130W-A': 'MLNRCISRNTRLPVNLRIASRFYSDGPLGGAGPGNPQDIFIKRERAKEDYYARQQEREQLAHVKEQLKEHKKKLENLENKINNLSK',\n",
       " 'YDL130W': 'MSDSIISFAAFILADAGLEITSDNLLTITKAAGANVDNVWADVYAKALEGKDLKEILSGFHNAGPVAGAGAASGAAAAGGDAAAEEEKEEEAAEESDDDMGFGLFD',\n",
       " 'YDL129W': 'MELRSRRSAEAYLVTPEEPAKNKSERSIESNERVGTREAKSENTSVFSPAYSDTATTDSSKKVDDNEYYNFTSHFMPSLKNTRELENTILNLIQRIKEGDDETLVSEKDLILSVLNRSLASTSHWKLQAQLSELRATSEGRYAVETNLLKKEVEFLKNKTPKTNESASSAELRPLLERPLKRKLSLPGLAQRPLSTGARLEGGYGGVSPNSWKTKVPKLPLPASRPSLNLSPQKVPTGTDKVEEDTKIDTLELVENNKPHPRMRRRSDNPATNEYVRVFHLEKKEPKSRKK',\n",
       " 'YDL128W': 'MDATTPLLTVANSHPARNPKHTAWRAAVYDLQYILKASPLNFLLVFVPLGLIWGHFQLSHTLTFLFNFLAIIPLAAILANATEELADKAGNTIGGLLNATFGNAVELIVSIIALKKGQVRIVQASMLGSLLSNLLLVLGLCFIFGGYNRVQQTFNQTAAQTMSSLLAIACASLLIPAAFRATLPHGKEDHFIDGKILELSRGTSIVILIVYVLFLYFQLGSHHALFEQQEEETDEVMSTISRNPHHSLSVKSSLVILLGTTVIISFCADFLVGTIDNVVESTGLSKTFIGLIVIPIVGNAAEHVTSVLVAMKDKMDLALGVAIGSSLQVALFVTPFMVLVGWMIDVPMTLNFSTFETATLFIAVFLSNYLILDGESNWLEGVMSLAMYILIAMAFFYYPDEKTLDSIGNSL',\n",
       " 'YDL127W': 'MSNYEALLKFNRKAVSKEMVQYLASTTASIIKIKKTNSMIDIALPAPPLTKFINRLIKHSNVQTPTLMATSVYLAKLRSIIPSNVYGIETTRHRIFLGCLILAAKTLNDSSPLNKHWAEYTDGLLILREVNTIERELLEYFDWDVTISTDDLITCLSPFLKPIKEEQLYKSQRDCRTLKNFSAQEKDIVNKTSISHSRSSSNMSIPSLASTSTLSTLESRRSNLSNYSNRIRTLPELHESNNISDKFSPRTYNIDSKHDNKENRPIPTIKPFNFSKARPVILKTGLNKQIIKEDTKVKKSNWSNYFKS',\n",
       " 'YDL126C': 'MGEEHKPLLDASGVDPREEDKTATAILRRKKKDNMLLVDDAINDDNSVIAINSNTMDKLELFRGDTVLVKGKKRKDTVLIVLIDDELEDGACRINRVVRNNLRIRLGDLVTIHPCPDIKYATRISVLPIADTIEGITGNLFDVFLKPYFVEAYRPVRKGDHFVVRGGMRQVEFKVVDVEPEEYAVVAQDTIIHWEGEPINREDEENNMNEVGYDDIGGCRKQMAQIREMVELPLRHPQLFKAIGIKPPRGVLMYGPPGTGKTLMARAVANETGAFFFLINGPEVMSKMAGESESNLRKAFEEAEKNAPAIIFIDEIDSIAPKRDKTNGEVERRVVSQLLTLMDGMKARSNVVVIAATNRPNSIDPALRRFGRFDREVDIGIPDATGRLEVLRIHTKNMKLADDVDLEALAAETHGYVGADIASLCSEAAMQQIREKMDLIDLDEDEIDAEVLDSLGVTMDNFRFALGNSNPSALRETVVESVNVTWDDVGGLDEIKEELKETVEYPVLHPDQYTKFGLSPSKGVLFYGPPGTGKTLLAKAVATEVSANFISVKGPELLSMWYGESESNIRDIFDKARAAAPTVVFLDELDSIAKARGGSLGDAGGASDRVVNQLLTEMDGMNAKKNVFVIGATNRPDQIDPAILRPGRLDQLIYVPLPDENARLSILNAQLRKTPLEPGLELTAIAKATQGFSGADLLYIVQRAAKYAIKDSIEAHRQHEAEKEVKVEGEDVEMTDEGAKAEQEPEVDPVPYITKEHFAEAMKTAKRSVSDAELRRYEAYSQQMKASRGQFSNFNFNDAPLGTTATDNANSNNSAPSGAGAAFGSNAEEDDDLYS',\n",
       " 'YDL125C': 'MEPLISAPYLTTTKMSAPATLDAACIFCKIIKSEIPSFKLIETKYSYAFLDIQPTAEGHALIIPKYHGAKLHDIPDEFLTDAMPIAKRLAKAMKLDTYNVLQNNGKIAHQEVDHVHFHLIPKRDEKSGLIVGWPAQETDFDKLGKLHKELLAKLEGSD',\n",
       " 'YDL124W': 'MSFHQQFFTLNNGNKIPAIAIIGTGTRWYKNEETDATFSNSLVEQIVYALKLPGIIHIDAAEIYRTYPEVGKALSLTEKPRNAIFLTDKYSPQIKMSDSPADGLDLALKKMGTDYVDLYLLHSPFVSKEVNGLSLEEAWKDMEQLYKSGKAKNIGVSNFAVEDLQRILKVAEVKPQVNQIEFSPFLQNQTPGIYKFCQEHDILVEAYSPLGPLQKKTAQDDSQPFFEYVKELSEKYIKSEAQIILRWVTKRGVLPVTTSSKPQRISDAQNLFSFDLTAEEVDKITELGLEHEPLRLYWNKLYGKYNYAAQKV',\n",
       " 'YDL123W': 'MCCYCVCCTVSDFILYIVAFFFPPAAVLLRSGPCSSDFLLNVLLTLLGFLPGMLHAFYYITITSPLRNAEYVYYYQQGWVDSERNVPSNRPQNSQTPQNRPQQGSSARNVYPSVETPLLQGAAPHDNKQSLVESPPPYVP',\n",
       " 'YDL122W': 'MDLFIESKINSLLQFLFGSRQDFLRNFKTWSNNNNNLSIYLLIFGIVVFFYKKPDHLNYIVESVSEMTTNFRNNNSLSRWLPRSKFTHLDEEILKRGGFIAGLVNDGNTCFMNSVLQSLASSRELMEFLDNNVIRTYEEIEQNEHNEEGNGQESAQDEATHKKNTRKGGKVYGKHKKKLNRKSSSKEDEEKSQEPDITFSVALRDLLSALNAKYYRDKPYFKTNSLLKAMSKSPRKNILLGYDQEDAQEFFQNILAELESNVKSLNTEKLDTTPVAKSELPDDALVGQLNLGEVGTVYIPTEQIDPNSILHDKSIQNFTPFKLMTPLDGITAERIGCLQCGENGGIRYSVFSGLSLNLPNENIGSTLKLSQLLSDWSKPEIIEGVECNRCALTAAHSHLFGQLKEFEKKPEGSIPEKLINAVKDRVHQIEEVLAKPVIDDEDYKKLHTANMVRKCSKSKQILISRPPPLLSIHINRSVFDPRTYMIRKNNSKVLFKSRLNLAPWCCDINEINLDARLPMSKKEKAAQQDSSEDENIGGEYYTKLHERFEQEFEDSEEEKEYDDAEGNYASHYNHTKDISNYDPLNGEVDGVTSDDEDEYIEETDALGNTIKKRIIEHSDVENENVKDNEELQEIDNVSLDEPKINVEDQLETSSDEEDVIPAPPINYARSFSTVPATPLTYSLRSVIVHYGTHNYGHYIAFRKYRGCWWRISDETVYVVDEAEVLSTPGVFMLFYEYDFDEETGKMKDDLEAIQSNNEEDDEKEQEQKGVQEPKESQEQGEGEEQEEGQEQMKFERTEDHRDISGKDVN',\n",
       " 'YDL121C': 'MNLYGYFLLLIIVIAFIALLPLFSGIGTFKLTKPKSSATAQSATGKLGKREYLKKKLDHTNVLKFDLKDTEESLGHDSASASSASRKFEIDSKTGLKRRVIGQYNKDPNDFDFDIDDLINEDELDERREEEKKLKKYNGKKNEAYEGFV',\n",
       " 'YDL120W': 'MIKRSLASLVRVSSVMGRRYMIAAAGGERARFCPAVTNKKNHTVNTFQKRFVESSTDGQVVPQEVLNLPLEKYHEEADDYLDHLLDSLEELSEAHPDCIPDVELSHGVMTLEIPAFGTYVINKQPPNKQIWLASPLSGPNRFDLLNGEWVSLRNGTKLTDILTEEVEKAISKSQ',\n",
       " 'YDL119C': 'MTEQATKPRNSSHLIGGFFGGLTSAVALQPLDLLKTRIQQDKKATLWKNLKEIDSPLQLWRGTLPSALRTSIGSALYLSCLNLMRSSLAKRRNAVPSLTNDSNIVYNKSSSLPRLTMYENLLTGAFARGLVGYITMPITVIKVRYESTLYNYSSLKEAITHIYTKEGLFGFFRGFGATCLRDAPYAGLYVLLYEKSKQLLPMVLPSRFIHYNPEGGFTTYTSTTVNTTSAVLSASLATTVTAPFDTIKTRMQLEPSKFTNSFNTFTSIVKNENVLKLFSGLSMRLARKAFSAGIAWGIYEELVKRFM',\n",
       " 'YDL117W': 'MATNLTSLKPPFKVKARYGWSGQTKGDLGFLEGDIMEVTRIAGSWFYGKLLRNKKCSGYFPHNFVILLEERLNSSTENGRQPSKIVESFEKSNKVVIPPVPSRYSDERPRPKKKLSSSMPNSPKKPVDSLTKARKAKSKEMVNEKNIYNTQSSRHHNNSAPNLPLASHSKPQVRNFEESMNNPLPPLPPLPDLDNMRKTDKRAPKKSYSANDLHMARSSREYNYYKDNQKFYDGFIPEKRYSLEEDSISSGLFSNSQYLNDSACSSENSFALMSDFSATSAGSFARHKYAQSFSDSLQRSQNANGCSTKINDSQEFGDSNASSRNGKMGDILRKIIIPKRNTNIYSSSVSSPKSPKAYPKLPDIQNLNLSATPDEARDWIAVKCHLNRARTLTKYDKHPRYMRALEENRDLILHPQDSIYNGLNTNEVKGNTKPGLVDVELAELNIEYIDKMTWKRCIRDGTMTLDSWAQTTFSARYSTVLEKLRGIYIFCTEMFALTDDNGTSDFSAEPQNLEKILYRKHCTPYELTWLFKKLANSLGITCEIVIGFLKTPSAINWEFKYNHCWLRILVNKEWRFIDVILGNVTNPIHEFVNNRKIKKAENSYFLMAPLEMIYTHIPPREFEQHIVPSIDQLSALYLPLVFPSFFKNELKLYKFSTALSFLEDSEIYECSLEIPNDVEVFASVVIPTDNEEASSAYRNMELALTQIKKQKAESGRRIALIKAVLPPNVNKGSLYIHSGVRGTQTSIANIHPLSMMVPLTHKGSNMKYEFVIKIPSESIQKIELYIVEPQSRYLFVGNEYSFEVIQSPSDGIVYSSDEGPNQNRKQPMAIKSPSGRVHELVKSDPHFPYGTWKGSIKIKEPGVWSALVIADSGIGWSVFAEWLCV',\n",
       " 'YDL116W': 'MELSPTYQTERFTKFSDTLKEFKIEQNNEQNPIDPFNIIREFRSAAGQLALDLANSGDESNVISSKDWELEARFWHLVELLLVFRNADLDLDEMELHPYNSRGLFEKKLMQDNKQLYQIWIVMVWLKENTYVMERPKNVPTSKWLNSITSGGLKSCDLDFPLRENTNVLDVKDKEEDHIFFKYIYELILAGAIDEALEEAKLSDNISICMILCGIQEYLNPVIDTQIANEFNTQQGIKKHSLWRRTVYSLSQQAGLDPYERAIYSYLSGAIPNQEVLQYSDWESDLHIHLNQILQTEIENYLLENNQVGTDELILPLPSHALTVQEVLNRVASRHPSESEHPIRVLMASVILDSLPSVIHSSVEMLLDVVKGTEASNDIIDKPYLLRIVTHLAICLDIINPGSVEEVDKSKLITTYISLLKLQGLYENIPIYATFLNESDCLEACSFILSSLEDPQVRKKQIETINFLRLPASNILRRTTQRVFDETEQEYSPSNEISISFDVNNIDMHLIYGVEWLIEGKLYVDAVHSIIALSRRFLLNGRVKALEQFMERNNIGEICKNYELEKIADNISKDENEDQFLEEITQYEHLIKGIREYEEWQKSVSLLSSESNIPTLIEKLQGFSKDTFELIKTFLVDLTSSNFADSADYEILYEIRALYTPFLLMELHKKLVEAAKLLKIPKFISEALAFTSLVANENDKIYLLFQSSGKLKEYLDLVARTATLSN',\n",
       " 'YDL115C': 'MSTISTTTAPEFIRVKRRRDEDSVQALLIDEGKRVKKQKFIFKLSKTVSSESYQSEQESSTPLLKLAHEDHRHFVLEQRKKSRRDSDDEKSQQRLAAEGSTVDDDGLPPEINQMVNDYLKLNKGVEKTERKKPSRKYFTGDSAKIASLPSLDYVFDIYHLEKIHDDEVARYNNEKNIGFVKIIEHIDLALDEESDPNEARSDDEDSNDENYYQNDYPEDEDDDRSILFGSEGEDIAALGEEIVIGVNKSRFSSWNDDKIQGSNGYHDVEEEYGDLFNRLGGKSDVLKSINSSNFIDLDGQEGEIEISDNEDDSDEGDDIEYPRNEFFPTDVDDPLAHHRDRIFHQLQKKINRS',\n",
       " 'YDL114W': 'MVRKNKINRASGTTKHLKDFPSVILSLPSYNPSILSKNATALITGGSSGLGFELAKELSRRINKVIVADIQSFPTFAQVEYNNIFYYQCDITSLDEIKNLKKAIERDHGNINIIINNAGVAHIKKLEHMTNKEVEQLIDINLIGAYRIISTFAEDMIDNREGFIINIASVLGELTPARLTSYGASKGAMIGFHKCMSRHFRSLSTECNKTGIKTLLVCPGKIKTNMFIDVPTPSKLLAPDIIPSQLALAIISAMEHNHLQTLNAPYYVNLVPFFKTLSWPYRHLLKHFSGMDHVTSTSPRAINPKRSA',\n",
       " 'YDL113C': 'MSDLNDVQENAKLNSETRNTGKAEPPHGTTEYVAEAEISKNGVGSPKKSPKKGKVGKGDNNKVETELVHTALLEKDNPFMEEGPTGFTKSALLEIPGMRSHNLKNPNEDYEDDSEGLLPLNQESNAETCRTSLSGSINSMNGETSASEEPSVSNRKKSARIHILEAKRVSEGQGRAYIAYVIQFENSTVQRRYSDFESLRSILIRLFPMTLIPPIPEKQSIKNYGKSITGSSSKYLLPSEGSGSVDLSLSVIHASVNNSDEKLIRHRIRMLTEFLNKLLTNEEITKTSIITDFLDPNNHNWHEFVNSSSTFSSLPKSILQCNPLDPTNTTRIHAMLPIPGSSSQLLLNKESNDKKMDKERSKSFTNIEQDYKQYENLLDNGIYKYNRRTTKTYHDLKSDYNEIGEVFAQFAHEQAQVGELAEQLSYLSNAFSGSSISLEKLVGRLYYNINEPLNESVHMATSARELIKYRKLKYLQNEMIKKSLNSKRAQLEKLEAQNNEYKDVDKIIDNEMSKSHTINLERPNNNTGSGGKSYGGKLFNGFNKLASMVKDSVKYQETDPHTASINLKKEIEQLSESLEVTENDLEVISKVIKNDQLPKFSKEREVDLSEILKHYSRYMRNYARQNLEIWKEVKRHQDFA',\n",
       " 'YDL112W': 'MVGGALICKYLPREEQLKLISDLIQNDSLEEVLELIETSPLDITTDSNIETPIFEKITEQVIAYASIDGEAREMFRSSRAEMNKALRTSAQLLCCLPSVWHKFQVWMSYRLNDIISENYKHLFNDNFGKKIVQPFFDSFAEEQNANIKHENLHLDILSLLHYLEVVYLFDECKNGISSKCLDFIIVPLLGCNSEEIADSCSKLMRWHIKYLSKCCNTDSNFDKLIWTFIKQLYAEGSQQAWKQKNSLSFLLRFLLAAELSPELITYIKTDAYWRHIQTELDNDVHEHRKLALSILKLTIQKLSSHGITLQTTFYKCNDLANIEMLGSWKKFTTLYEMIALDTSLNQIQAAKQDIIKIFDNEHLHHSWGLILLSTGLKSSMESVRKYMMTLMFSITNMSAFSSNLPLLTKTLLPAAMSAHYFDVKGVSCPHGEKLSLFVNNLLSQTTEGISDILFEILKLLVEKGTSFDPSRIYLSYGILVFFQNNKQKTINSDHLSLIRKLYDFAAEEEVLETTIQTIYLKFLLYIDPSVSASELLFTLVSHIKLKGGTYKYVEPLFEDYRDLAVSHFDDLQAKENLTTNIGKDTIFDLLASIIFDFKDIDITPDFLIEVAKSKQDIPVYTSKAVTFLTQLLSGEPSNGYTYENATALLSYPNFTISTWKSINVNNLFKSVMEKFSLDKFKFFAEIYQKTYECRFDTIELNFNDLLSLYEMVKKSANQCSRESFKVKDSAYSSYFELLNTFLKTYALNRDSSEGNDDELHILLRLVDENINKDNGNYLGNLAVCKLLYFIIDSYIHCSTSVSDDDIFIVKFIFEKFSFIWECINSERLVLKERDLHLMLIKGLFHPVILYFGSNQYIDTLTSKLEEHAQTIISLSYSRRSLLPLLGSQLRVFMKFYGKLLREDVNYWWLINIIVGVFKQPQMDVNLYKLKPVISSLFDHKLNNYYIKGDELYEKVYGPDEILARVSIIDSILYANDQLKIRLIEKVTEKTNALYAIKRTDGAEALQRLLQWQLLLLSLLTTNEKKLSETSMIRILKSIEDESSPLVRVYKEWFISSKVVDYYKTGNPKFAEDYLFSLLEDHSKPVFVVSAEKICFMVLKDLRNDEKKYGFTQLLDRFICTLVPNAASNKPLVRHFSNSLIISLWPTFKAYLSDHTLRNIIENLYSNAKKTQIFGQYRAGDANIWDLKGDRKLTNMFGGVLKKVTDHDCPYISESVFEKYLQEKDIVPIGTDERSLWLDKRDTNTESVNNANISCDTSPLQTKSGAWETVLDLDNKKSNDVVTRSELIVVSSLVDKPPNLGGICRLCDVLGVGLLTVQDIKVKNHPQFKNVAVTADRWMPMEEVALDEIASFMKEKKKEGYTLIGLEQTDKSVKLDNNFQFPKKSLILLGTEAFGIPGTLLSELDLCLEIQQFGVIRSMNIQTATAVIVHSYTVQHM',\n",
       " 'YDL111C': 'MSLSVAEKSYLYDSLASTPSIRPDGRLPHQFRPIEIFTDFLPSSNGSSRIIASDGSECIVSIKSKVVDHHVENELLQVDVDIAGQRDDALVVETITSLLNKVLKSGSGVDSSKLQLTKKYSFKIFVDVLVISSHSHPVSLISFAIYSALNSTYLPKLISAFDDLEVEELPTFHDYDMVKLDINPPLVFILAVVGNNMLLDPAANESEVANNGLIISWSNGKITSPIRSVALNDSNVKSFKPHLLKQGLAMVEKYAPDVVRSLENL',\n",
       " 'YDL110C': 'MCSAGGIRRPIQIEEFKTAISGMSDMELAQIKTEIENSINHLQRSNARLGKYIAKLEGADDRLEADDSDDLENIDSGDLALYKDSVRENEIVLNNYNERVDALEQETVYRKTGHGKSKHEVEAKDNTNKGPDVDMDNSNVDVVTPNSIFI',\n",
       " 'YDL109C': 'MEAGRSADEVLYHNQSSVKLGELERYVITYELYQGDSIPADITLDSLWVKIKNTTKLSYKPAYLLGPFILYCDVRAKDYESSYKIICSADKPVFQSNLQAQQKFIAELSLHHIKPRYVWIVDIVSQILFNKETKVTFEIVVGNSKASLKRKIRCNDSLPDKACNILHTGLSVHRLTTADIWKVPRPIDMSQKSHLVILTHGFQSNVSADMEYLMEEIYKAQMNNPNERLVIKGYMKNACETEKGIKFLGVGLANYIIDELYDDSVGKISFIGHSLGGLTQTFAICYIKTKYPYFFKKVEPINFISLASPLLGIATSTPNYVKMSLSMGIIGTTGQELGLKDGNYGDKPLLYLLSEESLISVLARFKRRTLYANAVNDGIVPLYSSSLLFLDYSQLLQKLGGQTTAPCDPLFQPEVSPIGELPNHSDVANDDDGINASSWNTFWKSKENNCDKKSKRLMNASVIKSMKSVLLSPCPDAKFFSDPDARVATIIHDKIYTEKNLPPPSPTLYEGTAAKEGETRKTRKEMEEIIARRWHKGMHWRKVVVLLKPDAHNNIIVRRRFSNAYGWPVVDHLVTAHFQRDDPIASPMQDKQFAEEDINMATGGVEPNKFYSWLTKIEDPSVYHGGIVSTASQLASSWISKHSSVTD',\n",
       " 'YDL108W': 'MKVNMEYTKEKKVGEGTYAVVYLGCQHSTGRKIAIKEIKTSEFKDGLDMSAIREVKYLQEMQHPNVIELIDIFMAYDNLNLVLEFLPTDLEVVIKDKSILFTPADIKAWMLMTLRGVYHCHRNFILHRDLKPNNLLFSPDGQIKVADFGLARAIPAPHEILTSNVVTRWYRAPELLFGAKHYTSAIDIWSVGVIFAELMLRIPYLPGQNDVDQMEVTFRALGTPTDRDWPEVSSFMTYNKLQIYPPPSRDELRKRFIAASEYALDFMCGMLTMNPQKRWTAVQCLESDYFKELPPPSDPSSIKIRN',\n",
       " 'YDL107W': 'MQRFVSKFVSTPPVPKKFQEIFPKKRTVNKILFQLDTRLTYHEMYPIFLQVSQNTNEENIPWRKKYPYIRSSDIMQMRNVLITLRTQNKFVHKDLLAMEDKLLNIAAELGNNDAISILSFNVIHEYKKENVKSSYEKDIETANEFIKKLYARNHHLTVKLIGDLFFENKTYDKAEKYYQEFLKLENSTKLAGEVHGKLGEIQIKQVNGFLKAEKSWLSCIELLEIERSSRWYFLLARLYMSSEPMKAKALLENCASIGFKECFKTLGFLELNYFNNYERAKEWFKTGMEIMDLECFFGFFDCCVKEENFKGARDCLESVKKLGNDKDKKTMINVFLESRKDSIKLLDKARL',\n",
       " 'YDL106C': 'MMEEFSYDHDFNTHFATDLDYLQHDQQQQQQQQHDQQHNQQQQPQPQPIQTQNLEHDHDQHTNDMSASSNASDSGPQRPKRTRAKGEALDVLKRKFEINPTPSLVERKKISDLIGMPEKNVRIWFQNRRAKLRKKQHGSNKDTIPSSQSRDIANDYDRGSTDNNLVTTTSTSSIFHDEDLTFFDRIPLNSNNNYYFFDICSITVGSWNRMKSGALQRRNFQSIKELRNLSPIKINNIMSNATDLMVLISKKNSEINYFFSAMANNTKILFRIFFPLSSVTNCSLTLETDDDIINSNNTSDKNNSNTNNDDDNDDNSNEDNDNSSEDKRNAKDNFGELKLTVTRSPTFAVYFLNNAPDEDPNLNNQWSICDDFSEGRQVNDAFVGGSNIPHTLKGLQKSLRFMNSLILDYKSSNEILPTINTAIPTAAVPQQNIAPPFLNTNSSATDSNPNTNLEDSLFFDHDLLSSSITNTNNGQGSNNGRQASKDDTLNLLDTTVNSNNNHNANNEENHLAQEHLSNDADIVANPNDHLLSLPTDSELPNTPDFLKNTNELTDEHRWI',\n",
       " 'YDL105W': 'MSSTVISRKRRNSTVTEPDSSGETRKQKKSRSDEKSSSSKDGDPQLEFKVLQGYRDLESEMHKGRAQVTRTGDIGVAMDNLNAVDSLFNKVIGIKNNGLFAHDARAMVSISELAQISVRNLKFDDSRSMVNLENIVNSLKRYMLKEHFKLNNIAENRNDLTLAADEQSAADQQEESDGDIDRTPDDNHTDKATSSFKATSMRHSYLQQFSHYNEFSQFNWFRIGALYNTISKNAPITDHLMGPLSIEKKPRVLTQRRRNNDQVGEKITAEKITQHSLNSTQQETTPEQVKKCFKKLSKKLGPEGSINLFKFIIDPNSFSRSIENLFYTSFLIKEGKLLMEHDEEGLPTIKIKQSISHTDSRSKEIERQRRRAAHQNHIIFQMDMPTWRKLIKKYNITSPFLD',\n",
       " 'YDL104C': 'MISIKGTGRFLLDNYRIWQRRAFNRPIQLRKGYKVLAIETSCDDTCVSVLDRFSKSAAPNVLANLKDTLDSIDEGGIIPTKAHIHHQARIGPLTERALIESNAREGIDLICVTRGPGMPGSLSGGLDFAKGLAVAWNKPLIGVHHMLGHLLIPRMGTNGKVPQFPFVSLLVSGGHTTFVLSRAIDDHEILCDTIDIAVGDSLDKCGRELGFKGTMIAREMEKFINQDINDQDFALKLEMPSPLKNSASKRNMLSFSFSAFITALRTNLTKLGKTEIQELPEREIRSIAYQVQESVFDHIINKLKHVLKSQPEKFKNVREFVCSGGVSSNQRLRTKLETELGTLNSTSFFNFYYPPMDLCSDNSIMIGWAGIEIWESLRLVSDLDICPIRQWPLNDLLSVDGWRTDQL',\n",
       " 'YDL103C': 'MTDTKQLFIEAGQSQLFHNWESLSRKDQEELLSNLEQISSKRSPAKLLEDCQNAIKFSLANSSKDTGVEISPLPPTSYESLIGNSKKENEYWRLGLEAIGKGEVAVILMAGGQGTRLGSSQPKGCYDIGLPSKKSLFQIQAEKLIRLQDMVKDKKVEIPWYIMTSGPTRAATEAYFQEHNYFGLNKEQITFFNQGTLPAFDLTGKHFLMKDPVNLSQSPDGNGGLYRAIKENKLNEDFDRRGIKHVYMYCVDNVLSKIADPVFIGFAIKHGFELATKAVRKRDAHESVGLIATKNEKPCVIEYSEISNELAEAKDKDGLLKLRAGNIVNHYYLVDLLKRDLDQWCENMPYHIAKKKIPAYDSVTGKYTKPTEPNGIKLEQFIFDVFDTVPLNKFGCLEVDRCKEFSPLKNGPGSKNDNPETSRLAYLKLGTSWLEDAGAIVKDGVLVEVSSKLSYAGENLSQFKGKVFDRSGIVLEK',\n",
       " 'YDL102W': 'MSEKRSLPMVDVKIDDEDTPQLEKKIKRQSIDHGVGSEPVSTIEIIPSDSFRKYNSQGFKAKDTDLMGTQLESTFEQELSQMEHDMADQEEHDLSSFERKKLPTDFDPSLYDISFQQIDAEQSVLNGIKDENTSTVVRFFGVTSEGHSVLCNVTGFKNYLYVPAPNSSDANDQEQINKFVHYLNETFDHAIDSIEVVSKQSIWGYSGDTKLPFWKIYVTYPHMVNKLRTAFERGHLSFNSWFSNGTTTYDNIAYTLRLMVDCGIVGMSWITLPKGKYSMIEPNNRVSSCQLEVSINYRNLIAHPAEGDWSHTAPLRIMSFDIECAGRIGVFPEPEYDPVIQIANVVSIAGAKKPFIRNVFTLNTCSPITGSMIFSHATEEEMLSNWRNFIIKVDPDVIIGYNTTNFDIPYLLNRAKALKVNDFPYFGRLKTVKQEIKESVFSSKAYGTRETKNVNIDGRLQLDLLQFIQREYKLRSYTLNAVSAHFLGEQKEDVHYSIISDLQNGDSETRRRLAVYCLKDAYLPLRLMEKLMALVNYTEMARVTGVPFSYLLARGQQIKVVSQLFRKCLEIDTVIPNMQSQASDDQYEGATVIEPIRGYYDVPIATLDFNSLYPSIMMAHNLCYTTLCNKATVERLNLKIDEDYVITPNGDYFVTTKRRRGILPIILDELISARKRAKKDLRDEKDPFKRDVLNGRQLALKISANSVYGFTGATVGKLPCLAISSSVTAYGRTMILKTKTAVQEKYCIKNGYKHDAVVVYGDTDSVMVKFGTTDLKEAMDLGTEAAKYVSTLFKHPINLEFEKAYFPYLLINKKRYAGLFWTNPDKFDKLDQKGLASVRRDSCSLVSIVMNKVLKKILIERNVDGALAFVRETINDILHNRVDISKLIISKTLAPNYTNPQPHAVLAERMKRREGVGPNVGDRVDYVIIGGNDKLYNRAEDPLFVLENNIQVDSRYYLTNQLQNPIISIVAPIIGDKQANGMFVVKSIKINTGSQKGGLMSFIKKVEACKSCKGPLRKGEGPLCSNCLARSGELYIKALYDVRDLEEKYSRLWTQCQRCAGNLHSEVLCSNKNCDIFYMRVKVKKELQEKVEQLSKW',\n",
       " 'YDL101C': 'MSLSTKREHSGDVTDSSFKRQQRSNKPSSEYTCLGHLVNLIPGKEQKVEITNRNVTTIGRSRSCDVILSEPDISTFHAEFHLLQMDVDNFQRNLINVIDKSRNGTFINGNRLVKKDYILKNGDRIVFGKSCSFLFKYASSSSTDIENDDEKVSSESRSYKNDDEVFKKPQISATSSQNATTSAAIRKLNKTRPVSFFDKYLLGKELGAGHYALVKEAKNKKTGQQVAVKIFHAQQNDDQKKNKQFREETNILMRVQHPNIVNLLDSFVEPISKSQIQKYLVLEKIDDGELFERIVRKTCLRQDESKALFKQLLTGLKYLHEQNIIHRDIKPENILLNITRRENPSQVQLGPWDEDEIDIQVKIADFGLAKFTGEMQFTNTLCGTPSYVAPEVLTKKGYTSKVDLWSAGVILYVCLCGFPPFSDQLGPPSLKEQILQAKYAFYSPYWDKIDDSVLHLISNLLVLNPDERYNIDEALNHPWFNDIQQQSSVSLELQRLQITDNKIPKTYSELSCL',\n",
       " 'YDL100C': 'MDLTVEPNLHSLITSTTHKWIFVGGKGGVGKTTSSCSIAIQMALSQPNKQFLLISTDPAHNLSDAFGEKFGKDARKVTGMNNLSCMEIDPSAALKDMNDMAVSRANNNGSDGQGDDLGSLLQGGALADLTGSIPGIDEALSFMEVMKHIKRQEQGEGETFDTVIFDTAPTGHTLRFLQLPNTLSKLLEKFGEITNKLGPMLNSFMGAGNVDISGKLNELKANVETIRQQFTDPDLTTFVCVCISEFLSLYETERLIQELISYDMDVNSIIVNQLLFAENDQEHNCKRCQARWKMQKKYLDQIDELYEDFHVVKMPLCAGEIRGLNNLTKFSQFLNKEYNPITDGKVIYELEDKE',\n",
       " 'YDL099W': 'MSEQESDEVKRMKQLEEARKRVEELKKKKNKKNKGKKNKNSSATGSIGSETPDLEGTPGEESTQEETVKANSTKSENNDQNDVDEESEEKEIEQVKSDPSGTTEKDIEEINSTSSNVGKDDAENTKKEEVQEVIKNNNDEQTADAGKTIEPQEEKKIVQTQEGNEPSNTSEAADDLFANDGNEESDFLTTIKKQKEEDELTKLRAENEKLTQENKQLKFLNMENETTVDDLQDQLQEKEDIINGLQNDLQTARDELIAAVEKLKLAEAKAARNTTATPIQFADFNTSSNNLTPSQSVTNSGTQVAHGNNMEVDRVMLNKWRQWNVDMTTWRSIGSGPIMEF',\n",
       " 'YDL098C': 'MSNFGRRTWDREEYAEQARSGYDDRSLKATLTPIELQALKSKYTNYDHLIKGSLKDLNKRKLTANTESLSSFKRGKKFGFYCDICNLTFKDTLQYIDHLNHKVHAIKFENLFDEPLIIDIRDNDDVPQEEFELCYHNLIKDFVEVRSMETQSKRKRLLDTDVEKAKKVATKPSIESESKVSQMMGFSNFATSKK',\n",
       " 'YDL097C': 'MSLPGSKLEEARRLVNEKQYNEAEQVYLSLLDKDSSQSSAAAGASVDDKRRNEQETSILELGQLYVTMGAKDKLREFIPHSTEYMMQFAKSKTVKVLKTLIEKFEQVPDSLDDQIFVCEKSIEFAKREKRVFLKHSLSIKLATLHYQKKQYKDSLALINDLLREFKKLDDKPSLVDVHLLESKVYHKLRNLAKSKASLTAARTAANSIYCPTQTVAELDLMSGILHCEDKDYKTAFSYFFESFESYHNLTTHNSYEKACQVLKYMLLSKIMLNLIDDVKNILNAKYTKETYQSRGIDAMKAVAEAYNNRSLLDFNTALKQYEKELMGDELTRSHFNALYDTLLESNLCKIIEPFECVEISHISKIIGLDTQQVEGKLSQMILDKIFYGVLDQGNGWLYVYETPNQDATYDSALELVGQLNKVVDQLFEKASVLY',\n",
       " 'YDL095W': 'MSEEKTYKRVEQDDPVPELDIKQGPVRPFIVTDPSAELASLRTMVTLKEKLLVACLAVFTAVIRLHGLAWPDSVVFDEVHFGGFASQYIRGTYFMDVHPPLAKMLYAGVASLGGFQGDFDFENIGDSFPSTTPYVLMRFFSASLGALTVILMYMTLRYSGVRMWVALMSAICFAVENSYVTISRYILLDAPLMFFIAAAVYSFKKYEMYPANSLNAYKSLLATGIALGMASSSKWVGLFTVTWVGLLCIWRLWFMIGDLTKSSKSIFKVAFAKLAFLLGVPFALYLVFFYIHFQSLTLDGDGASFFSPEFRSTLKNNKIPQNVVADVGIGSIISLRHLSTMGGYLHSHSHNYPAGSEQQQSTLYPHMDANNDWLLELYNAPGESLTTFQNLTDGTKVRLFHTVTRCRLHSHDHKPPVSESSDWQKEVSCYGYSGFDGDANDDWVVEIDKKNSAPGVAQERVIALDTKFRLRHAMTGCYLFSHEVKLPAWGFEQQEVTCASSGRHDLTLWYVENNSNPLLPEDTKRISYKPASFISKFIESHKKMWHINKNLVEPHVYESQPTSWPFLLRGISYWGENNRNVYLLGNAIVWWAVTAFIGIFGLIVITELFSWQLGKPILKDSKVVNFHVQVIHYLLGFAVHYAPSFLMQRQMFLHHYLPAYYFGILALGHALDIIVSYVFRSKRQMGYAVVITFLAASVYFFKSFSPIIYGTPWTQELCQKSQWLSGWDYNCNTYFSSLEEYKNQTLTKRESQPAATSTVEEITIEGDGPSYEDLMNEDGKKIFKDTEGNELDPEVVKKMLEEEGANILKVEKRAVLE',\n",
       " 'YDL093W': 'MNKEHLLKVDPIPDVTIKRGPLRSFLITKPCDNLSSLRTVTSSKEKLLVGCLLIFTAIVRLHNISLPNSVVFGENEVGTFVSQYVNNIFFTDVHPPLVAMLYATVSSVFGYKGLFNYGNIGTEYTANVPYVAMRFFSATLGIVSVLVLYLTLRVSGVKIAVAAICAVCFAIENSFVTLSRFTLIEGPFVFFMACAVYFFRRSELYLPNSCKANKSLLAASIALGFAVSSKWAGLFTIAWAGIIVLWRVWFMIGDLSRPIGSSIKYMAFQFTCLLAIPAFIYFLIFSVHIKTLNVNGISSSFFPAEFRKTLKYNNVIKETVAEVAVGSAVSLNHVGTAGGYLHSHLHNYPAGSMQQQVTLYPHIDQNNKWIIELAEHPNENVTSFQNLTDGTIIKLRQLKNGCRLHSHDHKPPVSQNADWQKEVSCYGYEGFEGDINDDWIIEIDKKRSEPGPAQEHIRAIETKFRLKHYLTGCYLFSHPEKLPEWGFGQQEVTCAYFAREDLTSWYIEENENEISLPNPEKVSYKKMSFWQKFVAIHKFMFYLNNYMDTSHAYSSEPKTWPLMLRGIDFWNENGREVYFLGNAVLWWSVTAFICTFIIGVAVELLAWKLGVNILRDKHIINFHYQVFQYLLGFAAHYFPYFFVGQKLFLYDYLPAYYFGILAFGHALDLISTYISNKRNNTGYIVVAIFMVVCFYFFSEHSPLIYATGWSSNLCKRSKWLGSWDFYCNSLLLSDSHYELNAES',\n",
       " 'YDL092W': 'MANTGCLSPGAFLSKVPEFFQTANEKHITVRLTAKRLIEHDPVEGNLEFDSTNHPDYDVSKKASEISVSSRSDREYPLLIRMSYGSHDKKTKCSTVVKASELDQFWQEYSSVFKGGMQNLIKKKKKKSKNGTISKTGKKNKVAKKN',\n",
       " 'YDL091C': 'MDIFRHTFGNNDDSFIRIPGAFREEPPADLNGRTEDQNSNTNEPTQSRDGRLKSILHFLFQAPLIVLYYLLNFIVRSSRLLKPLLRLHGFYQRKHNRLLDHSSQLHRLLENLENEAQAVTCSEGNGNNDDGSNTDSTSNNESSGVQFSFGSLYNPENGTFSKSIMQNSYTELLDACSEQVKFGVIYLHDPLLDNHMDYVNKILCSEAFVNMIRKYQVLLWYGDVTTSEGLQVSNALKIRQYPLLGIISLKAEKKIELIARVEGSISNYKAQDLEAIFSKNYSRLIQLRQQRQNIEMQRLIRQQQDSRYQDSLRRDQQRESERLEQTQREQMEREHQRIENQWLLWRKSQLKPEPSSDKDASKVAIRLENGQRLVRKFDASLPTEEIYAFVELQLHDMLNSENDTLPVYQPANYQHQYSFKLITPVPRRELDLSTKISDVSGIYPSGNIVMERLDE',\n",
       " 'YDL090C': 'MRQRVGRSIARAKFINTALLGRKRPVMERVVDIAHVDSSKAIQPLMKELETDTTEARYKVLQSVLEIYDDEKNIEPALTKEFHKMYLDVAFEISLPPQMTALDASQPWMLYWIANSLKVMDRDWLSDDTKRKIVDKLFTISPSGGPFGGGPGQLSHLASTYAAINALSLCDNIDGCWDRIDRKGIYQWLISLKEPNGGFKTCLEVGEVDTRGIYCALSIATLLNILTEELTEGVLNYLKNCQNYEGGFGSCPHVDEAHGGYTFCATASLAILRSMDQINVEKLLEWSSARQLQEERGFCGRSNKLVDGCYSFWVGGSAAILEAFGYGQCFNKHALRDYILYCCQEKEQPGLRDKPGAHSDFYHTNYCLLGLAVAESSYSCTPNDSPHNIKCTPDRLIGSSKLTDVNPVYGLPIENVRKIIHYFKSNLSSPS',\n",
       " 'YDL089W': 'MGSNDLINEAYDDSEVVGEERESKSAWMKRWYQLLTSPLDLQLVINEKLEMINWDAYAKSLAKPLGNFLTILFFIIRLLQDNLIKPNYYKLNVKSGAFDLSKSNKLKEFDYLWEISSSFQNNNQFYAFQSWYFVTLRFLNNLFRFTIFILLSLNLYVSCKFMFGYFKTYNLFHLKKEFNSPNLTKHNLKDLSKEYYEDIYKQSLWSMLKHFFRGSRDDGPHVNQNEDEIFFQLRKWIPTNFMINLFVSFSPTAIVFLSFSDVSFTSAIAIVFHQYILDYIITKRFQRSVDDDLILSSAALQEYEDKHIMARINQCSNIDTLSSAMGTRSKTPRIFTTHSLCGEEIREVYNYEKREFEALPKMTESVPGSRETRIKDYGGISQVSDHQSHPIGFHYSPRMSPYYRDKVLDNNLAQSSSNENLEKGGAYLPNQDQNRPSKSLSPLRKTPLSARQKRFEGSEFNVLNKNDINSILRSPKKKKNYHKR',\n",
       " 'YDL088C': 'MFGIRSGNNNGGFTNLTSQAPQTTQMFQSQSQLQPQPQPQPQQQQQHLQFNGSSDASSLRFGNSLSNTVNANNYSSNIGNNSINNNNIKNGTNNISQHGQGNNPSWVNNPKKRFTPHTVIRRKTTKQNSSSDINQNDDSSSMNATMRNFSKQNQDSKHNERNKSAANNDINSLLSNFNDIPPSVTLQDWQREDEFGSIPSLTTQFVTDKYTAKKTNRSAYDSKNTPNVFDKDSYVRIANIEQNHLDNNYNTAETNNKVHETSSKSSSLSAIIVFGYPESISNELIEHFSHFGHIMEDFQVLRLGRGINPNTFRIFHNHDTGCDENDSTVNKSITLKGRNNESNNKKYPIFTGESWVKLTYNSPSSALRALQENGTIFRGSLIGCIPYSKNAVEQLAGCKIDNVDDIGEFNVSMYQNSSTSSTSNTPSPPNVIITDGTLLREDDNTPAGHAGNPTNISSPIVANSPNKRLDVIDGKLPFMQNAGPNSNIPNLLRNLESKMRQQEAKYRNNEPAGFTHKLSNWLFGWNDL',\n",
       " 'YDL087C': 'MSTMSTPAAEQRKLVEQLMGRDFSFRHNRYSHQKRDLGLHDPKICKSYLVGECPYDLFQGTKQSLGKCPQMHLTKHKIQYEREVKQGKTFPEFEREYLAILSRFVNECNGQISVALQNLKHTAEERMKIQQVTEELDVLDVRIGLMGQEIDSLIRADEVSMGMLQSVKLQELISKRKEVAKRVRNITENVGQSAQQKLQVCEVCGAYLSRLDTDRRLADHFLGKIHLGYVKMREDYDRLMKNNRTTNASKTATTLPGRRFV',\n",
       " 'YDL086W': 'MLITETFHDVQTSYGTTLRIYVYSPKIAGYPQAKFPGVILYSEIYQVTGPVRRFGQRIASEGYVVVAPAIYHNFMGPEALPYDVQGTDIGNEYKIKKPLESYDEDNKLCCDLLFQLPQFDGKRIGSTGMCLGGHLAFRALLDKRVTCATCFFPTDIHSRTLGLGQNDNSLERVSKELGNNQEMVLIFGTADTHVDPQGRDLIRKTLRDHGVKFTFLEILAAQHAFIRDEFSKGRFDSAITQSCLGFLFEQFNRKLRIDLGEFVDDNTPLEHVC',\n",
       " 'YDL085C-A': 'MARGNQRDLARQKNLKKQKDMAKNQKKSGDPKKRMESDAEILRQKQAAADARREAEKLEKLKAEKTRR',\n",
       " 'YDL085W': 'MLPRLGFARTARSIHRFKMTQISKPFFHSTEVGKPGPQQKLSKSYTAVFKKWFVRGLKLTFYTTLAGTLYVSYELYKESNPPKQVPQSTAFANGLKKKELVILGTGWGAISLLKKLDTSLYNVTVVSPRSFFLFTPLLPSTPVGTIEMKSIVEPVRSIARRTPGEVHYIEAEALDVDPKAKKVMVQSVSEDEYFVSSLSYDYLVVSVGAKTTTFNIPGVYGNANFLKEIEDAQNIRMKLMKTIEQASSFPVNDPERKRLLTFVVVGGGPTGVEFAAELQDYINQDLRKWMPDLSKEMKVILIEALPNILNMFDKTLIKYAEDLFARDEIDLQVNTAVKVVEPTYIRTLQNGQTNTDIEYGMLVWATGNEPIDFSKTLMSRIPEQTNRRGLLINDKLELLGSENSIYAIGDCTAHTGFFPTAQVAHQEGEYLAKILDKKLQIEQLEWDMLNSTDETEVSRLQKEVNLRKSKLDKFNYKHMGALAYIGSETAIADLHMGDSSYQLKGMFAFLFWKSAYLAMCLSIRNRILIAMDWTKVYFLGRDSSV',\n",
       " 'YDL084W': 'MSHEGEEDLLEYSDNEQEIQIDASKAAEAGETGAATSATEGDNNNNTAAGDKKGSYVGIHSTGFKDFLLKPELSRAIIDCGFEHPSEVQQHTIPQSIHGTDVLCQAKSGLGKTAVFVLSTLQQLDPVPGEVAVVVICNARELAYQIRNEYLRFSKYMPDVKTAVFYGGTPISKDAELLKNKDTAPHIVVATPGRLKALVREKYIDLSHVKNFVIDECDKVLEELDMRRDVQEIFRATPRDKQVMMFSATLSQEIRPICRRFLQNPLEIFVDDEAKLTLHGLQQYYIKLEEREKNRKLAQLLDDLEFNQVIIFVKSTTRANELTKLLNASNFPAITVHGHMKQEERIARYKAFKDFEKRICVSTDVFGRGIDIERINLAINYDLTNEADQYLHRVGRAGRFGTKGLAISFVSSKEDEEVLAKIQERFDVKIAEFPEEGIDPSTYLNN',\n",
       " 'YDL083C': 'MSAVPSVQTFGKKKSATAVAHVKAGKGLIKVNGSPITLVEPEILRFKVYEPLLLVGLDKFSNIDIRVRVTGGGHVSQVYAIRQAIAKGLVAYHQKYVDEQSKNELKKAFTSYDRTLLIADSRRPEPKKFGGKGARSRFQKSYR',\n",
       " 'YDL082W': 'MAISKNLPILKNHFRKHWQERVKVHFDQAGKKVSRRNARATRAAKIAPRPLDLLRPVVRAPTVKYNRKVRAGRGFTLAEVKAAGLTAAYARTIGIAVDHRRQNRNQEIFDANVQRLKEYQSKIIVFPRNGKAPEAEQVLSAAATFPIAQPATDVEARAVQDNGESAFRTLRLARSEKKFRGIREKRAREKAEAEAEKKK',\n",
       " 'YDL081C': 'MSTESALSYAALILADSEIEISSEKLLTLTNAANVPVENIWADIFAKALDGQNLKDLLVNFSAGAAAPAGVAGGVAGGEAGEAEAEKEEEEAKEESDDDMGFGLFD',\n",
       " 'YDL080C': 'MNSSYTQRYALPKCIAISDYLFHRLNQLNIHTIFGLSGEFSMPLLDKLYNIPNLRWAGNSNELNAAYAADGYSRLKGLGCLITTFGVGELSAINGVAGSYAEHVGILHIVGMPPTSAQTKQLLLHHTLGNGDFTVFHRIASDVACYTTLIIDSELCADEVDKCIKKAWIEQRPVYMGMPVNQVNLPIESARLNTPLDLQLHKNDPDVEKEVISRILSFIYKSQNPAIIVDACTSRQNLIEETKELCNRLKFPVFVTPMGKGTVNETDPQFGGVFTGSISAPEVREVVDFADFIIVIGCMLSEFSTSTFHFQYKTKNCALLYSTSVKLKNATYPDLSIKLLLQKILANLDESKLSYQPSEQPSMMVPRPYPAGNVLLRQEWVWNEISHWFQPGDIIITETGASAFGVNQTRFPVNTLGISQALWGSVGYTMGACLGAEFAVQEINKDKFPATKHRVILFMGDGAFQLTVQELSTIVKWGLTPYIFVMNNQGYSVDRFLHHRSDASYYDIQPWNYLGLLRVFGCTNYETKKIITVGEFRSMISDPNFATNDKIRMIEIMLPPRDVPQALLDRWVVEKEQSKQVQEENENSSAVNTPTPEFQPLLKKNQVGY',\n",
       " 'YDL079C': 'MTDVLRSLVRKISFNNSDNLQLKHKTSIQSNTALEKKKRKPDTIKKVSDVQVHHTVPNFNNSSEYINDIENLIISKLIDGGKEGIAVDHIEHANISDSKTDGKVANKHENISSKLSKEKVEKMINFDYRYIKTKERTIHKRVYKHDRKTDVDRKNHGGTIDISYPTTEVVGHGSFGVVVTTVIIETNQKVAIKKVLQDRRYKNRELETMKMLCHPNTVGLQYYFYEKDEEDEVYLNLVLDYMPQSLYQRLRHFVNLKMQMPRVEIKFYAYQLFKALNYLHNVPRICHRDIKPQNLLVDPTTFSFKICDFGSAKCLKPDQPNVSYICSRYYRAPELMFGATNYSNQVDVWSSACVIAELLLGKPLFSGESGIDQLVEIIKIMGIPTKDEISGMNPNYEDHVFPNIKPITLAEIFKAEDPDTLDLLTKTLKYHPCERLVPLQCLLSSYFDETKRCDTDTYVKAQNLRIFDFDVETELGHVPLVERPAIEERLKHFVSAPSSSL',\n",
       " 'YDL078C': 'MVKVAILGASGGVGQPLSLLLKLSPYVSELALYDIRAAEGIGKDLSHINTNSSCVGYDKDSIENTLSNAQVVLIPAGVPRKPGLTRDDLFKMNAGIVKSLVTAVGKFAPNARILVISNPVNSLVPIAVETLKKMGKFKPGNVMGVTNLDLVRAETFLVDYLMLKNPKIGQEQDKTTMHRKVTVIGGHSGETIIPIITDKSLVFQLDKQYEHFIHRVQFGGDEIVKAKQGAGSATLSMAFAGAKFAEEVLRSFHNEKPETESLSAFVYLPGLKNGKKAQQLVGDNSIEYFSLPIVLRNGSVVSIDTSVLEKLSPREEQLVNTAVKELRKNIEKGKSFILDSSKL',\n",
       " 'YDL077C': 'MLRAQKLHSLKSSDITAILPTEQSQKLVLAKKNGDVEVYSRDGNTLKLFQVYPDLLQNAKNDPLPPVIENFYFANELSTIFAQCKETLILLSTTNLHEYDRIIDRRGINHCWLFERSHKNKEEKNTYLIYSTINTAKMRVLIWEGRTYKNMMEASLSYRKETIRSIYPGETGITLATDLGIYHWPYNKPSLIRIEKTVKNKFPKDMISALTELKEQAEKVIEKKPKKNSHFDAQSFSSMDRMSRKSSMSSLWYRTIRNERGNKIRYTFELDGNDATPMIIDGATKKIFKVELMHNNEEPFLIATDHATFSESNSEFDHMQYLSSNLLMLYNSSTIKFVDYENGFTFLQQKIPEGIKWVKNLSGTYFLVWTSNDEVQLFSYHVDDGSEDDDQESICGDINDPDFYQLWRKVLFYKFFIDSPHSKELCVSDNPEESLDICAMKLRDLTVMWCLRIFDKFQNYMVQLERSRNSRMIRSKCEEMIIKSIFDLFIKFWAPPQLVILKVFPSAISSLVLEITGQEHHCLLKEAEEVKETYDIPPHLLNRWCLPYLTDTRRHLQNLLSKENDDESRITWCYRDREIKQSFDFFLISNHDDVDLNTMLTLIDTVLFKCYLYYNPPMVGPFIRVENHCDSHVIVTELKIRHMFKDLIDFYYKRGNHEEALKFLTDLVDELENDNTDQKQRQKIDHGVKILVIYYLKKLSNPQLDVIFTYTDWLLNRHNDSIKEILSSIFFYDSQACSSRDHLKVYGYIKKFDKLLAIQYLEFAISTFRLEGNKLHTVLIKLYLENLDIPSTRIKLKSLLETTSVYEPRTILKLLNDAIESGSDQLPTNQLNFVKYLKIFPLSKLENHKEAVHILLDEIDDYKAATSYCNDVYQSDSTKGEELLLYLYSKLVSIYDSNRNSKLILNFLQDHGSKLNSAEIYKNLPQDISLYDIGRVVSQLLKKHTSKMDETRLEKALLQVELVATTYKLNERMSSYGVLSDSHKCPICKKVISNFGTDSISWFTREGRNIITHYNCGKVLQERFNAKNEKSSRIKQKTLGEVINELNNK',\n",
       " 'YDL076C': 'MSVSEQDPNRAYRETQSQIYKLQETLLNSARTKNKQEEGQESNTHSFPEQYMHYQNGRNSAYDLPNVSSQSVLAFTEKHYPNKLKNLGTLYYNRFKEGSFDEDSTSYSDRHSFPYNLYDNTLPPPFLPAIGIQNINNIATLKITYEDIQASFNNIESPRKRNNEIWGCDIYSDDSDPILVLRHCGFKIGAPSGGSFHKLRRTPVNVTNQDNVTGNLPLLEGTPFDLEVELLFLPTLQKYPSVKRFDITSREWGSEATVIHDGLSYGIYSIVIKQRLDRDKPHEPNGYIKNLKWT',\n",
       " 'YDL075W': 'MAGLKDVVTREYTINLHKRLHGVSFKKRAPRAVKEIKKFAKLHMGTDDVRLAPELNQAIWKRGVKGVEYRLRLRISRKRNEEEDAKNPLFSYVEPVLVASAKGLQTVVVEEDA',\n",
       " 'YDL074C': 'MTAEPATKKIKLELSDPSEPLTQSDVIAFQKEALFRCINRRRVDFEALRKQYELSRRECIDVSRKLANIMALIVTLARFIETFCTDANEKQLCREIAQGDETLIVQRSDSFMKLLTKYGKPNTTDSNTNSNASDHIQELTTELKNLRKSKEELFYENSQLTEEISALKEYYTNIIRKYDRDESFTIKRVFKEDKTDAVKELREDEKESNENNIKSGNKDSSAINGDNTSKKSEKGDELVQAEDERKEDAENEKLELDLKFSDLRAEINSLSSTIKDLENIRRENEEELIKTRSEVSNLKKQQIAAADQDPDFKSYDHESLLAKIQHLTEQNAELSEINSSFLSKFQVLAKEKEIYTKKVREEFQKSLDSLVEMNSSLEKDVVRIRTARDDLLSKIAILEAEKSKTEVLSDLQHAIDILKEQWTKIDQRSNDTKSSSTQDALIKEIQDLEKGFRELSDLTHKKYSEIINHESVISKLTVEKTKADQKYFAAMRSKDSILIEIKTLSKSLSKSNELILQLKDSDRLLQQKIGNLHKQLDLSQNNERRLIDSSKTETLKIIDLNNTSTKLKRSLEKLQEESNKSIADMTHLETKLNDTEIELKHFKQKASHLESKCEKLHDTLFRGNNKNKGSSDEALVEELANFRTLVYCSLCSKNWKNMAIKTCGHVFCENCCKERLAARMRKCPTCNKAFSSNDLLTVHL',\n",
       " 'YDL073W': 'MGPAIHNQLYECGLKTTSQDGFLMDNYETQLFQSLNRFINFINNANQSASNKEQNTKFCKSSSNFLRLKLLTVLRQWCDSSRSNCTLEVRDVLTQWWVTLLNFLNSDTSLQIDTALELSLSIELTSVCLECLSKIMTILIILPFHSSRDMEIYSHHLLLTIHCITNKLILISKNSKKLKRTNSDDKCSINDKKLQYLNKYSSLLRAFIGKLNAYAFFYLPEDFHFDTILLLTVSPQISSSIQTSLFSWKKRQYKFTDDQGQMIRTEAFENKDTKFFKIIVSYIKNDFVLMSFYWHYWYIILQFMKFSDSDVGIKKSTLSCIPGSEILLTHVTTRFLNSDLNKFTRIIKQTPNPRIANENVTESHPNFKSLNSSNALITSERINDYVFSNFKTIKLWECLRSLSGCILKENHPEYLENMLSLHESLLIDYVSTISAYDYIAANVIYNKVLQFIIFQFESLPSLKFIQWRSWYNGLLSMLRTKNVNCQTVSLLCLFNIWKHVTIEDRDEIVKVLLSDFWESLIFENEFPLIRILFMKVLVFKIIPSVQNSSSLRFLPHDRIKQLYEELLVNKEELFEMQKHDSNDIVAHRKNALVFNGNSRLMMIPKKPNTEDHLVYKINHDKNLTTERFPSVSSVANTRPNVILKNGKYAYDILDEMTSKAAFLLAEKKTRLNPKKNHKIMDGYEGGQENEDNDEDSEDSGSHKNKRKEGNSSLSATLNTWLSKFSSTSEDSQKKKEQANELGNDFEYDEDVADFAEILPKQSSSNIEKIFKHGNNSGSMVSYNSSIKLNRRENILIGPPELRFSNEIKEHNSIATIFKLVFIQTNRRVVEKIDLANMKWGTIHGGSKYMKPLPVPKDLVASVAKNESETRNLATLCGNGLDFEIPVPDFNIFGKCMEDEQDVAKIGNQNVEDLKVTGGREVTIWKQIQDMKLRTRIQKICVLIETFNATVREYFEFSNRLEHDGIFIDFEVRKPSSNNSINIKV',\n",
       " 'YDL072C': 'MSLYYTLVFAILVVEIFMFSILALPIPSRYRRPLTLLLLKPFKSSTVQVAIKCVLGFILLLFIDCINRVYSIDKELQLSSASQNNGAIIAQDRIEVLSRKFFAQRNMYLTGITLFLTFVVVRTFGLVIELLTMKDIYRASPPVASSDVKKNDSVTAEAAAQSGASKDDHGDEKNFELLKKIQDIDDEIARLKEKSESLQEEIN',\n",
       " 'YDL070W': 'MSRTNMDTRHAHSALLAAPQSATANSRSSNSSSESSSNKNNINVGVGDDSGNVSAVSIDDGPHFRDIFHYGHEENYKLASSGITNLNSSSHAHQTLSPISISNASTPESFPEHPLGLERETEPALEAEMEAEELPPHQSKYLLSSIKATKRLKDARPFLKPVDPIALNIPHYFNYVQTPMDLSLIETKLQGNVYHSVEQVTSDFKTMVDNCLNFNGPESSISSMAKRIQKYFEKKLSAMPPRVLPASALKKTSRNRKKNEDMDSPLVIRRSVSTTNDNIGESGNREGVSGGRPKRTIHPPKSKDLFDIYENSKPKSKTLQKKFRTCLKILKVLMSKKNSDINFPFLQPVDPIALNLPNYFDVVKNPMDLGTISNNLMNWKYKTIDQFVDDLNLVFYNCFQFNPEGNEVHSMGKKLKELFNFHWLENQDILNEIETDSDLEEDNYSSSYSSDDEYDDEDINENDITNPAIQYLEQKLKKMEVELQQLKRQELSKLSKERKRKHLGKTLLRRKAMKHSVDDLKKSITDKINELSDLEMNGMIRIIKNSLPADEILTSNEDEIEIDLDILDEATIARIYERYFEKKNNNNSKRKLSGNYSTAPTNKKKKTLKFLEKDEIINNNNYSDSEEDSSDSSDSDSD',\n",
       " 'YDL069C': 'MLRTKVFATTVARISGIRRYIPIRTINTVTKKNISKIEKLCEVLEVNPDGYKGKERIPTKELTKLLYTTSRNMLVRVPMTGDLSTGNTFETRNETLQKLGEQLIHLEINKMLTITFTNFNQFNIMNKNFNYIHNLDRARVVNMDSISWLIKNSLKINQLAHLRIPANLPKEMGLTSSSNDFQNLNDWKVILSFIGYLKLLEIKNDNKKFIESIIKTICIPLINYHLRKS',\n",
       " 'YDL067C': 'MTIAPITGTIKRRVIMDIVLGFSLGGVMASYWWWGFHMDKINKREKFYAELAERKKQEN',\n",
       " 'YDL066W': 'MSMLSRRLFSTSRLAAFSKIKVKQPVVELDGDEMTRIIWDKIKKKLILPYLDVDLKYYDLSVESRDATSDKITQDAAEAIKKYGVGIKCATITPDEARVKEFNLHKMWKSPNGTIRNILGGTVFREPIVIPRIPRLVPRWEKPIIIGRHAHGDQYKATDTLIPGPGSLELVYKPSDPTTAQPQTLKVYDYKGSGVAMAMYNTDESIEGFAHSSFKLAIDKKLNLFLSTKNTILKKYDGRFKDIFQEVYEAQYKSKFEQLGIHYEHRLIDDMVAQMIKSKGGFIMALKNYDGDVQSDIVAQGFGSLGLMTSILVTPDGKTFESEAAHGTVTRHYRKYQKGEETSTNSIASIFAWSRGLLKRGELDNTPALCKFANILESATLNTVQQDGIMTKDLALACGNNERSAYVTTEEFLDAVEKRLQKEIKSIE',\n",
       " 'YDL065C': 'MNENEYDNFDDLDDLLDEDPTKLDEAEPDDVQAKGSVYNDSENKEKNAESKDSDGVQVANESEEDPELKEMMVDLQNEFANLMKNNGNENNVKTEDFNKLISALEEAAKVPHQQMEQGCSSLKSNSTDKGTVNGSNPGFKNIVSNTLDRLKENGNKVDTSLAEETKESQRSGQNNNIDDILSQLLDQMVASGGKESAENQFDLKDGEMDDAITKILDQMTSKEVLYEPMKEMRSEFGVWFQENGENEEHKEKIGTYKRQFNIVDEIVNIYELKDYDELKHKDRVTELLDELEQLGDSPIRSANSPLKHGNEEEELMKMLEIDGNDPNLGNLDKELTDGCKQQ',\n",
       " 'YDL064W': 'MSSLCLQRLQEERKKWRKDHPFGFYAKPVKKADGSMDLQKWEAGIPGKEGTNWAGGVYPITVEYPNEYPSKPPKVKFPAGFYHPNVYPSGTICLSILNEDQDWRPAITLKQIVLGVQDLLDSPNPNSPAQEPAWRSFSRNKAEYDKKVLLQAKQYSK',\n",
       " 'YDL063C': 'MGRSKKRSRASSSRLNPLRKAGSNDNNKDTNVVNKKLQPLLQNLSSVVPNDRSIALSSISVLCEDAHMRQLLLKEKLVPIILNKLLNDSNSDIVVESFGLLRNLSLEEGYDVSIYLWRSDIWTSITSNFGRIVESLSALQAAEQQPQLKPAGKSKIESKRLLFDFADNLLSLVVALSNGSDDILNEILTESKINEIFQVISQLLKYGVEKLPINLFNTTLDLIYDLSSESFEFIDHVSNNELLSQFLNGLSPALHPQANELTKVLIEGIHCQFLDMKITYDQCNKMIHSVCHSINNIDPVQLVNDINNPVEIGPATSKDESSKVITKIKDYNAKRNESMIKLQSIEIAIDLITAIIEIVASKYESPESQEVAIPEELINTLTNFLPHVFMILKDTFTSRILIGWNNLIWLFVSLSLTELSGELLTTLWSYVTQLDSQDDLSIKIGRMGCIWALLKLIFPDGAFESENRALINVQMLNNSGFARGIIEEFQNNNDLELQQKCINVLSTYAMIQGQIDANKEIGQFFIQTLTQLNVRPEILIEMTNSLFQIYGDASYDYNEPIFVRGGFLSILKDQVVPNLRQQFKMVDKNKNPELKERCHDCFTTLDSFIHYKMNENSTNQ',\n",
       " 'YDL061C': 'MAHENVWFSHPRRFGKGSRQCRVCSSHTGLVRKYDLNICRQCFREKANDIGFHKYR',\n",
       " 'YDL060W': 'MAGHSHRSSLKNGHKSYKSKHASKGALKRLYKGKVEKEPVGTGKPDKQVSKLQRKNKAKQLRAQRILDSIENRKLFEGKNGAAKIITIVPLVNDLDPLDILYKLLKCADDEGIMVQEVDSKRIFNVHIKKFKSNLKIIIPDMTNFLNILDCAKVADFVVFGLSGVQEVDEEFGEQIIRALELQGIASYIGVISNLSAVHEKEKFQLDVKQSLESYFKHFFPSEERVYNLEKNSDALNVLRTLCQRLPRSINWRDNRGYVVADFVDFVETSPDSGDLVIEGTVRGIGFNANRLVHIPDFGDFQLNKIEKISESSQKRKIIKEKATDSLSLELDLQTVFESNMNRDTLDEYAPEGTEDWSDYDEDFEYDGLTTARYDDHGFLPGREQTSKKAAVPKGTSDYQAKWYLDDVIDANEEEEAEQTNGKDETMMEIDDEMMVEQDNEEVAGDEEYDIEDNEGFEELSPEEEERQLREFRDMEKEDREFPDEIELEPSESAIERLKRYRGLKNLYNCDWQVDEKDPSSPAEWKRLLRIGNYKNTKNRIIKETKNEAQAIAGDRIRMFIRFPKFLLEKIQDPKQLLFAVYGLLLHEHKNAVVNFSLQRWEQYDKPVPSQEPIVVQYGVRRYTIQPLFSQGSNSPNNVHKYERFLHPDTVSVATCIAPVDFTQSPAIFFKPSPTDAKNIELIGHGTFLNADHSRILAKRAILTGHPFRFHKTVVTVRYMFFRPEDVEWFKSIPLFTKSGRSGFIKESLGTHGYFKATFDGKLSAQDVVAMSLYKRMWPMPSLPWNGM',\n",
       " 'YDL059C': 'MTIQAKPSSSISYDSTTYGTAPGLDIKEFQIIEDWNGRPASAWSVQRIGLLQSKIERYTYNIYHNNKYGKHNLSKLIPGHALIQFANETFGYDGWRMDVIDVEARECQPFTAVNNGENTNTSEVKYTVVAEAQVKVTLKDGTNTQCGGLGRITLSSRGECYNRSKKEAVGDALKKALLSFEKIILDYETKITNNYYVDGLYGSKKIKNEANTNYNLLSATNSKPTFIKLEDAKGTHIK',\n",
       " 'YDL058W': 'MDIIQGLIQQPKIQSVDETIPTLCDRVENSTLISDRRSAVLGLKAFSRQYRESVIASGLKPLLNTLKRDYMDEDSVKAILETILILFIRGDGHDDLTRGWISQQSRLQNGKYPSPLVMKQEKEQVDQFSLWIADALTQSEDLIHLLVEFWEIDNFHIRLYTIQLLEAVMATRPLKARSALISLPTSISTMVSLLDDMHEPIRDEAILLLMAVVNDSPHVQKLVAFENIFERLFSIIEEEGGLRGSLVVNDCLSLINNILKYNTSNQTLFLETGNLPKLAHLLSEPISQDEVFFWNDQRIVNINTALDIVSLTVEPGNTVTTKHQNALLDSSVLMVVLRLAFFHNIPKKVRPVALLTAANMVRSNEHAQLEFSKIDVPYFDPSLPVNSTANGGPIKLIPVVSILINWMLYANSVHTFDTRVACSRLLKAYFMDNFDLQRDFLLKQVQLCNNSTNNVGDNAKENGGSNKSDKESDSDKDTDGKDGTEYEGSFKANLFEVLLNYDAELNLNPFKLFFTTDIFMFFFQQDHKYSEELREITRNVTTGNDLEDEEPLKAIQTISELLTTSLTAADIRIPISYLTFLIYWLFGDFKATNDFLSDKSVIKSLLSFSYQIQDEDVTIKCLVTMLLGVAYEFSSKESPFPRKEYFEFITKTLGKDNYASRIKQFKKDSYFSKVDMNEDSILTPELDETGLPKVYFSTYFIQLFNENIYRIRTALSHDPDEEPINKISFEEVEKLQRQCTKLKGEITSLQTETESTHENLTEKLIALTNEHKELDEKYQILNSSHSSLKENFSILETELKNVRDSLDEMTQLRDVLETKDKENQTALLEYKSTIHKQEDSIKTLEKGLETILSQKKKAEDGINKMGKDLFALSREMQAVEENCKNLQKEKDKSNVNHQKETKSLKEDIAAKITEIKAINENLEEMKIQCNNLSKEKEHISKELVEYKSRFQSHDNLVAKLTEKLKSLANNYKDMQAENESLIKAVEESKNESSIQLSNLQNKIDSMSQEKENFQIERGSIEKNIEQLKKTISDLEQTKEEIISKSDSSKDEYESQISLLKEKLETATTANDENVNKISELTKTREELEAELAAYKNLKNELETKLETSEKALKEVKENEEHLKEEKIQLEKEATETKQQLNSLRANLESLEKEHEDLAAQLKKYEEQIANKERQYNEEISQLNDEITSTQQENESIKKKNDELEGEVKAMKSTSEEQSNLKKSEIDALNLQIKELKKKNETNEASLLESIKSVESETVKIKELQDECNFKEKEVSELEDKLKASEDKNSKYLELQKESEKIKEELDAKTTELKIQLEKITNLSKAKEKSESELSRLKKTSSEERKNAEEQLEKLKNEIQIKNQAFEKERKLLNEGSSTITQEYSEKINTLEDELIRLQNENELKAKEIDNTRSELEKVSLSNDELLEEKQNTIKSLQDEILSYKDKITRNDEKLLSIERDNKRDLESLKEQLRAAQESKAKVEEGLKKLEEESSKEKAELEKSKEMMKKLESTIESNETELKSSMETIRKSDEKLEQSKKSAEEDIKNLQHEKSDLISRINESEKDIEELKSKLRIEAKSGSELETVKQELNNAQEKIRINAEENTVLKSKLEDIERELKDKQAEIKSNQEEKELLTSRLKELEQELDSTQQKAQKSEEERRAEVRKFQVEKSQLDEKAMLLETKYNDLVNKEQAWKRDEDTVKKTTDSQRQEIEKLAKELDNLKAENSKLKEANEDRSEIDDLMLLVTDLDEKNAKYRSKLKDLGVEISSDEEDDEEDDEEDEEEGQVA',\n",
       " 'YDL057W': 'MEKKHVTVQIQSAPPSYIKLEANEKFVYITSTMNGLSYQIAAIVSYPEKRNSSTANKEDGKLLCKENKLALLLHGSQSHKNAIYQTLLAKRLAEFGYWVLRIDFRGQGDSSDNCDPGLGRTLAQDLEDLSTVYQTVSDRSLRVQLYKTSTISLDVVVAHSRGSLAMFKFCLKLHAAESPLPSHLINCAGRYDGRGLIERCTRLHPHWQAEGGFWANGPRNGEYKDFWIPLSETYSIAGVCVPEFATIPQTCSVMSCYGMCDHIVPISAASNYARLFEGRHSLKLIENADHNYYGIEGDPNALGLPIRRGRVNYSPLVVDLIMEYLQDT',\n",
       " 'YDL056W': 'MSNQIYSARYSGVDVYEFIHSTGSIMKRKKDDWVNATHILKAANFAKAKRTRILEKEVLKETHEKVQGGFGKYQGTWVPLNIAKQLAEKFSVYDQLKPLFDFTQTDGSASPPPAPKHHHASKVDRKKAIRSASTSAIMETKRNNKKAEENQFQSSKILGNPTAAPRKRGRPVGSTRGSRRKLGVNLQRSQSDMGFPRPAIPNSSISTTQLPSIRSTMGPQSPTLGILEEERHDSRQQQPQQNNSAQFKEIDLEDGLSSDVEPSQQLQQVFNQNTGFVPQQQSSLIQTQQTESMATSVSSSPSLPTSPGDFADSNPFEERFPGGGTSPIISMIPRYPVTSRPQTSDINDKVNKYLSKLVDYFISNEMKSNKSLPQVLLHPPPHSAPYIDAPIDPELHTAFHWACSMGNLPIAEALYEAGTSIRSTNSQGQTPLMRSSLFHNSYTRRTFPRIFQLLHETVFDIDSQSQTVIHHIVKRKSTTPSAVYYLDVVLSKIKDFSPQYRIELLLNTQDKNGDTALHIASKNGDVVFFNTLVKMGALTTISNKEGLTANEIMNQQYEQMMIQNGTNQHVNSSNTDLNIHVNTNNIETKNDVNSMVIMSPVSPSDYITYPSQIATNISRNIPNVVNSMKQMASIYNDLHEQHDNEIKSLQKTLKSISKTKIQVSLKTLEVLKESSKDENGEAQTNDDFEILSRLQEQNTKKLRKRLIRYKRLIKQKLEYRQTVLLNKLIEDETQATTNNTVEKDNNTLERLELAQELTMLQLQRKNKLSSLVKKFEDNAKIHKYRRIIREGTEMNIEEVDSSLDVILQTLIANNNKNKGAEQIITISNANSHA',\n",
       " 'YDL055C': 'MKGLILVGGYGTRLRPLTLTVPKPLVEFGNRPMILHQIEALANAGVTDIVLAVNYRPEVMVETLKKYEKEYGVNITFSVETEPLGTAGPLKLAEDVLKKDNSPFFVLNSDVICEYPFKELADFHKAHGGKGTIVATKVDEPSKYGVIVHDIATPNLIDRFVEKPKEFVGNRINAGLYILNPEVIDLIEMKPTSIEKETFPILVEEKQLYSFDLEGFWMDVGQPKDFLSGTVLYLNSLAKRQPKKLATGANIVGNALIDPTAKISSTAKIGPDVVIGPNVTIGDGVRITRSVVLCNSTIKNHSLVKSTIVGWNSTVGQWCRLEGVTVLGDDVEVKDEIYINGGKVLPHKSISDNVPKEAIIM',\n",
       " 'YDL054C': 'MPLSKVEHYLSYHTRLLLPHVLSLQSSHRVAYIFSLLSAVSTGFITLISLYSQPWQKHLNYSSWQINTIASMTNLGMYLTPPILGMIADSHGPITLSLLAIIGFIPSYSYLAYVFNHPELSLGGNGDSSFNLSIICFVFIGISTSALYFSALLTCTKLYPHTKLLSISLPTTCYGISSVVGSQLLRIKWFWSSNASSSSSNSDLNLGRVFQTFALVYVVIGLLAWIATSVVSLLHFNEEQDNQKRLDDQTDVEQSPLLERSNHVQEKFTQTMLRIFSDPVTYILAVSILLSLGPLEMFIANMGSLTNLLVQLDAPTLSTKLLSTYALSSTFTRLLTGIVADFFAKKKISIKWILLTFLSLGVCAQLFLLKMTSSASPWGLVPTGSLVGIVYGGLFTVYPTLVLLVWGERSFGTVYGSLLIAPAIGSMIFCMLYAKFYDSRCMSGGGDLRNPSCISAVYKYSSIAFVVSAVLSAVVFWKLKSRKLRI',\n",
       " 'YDL053C': 'MTTTSTTSVDGRTSSTLKATLSASGPNSNGPTPAVLPQKPKLTGWAQAAAKALPRQQQQQQQARKDDSVAVQPANTKTKTIASTAPPANIKGSSTANGSSTNKKFKRANKQPYNREEVRSYMHKLFQSYTAGEKSHSMKTYKQVLSETASGRVSTATDWGTVSSSKNKNKKYGCLSDIAKVLRNQ',\n",
       " 'YDL052C': 'MSVIGRFLYYLRSVLVVLALAGCGFYGVIASILCTLIGKQHLAQWITARCFYHVMKLMLGLDVKVVGEENLAKKPYIMIANHQSTLDIFMLGRIFPPGCTVTAKKSLKYVPFLGWFMALSGTYFLDRSKRQEAIDTLNKGLENVKKNKRALWVFPEGTRSYTSELTMLPFKKGAFHLAQQGKIPIVPVVVSNTSTLVSPKYGVFNRGCMIVRILKPISTENLTKDKIGEFAEKVRDQMVDTLKEIGYSPAINDTTLPPQAIEYAALQHDKKVNKKIKNEPVPSVSISNDVNTHNEGSSVKKMH',\n",
       " 'YDL051W': 'MSEKPQQEEQEKPQSRRNSFAVIEFTPEVLDRCLKQVEFYFSEFNFPYDRFLRTTAEKNDGWVPISTIATFNRMKKYRPVDKVIEALRSSEILEVSADGENVKRRVPLDLTAARNARIEQNQRTLAVMNFPHEDVEASQIPELQENLEAFFKKLGEINQVRLRRDHRNKKFNGTVLVEFKTIPECEAFLKSYSNDDESNEILSYEGKKLSVLTKKQFDLQREASKSKNFSGRSRSFNGHKKKNLPKFPKNKKKNGKEESKEDSSAIADDDEEHKE',\n",
       " 'YDL049C': 'MLIVLFLTLFCSVVFRTAYCDVAIVAPEPNSVYDLSGTSQAVVKVKWMHTDNTPQEKDFVRYTFTLCSGTNAMIEAMATLQTLSASDLTDNEFNAIIENTVGTDGVYFIQVFAQTAIGYTIHYTNRFKLKGMIGTKAANPSMITIAPEAQTRITTGDVGATIDSKSFTVPYNLQTGVVKYAPMQLQPATKVTAKTWKRKYATSEVTYYYTLRNSVDQHTTVTPGWSYIITADSNYATPAPMPADNGGWYNPRKRLSLTARKVNALRHR',\n",
       " 'YDL048C': 'MLVSSSFASSIDSVMSHETMSLRRNPPFIDTPEKMPNPTASPNGTIHHLIDPSLPLLSSTTSSSRSTLSSTLNSPPPPPLTTSYSSYNSSACQSITSSPTDNTALAHNSKCYFPHSLSPTPLSSNSSSHVILPPISSFTNLITVAEREFNGRSNSLHANFTSPVPRTVLDHHRHELTFCNPNNTTGFKTITPSPPTQHQSILPTAVDNVPRSKSVSSLPVSGFPPLIVKQQQQQQLNSSSSASALPSIHSPLTNEHTSRYSSSLKDSAKITKQRKKKECPICHNFYANLSTHKSTHLTPEDRPHKCPICQRGFARNNDLIRHKKRHWKDEFMQIYARESDNNSGADDQDDTARTSANNDSDDSNDKLAASSSSEETKLLKKNQLKSLYKIKGAFKCPYNSTLINLDMEVYPHKSRSLYFEPINCHQTGVFSRCDTFKNHLKALHFEYPPKTKKEDRGVVPGKCKHCGLQFPNVDVWLNKHVGKGCGYSYH',\n",
       " 'YDL047W': 'MVSRGPDEWLETIKKCQALTENEMKQLCEMVKELLMEESNIQPVQTPVTVCGDIHGQFHDLLELFRTAGGFPDDINYIFLGDYVDRGYYSLETFTLLMCLKVKYPAKITLVRGNHESRQITQVYGFYEECLNKYGSTTVWKYCCQVFDFLTLAAIIDGKILCVHGGLSPEIRMLDQIRVLSRAQEVPHEGGFSDLLWSDPDNVEAWQVSPRGAGWLFGSKVAREFNHVNGLNLIARAHQLVMEGFKYHFPEKDVVTVWSAPNYCYRCGNVASVMKVDEDLEPTFKIFSAVPDDYIRESTANHNNQRAGYFL',\n",
       " 'YDL046W': 'MTHSLKALFALLFLYTAAVNAGVIGIFNALPPPNTKPINGESPLYQCDILDKQLVEIKEVNLDPNPPVRGENLTISANGEVFETIEEGAYIDVEVRLGYIRLLSQTFDLCETLEDNDIEGLSCPIEPGEYNIKKIVEIPGEVPPGKYVVVARAYTEKDDLITCLTGEVIFPPR',\n",
       " 'YDL045W-A': 'MSGKPPVYRLPPLPRLKVKKPIIRQEANKCLVLMSNLLQCWSSYGHMSPKCAGLVTELKSCTSESALGKRNNVQKSNINYHAARLYDRINGKPHD',\n",
       " 'YDL045C': 'MQLSKAAEMCYEITNSYLHIDQKSQIIASTQEAIRLTRKYLLSEIFVRWSPLNGEISFSYNGGKDCQVLLLLYLSCLWEYFFIKAQNSQFDFEFQSFPMQRLPTVFIDQEETFPTLENFVLETSERYCLSLYESQRQSGASVNMADAFRDFIKIYPETEAIVIGIRHTDPFGEALKPIQRTDSNWPDFMRLQPLLHWDLTNIWSFLLYSNEPICGLYGKGFTSIGGINNSLPNPHLRKDSNNPALHFEWEIIHAFGKDAEGERSSAINTSPISVVDKERFSKYHDNYYPGWYLVDDTLERAGRIKN',\n",
       " 'YDL044C': 'MIRTSSILKNCNYRYIHCIHRCLLNEANLKDRKTHNVERVSNEKTFEQALEEERKVFGELFEAGARVENMRHTNASKIIDKYYNGLQDNSEGTSVKKEKIVFNHSQRAQRKLPNKDHEFLKETAGNDYVYERAEPSAISTKTISEQTRTLLEKIFDEDNSINKSNRELLNLNLRKGSGMEALRQPVAHSNVKFSEEVMQEIGNKIRYQTTLDQVLEPHIDYLREAVKSDYDLLRYLKQSLDIYKKRNKDLELKMNAESSNIFEDIRSACINKPAELPKPLAMTLPYIIVKSLRLGDFDFPADRKYTLISYVYNECKNNMDASLYLTICNVDFYNLLVQLLWENFQEIRYLRRVVTEMSVNGVIGNIETVDILDKIVKEMRSLNEDVFLEAGEQLSADEEVSSSANKIVNVGVLWNKDTNNDLLIVENYLKSLKKNLTRDR',\n",
       " 'YDL043C': 'MNYLEGVGSKKGGGGIASESQFNLQRRKEVESLLSKGENVPYTFQDEKDDQVRSNPYIYKNHSGKLVCKLCNTMHMSWSSVERHLGGKKHGLNVLRRGISIEKSSLGREGQTTHDFRQQQKIIEAKQSLKNNGTIPVCKIATVKNPKNGSVGLAIQVNYSSEVKENSVDSDDKAKVPPLIRIVSGLELSDTKQKGKKFLVIAYEPFENIAIELPPNEILFSENNDMDNNNDGVDELNKKCTFWDAISKLYYVQFFFKQAEQEQADV',\n",
       " 'YDL042C': 'MTIPHMKYAVSKTSENKVSNTVSPTQDKDAIRKQPDDIINNDEPSHKKIKVAQPDSLRETNTTDPLGHTKAALGEVASMELKPTNDMDPLAVSAASVVSMSNDVLKPETPKGPIIISKNPSNGIFYGPSFTKRESLNARMFLKYYGAHKFLDTYLPEDLNSLYIYYLIKLLGFEVKDQALIGTINSIVHINSQERVQDLGSAISVTNVEDPLAKKQTVRLIKDLQRAINKVLCTRLRLSNFFTIDHFIQKLHTARKILVLTGAGVSTSLGIPDFRSSEGFYSKIKHLGLDDPQDVFNYNIFMHDPSVFYNIANMVLPPEKIYSPLHSFIKMLQMKGKLLRNYTQNIDNLESYAGISTDKLVQCHGSFATATCVTCHWNLPGERIFNKIRNLELPLCPYCYKKRREYFPEGYNNKVGVAASQGSMSERPPYILNSYGVLKPDITFFGEALPNKFHKSIREDILECDLLICIGTSLKVAPVSEIVNMVPSHVPQVLINRDPVKHAEFDLSLLGYCDDIAAMVAQKCGWTIPHKKWNDLKNKNFKCQEKDKGVYVVTSDEHPKTL',\n",
       " 'YDL040C': 'MSRKRSTKPKPAAKIALKKENDQFLEALKLYEGKQYKKSLKLLDAILKKDGSHVDSLALKGLDLYSVGEKDDAASYVANAIRKIEGASASPICCHVLGIYMRNTKEYKESIKWFTAALNNGSTNKQIYRDLATLQSQIGDFKNALVSRKKYWEAFLGYRANWTSLAVAQDVNGERQQAINTLSQFEKLAEGKISDSEKYEHSECLMYKNDIMYKAASDNQDKLQNVLKHLNDIEPCVFDKFGLLERKATIYMKLGQLKDASIVYRTLIKRNPDNFKYYKLLEVSLGIQGDNKLKKALYGKLEQFYPRCEPPKFIPLTFLQDKEELSKKLREYVLPQLERGVPATFSNVKPLYQRRKSKVSPLLEKIVLDYLSGLDPTQDPIPFIWTNYYLSQHFLFLKDFPKAQEYIDAALDHTPTLVEFYILKARILKHLGLMDTAAGILEEGRQLDLQDRFINCKTVKYFLRANNIDKAVEVASLFTKNDDSVNGIKDLHLVEASWFIVEQAEAYYRLYLDRKKKLDDLASLKKEVESDKSEQIANDIKENQWLVRKYKGLALKRFNAIPKFYKQFEDDQLDFHSYCMRKGTPRAYLEMLEWGKALYTKPMYVRAMKEASKLYFQMHDDRLKRKSDSLDENSDEIQNNGQNSSSQKKKAKKEAAAMNKRKETEAKSVAAYPSDQDNDVFGEKLIETSTPMEDFATEFYNNYSMQVREDERDYILDFEFNYRIGKLALCFASLNKFAKRFGTTSGLFGSMAIVLLHATRNDTPFDPILKKVVTKSLEKEYSENFPLNEISNNSFDWLNFYQEKFGKNDINGLLFLYRYRDDVPIGSSNLKEMIISSLSPLEPHSQNEILQYYL',\n",
       " 'YDL039C': 'MYRTRSSDEVTTSTDLTSSSDVATSVDPTTSVISSTSADPTTSADSTTSTVQTTSAGPSNNIGNSTLANSTTFAVSSTSIDPTSSSDVITSTVQTTSIEPTTSLVSSNDITTSTSLNISVVISTSTDSTSLIESTTTVGPHASSSVAGMYRTRSSDEVTTSTDPTSSSDVATSADPTSSSAVTTLVDPTTSVVISTSVDQTSSSDVATSVDPTTSVISSTSADPTTSADSTTSTVQTTSVDPTSSVVSSAPVDPASSVVSLTSSYPTSSSTVTISANSNGSATLAAQTTSIDPVSSIVSSSGATTIISSASIDPASSVVSSTSSEPTSFIVSSTSVYSTRPSGPTTSTDLATFSDTIILRVSTTSTSQDTQTVSSSLTDMVSSTGSADLSVSSIQRSQVDPSTFAVSNSPVYPTASTGSTSTGIPIASESLSLSRQQGISATSSSSIVTLTPVDSASSSRSSATSIIKPNMPVSSNDSKTQSSVSVVDAFQSTKSSYPSITSADPTTLASENGLVGSSSSAHPITLDRTYASAHASVTDIVSRVTDSTRHTTLVTSNINIQSEVGNPNYSGPKDTTITKQSAFMTSPASTSTISNVQSTASVMNHSIEDNISAAASLESVSGTSTKDYSSQSSAIHYTNSFTTTTTNAFITSKHSIAAVSTGAITSSASISLIMEGSANIEAVGKLVWLAAALPLAFI',\n",
       " 'YDL037C': 'MSQQNILHYDMDVTSVSWVKDNTYQITIHVKAVKDIPLKYLWSLKIIGVNGPSSTVQLYGKNEKTYLISDPTDFTSTFQVYAYPSSDGCTVWMPNFQIQFEYLQGDAAQYWQTWQWGTTTFDLSTGCNNYDNQGHSQTDFPGFYWTYQCKGNNDGTCTKASSSSITTSSITTSSTTTSSTTTSSTTTSSSTTSSSTTSSSTTSSSTTSSSTTSSSTTSSSTTSSSTTSSSTTSSSTTSSSTTSSSTKTSTTTSSTVKSSSTTSIDFTTSVDSHTSSSVADIYRSRTSTDVTTLAASTSPFSSFTSSDSSSSSDVTSSTIQTTSVDPTT',\n",
       " 'YDL036C': 'MQRNNRLRNLFTVPVIMARQLKRNALSAGLAFAGNATSNEFDEHLQNEVEREREIQKKKKIKRTQSKKSPDLINKSTFQSRTIGSKKEKHRQLDPEYEIVIDGPLRKIKPYHFTYRTFCKERWRDKKLVDVFISEFRDRESEYYKRTIENGDVHINDETADLSTVIRNGDLITHQVHRHEPPVTSRPIKVIFEDDNIMVIDKPSGIPVHPTGRYRFNTITKMLQNNLGFVVNPCNRLDRLTSGLMFLAKTPKGADNIGDQLKAREVTKEYVAKVVGEFPETEVIVEKPLKLIEPRLALNAVCQMDEKGAKHAKTVFNRISYDGKTSIVKCKPLTGRSHQIRVHLQYLGHPIANDPIYSNDEVWGNNLGKGGQADFDIVITKLDEIGKRKPAKSWFHSNGGYGEVLRQEKCSICESDLYTDPGPNDLDLWLHAYLYESTETEEGTEKKKWCYKTEYPEWALRR',\n",
       " 'YDL035C': 'MITEGFPPNLNALKGSSLLEKRVDSLRQLNTTTVNQLLGLPGMTSTFTAPQLLQLRIIAITASAVSLIAGCLGMFFLSKMDKRRKVFRHDLIAFLIICDFLKAFILMIYPMIILINNSVYATPAFFNTLGWFTAFAIEGADMAIMIFAIHFAILIFKPNWKWRNKRSGNMEGGLYKKRSYIWPITALVPAILASLAFINYNKLNDDSDTTIILDNNNYNFPDSPRQGGYKPWSAWCYLPPKPYWYKIVLSWGPRYFIIIFIFAVYLSIYIFITSESKRIKAQIGDFNHNVLEEEKEKKKLFGLGHWGKAKWYFRSYFKLPLLHLLRNLKNFFTISFIDPNEETDDSGSSNGTFNFGESSNEIPTLFRKTNTGSDENVSASGGVRLLDYNSAKPLDMSKYAMSEQPDLERNNPFDCENDITLNPSELVSKQKEHKVTFSVENEGLDTRKSSMLGHQTFSCQNSLESPLAMYDNKNDNSDITSNIKEKGGIINNNSNNDDDDNNNNNDNDNDNNNSNNNNNNNNNNNNNNNNNNNNNNNNNNNNNNSNNIKNNVDNNNTNPADNIPTLSNEAFTPSQQFSQERVNNNADRCENSSFTNVQQHFQAQTYKQMKKRRAQIQKNLRAIFIYPLSYIGIWLFPIIADALQYNHEIKHGPTMWVTYIDTCVRPLSCLVDVIVYLFKEKPWNYSWAKTESKYLIEKYILKGELGEKEILKFCHSNWGKRGWYYRGKWKKRKCWKYSTNPLKRILWFVERFFKQLFELKLHFSFYDNCDDFEYWENYYSAKDSNDNKRTESDETKTNSSDRSLPSNSLELQAMLNNITAEEVEVPLFWRIIHHIPMLGGIDLDELNRLLKIRYNNDHFSLPGLKFALNQNKSHDKHQDVSTNSMVKSSFFSSNIVTNDDENSIEEDKNLRYSDASASENYLVKPTIPGTTPDPIIEAQNDNDSSDSSGIDLIAFLRNGPL',\n",
       " 'YDL033C': 'MLARYLNLIGRRSASPYRPQRLPAKFDNVIVAMSSGVDSSVAAALFAGEFPNTRGVYMQNWSESQSLDDPGKEPCYERDWRDVNRVAKHLNIRVDKVNFEQDYWIDVFEPMLRGYSEGSTPNPDIGCNKFVKFGKLREWLDEKYGTGNYWLVTGHYARVMQEMNGKGLFHLLRSIYRPKDQSYYLSQINSTVLSSLLLPIGHLTKPEVRDLAKYAGLPTAEKPDSQGICFVNNSQHGKFKNFLKHYLPSSPGDIITVDPQSGAKTTWGRHDGLWSYTIGQKVGISMPQADPNYQGTWFVSEKLRDTNEILIVRGRDNPALYSDTMRIENFSSLGPREDTINAFQNTGALTLQFRSLQVPVQIKSCKLNRSADNLDITIHLASKQRAITPGQSCCLYIDDRVLGSGPISHVNNNDTHA',\n",
       " 'YDL031W': 'MAGVQKRKRDLEDQDDNGSEEDDIAFDIANEIALNDSESDANDSDSEVEADYGPNDVQDVIEYSSDEEEGVNNKKKAENKDIKKKKNSKKEIAAFPMLEMSDDENNASGKTQTGDDEDDVNEYFSTNNLEKTKHKKGSFPSFGLSKIVLNNIKRKGFRQPTPIQRKTIPLILQSRDIVGMARTGSGKTAAFILPMVEKLKSHSGKIGARAVILSPSRELAMQTFNVFKDFARGTELRSVLLTGGDSLEEQFGMMMTNPDVIIATPGRFLHLKVEMNLDLKSVEYVVFDEADRLFEMGFQEQLNELLASLPTTRQTLLFSATLPNSLVDFVKAGLVNPVLVRLDAETKVSENLEMLFLSSKNADREANLLYILQEIIKIPLATSEQLQKLQNSNNEADSDSDDENDRQKKRRNFKKEKFRKQKMPAANELPSEKATILFVPTRHHVEYISQLLRDCGYLISYIYGTLDQHARKRQLYNFRAGLTSILVVTDVAARGVDIPMLANVINYTLPGSSKIFVHRVGRTARAGNKGWAYSIVAENELPYLLDLELFLGKKILLTPMYDSLVDVMKKRWIDEGKPEYQFQPPKLSYTKRLVLGSCPRLDVEGLGDLYKNLMSSNFDLQLAKKTAMKAEKLYYRTRTSASPESLKRSKEIISSGWDAQNAFFGKNEEKEKLDFLAKLQNRRNKETVFEFTRNPDDEMAVFMKRRRKQLAPIQRKATERRELLEKERMAGLSHSIEDEILKGDDGETGYTVSEDALKEFEDADQLLEAQENENKKKKKPKSFKDPTFFLSHYAPAGDIQDKQLQITNGFANDAAQAAYDLNSDDKVQVHKQTATVKWDKKRKKYVNTQGIDNKKYIIGESGQKIAASFRSGRFDDWSKARNLKPLKVGSRETSIPSNLLEDPSQGPAANGRTVRGKFKHKQMKAPKMPDKHRDNYYSQKKKVEKALQSGISVKGYNNAPGLRSELKSTEQIRKDRIIAEKKRAKNARPSKKRKF',\n",
       " 'YDL030W': 'MNLLETRRSLLEEMEIIENAIAERIQRNPELYYHYIQESSKVFPDTKLPRSSLIAENKIYKFKKVKRKRKQIILQQHEINIFLRDYQEKQQTFNKINRPEETQEDDKDLPNFERKLQQLEKELKNEDENFELDINSKKDKYALFSSSSDPSRRTNILSDRARDLDLNEIFTRDEQYGEYMELEQFHSLWLNVIKRGDCSLLQFLDILELFLDDEKYLLTPPMDRKNDRYMAFLLKLSKYVETFFFKSYALLDAAAVENLIKSDFEHSYCRGSLRSEAKGIYCPFCSRWFKTSSVFESHLVGKIHKKNESKRRNFVYSEYKLHRYLKYLNDEFSRTRSFVERKLAFTANERMAEMDILTQKYEAPAYDSTEKEGAEQVDGEQRDGQLQEEHLSGKSFDMPLGPDGLPMPYWLYKLHGLDREYRCEICSNKVYNGRRTFERHFNEERHIYHLRCLGIEPSSVFKGITKIKEAQELWKNMQGQSQLTSIAAVPPKPNPSQLKVPTELELEEEDEEGNVMSKKVYDELKKQGLV',\n",
       " 'YDL029W': 'MDPHNPIVLDQGTGFVKIGRAGENFPDYTFPSIVGRPILRAEERASVATPLKDIMIGDEASEVRSYLQISYPMENGIIKNWTDMELLWDYAFFEQMKLPSTSNGKILLTEPPMNPLKNREKMCEVMFEKYDFGGVYVAIQAVLALYAQGLSSGVVVDSGDGVTHIVPVYESVVLSHLTRRLDVAGRDVTRHLIDLLSRRGYAFNRTADFETVRQIKEKLCYVSYDLDLDTKLARETTALVESYELPDGRTIKVGQERFEAPECLFQPGLVDVEQPGVGELLFNTVQSADVDIRSSLYKAIVLSGGSSMYPGLPSRLEKELKQLWFSRVLHNDPSRLDKFKVRIEDPPRRKHMVFIGGAVLASIMADKDHMWLSKQEWQESGPSAMTKFGPR',\n",
       " 'YDL028C': 'MSTNSFHDYVDLKSRTNTRQFSDDEEFTTPPKLSNFGSALLSHTEKTSASEILSSHNNDKIANRLEEMDRSSSRSHPPPSMGNLTSGHTSTSSHSTLFGRYLRNNHQTSMTTMNTSDIEINVGNSLDKSFERIRNLRQNMKEDITAKYAERRSKRFLISNRTTKLGPAKRAMTLTNIFDEDVPNSPNQPINARETVELPLEDSHQTNFKETKRNTDYDSIDFGDLNPIQYIKKHNLPTSDLPLISQIYFDKQREENRQAALRKHSSRELLYKSRSSSSSLSSNNLLANKDNSITSNNGSQPRRKVSTGSSSSKSSIEIRRALKENIDTSNNSNFNSPIHKIYKGISRNKDSDSEKREVLRNISINANHADNLLQQENKRLKRSLDDAITNENINSKNLEVFYHRPAPKPPVTKKVEIVEPAKSASLSNNRNIITVNDSQYEKIELLGRGGSSRVYKVKGSGNRVYALKRVSFDAFDDSSIDGFKGEIELLEKLKDQKRVIQLLDYEMGDGLLYLIMECGDHDLSQILNQRSGMPLDFNFVRFYTKEMLLCIKVVHDAGIVHSDLKPANFVLVKGILKIIDFGIANAVPEHTVNIYRETQIGTPNYMAPEALVAMNYTQNSENQHEGNKWKVGRPSDMWSCGCIIYQMIYGKPPYGSFQGQNRLLAIMNPDVKIPFPEHTSNNEKIPKSAIELMKACLYRNPDKRWTVDKVLSSTFLQPFMISGSIMEDLIRNAVRYGSEKPHISQDDLNDVVDTVLRKFADYKI',\n",
       " 'YDL027C': 'MFKVPVGLASRTRELMNSVTLNSLNNGKGFNMYLPGILRAFPKPVPSAITSPAIPKYRGESFQFRKLSCISSNYCSTTHQFLSSLKSSTSRLVGKRAFHSSRRAEIKFIFSSKSPKNGNKPFVKVYKVSPFFIIFATASIFTFILTSTIVVIPLIFHFFFPLLIMFFFFKQFKKWQKNIFYKDVLTSLPKTKLKITLPTMRSLQLQPMVQSWKEISSRMGIPNEFAKGLNVDLVKQEETRKQFLSFLQKRVLESFTKNELGIRSYFLGDSVEKWIKESYDLELDIDNCRSELRKFQTFIFSSVRYKLYLDSMKNLPLNPSKKLEGKKHIADVYVIILDESFPAIMFNGGAYSKADFFKILQESETSNSSKTLNTIIAIKSVNTLLSKHFVITTNGDSGEFFSKYNISKINDKNTEYTLKE',\n",
       " 'YDL025C': 'MVKETPLHSSSSTSLSSLFRPTKLKNLSAKIFNGGGNQSYSKTDDVSRSSSRSSKKNTDSDQEDQIKYNKPNDRRSTIGKSPQGNGALSKESHVVASSTLTGISPTSAKKAPIDYSPSRPLPNNHNPVRTGHTVPHLPHSIHNPINYIHQGSKDAFHHPHPVRSTAHSNISTVSSAKSDTPSSNLSYQAHMHPVEILQKQIEDKHFMDSQASTPGSVELQHNSSSGSDDTSSRKKKSLRLTRFFKKIHNDYHDNHHHHHHHNRGSTPTKPKLNLNTNENIVESNGKALYETDNPVELLEKYGIPGRKLGEGASGSVSVVERTDGKLFACKMFRKPHLNNEGTNQSQLANYSKKVTTEFCIGSTLHHENIVETLDMLTEGDTYLLVMEYAPYDFFNLVMSNLMTQDEVNCYFKQLCHGVNYLHSMGLAHRDLKLDNCVVTKDGILKLIDFGSAVVFQYPYEDTIVKSHGIVGSDPYLAPELLKQTSYDPRVADVWSIAIIFYCMVLKRFPWKAPKKSFNSFRLFTEEPEDEDDIVRGPNKILRLLPRHSRTIIGRMLALEPKQRVLMNDVVKDDWLVSVPSCEVDPTSGDLVEKPKNHKHHLVTEEELNELTKQHGNKDSN',\n",
       " 'YDL024C': 'MVKPVIFAICLGVLLSKALSIPLRSFADIELIGSQKSLFPFLGGSAPYFSFPANYGIPTDIPEGCRLTQVQMIGRHGERYPTRSEAKDIFEVWYKISNYTGKYEGSLSFLNNGYEFFIPDESLLEMETTLQNSIDVLNPYTGEMNAKRHAREFLAKYGKLMENCTNFPIFTTNSKRIYDTAQYFAEALGDGFNISLQTLSENSSSGANTLAAKSSCPNWNSNANNDILMSYSRDYLENISDRLNDENKGLNLSRKDAAALFSWCAFELNAKGYSNICDIFSAAELIHYSYETDLTSFYQNGPGYKLIKSIGANLFNATVKLIRQSAHLDQKVWLSFTHDTDILNYLTTAGLIDDTRNLTTNHVPFRDHSYHRSWYIPQGARVYTEKFQCSNDSYVRYVVNDAVVPIESCSSGPGFSCEEGTFYEYAKDRLRGVSFYEDCDVSKVSKEKELTFYWDWNTTRYNASLVNQ',\n",
       " 'YDL022C-A': 'MYYLVPKTTYGNLQCSSLAMTFHERGESGDVLSCACRLYLYIMPLFFNTFLRQKYFQLCSNTPYRNNGEARYFCHLFRCSII',\n",
       " 'YDL022W': 'MSAAADRLNLTSGHLNAGRKRSSSSVSLKAAEKPFKVTVIGSGNWGTTIAKVVAENCKGYPEVFAPIVQMWVFEEEINGEKLTEIINTRHQNVKYLPGITLPDNLVANPDLIDSVKDVDIIVFNIPHQFLPRICSQLKGHVDSHVRAISCLKGFEVGAKGVQLLSSYITEELGIQCGALSGANIATEVAQEHWSETTVAYHIPKDFRGEGKDVDHKVLKALFHRPYFHVSVIEDVAGISICGALKNVVALGCGFVEGLGWGNNASAAIQRVGLGEIIRFGQMFFPESREETYYQESAGVADLITTCAGGRNVKVARLMATSGKDAWECEKELLNGQSAQGLITCKEVHEWLETCGSVEDFPLFEAVYQIVYNNYPMKNLPDMIEELDLHED',\n",
       " 'YDL021W': 'MTASTPSNVMTLFLLRHGQSELNHENIFCGWIDAKLTEKGKEQARHSAELIEQYCKANNLRLPQIGYTSRLIRTQQTIETMCEEFKLKPQLQVVYDFNKIKLGDEFGSDDKDNMKIPILQTWRLNERHYGSWQGQRKPNVLKEYGKDKYMFIRRDYEGKPPPVDLDREMIQQENEKGSSTGYEFKEPNRQIKYELECSNHDIVLPDSESLREVVYRLNPFLQNVILKLANQYDESSCLIVGHGSSVRSLLKILEGISDDDIKNVDIPNGIPLVVELDKNNGLKFIRKFYLDPESAKINAEKVRNEGFIKNP',\n",
       " 'YDL020C': 'MASTELSLKRTLTDILEDELYHTNPGHSQFTSHYQNYHPNASITPYKLVNKNKENNTFTWNHSLQHQNESSAASIPPQQTYHFPIFNKYADPTLTTTTSFTTSEATANDRQINNVHLIPNEIKGASETPLQKTVNLKNIMKVSDPYVPTRNTFNYDVKISNDFFDNGDNLYGNDEEVLFYEDNYNPKMQWSLQDNSAAINNEDARAIFNNEFDSDDDDISDDEEDEIEENCLQQEQHQEEPLLSLDVTPISMFGSDQKTGRAKSSSHLFNEYSYVDSNMDSISSVVSEDLLDERGHEKIEDEDEDNDLDEDDIYDISLLKNRRKQSFVLNKNTIDFERFPSPSTSANVPSTATTGKRKPAKSSSNRSCVSNSNENGTLERIKKPTSAVVSSNASRRKLINYTKKHLSSHSSTNSNSKPSTASPSAHTSSSDGNNEIFTCQIMNLITNEPCGAQFSRSYDLTRHQNTIHAKRKIVFRCSECIKILGSEGYQKTFSRLDALTRHIKSKHEDLSLEQRQEVTKFAKANIGYVMG',\n",
       " 'YDL019C': 'MSREDLSIAEDLNQVSKPLLKVKLLEVLGQGDFKHLKALVDNEFQPKDDPSVQQVLNLILHYAVQVAPILLIKEIVAHWVDQVGDEKSSSKSDDGIHLDLNYQDENGNTPLHLAAAQSRSDVISFLLSQKSINDCVKNKAHQQPLDMCKDLNVAQMIQLKRDDYFLETVHSLRAAMNKRDFSKLDSIWKNPRNLNLLDINGIDPETGTTLLYEYSQKKDIEMCQWLLKHGAEATVKDGKGRSPLDLVKNIKLPAKPSNNVTPEIKLKNLLEKNLREQAIVHEDVASSKPPTYKGFLKKWTNFAHGYKLRWFILSGDGNLSYYKDQSHVDRPRGTLKVSTCRLHIDSSEKLNFELLGGITGTTRWRLKGNHPIETTRWVNAIQSAIRFAKDKEILNKKKAVPPSLALKNKSPALISHSKTQGSLPEASQYYQHTLHKEVIQPSSVSLYRRPSNNLSVVSSEIQLNDNLTESGKRFVSKMIENRLDGSKTPVGVHTGSALQRVRSSNTLKSNRSMQSGSGVASPIDKVPNGANLSQSNTTTGSTASLSDNNYIDNFEGDEANSDDEEEDLGINFDRDEEYIKAQYGPYKEKLDMYEQAISIELSSLIELIEQEEPSPEVWLTIKKSLINTSTIFGKLKDLTYKRDKRLVDMVSKQGDVNNVWVQSVKELEMELSNKTERLASIDKERRGLKKILHKKLLESHATAGNKESLENDKEQESDTTASTLGQIAKFISATKEEDEASDADEFYDAAELVDEVTELTEAHPEISTAAAPKHAPPPVPNETDNDSQYVQDEKSKIESNVEKTSQKFEKQNNLVTEDEPKTDQSLKNFKAEDKESQVKEKTKEIASSVIGEKTIVAVTTVQKRKEEYLLKEGSYLGYEDGIRKRLSMDKDDRPKISLWAVLKSMVGKDMTRMTLPVTFNEPTSLLQRVAEDLEYSELLDQAATFEDSTLRTLYVAAFTASSYASTTKRVAKPFNPLLGETFEYSRPDKQYRFFTEQVSHHPPISATWTESPRWDFWGESFVDTKFNGRSFNVKHLGLWHIKLRPNDNEKEELYTWKKPNNTVIGILIGNPQVDNHGEVNVVNHTTGDHCKLYFKARGWRSSGAYEITGEVYNKKKQKVWILGGHWNEAIFAKKVVKDGDLSLEKTRTAASAGNGPTDDGTKFLIWKANDRPEEPFNLTPFAITLNAPQPHLLPWLPPTDTRLRPDQRAMEDGRYDEAGDEKFRVEEKQRAARRKREENNLEYHPQWFVRDTHPITKAKYWRYTGKYWVKRRDHDLKDCGDIF',\n",
       " 'YDL018C': 'MSNLCVLFFQFFFLAQFFAEASPLTFELNKGRKECLYTLTPEIDCTISYYFAVQQGESNDFDVNYEIFAPDDKNKPIIERSGERQGEWSFIGQHKGEYAICFYGGKAHDKIVDLDFKYNCERQDDIRNERRKARKAQRNLRDSKTDPLQDSVENSIDTIERQLHVLERNIQYYKSRNTRNHHTVCSTEHRIVMFSIYGILLIIGMSCAQIAILEFIFRESRKHNV',\n",
       " 'YDL017W': 'MTSKTKNIDDIPPEIKEEMIQLYHDLPGIENEYKLIDKIGEGTFSSVYKAKDITGKITKKFASHFWNYGSNYVALKKIYVTSSPQRIYNELNLLYIMTGSSRVAPLCDAKRVRDQVIAVLPYYPHEEFRTFYRDLPIKGIKKYIWELLRALKFVHSKGIIHRDIKPTNFLFNLELGRGVLVDFGLAEAQMDYKSMISSQNDYDNYANTNHDGGYSMRNHEQFCPCIMRNQYSPNSHNQTPPMVTIQNGKVVHLNNVNGVDLTKGYPKNETRRIKRANRAGTRGFRAPEVLMKCGAQSTKIDIWSVGVILLSLLGRRFPMFQSLDDADSLLELCTIFGWKELRKCAALHGLGFEASGLIWDKPNGYSNGLKEFVYDLLNKECTIGTFPEYSVAFETFGFLQQELHDRMSIEPQLPDPKTNMDAVDAYELKKYQEEIWSDHYWCFQVLEQCFEMDPQKRSSAEDLLKTPFFNELNENTYLLDGESTDEDDVVSSSEADLLDKDVLLISE',\n",
       " 'YDL015C': 'MPITIKSRSKGLRDTEIDLSKKPTLDDVLKKISANNHNISKYRIRLTYKKESKQVPVISESFFQEEADDSMEFFIKDLGPQISWRLVFFCEYLGPVLVHSLFYYLSTIPTVVDRWHSASSDYNPFLNRVAYFLILGHYGKRLFETLFVHQFSLATMPIFNLFKNCFHYWVLSGLISFGYFGYGFPFGNAKLFKYYSYLKLDDLSTLIGLFVLSELWNFYCHIKLRLWGDYQKKHGNAKIRVPLNQGIFNLFVAPNYTFEVWSWIWFTFVFKFNLFAVLFLTVSTAQMYAWAQKKNKKYHTRRAFLIPFVF',\n",
       " 'YDL014W': 'MSFRPGSRGGSRGGSRGGFGGRGGSRGGARGGSRGGFGGRGGSRGGARGGSRGGFGGRGGSRGGARGGSRGGRGGAAGGARGGAKVVIEPHRHAGVYIARGKEDLLVTKNMAPGESVYGEKRISVEEPSKEDGVPPTKVEYRVWNPFRSKLAAGIMGGLDELFIAPGKKVLYLGAASGTSVSHVSDVVGPEGVVYAVEFSHRPGRELISMAKKRPNIIPIIEDARHPQKYRMLIGMVDCVFADVAQPDQARIIALNSHMFLKDQGGVVISIKANCIDSTVDAETVFAREVQKLREERIKPLEQLTLEPYERDHCIVVGRYMRSGLKK',\n",
       " 'YDL013W': 'MHSDTNGRTKSNNSPSDNNPNETVILIDSDKEEDASIREANLPVRLYPDRRVGRRRDALNRFVRSDSRSRNSQRTHITASSERPDFQANNDDITIIREVGRFFGDDGPIDPSAHYVDLDQEPGSETLETPRTIQVDNTNGYLNDNGNNNESDDGLTIVEERTTRPRVTLNLPGGERLEVTATTTDIPIRRSFEFQEDLGASRRQLLRRSATRARNLFVDRSDENDEDWTDDTHNLPEAIQRARRESRMRMSRRIAERQRRVQQQRVSSDENISTSIRLQSIRERIQSYTPDIRSAFHRAESLHEFRSILQNVAPITLQECEEELMALFTEFRNQLLQNWAIDRVRNTQEEALRLHREALERQERTAGRVFHRGTLRESITNYLNFNGEDGFLSRLWSGPALSDADEERHTQNIIDMIQEREERERDVVMKNLMNKTRAQQEEFEARAASLPEGYSASFDTTPKMKLDITKNGKEETIIVTDDDLAKTLEDIPVCCLCGAELGVGIPDDFTGISQKDRGVSFEGLVSKYKFHCPYQTLARPSMLDRDLSKRTFIASCGHAFCGRCFARIDNAKKKSKMPKKKLAQLKGSAHPDNYGPKLCPADSCKKLIRSRGRLKEVYF',\n",
       " 'YDL012C': 'MSAQDYYGNSASKQSYSRPSAPPPGYETASRGYAPSQSQQNYYPPQQQQQQYQQQPQYYQQQQPQYYQQHPQQPIYVQQQPASSGNEDCLAGCLAGLCLCCTLDMLF',\n",
       " 'YDL010W': 'MIPSNKRNARILSITTLLLLLVFFVAQNANFLTVEIKEETSKAFSTNMDNMAGGSSREYAAMPTSTTNKGSSEVDEEINEIKQKVGLQQPIASVDDSLSAIKNDKGSRITKAFNVQKEYSLILDLSPIIIFSKSTCSYSKGMKELLENEYQFIPNYYIIELDKHGHGEELQEYIKLVTGRGTVPNLLVNGVSRGGNEEIKKLHTQGKLLESLQVWSDGKFSVEQREKPSNN',\n",
       " 'YDL009C': 'MKALSVLCFHNPFKRCLGQKSFFVGDSFFIPTPKRLVLGKLRLSNYTAFHDLIIHDLFIYIFILNFFFFPFCNNFNYWKVFHVAQPRIYHHSRLVMILKVSLECAVS',\n",
       " 'YDL008W': 'MKVKINEVHSVFAWSWHIPSTSDEDAANNDPIGNDEDEDVCGICRASYNGTCPSCKFPGDQCPLVIGLCHHNFHDHCIYRWLDTPTSKGLCPMCRQTFQLQKGLAINDAHVQKFVEIVSRRREEMIEEGVAEEFVDFDEPIRQNTDNPIGRQQVDTILDEDFLLR',\n",
       " 'YDL007C-A': 'MFLPIIFHTILTLLNFGKYYCLPIQEDDDKSGKEIEQILDNNIESLGLLLNSMSLSSNFTTGDPELDSLFQDDLIPELYSVLDGF',\n",
       " 'YDL007W': 'MGQGVSSGQDKKKKKGSNQKPKYEPPVQSKFGRKKRKGGPATAEKLPNIYPSTRCKLKLLRMERIKDHLLLEEEFVSNSEILKPFEKKQEEEKKQLEEIRGNPLSIGTLEEIIDDDHAIVTSPTMPDYYVSILSFVDKELLEPGCSVLLHHKTMSIVGVLQDDADPMVSVMKMDKSPTESYSDIGGLESQIQEIKESVELPLTHPELYEEMGIKPPKGVILYGAPGTGKTLLAKAVANQTSATFLRIVGSELIQKYLGDGPRLCRQIFKVAGENAPSIVFIDEIDAIGTKRYDSNSGGEREIQRTMLELLNQLDGFDDRGDVKVIMATNKIETLDPALIRPGRIDRKILFENPDLSTKKKILGIHTSKMNLSEDVNLETLVTTKDDLSGADIQAMCTEAGLLALRERRMQVTAEDFKQAKERVMKNKVEENLEGLYL',\n",
       " 'YDL006W': 'MSNHSEILERPETPYDITYRVGVAENKNSKFRRTMEDVHTYVKNFASRLDWGYFAVFDGHAGIQASKWCGKHLHTIIEQNILADETRDVRDVLNDSFLAIDEEINTKLVGNSGCTAAVCVLRWELPDSVSDDSMDLAQHQRKLYTANVGDSRIVLFRNGNSIRLTYDHKASDTLEMQRVEQAGGLIMKSRVNGMLAVTRSLGDKFFDSLVVGSPFTTSVEITSEDKFLILACDGLWDVIDDQDACELIKDITEPNEAAKVLVRYALENGTTDNVTVMVVFL',\n",
       " 'YDL005C': 'MVVQNSPVSSVHTANFSERGSNTRTMTYKNKLTVCFDDILKVGAEMMMQQQLKNVQLDSYLVNGFSQSQQKLLKEKVKLFHGILDDLETSLSQSSSYLETLTALGKEKEKEREEAEKKRAEQENMRKVREQEELKKRQELEEASQQQQLQQNSKEKNGLGLNFSTTAPANTTDANGSKENYQELGSLQSSSQTQLENANAANNGAAFSPLTTTRIQSQQAQPSDVMFNDLNSMDISMFSGLDSTGFDSTAFNATVDETKGFDDNDSGNNYNDINISSIENNINNNINSTKNGKDNNNESNKNNNGDEKNKNNNEDNENNNNSSEKNNNNNNNNNNNNDDNGNNNNNNSGNDNNNTTNNDSNNKNNSITTGNDNENIVNNDLPTTVVSNPGDNPPPADNGEEYLTLNDFNDLNIDWSTTGDNGELDLSGFNI',\n",
       " 'YDL004W': 'MLRSIIGKSASRSLNFVAKRSYAEAAAASSGLKLQFALPHETLYSGSEVTQVNLPAKSGRIGVLANHVPTVEQLLPGVVEVMEGSNSKKFFISGGFATVQPDSQLCVTAIEAFPLESFSQENIKNLLAEAKKNVSSSDAREAAEAAIQVEVLENLQSVLK',\n",
       " 'YDL003W': 'MVTENPQRLTVLRLATNKGPLAQIWLASNMSNIPRGSVIQTHIAESAKEIAKASGCDDESGDNEYITLRTSGELLQGIVRVYSKQATFLLTDIKDTLTKISMLFKTSQKMTSTVNRLNTVTRVHQLMLEDAVTEREVLVTPGLEFLDDTTIPVGLMAQENSMERKVQGAAPWDTSLEVGRRFSPDEDFEHNNLSSMNLDFDIEEGPITSKSWEEGTRQSSRNFDTHENYIQDDDFPLDDAGTIGWDLGITEKNDQNNDDDDNSVEQGRRLGESIMSEEPTDFGFDLDIEKEAPAGNIDTITDAMTESQPKQTGTRRNSKLLNTKSIQIDEETENSESIASSNTYKEERSNNLLTPQPTNFTTKRLWSEITESMSYLPDPILKNFLSYESLKKRKIHNGREGSIEEPELNVSLNLTDDVISNAGTNDNSFNELTDNMSDFVPIDAGLNEAPFPEENIIDAKTRNEQTTIQTEKVRPTPGEVASKAIVQMAKILRKELSEEKEVIFTDVLKSQANTEPENITKREASRGFFDILSLATEGCIGLSQTEAFGNIKIDAKPALFERFINA',\n",
       " 'YDL002C': 'MSVEEKKRRLEELKDQNVVLGLAIQRSRLSVKRLKLEYGVLLERLESRIELDPELNCEDPLPTLASFKQELLTKPFRKSKTKRHKVKERDPNMPKRPTNAYLLYCEMNKERIRQNGSLDVTRDLAEGWKNLNEQDRKPYYKLYSEDRERYQMEMEIYNKKISNIDADDDKEENEQKIKNNEEGSSTKVADSKGGEDGSLVSSN',\n",
       " 'YDL001W': 'MVDSNDDQPERHALLHNDIQTSNNSRPSLVQKKYLPTPQDTRKSRASYTGSAMINPTSKQSRTGSGAQRTSRTAQKLKLLPEEPFQRDSERLTDLKNQEVYSQVNRIKDKPARRDAEKLGKAHRHLLPRSTAYCTASSYNMKELVRWLKDCRKLHHTHPKLFDECLYTPFIYNDWRGDKRFEDEDVIRLDDEGGEIIVSDKHPDLFIFEYGVVVMWGFTEREEKAFLNDIEKFEKEKLAEEDIQVEEFNYYVTKSYQPRIYNDFITLRDGSNYMVKLSISHAIAQSVKISLFEELVDNTIEDTQDIPQEIAYSGKVSMSKEDIMKSIGELFILRININLHGSVLDSPEIMWSEPQLEPIYQATRGYLEINQRVSLLNQRLEVISDLLQMLKEQLGHSHEEYLEFIVILLVGVEVLISVINIVVDMLASQH',\n",
       " 'YDR001C': 'MSQVNTSQGPVAQGRQRRLSSLSEFNDPFSNAEVYYGPPTDPRKQKQAKPAKINRTRTMSVFDNVSPFKKTGFGKLQQTRRGSEDDTYSSSQGNRRFFIEDVDKTLNELLAAEDTDKNYQITIEDTGPKVLKVGTANSYGYKHINIRGTYMLSNLLQELTIAKSFGRHQIFLDEARINENPVNRLSRLINTQFWNSLTRRVDLNNVGEIAKDTKIDTPGAKNPRIYVPYDCPEQYEFYVQASQMHPSLKLEVEYLPKKITAEYVKSVNDTPGLLALAMEEHFNPSTGEKTLIGYPYAVPGGRFNELYGWDSYMMALGLLEANKTDVARGMVEHFIFEINHYGKILNANRSYYLCRSQPPFLTEMALVVFKKLGGRSNPDAVDLLKRAFQASIKEYKTVWTASPRLDPETGLSRYHPNGLGIPPETESDHFDTVLLPYASKHGVTLDEFKQLYNDGKIKEPKLDEFFLHDRGVRESGHDTTYRFEGVCAYLATIDLNSLLYKYEIDIADFIKEFCDDKYEDPLDHSITTSAMWKEMAKIRQEKITKYMWDDESGFFFDYNTKIKHRTSYESATTFWALWAGLATKEQAQKMVEKALPKLEMLGGLAACTERSRGPISISRPIRQWDYPFGWAPHQILAWEGLRSYGYLTVTNRLAYRWLFMMTKAFVDYNGIVVEKYDVTRGTDPHRVEAEYGNQGADFKGAATEGFGWVNASYILGLKYMNSHARRALGACIPPISFFSSLRPQERNLYGL',\n",
       " 'YDR002W': 'MSSEDKKPVVDKKEEAAPKPPSSAVFSMFGGKKAEKPETKKDEEDTKEETKKEGDDAPESPDIHFEPVVHLEKVDVKTMEEDEEVLYKVRAKLFRFDADAKEWKERGTGDCKFLKNKKTNKVRILMRRDKTLKICANHIIAPEYTLKPNVGSDRSWVYACTADIAEGEAEAFTFAIRFGSKENADKFKEEFEKAQEINKKA',\n",
       " 'YDR003W': 'MILREQIDFLIHKRQDDNNNNGEAITDDDPFSSSSWRWGRWIFFIFFIVALLILLFSTAKVNRRRRIMGQAPIRGTAWLTPPTYRQSERDYNGTQRCVEDYVPEYTETANENDLGFYDERGEFHPNGKTEYLAPPPLSEEQASSTDKDLQRPVAAVVRIPSESEFDFNLLRPTMNNFVNGQSNRNEQHSPTVESSSFDVNNAPARAKVSK',\n",
       " 'YDR003W-A': 'MTCGIENSYKSAEKKKKYRSFRFFESRDYSELCIIVGTYY',\n",
       " 'YDR004W': 'MPRALSIKFDNTYMDLYDELPESKLLYDEEFSYLLDAVRQNGVCVVDFLTLTPKELARLIQRSINEVFRFQQLLVHEYNEKYLEICEKNSISPDNGPECFTTADVAMDELLGGGIFTHGITEIFGESSTGKSQLLMQLALSVQLSEPAGGLGGKCVYITTEGDLPTQRLESMLSSRPAYEKLGITQSNIFTVSCNDLINQEHIINVQLPILLERSKGSIKLVIIDSISHHLRVELQNKSFRESQENKNYLDRMAEKLQILAHDYSLSVVVANQVGDKPLANSPVAHRTYVTDYDYQLGWLVGWKNSTILYRQMNSLLGASSNNDEILSDDEDYMLIERVMSTVNDRNYDFFSKKKPPIIENKTVERNSSSPISRQSKKRKFDYRVPNLGLTWSNHVSTRILLQKSFKASTIIQRGEAHLYKGGDSASFWQVKRTMKVVYSTFAKPGQIAYQITKRGIETA',\n",
       " 'YDR005C': 'MKFIDELDIERVNQTLNFETNDCKIVGSCDIFTTKAVASDRKLYKTIDQHLDTILQENENYNATLQQQLAAPETNQSPCSSPFYSNRRDSNSFWEQKRRISFSEYNSNNNTNNSNGNSSNNNNYSGPNGSSPATFPKSAKLNDQNLKELVSNYDSGSMSSSSLDSSSKNDERIRRRSSSSISSFKSGKSSNNNYSSGTATNNVNKRRKSSINERPSNLSLGPFGPINEPSSRKIFAYLIAILNASYPDHDFSSVEPTDFVKTSLKTFISKFENTLYSLGRQPEEWVWEVINSHMTLSDCVLFQYSPSNSFLEDEPGYLWNLIGFLYNRKRKRVAYLYLICSRLNSSTGEVEDALAKKPQGKLIIDDGSNEYEGEYDFTYDENVIDDKSDQEESLQ',\n",
       " 'YDR006C': 'MDQPRTHSGPTTASNPAPSSTNSSSAPSATNSKQERSSSSLSKPSSVVPSKDSPDGDAIAKTQAAALKNDMKSGDTSTLDGSSQNIIPNRASMQKYIDQSSDLLSRSSGVITPSMSLNASTNATNNDSSGNSANSSDLKIPIDRDNTIFKTFDTKTGQFLKNDDNEEEIRRNNKVDSIPPKNIYTNINNPSPSPPPSSKQPPSASAPQLPPATEPHKEQAAQQQPPGNASNFLRIFSNKKMRSHSVPTILHSSLRKLSSHNQYYRNQNILLNHPTPSGISKKKFSRNHHQPYLHSNNPLSSNPLSLKRAIFLNQQISGNASTNANNDNINNSTATSMTNQSFLSSSNFDLTLEDRINYIKATPTPVPFPPINLQGLKEIDLQEILKNPQLRHDIIFDPLLQFRPNLDGERGNKKRQLANIYWNDVQNEIYVYSKRPEIFQYNRSRLVPLFDTLRDVLLTIVPQKESPMINNVLDTELNIQELLKGSLIMSNLSGWLADLFKHHCAPMRDPWVDKMSNKFKEAERDSSLTRLIEGLRLVFQILETMKLDIANHQIRILRPALLSNAVEFEKQYFNTLIASKRVNLNTSLLWFDKKFNENVTAGLVRNPSSITIPDVYNICIRSIINLLSCRKMVREYPTPLSFDHARLILLRADIRQIVCILVCRLLFQQLVANDPSMDKATKEYVIHTYSTKRLKNEIISIITDEHGNCRWTKNTMSIAVHLCKVIDDLHREYDNNGSCEQARRPQLPSLDNSKITFAKSWLSKQTQPLSEVYGVLENRVFKSLEDAIFNRSECTIDGRVKQDFVYLYNTNNGNVGSTNTLSTTTDTASVKISPSLMSPSKTSTTTPTGNAIASRGLFAATELEEFENVYRHLYALINLHWSVFGPHYIEMLGDKVNKKGI',\n",
       " 'YDR007W': 'MSVINFTGSSGPLVKVCGLQSTEAAECALDSDADLLGIICVPNRKRTIDPVIARKISSLVKAYKNSSGTPKYLVGVFRNQPKEDVLALVNDYGIDIVQLHGDESWQEYQEFLGLPVIKRLVFPKDCNILLSAASQKPHSFIPLFDSEAGGTGELLDWNSISDWVGRQESPESLHFMLAGGLTPENVGDALRLNGVIGVDVSGGVETNGVKDSNKIANFVKNAKK',\n",
       " 'YDR009W': 'MNTNVPIFSSPVRDLPRSFEQKHLAVVDAFFQTYHVKPDFIARSPGRVNLIGEHIDYCDFSVLPLAIDVDMLCAVKILDEKNPSITLTNADPKFAQRKFDLPLDGSYMAIDPSVSEWSNYFKCGLHVAHSYLKKIAPERFNNTPLVGAQIFCQSDIPTGGGLSSAFTCAAALATIRANMGKNFDISKKDLTRITAVAEHYVGVNNGGMDQATSVYGEEDHALYVEFRPKLKATPFKFPQLKNHEISFVIANTLVKSNKFETAPTNYNLRVIEVTVAANALATRYSVALPSHKDNSNSERGNLRDFMDAYYARYENQAQPWNGDIGTGIERLLKMLQLVEESFSRKKSGFTVHEASTALNCSREEFTRDYLTTFPVRFQVLKLYQRAKHVYSESLRVLKALKMMTSATFHTDEDFFTDFGRLMNESQASCDKLYECSCIETNQICSIALANGSFGSRLTGAGWGGCTIHLVPSGANGNVEQVRKALIEKFYNVRYPDLTDEELKDAIIVSKPALGTCLYEQ',\n",
       " 'YDR010C': 'MCAEPDDWERIERHPRKLKIAPRMLDFYESYIVWREGNFFLCLRSFPNGVIRGGRCFFRATSLPWKNVYGYHGHITSVCGATLTRINRAMVASDAGMGSIGLTNLFLYRV',\n",
       " 'YDR011W': 'MSNIKSTQDSSHNAVARSSSASFAASEESFTGITHDKDEQSDTPADKLTKMLTGPARDTASQISATVSEMAPDVVSKVESFADALSRHTTRSGAFNMDSDSDDGFDAHAIFESFVRDADEQGIHIRKAGVTIEDVSAKGVDASALEGATFGNILCLPLTIFKGIKAKRHQKMRQIISNVNALAEAGEMILVLGRPGAGCSSFLKVTAGEIDQFAGGVSGEVAYDGIPQEEMMKRYKADVIYNGELDVHFPYLTVKQTLDFAIACKTPALRVNNVSKKEYIASRRDLYATIFGLRHTYNTKVGNDFVRGVSGGERKRVSIAEALAAKGSIYCWDNATRGLDASTALEYAKAIRIMTNLLKSTAFVTIYQASENIYETFDKVTVLYSGKQIYFGLIHEAKPYFAKMGYLCPPRQATAEFLTALTDPNGFHLIKPGYENKVPRTAEEFETYWLNSPEFAQMKKDIAAYKEKVNTEKTKEVYDESMAQEKSKYTRKKSYYTVSYWEQVKLCTQRGFQRIYGNKSYTVINVCSAIIQSFITGSLFYNTPSSTSGAFSRGGVLYFALLYYSLMGLANISFEHRPILQKHKGYSLYHPSAEAIGSTLASFPFRMIGLTCFFIILFFLSGLHRTAGSFFTIYLFLTMCSEAINGLFEMVSSVCDTLSQANSISGILMMSISMYSTYMIQLPSMHPWFKWISYVLPIRYAFESMLNAEFHGRHMDCANTLVPSGGDYDNLSDDYKVCAFVGSKPGQSYVLGDDYLKNQFQYVYKHTWRNFGILWCFLLGYVVLKVIFTEYKRPVKGGGDALIFKKGSKRFIAHADEESPDNVNDIDAKEQFSSESSGANDEVFDDLEAKGVFIWKDVCFTIPYEGGKRMLLDNVSGYCIPGTMTALMGESGAGKTTLLNTLAQRNVGIITGDMLVNGRPIDASFERRTGYVQQQDIHIAELTVRESLQFSARMRRPQHLPDSEKMDYVEKIIRVLGMEEYAEALVGEVGCGLNVEQRKKLSIGVELVAKPDLLLFLDEPTSGLDSQSSWAIIQLLRKLSKAGQSILCTIHQPSATLFEEFDRLLLLRKGGQTVYFGDIGKNSATILNYFERNGARKCDSSENPAEYILEAIGAGATASVKEDWHEKWLNSVEFEQTKEKVQDLINDLSKQETKSEVGDKPSKYATSYAYQFRYVLIRTSTSFWRSLNYIMSKMMLMLVGGLYIGFTFFNVGKSYVGLQNAMFAAFISIILSAPAMNQIQGRAIASRELFEVRESQSNMFHWSLVLITQYLSELPYHLFFSTIFFVSSYFPLRIFFEASRSAVYFLNYCIMFQLYYVGLGLMILYMSPNLPSANVILGLCLSFMLSFCGVTQPVSLMPGFWTFMWKASPYTYFVQNLVGIMLHKKPVVCKKKELNYFNPPNGSTCGEYMKPFLEKATGYIENPDATSDCAYCIYEVGDNYLTHISSKYSYLWRNFGIFWIYIFFNIIAMVCVYYLFHVRQSSFLSPVSILNKIKNIRKKKQ',\n",
       " 'YDR012W': 'MSRPQVTVHSLTGEATANALPLPAVFSAPIRPDIVHTVFTSVNKNKRQAYAVSEKAGHQTSAESWGTGRAVARIPRVGGGGTGRSGQGAFGNMCRGGRMFAPTKTWRKWNVKVNHNEKRYATASAIAATAVASLVLARGHRVEKIPEIPLVVSTDLESIQKTKEAVAALKAVGAHSDLLKVLKSKKLRAGKGKYRNRRWTQRRGPLVVYAEDNGIVKALRNVPGVETANVASLNLLQLAPGAHLGRFVIWTEAAFTKLDQVWGSETVASSKVGYTLPSHIISTSDVTRIINSSEIQSAIRPAGQATQKRTHVLKKNPLKNKQVLLRLNPYAKVFAAEKLGSKKAEKTGTKPAAVFAETLKHD',\n",
       " 'YDR013W': 'MYGDLGNKLVLEAKRTKQLYARSNQDVNLPMYHEDIIRNILKEVSNLRKNTEYLKEQQQLGMLDDKVAKCQYFVTLLCMERNKRCLLAYQRLRTDILDSMAWNNNGLDLMSSITFSQQDTNNLSHQEQEYLKEYCDLITDLKSGDLVDIDLSGSLVPPSDVFIDVRVLKDAGEIQTEYGVFNLIKDSQFFVRQSDVERLIQQGYLQKI',\n",
       " 'YDR014W': 'MRAYGKRGPVLRTPFRSNKGLPSSSDVEFSDDDVNSVIPDVSSTISSSIADHPIEGLLDEPRKAQDSSSSFDGANEKPSSQLDSKRNDQNVKIITSSDTSMAFMKDEKLSAFNFLDGSKASKRKRRRTYQKHDANITSSIEPDVQDEDSITMHNEFESIRKIYNDINEFILKLPRADDDILNKMLENEMKMDDSIENNSIRTSKDKKYGKFRTILINKNKENEIMGEEVDQKANTLSLNNADNSNAEKEGLTSTNHYNELKNMGDTIKYQDDIEFLLSNSKSNDNTTVPINEYFKKLLNLSLMIINDEEFFQYAKRYFKKEIIKLSFAQFRSDFPELILLQGYLLHKVSESQSDFPPSFDNFSIELSKDDGKIRTKKNKHIKKLSHLNFEDFLRKTQFKTGLYYSLSLWEMHGNLSLDIIKRISILASNKDLFSRHVKTFIPLLEKLITASEFCHMYIEQPEMFDSLISNLNNQFKDMLDDDSLIKILILLTNMEVHNYTLWKEADMIFQSSMNTILESIHPLTDAKVDNILLHLGLCLNICSRENSRLKLDGKLWYDMKTIFVKMIRDGSDTENRLVQGLFYLNFSFLIKQRKENSNLDPGELNLLLVELEAFKSETSQFNEGISNKIEIALNYLKSIYTSERITI',\n",
       " 'YDR014W-A': 'MQQRSNRRSCSYIPLGVHNNAEKSLCTEVAPARKNKRSITTSPIVNINVVERRLFNLELEKQQLRAKNLSENTGGGSPNGGAYLDAKKGVREQDQYQGGPSKELDRLQPPPSMKKSPPRKKKSLKDLIYETNKTFYQVDSNKVKYKVGLSKKQLLPSKTVDN',\n",
       " 'YDR016C': 'MMASTSNDEEKLISTTDKYFIEQRNIVLQEINETMNSILNGLNGLNISLESSIAVGREFQSVSDLWKTLYDGLESLSDEAPIDEQPTLSQSKTK',\n",
       " 'YDR017C': 'MDTSHEIHDKIPDTLREQQQHLRQKESEGCITTLKDLNVPETKKLSSVLHGRKASTYLRIFRDDECLADNNNGVDSNNGGSVTCADKITRSEATPKSVPEGLQVSEKKNNPDTLSSSLSSFILSNHEEPAIKPNKHVAHRNNITETGQGSGEDIAKQQSHQPQVLHHQTSLKPIQNVDEGCISPKSTYQESLHGISEDLTLKPVSSATYYPHKSKADSGYEEKDKMENDIDTIQPATINCASGIATLPSSYNRHTFKVKTYSTLSQSLRQENVNNRSNEKKPQQFVPHSESIKEKPNTFEQDKEGEQADEEEDEGDNEHREYPLAVELKPFTNRVGGHTAIFRFSKRAVCKALVNRENRWYENIELCHKELLQFMPRYIGVLNVRQHFQSKDDFLSDLDQENNGKNDTSNENKDIEVNHNNNDDIALNTEPTGTPLTHIHSFPLEHSSRQVLEKEHPEIESVHPHVKRSLSSSNQPSLLPEVVLNDNRHIIPESLWYKYSDSPNSAPNDSYFSSSSSHNSCSFGERGNTNKLKRRDSGSTMINTELKNLVIREVFAPKCFRRKRNSNTTTMGNHNARLGSSPSFLTQKSRASSHDASNTSMKTLGDSSSQASLQMDDSKVNPNLQDPFLKKSLHEKISNALDGSHSVMDLKQFHKNEQIKHKNSFCNSLSPILTATNSRDDGEFATSPNYISNAQDGVFDMDEDTGNETINMDNHGCHLDSGKNMIIKSLAYNVSNDYSHHDIESITFEETSHTIVSKFILLEDLTRNMNKPCALDLKMGTRQYGVDAKRAKQLSQRAKCLKTTSRRLGVRICGLKVWNKDYYITRDKYFGRRVKVGWQFARVLARFLYDGKTIESLIRQIPRLIKQLDTLYSEIFNLKGYRLYGASLLLMYDGDANKSNSKRKKAANVKVNLIDFARCVTKEDAMECMDKFRIPPKSPNIEDKGFLRGVKSLRFYLLLIWNYLTSDMPLIFDEVEMNDMISEEADSNSFTSATGSKINFNSKWDWLDEFDKEDEEMYNDPNSKLRQKWRKYELIFDAEPRYNDDAQVSD',\n",
       " 'YDR018C': 'MKHSQKYRRYGIYEKTGNPFIKGLQRLLIACLFISGSLSIVVFQICLQVLLPWSKIRFQNGINQSKKAFIVLLCMILNMVAPSSLNVTFETSRPLKNSSNAKPCFRFKDRAIIIANHQMYADWIYLWWLSFVSNLGGNVYIILKKALQYIPLLGFGMRNFKFIFLSRNWQKDEKALTNSLVSMDLNARCKGPLTNYKSCYSKTNESIAAYNLIMFPEGTNLSLKTREKSEAFCQRAHLDHVQLRHLLLPHSKGLKFAVEKLAPSLDAIYDVTIGYSPALRTEYVGTKFTLKKIFLMGVYPEKVDFYIREFRVNEIPLQDDEVFFNWLLGVWKEKDQLLEDYYNTGQFKSNAKNDNQSIVVTTQTTGFQHETLTPRILSYYGFFAFLILVFVMKKNH',\n",
       " 'YDR019C': 'MSIIKKIVFKRFNSTLKKTALHDLHVSLGGTMVPYAGYSMPVLYKGQTHIESHNWTRTNAGLFDVSHMLQSKLSGPHSVKFLQRVTPTDFNALPVGSGTLSVLLNPQGGVVDDTIITKENDDNEFYIVTNAGCAERDTEFFHDELQNGSTLDCQWKIIEGRSLLALQGPKAKDVLEPLLSKTAPGKDLKELFFGQRHEFALKDGSLVQIARGGYTGEDGFEISIANEKAVEFAEQLLANPVMKPIGLAARDSLRLEAGMCLYGHELDESITPVEAALNWVISKSRRDLVDQKYWFNGYAKIMDQLNNKTYSKVRVGFKYLKKGPAARNGVKIFLPDAETEVGLVTSGSASPTLNNINIGQAYVQKGYHKKGTKLLVQVRNKFYPIELAKMPLVPTHYYKQ',\n",
       " 'YDR020C': 'MDRKAVEEKRIVISIGGGHATGVGAIALDLQNTFKSLYNSINIRVINLDNMIEGNIKSYNNNDYDFDNILNLVYEKHAVTSQNDMIQHDYEDPIDLIIVCGCYALYDKRINEISQLKVFLDSDADKRLISLIKKKNVGSNEQLAQLITEYMDHLRPEMQQYIEPTRTFADLIIPSTNENLGRAVLVDGIVKAIEDTKSQIEGNNTNNKIRPRLWDFEAETMDLEKDRYYDLS',\n",
       " 'YDR021W': 'MSFDREEDQKLKFKTSKKLKVSSTFESMNLKDDLLRGIYSYGFEAPSSIQSRAITQIISGKDVIAQAQSGTGKTATFTIGLLQAIDLRKKDLQALILSPTRELASQIGQVVKNLGDYMNVNAFAITGGKTLKDDLKKMQKHGCQAVSGTPGRVLDMIKKQMLQTRNVQMLVLDEADELLSETLGFKQQIYDIFAKLPKNCQVVVVSATMNKDILEVTRKFMNDPVKILVKRDEISLEGIKQYVVNVDKEEWKFDTLCDIYDSLTITQCVIFCNTKKKVDWLSQRLIQSNFAVVSMHGDMKQEERDKVMNDFRTGHSRVLISTDVWARGIDVQQVSLVINYDLPEIIENYIHRIGRSGRFGRKGVAINFITKADLAKLREIEKFYSIKINPMPANFAELS',\n",
       " 'YDR022C': 'MNVTVTVYDKNVKYRLEENIKNNKGPSNDDQPAYNNESKSTDGSDYAMFPTNIKYIFEDNNDELVDSSDAALTAGIDKVGDELENVIIVQLDESGSLEDITLISDQYELLSHRTNSLSLEENQMRTLSSHGDDKSNDEEEELSVDSDRFRVDSDIELDVISQFCDLSPFLRDLSLNDLIKLYVTQNEQLQMLSNSV',\n",
       " 'YDR023W': 'MLDINQFIEDKGGNPELIRQSQKARNASVEIVDEIISDYKDWVKTRFELDELNKKFNKLQKDIGLKFKNKEDASGLLAEKEKLTQQKKELTEKEQQEDKDLKKKVFQVGNIVHPSVVVSNDEENNELVRTWKPEDLEAVGPIASVTGKPASLSHHEILLRLDGYDPDRGVKICGHRGYFFRNYGVFLNQALINYGLQFLAAKGYIPLQAPVMMNKELMSKTAQLSEFDEELYKVIDGEDEKYLIATSEQPISAYHSGEWFEKPQEQLPIHYVGYSSCFRREAGSHGKDAWGVFRVHAFEKIEQFVITEPEKSWEEFEKMISYSEEFYKSLKLPYRIVGIVSGELNNAAAKKYDLEAWFPYQKEYKELVSCSNCTDYQSRNLEIRCGIKKMGDREKKYVHCLNSTLAATQRALCCILENYQTEDGLVVPEVLRKYIPGEPEFLPFVNELPKNSTSSKDKKKKN',\n",
       " 'YDR025W': 'MSTELTVQSERAFQKQPHIFNNPKVKTSKRTKRWYKNAGLGFKTPKTAIEGSYIDKKCPFTGLVSIRGKILTGTVVSTKMHRTIVIRRAYLHYIPKYNRYEKRHKNVPVHVSPAFRVQVGDIVTVGQCRPISKTVRFNVVKVSAAAGKANKQFAKF',\n",
       " 'YDR026C': 'MDSVSNLKSTNFQNNNDPKESVEEAVLRYVGVDLKNHIKKTKKKLKKQKKRKHGSKMSHEDEDTDMDWYLKTSGSKDLRKVDDIEPNSVAVAAVAAAYNSSMREKDKRSCHKKSSNSRSERKKHRKRKSSKERKAKIKMVLDPQLTTLDDGITTTAFLPDDLIAETAFDKYVDTEKAYLAKHPSKSLEVNEDDKENNFNNNSSTLVRIYTDLEGIPNDGSYIKRTPKIPEKDVKSDDLILAPEENNGDTALLRSDIVKASVIDGAITKSIGKKFTPSEENALDQFIEEYMKIRGLDRRQMCERIWSTDGVIRDGFWANISKVLPYRTRSSIYKHIRRKYHIFEQRGKWTPEEDQELARLCLEKEGHWTEVGKLLGRMPEDCRDRWRNYMKCGSKRGSKRWSKEEEELLTTVVNEMIEEAHQYQRMKALEAANKNDRYNQMYSRGPKGKRISDNPTFKDMINWTVVSERMSGTRSRIQCRYKWNKLVTDEAARSMLSIPVSERKWLLERLKQLPKTSYSNIDWNSIATYKPGYPRTGLELRLCYEQMREKIHDFKGRSTAEIIDSLLEQIN',\n",
       " 'YDR027C': 'MSISETPHNKSQGLQKAAGRPKIVVPEGSPSRNSDSGSFTIEGDTSLNDDLLSISGSVTPRARRSSRLSLDSITPRRSFDSRTLSVANSRSFGFENETHSGSMDFSPLGNNSIYEIVMNTRRKNWLNYPTVADIPQVSLSKNDLDDHWKTHVIEYVKNIKSDYQIFQSTNNIRNMNQMEQLKELREGENMHEESFEANLRQGDAELINSIPDFYFSDKFQLDNPRTFHKVLDAIDLFLTKLDMKRQAERDEAFSELRDRLNDFLDIVETLLVTEISKSSHKFFHALSEVDNIQKRALDTMSELKELAQNIKTIDAENIRKKISHLEMIFKRKNVEKLEQGLLQAKLVLNKTDECKSMYEENKLDNCLELIKSIDYLIKGDDSINEDVQSWTRCWPYKLSNLRTIPALSATREFLTNMKIEIGGKFSLQLSILLIDDLRSFCKSIKPKETLHRIQTGSNDKKQTIFTDNFSSKITELIVRLNRCEELTSAFDLYREKSITELKSIIKIYLPTENAHADNNHDEKHLNNGSTSGSKLSRLIKEQTPAEFQSMLVNIFTHALEALRRLYGHQKLLLDISLNELASVKSPNENQHNMITQLDIRTGINEIIRIIQLRTGKIIAVRRELNLSLRYDYFLKFYAICVIFIQECEVLSGEFLTKYLSNVLASQIKHYANAQSSKNYRNIKKKIDAEEWIPYIVDSSIQSDVNDIVSSIDIDPLSWTTILDMVGGSHDCENGRSEDKEKDEGNETYQGHRKSVVVGDKTFVASSSLLATIEVIKELMVLSINLPSIYLSNFEKLCYDALQYYNSSAMASVTQPGNSLLKTGRNLSIMGESLDCLAEFVIIVQRFYQRLSNSNRDFEPFDASHYTTLLGQFQASSNKIYMANAPPPPV',\n",
       " 'YDR028C': 'MSTNLANYFAGKKDIENEHVNRNASHESNSKSDVKISGNDNDNDEDMGPSVSMAVQAKNDDDFHKSTFNLKRTRSMGLLDEYIDPTKKLLGRSDDLYDNDNEYYDNSSNNSSSNSSDDDYDDGYQEHSTSVSPPPADNDSYLIPQDDNDVVVEPERHVDYLSHEWKESEISNSWKYIILKKKKRDVDLVNAARLENASWRTWAKARNNLKTVSPEVVNWSKDSDVTWLYGPIVRDSEGNAQSEEEHDLERGYGSDDENSKRISMPTKNSKSIAAAPKPILKKRTVTEIIEDNALWKLNEARKHMTEMKHASVIMDPNGNKNVHDDFDALAAQVNAQYYHYPKESNSSVSLKSQHSDKKDNSTIPNPVGENSNGGGDKGEEDLHLKSALHVQNNRSTAQSNKSILENSTNDRKANLDQNLNSPDNNRFPSSTSSSNRDNENNSMGLSSILTSNPSEKSNKPTKNRHIHFNDRVEQCMALRYPASQSEDDESDDENKQYVDVNNNANVTTINNNRTPLLAIQHKSIPINSATEHLNKNTSDDDTSSQSSSSSHSDDEEHGGLYINARFSRRSDSGVHSPITDNSSVASSTTSRAHVRPIIKLLPDTTLNYGSDEESDNGEFNGYGNAVSHNVNTSRGYDYIYDYNSVYTGDTSSFLPVDSCDIVDVPEGMDLQTAIADDNASNYEFNNAVESKEKHVPQLHKASANNTTRQHGSHMLLYDDDNYSSSSDSEQQFIEDSQYNSSDDEEEEDDDDQEVDDNHDEGLSLRRTLSLGKSGSTNSLYDLAQPSLSSATPQQKNPTNFTGGKTDVDKDAQLAVRPYPLKRNSSSGNFIFNSDSEEESSSEEEQRPLPANSQLVNRSVLKGSVTPANISSQKKKALPKQPKASDSSQSFRIVNNTPSPAEVGASDVAIEGYFSPRNESIKSVVSGGNMMDHQDHSEMDTLAKGFENCHINNASKLKDKKVDSVQTTRKEASLTDSSNESLHKVVQNARGMASKYLHSWKKSDVKPQENGNDSS',\n",
       " 'YDR029W': 'MSKYYILIELMNDKKNTNSSCDIFSFYLNFSDNPFSSFRLKSRLLYGIFSCFLLFYSLKDLIGVFKQKYLYLSILLLWLLVLLFCLAKGLSHNLRADSFLQYPL',\n",
       " 'YDR030C': 'MDPFLEFRVGNISLNEFYRRTIQSEFERILEDPLSNMKNYRFSKQSNYSTKEKTPLSIGVNCLDIDDTGQVLLGGGDDGSLSIWGLDESLHRNDEGEQELINKRLNYIKRQPHQSDDEPAQIMGYKNKRTRINDNNTMRLVHSFQTQRNKYRMYRQSSAAVPVQRSHISNKTDSPIGFSETLSETDSEASISHHKYGITTLKWYKADNGMFFTGSNDKTVKIWDTNRFEAVQDINLGYKINQIDNNVVDDSSLLVVASEDYYPRLIDLRTMNSGVTALGMGNQTRMQSEILCCKFNPVREQIIACGDMEGGVKLWDLRMRNRLYSELKRNKNRFKTINNDDNDDQSDVYFSSNQSKAHLRCCSDIVWNSEGSELCSVGMDGKLNVWRPFTEILQPEGLASYSQLGTQDLSRIKYKKRVSRRLLWFDKFLLCITDNGEVEIYNTEEKKLWNKLEYPMVNQVKKNQASHCQFSSMIVQTNIMNSVGLKLFFGTNNNTVSDGGSIFECS',\n",
       " 'YDR031W': 'MSDILDEIVIEDVVANCPQEFLQYHKCIRDNEENPGKCKDGRMILSTCIREKVPSVKSIMSECSEPMKKYDQCIRDNMGTRTINENCLGFLQDLRKCAELQVKNKNIKPSINGVNLELIKD',\n",
       " 'YDR032C': 'MPRVAIIIYTLYGHVAATAEAEKKGIEAAGGSADIYQVEETLSPEVVKALGGAPKPDYPIATQDTLTEYDAFLFGIPTRFGNFPAQWKAFWDRTGGLWAKGALHGKVAGCFVSTGTGGGNEATIMNSLSTLAHHGIIFVPLGYKNVFAELTNMDEVHGGSPWGAGTIAGSDGSRSPSALELQVHEIQGKTFYETVAKF',\n",
       " 'YDR033W': 'MSTFETLIKRGGNEAIKINPPTGADFHITSRGSDWFWTCFCCYLLFGLILTFLMFRKPVNDRFFYLTGIAPNFFMCIAYFTMASNLGWIPVKAKYNHVQTSTQKEHPGYRQIFYSRFVGWFLALPWPIIQICMLAGTPFWQMAFNVCITEFFTVCWLIAACVHSTYKWGYYTIGLGAAIVVSISVMTTSYNLVKQRDNDIRLTFLVFFSIIMFLWIIAYPTCFGITDGGNVLQPDSAGIFYGIIDLILMCFIPTLLVPIANHFGADKLGYHFGPSDAEAVMAPKAPVASPRPAATPNLSKDKKKKSKKSKKSKKSKKSEE',\n",
       " 'YDR034C': 'MFESVNLDENSPEDRELAKVLSPPGSYLSPASLDSGSSFTNSGTSTSCFEPKNNLPSLSFLNARAGSLGGIFNHKQMTSPSNSNIGGENVESTTSSNDGSNENAGHPTTSEQDQNADHPTISQADDNGHSSLTPNPAVTSTVTDKKGNTVKRKYSRNGCSECKRRRMKCDETKPTCWQCARLNRQCVYVLNPKNKKRRTSNAQRVKEFRKHSTSLDNDHNNARKRQHSSCKAEKKKKVRQNLSEDTTDPKPITDNGKNVPLDEIESLEIPNLDLTTTMNGYDVNLLMQNLNDMVNMKLHDSYLLNEELKGLDLPDLDIPELLPASNVNSSVPISFLVNNVITFNTKLSSFKLGGIHDKYLKIFYYDCLDSIAPFFQNQGNPLRDILLSFAKNEAYLLSSILATGASIAYRKSNNLEDERNYCAYLSHCLSLLGEQFKNESNVLNRIEPIILTVIMLAWDCIYSMNSQWRSHLKGVTDLFKKINAGNSSKVLNVAKCWFKVMETFASISTVFGGSLIDNNDLDAIFDPYDYQYVDSLKFLNIMTPLNEFNLLRGHKEDFDLVIKEVFKSLNTIRSTEKNYFSKEEGLFTKKLDYLLLSSQTSSEKSKDQISYFNTQKILVEIDKQLDYEFIDKSGIIPSDNQSHPRISNIHDNAIDMVTLKNGEEVAISWYDISHQTQVLSFLLIVLLKLLGMPKESSTIQQVVKKIMSFFKFLDSDSPPQNSRTCYSNFAVLIAGLNAMDEETRAIVKRYYKINGGKFQKLTEHNLNRLEKVWYGKNQNYRLEEQDVLTW',\n",
       " 'YDR034C-D': 'MESQQLSQNSPNLHGSAYASVTSKEVPSNQDPLAVSASNLPEFDRDSTKVNSQQETTPGTSAVPENHHHVSPQPASVPPPQNGQYQQHGMMTPNKAMASNWAHYQQPSMMTCSHYQTSPAYYQPDPHYPLPQYIPPLSTSSPDPIDLKNQHSEIPQAKTKVGNNVLPPHTLTSEENFSTWVKFYIRFLKNSNLGDIIPNDQGEIKRQMTYEEHAYIYNTFQAFAPFHLLPTWVKQILEINYADILTVLCKSVSKMQTNNQELKDWIALANLEYDGSTSADTFEITVSTIIQRLKENNINVSDRLACQLILKGLSGDFKYLRNQYRTKTNMKLSQLFAEIQLIYDENKIMNLNKPSQYKQHSEYKNVSRTSPNTTNTKVTTRNYQRTNSSKPRAAKAHNIATSSKFSRVNNDHINESTVSSQYLSDDNELSLGQQQKESKPTHTIDSNDELPDHLLIDSGASQTLVRSAHYLHHATPNSEINIVDAQKQDIPINAIGNLHFNFQNGTKTSIKALHTPNIAYDLLSLSELANQNITACFTRNTLERSDGTVLAPIVKHGDFYWLSKKYLIPSHISKLTINNVNKSKSVNKYPYPLIHRMLGHANFRSIQKSLKKNAVTYLKESDIEWSNASTYQCPDCLIGKSTKHRHVKGSRLKYQESYEPFQYLHTDIFGPVHHLPKSAPSYFISFTDEKTRFQWVYPLHDRREESILNVFTSILAFIKNQFNARVLVIQMDRGSEYTNKTLHKFFTNRGITACYTTTADSRAHGVAERLNRTLLNDCRTLLHCSGLPNHLWFSAVEFSTIIRNSLVSPKNDKSARQHAGLAGLDITTILPFGQPVIVNNHNPDSKIHPRGIPGYALHPSRNSYGYIIYLPSLKKTVDTTNYVILQDKQSKLDQFNYDTLTFDDDLNRLTAHNQSFIEKNETEQSYDQNTESDHDYQSEIEINSDPLVNDFSSQSINPLQLDKEPVQKVRAPKEVDADISEYNILPSTIRSRTPHIINKESTEMGGTIESDTTSPRHSSTFTARNQKRPGSPNDMIDLTSQDRVNYGLENIKTTRLGGTEEPYIQRNSDTNIKYRTTNSTPSIDDRSSNSESTTPIISIETKAACDNTPSIDTDPPEYRSSDHATPNIMPDKSSKNVTADSILDDLPLPDLTNKSPTDTSDVSKDIPHIHSRQTNSSLGGMDDSNVLTTTKSKKRSLEDNETEIEVSRDTWNNKNMRSLEPPRSKKRINLIAAIKGVKSIKPVRTTLRYDEAITYNEDNKEKDRYIEAYHKEINQLLRMNTWDTNKYYDRNDIDPKKVINSMFIFNKKRDGTHKARFVARGDIQHPDTYDSDMQSNTVHHYALMTSLSIALDNDYYITQLDISSAYLYADIKEELYIRPPPHLGLNDKLLRLRKSLYGLKQSGANWYETIKSYLINCCDMQEVRGWSCVFKNSQVTICLFVDDMILFSKDLNANKKIITTLKKQYDTKIINLGEGDNEIQYDILGLEIKYQRSKYMKLGMEKSLTEKLPKLNVPLNPKGKKLRAPGQPGHYIDQDELEIDEDEYKEKVHEMQKLIGLASYVGYKFRFDLLYYINTLAQHILFPSRQVLDMTYELIQFMWDTRDKQLIWHKNKPTKPDNKLVAISDASYGNQPYYKSQIGNIFLLNGKVIGGKSTKASLTCTSTTEAEIHAVSEAIPLLNNLSHLVQELNKKPIIKGLLTDSRSTISIIKSTNEEKFRNRFFGTKAMRLRDEVSGNNLYVYYIETKKNIADVMTKPLPIKTFKLLTNKWIH',\n",
       " 'YDR034C-C': 'MESQQLSQNSPNLHGSAYASVTSKEVPSNQDPLAVSASNLPEFDRDSTKVNSQQETTPGTSAVPENHHHVSPQPASVPPPQNGQYQQHGMMTPNKAMASNWAHYQQPSMMTCSHYQTSPAYYQPDPHYPLPQYIPPLSTSSPDPIDLKNQHSEIPQAKTKVGNNVLPPHTLTSEENFSTWVKFYIRFLKNSNLGDIIPNDQGEIKRQMTYEEHAYIYNTFQAFAPFHLLPTWVKQILEINYADILTVLCKSVSKMQTNNQELKDWIALANLEYDGSTSADTFEITVSTIIQRLKENNINVSDRLACQLILKGLSGDFKYLRNQYRTKTNMKLSQLFAEIQLIYDENKIMNLNKPSQYKQHSEYKNVSRTSPNTTNTKVTTRNYQRTNSSKPRAAKAHNIATSSKFSRVNNDHINESTVSSQYLSDDNELSLRPATERI',\n",
       " 'YDR034C-A': 'MESIFLHANITIIPHSVLYVSLSYYIINPCVSVSTNLDDYFSSFVSSSNTVYDNILVT',\n",
       " 'YDR034W-B': 'MRHHQNMHYAPQQQPVYVQQPPPRRESGGCCRTCCHFLCCLCLINLCCDVF',\n",
       " 'YDR035W': 'MFIKNDHAGDRKRLEDWRIKGYDPLTPPDLLQHEFPISAKGEENIIKARDSVCDILNGKDDRLVIVIGPCSLHDPKAAYDYADRLAKISEKLSKDLLIIMRAYLEKPRTTVGWKGLINDPDMNNSFQINKGLRISREMFIKLVEKLPIAGEMLDTISPQFLSDCFSLGAIGARTTESQLHRELASGLSFPIGFKNGTDGGLQVAIDAMRAAAHEHYFLSVTKPGVTAIVGTEGNKDTFLILRGGKNGTNFDKESVQNTKKQLEKAGLTDDSQKRIMIDCSHGNSNKDFKNQPKVAKCIYDQLTEGENSLCGVMIESNINEGRQDIPKEGGREGLKYGCSVTDACIGWESTEQVLELLAEGVRNRRKALKK',\n",
       " 'YDR036C': 'MLRNTLKCAQLSSKYGFKTTTRTFMTTQPQLNVTDAPPVLFTVQDTARVITLNRPKKLNALNAEMSESMFKTLNEYAKSDTTNLVILKSSNRPRSFCAGGDVATVAIFNFNKEFAKSIKFFTDEYSLNFQIATYLKPIVTFMDGITMGGGVGLSIHTPFRIATENTKWAMPEMDIGFFPDVGSTFALPRIVTLANSNSQMALYLCLTGEVVTGADAYMLGLASHYVSSENLDALQKRLGEISPPFNNDPQSAYFFGMVNESIDEFVSPLPKDYVFKYSNEKLNVIEACFNLSKNGTIEDIMNNLRQYEGSAEGKAFAQEIKTKLLTKSPSSLQIALRLVQENSRDHIESAIKRDLYTAANMCMNQDSLVEFSEATKHKLIDKQRVPYPWTKKEQLFVSQLTSITSPKPSLPMSLLRNTSNVTWTQYPYHSKYQLPTEQEIAAYIEKRTNDDTGAKVTEREVLNHFANVIPSRRGKLGIQSLCKIVCERKCEEVNDGLRWK',\n",
       " 'YDR037W': 'MSQQDNVKAAAEGVANLHLDEATGEMVSKSELKKRIKQRQVEAKKAAKKAAAQPKPASKKKTDLFADLDPSQYFETRSRQIQELRKTHEPNPYPHKFHVSISNPEFLAKYAHLKKGETLPEEKVSIAGRIHAKRESGSKLKFYVLHGDGVEVQLMSQLQDYCDPDSYEKDHDLLKRGDIVGVEGYVGRTQPKKGGEGEVSVFVSRVQLLTPCLHMLPADHFGFKDQETRYRKRYLDLIMNKDARNRFITRSEIIRYIRRFLDQRKFIEVETPMMNVIAGGATAKPFITHHNDLDMDMYMRIAPELFLKQLVVGGLDRVYEIGRQFRNEGIDMTHNPEFTTCEFYQAYADVYDLMDMTELMFSEMVKEITGSYIIKYHPDPADPAKELELNFSRPWKRINMIEELEKVFNVKFPSGDQLHTAETGEFLKKILVDNKLECPPPLTNARMLDKLVGELEDTCINPTFIFGHPQMMSPLAKYSRDQPGLCERFEVFVATKEICNAYTELNDPFDQRARFEEQARQKDQGDDEAQLVDETFCNALEYGLPPTGGWGCGIDRLAMFLTDSNTIREVLLFPTLKPDVLREEVKKEEEN',\n",
       " 'YDR038C': 'MSEGTVKENNNEEFNAYHTLTTEEAAEFIGTSLTEGLTQDESLRRLKAVGENTLGDDTKIDYKAMVLHQVCNAMIMVLVISMAISFAVRDWITGGVISFVIAVNVLIGLVQEYKATKTMNSLKNLSSPNAHVIRNGKSETINSKDVVPGDICLVKVGDTIPADLRLIETKNFDTDESLLTGESLPVSKDANLVFGKEEETSVGDRLNLAFSSSAVVKGRAKGIVIKTALNSEIGKIAKSLQGDSGLISRDPSKSWLQNTWISTKKVTGAFLGTNVGTPLHRKLSKLAVLLFWIAVLFAIIVMASQKFDVDKRVAIYAICVALSMIPSSLVVVLTITMSVGAAVMVSRNVIVRKLDSLEALGAVNDICSDKTGTLTQGKMLARQIWIPRFGTITISNSDDPFNPNEGNVSLIPRFSPYEYSHNEDGDVGILQNFKDRLYEKDLPEDIDMDLFQKWLETATLANIATVFKDDATDCWKAHGDPTEIAIQVFATKMDLPHNALTGEKSTNQSNENDQSSLSQHNEKPGSAQFEHIAEFPFDSTVKRMSSVYYNNHNETYNIYGKGAFESIISCCSSWYGKDGVKITPLTDCDVETIRKNVYSLSNEGLRVLGFASKSFTKDQVNDDQLKNITSNRATAESDLVFLGLIGIYDPPRNETAGAVKKFHQAGINVHMLTGDFVGTAKAIAQEVGILPTNLYHYSQEIVDSMVMTGSQFDGLSEEEVDDLPVLPLVIARCSPQTKVRMIEALHRRKKFCAMTGDGVNDSPSLKMANVGIAMGINGSDVSKEASDIVLSDDNFASILNAVEEGRRMTDNIQKFVLQLLAENVAQALYLIIGLVFRDENGKSVFPLSPVEVLWIIVVTSCFPAMGLGLEKAAPDLMDRPPNDSEVGIFTWEVIIDTFAYGIIMTGSCMASFTGSLYGINSGRLGHDCDGTYNSSCRDVYRSRSAAFATMTWCALILAWEVVDMRRSFFRMHPDTDSPVKEFFRSIWGNQFLFWSIIFGFVSAFPVVYIPVINDKVFLHKPIGAEWGLAIAFTIAFWIGAELYKCGKRRYFKTQRAHNSENDLERSSKHDPFEAYSTSTTLQSEINISVKH',\n",
       " 'YDR039C': 'MSEGTVKENNNEEFNAYHTLTTEEAAEFIGTSLTEGLTQDESLRRLKAVGENTLGDDTKIDYKAMVLHQVCNAMIMVLVISMAISFAVRDWITGGVISFVIAVNVLIGLVQEYKATKTMNSLKNLSSPNAHVIRNGKSETINSKDVVPGDICLVKVGDTIPADLRLIETKNFDTDESLLTGESLPVSKDANLVFGKEEETSVGDRLNLAFSSSAVVKGRAKGIVIKTALNSEIGKIAKSLQGDSGLISRDPSKSWLQNTWISTKKVTGAFLGTNVGTPLHRKLSKLAVLLFWIAVLFAIIVMASQKFDVDKRVAIYAICVALSMIPSSLVVVLTITMSVGAAVMVSRNVIVRKLDSLEALGAVNDICSDKTGTLTQGKMLARQIWIPRFGTITISNSDDPFNPNEGNVSLIPRFSPYEYSHNEDGDVGILQNFKDRLYEKDLPEDIDMDLFQKWLETATLANIATVFKDDATDCWKAHGDPTEIAIQVFATKMDLPHNALTGEKSTNQSNENDQSSLSQHNEKPGSAQFEHIAEFPFDSTVKRMSSVYYNNHNETYNIYGKGAFESIISCCSSWYGKDGVKITPLTDCDVETIRKNVYSLSNEGLRVLGFASKSFTKDQVNDDQLKNITSNRATAESDLVFLGLIGIYDPPRNETAGAVKKFHQAGINVHMLTGDFVGTAKAIAQEVGILPTNLYHYSQEIVDSMVMTGSQFDGLSEEEVDDLPVLPLVIARCSPQTKVRMIEALHRRKKFCAMTGDGVNDSPSLKMANVGIAMGINGSDVSKEASDIVLSDDNFASILNAVEEGRRMTDNIQKFVLQLLAENVAQALYLIIGLVFRDENGKSVFPLSPVEVLWIIVVTSCFPAMGLGLEKAAPDLMDRPPHDSEVGIFTWEVIIDTFAYGIIMTGSCMASFTGSLYGINSGRLGHDCDGTYNSSCRDVYRSRSAAFATMTWCALILAWEVVDMRRSFFRMHPDTDSPVKEFFRSIWGNQFLFWSIIFGFVSAFPVVYIPVINDKVFLHKPIGAEWGLAIAFTIAFWIGAELYKCGKRRYFKTQRAHNPENDLESNNKRDPFEAYSTSTTIHTEVNIGIKQ',\n",
       " 'YDR040C': 'MGEGTTKENNNAEFNAYHTLTAEEAAEFIGTSLTEGLTQDEFVHRLKTVGENTLGDDTKIDYKAMVLHQVCNAMIMVLLISMIISFAMHDWITGGVISFVIAVNVLIGLVQEYKATKTMNSLKNLSSPNAHVIRNGKSETINSKDVVPGDICLVKVGDTIPADLRLIETKNFDTDESLLTGESLPVSKDANLVFGKEEETSVGDRLNLAFSSSAVVKGRAKGIVIKTALNSEIGKIAKSLQGDSGLISRDPSKSWLQNTWISTKKVTGAFLGTNVGTPLHRKLSKLAVLLFWIAVLFAIIVMASQKFDVDKRVAIYAICVALSMIPSSLVVVLTITMSVGAAVMVSRNVIVRKLDSLEALGAVNDICSDKTGTLTQGKMLARQIWIPRFGTITISNSDDPFNPNEGNVSLIPRFSPYEYSHNEDGDVGILQNFKDRLYEKDLPEDIDMDLFQKWLETATLANIATVFKDDATDCWKAHGDPTEIAIQVFATKMDLPHNALTGEKSTNQSNENDQSSLSQHNEKPGSAQFEHIAEFPFDSTVKRMSSVYYNNHNETYNIYGKGAFESIISCCSSWYGKDGVKITPLTDCDVETIRKNVYSLSNEGLRVLGFASKSFTKDQVNDDQLKNITSNRATAESDLVFLGLIGIYDPPRNETAGAVKKFHQAGINVHMLTGDFVGTAKAIAQEVGILPTNLYHYSQEIVDSMVMTGSQFDGLSEEEVDDLPVLPLVIARCSPQTKVRMIEALHRRKKFCTMTGDGVNDSPSLKMANVGIAMGINGSDVSKEASDIVLSDDNFASILNAVEEGRRMTDNIQKFVLQLLAENVAQALYLIIGLVFRDENGKSVFPLSPVEVLWIIVVTSCFPAMGLGLEKAAPDLMDRPPHDSEVGIFTWEVIIDTFAYGIIMTGSCMASFTGSLYGINSGRLGHDCDGTYNSSCRDVYRSRSAAFATMTWCALILAWEVVDMRRSFFRMHPDTDSPVKEFFRSIWGNQFLFWSIIFGFVSAFPVVYIPVINDKVFLHKPIGAEWGLAIAFTIAFWIGAELYKCGKRRYFKTQRAHNPENDLESNNKRDPFEAYSTSTTIHTEVNIGIKQ',\n",
       " 'YDR041W': 'MLRNTIALRSFIRTQSTRPYPVNVEAVYYAPLKLPIKYGDLVADIQLRSYDNENLDFYSDFILRTGYYLGIPLTGPKPLPTRRERWTVIKSPFVHAKSKENFERHTHKRLIRAWDTNPEVLQMLIAYITKHSMAGVGMKCNFFQRSEISLDLGSDANGLEKSLSNIDELYSLRNDDKAQTSAVGQKVLELLDSPDFKKHLEKK',\n",
       " 'YDR042C': 'MEQILYNQSLKISTLSTFQGLKFLKVLIFSIFQQLFYNPVIQLFGTKASIMESDSTTLLESSWSTERNFLNMNSDSISATKNVFILFFTIFRLAEYIVYKLSDQKYRLHTSLNVQHFRWNSKKNTNRKRTLSFSKAYLPRTNILPIFVADGLKNRFSGPLPGKSLESFQKLNLLSDNNIKRYAVPGNKAVNTLLWQEQYS',\n",
       " 'YDR043C': 'MFYPYNYSNLNVSTMPALPGISAFDGMQDEENVEISPERKYQTLLPVLTNSHVVENELKHKLNKTAFDFRYQTKSENGSEKWEPKYLITPNLQTRSVSFDNSSVQYNSDSSEKSSLSQLTCNSSIIQQPENGIVSNDAYNKMANSRYSLKTRKQRTDPRNTLSDEEDLEQRRKYICKICARGFTTSGHLARHNRIHTGEKNHCCPYKGCTQRFSRHDNCLQHYRTHLKKGQ',\n",
       " 'YDR044W': 'MPAPQDPRNLPIRQQMEALIRRKQAEITQGLESIDTVKFHADTWTRGNDGGGGTSMVIQDGTTFEKGGVNVSVVYGQLSPAAVSAMKADHKNLRLPEDPKTGLPVTDGVKFFACGLSMVIHPVNPHAPTTHLNYRYFETWNQDGTPQTWWFGGGADLTPSYLYEEDGQLFHQLHKDALDKHDTALYPRFKKWCDEYFYITHRKETRGIGGIFFDDYDERDPQEILKMVEDCFDAFLPSYLTIVKRRKDMPYTKEEQQWQAIRRGRYVEFNLIYDRGTQFGLRTPGSRVESILMSLPEHASWLYNHHPAPGSREAKLLEVTTKPREWVK',\n",
       " 'YDR045C': 'MLSFCPSCNNMLLITSGDSGVYTLACRSCPYEFPIEGIEIYDRKKLPRKEVDDVLGGGWDNVDQTKTQCPNYDTCGGESAYFFQLQIRSADEPMTTFYKCVNCGHRWKEN',\n",
       " 'YDR046C': 'MSDPIVTSSKMEKSAEFEVTDSALYNNFNTSTTASLTPEIKEHSEESRNGLVHRFVDSFRRAESQRLEEDNDLEDGTKSMKSNNHLKKSMKSRHVVMMSLGTGIGTGLLVANAKGLSLAGPGSLVIGYVMVSFVTYFMVQAAGEMGVTYPTLPGNFNAYNSIFISKSFGFATTWLFCIQWLTVLPLELITSSMTVKYWNDTINADVFIVIFYVFLLFIHFFGVKAYGETEFIFNSCKILMVAGFIILSVVINCGGAGVDGYIGGKYWRDPGSFAEGSGATRFKGICYILVSAYFSFGGIELFVLSINEQSNPRKSTPVAAKRSVYRILIIYLLTMILIGFNVPHNNDQLMGSGGSATHASPYVLAASIHKVRVIPHIINAVILISVISVANSALYAAPRLMCSLAQQGYAPKFLNYIDREGRPLRALVVCSLVGVVGFVACSPQEEQAFTWLAAIAGLSELFTWSGIMLSHIRFRKAMKVQGRSLDEVGYKANTGIWGSYYGVFFNMLVFMAQFWVALSPIGNGGKCDAQAFFESYLAAPLWIFMYVGYMVYKRDFTFLNPLDKIDLDFHRRVYDPEIMRQEDEENKERLKNSSIFVRVYKFWC',\n",
       " 'YDR047W': 'MGNFPAPKNDLILRAAKGEKVERPPCWIMRQAGRYLPEYHEVKNNRDFFQTCRDAEIASEITIQPVRRYRGLIDAAIIFSDILVIPQAMGMRVEMLEGKGPHFPEPLRNPEDLQTVLDYKVDVLKELDWAFKAITMTRIKLDGEVPLFGFCGGPWTLMVYMTEGGGSRLFRFAKQWINMYPELSHKLLQKITDVAVEFLSQQVVAGAQILQVFESWGGELSSVDFDEFSLPYLRQIAERVPKRLQELGIMEQIPMIVFAKGSWYALDKLCCSGFDVVSLDWSWDPREAVKINKNRVTLQGNLDPGVMYGSKEVITKKVKQMIEAFGGGKSRYIVNFGHGTHPFMDPDVIKFFLEECHRIGSK',\n",
       " 'YDR049W': 'MNSQKASKMTGSLKKNDLYIFDLSEQLLNSLKLMSFDSTLREVEVEKTSDNDRNKESGDLQIARKKVTSNVMRCSVCQMSFDSRNEQKAHYQTDYHLMNVKRNLRGLDILSVEEFDALISKEHGIKSEDENSGGEQTSSDHEESEEASDRDPDLQTNNYMETIIENDLQKLGFQKDESDAISHINTQSPYIYFKSKYLQKNEVLAIYKSLFNKRSLSNPNEALTFWNSQENPMAISALFMVGGGHFAGAIVSHQRLNVKGNAHKKDETLIEQAVNFLEHKTFHRYTTRRKQGGSQSAMDNAKGKANSAGSALRRYNESALKTDIQGVLKDWEPYLSKCDNIFIRARNVSDKKIFTDNTVLNKGDERIKSFPFTTNRPTVLELKKAWCELSYLKILPKPEPLAVKETVQKLEVSNKKDEFKEKQEPLLEEIQTEEIISLLKKGRAPLLISFLKKNKLDGNFRLKPESKYSLTPTMLHYASQQGMKQMALILLSNIKCDPTIKNRLGRTAWDLNRNDDVRHAFQIARYNLGESFTNWDETHIGQPLSREQVDEINEKKKAIENEKAEKLIKLELEAAKEKQRFAKDAERGPGKKLTNIPSIQQQNLNSLTDEQRRRLMREQRARAAEERMKKKY',\n",
       " 'YDR050C': 'MARTFFVGGNFKLNGSKQSIKEIVERLNTASIPENVEVVICPPATYLDYSVSLVKKPQVTVGAQNAYLKASGAFTGENSVDQIKDVGAKWVILGHSERRSYFHEDDKFIADKTKFALGQGVGVILCIGETLEEKKAGKTLDVVERQLNAVLEEVKDWTNVVVAYEPVWAIGTGLAATPEDAQDIHASIRKFLASKLGDKAASELRILYGGSANGSNAVTFKDKADVDGFLVGGASLKPEFVDIINSRN',\n",
       " 'YDR051C': 'MCEENVHVSEDVAGSHGSFTNARPRLIVLIRHGESESNKNKEVNGYIPNHLISLTKTGQIQARQAGIDLLRVLNVDDHNLVEDLAKKYIKDESSRRTLPLKDYTRLSREKDTNIVFYTSPYRRARETLKGILDVIDEYNELNSGVRICEDMRYDPHGKQKHAFWPRGLNNTGGVYENNEDNICEGKPGKCYLQYRVKDEPRIREQDFGNFQKINSMQDVMKKRSTYGHFFFRFPHGESAADVYDRVASFQETLFRHFHDRQERRPRDVVVLVTHGIYSRVFLMKWFRWTYEEFESFTNVPNGSVMVMELDESINRYVLRTVLPKWTDCEGDLTT',\n",
       " 'YDR052C': 'MVSPTKMIIRSPLKETDTNLKHNNGIAASTTAAGHLNVFSNDNNCNNNNTTESFPKKRSLERLELQQQQHLHEKKRARIERARSIEGAVQVSKGTGLKNVEPRVTPKELLEWQTNWKKIMKRDSRIYFDITDDVEMNTYNKSKMDKRRDLLKRGFLTLGAQITQFFDTTVTIVITRRSVENIYLLKDTDILSRAKKNYMKVWSYEKAARFLKNLDVDLDHLSKTKSASLAAPTLSNLLHNEKLYGPTDRDPRTKRDDIHYFKYPHVYLYDLWQTWAPIITLEWKPQELTNLDELPYPILKIGSFGRCPFIGDRNYDESSYKRVVKRYSRDKANKKYALQLRALFQYHADTLLNTSSVNDQTKNLIFIPHTCNDSTKSFKKWMQEKAKNFEKTELKKTDDSAVQDVRNEHADQTDEKNSILLNETETKEPPLKEEKENKQSIAEESNKYPQRKELAATPKLNHPVLATFARQETEEVPDDLCTLKTKSRQAFEIKASGAHQSNDVATSFGNGLGPTRASVMSKNMKSLSRLMVDRKLGVKQTNGNNKNYTATIATTAETSKENRHRLDFNALKKDEAPSKETGKDSAVHLETNRKPQNFPKVATKSVSADSKVHNDIKITTTESPTASKKSTSTNVTLHFNAQTAQTAQPVKKETVKNSGYCENCRVKYESLEQHIVSEKHLSFAENDLNFEAIDSLIENLRFQI',\n",
       " 'YDR054C': 'MSSRKSTASSLLLRQYRELTDPKKAIPSFHIELEDDSNIFTWNIGVMVLNEDSIYHGGFFKAQMRFPEDFPFSPPQFRFTPAIYHPNVYRDGRLCISILHQSGDPMTDEPDAETWSPVQTVESVLISIVSLLEDPNINSPANVDAAVDYRKNPEQYKQRVKMEVERSKQDIPKGFIMPTSESAYISQSKLDEPESNKDMADNFWYDSDLDDDENGSVILQDDDYDDGNNHIPFEDDDVYNYNDNDDDDERIEFEDDDDDDDDSIDNDSVMDRKQPHKAEDESEDVEDVERVSKKI',\n",
       " 'YDR055W': 'MQLHSLIASTALLITSALAATSSSSSIPSSCTISSHATATAQSDLDKYSRCDTLVGNLTIGGGLKTGALANVKEINGSLTIFNATNLTSFAADSLESITDSLNLQSLTILTSASFGSLQSVDSIKLITLPAISSFTSNIKSANNIYISDTSLQSVDGFSALKKVNVFNVNNNKKLTSIKSPVETVSDSLQFSFNGNQTKITFDDLVWANNISLTDVHSVSFANLQKINSSLGFINNSISSLNFTKLNTIGQTFSIVSNDYLKNLSFSNLSTIGGALVVANNTGLQKIGGLDNLTTIGGTLEVVGNFTSLNLDSLKSVKGGADVESKSSNFSCNALKALQKKGGIKGESFVCKNGASSTSVKLSSTSKSQSSQTTAKVSKSSSKAEEKKFTSGDIKAAASASSVSSSGASSSSSKSSKGNAAIMAPIGQTTPLVGLLTAIIMSIM',\n",
       " 'YDR056C': 'MLVRLLRVILLASMVFCADILQLSYSDDAKDAIPLGTFEIDSTSDGNVTVTTVNIQDVEVSGEYCLNAQIEGKLDMPCFSYMKLRTPLKYDLIVDVDEDNEVKQVSLSYDETNDAITATVRYPEAGPTAPVTKLKKKTKTYADKKASKNKDGSTAQFEEDEEVKEVSWFQKNWKMLLLGLLIYNFVAGSAKKQQQGGAGADQKTE',\n",
       " 'YDR057W': 'MQAKIIYALSAISALIPLGSSLLAPIEDPIVSNKYLISYIDEDDWSDRILQNQSVMNSGYIVNMGDDLECFIQNASTQLNDVLEDSNEHSNSEKTALLTKTLNQGVKTIFDKLNERCIFYQAGFWIYEYCPGIEFVQFHGRVNTKTGEIVNRDESLVYRLGKPKANVEEREFELLYDDVGYYISEIIGSGDICDVTGAERMVEIQYVCGGSNSGPSTIQWVRETKICVYEAQVTIPELCNLELLAKNEDQKNASPILCRMPAKSKIGSNSIDLITKYEPIFLGSGIYFLRPFNTDERDKLMVTDNAMSNWDEITETYYQKFGNAINKMLSLRLVSLPNGHILQPGDSCVWLAEVVDMKDRFQTTLSLNILNSQRAEIFFNKTFTFNEDNGNFLSYKIGDHGESTELGQITHSNKADINTAEIRSDEYLINTDNELFLRISKEIAEVKELLNEIVSPHEMEVIFENMRNQPNNDFELALMNKLKSSLNDDNKVEQINNARMDDDESTSHTTRDIGEAGSQTTGNTESEVTNVAAGVFIEHDEL',\n",
       " 'YDR058C': 'MKNDNKANDIIIDSVKVPDSYKPPKNPIVFCHGLSGFDKLILIPSVFHLTNLISNSIVHNMAENFMQDDEDKSDNKYTNLLEIEYWIGVKKFLQSKGCTVITTKVPGFGSIEERAMALDAQLQKEVKKIESKDKRHSLNLIAHSMGGLDCRYLICNIKNRNYDILSLTTISTPHRGSEMADYVVDLFENLNALRVSQKILPICFYQLTTAYMKYFNLVTPNSPKVSYFSYGCSFVPKWYNVFCTPWKIVYERSKGCPNDGLVTINSSKWGEYRGTLKDMDHLDVINWKNKLQDDWSKFFRTTTVGEKVDILNFYLKITDDLARKGF',\n",
       " 'YDR059C': 'MSSSKRIAKELSDLGRDPPASCSAGPVGDDLYHWQASIMGPSDSPYAGGVFFLSIHFPTDYPFKPPKVNFTTKIYHPNINSSGNICLDILKDQWSPALTLSKVLLSICSLLTDANPDDPLVPEIAQIYKTDKAKYEATAKEWTKKYAV',\n",
       " 'YDR060W': 'MSENNGNPLDLSSLRNKISSKLRDNNSKKAKKTHKGKDVKASSNSKKVNEDIRREALALGASEEDLKLIQGLSDDDDAKSEQEFDAVADEDADDKGFKNDLQNFMKNVGFDQHKLEDVDDDDIEEESTSSKESKIPAQEKEHAQSNIASSTIEKTSQESIDNGSEQEENTVEEANLSSDQEPESESAEKEKKEEKDGGLITQTTIISSDKLIIPYDKPWYEIPLDPQVGQNDDVEELSKEQIEKLFERGKQTLEADNQTYYEEFTKDSSQAKFMSQILSDGTLNDKISAVTLLIQDSPLHNTKSLETLVSYCGKKSRNSALQSLNALKDLFLNGLLPNRKLRYFKNQPGLSMMLNKKTLAIFYFEDYLKKLFFRVLEVLEVLSHDPIIHVRLQILNHVFDLLTNQPEQEFNLLRLGVNKIGDIDSKVSSKASYLLLKLEQAHPNMKSIVIDAIVDIALRPNADYHTTYYSVITLNQTILKRSEDSVANKLVKTYFTLFEKFLINTDKDNTNGVVKSNSKSYEEKRKKNFKKGKHGGKSVKIEKTENEVLDEKNSKLFSALLTGINRAFPFAQIPASVYEVHMETLFKITHSSNFNTSIQALVLINQVTVKAKLNSDRYYRTLYESLFDPRLVNSSKQGIYLNLLYKSLKQDALNVERVEAFVKRILQVCSHWLNVGTITGFFFLLIQLAKTVPQIKNLLTNTPVDYEYESDAEEEQGDKDIKRKEYDGRKRDPKFANAEKSSLWEINNFINHFHPTVKTYANAYVTGETEQIAKPDLGLFTLSHFLDRFVYRSAKQTNTARGTSIMQPLFSGSRVNDSVLVKASDIMHDQGPVNTEDWLTKKVEDIKPEDKFFYQYFTTKKTADGKGKKSNKASNFDSDDEMDENEIWSALVKSRPDVEDDSDDSELDFAEDDFSDSTSDDEPKLDAIDDEDAKSEGSQESDQEEGLDEDIFYSFDGEQDNSDKKRSFAESSEEDESSEEEKEEEENKEVSAKRAKKKQRKNMLKSLPVFASADDYAQYLDQDSD',\n",
       " 'YDR061W': 'MSTNKFVVRITNALFKSSLASNSPPVYPKRIRHFEILPNEKWVIWGPGKGKFLDVLNNKYICEPPLSLRFGFLKESSNILPRIEQVAFKGVMPTAHLSARYEYFKDDYDQTCKQFIFDKASGSNAVSYKVETNNRQINMELYNALVENLNLSSLQDRWVMGLSNGQMRRARLARSILKEPDLLLIDDPFLGLDPAAIATISQFLAKYDSIEVSGGCPIVIGLRYQDTIPAWCTHICCVDEKNGILFEGPIEKLQSKMDETRSRALKELEQLKKASNSKEDISINDLICIHPMYGKKEHEIIKMPHLIELDGLSVSYKGEAVLENLHWKVQPGSKWHIRGDNGSGKSTLLSLLTAEHPQSWNSRVIDNGVPRRTGKTNYFDLNSKIGMSSPELHAIFLKNAGGRLNIRESVATGYHEASSNNYLPIWKRLDKNSQEIVNMYLKYFGLDKDADSVLFEQLSVSDQKLVLFVRSLIKMPQILILDEAFSGMEVEPMMRCHEFLEEWPGTVLVVAHVAEETPKCAHYLRLISPGEYEIGDMEN',\n",
       " 'YDR062W': 'MSTPANYTRVPLCEPEELPDDIQKENEYGTLDSPGHLYQVKSRHGKPLPEPVVDTPPYYISLLTYLNYLILIILGHVHDFLGMTFQKNKHLDLLEHDGLAPWFSNFESFYVRRIKMRIDDCFSRPTTGVPGRFIRCIDRISHNINEYFTYSGAVYPCMNLSSYNYLGFAQSKGQCTDAALESVDKYSIQSGGPRAQIGTTDLHIKAEKLVARFIGKEDALVFSMGYGTNANLFNAFLDKKCLVISDELNHTSIRTGVRLSGAAVRTFKHGDMVGLEKLIREQIVLGQPKTNRPWKKILICAEGLFSMEGTLCNLPKLVELKKKYKCYLFIDEAHSIGAMGPTGRGVCEIFGVDPKDVDILMGTFTKSFGAAGGYIAADQWIIDRLRLDLTTVSYSESMPAPVLAQTISSLQTISGEICPGQGTERLQRIAFNSRYLRLALQRLGFIVYGVADSPVIPLLLYCPSKMPAFSRMMLQRRIAVVVVAYPATPLIESRVRFCMSASLTKEDIDYLLRHVSEVGDKLNLKSNSGKSSYDGKRQRWDIEEVIRRTPEDCKDDKYFVN',\n",
       " 'YDR063W': 'MSNLYKIGTETRNKIKKFRTSTARTDSIKALSIKIEPKPSYEIIVDEDEQEELDEIEDLSELAEILPDNSPRFVLTAYPTTTKDGFKQTPLVLVYWKPMTVVSQEWKMLYAGALEMIREECGTFKLIEVSSGLEDDSDVEELREQLENC',\n",
       " 'YDR064W': 'MGRMHSAGKGISSSAIPYSRNAPAWFKLSSESVIEQIVKYARKGLTPSQIGVLLRDAHGVTQARVITGNKIMRILKSNGLAPEIPEDLYYLIKKAVSVRKHLERNRKDKDAKFRLILIESRIHRLARYYRTVAVLPPNWKYESATASALVN',\n",
       " 'YDR065W': 'MAQNFGKIPSHKSYVLSLYRTVLRNIPKCCHSYAFQYEIKKTLSIQLFKHKHDKSSWSVYTLLNEFSLLNNCLLEGKLQEIKNLMKPLKKMKKQLKTTKILNSLTSLGDVKTNDPEEVRRFHVLSAYIKRKQDLGLLPAYIPKTYQHKLLLPLALNEHACLKLFHIQQKLKNGPPSAGLSYTKEGRNQIWFVRSPINKGRQQSKKLGILIRKERKDSQKNIDNLNFCEINAAWALHEAIWEEYLESKKIIKVNLPKYLEYAANIPKSTKCNPSSQYQKVKEWVDPVREIMFELHSKSFQRVEYFNKYKEKLLKNGGQLAYFDKKSKEMYAKRLTLFRKMSKETLPYVTLFIEGRDLPSVLAKYGF',\n",
       " 'YDR066C': 'MQIITTTFIQKVILGSHQLHEQLSIVEARMIESAIVSMLTESFCENEQTLKYLARLLSPMSYMDVINARRGKKICGYPLCYKSAAENSSDGFFIHSMYCNNYHSKCSLYLMRQLSQTPLHERRGVHLTSYINLEFDDMYSVSLLEELVGSEVPIDTVKSLITSFKDLEFDDTYKNEPLPLDVYFGQLTTDEETCIE',\n",
       " 'YDR067C': 'MTLVTPLQFSTVQPNLYRGSYPREINLPFLRTLRLKYILSLTPEPLSTDPLMVKFCEENNIKTIHIKCQSERKADKTKPKIKRKKKTVPIEYDVVVRCVKFLIDKGHYPCYMHCTNGELIISLVVACMRKFSYWSTVSILNEFLVYNSSINIHERNFIENFNSEIEVDDLDIKDKVPWITVRYIARTATESKDELRVDDANASEKVARVSSVSNSLPKLKFHSM',\n",
       " 'YDR068W': 'MEFFYEEQVACIEDDKISNSHTKETGSTENTENNELQSRDDKTNEAFQKLEEEVNKRYEKTTSAFKKLVIEKDDGIEINLPISNETTETAQKYLKKLDENIHSVESLAQSYWSKMKTKNFWSGFSSFDNAAENDSNDKDENSKENEIAVGGNRTEAELRTLSKDKSVYLDNKMDLQLDPFDVDEKTEEICSILQGDKDISKLMNDIVPHKISYKDFWHIYFLQRNKILDKESKRKEILSKKEKETEEKEVEWDDEEEEEDDDKVEAVADNKSKGETKVAVSQEGLKDVSDHVGLANKDESKDDDDDDDWE',\n",
       " 'YDR069C': 'MEQNIISTIRDECIRHRSKYLTIAQLTAIAEAKINEFIITGKAKDQDLSSLLDKCIDILSIYKKNSKDIKNIISCKNKGAMISSNSVMIIQLNYVYYKVIHIIVTTNIPHLSEFAKIKLHKSTSDEGNGNNNNNEFQLMNIYNTLLETLLKDENIAKIKSFIKSSIKQTKLNHEQEECNLMRTGSYITSNQLNSLISSSANSASSQMEILLIDIRSRLEFNKSHIDTKNIICLEPISFKMSYSDHDLEKKSLITSPNSEIKMFQSRNLFKFIILYTDANEYNVKQQSVLLDILVNHSFEKPISDDFTKIFILESGFPGWLKSNYGRQVSSSFPSNNNIKDDSVYINGNTSGLSLQHLPKMSPSIRHSMDDSMKEMLVAPTPLNHLQQQQQQQSDNDHVLKRSSSFKKLFSNYTSPNPKNSNSNLYSISSLSISSSPSPLPLHSPDPVKGNSLPINYPETPHLWKNSETDFMTNQREQLNHNSFAHIAPINTKAITSPSRTATPKLQRFPQTISMNLNMNSNGHSSATSTIQPSCLSLSNNDSLDHTDVTPTSSHNYDLDFAVGLENLGNSCYMNCIIQCILGTHELTQIFLDDSYAKHININSKLGSKGILAKYFARLVHMMYKEQVDGSKKISISPIKFKLACGSVNSLFKTASQQDCQEFCQFLLDGLHEDLNQCGSNPPLKELSQEAEARREKLSLRIASSIEWERFLTTDFSVIVDLFQGQYASRLKCKVCSHTSTTYQPFTVLSIPIPKKNSRNNITIEDCFREFTKCENLEVDEQWLCPHCEKRQPSTKQLTITRLPRNLIVHLKRFDNLLNKNNDFVIYPFLLDLTPFWANDFDGVFPPGVNDDELPIRGQIPPFKYELYGVACHFGTLYGGHYTAYVKKGLKKGWLYFDDTKYKPVKNKADAINSNAYVLFYHRVYGV',\n",
       " 'YDR070C': 'MLRTTFLRTPRQLMRKSPRASFSIVTRAAFPHLKNNQDEAEKKEQGLFDSNKKRLDTLEHGKNPDYKQPGMEDLKKKGDDARIEQNRPDDGVY',\n",
       " 'YDR071C': 'MASSSSTLPLHMYIRPLIIEDLKQILNLESQGFPPNERASEEIISFRLINCPELCSGLFIREIEGKEVKKETLIGHIMGTKIPHEYITIESMGKLQVESSNHIGIHSVVIKPEYQKKNLATLLLTDYIQKLSNQEIGNKIVLIAHEPLIPFYERVGFKIIAENTNVAKDKNFAEQKWIDMERELIKEEYDN',\n",
       " 'YDR072C': 'MNVIFSLASFVKNMYNASLNQRNLISLPFNFMLNFAPVFIWLSIFKRAGLIPIRLRPDIHSKFAFFADQFLFGDYWHELTVQLPDNTSKLFFWSFISSSAFLLVFLICIPFAIWYYIYYIKHVNYNLLEWFANIFHYPCKRKQRPIQKRFRTIFIPFALPLFTFVILNIDHFFAYQSDANFTKTKDLLAWFSYVILHLTAPILTAVYLYVFQPPGTLKCFSFALGLQNIAGVLTHLLVPMASPWFTHLYGIDDTEHVNYTQEGFAAGLIRVDSHLGTHLNTKGFHMSPIVFGAVPSLHSAIAFQCFLFLVSRSTSLKHRFSNAGGFTMHNNDSSTFKLSEEDSEDEGDNSIPPTIGPNDLEMEPLGTVEPVDISNERSSSPSSSFTVSSNERSTGGGDGSIINSNGNKKPLQFVHLYDEDTNFTNKWIFKIVNDGFIPKFWAILYIILQWWATMYLDHHYRFDLFVGVLYAMTSFIIINWFVLQPKVLKKWIHIRLGDKVDTRNEARTFGMRVFCGTKMEWFFDPLA',\n",
       " 'YDR073W': 'MSSEIAYSNTNTNTENENRNTGAGVDVNTNANANANATANATANATANATAELNLPTVDEQRQYKVQLLLHINSILLARVIQMNNSLQNNLQNNINNSNNNNIIRIQQLISQFLKRVHANLQCISQINQGVPSAKPLILTPPQLANQQQPPQDILSKLYLLLARVFEIW',\n",
       " 'YDR074W': 'MTTTAQDNSPKKRQRIINCVTQLPYKIQLGESNDDWKISATTGNSALFSSLEYLQFDSTEYEQHVVGWTGEITRTERNLFTREAKEKPQDLDDDPLYLTKEQINGLTTTLQDHMKSDKEAKTDTTQTAPVTNNVHPVWLLRKNQSRWRNYAEKVIWPTFHYILNPSNEGEQEKNWWYDYVKFNEAYAQKIGEVYRKGDIIWIHDYYLLLLPQLLRMKFNDESIIIGYFHHAPWPSNEYFRCLPRRKQILDGLVGANRICFQNESFSRHFVSSCKRLLDATAKKSKNSSNSDQYQVSVYGGDVLVDSLPIGVNTTQILKDAFTKDIDSKVLSIKQAYQNKKIIIGRDRLDSVRGVVQKLRAFETFLAMYPEWRDQVVLIQVSSPTANRNSPQTIRLEQQVNELVNSINSEYGNLNFSPVQHYYMRIPKDVYLSLLRVADLCLITSVRDGMNTTALEYVTVKSHMSNFLCYGNPLILSEFSGSSNVLKDAIVVNPWDSVAVAKSINMALKLDKEEKSNLESKLWKEVPTIQDWTNKFLSSLKEQASSNDDMERKMTPALNRPVLLENYKQAKRRLFLFDYDGTLTPIVKDPAAAIPSARLYTILQKLCADPHNQIWIISGRDQKFLNKWLGGKLPQLGLSAEHGCFMKDVSCQDWVNLTEKVDMSWQVRVNEVMEEFTTRTPGSFIERKKVALTWHYRRTVPELGEFHAKELKEKLLSFTDDFDLEVMDGKANIEVRPRFVNKGEIVKRLVWHQHGKPQDMLKGISEKLPKDEMPDFVLCLGDDFTDEDMFRQLNTIETCWKEKYPDQKNQWGNYGFYPVTVGSASKKTVAKAHLTDPQQVLETLGLLVGDVSLFQSAGTVDLDSRGHVKNSESSLKSKLASKAYVMKRSASYTGAKV',\n",
       " 'YDR075W': 'MMDLDKIIASLRDGKHIPEETVFRLCLNSQELLMNEGNVTQVDTPVTICGDIHGQLHDLLTLFEKSGGVEKTRYIFLGDFVDRGFYSLESFLLLLCYKLRYPDRITLIRGNHETRQITKVYGFYDEVVRKYGNSNVWRYCCEVFDYLSLGAIINNSIFCVHGGLSPDMTTVDEIRTIDRKQEVPHEGAMCDLLWSDPEDVDTWSLSPRGAGFLFGKREVDQFLEKNNVELIARAHQLVMEGYKEMFDGGLVTVWSAPNYCYRCGNVAAVLKIDDDLNREYTIFEAVQAQNEVGNAIIPTKKSQMDYFL',\n",
       " 'YDR076W': 'MSLGIPLSQLIVESPKPLSSGITGLDEILNLGFQARSIYEIFGPPGIGKTNFGIQLVCNSLEGIQQSEINDDKILWIETFQEMPINILRERFQKFKIVEENVKRVRITKFGQLLYFFQNLFKLSQSVRYKLVIIDGFSQLVCDHLCTLSKRGGGMIDKTIHELKCRHLILIFTVMTKYTHSTGSTIIVLNDCMNTAFQSNEFESLEEYYEILDDGSNFFVNSNNERRKNNVHILKSALVANIAMGSKDSTWEVFLRDRIGLFRDWNEQVDETVFVKSKRVKASSSQSNEGCTTIKEMRINKRNFENLRIAIVFNLHGEDRKREGRNLKRSRSSDDRNYIVKFDFDKATGQLRDIIDLKPDTANIASFPTLSTSSSSCSQVFNNIDSNDNPLPNAEGKEEIIYDSEG',\n",
       " 'YDR077W': 'MKLSTVLLSAGLASTTLAQFSNSTSASSTDVTSSSSISTSSGSVTITSSEAPESDNGTSTAAPTETSTEAPTTAIPTNGTSTEAPTTAIPTNGTSTEAPTDTTTEAPTTALPTNGTSTEAPTDTTTEAPTTGLPTNGTTSAFPPTTSLPPSNTTTTPPYNPSTDYTTDYTVVTEYTTYCPEPTTFTTNGKTYTVTEPTTLTITDCPCTIEKPTTTSTTEYTVVTEYTTYCPEPTTFTTNGKTYTVTEPTTLTITDCPCTIEKSEAPESSVPVTESKGTTTKETGVTTKQTTANPSLTVSTVVPVSSSASSHSVVINSNGANVVVPGALGLAGVAMLFL',\n",
       " 'YDR078C': 'MSKDVIEYSKLFAKLVNTNDDTKLDDTIASFLYYMFPRELFIRAISLLESSDMFIYILDRVHNKEGNEHTSLIDVLVDEFYKGSSNSLLEYRLIVKDTNDGAPPILVDIAHWFCSCEEFCKYFHEALEKTDEKEELHDVLINEVDDHLQFSDDRFAQLDPHSLSKQWYFKFDKVCCSHLLAFSILLRSSINVLKFFTVNSNKVFVIAIDNIDEWLNLHINIVE',\n",
       " 'YDR079W': 'MGLFNNFKFKYTRAQLEIFRFSFCLLAPVAVMYYIGTDTDKKLNVPGFWPDPATLNQIPKEPYEIKAELARMKKERLEKRLRLEKKIQEEFGLDLEEEKEKIKRDLALKKG',\n",
       " 'YDR079C-A': 'MARARKGALVQCDPSIKALILQIDAKMSDIVLEELDDTHLLVNPSKVEFVKHELNRLLSKNIYNPMDEEENQ',\n",
       " 'YDR080W': 'MTTDNHQNDSVLDQQSGERTIDESNSISDENNVDNKREDVNVTSPTKSVSCISQAENGVASRTDESTITGSATDAETGDDDDDDDDDDDEDEDDEDEPPLLKYTRISQLPKNFFQRDSISSCLFGDTFFAFGTHSGILHLTTCAFEPIKTIKCHRSSILCINTDGKYFATGSIDGTVIIGSMDDPQNITQYDFKRPINSVALHSNFQASRMFVSGGMAGDVVLSQRNWLGNRIDIVLNKKKKKKTRKDDLSSDMKGPIMGIYTMGDLILWMDDDGITFCDVPTRSQLLNIPFPSRIFNVQDVRPDLFRPHVHFLESDRVVIGWGSNIWLFKVSFTKDSNSIKSGDSNSQSNNMSHFNPTTNIGSLLSSAASSFRGTPDKKVELECHFTVSMLITGLASFKDDQLLCLGFDIDIEEEATIDEDMKEGKNFSKRPENLLAKGNAPELKIVDLFNGDEIYNDEVIMKNYEKLSINDYHLGKHIDKTTPEYYLISSNDAIRVQELSLKDHFDWFMERKQYYKAWKIGKYVIGSEERFSIGLKFLNSLVTKKDWGTLVDHLNIIFEETLNSLDSNSYDVTQNVLKEWADIIEILITSGNIVEIAPLIPKKPALRKSVYDDVLHYFLANDMINKFHEYITKWDLKLFSVEDFEEELETRIEAASEPTASSKEEGSNITYRTELVHLYLKENKYTKAIPHLLKAKDLRALTIIKIQNLLPQYLDQIVDIILLPYKGEISHISKLSIFEIQTIFNKPIDLLFENRHTISVARIYEIFEHDCPKSFKKILFCYLIKFLDTDDSFMISPYENQLIELYSEYDRQSLLPFLQKHNNYNVESAIEVCSSKLGLYNELIYLWGKIGETKKALSLIIDELKNPQLAIDFVKNWGDSELWEFMINYSLDKPNFTKAILTCSDETSEIYLKVIRGMSDDLQIDNLQDIIKHIVQENSLSLEVRDNILVIINDETKKFANEFLKIRSQGKLFQVDESDIEINDDLNGVL',\n",
       " 'YDR081C': 'MLSIQQRYNICLMAERHPKWTQLELAKWAYETFQLPKIPSQGTISRLLARKSTYMNCKEHEKDANRLRKPNNLLVRKILQEWISQSLWNGIPITSPIIQDTAQAVWHRIPAEHREGNGSFSYKWISNFLSKMDVNISVLDEELPKTPKVWTFEERDVLKAYFSKIPPKDLFTLDEAFLSYNLPLDYAQYEASSIQRRIEVATVMLCSNLDGSEKLKPVVVGKYDSYKSFRNYFPNEPNDPVSQSMLGTKMAKKFDISYHSNRKAWLTSNLFHNWLVRWDKRLVAVNRKIWIVLDDSCCHRIINLRLQNIKLVYTSSNSKFLPFNWGVWDEFKTRYRIQQYQALIDLQNRISKNIQNKNKSERNECIPNGKKCLISFEQSQLTMSNAFKFIKKAWDDIPVDAIKANWKSSGLLPPEMIHLNENVSMAFKKNEVLESVLNRLCDEYYCVKKWEYEMLLDLNIENKNTNFLSTEELVESAIVEPCEPDFDTAPKGNEVHDDNFDVSVFANEDDNNQNHLSMSQASHNPDYNSNHSNNAIENTNNRGSNNNNNNNGSSNNINDNDSSVKYLQQNTVDNSTKTGNPGQPNISSMESQRNSSTTDLVVDGNYDVNFNGLLNDPYNTMKQPGPLDYNVSTLIDKPNLFLSPDLDLSTVGVDMQLPSSEYFSEVFSSAIRNNEKAASDQNKSTDELPSSTAMANSNSITTALLESRNQAQPFDVPHMNGLLSDTSKSGHSVNSSNAISQNSLNNFQHNSASVAEASSPSITPSPVAINSTGAPARSIISAPIDSNSSASSPSALEHLEGAVSGMSPSSTTILSNLQTNINIAKSLSTIMKHAESNEISLTKETINELNFNYLTLLKRIKKTRKQLNSESIKINSKNAQDHLETLLSGAAAAAATSANNLDLPTGGSNLPDSNNLHLPGNTGFF',\n",
       " 'YDR082W': 'MDKYGHIAHQEGDVCYYIPRLFKYNSYYSGTEDVRIFVGDLKYRMRVSLQICEKYYDRRLSMLFWKNHPLQQIHLIGCIIGLQFKWIGKQEYIFFQLDDCTSDSSLVGYTSDMRFLTCKVKKDSILSWGLNITDLIGLTLHVYGQASLNYQELQVEYLRLCYSLTEEIDHWKITMNMREQLDTPWSLSDFVIGELFTQEQEWTPETSQIEVVNPDFVGIGYKTPESKRNETTFIEQLQEERLKDELEIISPYNSTDTSNSVHSLSFRFVSSLKDFPETHFLNSGDQIDNGNDEQLKKLEYQSANLPVMIPNRTSAKSNLMLILLGLQMKEISNSDLYKLKEVRSVVTSLASFLFQQQNVGVMKSFDSLEKEAFRDLVNRLVSQGLIGLKDKTSETFDLLPLKNLFEYAEKRISVLMKLQCYTGTVQLSHVQEKLHLPYITTNGIVDVFKECLKRTKKQYPEVLKNWWIDLDPKNGMEDQNSGILLHLEYAAAYS',\n",
       " 'YDR083W': 'MALFNVEGWSIKTKTVAFDNKTNKSSKDKKKNNRKNGKLTREQKLKEETEAELKEQVEDIPSEGSVAKDIPKKNQEKSDQNETSKKRKHDEEAPLMQVKENIEKPTKKQLTPLQQKMMAKLTGSRFRWINEQLYTISSDEALKLIKEQPQLFDEYHDGFRSQVQAWPENPVDVFVDQIRYRCMKPVNAPGGLPGLKDSKEIVIADMGCGEAQLALEINNFFKNYNKKAKKYLKRRHKVHSFDLKKANERITVADIRNVPLPDESCTIVVFCLALMGTNFLDFIKEAYRILAPRGELWIAEIKSRFSDGKGNEFVDALKLMGFFHKKTFDENKMFTRFEFFKPPAEIIEERRQKLERRQKFIEVETEKEELEKKRRKIAEGKWLLKPCIYKRR',\n",
       " 'YDR084C': 'MDQARNFYNTILKSSHPLLLSFHLAGKAVPIVFYIIGSMFLNFTPQFITVVLLLSFDFYLTKNITGRKLVQLRWWYDSTDVNKDSNFTFESYKQYAPGPPINAIDSKLFWWSMYVTPVIWGVFAVLCLLRLKIFYLILVIVAMCLTAWNTYGFRCCDRWEPNSGQSDGQDTNNWFALPSVPGFENLSRLANIQSFFQRQ',\n",
       " 'YDR085C': 'MEGSYLSAQENQPIPERLIPRSNSTSNLFALSSTFSKLNVRNDADYNYSNPNKKRHIYSGEIDCRSVTAARKFPVRSCSMTAAQQRKRTALFTVRERNSYHEGFNNDQDYVSQYQKPQYTFGVYKELTPYQLQRSKMKRSFQFPNGEIYKPKLDGKCTHSLKKPELNSRDSSLFKFSEKKGRNLSKDFVGPHNGTSVIHIPPNDTGYGVNSLELNTSVPSTIKSSVSSTSPISAVNTLTSLPESQTDDDDGYENKTVTISYCFENTVNEKHGSHIEKLDLSTKEKTKPTTNSGLFDRKKKTILGTEKYRCIKSQSKLKLGSVLKKLWRTSGNSNTKHGKKDTKRRRIPIDDMVTHSDGNSEAENDIELMDANLDGIEFDDDETLMDTDSIFDDLLSKENDKYDLRRRQLEIRQKLHETSHNDDGKVSFRDTEKHNVNEGLIDKTIIEEFSKLGEYIIDTRNQPPPRSSKRPSLDDNESARYFYNISTDLRQSLSGPISLPMHVGNDMVNRLRNDWEYIRFEDRRNSLPDSSFDKVETPPKPIKKDVRFAKEVCLASTWSSNAYERANPEFIMNRHRLLWMMKVHPSMNSAMNEIKLELNSYKKNEMVVHENSKCFTHYLI',\n",
       " 'YDR086C': 'MARASEKGEEKKQSNNQVEKLVEAPVEFVREGTQFLAKCKKPDLKEYTKIVKAVGIGFIAVGIIGYAIKLIHIPIRYVIV',\n",
       " 'YDR087C': 'METSNFVKQLSSNNRKTRVNALEALKKYLTAKQFKENKQIEFNKLWKGLYYAMWFSDRPRPQQRLANELGELHGLYFDPKDNSTADELTTNDKAFIKFSRGFWKVMCFEWFNIDRYRLDKYLLLIRRVLFSQLKYLQSRNWDKKLVDEYIKKVLRWLPLSGSPKVYTGIPIHIVDILLDEWERLLKDGDEDDEDEENKEEEMRKIAESAKKTPLADVIAIFQDIVADYNNSKVLREKIKEDLFSDTRLVSWDILEGETQHNDSSNESEEEEEEEWKGF',\n",
       " 'YDR088C': 'MNNNSRNNENRSTINRNKRQLQQAKEKNENIHIPRYIRNQPWYYKDTPKEQEGKKPGNDDTSTAEGGEKSDYLVHHRQKAKGGALDIDNNSEPKIGMGIKDEFKLIRPQKMSVRDSHSLSFCRNCGEAGHKEKDCMEKPRKMQKLVPDLNSQKNNGTVLVRATDDDWDSRKDRWYGYSGKEYNELISKWERDKRNKIKGKDKSQTDETLWDTDEEIELMKLELYKDSVGSLKKDDADNSQLYRTSTRLREDKAAYLNDINSTESNYDPKSRLYKTETLGAVDEKSKMFRRHLTGEGLKLNELNQFARSHAKEMGIRDEIEDKEKVQHVLVANPTKYEYLKKKREQEETKQPKIVSIGDLEARKVDGTKQSEEQRNHLKDLYG',\n",
       " 'YDR089W': 'MKFEDRILNKSIPEWKFYNINYEKLKVAIKKVTAYDYDNPNDSGMEKLLNQCSVAFDQEFQNVNLFVSLKIKEISTRILSVESSIIDFSKGLNKTSRNRFNLRKLKIINAHVDDCNFELQLLSRFLIIQRIALRKLFKKLLNEFPQDSENPLTASEYVTSIRNSESLRNGHEGISFMKLDLDPYLLEVSLIVDVLHDLENKLEDATEPAVEQRSLNRSDESAHTSSSPEANNSSLPASPRSIPLLSNKKTSKMIDSSLEFDTALIDKAENLGRFLLSSEDIEGLKFMLLNIGFRIIDDSIISTSKEILDTTDNINSAGNKSIRSAKSFNDLQHTLSLSKQKNILPSAVQSNEKYVSISILDTVGNEGSPLLLTDDNINQHPNMIVSSTAEDTCIVMCHVGGLRNHVVTNDLLLRDVKNILSAMRSGNDTKNISALINSLDPSPISKIALEWIQSHRLKTIEPKLDFKRTRFISADNGDIYLIALDESITIGNVSTLPFPILEIKKLSRSSGLSQTAINEDNKFKQLMKSVVTNEFQCSLIPPDLTTWKICLELVHSNELQNDLFQLLLRDQYKLNSDDSLSPDEFFQLGKDRLEEEFDLTGPINNSQGSVDSGRRVRIHKKSKQSDNETKKKPIRYWNEFDEQEEDNLDNAFYIDTNGSRSTTDNEESLLLRNSPPDYGFILFSRNFINRTYDFCEKLRNLIRHDKKTSPDLFQNSKHPHCSSTNYGSVASFGSQSTSASYDDVQRYLQYQQQDIEDSQSIYEYRHDEVVTFLYLSALLTSCIMASVCLGIVLSLFRGQSNNEIDLEIQNILIAIIIISLLVSLILICACLLLLFSRFTLAPIWHYVGCFTMFFSVTGTVCYGMIEIFF',\n",
       " 'YDR090C': 'MISEKAATALATIATVCWCVQLIPQIIYNWKKKDCTGLPPLMMFLWVVSGIPFAIYFCVSKGNVILQVQPHLFMFFCSISFVQSCYYPPISMARSKIVMIVAAIIAADVGMEVGFILWLRPLYEKGVKWPDLIFGISASVLLAVGLLPPYFELAKRKGRVIGINFAFLFIDSLGAWLSIISVILGNMDIMGIILYSIVAGMELGIFASHFIWWCRFRFLAKGNTFDEESGQAQKEEPDEKIEQDISKSDRNVTNYNLDNCSIPDDASSFADDFNIYDSTDGGTLSRAQTLHAVHGVVVRTDPDRYSRLSV',\n",
       " ...}"
      ]
     },
     "execution_count": 93,
     "metadata": {},
     "output_type": "execute_result"
    }
   ],
   "source": [
    "D"
   ]
  },
  {
   "cell_type": "code",
   "execution_count": 94,
   "metadata": {},
   "outputs": [],
   "source": [
    "# すべてのアミノ酸配列を辞書として取得 ver4 (改良版)\n",
    "# get 関数を使用してkeyが存在しない場合にも対応\n",
    "D = {}\n",
    "for record in SeqIO.parse(gbk_file_name, \"genbank\"):\n",
    "    for feature in record.features:\n",
    "        locus_tag = feature.qualifiers.get(\"locus_tag\", [\"\"])[0]  # get 関数を使い locus_tag qualifierが存在しない場合には空文字 (\"\") を返す\n",
    "        translation = feature.qualifiers.get(\"translation\", [\"\"])[0]\n",
    "        if locus_tag and translation: # locus_tagおよびtranslationのいずれかが空文字列のときには処理しない\n",
    "            D[locus_tag] = translation"
   ]
  },
  {
   "cell_type": "code",
   "execution_count": 95,
   "metadata": {},
   "outputs": [
    {
     "name": "stdout",
     "output_type": "stream",
     "text": [
      "100\n",
      "None\n",
      "400\n"
     ]
    }
   ],
   "source": [
    "# getについての補足\n",
    "test_dict = {1:100, 2:200, 3:300}\n",
    "print(test_dict.get(1))  # 100が返る\n",
    "print(test_dict.get(4))  # keyが存在しない場合、None\n",
    "print(test_dict.get(4, 400))  # 第２引数としてkeyが存在しない場合に返る値を指定可能。400が返る。"
   ]
  },
  {
   "cell_type": "markdown",
   "metadata": {},
   "source": [
    "**[練習]**  \n",
    "GenBankファイルの中身をすべてforループで辿り、CDSの塩基配列・ローカスタグ(locus_tag)・遺伝子産物名(product)を取得し、  \n",
    "下記のような FASTA 形式で出力するスクリプトを完成させよ。  \n",
    "ただし product については空欄のものがあれば \"unknown protein\" とすること（getを使う）。  \n",
    "塩基配列は `location.extract` を使って取得できる。  \n",
    "__出力例__\n",
    "\n",
    "```\n",
    ">YAL068C seripauperin PAU8\n",
    "ATGGTCAAATTAACTTCAATCGCCGCTGGTGTCGCTGCCATCGCTGCTACTGCTTCTGCAACCACCACTCTAGCTCAATCTGACGAAAGAGTCAACTTGGTGGAATTGGGTGTCTACGTCTCTGATATCAGAGCTCACTTAGCCCAATACTACATGTTCCAAGCCGCCCACCCAACTGAAACCTACCCAGTCGAAGTTGCTGAAGCCGTTTTCAACTACGGTGACTTCACCACCATGTTGACCGGTATTGCTCCAGACCAAGTGACCAGAATGATCACCGGTGTTCCATGGTACTCCAGCAGATTAAAGCCAGCCATCTCCAGTGCTCTATCCAAGGACGGTATCTACACTATCGCAAACTAG\n",
    ">YAL067W-A hypothetical protein\n",
    "ATGCCAATTATAGGGGTGCCGAGGTGCCTTATAAAACCCTTTTCTGTGCCTGTGACATTTCCTTTTTCGGTCAAAAAGAATATCCGAATTTTAGATTTGGACCCTCGTACAGAAGCTTATTGTCTAAGCCTGAATTCAGTCTGCTTTAAACGGCTTCCGCGGAGGAAATATTTCCATCTCTTGAATTCGTACAACATTAAACGTGTGTTGGGAGTCGTATACTGTTAG\n",
    ">YAL067C putative permease SEO1\n",
    "ATGTATTCAATTGTTAAAGAGATTATTGTAGATCCTTACAAAAGACTAAAATGGGGTTTTATTCCAGTAAAGCGGCAGGTGGAAGACCTGCCAGATGACTTAAATTCAACAGAAATTGTCACTATCTCCAACAGTA...\n",
    "```\n"
   ]
  },
  {
   "cell_type": "code",
   "execution_count": 96,
   "metadata": {},
   "outputs": [],
   "source": [
    "i = 0\n",
    "for record in SeqIO.parse(gbk_file_name, \"genbank\"):\n",
    "    for feature in record.features:\n",
    "        if feature.type != \"CDS\":\n",
    "            continue  # CDSでない場合には処理をスキップ    \n",
    "        locus_tag = feature.qualifiers.get(\"locus_tag\", [\"\"])[0]\n",
    "\n",
    "        ### productを取得する処理を追加\n",
    "\n",
    "        ### 塩基配列を取得する処理を追加\n",
    "\n",
    "        ### print で出力する処理を追加\n",
    "\n",
    "        i += 1\n",
    "        if i == 5:  # 動作確認のため5件のみ出力したところで処理を停止\n",
    "            break\n"
   ]
  },
  {
   "cell_type": "markdown",
   "metadata": {},
   "source": [
    "# 補遺"
   ]
  },
  {
   "cell_type": "markdown",
   "metadata": {},
   "source": [
    "## GFFファイルの読み込み"
   ]
  },
  {
   "cell_type": "markdown",
   "metadata": {},
   "source": [
    "__本項は講義では扱いません__"
   ]
  },
  {
   "cell_type": "markdown",
   "metadata": {},
   "source": [
    "以下のコードの実行にはBCBioGFFが必要。\n",
    "```\n",
    "pip install bcbio-gff\n",
    "```\n",
    "または、condaを使用している場合には\n",
    "```\n",
    "conda install -c bioconda bcbiogff\n",
    "```\n",
    "でインストールする。2022年12月現在、pipの場合には ver.0.6.9が、condaの場合には ver.0.6.6 がインストールされた。"
   ]
  },
  {
   "cell_type": "markdown",
   "metadata": {},
   "source": [
    "現状では Biopython 単独ではGFFファイルの読み書きはできないため、BCBioGFFを利用する。  \n",
    "GFF ファイルは GenBank ファイルと同等の情報を保持できるが、ID-Parent を対応づけることによって明示的に gene-mRNA-CDS の階層構造を表現している。[参考](https://github.com/The-Sequence-Ontology/Specifications/blob/master/gff3.md)"
   ]
  },
  {
   "cell_type": "code",
   "execution_count": 97,
   "metadata": {},
   "outputs": [],
   "source": [
    "# BCBioのインポート\n",
    "# GFFを扱うためのモジュール (現時点ではBiopythonには含まれていないため、別にインストールする必要がある conda install -c bioconda bcbiogff または pip install bcbio-gff）\n",
    "from BCBio import GFF"
   ]
  },
  {
   "cell_type": "code",
   "execution_count": 98,
   "metadata": {},
   "outputs": [],
   "source": [
    "# ここで使うGFFファイルはRNAseq解析用に遺伝子ID(gene_id)情報を付け足している。\n",
    "gff_file_name = \"data/s288c_e.gff\""
   ]
  },
  {
   "cell_type": "code",
   "execution_count": 99,
   "metadata": {},
   "outputs": [],
   "source": [
    "records = GFF.parse(open(gff_file_name))"
   ]
  },
  {
   "cell_type": "code",
   "execution_count": 100,
   "metadata": {},
   "outputs": [
    {
     "data": {
      "text/plain": [
       "[SeqFeature(FeatureLocation(ExactPosition(0), ExactPosition(230218)), type='remark'),\n",
       " SeqFeature(FeatureLocation(ExactPosition(0), ExactPosition(230218), strand=1), type='region', id='id0'),\n",
       " SeqFeature(FeatureLocation(ExactPosition(0), ExactPosition(801), strand=-1), type='telomere', id='id1'),\n",
       " SeqFeature(FeatureLocation(ExactPosition(706), ExactPosition(776), strand=1), type='origin_of_replication', id='id2'),\n",
       " SeqFeature(FeatureLocation(ExactPosition(1806), ExactPosition(2169), strand=-1), type='gene', id='gene0'),\n",
       " SeqFeature(FeatureLocation(ExactPosition(2479), ExactPosition(2707), strand=1), type='gene', id='gene1'),\n",
       " SeqFeature(FeatureLocation(ExactPosition(7234), ExactPosition(9016), strand=-1), type='gene', id='gene2'),\n",
       " SeqFeature(FeatureLocation(ExactPosition(7996), ExactPosition(8547), strand=1), type='origin_of_replication', id='id6'),\n",
       " SeqFeature(FeatureLocation(ExactPosition(11564), ExactPosition(11951), strand=-1), type='gene', id='gene3'),\n",
       " SeqFeature(FeatureLocation(ExactPosition(12045), ExactPosition(12426), strand=1), type='gene', id='gene4')]"
      ]
     },
     "execution_count": 100,
     "metadata": {},
     "output_type": "execute_result"
    }
   ],
   "source": [
    "# 最初の配列の先頭10件のfeatureを表示\n",
    "# GenBankファイルの時とは異なり、mRNAやCDS featureが見えない。\n",
    "# GFFファイルでは mRNA は gene の子フィーチャー \"sub_features\" という扱いになっているため。\n",
    "r0 = next(records)\n",
    "r0.features[:10]"
   ]
  },
  {
   "cell_type": "code",
   "execution_count": 101,
   "metadata": {},
   "outputs": [],
   "source": [
    "# 最初の gene feature を取得\n",
    "gene = r0.features[4]"
   ]
  },
  {
   "cell_type": "code",
   "execution_count": 102,
   "metadata": {},
   "outputs": [
    {
     "data": {
      "text/plain": [
       "[SeqFeature(FeatureLocation(ExactPosition(1806), ExactPosition(2169), strand=-1), type='mRNA', id='rna0')]"
      ]
     },
     "execution_count": 102,
     "metadata": {},
     "output_type": "execute_result"
    }
   ],
   "source": [
    "# sub_featuresの中にmRNA featureが含まれている。\n",
    "# この例ではmRNAは1件のみですが、一つの gene (遺伝子座) に対して複数の mRNA が存在する場合もある。\n",
    "gene.sub_features"
   ]
  },
  {
   "cell_type": "code",
   "execution_count": 103,
   "metadata": {},
   "outputs": [],
   "source": [
    "# mRNA featureを取得\n",
    "mrna = gene.sub_features[0]"
   ]
  },
  {
   "cell_type": "code",
   "execution_count": 104,
   "metadata": {},
   "outputs": [
    {
     "data": {
      "text/plain": [
       "[SeqFeature(FeatureLocation(ExactPosition(1806), ExactPosition(2169), strand=-1), type='exon', id='id3'),\n",
       " SeqFeature(FeatureLocation(ExactPosition(1806), ExactPosition(2169), strand=-1), type='CDS', id='cds0')]"
      ]
     },
     "execution_count": 104,
     "metadata": {},
     "output_type": "execute_result"
    }
   ],
   "source": [
    "# mRNAのsub_featuresを確認\n",
    "# CDS featureとexon featureが含まれている。\n",
    "# sub_featureの種類はファイルによって異なる。CDSのみの場合や、非翻訳領域 (UTR) が含まれている場合もある。\n",
    "mrna.sub_features"
   ]
  },
  {
   "cell_type": "code",
   "execution_count": 105,
   "metadata": {},
   "outputs": [],
   "source": [
    "# sub_features の階層構造をたどり、どのようなfeatureが含まれているかを確認してみる。。\n",
    "S=set()\n",
    "for record in GFF.parse(open(gff_file_name)):\n",
    "    if record.id == \"NC_001224.1\":\n",
    "        continue  # ミトコンドリア配列は除外\n",
    "    for f in record.features:\n",
    "        feature_type_1 = f.type\n",
    "        S.add(feature_type_1)\n",
    "        for sf in f.sub_features:\n",
    "            feature_type_2 = feature_type_1 + \" -> \" + sf.type\n",
    "            S.add(feature_type_2)\n",
    "            for ssf in sf.sub_features:\n",
    "                feature_type_3 = feature_type_2 + \" -> \" + ssf.type\n",
    "                S.add(feature_type_3)\n",
    "\n",
    "    "
   ]
  },
  {
   "cell_type": "code",
   "execution_count": 106,
   "metadata": {},
   "outputs": [
    {
     "data": {
      "text/plain": [
       "['centromere',\n",
       " 'gene',\n",
       " 'long_terminal_repeat',\n",
       " 'mobile_genetic_element',\n",
       " 'origin_of_replication',\n",
       " 'pseudogene',\n",
       " 'region',\n",
       " 'remark',\n",
       " 'sequence_feature',\n",
       " 'telomere',\n",
       " 'gene -> mRNA',\n",
       " 'gene -> ncRNA',\n",
       " 'gene -> rRNA',\n",
       " 'gene -> snRNA',\n",
       " 'gene -> snoRNA',\n",
       " 'gene -> tRNA',\n",
       " 'gene -> telomerase_RNA',\n",
       " 'gene -> transcript',\n",
       " 'pseudogene -> CDS',\n",
       " 'pseudogene -> mRNA',\n",
       " 'gene -> mRNA -> CDS',\n",
       " 'gene -> mRNA -> exon',\n",
       " 'gene -> ncRNA -> exon',\n",
       " 'gene -> rRNA -> exon',\n",
       " 'gene -> snRNA -> exon',\n",
       " 'gene -> snoRNA -> exon',\n",
       " 'gene -> tRNA -> exon',\n",
       " 'gene -> telomerase_RNA -> exon',\n",
       " 'gene -> transcript -> exon',\n",
       " 'pseudogene -> mRNA -> exon']"
      ]
     },
     "execution_count": 106,
     "metadata": {},
     "output_type": "execute_result"
    }
   ],
   "source": [
    "sorted(list(S), key=lambda x:(x.count(\"->\"), x))  # 階層数でソートしたあと、アルファッベット順でソートして表示している"
   ]
  },
  {
   "cell_type": "markdown",
   "metadata": {
    "collapsed": true,
    "jupyter": {
     "outputs_hidden": true
    }
   },
   "source": [
    "## 単元4で使用するアノテーション一覧ファイルの作成方法"
   ]
  },
  {
   "cell_type": "markdown",
   "metadata": {},
   "source": [
    "単元４ではマウスの参照ゲノムGRCm39に対してRNAseqリードをマップして得られた結果をサンプルデータとして用いる。  \n",
    "その際に用いるアノテーション情報の一覧表を作成したスクリプトは以下の通り。  \n"
   ]
  },
  {
   "cell_type": "markdown",
   "metadata": {},
   "source": [
    "GFFファイル中の属性値中の `;`や`,`など一部の記号はURLエンコーディングされているので `urllib.parse.unquote` でデコードしている。"
   ]
  },
  {
   "cell_type": "markdown",
   "metadata": {
    "collapsed": true,
    "jupyter": {
     "outputs_hidden": true
    }
   },
   "source": [
    "```\n",
    "import gzip\n",
    "import urllib.parse\n",
    "from BCBio import GFF\n",
    "\n",
    "gff_file_name = \"Mus_musculus.GRCm39.108.gff3.gz\"\n",
    "\n",
    "for record in GFF.parse(gzip.open(gff_file_name, \"rt\")):\n",
    "    for f in record.features:\n",
    "        if f.type == \"gene\":\n",
    "            gene_id = f.qualifiers[\"ID\"][0].replace(\"gene:\", \"\")\n",
    "            # Name と description 属性を持たない場合があるので get を使って値を取得する。\n",
    "            gene_name = f.qualifiers.get(\"Name\", [\"NO_NAME\"])[0]\n",
    "            description = urllib.parse.unquote(f.qualifiers.get(\"description\", [\"-\"])[0])\n",
    "            for sf in f.sub_features:\n",
    "                if sf.type == \"mRNA\":\n",
    "                    transcript_id = sf.qualifiers[\"ID\"][0].replace(\"transcript:\", \"\")\n",
    "                    version = sf.qualifiers[\"version\"][0]\n",
    "                    print(\"\\t\".join([transcript_id + \".\" + version, gene_id, gene_name, description]))\n",
    "```"
   ]
  },
  {
   "cell_type": "markdown",
   "metadata": {},
   "source": [
    "__実行方法__　　\n",
    "\n",
    "マウスゲノムのGFFファイルは\n",
    "```\n",
    "curl -O https://ftp.ensembl.org/pub/release-108/gff3/mus_musculus/Mus_musculus.GRCm39.108.gff3.gz\n",
    "```\n",
    "で取得しておく。  \n",
    "結果は標準出力に出力されるのでファイルにリダイレクトして結果を保存する。  \n",
    "\n",
    "__実行例__  \n",
    "```\n",
    "python make_annotation_table_from_gff.py > annotation.tsv\n",
    "```"
   ]
  },
  {
   "cell_type": "markdown",
   "metadata": {},
   "source": [
    "## BLAST結果ファイルの処理"
   ]
  },
  {
   "cell_type": "markdown",
   "metadata": {},
   "source": [
    "参考) [Biopython Tutorial and Cookbook](http://biopython.org/DIST/docs/tutorial/Tutorial.html#sec129)"
   ]
  },
  {
   "cell_type": "markdown",
   "metadata": {},
   "source": [
    "__BLASTの出力結果例__ (`-outfmt 6`)   \n",
    "３種類のクエリ配列 (A, B ,C) を含んだFASTA形式のファイルを、複数の遺伝子配列を含んだ配列データベースに対して検索した結果の例  \n",
    "各列は左から、query, subject, % identity, alignment length, mismatches, gap opens, query_start, query_end, subject_start, subject_end, evalue, bit score  \n",
    "\n",
    "```\n",
    "query_A\tgene_0001\t38.444\t450\t254\t7\t8\t440\t8\t451\t1.96e-90\t278\n",
    "query_B\tgene_2155\t75.309\t891\t217\t2\t13\t900\t13\t903\t0.0\t1405\n",
    "query_B\tgene_1608\t21.091\t275\t192\t9\t34\t290\t9\t276\t3.11e-06\t46.2\n",
    "query_C\tgene_1111\t67.282\t813\t262\t2\t4\t816\t1\t809\t0.0\t1098\n",
    "query_C\tgene_0984\t40.559\t752\t425\t8\t7\t749\t2\t740\t0.0\t555\n",
    "query_C\tgene_0984\t24.336\t226\t146\t6\t593\t804\t481\t695\t1.03e-07\t51.6\n",
    "```"
   ]
  },
  {
   "cell_type": "markdown",
   "metadata": {},
   "source": [
    "BiopythonでBLASTの実行結果を処理するためにはXML形式で結果を出力する必要がある (`-outfmt 7`)。  \n",
    "下記は↑に示した結果例をXML形式ファイルで出力したもの。"
   ]
  },
  {
   "cell_type": "code",
   "execution_count": 107,
   "metadata": {},
   "outputs": [
    {
     "name": "stdout",
     "output_type": "stream",
     "text": [
      "<?xml version=\"1.0\"?>\n",
      "<!DOCTYPE BlastOutput PUBLIC \"-//NCBI//NCBI BlastOutput/EN\" \"http://www.ncbi.nlm.nih.gov/dtd/NCBI_BlastOutput.dtd\">\n",
      "<BlastOutput>\n",
      "  <BlastOutput_program>blastp</BlastOutput_program>\n",
      "  <BlastOutput_version>BLASTP 2.10.1+</BlastOutput_version>\n",
      "  <BlastOutput_reference>Stephen F. Altschul, Thomas L. Madden, Alejandro A. Sch&amp;auml;ffer, Jinghui Zhang, Zheng Zhang, Webb Miller, and David J. Lipman (1997), &quot;Gapped BLAST and PSI-BLAST: a new generation of protein database search programs&quot;, Nucleic Acids Res. 25:3389-3402.</BlastOutput_reference>\n",
      "  <BlastOutput_db>protein_db.fa</BlastOutput_db>\n",
      "  <BlastOutput_query-ID>Query_1</BlastOutput_query-ID>\n",
      "  <BlastOutput_query-def>query_A Test Protein A</BlastOutput_query-def>\n",
      "  <BlastOutput_query-len>448</BlastOutput_query-len>\n",
      "  <BlastOutput_param>\n",
      "    <Parameters>\n",
      "      <Parameters_matrix>BLOSUM62</Parameters_matrix>\n",
      "      <Parameters_expect>1e-05</Parameters_expect>\n",
      "      <Parameters_gap-open>11</Parameters_gap-open>\n",
      "      <Parameters_gap-extend>1</Parameters_gap-extend>\n",
      "      <Parameters_filter>F</Parameters_filter>\n",
      "    </Parameters>\n",
      "  </BlastOutput_param>\n",
      "<BlastOutput_iterations>\n",
      "<Iteration>\n",
      "  <Iteration_iter-num>1</Iteration_iter-num>\n",
      "  <Iteration_query-ID>Query_1</Iteration_query-ID>\n",
      "  <Iteration_query-def>query_A Test Protein A</Iteration_query-def>\n",
      "  <Iteration_query-len>448</Iteration_query-len>\n",
      "<Iteration_hits>\n",
      "<Hit>\n",
      "  <Hit_num>1</Hit_num>\n",
      "  <Hit_id>gene_0001</Hit_id>\n",
      "  <Hit_def>replication initiation protein DnaA</Hit_def>\n",
      "  <Hit_accession>gene_0001</Hit_accession>\n",
      "  <Hit_len>455</Hit_len>\n",
      "  <Hit_hsps>\n",
      "    <Hsp>\n",
      "      <Hsp_num>1</Hsp_num>\n",
      "      <Hsp_bit-score>278.485</Hsp_bit-score>\n",
      "      <Hsp_score>711</Hsp_score>\n",
      "      <Hsp_evalue>1.95896e-90</Hsp_evalue>\n",
      "      <Hsp_query-from>8</Hsp_query-from>\n",
      "      <Hsp_query-to>440</Hsp_query-to>\n",
      "      <Hsp_hit-from>8</Hsp_hit-from>\n",
      "      <Hsp_hit-to>451</Hsp_hit-to>\n",
      "      <Hsp_query-frame>0</Hsp_query-frame>\n",
      "      <Hsp_hit-frame>0</Hsp_hit-frame>\n",
      "      <Hsp_identity>173</Hsp_identity>\n",
      "      <Hsp_positive>252</Hsp_positive>\n",
      "      <Hsp_gaps>23</Hsp_gaps>\n",
      "      <Hsp_align-len>450</Hsp_align-len>\n",
      "      <Hsp_qseq>EELWSKVQAEFFTKLGRVTFSTYIEPLKPLTLGDTSLTLAVPSDMAQD-------IIDQWDSEYSMDFVQFAMSIADGFIKPDLQ------VAEAKPTTIPTFSDNLSFTRESDLNPDFTFEKFVIGSGNENAYAVARAVADEPGQVYNPYLIYGGVGLGKTHLMQAIGNAYAVSTPSAHIKYATAEDFLNDFTESLRAGDGATAAFKQEYRSVDLLLVDDIQFWSGKEKVQEEFFNTFNVLTKNGKQIVMTSDKLPTEIVDLQTRLTSRFEAGIMMDIQKPDLPTRVAILQNLSESDGLDIPNDVLELIAEKIDSNVRSLEGAFHKFEASLRYMNKPATK-ETAQQILGDL-NINQG--FKITVERIQQVVADYYMQTIDDLKSSSRKKDLVTARHVAMYLTRTLTNESLPDIGRSFGGRDHSSVLHATTKITEKSESDSRTKEMLDAL</Hsp_qseq>\n",
      "      <Hsp_hseq>QKFWARVTELAQQSIGKQAYDFFIEPAQLMSVEQDTANILLDSGMKKDYWKKQSDLITTAGFEVFGRMIDYELYANDELTELELHRLNNQSSIEEQPRSTAKPASPLV----SGLNEKYNFENFVQGPGNRWTLAAAIAVADKPGDTYNPLFIYGGAGLGKTHLMHAIGNQILTDNPTARIKYVSSENFVNDYVNATRKNQ--MENFENTYRNLDLLLLDDVQFFSDKEGTKNEFFNTFNALYDKGSQIVLTSDRIPQELNNLEDRLVSRFSWGLTTDITAPDYETRMAILLIKSESSRLEFPSETLSYIAGQIDSNVRELEGALNRVEFVARANGIAVVDIETASQALRSLKNATQQSLSNLTIKKIQDEVANYYHISFSDLVGPKRPKEIAFPRQIAMYLVRELLGTSLPAIGTAFGGRDHTTVMYAYKQISDKMKNDMDVQKDIDSI</Hsp_hseq>\n",
      "      <Hsp_midline>++ W++V       +G+  +  +IEP + +++   +  + + S M +D       +I     E     + + +   D   + +L         E +P +    +  L     S LN  + FE FV G GN    A A AVAD+PG  YNP  IYGG GLGKTHLM AIGN      P+A IKY ++E+F+ND+  + R        F+  YR++DLLL+DD+QF+S KE  + EFFNTFN L   G QIV+TSD++P E+ +L+ RL SRF  G+  DI  PD  TR+AIL   SES  L+ P++ L  IA +IDSNVR LEGA ++ E   R         ETA Q L  L N  Q     +T+++IQ  VA+YY  +  DL    R K++   R +AMYL R L   SLP IG +FGGRDH++V++A  +I++K ++D   ++ +D++</Hsp_midline>\n",
      "    </Hsp>\n",
      "  </Hit_hsps>\n",
      "</Hit>\n",
      "</Iteration_hits>\n",
      "  <Iteration_stat>\n",
      "    <Statistics>\n",
      "      <Statistics_db-num>2266</Statistics_db-num>\n",
      "      <Statistics_db-len>665345</Statistics_db-len>\n",
      "      <Statistics_hsp-len>82</Statistics_hsp-len>\n",
      "      <Statistics_eff-space>175509078</Statistics_eff-space>\n",
      "      <Statistics_kappa>0.041</Statistics_kappa>\n",
      "      <Statistics_lambda>0.267</Statistics_lambda>\n",
      "      <Statistics_entropy>0.14</Statistics_entropy>\n",
      "    </Statistics>\n",
      "  </Iteration_stat>\n",
      "</Iteration>\n",
      "<Iteration>\n",
      "  <Iteration_iter-num>2</Iteration_iter-num>\n",
      "  <Iteration_query-ID>Query_2</Iteration_query-ID>\n",
      "  <Iteration_query-def>query_B Test Protein B</Iteration_query-def>\n",
      "  <Iteration_query-len>900</Iteration_query-len>\n",
      "<Iteration_hits>\n",
      "<Hit>\n",
      "  <Hit_num>1</Hit_num>\n",
      "  <Hit_id>gene_2155</Hit_id>\n",
      "  <Hit_def>alcohol-acetaldehyde dehydrogenase</Hit_def>\n",
      "  <Hit_accession>gene_2155</Hit_accession>\n",
      "  <Hit_len>903</Hit_len>\n",
      "  <Hit_hsps>\n",
      "    <Hsp>\n",
      "      <Hsp_num>1</Hsp_num>\n",
      "      <Hsp_bit-score>1405.96</Hsp_bit-score>\n",
      "      <Hsp_score>3638</Hsp_score>\n",
      "      <Hsp_evalue>0</Hsp_evalue>\n",
      "      <Hsp_query-from>13</Hsp_query-from>\n",
      "      <Hsp_query-to>900</Hsp_query-to>\n",
      "      <Hsp_hit-from>13</Hsp_hit-from>\n",
      "      <Hsp_hit-to>903</Hsp_hit-to>\n",
      "      <Hsp_query-frame>0</Hsp_query-frame>\n",
      "      <Hsp_hit-frame>0</Hsp_hit-frame>\n",
      "      <Hsp_identity>671</Hsp_identity>\n",
      "      <Hsp_positive>773</Hsp_positive>\n",
      "      <Hsp_gaps>3</Hsp_gaps>\n",
      "      <Hsp_align-len>891</Hsp_align-len>\n",
      "      <Hsp_qseq>VLTPEEKAELQTQAEKMTEVLIEKSQKALSEFSTFSQEQVDKIVAAMALAGSENSLLLAHAAHDETGRGVVEDKDTKNRFASESVYNAIKFDKTVGVISEDKIQGKVELAAPLGILAGIVPTTNPTSTTIFKSMLTAKTRNTIIFAFHPQAQKASVLAAKIVYDAAVKAGAPENFIQWIEKPSLYATSALIQNPHIASILATGGPSMVNAALKSGNPSMGVGAGNGAVYIDATVDTDRAVSDLLLSKRFDNGMICATENSAVIQAPIYDEILTKLQEQGAYLVPKKDYKKIADYVFKPNA-EGFGIAGPVAGMSGRWIAEQAGVKIPDGKDVLLFELDQKNIGEALSSEKLSPLLSIYKVEKREEAIETVQSLLNYQGAGHNAAIQIGSQDDPFIKEYADAIGASRILVNQPDSIGGVGDIYTDAMRPSLTLGTGSWGKNSLSHNLSTYDLLNIKTVARRRNRPQWVRLPKEVYYEANAITYLQDLPTINRAFIVADPGMVQFGFVGRVLGQLELRQEQVETNIYGSVKPDPTLSQAVEIARQMADFKPDTVILLGGGSALDAGKIGRFLYEYSTRHEGILEDDEAIKDLFLELQQKFMDIRKRIVKFYHARLTQMVAIPTTSGTGSEVTPFAVITDDETHVKYPLADYELTPEVAIVDPEFVMTVPQHTVSWSGLDALSHALESYVSVMASEFTRPWALQAIKLIFDNLTNSYNYDPKHPTKEGQNARTKMHYASTLAGMSFANAFLGLNHSLAHKTGGEFGLPHGMAIAIAMPHVIKFNAVTGNVKRTPYPRYETYTAQKDYADIARYLGLKG--ETDAELVDVLIAEIKKLAASVGVNQTLSGNGVSKHDFDTKLEKMIDLVYNDQCTPGNPRQPSLAEIRQLLKDQF</Hsp_qseq>\n",
      "      <Hsp_hseq>VLSAEEKAAKFQEAVAYTDKLVKKAQAAVLKFEGYTQTQVDTIVAAMALAASKHSLELAHEAVNETGRGVVEDKDTKNHFASESVYNAIKNDKTVGVISENKVAGSVEIASPLGVLAGIVPTTNPTSTAIFKSLLTAKTRNAIVFAFHPQAQKFSSHAAKIVYDAAIEAGAPEDFIQWIEVPSLDMTTALIQNRGLATILATGGPGMVNAALKSGNPSLGVGAGNGAVYVDATANIERAVEDLLLSKRFDNGMICATENSAVIDASVYDEFIAKMQEQGAYMVPKKDYKAIESFVFVERAGEGFGVTGPVAGRSGQWIAEQAGVKVPKDKDVLLFELDKKNIGEALSSEKLSPLLSIYKAETREEGIEIVRSLLAYQGAGHNAAIQIGAMDDPFVKEYGEKVEASRILVNQPDSIGGVGDIYTDAMRPSLTLGTGSWGKNSLSHNLSTYDLLNVKTVAKRRNRPQWVRLPKEIYYEKNAISYLQELPHVHKAFIVADPGMVKFGFVDKVLEQLAIRPTQVETSIYGSVQPDPTLSEAIAIARQMKQFEPDTVICLGGGSALDAGKIGRLIYEYDARGEADLSDDASLKELFQELAQKFVDIRKRIIKFYHPHKAQMVAIPTTSGTGSEVTPFAVITDDETHVKYPLADYQLTPQVAIVDPEFVMTVPKRTVSWSGIDAMSHALESYVSVMSSDYTKPISLQAIKLIFENLTESYHYDPAHPTKEGQKARENMHNAATLAGMAFANAFLGINHSLAHKIGGEFGLPHGLAIAIAMPHVIKFNAVTGNVKRTPYPRYETYRAQEDYAEISRFMGFAGKDDSDEKAVQALVAELKKLTDSIDINITLSGNGVDKAHLERELDKLADLVYDDQCTPANPRQPRIDEIKQLLLDQY</Hsp_hseq>\n",
      "      <Hsp_midline>VL+ EEKA    +A   T+ L++K+Q A+ +F  ++Q QVD IVAAMALA S++SL LAH A +ETGRGVVEDKDTKN FASESVYNAIK DKTVGVISE+K+ G VE+A+PLG+LAGIVPTTNPTST IFKS+LTAKTRN I+FAFHPQAQK S  AAKIVYDAA++AGAPE+FIQWIE PSL  T+ALIQN  +A+ILATGGP MVNAALKSGNPS+GVGAGNGAVY+DAT + +RAV DLLLSKRFDNGMICATENSAVI A +YDE + K+QEQGAY+VPKKDYK I  +VF   A EGFG+ GPVAG SG+WIAEQAGVK+P  KDVLLFELD+KNIGEALSSEKLSPLLSIYK E REE IE V+SLL YQGAGHNAAIQIG+ DDPF+KEY + + ASRILVNQPDSIGGVGDIYTDAMRPSLTLGTGSWGKNSLSHNLSTYDLLN+KTVA+RRNRPQWVRLPKE+YYE NAI+YLQ+LP +++AFIVADPGMV+FGFV +VL QL +R  QVET+IYGSV+PDPTLS+A+ IARQM  F+PDTVI LGGGSALDAGKIGR +YEY  R E  L DD ++K+LF EL QKF+DIRKRI+KFYH    QMVAIPTTSGTGSEVTPFAVITDDETHVKYPLADY+LTP+VAIVDPEFVMTVP+ TVSWSG+DA+SHALESYVSVM+S++T+P +LQAIKLIF+NLT SY+YDP HPTKEGQ AR  MH A+TLAGM+FANAFLG+NHSLAHK GGEFGLPHG+AIAIAMPHVIKFNAVTGNVKRTPYPRYETY AQ+DYA+I+R++G  G  ++D + V  L+AE+KKL  S+ +N TLSGNGV K   + +L+K+ DLVY+DQCTP NPRQP + EI+QLL DQ+</Hsp_midline>\n",
      "    </Hsp>\n",
      "  </Hit_hsps>\n"
     ]
    }
   ],
   "source": [
    "! head -100 data/blast.xml"
   ]
  },
  {
   "cell_type": "markdown",
   "metadata": {},
   "source": [
    "XML形式ファイルは↓の模式図で示したような階層構造になっている。  \n",
    "Biopythonで結果を処理する場合にもこの構造を模したオブジェクトにデータが格納される。"
   ]
  },
  {
   "cell_type": "markdown",
   "metadata": {},
   "source": [
    "![fig2](img/fig_blast.png)"
   ]
  },
  {
   "cell_type": "markdown",
   "metadata": {},
   "source": [
    "BLASTの結果を処理するために NCBIXML モジュールをインポートする。"
   ]
  },
  {
   "cell_type": "code",
   "execution_count": 108,
   "metadata": {},
   "outputs": [],
   "source": [
    "from Bio.Blast import NCBIXML"
   ]
  },
  {
   "cell_type": "code",
   "execution_count": 109,
   "metadata": {},
   "outputs": [],
   "source": [
    "blast_xml_file = \"data/blast.xml\""
   ]
  },
  {
   "cell_type": "markdown",
   "metadata": {},
   "source": [
    "BLASTオブジェクト - Alignment オブジェクト - HSP オブジェクトという階層構造になっているので for ループで結果を全て辿る。"
   ]
  },
  {
   "cell_type": "code",
   "execution_count": 110,
   "metadata": {},
   "outputs": [
    {
     "name": "stdout",
     "output_type": "stream",
     "text": [
      "Query: query_A Test Protein A (Length=448)\n",
      "\t----------------------------------------\n",
      "\tSubject: gene_0001, Definition: replication initiation protein DnaA (Length=455)\n",
      "\t\tHSP1: QueryHit=8..440 SubjectHit=8..451 Score=278.485 e-value=1.95896e-90\n",
      "================================================================================\n",
      "Query: query_B Test Protein B (Length=900)\n",
      "\t----------------------------------------\n",
      "\tSubject: gene_2155, Definition: alcohol-acetaldehyde dehydrogenase (Length=903)\n",
      "\t\tHSP1: QueryHit=13..900 SubjectHit=13..903 Score=1405.96 e-value=0.0\n",
      "\tSubject: gene_1608, Definition: gamma-glutamyl phosphate reductase (Length=413)\n",
      "\t\tHSP1: QueryHit=34..290 SubjectHit=9..276 Score=46.2098 e-value=3.11117e-06\n",
      "================================================================================\n",
      "Query: query_C Test Protein C (Length=848)\n",
      "\t----------------------------------------\n",
      "\tSubject: gene_1111, Definition: DNA gyrase subunit A (Length=829)\n",
      "\t\tHSP1: QueryHit=4..816 SubjectHit=1..809 Score=1098.19 e-value=0.0\n",
      "\tSubject: gene_0984, Definition: topoisomerase IV subunit B (Length=824)\n",
      "\t\tHSP1: QueryHit=7..749 SubjectHit=2..740 Score=555.444 e-value=0.0\n",
      "\t\tHSP2: QueryHit=593..804 SubjectHit=481..695 Score=51.6026 e-value=1.03425e-07\n",
      "================================================================================\n"
     ]
    }
   ],
   "source": [
    "blast_records = NCBIXML.parse(open(blast_xml_file))\n",
    "for blast_record in blast_records:\n",
    "    print(f\"Query: {blast_record.query} (Length={blast_record.query_length})\")\n",
    "    print(\"\\t\" + \"-\" * 40)\n",
    "    for alignment in blast_record.alignments:\n",
    "        print(f\"\\tSubject: {alignment.hit_id}, Definition: {alignment.hit_def} (Length={alignment.length})\") \n",
    "        for i, hsp in enumerate(alignment.hsps, 1):\n",
    "            print(f\"\\t\\tHSP{i}: QueryHit={hsp.query_start}..{hsp.query_end} SubjectHit={hsp.sbjct_start}..{hsp.sbjct_end} \" +\n",
    "                  f\"Score={hsp.bits} e-value={hsp.expect}\")\n",
    "\n",
    "    print(\"=\" * 80)"
   ]
  },
  {
   "cell_type": "markdown",
   "metadata": {},
   "source": [
    "AlignmentオブジェクトやHSPオブジェクトがどのような情報を保持しているかは、Biopythonの[APIドキュメント](https://biopython.org/docs/latest/api/Bio.Blast.Record.html) を参照。`dir(alignment)` や `dir(HSP)` などで調べても良い。"
   ]
  },
  {
   "cell_type": "code",
   "execution_count": 111,
   "metadata": {},
   "outputs": [
    {
     "data": {
      "text/plain": [
       "['__class__',\n",
       " '__delattr__',\n",
       " '__dict__',\n",
       " '__dir__',\n",
       " '__doc__',\n",
       " '__eq__',\n",
       " '__format__',\n",
       " '__ge__',\n",
       " '__getattribute__',\n",
       " '__getstate__',\n",
       " '__gt__',\n",
       " '__hash__',\n",
       " '__init__',\n",
       " '__init_subclass__',\n",
       " '__le__',\n",
       " '__lt__',\n",
       " '__module__',\n",
       " '__ne__',\n",
       " '__new__',\n",
       " '__reduce__',\n",
       " '__reduce_ex__',\n",
       " '__repr__',\n",
       " '__setattr__',\n",
       " '__sizeof__',\n",
       " '__str__',\n",
       " '__subclasshook__',\n",
       " '__weakref__',\n",
       " 'align_length',\n",
       " 'bits',\n",
       " 'expect',\n",
       " 'frame',\n",
       " 'gaps',\n",
       " 'identities',\n",
       " 'match',\n",
       " 'num_alignments',\n",
       " 'positives',\n",
       " 'query',\n",
       " 'query_end',\n",
       " 'query_start',\n",
       " 'sbjct',\n",
       " 'sbjct_end',\n",
       " 'sbjct_start',\n",
       " 'score',\n",
       " 'strand']"
      ]
     },
     "execution_count": 111,
     "metadata": {},
     "output_type": "execute_result"
    }
   ],
   "source": [
    "dir(hsp)"
   ]
  },
  {
   "cell_type": "code",
   "execution_count": null,
   "metadata": {},
   "outputs": [],
   "source": []
  }
 ],
 "metadata": {
  "kernelspec": {
   "display_name": "Python 3 (ipykernel)",
   "language": "python",
   "name": "python3"
  },
  "language_info": {
   "codemirror_mode": {
    "name": "ipython",
    "version": 3
   },
   "file_extension": ".py",
   "mimetype": "text/x-python",
   "name": "python",
   "nbconvert_exporter": "python",
   "pygments_lexer": "ipython3",
   "version": "3.11.7"
  },
  "toc": {
   "colors": {
    "hover_highlight": "#DAA520",
    "running_highlight": "#FF0000",
    "selected_highlight": "#FFD700"
   },
   "moveMenuLeft": true,
   "nav_menu": {
    "height": "84px",
    "width": "253px"
   },
   "navigate_menu": true,
   "number_sections": true,
   "sideBar": true,
   "threshold": 4,
   "toc_cell": false,
   "toc_section_display": "block",
   "toc_window_display": false
  },
  "varInspector": {
   "cols": {
    "lenName": 16,
    "lenType": 16,
    "lenVar": 40
   },
   "kernels_config": {
    "python": {
     "delete_cmd_postfix": "",
     "delete_cmd_prefix": "del ",
     "library": "var_list.py",
     "varRefreshCmd": "print(var_dic_list())"
    },
    "r": {
     "delete_cmd_postfix": ") ",
     "delete_cmd_prefix": "rm(",
     "library": "var_list.r",
     "varRefreshCmd": "cat(var_dic_list()) "
    }
   },
   "types_to_exclude": [
    "module",
    "function",
    "builtin_function_or_method",
    "instance",
    "_Feature"
   ],
   "window_display": false
  }
 },
 "nbformat": 4,
 "nbformat_minor": 4
}
