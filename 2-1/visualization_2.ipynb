{
 "cells": [
  {
   "cell_type": "markdown",
   "id": "694d71cb",
   "metadata": {},
   "source": [
    "# 視覚化(matplotlib, seaborn) 資料2\n",
    "1日目の講習 「表形式ファイルの処理（Pandas）」 で作成した「tpm_with_product.tsv」を使用して、RNA-seqデータの視覚化を行う。  \n",
    "具体的には、以下の内容を扱う。\n",
    "* Seabornを使った基本グラフ（ヒストグラム・散布図）\n",
    "* 複数のグラフを組み合わせて表示するSearbon関数\n",
    "* ベン図"
   ]
  },
  {
   "cell_type": "markdown",
   "id": "5241c797-f23d-41c4-a737-95ef574e0094",
   "metadata": {},
   "source": [
    "# 1. Seanornを使った基本グラフの作成"
   ]
  },
  {
   "cell_type": "code",
   "execution_count": null,
   "id": "19b90622",
   "metadata": {},
   "outputs": [],
   "source": [
    "# ライブラリのインポート\n",
    "import numpy as np\n",
    "import pandas as pd\n",
    "import matplotlib.pyplot as plt\n",
    "import seaborn as sns\n",
    "\n",
    "# グラフスタイルの指定\n",
    "sns.set() \n",
    "sns.set_style('whitegrid') \n",
    "sns.set_palette('Set1')"
   ]
  },
  {
   "cell_type": "markdown",
   "id": "e98d33f1",
   "metadata": {},
   "source": [
    "## 1.1. データの取り込みと下準備"
   ]
  },
  {
   "cell_type": "code",
   "execution_count": null,
   "id": "a2c5b9e8",
   "metadata": {},
   "outputs": [],
   "source": [
    "# 遺伝子発現データを取り込む\n",
    "tpm = pd.read_table('../1-4/output//tpm_with_product.tsv', index_col=0)\n",
    "\n",
    "# データの中身を確認\n",
    "print(tpm.shape)\n",
    "tpm.head()"
   ]
  },
  {
   "cell_type": "markdown",
   "id": "3ba67c9e",
   "metadata": {},
   "source": [
    "発現量が非常に低い遺伝子を含めると解析に支障が出るため、ほとんど発現していない遺伝子をフィルタリングする。  \n",
    "\n",
    "※ここでは、平均tpm <= 1を低発現遺伝子の基準としたが、低発現遺伝子の基準は非常にさまざまであるため、使用する解析パッケージ（edgeR等）や類似先行研究の手法を参考にすると良い。"
   ]
  },
  {
   "cell_type": "code",
   "execution_count": null,
   "id": "656d4796",
   "metadata": {},
   "outputs": [],
   "source": [
    "# 初めに、tpm以外の不要箇所は取り除く。\n",
    "tpm = tpm[['wt_1', 'wt_2', 'wt_3', 'mutant_1', 'mutant_2', 'mutant_3']]\n",
    "tpm = tpm.loc[tpm.mean(axis=1) > 1.0, :]\n",
    "print(tpm.shape)\n",
    "tpm.head()"
   ]
  },
  {
   "cell_type": "markdown",
   "id": "066a1901-3261-4dba-a138-b2b776d15b99",
   "metadata": {},
   "source": [
    "遺伝子発現量の分布は、基本的に対数正規分布に近くなることが知られる。そのため、解析の際には基本的に対数変換を行う。  \n",
    "また、tpmが0だと対数を取れないため、全値に1をあらかじめ足してから対数を取る。"
   ]
  },
  {
   "cell_type": "code",
   "execution_count": null,
   "id": "99010dc0-42ce-4705-8f31-7c8580d1f4d4",
   "metadata": {},
   "outputs": [],
   "source": [
    "log_tpm = np.log10(tpm + 1.0)\n",
    "log_tpm.head()"
   ]
  },
  {
   "cell_type": "markdown",
   "id": "d4279c69",
   "metadata": {},
   "source": [
    "## 1.2. 各サンプルの TPM のヒストグラムを確認  "
   ]
  },
  {
   "cell_type": "code",
   "execution_count": null,
   "id": "da16f4b3",
   "metadata": {},
   "outputs": [],
   "source": [
    "fig = plt.figure(figsize=(4, 3))\n",
    "ax = fig.add_subplot()\n",
    "\n",
    "sns.histplot(data=log_tpm, bins=50, alpha=0.2)\n",
    "\n",
    "ax.set_xlabel('log10(TPM)')"
   ]
  },
  {
   "cell_type": "markdown",
   "id": "01b9dced-f743-4536-9993-2966653729d7",
   "metadata": {},
   "source": [
    "さすがはseaborn、１行でサンプルごとに色分けされたヒストグラムが作成された。  \n",
    "しかしここで疑問が生じる。これまでは色分けをする際にhueを指定した。今回はhueを指定していないのになぜサンプルごとに色分けがされているのだろうか？  \n",
    "\n",
    "この現象の原因は、データフレームの２つの型にある。"
   ]
  },
  {
   "cell_type": "markdown",
   "id": "bbf0e8bb-0de0-46ef-9966-92f479255b29",
   "metadata": {},
   "source": [
    "<img src=\"sources/long_wide_data.png\" width=700 alt=\"LongForm-WideForm\">"
   ]
  },
  {
   "cell_type": "markdown",
   "id": "e2ca1f27-0e20-4e51-b6e7-462664913352",
   "metadata": {},
   "source": [
    "seabornでは、入力されたデータの内容から自動的に上記２つのいずれの型かを判別する。  \n",
    "Wide-formデータだと判断した場合には、各列を各グループと判断し、いいように色分けしてくれる。"
   ]
  },
  {
   "cell_type": "markdown",
   "id": "68ed3d05",
   "metadata": {},
   "source": [
    "## 【発展】6 サンプルの TPM のヒストグラムを上下にずらして表示 (ridge plot / joyplot)\n",
    "FacetGrid関数を応用して、複数のグラフを重ねつつ表示してみる。  \n",
    "以下のコードはseabornホームページのGalleryのコードを改変した。自分の作りたいグラフと似たサンプルコードを見つけたらchatGPTに「このコードを解説してください」など投げてみるといい。  \n",
    "joyplotのサンプルコード：https://seaborn.pydata.org/examples/kde_ridgeplot.html　　　\n",
    "\n",
    "なお、joyplotをもっと簡単に作成するための、matplotlibのラッパーライブラリ「joypy」も便利。"
   ]
  },
  {
   "cell_type": "code",
   "execution_count": null,
   "id": "f8f19ff3-d5c9-404c-90b9-48e49cc41b01",
   "metadata": {},
   "outputs": [],
   "source": [
    "# この解析ではlong-formのデータが必要になる。\n",
    "log_tpm_long = log_tpm.melt(var_name='sample', value_name='log_tpm')\n",
    "log_tpm_long"
   ]
  },
  {
   "cell_type": "code",
   "execution_count": null,
   "id": "6094f26a-8509-4fbf-83bf-31f8ae1f8469",
   "metadata": {},
   "outputs": [],
   "source": [
    "# 詳細は巻末に記載 ->　4.1.\n",
    "# グラフが重なっても見た目が綺麗になるように設定。\n",
    "sns.set_theme(style='white', rc={'axes.facecolor': (0, 0, 0, 0)})\n",
    "\n",
    "# FacetGridオブジェクトを作成\n",
    "g = sns.FacetGrid(log_tpm_long, row='sample', hue='sample', aspect=10, height=0.5)\n",
    "g.map(sns.histplot, 'log_tpm')\n",
    "\n",
    "# 各グラフにラベルを追加するlabel関数を作成し、サンプル名をラベルとして追加する。\n",
    "def label(x, color, label):\n",
    "    ax = plt.gca()\n",
    "    ax.text(0, 0.2, label, color=color, ha='right', va='center', transform=ax.transAxes)\n",
    "g.map(label, 'sample')\n",
    "\n",
    "# Facet間の高さを-70%にすることでグラフを重ねる。\n",
    "g.figure.subplots_adjust(hspace=-0.7)\n",
    "\n",
    "# 軸の書式設定\n",
    "g.set_titles('')\n",
    "g.set(yticks=[], ylabel='')\n",
    "g.set_xlabels('log10(TPM)')\n",
    "g.despine(left=True)"
   ]
  },
  {
   "cell_type": "code",
   "execution_count": null,
   "id": "f56f9a0c-3195-4cec-80a4-df02abfd5514",
   "metadata": {},
   "outputs": [],
   "source": [
    "# 設定をもとに戻しておく\n",
    "sns.set_style('whitegrid') \n",
    "sns.set_palette('Set1')"
   ]
  },
  {
   "cell_type": "markdown",
   "id": "a4f4d91d",
   "metadata": {},
   "source": [
    "## 1.3. MAプロット\n",
    "\n",
    "MAプロットとは、遺伝子ごとの発現量について、実験群間でのログ比（M）、平均発現量（A）を概観できるグラフのこと。  \n",
    "ここでは、発現変動遺伝子（DEGs）の色をハイライトして表示する。\n",
    "\n",
    "log2FCの絶対値 > 2のデータを発現変動遺伝子とする。  \n",
    "log2FC = log2(wt/mutant) = log2(wt) - log2(mutant)"
   ]
  },
  {
   "cell_type": "code",
   "execution_count": null,
   "id": "415146db",
   "metadata": {},
   "outputs": [],
   "source": [
    "# wtとmutantごとの平均値の対数を取る\n",
    "wt_log2_tpm_mean=np.log2((tpm['wt_1'] + tpm['wt_2'] + tpm['wt_3']) / 3 + 1.0)\n",
    "mutant_log2_tpm_mean=np.log2((tpm['mutant_1'] + tpm['mutant_2'] + tpm['mutant_3']) / 3  + 1.0)\n",
    "\n",
    "# 平均（mu）とfold-change(fc)を計算\n",
    "mu = (wt_log2_tpm_mean + mutant_log2_tpm_mean) / 2\n",
    "fc = wt_log2_tpm_mean - mutant_log2_tpm_mean\n",
    "\n",
    "# fcの絶対値が2よりも大きければTrue, それ以外ならばFalse\n",
    "is_DEG = np.array([False] * len(fc))\n",
    "is_DEG[(np.abs(fc) > 2)] = True\n",
    "\n",
    "# 一つのデータフレームにまとめる\n",
    "df_MA = pd.DataFrame({'mean_log_tpm': mu, 'fold_change': fc, 'is_DEG': is_DEG})\n",
    "df_MA.head()"
   ]
  },
  {
   "cell_type": "code",
   "execution_count": null,
   "id": "42672adc-f074-4f2b-8119-58dc0aee97e2",
   "metadata": {},
   "outputs": [],
   "source": [
    "# MAplot (scatter plot)を描画\n",
    "fig = plt.figure(figsize=(4, 3))\n",
    "ax = fig.add_subplot()\n",
    "\n",
    "sns.scatterplot(data=df_MA, x=\"mean_log_tpm\", y=\"fold_change\", hue=\"is_DEG\", alpha = 0.3, palette=['black', 'red'])\n",
    "ax.set_xlabel('mean of log2(TPM)')\n",
    "ax.set_ylabel('log2 fold changes (wildtype - mutant)')"
   ]
  },
  {
   "cell_type": "markdown",
   "id": "b6cc0024-eaa2-46ee-bb19-4594726193dd",
   "metadata": {},
   "source": [
    "# 2. 複数のグラフを一度に作る関数\n",
    "これまでみてきた通り、SeabornではMatplotlibだと複雑なコードが必要なグラフを非常にシンプルなコードで書くことができる。さらに、Seabornには複数の種類のグラフを綺麗に並べながら配置してくれる独自の関数が３つある。\n",
    "* jointplot()\n",
    "* pairplot()\n",
    "* clustermap()"
   ]
  },
  {
   "cell_type": "markdown",
   "id": "55a7e4ec",
   "metadata": {},
   "source": [
    "## 2.1. jointplot()\n",
    "jointplot()は、散布図とヒストグラムを並べて表示してくれる関数。  \n",
    "ここでは、wtとmutantの発現量（log2tpm）をjointplotで図示してみる。\n",
    "\n",
    "なお、よりカスタマイズ性の高いjointGrid()関数を使うと、より多様なグラフの組み合わせができる。"
   ]
  },
  {
   "cell_type": "code",
   "execution_count": null,
   "id": "0be229c7",
   "metadata": {},
   "outputs": [],
   "source": [
    "# wt,mutantの平均発現量の対数を取って、データフレームにしておく\n",
    "wt_log2_tpm_mean=np.log2((tpm['wt_1'] + tpm['wt_2'] + tpm['wt_3']) / 3 + 1.0)\n",
    "mutant_log2_tpm_mean=np.log2((tpm['mutant_1'] + tpm['mutant_2'] + tpm['mutant_3']) / 3  + 1.0)\n",
    "\n",
    "log2_tpm_mean = pd.DataFrame({'wt' : wt_log2_tpm_mean, 'mutant' : mutant_log2_tpm_mean})\n",
    "log2_tpm_mean.head()"
   ]
  },
  {
   "cell_type": "code",
   "execution_count": null,
   "id": "7fd565f7-2fec-4406-8e1b-a1c7f6055320",
   "metadata": {},
   "outputs": [],
   "source": [
    "# kindオプションで散布図以外のグラフも指定できる　{ 'scatter', 'kde', 'hist', 'hex', 'reg', 'resid' }\n",
    "sns.jointplot(x='wt', y='mutant', data=log2_tpm_mean, height=4.5, kind = 'scatter')"
   ]
  },
  {
   "cell_type": "markdown",
   "id": "6a2f18fd",
   "metadata": {},
   "source": [
    "## 2.2. pairplot()\n",
    "pairplot()は各変数の組み合わせで散布図を作ってくれる関数。  \n",
    "ここでは、6サンプルのTPMを総当たりでヒストグラム付き散布図に描画する。"
   ]
  },
  {
   "cell_type": "code",
   "execution_count": null,
   "id": "02c8b3b0-d645-4e24-8673-6e0d6e16f150",
   "metadata": {},
   "outputs": [],
   "source": [
    "# 使用データの確認\n",
    "log_tpm.head()"
   ]
  },
  {
   "cell_type": "code",
   "execution_count": null,
   "id": "8c791b24",
   "metadata": {},
   "outputs": [],
   "source": [
    "# diag_kindオプションで対角線上のグラフの種類を指定 {'auto', 'hist', 'kde', None}\n",
    "sns.pairplot(log_tpm, diag_kind='hist')"
   ]
  },
  {
   "cell_type": "markdown",
   "id": "ff800b68",
   "metadata": {},
   "source": [
    "## 2.3. clustermap()\n",
    "clustermap()はヒートマップとデンドログラムを同時に表示してくれる関数。  \n",
    "ここでは、DEGsを抽出して、発現量を可視化してみる。"
   ]
  },
  {
   "cell_type": "code",
   "execution_count": null,
   "id": "350d26c1",
   "metadata": {},
   "outputs": [],
   "source": [
    "# 上で作成した'is_DEG' arrayを使って、log10tpmのマトリクスからDEGsのみを抽出する\n",
    "log_tpm_DEG = log_tpm.loc[is_DEG, :]\n",
    "log_tpm_DEG"
   ]
  },
  {
   "cell_type": "code",
   "execution_count": null,
   "id": "0ade0690-1e6e-40e9-b2cd-c7fbf8b232f9",
   "metadata": {},
   "outputs": [],
   "source": [
    "# methodでクラスタリング方法、metricで距離の定義を指定する。\n",
    "sns.clustermap(log_tpm_DEG, method='ward', metric='euclidean', cmap='YlOrRd', )"
   ]
  },
  {
   "cell_type": "markdown",
   "id": "60ee51a4",
   "metadata": {},
   "source": [
    "## ベン図  \n",
    "matplotやseabornにはベン図を作成する関数は用意されていない。そこで、matplotlib_vennライブラリを使用する。  \n",
    "ベン図を作るために、各円で表示したい要素の集合をset型で用意する。（ここでは、遺伝子のリストを作って、set()関数で型を変更してから渡す）"
   ]
  },
  {
   "cell_type": "code",
   "execution_count": null,
   "id": "e74f1477-7043-461b-ba1d-ef02ab8699e5",
   "metadata": {},
   "outputs": [],
   "source": [
    "# wtとmutantのそれぞれで高発現している遺伝子のリストを取得。（5という数値は適当に設定した）\n",
    "genes_wt = log2_tpm_mean[log2_tpm_mean['wt'] >= 5].index.tolist()\n",
    "genes_mutant = log2_tpm_mean[log2_tpm_mean['mutant'] >= 5].index.tolist()\n",
    "\n",
    "#　高発現遺伝子の行の行名を要素とするリストが作られた\n",
    "print('wtで高発現：', len(genes_wt))\n",
    "print('リストの頭３要素：', genes_wt[:3])\n",
    "print('mutantで高発現：', len(genes_mutant))\n",
    "print('リストの頭３要素：', genes_mutant[:3])"
   ]
  },
  {
   "cell_type": "code",
   "execution_count": null,
   "id": "87238e70-f90d-4aa2-a4fb-e730d21dd717",
   "metadata": {},
   "outputs": [],
   "source": [
    "# 2円のベン図にはvenn2モジュールを使う。先ほど作成したリストをset型にし、それをリストにしたものを渡す。\n",
    "from matplotlib_venn import venn2\n",
    "\n",
    "venn2([set(genes_wt), set(genes_mutant)], set_labels = ('wt', 'mutant'))"
   ]
  },
  {
   "cell_type": "markdown",
   "id": "351b4c3a-d88a-4946-bf07-cecc5730762a",
   "metadata": {},
   "source": [
    "3円の場合には、venn3モジュールを使う。  \n",
    "wtの高発現遺伝子、mutantの高発現遺伝子、に加えて発現変動遺伝子(DEGs)をベン図で表してみる。"
   ]
  },
  {
   "cell_type": "code",
   "execution_count": null,
   "id": "a8314868-f52d-43ca-b90e-dde4ea5021de",
   "metadata": {},
   "outputs": [],
   "source": [
    "from matplotlib_venn import venn3\n",
    "\n",
    "# DEGsの遺伝子のリストを取得する\n",
    "DEGs = log_tpm_DEG.index.tolist()\n",
    "print('DEGs：', len(DEGs))\n",
    "print('リストの頭３要素：', DEGs[:3])\n",
    "\n",
    "# venn2と使い方は一緒。\n",
    "v = venn3([set(genes_wt), set(genes_mutant), set(DEGs)], set_labels=('wt','mutant', 'DEGs'))"
   ]
  },
  {
   "cell_type": "markdown",
   "id": "6ba47f1a-05e1-4a3b-855a-fea57a1e5879",
   "metadata": {},
   "source": [
    "# 4. 説明しなかった部分の説明"
   ]
  },
  {
   "cell_type": "markdown",
   "id": "acffc0aa-03ec-4d24-9142-9c27f1bcca5e",
   "metadata": {},
   "source": [
    "## 4.1. FacetGridを使って、Joyplotを作成する\n",
    "FacetGridの使い方の詳細はSeaborn公式ホームページを参照：\n",
    "https://seaborn.pydata.org/generated/seaborn.FacetGrid.html"
   ]
  },
  {
   "cell_type": "code",
   "execution_count": null,
   "id": "f3d13041-75d7-46de-9e57-b2d317d7c8f5",
   "metadata": {},
   "outputs": [],
   "source": [
    "# グラフが重なっても見た目が綺麗になるように設定。\n",
    "## axesの背景色設定では、rgba(red, green, blue, alpha)を指定して透明にしている。alpha=0は透明。\n",
    "sns.set_theme(style='white', rc={'axes.facecolor': (0, 0, 0, 0)})\n",
    "\n",
    "# FacetGridオブジェクトを作成\n",
    "## row='sample'と指定することで、sampleごとに行方向（縦方向）にグラフを並べる。\n",
    "## aspectはグラフの縦横比、heightはグラフの高さ\n",
    "## FacetGridオブジェクトを作って、gに代入（リンクを貼る）という操作をしている。\n",
    "g = sns.FacetGrid(log_tpm_long, row='sample', hue='sample', aspect=10, height=0.5)\n",
    "\n",
    "# それぞれのFacetにヒストグラムを追加する\n",
    "## mapはFacetGridで作られた各Axesオブジェクトに対して、第１引数で指定した関数を実行するメソッド\n",
    "## ここでは各Facet（のAxes）にlog_tpmのヒストグラムをマップする、という操作。\n",
    "g.map(sns.histplot, 'log_tpm')\n",
    "\n",
    "# 各グラフにラベルを追加するlabel関数を定義する\n",
    "## mapメソッドの第一引数にくる関数は、colorとlabelをオプションとして持つ必要がある。\n",
    "def label(x, color, label):\n",
    "    # axは現在のAxesとする。こうすることで、FacetGridで作られた各Axesに対して一つづつ関数を実行できる。\n",
    "    ax = plt.gca()\n",
    "    # textをx座標=0, y座標=20%の位置、colorはseabornで自動的に割り振られたcolor、ha/vaでtextの右端・高さ中心が指定の位置に来るように調整、transformで各Axesの中の指定の位置（x=0,y=20%）に対して位置合わせするように指定。\n",
    "    ax.text(0, 0.2, label, color=color, ha='right', va='center', transform=ax.transAxes)\n",
    "# sample列のデータに対してlabel関数を適用する。sample列の文字列が上で定義された位置に表示される。\n",
    "g.map(label, 'sample')\n",
    "\n",
    "# Facet間の高さを-70%にすることでグラフを重ねる。\n",
    "g.figure.subplots_adjust(hspace=-0.7)\n",
    "\n",
    "# 軸の書式設定\n",
    "g.set_titles('')\n",
    "g.set(yticks=[], ylabel='')\n",
    "g.set_xlabels('log10(TPM)')\n",
    "g.despine(left=True)"
   ]
  }
 ],
 "metadata": {
  "kernelspec": {
   "display_name": "Python 3 (ipykernel)",
   "language": "python",
   "name": "python3"
  },
  "language_info": {
   "codemirror_mode": {
    "name": "ipython",
    "version": 3
   },
   "file_extension": ".py",
   "mimetype": "text/x-python",
   "name": "python",
   "nbconvert_exporter": "python",
   "pygments_lexer": "ipython3",
   "version": "3.11.7"
  }
 },
 "nbformat": 4,
 "nbformat_minor": 5
}
