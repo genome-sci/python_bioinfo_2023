{
 "cells": [
  {
   "cell_type": "markdown",
   "id": "f35fa007-c556-457d-8ddf-294a3eedd70c",
   "metadata": {},
   "source": [
    "# 視覚化(matplotlib, seaborn) 資料1"
   ]
  },
  {
   "cell_type": "markdown",
   "id": "34edc2d7-9218-4158-b81a-b242e9d524fd",
   "metadata": {},
   "source": [
    "# 1. matplotlibを用いた作図"
   ]
  },
  {
   "cell_type": "markdown",
   "id": "de48a854-c053-4c5e-9fed-c9ef4daae9fd",
   "metadata": {},
   "source": [
    "まず、matplotlibライブラリーに含まれるpyplotモジュールをインポートする。  \n",
    "書籍やWebサイトで「%matplotlib inlineが必要」と書かれる場合がある、比較的新しいjupyter notebookではデフォルト設定となっているため不要。"
   ]
  },
  {
   "cell_type": "code",
   "execution_count": null,
   "id": "e5098d7e",
   "metadata": {},
   "outputs": [],
   "source": [
    "import numpy as np\n",
    "import pandas as pd\n",
    "import matplotlib.pyplot as plt"
   ]
  },
  {
   "cell_type": "markdown",
   "id": "f9ea42e8",
   "metadata": {},
   "source": [
    "# 1.1. matplotlib の基本操作"
   ]
  },
  {
   "cell_type": "markdown",
   "id": "365e5a49-a4b2-4eaa-a8e6-6bf8fe9f6ec4",
   "metadata": {},
   "source": [
    "# 1.1.1. Figureクラス、Axesクラス\n",
    "matplotlibでは「キャンバス上にここのパーツを置いていく」イメージで作図していく。  \n",
    "はじめに、図のキャンバスとなるFigureクラスオブジェクト、その上に個々のグラフ領域であるAxesクラスオブジェクトをインスタンス化してみる。\n",
    "\n",
    "補足：「command」 + 「/」 でコメントをつけ外しできる。"
   ]
  },
  {
   "cell_type": "code",
   "execution_count": null,
   "id": "e68196b7",
   "metadata": {},
   "outputs": [],
   "source": [
    "# 描画領域を定義 (figsizeはデフォルトでは6.4vs4.8インチ)\n",
    "fig = plt.figure(figsize=(4, 3), facecolor='yellow')\n",
    "ax = fig.add_subplot()\n",
    "\n",
    "# subplots関数はfigureオブジェクト、axesオブジェクトを同時に作成\n",
    "# fig, ax = plt.subplots(figsize=(4, 3), facecolor='yellow')"
   ]
  },
  {
   "cell_type": "markdown",
   "id": "0d7632fe-5850-41a0-9970-ef03cda301e2",
   "metadata": {},
   "source": [
    "Axesクラスのメソッドを呼び出すことで、グラフの構成要素(Artist)を作成する。  \n",
    "* .plotメソッド：線グラフを表示する\n",
    "* .set_x(y)labelメソッド：軸のラベルを追加する\n",
    "\n",
    "※ %matplotlib inlineがデフォルトで指定されているため、fig.show()は不要。"
   ]
  },
  {
   "cell_type": "code",
   "execution_count": null,
   "id": "2da80d7d-41ac-4d95-82f4-1e4fb66502b7",
   "metadata": {},
   "outputs": [],
   "source": [
    "# データを作成\n",
    "x = [1.0, 2.0, 3.0, 4.0, 5.0]\n",
    "y = [1.2, 2.5, 3.4, 3.3, 2.8]\n",
    "\n",
    "# 描画領域を定義\n",
    "fig = plt.figure(figsize=(4, 3))\n",
    "ax = fig.add_subplot()\n",
    "\n",
    "# グラフの描画\n",
    "ax.plot(x,y)\n",
    "ax.set_xlabel('X_axis')\n",
    "ax.set_ylabel('Y_axis')"
   ]
  },
  {
   "cell_type": "markdown",
   "id": "c7fc709b-aecd-4f69-8874-49934817a661",
   "metadata": {},
   "source": [
    "## 1.1.2. matplotlibの２つの記述方法（インターフェース）\n",
    "matplotlibには以下の２通りの記述方法が用意されている。  \n",
    "* object-orientedインターフェース：Figureクラス、Axesクラスのオブジェクトを作成し、それらのメソッドで実行  \n",
    "* state-basedインターフェース：すべての操作をpyplotの関数で実行\n",
    "  \n",
    "後者の方が記述量が少なくすむが、本講義ではグラフ上のオブジェクトがイメージしやすい前者を扱う。\n",
    "\n",
    "参照：Matplotlibの公式サイト「Quick start guide - Coding styles」 https://matplotlib.org/stable/users/explain/quick_start.html"
   ]
  },
  {
   "cell_type": "code",
   "execution_count": null,
   "id": "fb0cce7f-08f2-41e7-8138-878d43fa5a2f",
   "metadata": {},
   "outputs": [],
   "source": [
    "# 一つ前の操作をstate-basedインターフェースで行う例\n",
    "plt.figure(figsize=(4, 3))\n",
    "plt.plot(x, y)\n",
    "plt.xlabel('X_axis')\n",
    "plt.ylabel('Y_axis')"
   ]
  },
  {
   "cell_type": "markdown",
   "id": "f5efa01e-866a-4ccc-8c2f-b92d1efa22c2",
   "metadata": {},
   "source": [
    "## 1.1.3. グラフにさまざまな構成要素（Artist）を追加する\n",
    "Axesクラスに用意されているメソッドを使って、グラフにさまざまなArtistを追加してみる。  \n",
    "グラフの保存にはsavefig()メソッドを用いる。ファイル名で、保存先のディレクトリやファイル形式を指定できる。\n",
    "\n",
    "===　参照　===  \n",
    "Artistリスト\n",
    "https://matplotlib.org/stable/users/explain/quick_start.html  \n",
    "ポイントの種類リスト\n",
    "https://matplotlib.org/stable/api/markers_api.html  \n",
    "色のさまざまな指定方法 ー 名前('blue')、省略形('b')、RGB表記('#0000ff')など https://matplotlib.org/stable/users/explain/colors/colors.html#sphx-glr-users-explain-colors-colors-py"
   ]
  },
  {
   "cell_type": "code",
   "execution_count": null,
   "id": "d4624968-e4ec-4d4f-bc44-4cddb8be9d0b",
   "metadata": {},
   "outputs": [],
   "source": [
    "# データを作成\n",
    "x = [1.0, 2.0, 3.0, 4.0, 5.0]\n",
    "y1 = [1.2, 2.5, 3.4, 3.3, 2.8]\n",
    "y2 = [2.0, 1.5, 1.4, 1.3, 3.2]\n",
    "\n",
    "# 描画領域を定義\n",
    "fig = plt.figure(figsize=(4, 3))\n",
    "ax = fig.add_subplot()\n",
    "\n",
    "# グラフの描画。複数のグラフを表示したいときはそのまま書けばOK\n",
    "ax.plot(x, y1, marker='o', color='blue')\n",
    "ax.plot(x, y2, marker='^', color='red')\n",
    "\n",
    "# 軸ラベルの追加\n",
    "ax.set_xlabel('X_axis')\n",
    "ax.set_ylabel('Y_axis')\n",
    "\n",
    "# 凡例を追加　（labelの指定が必要）\n",
    "# ax.legend(loc='upper left')\n",
    "\n",
    "# グリッドを追加\n",
    "# ax.grid(True)\n",
    "\n",
    "# 軸範囲を設定\n",
    "# ax.set_ylim(0, 4)\n",
    "\n",
    "# 図を保存。dpiは解像度。\n",
    "# fig.savefig('./output/LinePlots.png', dpi=100)"
   ]
  },
  {
   "cell_type": "markdown",
   "id": "5d2dc61f-114d-46d8-b8de-07672e6575f4",
   "metadata": {},
   "source": [
    "## 1.1.4. 複数のグラフを並べる\n",
    "add_subplot(行数, 列数, 順序)でグラフを表示する位置を指定する。  \n",
    "figureクラスのtight_layout()メソッドを指定することで、グラフが重ならないように自動で調整してくれる。\n",
    "\n",
    "※より複雑な配置を扱うためにmatplotlibにはgridspecモジュールが用意されている。"
   ]
  },
  {
   "cell_type": "code",
   "execution_count": null,
   "id": "04db76f0-4f70-47e7-8236-3682708d5c28",
   "metadata": {},
   "outputs": [],
   "source": [
    "fig = plt.figure(facecolor='yellow', figsize=(4, 3))\n",
    "\n",
    "ax1 = fig.add_subplot(2,2,1)\n",
    "ax1.text(0.5, 0.5, 'ax1', fontsize=18, ha='center')\n",
    "ax1.set_ylabel('y_label')\n",
    "\n",
    "ax2 = fig.add_subplot(2,2,2)\n",
    "ax2.text(0.5, 0.5, 'ax2', fontsize=18, ha='center')\n",
    "ax2.set_ylabel('y_label')\n",
    "\n",
    "ax3 = fig.add_subplot(2,2,3)\n",
    "ax3.text(0.5, 0.5, 'ax3', fontsize=18, ha='center')\n",
    "ax3.set_ylabel('y_label')\n",
    "\n",
    "ax4 = fig.add_subplot(2,2,4)\n",
    "ax4.text(0.5, 0.5, 'ax4', fontsize=18, ha='center')\n",
    "ax4.set_ylabel('y_label')\n",
    "\n",
    "# fig.tight_layout()"
   ]
  },
  {
   "cell_type": "markdown",
   "id": "3ae37879",
   "metadata": {},
   "source": [
    "# 1.2. matplotlibを用いたグラフの作成\n",
    "次に、matplotlibで以下の4種類のグラフを作成する。  \n",
    "* ヒストグラム\n",
    "* 散布図\n",
    "* 棒グラフ\n",
    "* 箱髭図（jitterプロット）\n",
    "\n",
    "ここでは、irisデータセットを可視化してみよう。"
   ]
  },
  {
   "cell_type": "code",
   "execution_count": null,
   "id": "d9afd305-17a9-4a98-b2a3-8e3e573e81b7",
   "metadata": {},
   "outputs": [],
   "source": [
    "# load_dataset()関数を使用するためにseabornをインポートする。\n",
    "import seaborn as sns\n",
    "iris = sns.load_dataset('iris')"
   ]
  },
  {
   "cell_type": "markdown",
   "id": "b2c98395-16b5-452d-92f6-686986471115",
   "metadata": {},
   "source": [
    "irisデータセットは、３種のあやめ（setosa, versicolor, virginica）各50サンプルについて、以下の4項目のデータを含む。\n",
    "* Sepal Length: がく片の長さ（cm）  \n",
    "* Sepal Width: がく片の幅（cm）  \n",
    "* Petal Length: 花びらの長さ（cm）  \n",
    "* Petal Width: 花びらの幅（cm）"
   ]
  },
  {
   "cell_type": "markdown",
   "id": "b0659d86-b9b3-41f7-a339-c87b674f242a",
   "metadata": {},
   "source": [
    "<img src=\"sources/iris.png\" alt=\"iris\" width=\"700\">"
   ]
  },
  {
   "cell_type": "code",
   "execution_count": null,
   "id": "56aff2a5-e7c3-4b07-8262-8f2b28ad4d09",
   "metadata": {},
   "outputs": [],
   "source": [
    "# データの中身を確認する\n",
    "iris"
   ]
  },
  {
   "cell_type": "markdown",
   "id": "d3abc681-09df-474d-9392-19640421fefb",
   "metadata": {},
   "source": [
    "## 1.2.1. ヒストグラム「ax.hist()」\n",
    "ヒストグラムは量的データの分布を可視化する有力なグラフである。まず、がく片の長さ(sepal_length)の分布を見てみよう。  \n",
    "bin数の指定には、統計量(スタージェスの公式など)を用いる方法や数を直接指定する方法がある。(デフォルトではbins = 10)\n",
    "\n"
   ]
  },
  {
   "cell_type": "code",
   "execution_count": null,
   "id": "ed25a077-3140-40be-b563-3607b8aa9408",
   "metadata": {},
   "outputs": [],
   "source": [
    "fig = plt.figure(figsize=(4,3))\n",
    "ax = fig.add_subplot()\n",
    "\n",
    "# ヒストグラムを描画\n",
    "ax.hist(iris.sepal_length, bins='sturges')\n",
    "\n",
    "# X軸ラベルを記述\n",
    "ax.set_xlabel('sepal length [cm]')"
   ]
  },
  {
   "cell_type": "markdown",
   "id": "92607645-419f-453b-9d07-4f64efc73f8e",
   "metadata": {},
   "source": [
    "３種それぞれでヒストグラムを作成して重ねてみよう。  \n",
    "alphaは透明度の設定で、0（透明）から１（不透明）の範囲をとる。"
   ]
  },
  {
   "cell_type": "code",
   "execution_count": null,
   "id": "9fe61e1c-2926-4fa7-bb3a-d50a411ee3f6",
   "metadata": {
    "scrolled": true
   },
   "outputs": [],
   "source": [
    "# speciesごとにデータを分割\n",
    "setosa = iris[iris.species == 'setosa']\n",
    "versicolor = iris[iris.species == 'versicolor']\n",
    "virginica = iris[iris.species == 'virginica']\n",
    "\n",
    "# ヒストグラムを描画\n",
    "fig = plt.figure(figsize=(4,3))\n",
    "ax = fig.add_subplot()\n",
    "ax.hist(setosa.sepal_length, bins='sturges', alpha=0.3, label='setosa', color='blue')\n",
    "ax.hist(versicolor.sepal_length, bins='sturges', alpha=0.3, label='versicolor', color='green')\n",
    "ax.hist(virginica.sepal_length, bins='sturges', alpha=0.3, label='virginica', color='red')\n",
    "\n",
    "# ラベルとタイトルを設定\n",
    "ax.set_xlabel('sepal length [cm]')\n",
    "ax.legend()"
   ]
  },
  {
   "cell_type": "markdown",
   "id": "7a72fcee-6b24-4a4e-a351-cb34d3a6ddc8",
   "metadata": {},
   "source": [
    "次に、ヒストグラムを正規化して表示する。  \n",
    "上のデータは各種50サンプルで揃っていましたが、総数が異なるデータについて比較する際にはヒストグラムを正規化すると比較しやすくなる。  \n",
    "ここでは、versicolorのがく片の長さ（50サンプル）と３種すべてのがく片の長さ（150サンプル）を重ねてヒストグラムを作成する。"
   ]
  },
  {
   "cell_type": "code",
   "execution_count": null,
   "id": "48ed88ef-dd60-43cf-9237-5c9affd63b0a",
   "metadata": {},
   "outputs": [],
   "source": [
    "# 対象データを変数に代入\n",
    "x1 = versicolor.sepal_length\n",
    "x2 = iris.sepal_length\n",
    "\n",
    "# ヒストグラムを描画\n",
    "fig = plt.figure(figsize=(9,3))\n",
    "\n",
    "# 正規化なし\n",
    "ax1 = fig.add_subplot(1,3,1)\n",
    "ax1.hist(x1, bins='sturges', alpha=0.3, label='versicolor')\n",
    "ax1.hist(x2, bins='sturges', alpha=0.3, label='All')\n",
    "ax1.set_title('Un-normalized')\n",
    "\n",
    "# density=Trueを指定すると、ヒストグラムの合計面積が１になるように正規化される。\n",
    "ax2 = fig.add_subplot(1,3,2)\n",
    "ax2.hist(x1, bins='sturges', alpha=0.3, density=True)\n",
    "ax2.hist(x2, bins='sturges', alpha=0.3, density=True)\n",
    "ax2.set_title('density')\n",
    "\n",
    "# 高さの合計を１にするには、weightsオプションを指定する。[1/データ数]をデータ数個分並べたリストを指定することで、すべてのデータの重みをデータ数で割る。\n",
    "ax3 = fig.add_subplot(1,3,3)\n",
    "ax3.hist(x1, bins=7, alpha=0.3, weights=[1/len(x1)] * len(x1))\n",
    "ax3.hist(x2, bins=9, alpha=0.3, weights=[1/len(x2)] * len(x２))\n",
    "ax3.set_title('hight')\n",
    "\n",
    "# 凡例を追加（figureオブジェクトのメソッドを使用）\n",
    "fig.legend(bbox_to_anchor=(1.15, 0.3))\n",
    "fig.tight_layout()"
   ]
  },
  {
   "cell_type": "markdown",
   "id": "5fb2408a-d5f1-4698-8104-99454811e1e7",
   "metadata": {},
   "source": [
    "## 1.2.2. 散布図　「ax.scatter()」\n",
    "散布図は２つのパラメーターの相関関係を見る有力なグラフである。  \n",
    "ここでは、irisデータセットでがく片の長さとがく片の太さの関係を見てみる。"
   ]
  },
  {
   "cell_type": "code",
   "execution_count": null,
   "id": "ae40402a",
   "metadata": {},
   "outputs": [],
   "source": [
    "fig = plt.figure(figsize=(4,3))\n",
    "ax = fig.add_subplot()\n",
    "\n",
    "# 散布図を描画\n",
    "ax.scatter(iris.sepal_length, iris.sepal_width)\n",
    "ax.set_xlabel('sepal length [cm]')\n",
    "ax.set_ylabel('petal length [cm]')"
   ]
  },
  {
   "cell_type": "markdown",
   "id": "69f27a08-03c0-4f88-8960-93fd48d8c873",
   "metadata": {},
   "source": [
    "上の散布図は３種が混ざった状態である。種ごとに色分けして作図してみよう。  \n",
    "ヒストグラムの際は、同じような行を3回繰り返し記述したが、ここではforループを使ってみる。"
   ]
  },
  {
   "cell_type": "code",
   "execution_count": null,
   "id": "baa8b519-ae1d-43b2-a154-c08f6a4f9fe2",
   "metadata": {},
   "outputs": [],
   "source": [
    "# 種のリストを作成(set関数で重複がない集合として取り出す)\n",
    "species_list = list(set(iris.species))\n",
    "species_list"
   ]
  },
  {
   "cell_type": "code",
   "execution_count": null,
   "id": "c78c3f79-34ff-4f47-b23d-58d579290b70",
   "metadata": {},
   "outputs": [],
   "source": [
    "# 描画領域の作成\n",
    "fig = plt.figure(figsize=(4,3))\n",
    "ax = fig.add_subplot()\n",
    "\n",
    "# データフレームから、species列が各種に一致した行のみを抽出して作図する作業を繰り返す。\n",
    "for i in species_list:\n",
    "    data = iris[iris.species == i]\n",
    "    ax.scatter(data.sepal_length, data.sepal_width, label = i)\n",
    "    \n",
    "ax.set_xlabel('sepal length [cm]')\n",
    "ax.set_ylabel('sepal width [cm]')\n",
    "ax.legend()"
   ]
  },
  {
   "cell_type": "markdown",
   "id": "f9bef2f2-2f9e-493c-be77-0b7fb80730ce",
   "metadata": {},
   "source": [
    "散布図に近似線を追加する。  \n",
    "numpyのpolyfit()関数で近似式を計算し、ax.plot()関数で直線を追加する。  "
   ]
  },
  {
   "cell_type": "code",
   "execution_count": null,
   "id": "9b5374fe-7454-485c-bbf7-92a70059a1b1",
   "metadata": {},
   "outputs": [],
   "source": [
    "# 詳細は巻末に記載 -> 3.1.\n",
    "fig = plt.figure(figsize=(4,3))\n",
    "ax = fig.add_subplot()\n",
    "\n",
    "# species_list['versicolor', 'virginica', 'setosa']を一つずつ作図\n",
    "for i in [0, 1, 2]:\n",
    "    data = iris[iris.species == species_list[i]]\n",
    "    x = data.sepal_length\n",
    "    y = data.sepal_width\n",
    "    ax.scatter(x, y, label = species_list[i])\n",
    "    \n",
    "    # 近似式を計算して作図。傾きa, 切片bとして一次関数でフィッティングする。　\n",
    "    a, b = np.polyfit(x, y, 1)\n",
    "    ax.plot(x, a * x + b)\n",
    "    equation = f\"{species_list[i]}: y = {a:.2f}x + {b:.2f}\"\n",
    "    ax.text(8.5, 4.5-i, equation, fontsize=12)\n",
    "\n",
    "ax.set_xlabel('sepal length [cm]')\n",
    "ax.set_ylabel('sepal width [cm]')\n",
    "ax.legend(loc = 'upper center', bbox_to_anchor=(0.5, 1.2), ncol=3)"
   ]
  },
  {
   "cell_type": "markdown",
   "id": "e61a2c7e-718c-473a-b79b-58c1bbb7f892",
   "metadata": {},
   "source": [
    "## 1.2.3. 棒グラフ 「ax.bar()」\n",
    "棒グラフは、異なるグループ間でパラメーターを比較する際に基本的な手法である。  \n",
    "ここでは、がく片の長さ、がく片の太さ、花びらの長さ、花びらの太さについて棒グラフで視覚化してみる。  \n",
    "\n",
    "棒グラフは一般的に、群の平均値と標準偏差を用いて作図する。はじめにpandasのメソッドを用いて統計量を計算しておく。"
   ]
  },
  {
   "cell_type": "code",
   "execution_count": null,
   "id": "ff562ea8-a722-41ee-9359-57d2f858d84a",
   "metadata": {
    "scrolled": true
   },
   "outputs": [],
   "source": [
    "# 数値の列を抽出し、aggregateメソッドを使って列ごとの統計量を取得する。\n",
    "stats = iris.iloc[:, 0:4].aggregate(['mean', 'std']).T\n",
    "stats"
   ]
  },
  {
   "cell_type": "code",
   "execution_count": null,
   "id": "b73252f4-c481-44af-a805-fbcd7869c735",
   "metadata": {},
   "outputs": [],
   "source": [
    "# 対象データを変数に代入。\n",
    "x = stats.index\n",
    "y = stats['mean']\n",
    "err = stats['std']\n",
    "\n",
    "# エラーバーの表示に関するオプションを定義（lw=縦線の太さ、capthick=キャップの線の太さ、capsize=キャップの幅）\n",
    "error_bar_set = dict(lw=1, capthick=1, capsize=10)\n",
    "\n",
    "# 棒グラフを描画\n",
    "fig = plt.figure(figsize=(4, 3))\n",
    "ax = fig.add_subplot()\n",
    "ax.bar(x, y, yerr=err, error_kw=error_bar_set)\n",
    "\n",
    "# x軸ラベルを回転させてみやすく (１行目で軸ラベルの位置を指定しておく)\n",
    "# ax.set_xticks([0, 1, 2, 3])\n",
    "# ax.set_xticklabels(x, rotation=15)"
   ]
  },
  {
   "cell_type": "markdown",
   "id": "a1aa65dd-f524-446c-82fd-e7d68b94db58",
   "metadata": {},
   "source": [
    "上の棒グラフは３種が混ざった状態である。種ごとに分けて表示してみよう。  \n",
    "まず、種ごとに統計値（平均値、標準偏差）を計算する。"
   ]
  },
  {
   "cell_type": "code",
   "execution_count": null,
   "id": "142ec192-28e1-4091-981f-f6a91f505d13",
   "metadata": {
    "scrolled": true
   },
   "outputs": [],
   "source": [
    "# 詳細は巻末に記載 -> 3.2.\n",
    "stats = pd.DataFrame(index=['sepal_length', 'sepal_width', 'petal_length', 'petal_width'])\n",
    "for i in species_list:\n",
    "    species_data = iris[iris['species'] == i]\n",
    "    species_mean = species_data.iloc[:,0:4].mean()\n",
    "    species_std = species_data.iloc[:,0:4].std()\n",
    "    stats[f'{i}_mean'] = species_mean\n",
    "    stats[f'{i}_std'] = species_std\n",
    "stats"
   ]
  },
  {
   "cell_type": "markdown",
   "id": "df04e75a-34ce-4b4e-969e-c3578d3745ff",
   "metadata": {},
   "source": [
    "次は３種のデータを積み上げグラフで表示する。  \n",
    "積み上げにするには、bottomオプションにすでに表示しているデータの上端を指定する。"
   ]
  },
  {
   "cell_type": "code",
   "execution_count": null,
   "id": "bf48f6ae-471f-4d82-ad6e-6e5f353c5f0f",
   "metadata": {},
   "outputs": [],
   "source": [
    "# 対象データを変数に代入。\n",
    "x = stats.index\n",
    "y1 = stats.setosa_mean\n",
    "y2 = stats.versicolor_mean\n",
    "y3 = stats.virginica_mean\n",
    "err1 = stats.setosa_std\n",
    "err2 = stats.versicolor_std\n",
    "err3 = stats.virginica_std\n",
    "# エラーバーの表示に関するオプションを定義\n",
    "error_bar_set = dict(lw = 1, capthick = 1, capsize = 5)\n",
    "\n",
    "# 棒グラフを描画\n",
    "fig = plt.figure(figsize=(4, 3))\n",
    "ax = fig.add_subplot()\n",
    "\n",
    "ax.bar(x, y1, yerr=err1, error_kw=error_bar_set, label = 'setosa')\n",
    "ax.bar(x, y2, yerr=err2, error_kw=error_bar_set, label = 'versicolor', bottom=y1)\n",
    "ax.bar(x, y3, yerr=err3, error_kw=error_bar_set, label = 'virginica', bottom=y1 + y2)\n",
    "\n",
    "# x軸ラベルを回転させてみやすく\n",
    "ax.set_xticks([0, 1, 2, 3])\n",
    "ax.set_xticklabels(stats.index, rotation=15)\n",
    "ax.legend()"
   ]
  },
  {
   "cell_type": "markdown",
   "id": "08211845-c051-4021-b35e-395e9a4e1c5a",
   "metadata": {},
   "source": [
    "種を横並びにして、４つのパラメーターを棒グラフにする。  \n",
    "横並びにするためには、棒の幅を狭くしつつ、適度に横ずらししながら描画する。"
   ]
  },
  {
   "cell_type": "code",
   "execution_count": null,
   "id": "f79a36d2-2884-45e0-9859-27055882868f",
   "metadata": {},
   "outputs": [],
   "source": [
    "# 対象データを変数に代入。（x軸はずれの計算のために数値で指定しておく）\n",
    "x = np.array([1, 2, 3, 4])\n",
    "y1 = stats.setosa_mean\n",
    "y2 = stats.versicolor_mean\n",
    "y3 = stats.virginica_mean\n",
    "err1 = stats.setosa_std\n",
    "err2 = stats.versicolor_std\n",
    "err3 = stats.virginica_std\n",
    "error_bar_set = dict(lw = 1, capthick = 1, capsize = 2)\n",
    "\n",
    "# 棒グラフを描画\n",
    "fig = plt.figure(figsize=(4, 3))\n",
    "ax = fig.add_subplot()\n",
    "\n",
    "ax.bar(x - 0.2, y1, width = 0.2, yerr=err1, error_kw=error_bar_set, label = 'setosa')\n",
    "ax.bar(x + 0.0, y2, width = 0.2, yerr=err2, error_kw=error_bar_set, label = 'versicolor')\n",
    "ax.bar(x + 0.2, y3, width = 0.2, yerr=err3, error_kw=error_bar_set, label = 'virginica')\n",
    "\n",
    "# x軸ラベルを回転させてみやすく\n",
    "ax.set_xticks([1, 2, 3, 4])\n",
    "ax.set_xticklabels(stats.index, rotation=15)\n",
    "ax.legend(loc = 'upper center', bbox_to_anchor=(0.5, 1.2), ncol=3)"
   ]
  },
  {
   "cell_type": "markdown",
   "id": "4908fd81-b5d7-418f-b73e-bb69b7da1de1",
   "metadata": {},
   "source": [
    "## 1.2.4. 箱髭図「ax.boxplot()」 (&ジッタープロット)\n",
    "3種それぞれのがく片の長さ（sepal_length）を箱髭図で視覚化する。  \n",
    "boxplot()メソッドでは、横軸は指定せず縦軸で示したい数値データをリストで渡す。"
   ]
  },
  {
   "cell_type": "code",
   "execution_count": null,
   "id": "e0458d92",
   "metadata": {},
   "outputs": [],
   "source": [
    "# 3種のsepal_lengthを配列（pandas series）として取り出す\n",
    "y1 = iris[iris.species == 'setosa'].sepal_length\n",
    "y2 = iris[iris.species == 'versicolor'].sepal_length\n",
    "y3 = iris[iris.species == 'virginica'].sepal_length\n",
    "\n",
    "# 箱髭図を作図\n",
    "fig = plt.figure(figsize=(4, 3))\n",
    "ax = fig.add_subplot()\n",
    "ax.boxplot([y1, y2, y3], labels=['setosa', 'versicolor', 'virginica'])\n",
    "\n",
    "# 軸ラベルを追加\n",
    "ax.set_xlabel('species')\n",
    "ax.set_ylabel('sepal length [cm]')"
   ]
  },
  {
   "cell_type": "markdown",
   "id": "316c0131-c2d2-4c0f-9ae7-499e74e26c1f",
   "metadata": {},
   "source": [
    "箱髭図ではデータの概要を比較するのに適している。一方で元のデータの全体像は見えなくしてしまう。生データをそのまま見せるジッタープロットも作成してみよう。  \n",
    "matplotlibにはジッタープロット用のメソッドはないため、x軸を手動でずらしながらscatter plotを作成する。"
   ]
  },
  {
   "cell_type": "code",
   "execution_count": null,
   "id": "16d00046",
   "metadata": {},
   "outputs": [],
   "source": [
    "# 3種のsepal_lengthを配列（pandas series）として取り出す\n",
    "y1 = iris[iris.species == 'setosa'].sepal_length\n",
    "y2 = iris[iris.species == 'versicolor'].sepal_length\n",
    "y3 = iris[iris.species == 'virginica'].sepal_length\n",
    "\n",
    "# x軸の座標 (1, 2, 3) に±0.2の間で連続一様分布の乱数を加える\n",
    "x1 = 1 + np.random.uniform(-0.2, 0.2, len(y1))\n",
    "x2 = 2 + np.random.uniform(-0.2, 0.2, len(y2))\n",
    "x3 = 3 + np.random.uniform(-0.2, 0.2, len(y3))\n",
    "\n",
    "# jitter plot風の散布図を描画\n",
    "fig = plt.figure(figsize=(4, 3))\n",
    "ax = fig.add_subplot()\n",
    "ax.scatter(x1, y1)\n",
    "ax.scatter(x2, y2)\n",
    "ax.scatter(x3, y3)\n",
    "\n",
    "# 軸ラベルを追加\n",
    "ax.set_xticks([1,2,3])\n",
    "ax.set_xticklabels(['setosa', 'versicolor', 'virginica'])"
   ]
  },
  {
   "cell_type": "markdown",
   "id": "e7a874a4-4108-4d38-8dda-0c3008c216f3",
   "metadata": {},
   "source": [
    "箱髭図にジッタープロットを重ねて表示。異なる種類のプロットもそのまま重ねられる。"
   ]
  },
  {
   "cell_type": "code",
   "execution_count": null,
   "id": "0bbb05f0",
   "metadata": {},
   "outputs": [],
   "source": [
    "fig = plt.figure(figsize=(4, 3))\n",
    "ax = fig.add_subplot()\n",
    "\n",
    "# 箱髭図。　外れ値を表示させないためにshowfliers=Falseを指定。\n",
    "ax.boxplot([y1, y2, y3], labels=['leaf', 'stem', 'root'], showfliers=False)\n",
    "\n",
    "# jitter plot風の散布図　（ポイントのサイズを見やすく調整）\n",
    "ax.scatter(x1, y1, s=10)\n",
    "ax.scatter(x2, y2, s=10)\n",
    "ax.scatter(x3, y3, s=10)\n",
    "\n",
    "# 軸ラベルを追加\n",
    "ax.set_xticks([1,2,3])\n",
    "ax.set_xticklabels(['setosa', 'versicolor', 'virginica'])"
   ]
  },
  {
   "cell_type": "markdown",
   "id": "e31dc063-dd9a-4f19-8a98-5be415097b88",
   "metadata": {},
   "source": [
    "# 2. Seabornを用いた作図\n",
    "Seabornは簡単なコマンドでmatplotlibを内部的にコードして複雑なグラフを実現してくれる、matplotlibのラッパーライブラリである。  \n",
    "Seabornの利点は大きく以下の３点。\n",
    "* seabornのスタイルを利用することで綺麗な図を簡単に作れる。\n",
    "* seabornに用意された関数を利用することでシンプルなコードで複雑な図が作れる。\n",
    "* matplotlibでは作れないような複雑なグラフを作る関数が用意されている。"
   ]
  },
  {
   "cell_type": "markdown",
   "id": "a79b48a1-2d59-4e78-a9b9-cbdf94ee75bd",
   "metadata": {},
   "source": [
    "## 2.1. seabornのスタイルを利用してmatplotlibの図を綺麗にする\n",
    "sns.set()関数を指定するだけで、matplotlibで作ったグラフのデザインを変えられる。"
   ]
  },
  {
   "cell_type": "code",
   "execution_count": null,
   "id": "2f78d3c7-8eab-4497-8346-edac400a2338",
   "metadata": {},
   "outputs": [],
   "source": [
    "# seabornをsnsとしてインポート（すでにやったが練習として）\n",
    "import seaborn as sns"
   ]
  },
  {
   "cell_type": "code",
   "execution_count": null,
   "id": "7e49b689",
   "metadata": {},
   "outputs": [],
   "source": [
    "# sns.set() \n",
    "# データを作成\n",
    "x = [1.0, 2.0, 3.0, 4.0, 5.0]\n",
    "y = [1.2, 2.5, 3.4, 3.3, 2.8]\n",
    "\n",
    "# 描画領域を定義\n",
    "fig = plt.figure(figsize=(4, 3))\n",
    "ax = fig.add_subplot()\n",
    "ax.plot(x,y)"
   ]
  },
  {
   "cell_type": "markdown",
   "id": "6eabacb1",
   "metadata": {},
   "source": [
    "seabornのスタイルには darkgrid, dark, whitegrid, white, ticksの５種類があります。一度実行すると、上書きされない限りずっと（他のセルにも）適用されます。"
   ]
  },
  {
   "cell_type": "code",
   "execution_count": null,
   "id": "6f5c377e-dd59-47d5-bc71-78cf0cd88a9a",
   "metadata": {},
   "outputs": [],
   "source": [
    "# 描画領域を定義\n",
    "fig = plt.figure(figsize=(12, 2))\n",
    "\n",
    "sns.set_style('darkgrid')\n",
    "ax1 = fig.add_subplot(1,5,1)\n",
    "ax1.plot(x,y)\n",
    "\n",
    "sns.set_style('dark')\n",
    "ax2 = fig.add_subplot(1,5,2)\n",
    "ax2.plot(x,y)\n",
    "\n",
    "sns.set_style('whitegrid')\n",
    "ax3 = fig.add_subplot(1,5,3)\n",
    "ax3.plot(x,y)\n",
    "\n",
    "sns.set_style('white')\n",
    "ax4 = fig.add_subplot(1,5,4)\n",
    "ax4.plot(x,y)\n",
    "\n",
    "sns.set_style('ticks')\n",
    "ax5 = fig.add_subplot(1,5,5)\n",
    "ax5.plot(x,y)"
   ]
  },
  {
   "cell_type": "markdown",
   "id": "b4b0696c",
   "metadata": {},
   "source": [
    "seabornには綺麗なカラーパレットが複数用意されている。"
   ]
  },
  {
   "cell_type": "code",
   "execution_count": null,
   "id": "9098ce45",
   "metadata": {},
   "outputs": [],
   "source": [
    "# 現在の(matplotlibの)パレット\n",
    "sns.palplot(sns.color_palette(), size=0.5)\n",
    "# カラフルなセット\n",
    "sns.palplot(sns.color_palette(\"Set1\", 10), size=0.5)\n",
    "sns.palplot(sns.color_palette(\"Set2\", 10), size=0.5)\n",
    "# グラデーション\n",
    "sns.palplot(sns.color_palette(\"viridis\", 10), size=0.5)"
   ]
  },
  {
   "cell_type": "code",
   "execution_count": null,
   "id": "b7bb63db",
   "metadata": {},
   "outputs": [],
   "source": [
    "# スタイルとカラーパレットの設定\n",
    "sns.set_style('whitegrid') \n",
    "sns.set_palette('Set1')\n",
    "\n",
    "# データの用意\n",
    "x = np.array([1.0,2.0,3.0,4.0,5.0])\n",
    "y = np.array([1.2,2.5,3.4,3.3,2.8])\n",
    "\n",
    "# 作図\n",
    "fig=plt.figure(figsize=(4, 3)) \n",
    "ax=fig.add_subplot(1,1,1)\n",
    "ax.plot(x,y)\n",
    "ax.plot(x,y+1)\n",
    "ax.plot(x,y+2)\n",
    "ax.plot(x,y+3)\n",
    "ax.plot(x,y+4)"
   ]
  },
  {
   "cell_type": "markdown",
   "id": "3674a0be-9c04-4c74-baff-dcf43bc1b42c",
   "metadata": {},
   "source": [
    "## Seabornに用意された関数で作図\n",
    "Seabornを使うと、複雑なグラフも簡単なコードで作図できることが多い。  \n",
    "例として、棒グラフをSeabornの関数で作成してみよう。"
   ]
  },
  {
   "cell_type": "code",
   "execution_count": null,
   "id": "feff5c33-da49-497b-af28-530ba71473c9",
   "metadata": {
    "scrolled": true
   },
   "outputs": [],
   "source": [
    "# データを再確認\n",
    "iris"
   ]
  },
  {
   "cell_type": "markdown",
   "id": "45684296-811c-4c3e-a14a-0f59917398fd",
   "metadata": {},
   "source": [
    "まずは、matplotlibで横並び棒グラフを作ってみる（先ほどと同じ）  \n",
    "matplotlibは事前に平均と標準偏差を計算する必要があった。"
   ]
  },
  {
   "cell_type": "code",
   "execution_count": null,
   "id": "c898f367-659b-491b-845c-a16d867180bd",
   "metadata": {},
   "outputs": [],
   "source": [
    "# matplotlib用にデータを変換\n",
    "species_list = list(set(iris.species))\n",
    "stats = pd.DataFrame(index=['sepal_length', 'sepal_width', 'petal_length', 'petal_width'])\n",
    "for i in species_list:\n",
    "    species_data = iris[iris['species'] == i]\n",
    "    species_mean = species_data.iloc[:,0:4].mean()\n",
    "    species_std = species_data.iloc[:,0:4].std()\n",
    "    stats[f'{i}_mean'] = species_mean\n",
    "    stats[f'{i}_std'] = species_std\n",
    "stats"
   ]
  },
  {
   "cell_type": "code",
   "execution_count": null,
   "id": "dcf48465-d936-4160-930d-309001b596cf",
   "metadata": {},
   "outputs": [],
   "source": [
    "# matplotlibで棒グラフ（上で行ったものと同じ）\n",
    "# 対象データを変数に代入。\n",
    "x = np.array([1, 2, 3, 4])\n",
    "y1 = stats.setosa_mean\n",
    "y2 = stats.versicolor_mean\n",
    "y3 = stats.virginica_mean\n",
    "err1 = stats.setosa_std\n",
    "err2 = stats.versicolor_std\n",
    "err3 = stats.virginica_std\n",
    "error_bar_set = dict(lw = 1, capthick = 1, capsize = 2)\n",
    "\n",
    "# 棒グラフを描画\n",
    "fig = plt.figure(figsize=(4, 3))\n",
    "ax = fig.add_subplot()\n",
    "ax.bar(x - 0.2, y1, width = 0.2, yerr=err1, error_kw=error_bar_set, label = 'setosa')\n",
    "ax.bar(x + 0.0, y2, width = 0.2, yerr=err2, error_kw=error_bar_set, label = 'versicolor')\n",
    "ax.bar(x + 0.2, y3, width = 0.2, yerr=err3, error_kw=error_bar_set, label = 'virginica')\n",
    "\n",
    "# x軸ラベルを回転させてみやすく\n",
    "ax.set_xticks([1, 2, 3, 4])\n",
    "ax.set_xticklabels(stats.index, rotation=15)\n",
    "ax.legend(loc = 'upper center', bbox_to_anchor=(0.5, 1.2), ncol=3)"
   ]
  },
  {
   "cell_type": "markdown",
   "id": "3ebf679e-aa4a-491b-9249-da479a96ff8f",
   "metadata": {},
   "source": [
    "次に、Searbonのsns.barplot()関数を使って同様のグラフを書いてみる。  \n",
    "sns.barplot()関数は平均値と標準偏差を自動で算出してくれる。  \n",
    "変換にあたっては、グループ（Species)を一つの列として作ってあげる必要がある。"
   ]
  },
  {
   "cell_type": "code",
   "execution_count": null,
   "id": "38184cf4-d138-4c1d-b791-a3e55d836f9a",
   "metadata": {},
   "outputs": [],
   "source": [
    "# seaborn用にデータを変換。詳細は巻末に記載 -> 3.3.\n",
    "iris_stacked = iris.drop('species', axis=1).stack().reset_index(level=1)\n",
    "iris_stacked.columns = ['variable', 'value']\n",
    "iris_stacked['species'] = iris['species']\n",
    "iris_stacked"
   ]
  },
  {
   "cell_type": "code",
   "execution_count": null,
   "id": "c63890b2-3144-48e8-a6dc-80cfe6220b3b",
   "metadata": {},
   "outputs": [],
   "source": [
    "# 棒グラフの指定・描画\n",
    "fig = plt.figure(figsize=(4, 3))\n",
    "ax = fig.add_subplot()\n",
    "sns.barplot(x=\"variable\", y=\"value\", hue=\"species\", data=iris_stacked, palette='Set1')\n",
    "\n",
    "# x軸ラベルを回転させてみやすく\n",
    "ax.set_xticks([0, 1, 2, 3])\n",
    "ax.set_xticklabels(stats.index, rotation=15)\n",
    "ax.legend(loc = 'upper center', bbox_to_anchor=(0.5, 1.2), ncol=3)"
   ]
  },
  {
   "cell_type": "markdown",
   "id": "629d38e4-72b2-48e6-b5ae-8cefa18b507f",
   "metadata": {},
   "source": [
    "上の例で見たように、\n",
    "* Seabornの関数を使用すると複雑なグラフがシンプルなコードで作成できる。\n",
    "* Seabornの関数では入力で必要なデータの形式がmatplotlibとは異なる。\n",
    "\n",
    "これら違いを生み出す大きな要因は**Seabornはテーブル形式のデータを入力として受け取る**こと。  \n",
    "これにより、どの値がグループなのかを指定するだけで、いいようにグラフを作ってくれる。\n",
    "\n",
    "Seabornでは、それ以外にも複数のグラフを組み合わせたより高度なグラフをシンプルなコードで作成する関数が用意されている。  \n",
    "次の資料では、遺伝子発現データを扱ってSeabornの便利な機能を見ていこう。"
   ]
  },
  {
   "cell_type": "markdown",
   "id": "a3c4ec61-f706-4695-9a86-010324b645dd",
   "metadata": {},
   "source": [
    "# extended: 説明を省いた箇所の説明"
   ]
  },
  {
   "cell_type": "markdown",
   "id": "4fa01862-29e4-4354-9064-3c834d021eb6",
   "metadata": {},
   "source": [
    "## 3.1. 散布図に近似線を追加する"
   ]
  },
  {
   "cell_type": "code",
   "execution_count": null,
   "id": "b3c76bc4-a95f-4d25-b495-a5eda12eb35b",
   "metadata": {},
   "outputs": [],
   "source": [
    "# 描画領域の定義\n",
    "fig = plt.figure(figsize=(4,3))\n",
    "ax = fig.add_subplot()\n",
    "\n",
    "# species_list['versicolor', 'virginica', 'setosa']を一つずつ作図\n",
    "for i in [0, 1, 2]:\n",
    "\n",
    "    # 種ごとのデータを抽出して散布図を作成。次のブロックで使うためにxとyの値を別途代入しておく\n",
    "    data = iris[iris.species == species_list[i]]\n",
    "    x = data.sepal_length\n",
    "    y = data.sepal_width\n",
    "    ax.scatter(x, y, label = species_list[i])\n",
    "    \n",
    "    # 近似式を計算して作図。\n",
    "    ## polyfitで、一次関数でフィッティングし、傾きaと切片bを受け取る。（polyfitの３つ目の引数が次数の指定）\n",
    "    a, b = np.polyfit(x, y, 1)\n",
    "    ## 線グラフを描画（xは実データ、yはフィッティング式で計算）\n",
    "    ax.plot(x, a * x + b)\n",
    "    ## f-stringsを使って、表示すべき数式をequationに代入する。{a:.2f}はaの値を小数点第２位まで表示するという意味。\n",
    "    equation = f\"{species_list[i]}: y = {a:.2f}x + {b:.2f}\"\n",
    "    ## textメソッドで数式を表示する。第１引数はtextを表示数する開始点（左端）、第２引数はtextの高さ。高さを4.5+[0,1,2]とずらしている。\n",
    "    ax.text(8.5, 4.5-i, equation, fontsize=12)\n",
    "\n",
    "ax.set_xlabel('sepal length [cm]')\n",
    "ax.set_ylabel('petal length [cm]')\n",
    "ax.legend(loc = 'upper center', bbox_to_anchor=(0.5, 1.2), ncol=3)"
   ]
  },
  {
   "cell_type": "markdown",
   "id": "7dfa8d6c-e4d2-4740-af94-216a1eac636e",
   "metadata": {},
   "source": [
    "# 3.2. データフレームの集計"
   ]
  },
  {
   "cell_type": "code",
   "execution_count": null,
   "id": "b338ec46-3e72-4ab1-8012-02b4ebe88bc7",
   "metadata": {},
   "outputs": [],
   "source": [
    "# あとでデータを追加していくために、あらかじめ行名だけの空データフレームを作っておく。\n",
    "stats = pd.DataFrame(index=['sepal_length', 'sepal_width', 'petal_length', 'petal_width'])\n",
    "\n",
    "# speciesごとに、各変数の平均値と標準偏差を取得しデータフレームに追加。\n",
    "for i in species_list:\n",
    "    species_data = iris[iris['species'] == i]\n",
    "    ## 各列ごとに平均値と標準偏差を計算する。\n",
    "    species_mean = species_data.iloc[:,0:4].mean()\n",
    "    species_std = species_data.iloc[:,0:4].std()\n",
    "    ## 最初に作った空データフレームに、新しい列として上の計算結果を追加する。その際、f-stringsで列名に種名を入れておく。\n",
    "    stats[f'{i}_mean'] = species_mean\n",
    "    stats[f'{i}_std'] = species_std\n",
    "stats"
   ]
  },
  {
   "cell_type": "markdown",
   "id": "a1878794-4934-4110-a8a5-a8a763f8c7fa",
   "metadata": {},
   "source": [
    "# 3.3. データフレームの変換"
   ]
  },
  {
   "cell_type": "code",
   "execution_count": null,
   "id": "f6a4dae0-8dba-44ac-8a7e-ef331f05f37e",
   "metadata": {},
   "outputs": [],
   "source": [
    "# seaborn用にデータを変換。\n",
    "\n",
    "# 横並びだったデータを縦に重ねる\n",
    "## dropを使って、species列を取り除く\n",
    "## stack関数は、元の行名を(level_0)index、元の列名を(level_1)index、全データを１列に並べたマルチインデックスpandas.seriesを作成する。\n",
    "## reset_indexはindex(行名)をデータに戻す関数。ここでは、level_1 index(sepal_length等)をデータフレームのデータとして扱うようにする。\n",
    "iris_stacked = iris.drop('species', axis=1).stack().reset_index(level=1)\n",
    "\n",
    "# 列名を修正\n",
    "iris_stacked.columns = ['variable', 'value']\n",
    "\n",
    "# 新しく'species'列を追加する。この際、元々のindexに対応した箇所にデータが追加される。\n",
    "iris_stacked['species'] = iris['species']\n",
    "iris_stacked"
   ]
  },
  {
   "cell_type": "code",
   "execution_count": null,
   "id": "f520e8b7-fd10-42c3-98b0-073b5a50dde6",
   "metadata": {},
   "outputs": [],
   "source": []
  }
 ],
 "metadata": {
  "kernelspec": {
   "display_name": "Python 3 (ipykernel)",
   "language": "python",
   "name": "python3"
  },
  "language_info": {
   "codemirror_mode": {
    "name": "ipython",
    "version": 3
   },
   "file_extension": ".py",
   "mimetype": "text/x-python",
   "name": "python",
   "nbconvert_exporter": "python",
   "pygments_lexer": "ipython3",
   "version": "3.11.7"
  }
 },
 "nbformat": 4,
 "nbformat_minor": 5
}
