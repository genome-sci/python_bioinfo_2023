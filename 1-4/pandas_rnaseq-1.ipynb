{
 "cells": [
  {
   "cell_type": "markdown",
   "metadata": {},
   "source": [
    "# RNA-seqカウントデータの前処理(1)"
   ]
  },
  {
   "cell_type": "markdown",
   "metadata": {},
   "source": [
    "- サンプルごとのカウントデータを1つのカウントテーブルにまとめる"
   ]
  },
  {
   "cell_type": "markdown",
   "metadata": {},
   "source": [
    "### 1. カウントテーブルの作成\n",
    "\n",
    "kallistoではサンプル1個ごとのカウントデータが得られます<br>\n",
    "ほかのツールで処理するときは全部のデータをまとめたほうが扱いやすいので、kallistoのカウント結果 `abundance.tsv` をまとめてひとつのカウントテーブルを作ります"
   ]
  },
  {
   "cell_type": "markdown",
   "metadata": {},
   "source": [
    "必要なモジュールをインポートします"
   ]
  },
  {
   "cell_type": "code",
   "execution_count": null,
   "metadata": {},
   "outputs": [],
   "source": [
    "import pandas as pd"
   ]
  },
  {
   "cell_type": "markdown",
   "metadata": {},
   "source": [
    "SRAアクセッションを1行ずつ並べた `SRR_Acc_List.txt` を読み込みます"
   ]
  },
  {
   "cell_type": "code",
   "execution_count": null,
   "metadata": {},
   "outputs": [],
   "source": [
    "# SRAアクセッションを1行ごとに並べたテキストファイルを読み込む\n",
    "# 行末の改行コードを削除\n",
    "sralib=[i[:-1] for i in open('data/SRR_Acc_List.txt','r')]\n",
    "sralib = tuple(sralib) # 順番を変えたくないのでtupleにする\n",
    "sralib"
   ]
  },
  {
   "cell_type": "markdown",
   "metadata": {},
   "source": [
    "kallistoによるカウント結果　abundance.tsvのPATHのリストを作ります<br>\n",
    "`data`フォルダの下の`kallisto`フォルダに、それぞれの結果フォルダが入っています"
   ]
  },
  {
   "cell_type": "code",
   "execution_count": null,
   "metadata": {},
   "outputs": [],
   "source": [
    "kallisto_counts=[]\n",
    "\n",
    "# SRAアクセッションを1つずつ読み込み、カウントデータのPATHを作成する\n",
    "for sra in sralib:\n",
    "    kallisto_counts.append('data/kallisto/' + sra + '_exp_kallisto/abundance.tsv')\n",
    "\n",
    "kallisto_counts = tuple(kallisto_counts) # 順番を変えたくないのでtupleにする"
   ]
  },
  {
   "cell_type": "markdown",
   "metadata": {},
   "source": [
    "確認します"
   ]
  },
  {
   "cell_type": "code",
   "execution_count": null,
   "metadata": {},
   "outputs": [],
   "source": [
    "kallisto_counts"
   ]
  },
  {
   "cell_type": "markdown",
   "metadata": {},
   "source": [
    "`abundance.tsv`を読み込んで、<br>\n",
    "`estimate_count`列と`tpm`列にSRAアクセッションを追加する処理を、<br>\n",
    "`read_countdata()`という関数にしておきます"
   ]
  },
  {
   "cell_type": "code",
   "execution_count": null,
   "metadata": {},
   "outputs": [],
   "source": [
    "# kallisto結果ファイルのPATH（kallisto_count）のn番目(num = n)\n",
    "def read_countdata(num):\n",
    "\n",
    "\t# kallisto結果ファイルの読み込み\n",
    "    df = pd.read_table(kallisto_counts[num],sep='\\t')\n",
    "\n",
    "\t# 'estimate_count'と'tpm'にSRAアクセッションを追加して新しい列名をつくる\n",
    "    newcol1 = 'est_counts_' + sralib[num]\n",
    "    newcol2 = 'tpm_' + sralib[num]\n",
    "\n",
    "\t# 新しい列名に更新\n",
    "    df.rename(columns = {'est_counts':newcol1,'tpm':newcol2}, inplace=True)\n",
    "\n",
    "    return df\n"
   ]
  },
  {
   "cell_type": "markdown",
   "metadata": {},
   "source": [
    "カウントデータを読み込みます"
   ]
  },
  {
   "cell_type": "code",
   "execution_count": null,
   "metadata": {},
   "outputs": [],
   "source": [
    "df0 = read_countdata(0)\n",
    "df1 = read_countdata(1)\n",
    "df2 = read_countdata(2)\n",
    "df3 = read_countdata(3)\n",
    "df4 = read_countdata(4)\n",
    "df5 = read_countdata(5)"
   ]
  },
  {
   "cell_type": "markdown",
   "metadata": {},
   "source": [
    "読み込めているか確認します（いずれも同じ行数になるはず）"
   ]
  },
  {
   "cell_type": "code",
   "execution_count": null,
   "metadata": {},
   "outputs": [],
   "source": [
    "print(len(df0),len(df1),len(df3),len(df3),len(df4),len(df5))"
   ]
  },
  {
   "cell_type": "markdown",
   "metadata": {},
   "source": [
    "df0の最初の5行を表示してみます"
   ]
  },
  {
   "cell_type": "code",
   "execution_count": null,
   "metadata": {},
   "outputs": [],
   "source": [
    "df0.head()"
   ]
  },
  {
   "cell_type": "markdown",
   "metadata": {},
   "source": [
    "`length`列, `eff_length`列（TPMの計算に使う）は最初に読み込んだ分だけでいいので、残りの表から削除します"
   ]
  },
  {
   "cell_type": "code",
   "execution_count": null,
   "metadata": {},
   "outputs": [],
   "source": [
    "df1_count = df1.copy().drop(columns=['length','eff_length'])\n",
    "df2_count = df2.copy().drop(columns=['length','eff_length'])\n",
    "df3_count = df3.copy().drop(columns=['length','eff_length'])\n",
    "df4_count = df4.copy().drop(columns=['length','eff_length'])\n",
    "df5_count = df5.copy().drop(columns=['length','eff_length'])"
   ]
  },
  {
   "cell_type": "markdown",
   "metadata": {},
   "source": [
    "target_idをkeyとして、すべてつなげます"
   ]
  },
  {
   "cell_type": "code",
   "execution_count": null,
   "metadata": {},
   "outputs": [],
   "source": [
    "new_df = pd.merge(df0, df1_count, on = 'target_id')\n",
    "new_df = pd.merge(new_df, df2_count, on = 'target_id')\n",
    "new_df = pd.merge(new_df, df3_count, on = 'target_id')\n",
    "new_df = pd.merge(new_df, df4_count, on = 'target_id')\n",
    "new_df = pd.merge(new_df, df5_count, on = 'target_id')"
   ]
  },
  {
   "cell_type": "markdown",
   "metadata": {},
   "source": [
    "確認します"
   ]
  },
  {
   "cell_type": "code",
   "execution_count": null,
   "metadata": {},
   "outputs": [],
   "source": [
    "new_df.head()"
   ]
  },
  {
   "cell_type": "markdown",
   "metadata": {},
   "source": [
    "`est_counts`と`eff_length` だけのtable、`tpm` だけのtableを作ります<br>\n",
    "列名もSRAアクセッションのみにします"
   ]
  },
  {
   "cell_type": "code",
   "execution_count": null,
   "metadata": {},
   "outputs": [],
   "source": [
    "est_countsとeff_lengthのテーブルを作ります\n",
    "\n",
    "# 削除する列を指定\n",
    "drop_column1 = ['tpm_'+ i for i in sralib]\n",
    "drop_column1.append('length')\n",
    "\n",
    "# 列名est_counts_SRRacc を　SRRaccに変換\n",
    "# 順番と名前が変わったら困るので、辞書で指定する\n",
    "rename_column1 = {'est_counts_'+ i:i for i in sralib}\n",
    "new_df_count = new_df.copy().drop(columns = drop_column1).rename(columns=rename_column1)\n"
   ]
  },
  {
   "cell_type": "markdown",
   "metadata": {},
   "source": [
    "確認します"
   ]
  },
  {
   "cell_type": "code",
   "execution_count": null,
   "metadata": {},
   "outputs": [],
   "source": [
    "new_df_count.head()"
   ]
  },
  {
   "cell_type": "markdown",
   "metadata": {},
   "source": [
    "tpmだけのテーブルを作成\n"
   ]
  },
  {
   "cell_type": "code",
   "execution_count": null,
   "metadata": {},
   "outputs": [],
   "source": [
    "# 削除する列を指定\n",
    "drop_column2 = ['est_counts_'+ i for i in sralib]\n",
    "drop_column2.append('length')\n",
    "drop_column2.append('eff_length')\n",
    "\n",
    "# 列名'est_counts_SRRacc' を　'SRRacc'に変換\n",
    "# 順番と名前が変わったら困るので、辞書で指定する\n",
    "rename_column2 = {'tpm_'+ i:i for i in sralib}\n",
    "new_df_tpm = new_df.copy().drop(columns = drop_column2).rename(columns=rename_column2)"
   ]
  },
  {
   "cell_type": "markdown",
   "metadata": {},
   "source": [
    "確認します"
   ]
  },
  {
   "cell_type": "code",
   "execution_count": null,
   "metadata": {},
   "outputs": [],
   "source": [
    "new_df_tpm.head()"
   ]
  },
  {
   "cell_type": "markdown",
   "metadata": {},
   "source": [
    "タブ区切りファイルとして保存します\n",
    "\n",
    "`pandas.DataFrame`のメソッド `pandas.DataFrame.to_csv()`を使い、タブ区切り`sep = '\\t'`, インデックス列（上の例では0,1,2,3...）を非表示`index=False`にして書き出します"
   ]
  },
  {
   "cell_type": "code",
   "execution_count": null,
   "metadata": {},
   "outputs": [],
   "source": [
    "new_df_count.to_csv('data/counts_kallisto.tsv', sep='\\t',index=False)\n",
    "new_df_tpm.to_csv('data/tpm_kallisto.tsv', sep='\\t',index=False)"
   ]
  },
  {
   "cell_type": "markdown",
   "metadata": {},
   "source": [
    "参考\n",
    "- 実験医学別冊　独習Pythonバイオ情報解析　第6,7章　(2021年、先進ゲノム解析研究推進プラットフォーム編、ISBN978-4-7581-2249-8)\n",
    "- pandas 公式サイト　https://pandas.pydata.org\n",
    "- note.nknk.me pandas関連記事まとめ　https://note.nkmk.me/python-pandas-post-summary/\n",
    "- kallisto を用いた A. thaliana paired-end リードの転写産物の定量 https://bi.biopapyrus.jp/rnaseq/mapping/kallisto/kallisto-paired.html\n",
    "- Quasi-Mappingによって高速にRNA seqの定量を行う Kallisto https://kazumaxneo.hatenablog.com/entry/2018/07/14/180503\n",
    "- kallisto Manual http://pachterlab.github.io/kallisto/manual.html\n"
   ]
  }
 ],
 "metadata": {
  "kernelspec": {
   "display_name": "Python 3 (ipykernel)",
   "language": "python",
   "name": "python3"
  },
  "language_info": {
   "codemirror_mode": {
    "name": "ipython",
    "version": 3
   },
   "file_extension": ".py",
   "mimetype": "text/x-python",
   "name": "python",
   "nbconvert_exporter": "python",
   "pygments_lexer": "ipython3",
   "version": "3.11.7"
  },
  "vscode": {
   "interpreter": {
    "hash": "470257d3213e06cc21fd949635d3f77e8207554903083b38e960c3088cc78b2a"
   }
  }
 },
 "nbformat": 4,
 "nbformat_minor": 2
}
